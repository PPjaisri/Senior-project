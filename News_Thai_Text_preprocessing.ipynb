{
  "nbformat": 4,
  "nbformat_minor": 0,
  "metadata": {
    "colab": {
      "name": "News Thai Text preprocessing.ipynb",
      "provenance": [],
      "collapsed_sections": [],
      "include_colab_link": true
    },
    "kernelspec": {
      "name": "python3",
      "display_name": "Python 3"
    }
  },
  "cells": [
    {
      "cell_type": "markdown",
      "metadata": {
        "id": "view-in-github",
        "colab_type": "text"
      },
      "source": [
        "<a href=\"https://colab.research.google.com/github/PPjaisri/Senior-project/blob/Lion/News_Thai_Text_preprocessing.ipynb\" target=\"_parent\"><img src=\"https://colab.research.google.com/assets/colab-badge.svg\" alt=\"Open In Colab\"/></a>"
      ]
    },
    {
      "cell_type": "markdown",
      "metadata": {
        "id": "mIWbiNOsy4cj"
      },
      "source": [
        "# แปลงเป็น Bag of words ข่าวจริง - จริง"
      ]
    },
    {
      "cell_type": "code",
      "metadata": {
        "id": "nd_Ssn4S_cLf",
        "colab": {
          "base_uri": "https://localhost:8080/"
        },
        "outputId": "425b230b-b45d-498e-bb13-efc96e67b993"
      },
      "source": [
        "!pip install pythainlp\n",
        "!pip install stop_words\n",
        "import pythainlp\n",
        "import numpy\n",
        "from pythainlp import word_tokenize\n",
        "from pythainlp import corpus\n",
        "from pythainlp.corpus import thai_stopwords\n",
        "from pythainlp.corpus import wordnet\n",
        "from nltk.stem.porter import PorterStemmer\n",
        "from nltk.corpus import words\n",
        "from stop_words import get_stop_words\n",
        "from string import punctuation"
      ],
      "execution_count": null,
      "outputs": [
        {
          "output_type": "stream",
          "name": "stdout",
          "text": [
            "Requirement already satisfied: pythainlp in /usr/local/lib/python3.7/dist-packages (2.3.2)\n",
            "Requirement already satisfied: python-crfsuite>=0.9.6 in /usr/local/lib/python3.7/dist-packages (from pythainlp) (0.9.7)\n",
            "Requirement already satisfied: requests>=2.22.0 in /usr/local/lib/python3.7/dist-packages (from pythainlp) (2.23.0)\n",
            "Requirement already satisfied: tinydb>=3.0 in /usr/local/lib/python3.7/dist-packages (from pythainlp) (4.5.2)\n",
            "Requirement already satisfied: idna<3,>=2.5 in /usr/local/lib/python3.7/dist-packages (from requests>=2.22.0->pythainlp) (2.10)\n",
            "Requirement already satisfied: urllib3!=1.25.0,!=1.25.1,<1.26,>=1.21.1 in /usr/local/lib/python3.7/dist-packages (from requests>=2.22.0->pythainlp) (1.24.3)\n",
            "Requirement already satisfied: certifi>=2017.4.17 in /usr/local/lib/python3.7/dist-packages (from requests>=2.22.0->pythainlp) (2021.5.30)\n",
            "Requirement already satisfied: chardet<4,>=3.0.2 in /usr/local/lib/python3.7/dist-packages (from requests>=2.22.0->pythainlp) (3.0.4)\n",
            "Requirement already satisfied: typing-extensions<4.0.0,>=3.10.0 in /usr/local/lib/python3.7/dist-packages (from tinydb>=3.0->pythainlp) (3.10.0.2)\n",
            "Requirement already satisfied: stop_words in /usr/local/lib/python3.7/dist-packages (2018.7.23)\n"
          ]
        }
      ]
    },
    {
      "cell_type": "code",
      "metadata": {
        "id": "8t8BnELxAiAo",
        "colab": {
          "base_uri": "https://localhost:8080/"
        },
        "outputId": "c2909843-e5a2-4f30-a5c6-db8deab0b2b6"
      },
      "source": [
        "import nltk\n",
        "nltk.download('words')\n",
        "th_stop = thai_stopwords()\n",
        "p_stemmer = PorterStemmer()"
      ],
      "execution_count": null,
      "outputs": [
        {
          "output_type": "stream",
          "name": "stdout",
          "text": [
            "[nltk_data] Downloading package words to /root/nltk_data...\n",
            "[nltk_data]   Package words is already up-to-date!\n"
          ]
        }
      ]
    },
    {
      "cell_type": "code",
      "metadata": {
        "id": "L0PE6j5gAk2O"
      },
      "source": [
        "def split_word(text):\n",
        "            \n",
        "    \n",
        "    tokens = word_tokenize(text,engine='newmm')\n",
        "    \n",
        "    # Remove stop words ภาษาไทย และอักขระพิเศษ\n",
        "    tokens = [i for i in tokens if not i in th_stop and not i in punctuation] \n",
        "    \n",
        "    # Thai\n",
        "    tokens_temp=[]\n",
        "    for i in tokens:\n",
        "        w_syn = wordnet.synsets(i)\n",
        "        if (len(w_syn)>0) and (len(w_syn[0].lemma_names('tha'))>0):\n",
        "            tokens_temp.append(w_syn[0].lemma_names('tha')[0])\n",
        "        else:\n",
        "            tokens_temp.append(i)\n",
        "    \n",
        "    tokens = tokens_temp\n",
        "    \n",
        "    # ลบตัวเลข\n",
        "    tokens = [i for i in tokens if not i.isnumeric()]\n",
        "    \n",
        "    # ลบช่องว่าง\n",
        "    tokens = [i for i in tokens if not ' ' in i]\n",
        "\n",
        "    return tokens"
      ],
      "execution_count": null,
      "outputs": []
    },
    {
      "cell_type": "code",
      "metadata": {
        "id": "X_ivVteuCccc"
      },
      "source": [
        "def find_cosine_similarity(news_array, first_part_index, second_part_index):\n",
        "    sum = 0 #upper part of cosine similarity\n",
        "    discount = 0 #how many 0, 0 pair word count in both first_part and second part\n",
        "    total_words_number = news_array.shape[1]\n",
        "    for index in range(total_words_number):\n",
        "        if (news_array[first_part_index, index] == 0) and (news_array[second_part_index, index] ==0):\n",
        "            discount += 1\n",
        "            pass\n",
        "        sum += news_array[first_part_index, index]*news_array[second_part_index, index]\n",
        "    print('This is sum (upperpart) :',sum)\n",
        "    total_words_after_discount = total_words_number-discount\n",
        "    lowerpart = total_words_after_discount * total_words_after_discount\n",
        "    print('This is lowerpart :',lowerpart)\n",
        "    return (sum/lowerpart)"
      ],
      "execution_count": null,
      "outputs": []
    },
    {
      "cell_type": "markdown",
      "metadata": {
        "id": "IsCZBDYQKtca"
      },
      "source": [
        "# ข่าวที่ 1"
      ]
    },
    {
      "cell_type": "code",
      "metadata": {
        "id": "XM4tAaU2Gxf-"
      },
      "source": [
        "clean_text = [\"น้ำจะท่วมกรุงเทพฯ ในเดือนตุลา 64\",\"โดยสรุปก็คึอ ถ้าดูจากตัวเลขปริมาณการไหลของน้ำ การระบายน้ำ ปริมาณน้ำในเขื่อนใหญ่ที่ยังน้อยมาก และยังมีพื้นที่รับน้ำได้อีกมาก รวมทั้งพื้นที่รับน้ำที่ท่วมอยู่ในเวลานี้ด้วย ก็จะเห็นว่า กรุงเทพมหานคร และนนทบุรี ยังคงไม่มีแนวโน้มจะถูกน้ำท่วม (ที่ไม่ใช่น้ำท่วมขังเวลาฝนตก)\", \"น้ำท่วมจะไปไหน ข่าวลือเริ่มแรง กรุงเทพฯ-นนทบุรี จะจมน้ำ?\", \"แหล่งข่าวผู้เชี่ยวชาญด้านทรัพยากรน้ำระบุ สถานการณ์น้ำในปัจจุบัน จากข้อมูลพบว่ายังคงแตกต่างจากปี 2554 หลังเกิดความกังวล ส่งต่อข้อมูลและเปรียบเทียบว่า น้ำจะท่วมกรุงเทพมหานครและนนทบุรีแบบมหาอุทกภัย\"]"
      ],
      "execution_count": null,
      "outputs": []
    },
    {
      "cell_type": "markdown",
      "metadata": {
        "id": "HMsJiL3-_4p5"
      },
      "source": [
        "**Step 2: Tokenize**"
      ]
    },
    {
      "cell_type": "code",
      "metadata": {
        "id": "Ncd6qBzeCtDD",
        "colab": {
          "base_uri": "https://localhost:8080/"
        },
        "outputId": "ed7996d8-f460-4399-8add-7d2c92a3dd56"
      },
      "source": [
        "print('tokenized text:\\n',split_word(clean_text[0])) #ข้อความที่ต้องการตรวจสอบบน cofact\n",
        "print('tokenized text:\\n',split_word(clean_text[1])) #ข้อความสรุปใน cofact\n",
        "print('tokenized text:\\n',split_word(clean_text[2])) #หัวข่าวอ้างอิง\n",
        "print('tokenized text:\\n',split_word(clean_text[3])) #เนื้อหาข่าวอ้างอิง paragraph แรก"
      ],
      "execution_count": null,
      "outputs": [
        {
          "output_type": "stream",
          "name": "stdout",
          "text": [
            "tokenized text:\n",
            " ['น้ำ', 'โชก', 'กทม.', 'เดือน', 'ต.ค.']\n",
            "tokenized text:\n",
            " ['โดยสรุป', 'คึอ', 'ดู', 'เลข', 'จำนวน', 'ไหล', 'น้ำ', 'ระบาย', 'น้ำ', 'จำนวน', 'น้ำ', 'เขื่อน', 'ยังมี', 'พื้นที่รับน้ำ', 'พื้นที่รับน้ำ', 'โชก', 'ในเวลานี้', 'กทม.', 'นนทบุรี', 'มีแนวโน้ม', 'ท่วม', 'ท่วม', 'ขัง', 'กาล', 'ฝนตก']\n",
            "tokenized text:\n",
            " ['ท่วม', 'ข่าวลือ', 'แรง', 'กทม.', 'นนทบุรี', 'จมน้ำ']\n",
            "tokenized text:\n",
            " ['แหล่งข่าว', 'ผู้เชี่ยวชาญ', 'ทรัพยากร', 'น้ำ', 'ระบุ', 'สถานการณ์', 'น้ำ', 'ข้อมูล', 'ต่าง', 'ปี', 'ความกังวล', 'ส่งต่อ', 'ข้อมูล', 'เปรียบเทียบ', 'น้ำ', 'โชก', 'กทม.', 'นนทบุรี', 'มหา', 'อุทกภัย']\n"
          ]
        }
      ]
    },
    {
      "cell_type": "code",
      "metadata": {
        "id": "_E6wussDHCkm"
      },
      "source": [
        "tokens_list = [split_word(txt) for txt in clean_text]"
      ],
      "execution_count": null,
      "outputs": []
    },
    {
      "cell_type": "code",
      "metadata": {
        "id": "0FXgJH4JHPYg",
        "colab": {
          "base_uri": "https://localhost:8080/"
        },
        "outputId": "ca1e2494-c028-4ba2-ee5a-ffcc4f421b52"
      },
      "source": [
        "tokens_list"
      ],
      "execution_count": null,
      "outputs": [
        {
          "output_type": "execute_result",
          "data": {
            "text/plain": [
              "[['น้ำ', 'โชก', 'กทม.', 'เดือน', 'ต.ค.'],\n",
              " ['โดยสรุป',\n",
              "  'คึอ',\n",
              "  'ดู',\n",
              "  'เลข',\n",
              "  'จำนวน',\n",
              "  'ไหล',\n",
              "  'น้ำ',\n",
              "  'ระบาย',\n",
              "  'น้ำ',\n",
              "  'จำนวน',\n",
              "  'น้ำ',\n",
              "  'เขื่อน',\n",
              "  'ยังมี',\n",
              "  'พื้นที่รับน้ำ',\n",
              "  'พื้นที่รับน้ำ',\n",
              "  'โชก',\n",
              "  'ในเวลานี้',\n",
              "  'กทม.',\n",
              "  'นนทบุรี',\n",
              "  'มีแนวโน้ม',\n",
              "  'ท่วม',\n",
              "  'ท่วม',\n",
              "  'ขัง',\n",
              "  'กาล',\n",
              "  'ฝนตก'],\n",
              " ['ท่วม', 'ข่าวลือ', 'แรง', 'กทม.', 'นนทบุรี', 'จมน้ำ'],\n",
              " ['แหล่งข่าว',\n",
              "  'ผู้เชี่ยวชาญ',\n",
              "  'ทรัพยากร',\n",
              "  'น้ำ',\n",
              "  'ระบุ',\n",
              "  'สถานการณ์',\n",
              "  'น้ำ',\n",
              "  'ข้อมูล',\n",
              "  'ต่าง',\n",
              "  'ปี',\n",
              "  'ความกังวล',\n",
              "  'ส่งต่อ',\n",
              "  'ข้อมูล',\n",
              "  'เปรียบเทียบ',\n",
              "  'น้ำ',\n",
              "  'โชก',\n",
              "  'กทม.',\n",
              "  'นนทบุรี',\n",
              "  'มหา',\n",
              "  'อุทกภัย']]"
            ]
          },
          "metadata": {},
          "execution_count": 222
        }
      ]
    },
    {
      "cell_type": "markdown",
      "metadata": {
        "id": "5xyaFdoLF-bm"
      },
      "source": [
        "**Step 3 + 4a: Bag of words + count word**"
      ]
    },
    {
      "cell_type": "code",
      "metadata": {
        "id": "KacGNWcMjzrn",
        "colab": {
          "base_uri": "https://localhost:8080/"
        },
        "outputId": "5f6ed016-1efa-459c-f551-bfb82fa9998c"
      },
      "source": [
        "from sklearn.feature_extraction.text import CountVectorizer\n",
        "tokens_list_j = [','.join(tkn) for tkn in tokens_list]\n",
        "cvec = CountVectorizer(analyzer=lambda x:x.split(','))\n",
        "print(cvec)\n",
        "c_feat = cvec.fit_transform(tokens_list_j)"
      ],
      "execution_count": null,
      "outputs": [
        {
          "output_type": "stream",
          "name": "stdout",
          "text": [
            "CountVectorizer(analyzer=<function <lambda> at 0x7f37ba5ec320>, binary=False,\n",
            "                decode_error='strict', dtype=<class 'numpy.int64'>,\n",
            "                encoding='utf-8', input='content', lowercase=True, max_df=1.0,\n",
            "                max_features=None, min_df=1, ngram_range=(1, 1),\n",
            "                preprocessor=None, stop_words=None, strip_accents=None,\n",
            "                token_pattern='(?u)\\\\b\\\\w\\\\w+\\\\b', tokenizer=None,\n",
            "                vocabulary=None)\n"
          ]
        }
      ]
    },
    {
      "cell_type": "code",
      "metadata": {
        "id": "LOcncIVCkvw6",
        "colab": {
          "base_uri": "https://localhost:8080/"
        },
        "outputId": "b5bbf5fa-ae83-4539-fff5-f6feba9e7030"
      },
      "source": [
        "cvec.vocabulary_"
      ],
      "execution_count": null,
      "outputs": [
        {
          "output_type": "execute_result",
          "data": {
            "text/plain": [
              "{'กทม.': 0,\n",
              " 'กาล': 1,\n",
              " 'ขัง': 2,\n",
              " 'ข่าวลือ': 3,\n",
              " 'ข้อมูล': 4,\n",
              " 'ความกังวล': 5,\n",
              " 'คึอ': 6,\n",
              " 'จมน้ำ': 7,\n",
              " 'จำนวน': 8,\n",
              " 'ดู': 9,\n",
              " 'ต.ค.': 10,\n",
              " 'ต่าง': 11,\n",
              " 'ทรัพยากร': 12,\n",
              " 'ท่วม': 13,\n",
              " 'นนทบุรี': 14,\n",
              " 'น้ำ': 15,\n",
              " 'ปี': 16,\n",
              " 'ผู้เชี่ยวชาญ': 17,\n",
              " 'ฝนตก': 18,\n",
              " 'พื้นที่รับน้ำ': 19,\n",
              " 'มหา': 20,\n",
              " 'มีแนวโน้ม': 21,\n",
              " 'ยังมี': 22,\n",
              " 'ระบาย': 23,\n",
              " 'ระบุ': 24,\n",
              " 'สถานการณ์': 25,\n",
              " 'ส่งต่อ': 26,\n",
              " 'อุทกภัย': 27,\n",
              " 'เขื่อน': 28,\n",
              " 'เดือน': 29,\n",
              " 'เปรียบเทียบ': 30,\n",
              " 'เลข': 31,\n",
              " 'แรง': 32,\n",
              " 'แหล่งข่าว': 33,\n",
              " 'โชก': 34,\n",
              " 'โดยสรุป': 35,\n",
              " 'ในเวลานี้': 36,\n",
              " 'ไหล': 37}"
            ]
          },
          "metadata": {},
          "execution_count": 224
        }
      ]
    },
    {
      "cell_type": "code",
      "metadata": {
        "id": "MCfZP-NMb0lM",
        "colab": {
          "base_uri": "https://localhost:8080/"
        },
        "outputId": "9f009bc8-e82f-405d-c6d4-d6cd8482d3b5"
      },
      "source": [
        "c_feat[:,:].todense()"
      ],
      "execution_count": null,
      "outputs": [
        {
          "output_type": "execute_result",
          "data": {
            "text/plain": [
              "matrix([[1, 0, 0, 0, 0, 0, 0, 0, 0, 0, 1, 0, 0, 0, 0, 1, 0, 0, 0, 0, 0,\n",
              "         0, 0, 0, 0, 0, 0, 0, 0, 1, 0, 0, 0, 0, 1, 0, 0, 0],\n",
              "        [1, 1, 1, 0, 0, 0, 1, 0, 2, 1, 0, 0, 0, 2, 1, 3, 0, 0, 1, 2, 0,\n",
              "         1, 1, 1, 0, 0, 0, 0, 1, 0, 0, 1, 0, 0, 1, 1, 1, 1],\n",
              "        [1, 0, 0, 1, 0, 0, 0, 1, 0, 0, 0, 0, 0, 1, 1, 0, 0, 0, 0, 0, 0,\n",
              "         0, 0, 0, 0, 0, 0, 0, 0, 0, 0, 0, 1, 0, 0, 0, 0, 0],\n",
              "        [1, 0, 0, 0, 2, 1, 0, 0, 0, 0, 0, 1, 1, 0, 1, 3, 1, 1, 0, 0, 1,\n",
              "         0, 0, 0, 1, 1, 1, 1, 0, 0, 1, 0, 0, 1, 1, 0, 0, 0]])"
            ]
          },
          "metadata": {},
          "execution_count": 225
        }
      ]
    },
    {
      "cell_type": "code",
      "metadata": {
        "colab": {
          "base_uri": "https://localhost:8080/"
        },
        "id": "JVl0qyvS33dM",
        "outputId": "6078e63e-5e80-4098-932a-9dde3b0b6457"
      },
      "source": [
        "#first_news เป็น array ของข่าว โดย row ที่ 1 = ข่าวที่ต้องการตรวจสอบจาก cofact, row ที่ 2 = ข้อความสรุปใน cofact, row ที่ 3 = หัวข้อข่าวที่เชื่อถือได้ , row ที่ 4 = เนื้อหาข่าว paragraph แรกของข่าวที่เชื่อถือได้\n",
        "first_news = c_feat[:,:].todense()\n",
        "print(first_news) "
      ],
      "execution_count": null,
      "outputs": [
        {
          "output_type": "stream",
          "name": "stdout",
          "text": [
            "[[1 0 0 0 0 0 0 0 0 0 1 0 0 0 0 1 0 0 0 0 0 0 0 0 0 0 0 0 0 1 0 0 0 0 1 0\n",
            "  0 0]\n",
            " [1 1 1 0 0 0 1 0 2 1 0 0 0 2 1 3 0 0 1 2 0 1 1 1 0 0 0 0 1 0 0 1 0 0 1 1\n",
            "  1 1]\n",
            " [1 0 0 1 0 0 0 1 0 0 0 0 0 1 1 0 0 0 0 0 0 0 0 0 0 0 0 0 0 0 0 0 1 0 0 0\n",
            "  0 0]\n",
            " [1 0 0 0 2 1 0 0 0 0 0 1 1 0 1 3 1 1 0 0 1 0 0 0 1 1 1 1 0 0 1 0 0 1 1 0\n",
            "  0 0]]\n"
          ]
        }
      ]
    },
    {
      "cell_type": "code",
      "metadata": {
        "colab": {
          "base_uri": "https://localhost:8080/"
        },
        "id": "-ZyiPYjaD63x",
        "outputId": "3c4cf635-ecf9-4cc3-dcd1-97d4472c7023"
      },
      "source": [
        "first_news.shape[1]"
      ],
      "execution_count": null,
      "outputs": [
        {
          "output_type": "execute_result",
          "data": {
            "text/plain": [
              "38"
            ]
          },
          "metadata": {},
          "execution_count": 227
        }
      ]
    },
    {
      "cell_type": "code",
      "metadata": {
        "colab": {
          "base_uri": "https://localhost:8080/"
        },
        "id": "lXq70hxB-v4u",
        "outputId": "3eec5d1e-d262-44d9-9cac-93cd0033c03e"
      },
      "source": [
        "#แปลงเป็น array ทััง 3 ข่าวเพื่อหา cosine similarity\n",
        "cofact_checker_array = numpy.array(cofact_checker) \n",
        "title_news_array = numpy.array(title_news) \n",
        "first_paragraph_news_array = numpy.array(first_paragraph_news)\n",
        "\n",
        "#หา similarity เทียบระหว่างข่าวที่ต้องการตรวจสอบบน cofact กับหัวข้อข่าวที่เชื่อถือได้\n",
        "print(cofact_checker_array[0][2])\n",
        "print(first_paragraph_news_array[0][4])"
      ],
      "execution_count": null,
      "outputs": [
        {
          "output_type": "stream",
          "name": "stdout",
          "text": [
            "1\n",
            "2\n"
          ]
        }
      ]
    },
    {
      "cell_type": "code",
      "metadata": {
        "colab": {
          "base_uri": "https://localhost:8080/"
        },
        "id": "XikLpwuTGKFh",
        "outputId": "12240fe2-e9c9-4deb-b784-ee8d7645ef53"
      },
      "source": [
        "find_cosine_similarity(first_news, 0, 1) #เทียบ ข้อความที่ต้องการตรวจสอบบน cofact กับ ข้อความสรุปใน cofact"
      ],
      "execution_count": null,
      "outputs": [
        {
          "output_type": "stream",
          "name": "stdout",
          "text": [
            "This is sum (upperpart) : 5\n",
            "This is lowerpart : 484\n"
          ]
        },
        {
          "output_type": "execute_result",
          "data": {
            "text/plain": [
              "0.010330578512396695"
            ]
          },
          "metadata": {},
          "execution_count": 229
        }
      ]
    },
    {
      "cell_type": "code",
      "metadata": {
        "colab": {
          "base_uri": "https://localhost:8080/"
        },
        "id": "2QjcxV4pNnZK",
        "outputId": "febee869-df00-426a-9a37-9d12b929cf2f"
      },
      "source": [
        "find_cosine_similarity(first_news, 0, 2)#เทียบ ข้อความที่ต้องการตรวจสอบบน cofact กับ หัวข้อข่าวที่เชื่อถือได้"
      ],
      "execution_count": null,
      "outputs": [
        {
          "output_type": "stream",
          "name": "stdout",
          "text": [
            "This is sum (upperpart) : 1\n",
            "This is lowerpart : 100\n"
          ]
        },
        {
          "output_type": "execute_result",
          "data": {
            "text/plain": [
              "0.01"
            ]
          },
          "metadata": {},
          "execution_count": 230
        }
      ]
    },
    {
      "cell_type": "code",
      "metadata": {
        "colab": {
          "base_uri": "https://localhost:8080/"
        },
        "id": "5GHqimgRQzOt",
        "outputId": "99f10f52-4895-49d8-b094-ab973451dd7d"
      },
      "source": [
        "find_cosine_similarity(first_news, 0, 3)#เทียบ ข้อความที่ต้องการตรวจสอบบน cofact กับ เนื้อหาข่าว paragraph แรกของข่าวที่เชื่อถือได้"
      ],
      "execution_count": null,
      "outputs": [
        {
          "output_type": "stream",
          "name": "stdout",
          "text": [
            "This is sum (upperpart) : 5\n",
            "This is lowerpart : 361\n"
          ]
        },
        {
          "output_type": "execute_result",
          "data": {
            "text/plain": [
              "0.013850415512465374"
            ]
          },
          "metadata": {},
          "execution_count": 231
        }
      ]
    },
    {
      "cell_type": "markdown",
      "metadata": {
        "id": "GoWE42JsKmub"
      },
      "source": [
        "# -------------- ข่าวที่ 2 ----------------------------"
      ]
    },
    {
      "cell_type": "code",
      "metadata": {
        "id": "yuZGvym-SXeO"
      },
      "source": [
        "clean_text = [\"ขณะนี้ คิวในการยื่นขอ VISA ประเทศสหรัฐอเมริกา คิวอยู่ที่เดือนสิงหาคม พ.ศ. 2565 แล้ว จริงหรือไม่\",\"ระยะเวลารอคิวการยื่นวีซ่าสามารถเช็กได้ที่เว็บไซต์https://travel.state.gov/content/travel/⋯sa-information-resources/wait-times.htmlจากการเช็กล่าสุดพบว่าระยะเวลาการรอวีซ่าคือVisitor Visa 35 Calendar DaysStudent/Exchange Visitor Visas 2 Calendar DaysAll Other Nonimmigrant Visas 2 Calendar Daysไม่ถึงปี 65 แต่อย่างใด\"]"
      ],
      "execution_count": null,
      "outputs": []
    },
    {
      "cell_type": "markdown",
      "metadata": {
        "id": "MhRDNlBaSXeO"
      },
      "source": [
        "**Step 2: Tokenize**"
      ]
    },
    {
      "cell_type": "code",
      "metadata": {
        "colab": {
          "base_uri": "https://localhost:8080/"
        },
        "id": "kRK9S8KiSXeP",
        "outputId": "8100c2f8-1024-488f-853e-d9cc44c0f128"
      },
      "source": [
        "print('tokenized text:\\n',split_word(clean_text[0])) #ข้อความที่ต้องการตรวจสอบบน cofact\n",
        "print('tokenized text:\\n',split_word(clean_text[1])) #ข้อความสรุปใน cofact\n",
        "# print('tokenized text:\\n',split_word(clean_text[2])) #หัวข่าวอ้างอิง\n",
        "# print('tokenized text:\\n',split_word(clean_text[3])) #เนื้อหาข่าวอ้างอิง paragraph แรก"
      ],
      "execution_count": null,
      "outputs": [
        {
          "output_type": "stream",
          "name": "stdout",
          "text": [
            "tokenized text:\n",
            " ['คิว', 'ยื่น', 'VISA', 'รัฐ', 'สหรัฐอเมริกา', 'คิว', 'เดือน', 'ส.ค.', 'พ.ศ.']\n",
            "tokenized text:\n",
            " ['ระยะเวลา', 'รอ', 'คิว', 'ยื่น', 'วีซ่า', 'เช็ก', 'เว็บ', 'https', '://', 'travel', 'state', 'gov', 'content', 'travel', '/⋯', 'sa-information-resources', 'wait-times', 'html', 'เช็ก', 'ระยะเวลา', 'รอ', 'วีซ่า', 'Visitor', 'Visa', 'Calendar', 'DaysStudent', 'Exchange', 'Visitor', 'Visas', 'Calendar', 'DaysAll', 'Other', 'Nonimmigrant', 'Visas', 'Calendar', 'Days', 'ปี']\n"
          ]
        }
      ]
    },
    {
      "cell_type": "code",
      "metadata": {
        "id": "Gza6paN5SXeP"
      },
      "source": [
        "tokens_list = [split_word(txt) for txt in clean_text]"
      ],
      "execution_count": null,
      "outputs": []
    },
    {
      "cell_type": "code",
      "metadata": {
        "colab": {
          "base_uri": "https://localhost:8080/"
        },
        "id": "u5tnn4EnSXeP",
        "outputId": "74303452-9e31-49a8-cbe4-6e007c0bc0e1"
      },
      "source": [
        "tokens_list"
      ],
      "execution_count": null,
      "outputs": [
        {
          "output_type": "execute_result",
          "data": {
            "text/plain": [
              "[['คิว',\n",
              "  'ยื่น',\n",
              "  'VISA',\n",
              "  'รัฐ',\n",
              "  'สหรัฐอเมริกา',\n",
              "  'คิว',\n",
              "  'เดือน',\n",
              "  'ส.ค.',\n",
              "  'พ.ศ.'],\n",
              " ['ระยะเวลา',\n",
              "  'รอ',\n",
              "  'คิว',\n",
              "  'ยื่น',\n",
              "  'วีซ่า',\n",
              "  'เช็ก',\n",
              "  'เว็บ',\n",
              "  'https',\n",
              "  '://',\n",
              "  'travel',\n",
              "  'state',\n",
              "  'gov',\n",
              "  'content',\n",
              "  'travel',\n",
              "  '/⋯',\n",
              "  'sa-information-resources',\n",
              "  'wait-times',\n",
              "  'html',\n",
              "  'เช็ก',\n",
              "  'ระยะเวลา',\n",
              "  'รอ',\n",
              "  'วีซ่า',\n",
              "  'Visitor',\n",
              "  'Visa',\n",
              "  'Calendar',\n",
              "  'DaysStudent',\n",
              "  'Exchange',\n",
              "  'Visitor',\n",
              "  'Visas',\n",
              "  'Calendar',\n",
              "  'DaysAll',\n",
              "  'Other',\n",
              "  'Nonimmigrant',\n",
              "  'Visas',\n",
              "  'Calendar',\n",
              "  'Days',\n",
              "  'ปี']]"
            ]
          },
          "metadata": {},
          "execution_count": 235
        }
      ]
    },
    {
      "cell_type": "markdown",
      "metadata": {
        "id": "zsDMjc-DSXeP"
      },
      "source": [
        "**Step 3 + 4a: Bag of words + count word**"
      ]
    },
    {
      "cell_type": "code",
      "metadata": {
        "id": "SXYMe2h2SXeP"
      },
      "source": [
        "from sklearn.feature_extraction.text import CountVectorizer\n",
        "tokens_list_j = [','.join(tkn) for tkn in tokens_list]\n",
        "cvec = CountVectorizer(analyzer=lambda x:x.split(','))\n",
        "c_feat = cvec.fit_transform(tokens_list_j)"
      ],
      "execution_count": null,
      "outputs": []
    },
    {
      "cell_type": "code",
      "metadata": {
        "colab": {
          "base_uri": "https://localhost:8080/"
        },
        "id": "duTkBhlMSXeQ",
        "outputId": "7318fc27-98c5-403a-c4cd-00bb6e398fa2"
      },
      "source": [
        "cvec.vocabulary_"
      ],
      "execution_count": null,
      "outputs": [
        {
          "output_type": "execute_result",
          "data": {
            "text/plain": [
              "{'/⋯': 0,\n",
              " '://': 1,\n",
              " 'Calendar': 2,\n",
              " 'Days': 3,\n",
              " 'DaysAll': 4,\n",
              " 'DaysStudent': 5,\n",
              " 'Exchange': 6,\n",
              " 'Nonimmigrant': 7,\n",
              " 'Other': 8,\n",
              " 'VISA': 9,\n",
              " 'Visa': 10,\n",
              " 'Visas': 11,\n",
              " 'Visitor': 12,\n",
              " 'content': 13,\n",
              " 'gov': 14,\n",
              " 'html': 15,\n",
              " 'https': 16,\n",
              " 'sa-information-resources': 17,\n",
              " 'state': 18,\n",
              " 'travel': 19,\n",
              " 'wait-times': 20,\n",
              " 'คิว': 21,\n",
              " 'ปี': 22,\n",
              " 'พ.ศ.': 23,\n",
              " 'ยื่น': 24,\n",
              " 'รอ': 25,\n",
              " 'ระยะเวลา': 26,\n",
              " 'รัฐ': 27,\n",
              " 'วีซ่า': 28,\n",
              " 'ส.ค.': 29,\n",
              " 'สหรัฐอเมริกา': 30,\n",
              " 'เช็ก': 31,\n",
              " 'เดือน': 32,\n",
              " 'เว็บ': 33}"
            ]
          },
          "metadata": {},
          "execution_count": 237
        }
      ]
    },
    {
      "cell_type": "code",
      "metadata": {
        "colab": {
          "base_uri": "https://localhost:8080/"
        },
        "id": "dGtvFXD5SXeQ",
        "outputId": "5d8785c7-2beb-45e8-b06f-db6dae9f107d"
      },
      "source": [
        "c_feat[:,:].todense()"
      ],
      "execution_count": null,
      "outputs": [
        {
          "output_type": "execute_result",
          "data": {
            "text/plain": [
              "matrix([[0, 0, 0, 0, 0, 0, 0, 0, 0, 1, 0, 0, 0, 0, 0, 0, 0, 0, 0, 0, 0,\n",
              "         2, 0, 1, 1, 0, 0, 1, 0, 1, 1, 0, 1, 0],\n",
              "        [1, 1, 3, 1, 1, 1, 1, 1, 1, 0, 1, 2, 2, 1, 1, 1, 1, 1, 1, 2, 1,\n",
              "         1, 1, 0, 1, 2, 2, 0, 2, 0, 0, 2, 0, 1]])"
            ]
          },
          "metadata": {},
          "execution_count": 238
        }
      ]
    },
    {
      "cell_type": "code",
      "metadata": {
        "colab": {
          "base_uri": "https://localhost:8080/"
        },
        "id": "N6NY2lRsSXeQ",
        "outputId": "efd9bb28-f7d6-47da-99e9-843274f59949"
      },
      "source": [
        "#first_news เป็น array ของข่าว โดย row ที่ 1 = ข่าวที่ต้องการตรวจสอบจาก cofact, row ที่ 2 = ข้อความสรุปใน cofact, row ที่ 3 = หัวข้อข่าวที่เชื่อถือได้ , row ที่ 4 = เนื้อหาข่าว paragraph แรกของข่าวที่เชื่อถือได้\n",
        "first_news = c_feat[:,:].todense()\n",
        "print(first_news) "
      ],
      "execution_count": null,
      "outputs": [
        {
          "output_type": "stream",
          "name": "stdout",
          "text": [
            "[[0 0 0 0 0 0 0 0 0 1 0 0 0 0 0 0 0 0 0 0 0 2 0 1 1 0 0 1 0 1 1 0 1 0]\n",
            " [1 1 3 1 1 1 1 1 1 0 1 2 2 1 1 1 1 1 1 2 1 1 1 0 1 2 2 0 2 0 0 2 0 1]]\n"
          ]
        }
      ]
    },
    {
      "cell_type": "code",
      "metadata": {
        "colab": {
          "base_uri": "https://localhost:8080/"
        },
        "id": "w9BsMfIESXeQ",
        "outputId": "2384d0cf-ae1e-4803-fd47-3e7abaeb8d4b"
      },
      "source": [
        "first_news.shape[1]"
      ],
      "execution_count": null,
      "outputs": [
        {
          "output_type": "execute_result",
          "data": {
            "text/plain": [
              "34"
            ]
          },
          "metadata": {},
          "execution_count": 240
        }
      ]
    },
    {
      "cell_type": "code",
      "metadata": {
        "id": "VraQ1WTdSXeR"
      },
      "source": [
        "#แปลงเป็น array ทััง 3 ข่าวเพื่อหา cosine similarity\n",
        "cofact_checker_array = numpy.array(cofact_checker) \n",
        "title_news_array = numpy.array(title_news) \n",
        "first_paragraph_news_array = numpy.array(first_paragraph_news)\n",
        "\n",
        "#หา similarity เทียบระหว่างข่าวที่ต้องการตรวจสอบบน cofact กับหัวข้อข่าวที่เชื่อถือได้"
      ],
      "execution_count": null,
      "outputs": []
    },
    {
      "cell_type": "code",
      "metadata": {
        "colab": {
          "base_uri": "https://localhost:8080/"
        },
        "id": "ZTZJRce_SXeR",
        "outputId": "af64a510-6d56-4424-bf66-97cd13537200"
      },
      "source": [
        "find_cosine_similarity(first_news, 0, 1) #เทียบ ข้อความที่ต้องการตรวจสอบบน cofact กับ ข้อความสรุปใน cofact"
      ],
      "execution_count": null,
      "outputs": [
        {
          "output_type": "stream",
          "name": "stdout",
          "text": [
            "This is sum (upperpart) : 3\n",
            "This is lowerpart : 1156\n"
          ]
        },
        {
          "output_type": "execute_result",
          "data": {
            "text/plain": [
              "0.0025951557093425604"
            ]
          },
          "metadata": {},
          "execution_count": 242
        }
      ]
    },
    {
      "cell_type": "markdown",
      "metadata": {
        "id": "inGIJadZT7l9"
      },
      "source": [
        "# ข่าวที่ 3"
      ]
    },
    {
      "cell_type": "code",
      "metadata": {
        "id": "V1mH0JIAT7l9"
      },
      "source": [
        "clean_text = [\"ประเทศไทย มีจังหวัดเพิ่มอีก 6 จังหวัด จริงหรือ\",\"ผู้สื่อข่าวรายงานว่า กรมการปกครอง กระทรวงมหาดไทย เผยแพร่ข้อมูลว่าตามที่ปรากฏข่าวสารผ่านสื่อออนไลน์ว่า “ประกาศชาวไทย จะมี 83 จังหวัดแล้ว” นั้น กรมการปกครอง กระทรวงมหาดไทย ชี้แจงว่า ข้อมูลข่าวดังกล่าวไม่เป็นความจริงแต่ประการใด และเป็นการแชร์ข่าวที่เคยเป็นข่าวปลอม มาตั้งแต่ปี พ.ศ.2558 แล้ว\",\"มท.ยืนยันประเทศไทยมีแค่ 76 จังหวัด\",\"กรมการปกครอง ร่อนหนังสือชี้แจงข่าวปลอมในโซเชียล อ้างประกาศชาวไทยจะมี 83 จังหวัด ชี้เป็นข่าวปลอมตั้งแต่ปี 2558 ยืนยันไทยมี 76 จังหวัด\"]"
      ],
      "execution_count": null,
      "outputs": []
    },
    {
      "cell_type": "markdown",
      "metadata": {
        "id": "rYF9xwtvT7l-"
      },
      "source": [
        "**Step 2: Tokenize**"
      ]
    },
    {
      "cell_type": "code",
      "metadata": {
        "colab": {
          "base_uri": "https://localhost:8080/"
        },
        "id": "mSDJVOsOT7l-",
        "outputId": "7ffa2c05-b51c-40f9-afcb-73fc2584ea18"
      },
      "source": [
        "print('tokenized text:\\n',split_word(clean_text[0])) #ข้อความที่ต้องการตรวจสอบบน cofact\n",
        "print('tokenized text:\\n',split_word(clean_text[1])) #ข้อความสรุปใน cofact\n",
        "print('tokenized text:\\n',split_word(clean_text[2])) #หัวข่าวอ้างอิง\n",
        "print('tokenized text:\\n',split_word(clean_text[3])) #เนื้อหาข่าวอ้างอิง paragraph แรก"
      ],
      "execution_count": null,
      "outputs": [
        {
          "output_type": "stream",
          "name": "stdout",
          "text": [
            "tokenized text:\n",
            " ['รัฐ', 'ไท', 'รัฐ', 'รัฐ']\n",
            "tokenized text:\n",
            " ['สื่อ', 'รายงาน', 'กรมการปกครอง', 'กระทรวงมหาดไทย', 'โฆษณา', 'ข้อมูล', 'ข่าวสาร', 'สื่อ', 'ออนไลน์', '“', 'ประกาศ', 'คนไทย', 'รัฐ', '”', 'กรมการปกครอง', 'กระทรวงมหาดไทย', 'ชี้แจง', 'ข้อมูล', 'ข่าว', 'ความจริง', 'แต่ประการใด', 'แชร์', 'ข่าว', 'เป็นข่าว', 'ปลอม', 'ปี', 'พ.ศ.']\n",
            "tokenized text:\n",
            " ['มท', 'รัฐ', 'ไท', 'รัฐ']\n",
            "tokenized text:\n",
            " ['กรมการปกครอง', 'ร่อน', 'สมุด', 'ชี้แจง', 'ข่าว', 'ปลอม', 'โซเชียล', 'อ้าง', 'ประกาศ', 'คนไทย', 'รัฐ', 'ชี้', 'เป็นข่าว', 'ปลอม', 'ปี', 'ไท', 'รัฐ']\n"
          ]
        }
      ]
    },
    {
      "cell_type": "code",
      "metadata": {
        "id": "vRdhG8-ZT7l-"
      },
      "source": [
        "tokens_list = [split_word(txt) for txt in clean_text]"
      ],
      "execution_count": null,
      "outputs": []
    },
    {
      "cell_type": "code",
      "metadata": {
        "colab": {
          "base_uri": "https://localhost:8080/"
        },
        "id": "XIVNk5NeT7l-",
        "outputId": "e9d4fa17-b756-47b9-d007-f2f2ec17e1ff"
      },
      "source": [
        "tokens_list"
      ],
      "execution_count": null,
      "outputs": [
        {
          "output_type": "execute_result",
          "data": {
            "text/plain": [
              "[['รัฐ', 'ไท', 'รัฐ', 'รัฐ'],\n",
              " ['สื่อ',\n",
              "  'รายงาน',\n",
              "  'กรมการปกครอง',\n",
              "  'กระทรวงมหาดไทย',\n",
              "  'โฆษณา',\n",
              "  'ข้อมูล',\n",
              "  'ข่าวสาร',\n",
              "  'สื่อ',\n",
              "  'ออนไลน์',\n",
              "  '“',\n",
              "  'ประกาศ',\n",
              "  'คนไทย',\n",
              "  'รัฐ',\n",
              "  '”',\n",
              "  'กรมการปกครอง',\n",
              "  'กระทรวงมหาดไทย',\n",
              "  'ชี้แจง',\n",
              "  'ข้อมูล',\n",
              "  'ข่าว',\n",
              "  'ความจริง',\n",
              "  'แต่ประการใด',\n",
              "  'แชร์',\n",
              "  'ข่าว',\n",
              "  'เป็นข่าว',\n",
              "  'ปลอม',\n",
              "  'ปี',\n",
              "  'พ.ศ.'],\n",
              " ['มท', 'รัฐ', 'ไท', 'รัฐ'],\n",
              " ['กรมการปกครอง',\n",
              "  'ร่อน',\n",
              "  'สมุด',\n",
              "  'ชี้แจง',\n",
              "  'ข่าว',\n",
              "  'ปลอม',\n",
              "  'โซเชียล',\n",
              "  'อ้าง',\n",
              "  'ประกาศ',\n",
              "  'คนไทย',\n",
              "  'รัฐ',\n",
              "  'ชี้',\n",
              "  'เป็นข่าว',\n",
              "  'ปลอม',\n",
              "  'ปี',\n",
              "  'ไท',\n",
              "  'รัฐ']]"
            ]
          },
          "metadata": {},
          "execution_count": 246
        }
      ]
    },
    {
      "cell_type": "markdown",
      "metadata": {
        "id": "2yZbC6oeT7l-"
      },
      "source": [
        "**Step 3 + 4a: Bag of words + count word**"
      ]
    },
    {
      "cell_type": "code",
      "metadata": {
        "colab": {
          "base_uri": "https://localhost:8080/"
        },
        "id": "SE84FjsRT7l-",
        "outputId": "804b4640-326d-4d41-bc03-c560cc06333f"
      },
      "source": [
        "from sklearn.feature_extraction.text import CountVectorizer\n",
        "tokens_list_j = [','.join(tkn) for tkn in tokens_list]\n",
        "cvec = CountVectorizer(analyzer=lambda x:x.split(','))\n",
        "print(cvec)\n",
        "c_feat = cvec.fit_transform(tokens_list_j)"
      ],
      "execution_count": null,
      "outputs": [
        {
          "output_type": "stream",
          "name": "stdout",
          "text": [
            "CountVectorizer(analyzer=<function <lambda> at 0x7f37aefd7ef0>, binary=False,\n",
            "                decode_error='strict', dtype=<class 'numpy.int64'>,\n",
            "                encoding='utf-8', input='content', lowercase=True, max_df=1.0,\n",
            "                max_features=None, min_df=1, ngram_range=(1, 1),\n",
            "                preprocessor=None, stop_words=None, strip_accents=None,\n",
            "                token_pattern='(?u)\\\\b\\\\w\\\\w+\\\\b', tokenizer=None,\n",
            "                vocabulary=None)\n"
          ]
        }
      ]
    },
    {
      "cell_type": "code",
      "metadata": {
        "colab": {
          "base_uri": "https://localhost:8080/"
        },
        "id": "rbUCRngUT7l_",
        "outputId": "983d3c3a-5594-4f94-ab47-06c0dafa7383"
      },
      "source": [
        "cvec.vocabulary_"
      ],
      "execution_count": null,
      "outputs": [
        {
          "output_type": "execute_result",
          "data": {
            "text/plain": [
              "{'กรมการปกครอง': 0,\n",
              " 'กระทรวงมหาดไทย': 1,\n",
              " 'ข่าว': 2,\n",
              " 'ข่าวสาร': 3,\n",
              " 'ข้อมูล': 4,\n",
              " 'คนไทย': 5,\n",
              " 'ความจริง': 6,\n",
              " 'ชี้': 7,\n",
              " 'ชี้แจง': 8,\n",
              " 'ประกาศ': 9,\n",
              " 'ปลอม': 10,\n",
              " 'ปี': 11,\n",
              " 'พ.ศ.': 12,\n",
              " 'มท': 13,\n",
              " 'รัฐ': 14,\n",
              " 'รายงาน': 15,\n",
              " 'ร่อน': 16,\n",
              " 'สมุด': 17,\n",
              " 'สื่อ': 18,\n",
              " 'ออนไลน์': 19,\n",
              " 'อ้าง': 20,\n",
              " 'เป็นข่าว': 21,\n",
              " 'แชร์': 22,\n",
              " 'แต่ประการใด': 23,\n",
              " 'โฆษณา': 24,\n",
              " 'โซเชียล': 25,\n",
              " 'ไท': 26,\n",
              " '“': 27,\n",
              " '”': 28}"
            ]
          },
          "metadata": {},
          "execution_count": 248
        }
      ]
    },
    {
      "cell_type": "code",
      "metadata": {
        "colab": {
          "base_uri": "https://localhost:8080/"
        },
        "id": "UI6Di0RaT7l_",
        "outputId": "8fca67dc-dd8b-4db6-d4a6-ad7c3a08caba"
      },
      "source": [
        "c_feat[:,:].todense()"
      ],
      "execution_count": null,
      "outputs": [
        {
          "output_type": "execute_result",
          "data": {
            "text/plain": [
              "matrix([[0, 0, 0, 0, 0, 0, 0, 0, 0, 0, 0, 0, 0, 0, 3, 0, 0, 0, 0, 0, 0,\n",
              "         0, 0, 0, 0, 0, 1, 0, 0],\n",
              "        [2, 2, 2, 1, 2, 1, 1, 0, 1, 1, 1, 1, 1, 0, 1, 1, 0, 0, 2, 1, 0,\n",
              "         1, 1, 1, 1, 0, 0, 1, 1],\n",
              "        [0, 0, 0, 0, 0, 0, 0, 0, 0, 0, 0, 0, 0, 1, 2, 0, 0, 0, 0, 0, 0,\n",
              "         0, 0, 0, 0, 0, 1, 0, 0],\n",
              "        [1, 0, 1, 0, 0, 1, 0, 1, 1, 1, 2, 1, 0, 0, 2, 0, 1, 1, 0, 0, 1,\n",
              "         1, 0, 0, 0, 1, 1, 0, 0]])"
            ]
          },
          "metadata": {},
          "execution_count": 249
        }
      ]
    },
    {
      "cell_type": "code",
      "metadata": {
        "colab": {
          "base_uri": "https://localhost:8080/"
        },
        "id": "TmTO47AvT7l_",
        "outputId": "8fde0b63-536b-4f5a-c38b-c184cc7f593f"
      },
      "source": [
        "#first_news เป็น array ของข่าว โดย row ที่ 1 = ข่าวที่ต้องการตรวจสอบจาก cofact, row ที่ 2 = ข้อความสรุปใน cofact, row ที่ 3 = หัวข้อข่าวที่เชื่อถือได้ , row ที่ 4 = เนื้อหาข่าว paragraph แรกของข่าวที่เชื่อถือได้\n",
        "first_news = c_feat[:,:].todense()\n",
        "print(first_news) "
      ],
      "execution_count": null,
      "outputs": [
        {
          "output_type": "stream",
          "name": "stdout",
          "text": [
            "[[0 0 0 0 0 0 0 0 0 0 0 0 0 0 3 0 0 0 0 0 0 0 0 0 0 0 1 0 0]\n",
            " [2 2 2 1 2 1 1 0 1 1 1 1 1 0 1 1 0 0 2 1 0 1 1 1 1 0 0 1 1]\n",
            " [0 0 0 0 0 0 0 0 0 0 0 0 0 1 2 0 0 0 0 0 0 0 0 0 0 0 1 0 0]\n",
            " [1 0 1 0 0 1 0 1 1 1 2 1 0 0 2 0 1 1 0 0 1 1 0 0 0 1 1 0 0]]\n"
          ]
        }
      ]
    },
    {
      "cell_type": "code",
      "metadata": {
        "colab": {
          "base_uri": "https://localhost:8080/"
        },
        "id": "QOMLfahZT7l_",
        "outputId": "fb7389f5-208a-43f4-a2bb-caf3e5e87280"
      },
      "source": [
        "first_news.shape[1]"
      ],
      "execution_count": null,
      "outputs": [
        {
          "output_type": "execute_result",
          "data": {
            "text/plain": [
              "29"
            ]
          },
          "metadata": {},
          "execution_count": 251
        }
      ]
    },
    {
      "cell_type": "code",
      "metadata": {
        "colab": {
          "base_uri": "https://localhost:8080/"
        },
        "id": "z5ypqZGqT7l_",
        "outputId": "e36585bf-20e7-4ec6-c858-a7f18d81862e"
      },
      "source": [
        "#แปลงเป็น array ทััง 3 ข่าวเพื่อหา cosine similarity\n",
        "cofact_checker_array = numpy.array(cofact_checker) \n",
        "title_news_array = numpy.array(title_news) \n",
        "first_paragraph_news_array = numpy.array(first_paragraph_news)\n",
        "\n",
        "#หา similarity เทียบระหว่างข่าวที่ต้องการตรวจสอบบน cofact กับหัวข้อข่าวที่เชื่อถือได้\n",
        "print(cofact_checker_array[0][2])\n",
        "print(first_paragraph_news_array[0][4])"
      ],
      "execution_count": null,
      "outputs": [
        {
          "output_type": "stream",
          "name": "stdout",
          "text": [
            "1\n",
            "2\n"
          ]
        }
      ]
    },
    {
      "cell_type": "code",
      "metadata": {
        "colab": {
          "base_uri": "https://localhost:8080/"
        },
        "id": "hWxjlBqeT7l_",
        "outputId": "0014a16d-6abc-45a8-9bb7-253c619066d6"
      },
      "source": [
        "find_cosine_similarity(first_news, 0, 1) #เทียบ ข้อความที่ต้องการตรวจสอบบน cofact กับ ข้อความสรุปใน cofact"
      ],
      "execution_count": null,
      "outputs": [
        {
          "output_type": "stream",
          "name": "stdout",
          "text": [
            "This is sum (upperpart) : 3\n",
            "This is lowerpart : 529\n"
          ]
        },
        {
          "output_type": "execute_result",
          "data": {
            "text/plain": [
              "0.005671077504725898"
            ]
          },
          "metadata": {},
          "execution_count": 253
        }
      ]
    },
    {
      "cell_type": "code",
      "metadata": {
        "colab": {
          "base_uri": "https://localhost:8080/"
        },
        "id": "BWkoIX7gT7mA",
        "outputId": "e7fa66aa-12d0-4337-8180-2e9230e344a0"
      },
      "source": [
        "find_cosine_similarity(first_news, 0, 2)#เทียบ ข้อความที่ต้องการตรวจสอบบน cofact กับ หัวข้อข่าวที่เชื่อถือได้"
      ],
      "execution_count": null,
      "outputs": [
        {
          "output_type": "stream",
          "name": "stdout",
          "text": [
            "This is sum (upperpart) : 7\n",
            "This is lowerpart : 9\n"
          ]
        },
        {
          "output_type": "execute_result",
          "data": {
            "text/plain": [
              "0.7777777777777778"
            ]
          },
          "metadata": {},
          "execution_count": 254
        }
      ]
    },
    {
      "cell_type": "code",
      "metadata": {
        "colab": {
          "base_uri": "https://localhost:8080/"
        },
        "id": "yYxQetJsT7mA",
        "outputId": "e805914d-7152-4e8a-fb1b-1742b4b3e1e3"
      },
      "source": [
        "find_cosine_similarity(first_news, 0, 3)#เทียบ ข้อความที่ต้องการตรวจสอบบน cofact กับ เนื้อหาข่าว paragraph แรกของข่าวที่เชื่อถือได้"
      ],
      "execution_count": null,
      "outputs": [
        {
          "output_type": "stream",
          "name": "stdout",
          "text": [
            "This is sum (upperpart) : 7\n",
            "This is lowerpart : 225\n"
          ]
        },
        {
          "output_type": "execute_result",
          "data": {
            "text/plain": [
              "0.03111111111111111"
            ]
          },
          "metadata": {},
          "execution_count": 255
        }
      ]
    },
    {
      "cell_type": "markdown",
      "metadata": {
        "id": "SlqjfrlUU79L"
      },
      "source": [
        "# ข่าวที่ 4"
      ]
    },
    {
      "cell_type": "code",
      "metadata": {
        "id": "UAOiHc_LU79M"
      },
      "source": [
        "clean_text = [\"ยะลา คุมเข้มมาตรการ เคอร์ฟิว - ร้านขายอาหาร เครื่องดื่ม ปิด 2 ทุ่ม\", \"นายอำเภอเมืองยะลา นำทีมลงพื้นที่ กำชับมาตรการ เคอร์ฟิว - ร้านขายอาหาร เครื่องดื่ม ปิด 2 ทุ่มเคร่งครัด เพื่อลดความเสี่ยงแพร่เชื้อโควิด-19 ที่แพร่ระบาดอย่างรวดเร็ว รวมถึง คลัสเตอร์ใหญ่ในพื้นที่จังหวัดยะลา (โรงเรียน โรงงานยาง ยะลา เบตง) มียอดผู้ติดเชื้อเพิ่มสูงขึ้นอย่างต่อเนื่อง\", \"ยะลา คุมเข้มมาตรการ เคอร์ฟิว - ร้านขายอาหาร เครื่องดื่ม ปิด 2 ทุ่ม ลดเสี่ยงโควิด-19\",\"นายอำเภอเมืองยะลา นำทีมลงพื้นที่ กำชับมาตรการ เคอร์ฟิว - ร้านขายอาหาร เครื่องดื่ม ปิด 2 ทุ่มเคร่งครัด เพื่อลดความเสี่ยงแพร่เชื้อโควิด-19\"]"
      ],
      "execution_count": null,
      "outputs": []
    },
    {
      "cell_type": "markdown",
      "metadata": {
        "id": "mvn77xxHU79M"
      },
      "source": [
        "**Step 2: Tokenize**"
      ]
    },
    {
      "cell_type": "code",
      "metadata": {
        "colab": {
          "base_uri": "https://localhost:8080/"
        },
        "id": "jAa_Yj7_U79M",
        "outputId": "6a0a95be-9681-42d2-9e68-17460e8b6b7c"
      },
      "source": [
        "print('tokenized text:\\n',split_word(clean_text[0])) #ข้อความที่ต้องการตรวจสอบบน cofact\n",
        "print('tokenized text:\\n',split_word(clean_text[1])) #ข้อความสรุปใน cofact\n",
        "print('tokenized text:\\n',split_word(clean_text[2])) #หัวข่าวอ้างอิง\n",
        "print('tokenized text:\\n',split_word(clean_text[3])) #เนื้อหาข่าวอ้างอิง paragraph แรก"
      ],
      "execution_count": null,
      "outputs": [
        {
          "output_type": "stream",
          "name": "stdout",
          "text": [
            "tokenized text:\n",
            " ['ยะลา', 'คุม', 'เข้ม', 'มาตรการ', 'เคอร์ฟิว', 'ร้าน', 'ขาย', 'อาหาร', 'เครื่องดื่ม', 'ทุ่ม']\n",
            "tokenized text:\n",
            " ['นอ.', 'เมือง', 'ยะลา', 'ทีม', 'พื้นที่', 'ย้ำ', 'มาตรการ', 'เคอร์ฟิว', 'ร้าน', 'ขาย', 'อาหาร', 'เครื่องดื่ม', 'ทุ่ม', 'เคร่งครัด', 'ลด', 'ความเสี่ยง', 'แพร่เชื้อ', 'โควิด', 'แพร่ระบาด', 'คลัสเตอร์', 'พื้นที่', 'รัฐ', 'ยะลา', 'ร.ร.', 'ร.ง.', 'ยาง', 'ยะลา', 'เบตง', 'ยอด', 'ติดโรค', 'ต่อเนื่อง']\n",
            "tokenized text:\n",
            " ['ยะลา', 'คุม', 'เข้ม', 'มาตรการ', 'เคอร์ฟิว', 'ร้าน', 'ขาย', 'อาหาร', 'เครื่องดื่ม', 'ทุ่ม', 'ลด', 'เสี่ยง', 'โควิด']\n",
            "tokenized text:\n",
            " ['นอ.', 'เมือง', 'ยะลา', 'ทีม', 'พื้นที่', 'ย้ำ', 'มาตรการ', 'เคอร์ฟิว', 'ร้าน', 'ขาย', 'อาหาร', 'เครื่องดื่ม', 'ทุ่ม', 'เคร่งครัด', 'ลด', 'ความเสี่ยง', 'แพร่เชื้อ', 'โควิด']\n"
          ]
        }
      ]
    },
    {
      "cell_type": "code",
      "metadata": {
        "id": "SUj7asHJU79M"
      },
      "source": [
        "tokens_list = [split_word(txt) for txt in clean_text]"
      ],
      "execution_count": null,
      "outputs": []
    },
    {
      "cell_type": "code",
      "metadata": {
        "colab": {
          "base_uri": "https://localhost:8080/"
        },
        "id": "CMzrFQJbU79M",
        "outputId": "9835e05a-bdb1-4f8d-bc5b-a483f5b4739c"
      },
      "source": [
        "tokens_list"
      ],
      "execution_count": null,
      "outputs": [
        {
          "output_type": "execute_result",
          "data": {
            "text/plain": [
              "[['ยะลา',\n",
              "  'คุม',\n",
              "  'เข้ม',\n",
              "  'มาตรการ',\n",
              "  'เคอร์ฟิว',\n",
              "  'ร้าน',\n",
              "  'ขาย',\n",
              "  'อาหาร',\n",
              "  'เครื่องดื่ม',\n",
              "  'ทุ่ม'],\n",
              " ['นอ.',\n",
              "  'เมือง',\n",
              "  'ยะลา',\n",
              "  'ทีม',\n",
              "  'พื้นที่',\n",
              "  'ย้ำ',\n",
              "  'มาตรการ',\n",
              "  'เคอร์ฟิว',\n",
              "  'ร้าน',\n",
              "  'ขาย',\n",
              "  'อาหาร',\n",
              "  'เครื่องดื่ม',\n",
              "  'ทุ่ม',\n",
              "  'เคร่งครัด',\n",
              "  'ลด',\n",
              "  'ความเสี่ยง',\n",
              "  'แพร่เชื้อ',\n",
              "  'โควิด',\n",
              "  'แพร่ระบาด',\n",
              "  'คลัสเตอร์',\n",
              "  'พื้นที่',\n",
              "  'รัฐ',\n",
              "  'ยะลา',\n",
              "  'ร.ร.',\n",
              "  'ร.ง.',\n",
              "  'ยาง',\n",
              "  'ยะลา',\n",
              "  'เบตง',\n",
              "  'ยอด',\n",
              "  'ติดโรค',\n",
              "  'ต่อเนื่อง'],\n",
              " ['ยะลา',\n",
              "  'คุม',\n",
              "  'เข้ม',\n",
              "  'มาตรการ',\n",
              "  'เคอร์ฟิว',\n",
              "  'ร้าน',\n",
              "  'ขาย',\n",
              "  'อาหาร',\n",
              "  'เครื่องดื่ม',\n",
              "  'ทุ่ม',\n",
              "  'ลด',\n",
              "  'เสี่ยง',\n",
              "  'โควิด'],\n",
              " ['นอ.',\n",
              "  'เมือง',\n",
              "  'ยะลา',\n",
              "  'ทีม',\n",
              "  'พื้นที่',\n",
              "  'ย้ำ',\n",
              "  'มาตรการ',\n",
              "  'เคอร์ฟิว',\n",
              "  'ร้าน',\n",
              "  'ขาย',\n",
              "  'อาหาร',\n",
              "  'เครื่องดื่ม',\n",
              "  'ทุ่ม',\n",
              "  'เคร่งครัด',\n",
              "  'ลด',\n",
              "  'ความเสี่ยง',\n",
              "  'แพร่เชื้อ',\n",
              "  'โควิด']]"
            ]
          },
          "metadata": {},
          "execution_count": 263
        }
      ]
    },
    {
      "cell_type": "markdown",
      "metadata": {
        "id": "_OOwqO5aU79N"
      },
      "source": [
        "**Step 3 + 4a: Bag of words + count word**"
      ]
    },
    {
      "cell_type": "code",
      "metadata": {
        "colab": {
          "base_uri": "https://localhost:8080/"
        },
        "id": "N37QR8alU79N",
        "outputId": "855c6a07-018f-48b1-ced9-9c40c4825adb"
      },
      "source": [
        "from sklearn.feature_extraction.text import CountVectorizer\n",
        "tokens_list_j = [','.join(tkn) for tkn in tokens_list]\n",
        "cvec = CountVectorizer(analyzer=lambda x:x.split(','))\n",
        "print(cvec)\n",
        "c_feat = cvec.fit_transform(tokens_list_j)"
      ],
      "execution_count": null,
      "outputs": [
        {
          "output_type": "stream",
          "name": "stdout",
          "text": [
            "CountVectorizer(analyzer=<function <lambda> at 0x7f37aef54f80>, binary=False,\n",
            "                decode_error='strict', dtype=<class 'numpy.int64'>,\n",
            "                encoding='utf-8', input='content', lowercase=True, max_df=1.0,\n",
            "                max_features=None, min_df=1, ngram_range=(1, 1),\n",
            "                preprocessor=None, stop_words=None, strip_accents=None,\n",
            "                token_pattern='(?u)\\\\b\\\\w\\\\w+\\\\b', tokenizer=None,\n",
            "                vocabulary=None)\n"
          ]
        }
      ]
    },
    {
      "cell_type": "code",
      "metadata": {
        "colab": {
          "base_uri": "https://localhost:8080/"
        },
        "id": "iDAEwVgTU79N",
        "outputId": "d73bac61-aa2a-4f89-af37-e08bf3ff3eff"
      },
      "source": [
        "cvec.vocabulary_"
      ],
      "execution_count": null,
      "outputs": [
        {
          "output_type": "execute_result",
          "data": {
            "text/plain": [
              "{'ขาย': 0,\n",
              " 'คลัสเตอร์': 1,\n",
              " 'ความเสี่ยง': 2,\n",
              " 'คุม': 3,\n",
              " 'ติดโรค': 4,\n",
              " 'ต่อเนื่อง': 5,\n",
              " 'ทีม': 6,\n",
              " 'ทุ่ม': 7,\n",
              " 'นอ.': 8,\n",
              " 'พื้นที่': 9,\n",
              " 'มาตรการ': 10,\n",
              " 'ยอด': 11,\n",
              " 'ยะลา': 12,\n",
              " 'ยาง': 13,\n",
              " 'ย้ำ': 14,\n",
              " 'ร.ง.': 15,\n",
              " 'ร.ร.': 16,\n",
              " 'รัฐ': 17,\n",
              " 'ร้าน': 18,\n",
              " 'ลด': 19,\n",
              " 'อาหาร': 20,\n",
              " 'เข้ม': 21,\n",
              " 'เครื่องดื่ม': 22,\n",
              " 'เคร่งครัด': 23,\n",
              " 'เคอร์ฟิว': 24,\n",
              " 'เบตง': 25,\n",
              " 'เมือง': 26,\n",
              " 'เสี่ยง': 27,\n",
              " 'แพร่ระบาด': 28,\n",
              " 'แพร่เชื้อ': 29,\n",
              " 'โควิด': 30}"
            ]
          },
          "metadata": {},
          "execution_count": 265
        }
      ]
    },
    {
      "cell_type": "code",
      "metadata": {
        "colab": {
          "base_uri": "https://localhost:8080/"
        },
        "id": "0mHc5rB0U79N",
        "outputId": "73f13183-d8f0-4d34-afc2-8aa468049f90"
      },
      "source": [
        "c_feat[:,:].todense()"
      ],
      "execution_count": null,
      "outputs": [
        {
          "output_type": "execute_result",
          "data": {
            "text/plain": [
              "matrix([[1, 0, 0, 1, 0, 0, 0, 1, 0, 0, 1, 0, 1, 0, 0, 0, 0, 0, 1, 0, 1,\n",
              "         1, 1, 0, 1, 0, 0, 0, 0, 0, 0],\n",
              "        [1, 1, 1, 0, 1, 1, 1, 1, 1, 2, 1, 1, 3, 1, 1, 1, 1, 1, 1, 1, 1,\n",
              "         0, 1, 1, 1, 1, 1, 0, 1, 1, 1],\n",
              "        [1, 0, 0, 1, 0, 0, 0, 1, 0, 0, 1, 0, 1, 0, 0, 0, 0, 0, 1, 1, 1,\n",
              "         1, 1, 0, 1, 0, 0, 1, 0, 0, 1],\n",
              "        [1, 0, 1, 0, 0, 0, 1, 1, 1, 1, 1, 0, 1, 0, 1, 0, 0, 0, 1, 1, 1,\n",
              "         0, 1, 1, 1, 0, 1, 0, 0, 1, 1]])"
            ]
          },
          "metadata": {},
          "execution_count": 266
        }
      ]
    },
    {
      "cell_type": "code",
      "metadata": {
        "colab": {
          "base_uri": "https://localhost:8080/"
        },
        "id": "M934lrQdU79N",
        "outputId": "491294f4-e635-419f-edd9-28d7b183bbfb"
      },
      "source": [
        "#first_news เป็น array ของข่าว โดย row ที่ 1 = ข่าวที่ต้องการตรวจสอบจาก cofact, row ที่ 2 = ข้อความสรุปใน cofact, row ที่ 3 = หัวข้อข่าวที่เชื่อถือได้ , row ที่ 4 = เนื้อหาข่าว paragraph แรกของข่าวที่เชื่อถือได้\n",
        "first_news = c_feat[:,:].todense()\n",
        "print(first_news) "
      ],
      "execution_count": null,
      "outputs": [
        {
          "output_type": "stream",
          "name": "stdout",
          "text": [
            "[[1 0 0 1 0 0 0 1 0 0 1 0 1 0 0 0 0 0 1 0 1 1 1 0 1 0 0 0 0 0 0]\n",
            " [1 1 1 0 1 1 1 1 1 2 1 1 3 1 1 1 1 1 1 1 1 0 1 1 1 1 1 0 1 1 1]\n",
            " [1 0 0 1 0 0 0 1 0 0 1 0 1 0 0 0 0 0 1 1 1 1 1 0 1 0 0 1 0 0 1]\n",
            " [1 0 1 0 0 0 1 1 1 1 1 0 1 0 1 0 0 0 1 1 1 0 1 1 1 0 1 0 0 1 1]]\n"
          ]
        }
      ]
    },
    {
      "cell_type": "code",
      "metadata": {
        "colab": {
          "base_uri": "https://localhost:8080/"
        },
        "id": "d5jDzgpCU79N",
        "outputId": "c1404578-98c4-42ef-fe9f-d384da9e3af4"
      },
      "source": [
        "first_news.shape[1]"
      ],
      "execution_count": null,
      "outputs": [
        {
          "output_type": "execute_result",
          "data": {
            "text/plain": [
              "31"
            ]
          },
          "metadata": {},
          "execution_count": 268
        }
      ]
    },
    {
      "cell_type": "code",
      "metadata": {
        "colab": {
          "base_uri": "https://localhost:8080/"
        },
        "id": "j0a0kbOyU79O",
        "outputId": "9c72c78e-5fec-43db-cf47-d2b41278abe3"
      },
      "source": [
        "#แปลงเป็น array ทััง 3 ข่าวเพื่อหา cosine similarity\n",
        "cofact_checker_array = numpy.array(cofact_checker) \n",
        "title_news_array = numpy.array(title_news) \n",
        "first_paragraph_news_array = numpy.array(first_paragraph_news)\n",
        "\n",
        "#หา similarity เทียบระหว่างข่าวที่ต้องการตรวจสอบบน cofact กับหัวข้อข่าวที่เชื่อถือได้\n",
        "print(cofact_checker_array[0][2])\n",
        "print(first_paragraph_news_array[0][4])"
      ],
      "execution_count": null,
      "outputs": [
        {
          "output_type": "stream",
          "name": "stdout",
          "text": [
            "1\n",
            "2\n"
          ]
        }
      ]
    },
    {
      "cell_type": "code",
      "metadata": {
        "colab": {
          "base_uri": "https://localhost:8080/"
        },
        "id": "3xjr-zJHU79O",
        "outputId": "e4ce01f5-ce75-4f39-de35-872017c8986f"
      },
      "source": [
        "find_cosine_similarity(first_news, 0, 1) #เทียบ ข้อความที่ต้องการตรวจสอบบน cofact กับ ข้อความสรุปใน cofact"
      ],
      "execution_count": null,
      "outputs": [
        {
          "output_type": "stream",
          "name": "stdout",
          "text": [
            "This is sum (upperpart) : 10\n",
            "This is lowerpart : 900\n"
          ]
        },
        {
          "output_type": "execute_result",
          "data": {
            "text/plain": [
              "0.011111111111111112"
            ]
          },
          "metadata": {},
          "execution_count": 270
        }
      ]
    },
    {
      "cell_type": "code",
      "metadata": {
        "colab": {
          "base_uri": "https://localhost:8080/"
        },
        "id": "Ia9M4Kf1U79O",
        "outputId": "db69f4e6-345d-43e6-8187-ba143118b408"
      },
      "source": [
        "find_cosine_similarity(first_news, 0, 2)#เทียบ ข้อความที่ต้องการตรวจสอบบน cofact กับ หัวข้อข่าวที่เชื่อถือได้"
      ],
      "execution_count": null,
      "outputs": [
        {
          "output_type": "stream",
          "name": "stdout",
          "text": [
            "This is sum (upperpart) : 10\n",
            "This is lowerpart : 169\n"
          ]
        },
        {
          "output_type": "execute_result",
          "data": {
            "text/plain": [
              "0.05917159763313609"
            ]
          },
          "metadata": {},
          "execution_count": 271
        }
      ]
    },
    {
      "cell_type": "code",
      "metadata": {
        "colab": {
          "base_uri": "https://localhost:8080/"
        },
        "id": "DLqkGuzUU79O",
        "outputId": "daefa295-1d7f-4093-ff7a-f7b2a1aab75a"
      },
      "source": [
        "find_cosine_similarity(first_news, 0, 3)#เทียบ ข้อความที่ต้องการตรวจสอบบน cofact กับ เนื้อหาข่าว paragraph แรกของข่าวที่เชื่อถือได้"
      ],
      "execution_count": null,
      "outputs": [
        {
          "output_type": "stream",
          "name": "stdout",
          "text": [
            "This is sum (upperpart) : 8\n",
            "This is lowerpart : 400\n"
          ]
        },
        {
          "output_type": "execute_result",
          "data": {
            "text/plain": [
              "0.02"
            ]
          },
          "metadata": {},
          "execution_count": 272
        }
      ]
    },
    {
      "cell_type": "markdown",
      "metadata": {
        "id": "2HHRC1WF34Zb"
      },
      "source": [
        "------------------------------------   Develop Part --------------------------------------------"
      ]
    },
    {
      "cell_type": "markdown",
      "metadata": {
        "id": "nmOB-4XYp5FM"
      },
      "source": [
        "**Step 3 + 4b: Bag of words + tf-idf**"
      ]
    },
    {
      "cell_type": "code",
      "metadata": {
        "id": "3BGXh4AIiVIg"
      },
      "source": [
        "from sklearn.feature_extraction.text import TfidfVectorizer\n",
        "tvec = TfidfVectorizer(analyzer=lambda x:x.split(','),)\n",
        "t_feat = tvec.fit_transform(tokens_list_j)"
      ],
      "execution_count": null,
      "outputs": []
    },
    {
      "cell_type": "code",
      "metadata": {
        "id": "FXpAGrHaqLAg",
        "colab": {
          "base_uri": "https://localhost:8080/"
        },
        "outputId": "01ec3681-6107-4688-f142-f73c7541f4b1"
      },
      "source": [
        "t_feat[:,:5].todense()"
      ],
      "execution_count": null,
      "outputs": [
        {
          "output_type": "execute_result",
          "data": {
            "text/plain": [
              "matrix([[0.        , 0.        , 0.        , 0.        , 0.        ],\n",
              "        [0.28332179, 0.35935776, 0.28332179, 0.17967888, 0.35935776],\n",
              "        [0.        , 0.        , 0.        , 0.        , 0.        ],\n",
              "        [0.21590833, 0.        , 0.21590833, 0.        , 0.        ]])"
            ]
          },
          "metadata": {},
          "execution_count": 257
        }
      ]
    },
    {
      "cell_type": "code",
      "metadata": {
        "id": "94JnkQ1CqMnO",
        "colab": {
          "base_uri": "https://localhost:8080/"
        },
        "outputId": "4ca126ee-8245-4a86-acec-0062bae97f04"
      },
      "source": [
        "print(len(tvec.idf_),len(tvec.vocabulary_))"
      ],
      "execution_count": null,
      "outputs": [
        {
          "output_type": "stream",
          "name": "stdout",
          "text": [
            "29 29\n"
          ]
        }
      ]
    },
    {
      "cell_type": "code",
      "metadata": {
        "id": "xNr2NEFwpZ6r",
        "colab": {
          "base_uri": "https://localhost:8080/"
        },
        "outputId": "a6b36505-0fdd-4c19-b1aa-9b36e80ddc71"
      },
      "source": [
        "c_feat[:,:5].todense()"
      ],
      "execution_count": null,
      "outputs": [
        {
          "output_type": "execute_result",
          "data": {
            "text/plain": [
              "matrix([[0, 0, 0, 0, 0],\n",
              "        [2, 2, 2, 1, 2],\n",
              "        [0, 0, 0, 0, 0],\n",
              "        [1, 0, 1, 0, 0]])"
            ]
          },
          "metadata": {},
          "execution_count": 259
        }
      ]
    },
    {
      "cell_type": "code",
      "metadata": {
        "id": "nkMP7HMKtMM6"
      },
      "source": [
        ""
      ],
      "execution_count": null,
      "outputs": []
    }
  ]
}
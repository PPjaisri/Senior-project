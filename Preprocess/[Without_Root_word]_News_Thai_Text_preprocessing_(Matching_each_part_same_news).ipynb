{
  "cells": [
    {
      "cell_type": "markdown",
      "metadata": {
        "id": "mIWbiNOsy4cj"
      },
      "source": [
        "# แปลงเป็น Bag of words ข่าวจริง - จริง"
      ]
    },
    {
      "cell_type": "code",
      "execution_count": 1,
      "metadata": {
        "colab": {
          "base_uri": "https://localhost:8080/"
        },
        "id": "nd_Ssn4S_cLf",
        "outputId": "0d578f44-1f83-4987-aea1-d08eaff7b34f"
      },
      "outputs": [],
      "source": [
        "import pythainlp\n",
        "import numpy\n",
        "import math\n",
        "from pythainlp import word_tokenize\n",
        "from pythainlp import corpus\n",
        "from pythainlp.corpus import thai_stopwords\n",
        "from pythainlp.corpus import wordnet\n",
        "from nltk.stem.porter import PorterStemmer\n",
        "from nltk.corpus import words\n",
        "from stop_words import get_stop_words\n",
        "from string import punctuation"
      ]
    },
    {
      "cell_type": "code",
      "execution_count": 2,
      "metadata": {
        "colab": {
          "base_uri": "https://localhost:8080/"
        },
        "id": "8t8BnELxAiAo",
        "outputId": "006fe76b-5000-466a-ba39-1b2f2d4ac5ba"
      },
      "outputs": [
        {
          "name": "stderr",
          "output_type": "stream",
          "text": [
            "[nltk_data] Downloading package words to\n",
            "[nltk_data]     C:\\Users\\Administrator\\AppData\\Roaming\\nltk_data...\n",
            "[nltk_data]   Package words is already up-to-date!\n"
          ]
        }
      ],
      "source": [
        "import nltk\n",
        "nltk.download('words')\n",
        "th_stop = thai_stopwords()\n",
        "p_stemmer = PorterStemmer()"
      ]
    },
    {
      "cell_type": "code",
      "execution_count": 3,
      "metadata": {
        "id": "L0PE6j5gAk2O"
      },
      "outputs": [],
      "source": [
        "def split_word(text):\n",
        "            \n",
        "    \n",
        "    tokens = word_tokenize(text,engine='icu')\n",
        "    \n",
        "    # Remove stop words ภาษาไทย และอักขระพิเศษ\n",
        "    tokens = [i for i in tokens if not i in th_stop and not i in punctuation and not i in ['“','”','‘','’']] \n",
        "    \n",
        "    # Thai transform to root word\n",
        "    # tokens_temp=[]\n",
        "    # for i in tokens:\n",
        "    #     w_syn = wordnet.synsets(i)\n",
        "    #     if (len(w_syn)>0) and (len(w_syn[0].lemma_names('tha'))>0):\n",
        "    #         tokens_temp.append(w_syn[0].lemma_names('tha')[0])\n",
        "    #     else:\n",
        "    #         tokens_temp.append(i)\n",
        "    \n",
        "    # tokens = tokens_temp\n",
        "    \n",
        "    # ลบตัวเลข\n",
        "    tokens = [i for i in tokens if not i.isnumeric()]\n",
        "    \n",
        "    # ลบช่องว่าง\n",
        "    tokens = [i for i in tokens if not ' ' in i]\n",
        "\n",
        "    return tokens"
      ]
    },
    {
      "cell_type": "code",
      "execution_count": 4,
      "metadata": {
        "id": "X_ivVteuCccc"
      },
      "outputs": [],
      "source": [
        "def find_cosine_similarity(news_array, first_part_index, second_part_index):\n",
        "    sum = 0 #upper part of cosine similarity\n",
        "    sum_a = 0\n",
        "    sum_b = 0\n",
        "    total_words_number = news_array.shape[1]\n",
        "\n",
        "    for index in range(total_words_number):\n",
        "        if (news_array[first_part_index, index] == 0) and (news_array[second_part_index, index] ==0):\n",
        "            continue\n",
        "        sum_a += news_array[first_part_index, index]**2\n",
        "        sum_b += news_array[second_part_index, index]**2\n",
        "\n",
        "        sum += news_array[first_part_index, index]*news_array[second_part_index, index]\n",
        "\n",
        "    print('This is sum (upperpart) :',sum)\n",
        "    \n",
        "    squareroot_sum_a = math.sqrt(sum_a)\n",
        "    squareroot_sum_b = math.sqrt(sum_b)\n",
        "    lowerpart = squareroot_sum_a * squareroot_sum_b\n",
        "\n",
        "    print('This is lowerpart :',lowerpart)\n",
        "    return (sum/lowerpart)"
      ]
    },
    {
      "cell_type": "code",
      "execution_count": 5,
      "metadata": {
        "id": "XPCjAoblkn8Y"
      },
      "outputs": [],
      "source": [
        "import re\n",
        "def remove_emojis(data):\n",
        "    emoj = re.compile(\"[\"\n",
        "        u\"\\U0001F600-\\U0001F64F\"  # emoticons\n",
        "        u\"\\U0001F300-\\U0001F5FF\"  # symbols & pictographs\n",
        "        u\"\\U0001F680-\\U0001F6FF\"  # transport & map symbols\n",
        "        u\"\\U0001F1E0-\\U0001F1FF\"  # flags (iOS)\n",
        "        u\"\\U00002500-\\U00002BEF\"  # chinese char\n",
        "        u\"\\U00002702-\\U000027B0\"\n",
        "        u\"\\U00002702-\\U000027B0\"\n",
        "        u\"\\U000024C2-\\U0001F251\"\n",
        "        u\"\\U0001f926-\\U0001f937\"\n",
        "        u\"\\U00010000-\\U0010ffff\"\n",
        "        u\"\\u2640-\\u2642\" \n",
        "        u\"\\u2600-\\u2B55\"\n",
        "        u\"\\u200d\"\n",
        "        u\"\\u23cf\"\n",
        "        u\"\\u23e9\"\n",
        "        u\"\\u231a\"\n",
        "        u\"\\ufe0f\"  # dingbats\n",
        "        u\"\\u3030\"\n",
        "                      \"]+\", re.UNICODE)\n",
        "    return re.sub(emoj, '', data)"
      ]
    },
    {
      "cell_type": "markdown",
      "metadata": {
        "id": "IsCZBDYQKtca"
      },
      "source": [
        "# ข่าวที่ 1"
      ]
    },
    {
      "cell_type": "code",
      "execution_count": 6,
      "metadata": {
        "id": "XM4tAaU2Gxf-"
      },
      "outputs": [],
      "source": [
        "clean_text = [\"น้ำจะท่วมกรุงเทพฯ ในเดือนตุลา 64\",\"โดยสรุปก็คึอ ถ้าดูจากตัวเลขปริมาณการไหลของน้ำ การระบายน้ำ ปริมาณน้ำในเขื่อนใหญ่ที่ยังน้อยมาก และยังมีพื้นที่รับน้ำได้อีกมาก รวมทั้งพื้นที่รับน้ำที่ท่วมอยู่ในเวลานี้ด้วย ก็จะเห็นว่า กรุงเทพมหานคร และนนทบุรี ยังคงไม่มีแนวโน้มจะถูกน้ำท่วม (ที่ไม่ใช่น้ำท่วมขังเวลาฝนตก)\", \"น้ำท่วมจะไปไหน ข่าวลือเริ่มแรง กรุงเทพฯ-นนทบุรี จะจมน้ำ?\", \"แหล่งข่าวผู้เชี่ยวชาญด้านทรัพยากรน้ำระบุ สถานการณ์น้ำในปัจจุบัน จากข้อมูลพบว่ายังคงแตกต่างจากปี 2554 หลังเกิดความกังวล ส่งต่อข้อมูลและเปรียบเทียบว่า น้ำจะท่วมกรุงเทพมหานครและนนทบุรีแบบมหาอุทกภัย\"]"
      ]
    },
    {
      "cell_type": "markdown",
      "metadata": {
        "id": "HMsJiL3-_4p5"
      },
      "source": [
        "**Step 2: Tokenize**"
      ]
    },
    {
      "cell_type": "code",
      "execution_count": 7,
      "metadata": {
        "colab": {
          "base_uri": "https://localhost:8080/"
        },
        "id": "Ncd6qBzeCtDD",
        "outputId": "d41d6a25-6b30-44b7-ed26-6908076c4e66"
      },
      "outputs": [
        {
          "name": "stdout",
          "output_type": "stream",
          "text": [
            "tokenized text:\n",
            " ['น้ำ', 'ท่วม', 'กรุงเทพฯ', 'เดือน', 'ตุลา']\n",
            "tokenized text:\n",
            " ['สรุป', 'คึอ', 'ดู', 'ตัวเลข', 'ปริมาณ', 'ไหล', 'น้ำ', 'ระบาย', 'น้ำ', 'ปริมาณ', 'น้ำ', 'เขื่อน', 'พื้นที่', 'น้ำ', 'พื้นที่', 'น้ำ', 'ท่วม', 'เวลา', 'กรุงเทพมหานคร', 'นนทบุรี', 'ไม่มี', 'แนว', 'โน้ม', 'น้ำ', 'ท่วม', 'น้ำ', 'ท่วม', 'ขัง', 'เวลา', 'ฝน', 'ตก']\n",
            "tokenized text:\n",
            " ['น้ำ', 'ท่วม', 'ข่าว', 'ลือ', 'แรง', 'กรุงเทพฯ', 'นนทบุรี', 'จม', 'น้ำ']\n",
            "tokenized text:\n",
            " ['แหล่ง', 'ข่าว', 'เชี่ยวชาญ', 'ทรัพยากร', 'น้ำ', 'ระบุ', 'สถานการณ์', 'น้ำ', 'ข้อมูล', 'แตก', 'ปี', 'กังวล', 'ข้อมูล', 'เปรียบ', 'เทียบ', 'น้ำ', 'ท่วม', 'กรุงเทพมหานคร', 'นนทบุรี', 'มหา', 'อุทกภัย']\n"
          ]
        }
      ],
      "source": [
        "print('tokenized text:\\n',split_word(clean_text[0])) #ข้อความที่ต้องการตรวจสอบบน cofact\n",
        "print('tokenized text:\\n',split_word(clean_text[1])) #ข้อความสรุปใน cofact\n",
        "print('tokenized text:\\n',split_word(clean_text[2])) #หัวข่าวอ้างอิง\n",
        "print('tokenized text:\\n',split_word(clean_text[3])) #เนื้อหาข่าวอ้างอิง paragraph แรก"
      ]
    },
    {
      "cell_type": "code",
      "execution_count": 8,
      "metadata": {
        "id": "_E6wussDHCkm"
      },
      "outputs": [],
      "source": [
        "tokens_list = [split_word(txt) for txt in clean_text]"
      ]
    },
    {
      "cell_type": "code",
      "execution_count": 9,
      "metadata": {
        "colab": {
          "base_uri": "https://localhost:8080/"
        },
        "id": "0FXgJH4JHPYg",
        "outputId": "fab02b39-7275-4683-d44e-d2cd3030d2db"
      },
      "outputs": [
        {
          "data": {
            "text/plain": [
              "[['น้ำ', 'ท่วม', 'กรุงเทพฯ', 'เดือน', 'ตุลา'],\n",
              " ['สรุป',\n",
              "  'คึอ',\n",
              "  'ดู',\n",
              "  'ตัวเลข',\n",
              "  'ปริมาณ',\n",
              "  'ไหล',\n",
              "  'น้ำ',\n",
              "  'ระบาย',\n",
              "  'น้ำ',\n",
              "  'ปริมาณ',\n",
              "  'น้ำ',\n",
              "  'เขื่อน',\n",
              "  'พื้นที่',\n",
              "  'น้ำ',\n",
              "  'พื้นที่',\n",
              "  'น้ำ',\n",
              "  'ท่วม',\n",
              "  'เวลา',\n",
              "  'กรุงเทพมหานคร',\n",
              "  'นนทบุรี',\n",
              "  'ไม่มี',\n",
              "  'แนว',\n",
              "  'โน้ม',\n",
              "  'น้ำ',\n",
              "  'ท่วม',\n",
              "  'น้ำ',\n",
              "  'ท่วม',\n",
              "  'ขัง',\n",
              "  'เวลา',\n",
              "  'ฝน',\n",
              "  'ตก'],\n",
              " ['น้ำ', 'ท่วม', 'ข่าว', 'ลือ', 'แรง', 'กรุงเทพฯ', 'นนทบุรี', 'จม', 'น้ำ'],\n",
              " ['แหล่ง',\n",
              "  'ข่าว',\n",
              "  'เชี่ยวชาญ',\n",
              "  'ทรัพยากร',\n",
              "  'น้ำ',\n",
              "  'ระบุ',\n",
              "  'สถานการณ์',\n",
              "  'น้ำ',\n",
              "  'ข้อมูล',\n",
              "  'แตก',\n",
              "  'ปี',\n",
              "  'กังวล',\n",
              "  'ข้อมูล',\n",
              "  'เปรียบ',\n",
              "  'เทียบ',\n",
              "  'น้ำ',\n",
              "  'ท่วม',\n",
              "  'กรุงเทพมหานคร',\n",
              "  'นนทบุรี',\n",
              "  'มหา',\n",
              "  'อุทกภัย']]"
            ]
          },
          "execution_count": 9,
          "metadata": {},
          "output_type": "execute_result"
        }
      ],
      "source": [
        "tokens_list"
      ]
    },
    {
      "cell_type": "markdown",
      "metadata": {
        "id": "5xyaFdoLF-bm"
      },
      "source": [
        "**Step 3 + 4a: Bag of words + count word**"
      ]
    },
    {
      "cell_type": "code",
      "execution_count": 10,
      "metadata": {
        "colab": {
          "base_uri": "https://localhost:8080/"
        },
        "id": "KacGNWcMjzrn",
        "outputId": "2328a20f-36f4-4cc4-ce0e-c2209d2830cc"
      },
      "outputs": [
        {
          "name": "stdout",
          "output_type": "stream",
          "text": [
            "CountVectorizer(analyzer=<function <lambda> at 0x0000027AA3187C10>)\n"
          ]
        }
      ],
      "source": [
        "from sklearn.feature_extraction.text import CountVectorizer\n",
        "tokens_list_j = [','.join(tkn) for tkn in tokens_list]\n",
        "cvec = CountVectorizer(analyzer=lambda x:x.split(','))\n",
        "print(cvec)\n",
        "c_feat = cvec.fit_transform(tokens_list_j)"
      ]
    },
    {
      "cell_type": "code",
      "execution_count": 11,
      "metadata": {
        "colab": {
          "base_uri": "https://localhost:8080/"
        },
        "id": "LOcncIVCkvw6",
        "outputId": "674b0640-a20d-43d8-8e8e-88962bd7940c"
      },
      "outputs": [
        {
          "data": {
            "text/plain": [
              "{'น้ำ': 15,\n",
              " 'ท่วม': 13,\n",
              " 'กรุงเทพฯ': 1,\n",
              " 'เดือน': 29,\n",
              " 'ตุลา': 11,\n",
              " 'สรุป': 25,\n",
              " 'คึอ': 6,\n",
              " 'ดู': 8,\n",
              " 'ตัวเลข': 10,\n",
              " 'ปริมาณ': 16,\n",
              " 'ไหล': 39,\n",
              " 'ระบาย': 21,\n",
              " 'เขื่อน': 27,\n",
              " 'พื้นที่': 19,\n",
              " 'เวลา': 32,\n",
              " 'กรุงเทพมหานคร': 0,\n",
              " 'นนทบุรี': 14,\n",
              " 'ไม่มี': 38,\n",
              " 'แนว': 34,\n",
              " 'โน้ม': 37,\n",
              " 'ขัง': 3,\n",
              " 'ฝน': 18,\n",
              " 'ตก': 9,\n",
              " 'ข่าว': 4,\n",
              " 'ลือ': 23,\n",
              " 'แรง': 35,\n",
              " 'จม': 7,\n",
              " 'แหล่ง': 36,\n",
              " 'เชี่ยวชาญ': 28,\n",
              " 'ทรัพยากร': 12,\n",
              " 'ระบุ': 22,\n",
              " 'สถานการณ์': 24,\n",
              " 'ข้อมูล': 5,\n",
              " 'แตก': 33,\n",
              " 'ปี': 17,\n",
              " 'กังวล': 2,\n",
              " 'เปรียบ': 31,\n",
              " 'เทียบ': 30,\n",
              " 'มหา': 20,\n",
              " 'อุทกภัย': 26}"
            ]
          },
          "execution_count": 11,
          "metadata": {},
          "output_type": "execute_result"
        }
      ],
      "source": [
        "cvec.vocabulary_"
      ]
    },
    {
      "cell_type": "code",
      "execution_count": 12,
      "metadata": {
        "colab": {
          "base_uri": "https://localhost:8080/"
        },
        "id": "MCfZP-NMb0lM",
        "outputId": "ed812061-1bf7-476e-c859-179214215a33"
      },
      "outputs": [
        {
          "data": {
            "text/plain": [
              "matrix([[0, 1, 0, 0, 0, 0, 0, 0, 0, 0, 0, 1, 0, 1, 0, 1, 0, 0, 0, 0, 0,\n",
              "         0, 0, 0, 0, 0, 0, 0, 0, 1, 0, 0, 0, 0, 0, 0, 0, 0, 0, 0],\n",
              "        [1, 0, 0, 1, 0, 0, 1, 0, 1, 1, 1, 0, 0, 3, 1, 7, 2, 0, 1, 2, 0,\n",
              "         1, 0, 0, 0, 1, 0, 1, 0, 0, 0, 0, 2, 0, 1, 0, 0, 1, 1, 1],\n",
              "        [0, 1, 0, 0, 1, 0, 0, 1, 0, 0, 0, 0, 0, 1, 1, 2, 0, 0, 0, 0, 0,\n",
              "         0, 0, 1, 0, 0, 0, 0, 0, 0, 0, 0, 0, 0, 0, 1, 0, 0, 0, 0],\n",
              "        [1, 0, 1, 0, 1, 2, 0, 0, 0, 0, 0, 0, 1, 1, 1, 3, 0, 1, 0, 0, 1,\n",
              "         0, 1, 0, 1, 0, 1, 0, 1, 0, 1, 1, 0, 1, 0, 0, 1, 0, 0, 0]],\n",
              "       dtype=int64)"
            ]
          },
          "execution_count": 12,
          "metadata": {},
          "output_type": "execute_result"
        }
      ],
      "source": [
        "c_feat[:,:].todense()"
      ]
    },
    {
      "cell_type": "code",
      "execution_count": 13,
      "metadata": {
        "colab": {
          "base_uri": "https://localhost:8080/"
        },
        "id": "JVl0qyvS33dM",
        "outputId": "76e8a9ae-689f-47fc-f191-85c10d74d565"
      },
      "outputs": [
        {
          "name": "stdout",
          "output_type": "stream",
          "text": [
            "[[0 1 0 0 0 0 0 0 0 0 0 1 0 1 0 1 0 0 0 0 0 0 0 0 0 0 0 0 0 1 0 0 0 0 0 0\n",
            "  0 0 0 0]\n",
            " [1 0 0 1 0 0 1 0 1 1 1 0 0 3 1 7 2 0 1 2 0 1 0 0 0 1 0 1 0 0 0 0 2 0 1 0\n",
            "  0 1 1 1]\n",
            " [0 1 0 0 1 0 0 1 0 0 0 0 0 1 1 2 0 0 0 0 0 0 0 1 0 0 0 0 0 0 0 0 0 0 0 1\n",
            "  0 0 0 0]\n",
            " [1 0 1 0 1 2 0 0 0 0 0 0 1 1 1 3 0 1 0 0 1 0 1 0 1 0 1 0 1 0 1 1 0 1 0 0\n",
            "  1 0 0 0]]\n"
          ]
        }
      ],
      "source": [
        "#first_news เป็น array ของข่าว โดย row ที่ 1 = ข่าวที่ต้องการตรวจสอบจาก cofact, row ที่ 2 = ข้อความสรุปใน cofact, row ที่ 3 = หัวข้อข่าวที่เชื่อถือได้ , row ที่ 4 = เนื้อหาข่าว paragraph แรกของข่าวที่เชื่อถือได้\n",
        "first_news = c_feat[:,:].todense()\n",
        "print(first_news) "
      ]
    },
    {
      "cell_type": "code",
      "execution_count": 14,
      "metadata": {
        "colab": {
          "base_uri": "https://localhost:8080/"
        },
        "id": "-ZyiPYjaD63x",
        "outputId": "cf336a51-443e-4de5-e3e2-40ebfdd582f2"
      },
      "outputs": [
        {
          "data": {
            "text/plain": [
              "40"
            ]
          },
          "execution_count": 14,
          "metadata": {},
          "output_type": "execute_result"
        }
      ],
      "source": [
        "first_news.shape[1]"
      ]
    },
    {
      "cell_type": "code",
      "execution_count": 15,
      "metadata": {
        "colab": {
          "base_uri": "https://localhost:8080/"
        },
        "id": "XikLpwuTGKFh",
        "outputId": "5ffc98c0-39bf-4610-e712-d3c13d021766"
      },
      "outputs": [
        {
          "name": "stdout",
          "output_type": "stream",
          "text": [
            "This is sum (upperpart) : 10\n",
            "This is lowerpart : 20.615528128088304\n"
          ]
        },
        {
          "data": {
            "text/plain": [
              "0.48507125007266594"
            ]
          },
          "execution_count": 15,
          "metadata": {},
          "output_type": "execute_result"
        }
      ],
      "source": [
        "find_cosine_similarity(first_news, 0, 1) #เทียบ ข้อความที่ต้องการตรวจสอบบน cofact กับ ข้อความสรุปใน cofact"
      ]
    },
    {
      "cell_type": "code",
      "execution_count": 16,
      "metadata": {
        "colab": {
          "base_uri": "https://localhost:8080/"
        },
        "id": "2QjcxV4pNnZK",
        "outputId": "860330bf-ab9e-4aac-96cb-261bdd20135b"
      },
      "outputs": [
        {
          "name": "stdout",
          "output_type": "stream",
          "text": [
            "This is sum (upperpart) : 4\n",
            "This is lowerpart : 7.416198487095663\n"
          ]
        },
        {
          "data": {
            "text/plain": [
              "0.5393598899705937"
            ]
          },
          "execution_count": 16,
          "metadata": {},
          "output_type": "execute_result"
        }
      ],
      "source": [
        "find_cosine_similarity(first_news, 0, 2)#เทียบ ข้อความที่ต้องการตรวจสอบบน cofact กับ หัวข้อข่าวที่เชื่อถือได้"
      ]
    },
    {
      "cell_type": "code",
      "execution_count": 17,
      "metadata": {
        "colab": {
          "base_uri": "https://localhost:8080/"
        },
        "id": "5GHqimgRQzOt",
        "outputId": "2d4fb7c1-a6be-4ab5-e938-45035bb84dcf"
      },
      "outputs": [
        {
          "name": "stdout",
          "output_type": "stream",
          "text": [
            "This is sum (upperpart) : 4\n",
            "This is lowerpart : 12.041594578792296\n"
          ]
        },
        {
          "data": {
            "text/plain": [
              "0.3321819194149599"
            ]
          },
          "execution_count": 17,
          "metadata": {},
          "output_type": "execute_result"
        }
      ],
      "source": [
        "find_cosine_similarity(first_news, 0, 3)#เทียบ ข้อความที่ต้องการตรวจสอบบน cofact กับ เนื้อหาข่าว paragraph แรกของข่าวที่เชื่อถือได้"
      ]
    },
    {
      "cell_type": "markdown",
      "metadata": {
        "id": "GoWE42JsKmub"
      },
      "source": [
        "# -------------- ข่าวที่ 2 ----------------------------"
      ]
    },
    {
      "cell_type": "code",
      "execution_count": 18,
      "metadata": {
        "id": "yuZGvym-SXeO"
      },
      "outputs": [],
      "source": [
        "clean_text = [\"ขณะนี้ คิวในการยื่นขอ VISA ประเทศสหรัฐอเมริกา คิวอยู่ที่เดือนสิงหาคม พ.ศ. 2565 แล้ว จริงหรือไม่\",\"ระยะเวลารอคิวการยื่นวีซ่าสามารถเช็กได้ที่เว็บไซต์https://travel.state.gov/content/travel/⋯sa-information-resources/wait-times.htmlจากการเช็กล่าสุดพบว่าระยะเวลาการรอวีซ่าคือVisitor Visa 35 Calendar DaysStudent/Exchange Visitor Visas 2 Calendar DaysAll Other Nonimmigrant Visas 2 Calendar Daysไม่ถึงปี 65 แต่อย่างใด\"]"
      ]
    },
    {
      "cell_type": "markdown",
      "metadata": {
        "id": "MhRDNlBaSXeO"
      },
      "source": [
        "**Step 2: Tokenize**"
      ]
    },
    {
      "cell_type": "code",
      "execution_count": 19,
      "metadata": {
        "colab": {
          "base_uri": "https://localhost:8080/"
        },
        "id": "kRK9S8KiSXeP",
        "outputId": "8315598c-b354-4268-f5e4-8f55b545e087"
      },
      "outputs": [
        {
          "name": "stdout",
          "output_type": "stream",
          "text": [
            "tokenized text:\n",
            " ['คิว', 'ยื่น', 'VISA', 'ประเทศ', 'สหรัฐอเมริกา', 'คิว', 'เดือน', 'สิงหาคม', 'พ', 'ศ']\n",
            "tokenized text:\n",
            " ['เวลา', 'รอ', 'คิว', 'ยื่น', 'วีซ่า', 'สา', 'รถ', 'เช็ก', 'เว็บไซต์', 'https', 'travel.state.gov', 'content', 'travel', '⋯', 'sa', 'information', 'resources', 'wait', 'times.html', 'จา', 'กการเช็', 'กล่า', 'เวลา', 'รอ', 'วีซ่า', 'Visitor', 'Visa', 'Calendar', 'DaysStudent', 'Exchange', 'Visitor', 'Visas', 'Calendar', 'DaysAll', 'Other', 'Nonimmigrant', 'Visas', 'Calendar', 'Days', 'ปี', 'ใด']\n"
          ]
        }
      ],
      "source": [
        "print('tokenized text:\\n',split_word(clean_text[0])) #ข้อความที่ต้องการตรวจสอบบน cofact\n",
        "print('tokenized text:\\n',split_word(clean_text[1])) #ข้อความสรุปใน cofact\n",
        "# print('tokenized text:\\n',split_word(clean_text[2])) #หัวข่าวอ้างอิง\n",
        "# print('tokenized text:\\n',split_word(clean_text[3])) #เนื้อหาข่าวอ้างอิง paragraph แรก"
      ]
    },
    {
      "cell_type": "code",
      "execution_count": 20,
      "metadata": {
        "id": "Gza6paN5SXeP"
      },
      "outputs": [],
      "source": [
        "tokens_list = [split_word(txt) for txt in clean_text]"
      ]
    },
    {
      "cell_type": "code",
      "execution_count": 21,
      "metadata": {
        "colab": {
          "base_uri": "https://localhost:8080/"
        },
        "id": "u5tnn4EnSXeP",
        "outputId": "70062d9e-ab25-4d59-ac81-d8e0ff242ac9"
      },
      "outputs": [
        {
          "data": {
            "text/plain": [
              "[['คิว',\n",
              "  'ยื่น',\n",
              "  'VISA',\n",
              "  'ประเทศ',\n",
              "  'สหรัฐอเมริกา',\n",
              "  'คิว',\n",
              "  'เดือน',\n",
              "  'สิงหาคม',\n",
              "  'พ',\n",
              "  'ศ'],\n",
              " ['เวลา',\n",
              "  'รอ',\n",
              "  'คิว',\n",
              "  'ยื่น',\n",
              "  'วีซ่า',\n",
              "  'สา',\n",
              "  'รถ',\n",
              "  'เช็ก',\n",
              "  'เว็บไซต์',\n",
              "  'https',\n",
              "  'travel.state.gov',\n",
              "  'content',\n",
              "  'travel',\n",
              "  '⋯',\n",
              "  'sa',\n",
              "  'information',\n",
              "  'resources',\n",
              "  'wait',\n",
              "  'times.html',\n",
              "  'จา',\n",
              "  'กการเช็',\n",
              "  'กล่า',\n",
              "  'เวลา',\n",
              "  'รอ',\n",
              "  'วีซ่า',\n",
              "  'Visitor',\n",
              "  'Visa',\n",
              "  'Calendar',\n",
              "  'DaysStudent',\n",
              "  'Exchange',\n",
              "  'Visitor',\n",
              "  'Visas',\n",
              "  'Calendar',\n",
              "  'DaysAll',\n",
              "  'Other',\n",
              "  'Nonimmigrant',\n",
              "  'Visas',\n",
              "  'Calendar',\n",
              "  'Days',\n",
              "  'ปี',\n",
              "  'ใด']]"
            ]
          },
          "execution_count": 21,
          "metadata": {},
          "output_type": "execute_result"
        }
      ],
      "source": [
        "tokens_list"
      ]
    },
    {
      "cell_type": "markdown",
      "metadata": {
        "id": "zsDMjc-DSXeP"
      },
      "source": [
        "**Step 3 + 4a: Bag of words + count word**"
      ]
    },
    {
      "cell_type": "code",
      "execution_count": 22,
      "metadata": {
        "id": "SXYMe2h2SXeP"
      },
      "outputs": [],
      "source": [
        "from sklearn.feature_extraction.text import CountVectorizer\n",
        "tokens_list_j = [','.join(tkn) for tkn in tokens_list]\n",
        "cvec = CountVectorizer(analyzer=lambda x:x.split(','))\n",
        "c_feat = cvec.fit_transform(tokens_list_j)"
      ]
    },
    {
      "cell_type": "code",
      "execution_count": 23,
      "metadata": {
        "colab": {
          "base_uri": "https://localhost:8080/"
        },
        "id": "duTkBhlMSXeQ",
        "outputId": "c32a7e86-3874-4a50-9a8e-c2eb3a0e2caf"
      },
      "outputs": [
        {
          "data": {
            "text/plain": [
              "{'คิว': 22,\n",
              " 'ยื่น': 27,\n",
              " 'VISA': 7,\n",
              " 'ประเทศ': 24,\n",
              " 'สหรัฐอเมริกา': 32,\n",
              " 'เดือน': 36,\n",
              " 'สิงหาคม': 34,\n",
              " 'พ': 26,\n",
              " 'ศ': 31,\n",
              " 'เวลา': 37,\n",
              " 'รอ': 29,\n",
              " 'วีซ่า': 30,\n",
              " 'สา': 33,\n",
              " 'รถ': 28,\n",
              " 'เช็ก': 35,\n",
              " 'เว็บไซต์': 38,\n",
              " 'https': 12,\n",
              " 'travel.state.gov': 18,\n",
              " 'content': 11,\n",
              " 'travel': 17,\n",
              " '⋯': 40,\n",
              " 'sa': 15,\n",
              " 'information': 13,\n",
              " 'resources': 14,\n",
              " 'wait': 19,\n",
              " 'times.html': 16,\n",
              " 'จา': 23,\n",
              " 'กการเช็': 20,\n",
              " 'กล่า': 21,\n",
              " 'Visitor': 10,\n",
              " 'Visa': 8,\n",
              " 'Calendar': 0,\n",
              " 'DaysStudent': 3,\n",
              " 'Exchange': 4,\n",
              " 'Visas': 9,\n",
              " 'DaysAll': 2,\n",
              " 'Other': 6,\n",
              " 'Nonimmigrant': 5,\n",
              " 'Days': 1,\n",
              " 'ปี': 25,\n",
              " 'ใด': 39}"
            ]
          },
          "execution_count": 23,
          "metadata": {},
          "output_type": "execute_result"
        }
      ],
      "source": [
        "cvec.vocabulary_"
      ]
    },
    {
      "cell_type": "code",
      "execution_count": 24,
      "metadata": {
        "colab": {
          "base_uri": "https://localhost:8080/"
        },
        "id": "dGtvFXD5SXeQ",
        "outputId": "06de9d2e-416b-4e1b-8433-c041a2bff315"
      },
      "outputs": [
        {
          "data": {
            "text/plain": [
              "matrix([[0, 0, 0, 0, 0, 0, 0, 1, 0, 0, 0, 0, 0, 0, 0, 0, 0, 0, 0, 0, 0,\n",
              "         0, 2, 0, 1, 0, 1, 1, 0, 0, 0, 1, 1, 0, 1, 0, 1, 0, 0, 0, 0],\n",
              "        [3, 1, 1, 1, 1, 1, 1, 0, 1, 2, 2, 1, 1, 1, 1, 1, 1, 1, 1, 1, 1,\n",
              "         1, 1, 1, 0, 1, 0, 1, 1, 2, 2, 0, 0, 1, 0, 1, 0, 2, 1, 1, 1]],\n",
              "       dtype=int64)"
            ]
          },
          "execution_count": 24,
          "metadata": {},
          "output_type": "execute_result"
        }
      ],
      "source": [
        "c_feat[:,:].todense()"
      ]
    },
    {
      "cell_type": "code",
      "execution_count": 25,
      "metadata": {
        "colab": {
          "base_uri": "https://localhost:8080/"
        },
        "id": "N6NY2lRsSXeQ",
        "outputId": "68810520-9365-4310-c9dc-4fb86923b9c4"
      },
      "outputs": [
        {
          "name": "stdout",
          "output_type": "stream",
          "text": [
            "[[0 0 0 0 0 0 0 1 0 0 0 0 0 0 0 0 0 0 0 0 0 0 2 0 1 0 1 1 0 0 0 1 1 0 1 0\n",
            "  1 0 0 0 0]\n",
            " [3 1 1 1 1 1 1 0 1 2 2 1 1 1 1 1 1 1 1 1 1 1 1 1 0 1 0 1 1 2 2 0 0 1 0 1\n",
            "  0 2 1 1 1]]\n"
          ]
        }
      ],
      "source": [
        "#first_news เป็น array ของข่าว โดย row ที่ 1 = ข่าวที่ต้องการตรวจสอบจาก cofact, row ที่ 2 = ข้อความสรุปใน cofact, row ที่ 3 = หัวข้อข่าวที่เชื่อถือได้ , row ที่ 4 = เนื้อหาข่าว paragraph แรกของข่าวที่เชื่อถือได้\n",
        "first_news = c_feat[:,:].todense()\n",
        "print(first_news) "
      ]
    },
    {
      "cell_type": "code",
      "execution_count": 26,
      "metadata": {
        "colab": {
          "base_uri": "https://localhost:8080/"
        },
        "id": "w9BsMfIESXeQ",
        "outputId": "7803240d-2c4e-4269-a150-c5774e6bb5b4"
      },
      "outputs": [
        {
          "data": {
            "text/plain": [
              "41"
            ]
          },
          "execution_count": 26,
          "metadata": {},
          "output_type": "execute_result"
        }
      ],
      "source": [
        "first_news.shape[1]"
      ]
    },
    {
      "cell_type": "code",
      "execution_count": 27,
      "metadata": {
        "colab": {
          "base_uri": "https://localhost:8080/"
        },
        "id": "ZTZJRce_SXeR",
        "outputId": "c9b1afef-c5d5-45c2-8eeb-baa559f0f9bb"
      },
      "outputs": [
        {
          "name": "stdout",
          "output_type": "stream",
          "text": [
            "This is sum (upperpart) : 3\n",
            "This is lowerpart : 26.15339366124404\n"
          ]
        },
        {
          "data": {
            "text/plain": [
              "0.1147078669352809"
            ]
          },
          "execution_count": 27,
          "metadata": {},
          "output_type": "execute_result"
        }
      ],
      "source": [
        "find_cosine_similarity(first_news, 0, 1) #เทียบ ข้อความที่ต้องการตรวจสอบบน cofact กับ ข้อความสรุปใน cofact"
      ]
    },
    {
      "cell_type": "markdown",
      "metadata": {
        "id": "inGIJadZT7l9"
      },
      "source": [
        "# ข่าวที่ 3"
      ]
    },
    {
      "cell_type": "code",
      "execution_count": 28,
      "metadata": {
        "id": "V1mH0JIAT7l9"
      },
      "outputs": [],
      "source": [
        "clean_text = [\"ประเทศไทย มีจังหวัดเพิ่มอีก 6 จังหวัด จริงหรือ\",\"ผู้สื่อข่าวรายงานว่า กรมการปกครอง กระทรวงมหาดไทย เผยแพร่ข้อมูลว่าตามที่ปรากฏข่าวสารผ่านสื่อออนไลน์ว่า “ประกาศชาวไทย จะมี 83 จังหวัดแล้ว” นั้น กรมการปกครอง กระทรวงมหาดไทย ชี้แจงว่า ข้อมูลข่าวดังกล่าวไม่เป็นความจริงแต่ประการใด และเป็นการแชร์ข่าวที่เคยเป็นข่าวปลอม มาตั้งแต่ปี พ.ศ.2558 แล้ว\",\"มท.ยืนยันประเทศไทยมีแค่ 76 จังหวัด\",\"กรมการปกครอง ร่อนหนังสือชี้แจงข่าวปลอมในโซเชียล อ้างประกาศชาวไทยจะมี 83 จังหวัด ชี้เป็นข่าวปลอมตั้งแต่ปี 2558 ยืนยันไทยมี 76 จังหวัด\"]"
      ]
    },
    {
      "cell_type": "markdown",
      "metadata": {
        "id": "rYF9xwtvT7l-"
      },
      "source": [
        "**Step 2: Tokenize**"
      ]
    },
    {
      "cell_type": "code",
      "execution_count": 29,
      "metadata": {
        "colab": {
          "base_uri": "https://localhost:8080/"
        },
        "id": "mSDJVOsOT7l-",
        "outputId": "35c0e96b-aba3-4b70-dacc-a860518c87aa"
      },
      "outputs": [
        {
          "name": "stdout",
          "output_type": "stream",
          "text": [
            "tokenized text:\n",
            " ['ประเทศไทย', 'จังหวัด', 'จังหวัด']\n",
            "tokenized text:\n",
            " ['สื่อ', 'ข่าว', 'รายงาน', 'กรม', 'ปกครอง', 'กระทรวง', 'มหาดไทย', 'เผย', 'แพร่', 'ข้อมูล', 'ข่าวสาร', 'สื่อ', 'ออนไลน์', 'ประกาศ', 'ไทย', 'จะมี', 'จังหวัด', 'กรม', 'ปกครอง', 'กระทรวง', 'มหาดไทย', 'ชี้แจง', 'ข้อมูล', 'ข่าว', 'ใด', 'แชร์', 'ข่าว', 'ข่าว', 'ปลอม', 'ปี', 'พ', 'ศ']\n",
            "tokenized text:\n",
            " ['มท', 'ประเทศไทย', 'จังหวัด']\n",
            "tokenized text:\n",
            " ['กรม', 'ปกครอง', 'ร่อน', 'หนังสือ', 'ชี้แจง', 'ข่าว', 'ปลอม', 'โซ', 'เชีย', 'ล', 'อ้าง', 'ประกาศ', 'ไทย', 'จังหวัด', 'ชี้', 'ข่าว', 'ปลอม', 'ปี', 'ไทย', 'จังหวัด']\n"
          ]
        }
      ],
      "source": [
        "print('tokenized text:\\n',split_word(clean_text[0])) #ข้อความที่ต้องการตรวจสอบบน cofact\n",
        "print('tokenized text:\\n',split_word(clean_text[1])) #ข้อความสรุปใน cofact\n",
        "print('tokenized text:\\n',split_word(clean_text[2])) #หัวข่าวอ้างอิง\n",
        "print('tokenized text:\\n',split_word(clean_text[3])) #เนื้อหาข่าวอ้างอิง paragraph แรก"
      ]
    },
    {
      "cell_type": "code",
      "execution_count": 30,
      "metadata": {
        "id": "vRdhG8-ZT7l-"
      },
      "outputs": [],
      "source": [
        "tokens_list = [split_word(txt) for txt in clean_text]"
      ]
    },
    {
      "cell_type": "code",
      "execution_count": 31,
      "metadata": {
        "colab": {
          "base_uri": "https://localhost:8080/"
        },
        "id": "XIVNk5NeT7l-",
        "outputId": "b5427337-d7f5-4926-98bf-d6ba86c999ae"
      },
      "outputs": [
        {
          "data": {
            "text/plain": [
              "[['ประเทศไทย', 'จังหวัด', 'จังหวัด'],\n",
              " ['สื่อ',\n",
              "  'ข่าว',\n",
              "  'รายงาน',\n",
              "  'กรม',\n",
              "  'ปกครอง',\n",
              "  'กระทรวง',\n",
              "  'มหาดไทย',\n",
              "  'เผย',\n",
              "  'แพร่',\n",
              "  'ข้อมูล',\n",
              "  'ข่าวสาร',\n",
              "  'สื่อ',\n",
              "  'ออนไลน์',\n",
              "  'ประกาศ',\n",
              "  'ไทย',\n",
              "  'จะมี',\n",
              "  'จังหวัด',\n",
              "  'กรม',\n",
              "  'ปกครอง',\n",
              "  'กระทรวง',\n",
              "  'มหาดไทย',\n",
              "  'ชี้แจง',\n",
              "  'ข้อมูล',\n",
              "  'ข่าว',\n",
              "  'ใด',\n",
              "  'แชร์',\n",
              "  'ข่าว',\n",
              "  'ข่าว',\n",
              "  'ปลอม',\n",
              "  'ปี',\n",
              "  'พ',\n",
              "  'ศ'],\n",
              " ['มท', 'ประเทศไทย', 'จังหวัด'],\n",
              " ['กรม',\n",
              "  'ปกครอง',\n",
              "  'ร่อน',\n",
              "  'หนังสือ',\n",
              "  'ชี้แจง',\n",
              "  'ข่าว',\n",
              "  'ปลอม',\n",
              "  'โซ',\n",
              "  'เชีย',\n",
              "  'ล',\n",
              "  'อ้าง',\n",
              "  'ประกาศ',\n",
              "  'ไทย',\n",
              "  'จังหวัด',\n",
              "  'ชี้',\n",
              "  'ข่าว',\n",
              "  'ปลอม',\n",
              "  'ปี',\n",
              "  'ไทย',\n",
              "  'จังหวัด']]"
            ]
          },
          "execution_count": 31,
          "metadata": {},
          "output_type": "execute_result"
        }
      ],
      "source": [
        "tokens_list"
      ]
    },
    {
      "cell_type": "markdown",
      "metadata": {
        "id": "2yZbC6oeT7l-"
      },
      "source": [
        "**Step 3 + 4a: Bag of words + count word**"
      ]
    },
    {
      "cell_type": "code",
      "execution_count": 32,
      "metadata": {
        "colab": {
          "base_uri": "https://localhost:8080/"
        },
        "id": "SE84FjsRT7l-",
        "outputId": "49cb7878-5944-4ba0-965f-c03edf005f31"
      },
      "outputs": [
        {
          "name": "stdout",
          "output_type": "stream",
          "text": [
            "CountVectorizer(analyzer=<function <lambda> at 0x0000027AA3242D30>)\n"
          ]
        }
      ],
      "source": [
        "from sklearn.feature_extraction.text import CountVectorizer\n",
        "tokens_list_j = [','.join(tkn) for tkn in tokens_list]\n",
        "cvec = CountVectorizer(analyzer=lambda x:x.split(','))\n",
        "print(cvec)\n",
        "c_feat = cvec.fit_transform(tokens_list_j)"
      ]
    },
    {
      "cell_type": "code",
      "execution_count": 33,
      "metadata": {
        "colab": {
          "base_uri": "https://localhost:8080/"
        },
        "id": "rbUCRngUT7l_",
        "outputId": "bb2a252b-0477-4fc4-95e4-b74acd8bb45e"
      },
      "outputs": [
        {
          "data": {
            "text/plain": [
              "{'ประเทศไทย': 11,\n",
              " 'จังหวัด': 6,\n",
              " 'สื่อ': 21,\n",
              " 'ข่าว': 2,\n",
              " 'รายงาน': 17,\n",
              " 'กรม': 0,\n",
              " 'ปกครอง': 9,\n",
              " 'กระทรวง': 1,\n",
              " 'มหาดไทย': 16,\n",
              " 'เผย': 26,\n",
              " 'แพร่': 28,\n",
              " 'ข้อมูล': 4,\n",
              " 'ข่าวสาร': 3,\n",
              " 'ออนไลน์': 23,\n",
              " 'ประกาศ': 10,\n",
              " 'ไทย': 31,\n",
              " 'จะมี': 5,\n",
              " 'ชี้แจง': 8,\n",
              " 'ใด': 30,\n",
              " 'แชร์': 27,\n",
              " 'ปลอม': 12,\n",
              " 'ปี': 13,\n",
              " 'พ': 14,\n",
              " 'ศ': 20,\n",
              " 'มท': 15,\n",
              " 'ร่อน': 18,\n",
              " 'หนังสือ': 22,\n",
              " 'โซ': 29,\n",
              " 'เชีย': 25,\n",
              " 'ล': 19,\n",
              " 'อ้าง': 24,\n",
              " 'ชี้': 7}"
            ]
          },
          "execution_count": 33,
          "metadata": {},
          "output_type": "execute_result"
        }
      ],
      "source": [
        "cvec.vocabulary_"
      ]
    },
    {
      "cell_type": "code",
      "execution_count": 34,
      "metadata": {
        "colab": {
          "base_uri": "https://localhost:8080/"
        },
        "id": "UI6Di0RaT7l_",
        "outputId": "569c9630-af94-46a0-a800-1616dc5b19fd"
      },
      "outputs": [
        {
          "data": {
            "text/plain": [
              "matrix([[0, 0, 0, 0, 0, 0, 2, 0, 0, 0, 0, 1, 0, 0, 0, 0, 0, 0, 0, 0, 0,\n",
              "         0, 0, 0, 0, 0, 0, 0, 0, 0, 0, 0],\n",
              "        [2, 2, 4, 1, 2, 1, 1, 0, 1, 2, 1, 0, 1, 1, 1, 0, 2, 1, 0, 0, 1,\n",
              "         2, 0, 1, 0, 0, 1, 1, 1, 0, 1, 1],\n",
              "        [0, 0, 0, 0, 0, 0, 1, 0, 0, 0, 0, 1, 0, 0, 0, 1, 0, 0, 0, 0, 0,\n",
              "         0, 0, 0, 0, 0, 0, 0, 0, 0, 0, 0],\n",
              "        [1, 0, 2, 0, 0, 0, 2, 1, 1, 1, 1, 0, 2, 1, 0, 0, 0, 0, 1, 1, 0,\n",
              "         0, 1, 0, 1, 1, 0, 0, 0, 1, 0, 2]], dtype=int64)"
            ]
          },
          "execution_count": 34,
          "metadata": {},
          "output_type": "execute_result"
        }
      ],
      "source": [
        "c_feat[:,:].todense()"
      ]
    },
    {
      "cell_type": "code",
      "execution_count": 35,
      "metadata": {
        "colab": {
          "base_uri": "https://localhost:8080/"
        },
        "id": "TmTO47AvT7l_",
        "outputId": "8d4b530a-d826-4f04-b28c-81164058ce9b"
      },
      "outputs": [
        {
          "name": "stdout",
          "output_type": "stream",
          "text": [
            "[[0 0 0 0 0 0 2 0 0 0 0 1 0 0 0 0 0 0 0 0 0 0 0 0 0 0 0 0 0 0 0 0]\n",
            " [2 2 4 1 2 1 1 0 1 2 1 0 1 1 1 0 2 1 0 0 1 2 0 1 0 0 1 1 1 0 1 1]\n",
            " [0 0 0 0 0 0 1 0 0 0 0 1 0 0 0 1 0 0 0 0 0 0 0 0 0 0 0 0 0 0 0 0]\n",
            " [1 0 2 0 0 0 2 1 1 1 1 0 2 1 0 0 0 0 1 1 0 0 1 0 1 1 0 0 0 1 0 2]]\n"
          ]
        }
      ],
      "source": [
        "#first_news เป็น array ของข่าว โดย row ที่ 1 = ข่าวที่ต้องการตรวจสอบจาก cofact, row ที่ 2 = ข้อความสรุปใน cofact, row ที่ 3 = หัวข้อข่าวที่เชื่อถือได้ , row ที่ 4 = เนื้อหาข่าว paragraph แรกของข่าวที่เชื่อถือได้\n",
        "first_news = c_feat[:,:].todense()\n",
        "print(first_news) "
      ]
    },
    {
      "cell_type": "code",
      "execution_count": 36,
      "metadata": {
        "colab": {
          "base_uri": "https://localhost:8080/"
        },
        "id": "QOMLfahZT7l_",
        "outputId": "473e1fe4-37fe-4c5a-9da1-9d093df6eae4"
      },
      "outputs": [
        {
          "data": {
            "text/plain": [
              "32"
            ]
          },
          "execution_count": 36,
          "metadata": {},
          "output_type": "execute_result"
        }
      ],
      "source": [
        "first_news.shape[1]"
      ]
    },
    {
      "cell_type": "code",
      "execution_count": 37,
      "metadata": {
        "colab": {
          "base_uri": "https://localhost:8080/"
        },
        "id": "hWxjlBqeT7l_",
        "outputId": "96dd7fd4-ba30-472c-8f00-466da879282c"
      },
      "outputs": [
        {
          "name": "stdout",
          "output_type": "stream",
          "text": [
            "This is sum (upperpart) : 2\n",
            "This is lowerpart : 16.73320053068151\n"
          ]
        },
        {
          "data": {
            "text/plain": [
              "0.11952286093343936"
            ]
          },
          "execution_count": 37,
          "metadata": {},
          "output_type": "execute_result"
        }
      ],
      "source": [
        "find_cosine_similarity(first_news, 0, 1) #เทียบ ข้อความที่ต้องการตรวจสอบบน cofact กับ ข้อความสรุปใน cofact"
      ]
    },
    {
      "cell_type": "code",
      "execution_count": 38,
      "metadata": {
        "colab": {
          "base_uri": "https://localhost:8080/"
        },
        "id": "BWkoIX7gT7mA",
        "outputId": "3ad44746-c871-4d1c-ef7d-793338ce5fab"
      },
      "outputs": [
        {
          "name": "stdout",
          "output_type": "stream",
          "text": [
            "This is sum (upperpart) : 3\n",
            "This is lowerpart : 3.872983346207417\n"
          ]
        },
        {
          "data": {
            "text/plain": [
              "0.7745966692414834"
            ]
          },
          "execution_count": 38,
          "metadata": {},
          "output_type": "execute_result"
        }
      ],
      "source": [
        "find_cosine_similarity(first_news, 0, 2)#เทียบ ข้อความที่ต้องการตรวจสอบบน cofact กับ หัวข้อข่าวที่เชื่อถือได้"
      ]
    },
    {
      "cell_type": "code",
      "execution_count": 39,
      "metadata": {
        "colab": {
          "base_uri": "https://localhost:8080/"
        },
        "id": "yYxQetJsT7mA",
        "outputId": "7cf55cfe-8722-4566-f884-e2982976126b"
      },
      "outputs": [
        {
          "name": "stdout",
          "output_type": "stream",
          "text": [
            "This is sum (upperpart) : 4\n",
            "This is lowerpart : 11.832159566199234\n"
          ]
        },
        {
          "data": {
            "text/plain": [
              "0.33806170189140655"
            ]
          },
          "execution_count": 39,
          "metadata": {},
          "output_type": "execute_result"
        }
      ],
      "source": [
        "find_cosine_similarity(first_news, 0, 3)#เทียบ ข้อความที่ต้องการตรวจสอบบน cofact กับ เนื้อหาข่าว paragraph แรกของข่าวที่เชื่อถือได้"
      ]
    },
    {
      "cell_type": "markdown",
      "metadata": {
        "id": "SlqjfrlUU79L"
      },
      "source": [
        "# ข่าวที่ 4"
      ]
    },
    {
      "cell_type": "code",
      "execution_count": 40,
      "metadata": {
        "id": "UAOiHc_LU79M"
      },
      "outputs": [],
      "source": [
        "clean_text = [\"ยะลา คุมเข้มมาตรการ เคอร์ฟิว - ร้านขายอาหาร เครื่องดื่ม ปิด 2 ทุ่ม\", \"นายอำเภอเมืองยะลา นำทีมลงพื้นที่ กำชับมาตรการ เคอร์ฟิว - ร้านขายอาหาร เครื่องดื่ม ปิด 2 ทุ่มเคร่งครัด เพื่อลดความเสี่ยงแพร่เชื้อโควิด-19 ที่แพร่ระบาดอย่างรวดเร็ว รวมถึง คลัสเตอร์ใหญ่ในพื้นที่จังหวัดยะลา (โรงเรียน โรงงานยาง ยะลา เบตง) มียอดผู้ติดเชื้อเพิ่มสูงขึ้นอย่างต่อเนื่อง\", \"ยะลา คุมเข้มมาตรการ เคอร์ฟิว - ร้านขายอาหาร เครื่องดื่ม ปิด 2 ทุ่ม ลดเสี่ยงโควิด-19\",\"นายอำเภอเมืองยะลา นำทีมลงพื้นที่ กำชับมาตรการ เคอร์ฟิว - ร้านขายอาหาร เครื่องดื่ม ปิด 2 ทุ่มเคร่งครัด เพื่อลดความเสี่ยงแพร่เชื้อโควิด-19\"]"
      ]
    },
    {
      "cell_type": "markdown",
      "metadata": {
        "id": "mvn77xxHU79M"
      },
      "source": [
        "**Step 2: Tokenize**"
      ]
    },
    {
      "cell_type": "code",
      "execution_count": 41,
      "metadata": {
        "colab": {
          "base_uri": "https://localhost:8080/"
        },
        "id": "jAa_Yj7_U79M",
        "outputId": "8a402efb-1c97-4a28-c60b-699516c9b74c"
      },
      "outputs": [
        {
          "name": "stdout",
          "output_type": "stream",
          "text": [
            "tokenized text:\n",
            " ['ยะลา', 'คุม', 'เข้ม', 'มาตรการ', 'เคอร์ฟิว', 'ร้าน', 'ขาย', 'อาหาร', 'เครื่อง', 'ดื่ม', 'ทุ่ม']\n",
            "tokenized text:\n",
            " ['อำเภอ', 'เมือง', 'ยะลา', 'ทีม', 'ลงพื้น', 'กำชับ', 'มาตรการ', 'เคอร์ฟิว', 'ร้าน', 'ขาย', 'อาหาร', 'เครื่อง', 'ดื่ม', 'ทุ่ม', 'เคร่งครัด', 'ลด', 'เสี่ยง', 'แพร่', 'เชื้อ', 'โค', 'วิด', 'แพร่', 'ระบาด', 'คลัสเตอร์', 'พื้นที่', 'จังหวัด', 'ยะลา', 'โรงเรียน', 'โรงงาน', 'ยาง', 'ยะลา', 'เบตง', 'ยอด', 'ติด', 'เชื้อ', 'เนื่อง']\n",
            "tokenized text:\n",
            " ['ยะลา', 'คุม', 'เข้ม', 'มาตรการ', 'เคอร์ฟิว', 'ร้าน', 'ขาย', 'อาหาร', 'เครื่อง', 'ดื่ม', 'ทุ่ม', 'ลด', 'เสี่ยง', 'โค', 'วิด']\n",
            "tokenized text:\n",
            " ['อำเภอ', 'เมือง', 'ยะลา', 'ทีม', 'ลงพื้น', 'กำชับ', 'มาตรการ', 'เคอร์ฟิว', 'ร้าน', 'ขาย', 'อาหาร', 'เครื่อง', 'ดื่ม', 'ทุ่ม', 'เคร่งครัด', 'ลด', 'เสี่ยง', 'แพร่', 'เชื้อ', 'โค', 'วิด']\n"
          ]
        }
      ],
      "source": [
        "print('tokenized text:\\n',split_word(clean_text[0])) #ข้อความที่ต้องการตรวจสอบบน cofact\n",
        "print('tokenized text:\\n',split_word(clean_text[1])) #ข้อความสรุปใน cofact\n",
        "print('tokenized text:\\n',split_word(clean_text[2])) #หัวข่าวอ้างอิง\n",
        "print('tokenized text:\\n',split_word(clean_text[3])) #เนื้อหาข่าวอ้างอิง paragraph แรก"
      ]
    },
    {
      "cell_type": "code",
      "execution_count": 42,
      "metadata": {
        "id": "SUj7asHJU79M"
      },
      "outputs": [],
      "source": [
        "tokens_list = [split_word(txt) for txt in clean_text]"
      ]
    },
    {
      "cell_type": "code",
      "execution_count": 43,
      "metadata": {
        "colab": {
          "base_uri": "https://localhost:8080/"
        },
        "id": "CMzrFQJbU79M",
        "outputId": "d840d6d4-bd5f-498b-c8f7-1fcb601308ee"
      },
      "outputs": [
        {
          "data": {
            "text/plain": [
              "[['ยะลา',\n",
              "  'คุม',\n",
              "  'เข้ม',\n",
              "  'มาตรการ',\n",
              "  'เคอร์ฟิว',\n",
              "  'ร้าน',\n",
              "  'ขาย',\n",
              "  'อาหาร',\n",
              "  'เครื่อง',\n",
              "  'ดื่ม',\n",
              "  'ทุ่ม'],\n",
              " ['อำเภอ',\n",
              "  'เมือง',\n",
              "  'ยะลา',\n",
              "  'ทีม',\n",
              "  'ลงพื้น',\n",
              "  'กำชับ',\n",
              "  'มาตรการ',\n",
              "  'เคอร์ฟิว',\n",
              "  'ร้าน',\n",
              "  'ขาย',\n",
              "  'อาหาร',\n",
              "  'เครื่อง',\n",
              "  'ดื่ม',\n",
              "  'ทุ่ม',\n",
              "  'เคร่งครัด',\n",
              "  'ลด',\n",
              "  'เสี่ยง',\n",
              "  'แพร่',\n",
              "  'เชื้อ',\n",
              "  'โค',\n",
              "  'วิด',\n",
              "  'แพร่',\n",
              "  'ระบาด',\n",
              "  'คลัสเตอร์',\n",
              "  'พื้นที่',\n",
              "  'จังหวัด',\n",
              "  'ยะลา',\n",
              "  'โรงเรียน',\n",
              "  'โรงงาน',\n",
              "  'ยาง',\n",
              "  'ยะลา',\n",
              "  'เบตง',\n",
              "  'ยอด',\n",
              "  'ติด',\n",
              "  'เชื้อ',\n",
              "  'เนื่อง'],\n",
              " ['ยะลา',\n",
              "  'คุม',\n",
              "  'เข้ม',\n",
              "  'มาตรการ',\n",
              "  'เคอร์ฟิว',\n",
              "  'ร้าน',\n",
              "  'ขาย',\n",
              "  'อาหาร',\n",
              "  'เครื่อง',\n",
              "  'ดื่ม',\n",
              "  'ทุ่ม',\n",
              "  'ลด',\n",
              "  'เสี่ยง',\n",
              "  'โค',\n",
              "  'วิด'],\n",
              " ['อำเภอ',\n",
              "  'เมือง',\n",
              "  'ยะลา',\n",
              "  'ทีม',\n",
              "  'ลงพื้น',\n",
              "  'กำชับ',\n",
              "  'มาตรการ',\n",
              "  'เคอร์ฟิว',\n",
              "  'ร้าน',\n",
              "  'ขาย',\n",
              "  'อาหาร',\n",
              "  'เครื่อง',\n",
              "  'ดื่ม',\n",
              "  'ทุ่ม',\n",
              "  'เคร่งครัด',\n",
              "  'ลด',\n",
              "  'เสี่ยง',\n",
              "  'แพร่',\n",
              "  'เชื้อ',\n",
              "  'โค',\n",
              "  'วิด']]"
            ]
          },
          "execution_count": 43,
          "metadata": {},
          "output_type": "execute_result"
        }
      ],
      "source": [
        "tokens_list"
      ]
    },
    {
      "cell_type": "markdown",
      "metadata": {
        "id": "_OOwqO5aU79N"
      },
      "source": [
        "**Step 3 + 4a: Bag of words + count word**"
      ]
    },
    {
      "cell_type": "code",
      "execution_count": 44,
      "metadata": {
        "colab": {
          "base_uri": "https://localhost:8080/"
        },
        "id": "N37QR8alU79N",
        "outputId": "e74c5916-b06a-471c-ea7b-be2da4110683"
      },
      "outputs": [
        {
          "name": "stdout",
          "output_type": "stream",
          "text": [
            "CountVectorizer(analyzer=<function <lambda> at 0x0000027AA3242670>)\n"
          ]
        }
      ],
      "source": [
        "from sklearn.feature_extraction.text import CountVectorizer\n",
        "tokens_list_j = [','.join(tkn) for tkn in tokens_list]\n",
        "cvec = CountVectorizer(analyzer=lambda x:x.split(','))\n",
        "print(cvec)\n",
        "c_feat = cvec.fit_transform(tokens_list_j)"
      ]
    },
    {
      "cell_type": "code",
      "execution_count": 45,
      "metadata": {
        "colab": {
          "base_uri": "https://localhost:8080/"
        },
        "id": "iDAEwVgTU79N",
        "outputId": "923fab5a-d9a7-4ab3-8920-84c0538c71ab"
      },
      "outputs": [
        {
          "data": {
            "text/plain": [
              "{'ยะลา': 12,\n",
              " 'คุม': 3,\n",
              " 'เข้ม': 21,\n",
              " 'มาตรการ': 10,\n",
              " 'เคอร์ฟิว': 24,\n",
              " 'ร้าน': 15,\n",
              " 'ขาย': 1,\n",
              " 'อาหาร': 19,\n",
              " 'เครื่อง': 22,\n",
              " 'ดื่ม': 5,\n",
              " 'ทุ่ม': 8,\n",
              " 'อำเภอ': 20,\n",
              " 'เมือง': 28,\n",
              " 'ทีม': 7,\n",
              " 'ลงพื้น': 16,\n",
              " 'กำชับ': 0,\n",
              " 'เคร่งครัด': 23,\n",
              " 'ลด': 17,\n",
              " 'เสี่ยง': 29,\n",
              " 'แพร่': 30,\n",
              " 'เชื้อ': 25,\n",
              " 'โค': 31,\n",
              " 'วิด': 18,\n",
              " 'ระบาด': 14,\n",
              " 'คลัสเตอร์': 2,\n",
              " 'พื้นที่': 9,\n",
              " 'จังหวัด': 4,\n",
              " 'โรงเรียน': 33,\n",
              " 'โรงงาน': 32,\n",
              " 'ยาง': 13,\n",
              " 'เบตง': 27,\n",
              " 'ยอด': 11,\n",
              " 'ติด': 6,\n",
              " 'เนื่อง': 26}"
            ]
          },
          "execution_count": 45,
          "metadata": {},
          "output_type": "execute_result"
        }
      ],
      "source": [
        "cvec.vocabulary_"
      ]
    },
    {
      "cell_type": "code",
      "execution_count": 46,
      "metadata": {
        "colab": {
          "base_uri": "https://localhost:8080/"
        },
        "id": "0mHc5rB0U79N",
        "outputId": "db411f3c-2e95-4f60-e9a9-deff72121e74"
      },
      "outputs": [
        {
          "data": {
            "text/plain": [
              "matrix([[0, 1, 0, 1, 0, 1, 0, 0, 1, 0, 1, 0, 1, 0, 0, 1, 0, 0, 0, 1, 0,\n",
              "         1, 1, 0, 1, 0, 0, 0, 0, 0, 0, 0, 0, 0],\n",
              "        [1, 1, 1, 0, 1, 1, 1, 1, 1, 1, 1, 1, 3, 1, 1, 1, 1, 1, 1, 1, 1,\n",
              "         0, 1, 1, 1, 2, 1, 1, 1, 1, 2, 1, 1, 1],\n",
              "        [0, 1, 0, 1, 0, 1, 0, 0, 1, 0, 1, 0, 1, 0, 0, 1, 0, 1, 1, 1, 0,\n",
              "         1, 1, 0, 1, 0, 0, 0, 0, 1, 0, 1, 0, 0],\n",
              "        [1, 1, 0, 0, 0, 1, 0, 1, 1, 0, 1, 0, 1, 0, 0, 1, 1, 1, 1, 1, 1,\n",
              "         0, 1, 1, 1, 1, 0, 0, 1, 1, 1, 1, 0, 0]], dtype=int64)"
            ]
          },
          "execution_count": 46,
          "metadata": {},
          "output_type": "execute_result"
        }
      ],
      "source": [
        "c_feat[:,:].todense()"
      ]
    },
    {
      "cell_type": "code",
      "execution_count": 47,
      "metadata": {
        "colab": {
          "base_uri": "https://localhost:8080/"
        },
        "id": "M934lrQdU79N",
        "outputId": "3527d24a-7795-4fcf-8780-9d8aa13db1c2"
      },
      "outputs": [
        {
          "name": "stdout",
          "output_type": "stream",
          "text": [
            "[[0 1 0 1 0 1 0 0 1 0 1 0 1 0 0 1 0 0 0 1 0 1 1 0 1 0 0 0 0 0 0 0 0 0]\n",
            " [1 1 1 0 1 1 1 1 1 1 1 1 3 1 1 1 1 1 1 1 1 0 1 1 1 2 1 1 1 1 2 1 1 1]\n",
            " [0 1 0 1 0 1 0 0 1 0 1 0 1 0 0 1 0 1 1 1 0 1 1 0 1 0 0 0 0 1 0 1 0 0]\n",
            " [1 1 0 0 0 1 0 1 1 0 1 0 1 0 0 1 1 1 1 1 1 0 1 1 1 1 0 0 1 1 1 1 0 0]]\n"
          ]
        }
      ],
      "source": [
        "#first_news เป็น array ของข่าว โดย row ที่ 1 = ข่าวที่ต้องการตรวจสอบจาก cofact, row ที่ 2 = ข้อความสรุปใน cofact, row ที่ 3 = หัวข้อข่าวที่เชื่อถือได้ , row ที่ 4 = เนื้อหาข่าว paragraph แรกของข่าวที่เชื่อถือได้\n",
        "first_news = c_feat[:,:].todense()\n",
        "print(first_news) "
      ]
    },
    {
      "cell_type": "code",
      "execution_count": 48,
      "metadata": {
        "colab": {
          "base_uri": "https://localhost:8080/"
        },
        "id": "d5jDzgpCU79N",
        "outputId": "660748e1-5dbf-44f4-deae-771e216aaec4"
      },
      "outputs": [
        {
          "data": {
            "text/plain": [
              "34"
            ]
          },
          "execution_count": 48,
          "metadata": {},
          "output_type": "execute_result"
        }
      ],
      "source": [
        "first_news.shape[1]"
      ]
    },
    {
      "cell_type": "code",
      "execution_count": 49,
      "metadata": {
        "colab": {
          "base_uri": "https://localhost:8080/"
        },
        "id": "3xjr-zJHU79O",
        "outputId": "062fb399-928a-43e8-d08e-4e11d6504c08"
      },
      "outputs": [
        {
          "name": "stdout",
          "output_type": "stream",
          "text": [
            "This is sum (upperpart) : 11\n",
            "This is lowerpart : 22.494443758403985\n"
          ]
        },
        {
          "data": {
            "text/plain": [
              "0.48900964692182575"
            ]
          },
          "execution_count": 49,
          "metadata": {},
          "output_type": "execute_result"
        }
      ],
      "source": [
        "find_cosine_similarity(first_news, 0, 1) #เทียบ ข้อความที่ต้องการตรวจสอบบน cofact กับ ข้อความสรุปใน cofact"
      ]
    },
    {
      "cell_type": "code",
      "execution_count": 50,
      "metadata": {
        "colab": {
          "base_uri": "https://localhost:8080/"
        },
        "id": "Ia9M4Kf1U79O",
        "outputId": "ffe3e572-7199-40ed-9e12-2437bcf2af8e"
      },
      "outputs": [
        {
          "name": "stdout",
          "output_type": "stream",
          "text": [
            "This is sum (upperpart) : 11\n",
            "This is lowerpart : 12.84523257866513\n"
          ]
        },
        {
          "data": {
            "text/plain": [
              "0.8563488385776753"
            ]
          },
          "execution_count": 50,
          "metadata": {},
          "output_type": "execute_result"
        }
      ],
      "source": [
        "find_cosine_similarity(first_news, 0, 2)#เทียบ ข้อความที่ต้องการตรวจสอบบน cofact กับ หัวข้อข่าวที่เชื่อถือได้"
      ]
    },
    {
      "cell_type": "code",
      "execution_count": 51,
      "metadata": {
        "colab": {
          "base_uri": "https://localhost:8080/"
        },
        "id": "DLqkGuzUU79O",
        "outputId": "8cb708d9-704f-4740-96a5-cbd23282214a"
      },
      "outputs": [
        {
          "name": "stdout",
          "output_type": "stream",
          "text": [
            "This is sum (upperpart) : 9\n",
            "This is lowerpart : 15.198684153570662\n"
          ]
        },
        {
          "data": {
            "text/plain": [
              "0.5921565254637922"
            ]
          },
          "execution_count": 51,
          "metadata": {},
          "output_type": "execute_result"
        }
      ],
      "source": [
        "find_cosine_similarity(first_news, 0, 3)#เทียบ ข้อความที่ต้องการตรวจสอบบน cofact กับ เนื้อหาข่าว paragraph แรกของข่าวที่เชื่อถือได้"
      ]
    },
    {
      "cell_type": "markdown",
      "metadata": {
        "id": "TKzyCH3fPzwc"
      },
      "source": [
        "# ข่าวที่ 5"
      ]
    },
    {
      "cell_type": "code",
      "execution_count": 52,
      "metadata": {
        "id": "2R1vmNSgPzwc"
      },
      "outputs": [],
      "source": [
        "clean_text = [\"ถ้าใครมีเส้นเลือดในสมองเริ่มตีบแล้ว จะไม่สามารถยืนด้วยขาข้างเดียวถึง 20 วินาที ซึ่งน่าจะจริง เพราะ ได้ไปทำ MRI ที่สมองแล้ว แพทย์พบว่า มีเส้นเลือดในสมองตีบ และ ได้มาพบคลิบนี้ ลองยืนขาเดียว ปรากฏว่า ยืนได้เพียง 3 วินาทีเท่านั้นจึงคิดว่า มีความเชื่อมโยงกันจริง ขอเชิญแต่ละท่านทดสอบว่า เส้นเลือดในสมองของท่านยังปกติ ดีหรือไม่\", \"ศูนย์ต่อต้านข่าวปลอม ประเทศไทย เปิดเผยว่า ตามที่มีคลิปวิดีโอแนะนำ เกี่ยวกับประเด็นเรื่อง ยืนขาเดียว ทดสอบการเป็นโรคหลอดเลือดสมองตีบ ด้วยตนเอง ทางศูนย์ต่อต้านข่าวปลอมได้ดำเนินการตรวจสอบข้อเท็จจริงโดย สถาบันประสาทวิทยา กรมการแพทย์ กระทรวงสาธารณสุข\", \"ข่าวบิดเบือน! ยืนขาเดียว ทดสอบการเป็นโรคหลอดเลือดสมองตีบ ด้วยตนเอง\",\"จากประเด็นยืนขาเดียว ทดสอบการเป็นโรคหลอดเลือดสมองตีบ ด้วยตนเอง ทางสถาบันประสาทวิทยา กรมการแพทย์ ชี้แจงว่าการยืนขาเดียวได้ไม่เกิน 20 วินาที ไม่ได้เป็นการยืนยันว่าเป็นโรคหลอดเลือดสมอง ซึ่งมีโรคอื่นที่เกิดจากการทรงตัวผิดปกติได้อีก เช่นโรคของการรับความรู้สึกของข้อผิดปกติ โรคข้อต่างๆ ก็อาจจะให้ผลเช่นกัน โดยโรคหลอดเลือดสมอง มักจะมีอาการเป็นฉับพลันทันใด ต้องได้รับการรักษาที่ถูกต้องเหมาะสมอย่างทันท่วงที\"]"
      ]
    },
    {
      "cell_type": "markdown",
      "metadata": {
        "id": "aIH6plHEPzwd"
      },
      "source": [
        "**Step 2: Tokenize**"
      ]
    },
    {
      "cell_type": "code",
      "execution_count": 53,
      "metadata": {
        "colab": {
          "base_uri": "https://localhost:8080/"
        },
        "id": "cGIK1Q-YPzwd",
        "outputId": "4e0a5dc3-c33d-4a6f-d521-9525793733b3"
      },
      "outputs": [
        {
          "name": "stdout",
          "output_type": "stream",
          "text": [
            "tokenized text:\n",
            " ['เส้นเลือด', 'สมอง', 'ตีบ', 'ยืน', 'ขา', 'วินาที', 'ทำ', 'MRI', 'สมอง', 'แพทย์', 'เส้นเลือด', 'สมอง', 'ตีบ', 'ค', 'ลิบ', 'ลอง', 'ยืน', 'ขา', 'ยืน', 'วินาที', 'เชื่อม', 'โยง', 'เชิญ', 'ท่าน', 'ทดสอบ', 'เส้นเลือด', 'สมอง', 'ท่าน', 'ปกติ', 'ดี']\n",
            "tokenized text:\n",
            " ['ศูนย์', 'ต้าน', 'ข่าว', 'ปลอม', 'ประเทศไทย', 'เผย', 'คลิป', 'วิดีโอ', 'แนะนำ', 'เกี่ยว', 'ประเด็น', 'เรื่อง', 'ยืน', 'ขา', 'ทดสอบ', 'โรค', 'หลอด', 'เลือด', 'สมอง', 'ตีบ', 'ศูนย์', 'ต้าน', 'ข่าว', 'ปลอม', 'ดำเนิน', 'ตรวจ', 'สอบ', 'ข้อ', 'เท็จ', 'สถาบัน', 'ประสาท', 'วิทยา', 'กรม', 'แพทย์', 'กระทรวง', 'สาธารณสุข']\n",
            "tokenized text:\n",
            " ['ข่าว', 'บิดเบือน', 'ยืน', 'ขา', 'ทดสอบ', 'โรค', 'หลอด', 'เลือด', 'สมอง', 'ตีบ']\n",
            "tokenized text:\n",
            " ['ประเด็น', 'ยืน', 'ขา', 'ทดสอบ', 'โรค', 'หลอด', 'เลือด', 'สมอง', 'ตีบ', 'สถาบัน', 'ประสาท', 'วิทยา', 'กรม', 'แพทย์', 'ชี้แจง', 'ว่าการ', 'ยืน', 'ขา', 'วินาที', 'โรค', 'หลอด', 'เลือด', 'สมอง', 'โรค', 'ทรงตัว', 'ปกติ', 'โรค', 'รู้สึก', 'ข้อ', 'ปกติ', 'โรค', 'ข้อ', 'โรค', 'หลอด', 'เลือด', 'สมอง', 'อาการ', 'ฉับ', 'พลัน', 'ทันใด', 'รักษา', 'เหมาะ', 'สมอ', 'ย่าง', 'ท่วงที']\n"
          ]
        }
      ],
      "source": [
        "print('tokenized text:\\n',split_word(clean_text[0])) #ข้อความที่ต้องการตรวจสอบบน cofact\n",
        "print('tokenized text:\\n',split_word(clean_text[1])) #ข้อความสรุปใน cofact\n",
        "print('tokenized text:\\n',split_word(clean_text[2])) #หัวข่าวอ้างอิง\n",
        "print('tokenized text:\\n',split_word(clean_text[3])) #เนื้อหาข่าวอ้างอิง paragraph แรก"
      ]
    },
    {
      "cell_type": "code",
      "execution_count": 54,
      "metadata": {
        "id": "SkSBN7Q4Pzwd"
      },
      "outputs": [],
      "source": [
        "tokens_list = [split_word(txt) for txt in clean_text]"
      ]
    },
    {
      "cell_type": "code",
      "execution_count": 55,
      "metadata": {
        "colab": {
          "base_uri": "https://localhost:8080/"
        },
        "id": "IP3Jx7HLPzwe",
        "outputId": "28d9160d-e32a-4865-abdb-4c6738a611dc"
      },
      "outputs": [
        {
          "data": {
            "text/plain": [
              "[['เส้นเลือด',\n",
              "  'สมอง',\n",
              "  'ตีบ',\n",
              "  'ยืน',\n",
              "  'ขา',\n",
              "  'วินาที',\n",
              "  'ทำ',\n",
              "  'MRI',\n",
              "  'สมอง',\n",
              "  'แพทย์',\n",
              "  'เส้นเลือด',\n",
              "  'สมอง',\n",
              "  'ตีบ',\n",
              "  'ค',\n",
              "  'ลิบ',\n",
              "  'ลอง',\n",
              "  'ยืน',\n",
              "  'ขา',\n",
              "  'ยืน',\n",
              "  'วินาที',\n",
              "  'เชื่อม',\n",
              "  'โยง',\n",
              "  'เชิญ',\n",
              "  'ท่าน',\n",
              "  'ทดสอบ',\n",
              "  'เส้นเลือด',\n",
              "  'สมอง',\n",
              "  'ท่าน',\n",
              "  'ปกติ',\n",
              "  'ดี'],\n",
              " ['ศูนย์',\n",
              "  'ต้าน',\n",
              "  'ข่าว',\n",
              "  'ปลอม',\n",
              "  'ประเทศไทย',\n",
              "  'เผย',\n",
              "  'คลิป',\n",
              "  'วิดีโอ',\n",
              "  'แนะนำ',\n",
              "  'เกี่ยว',\n",
              "  'ประเด็น',\n",
              "  'เรื่อง',\n",
              "  'ยืน',\n",
              "  'ขา',\n",
              "  'ทดสอบ',\n",
              "  'โรค',\n",
              "  'หลอด',\n",
              "  'เลือด',\n",
              "  'สมอง',\n",
              "  'ตีบ',\n",
              "  'ศูนย์',\n",
              "  'ต้าน',\n",
              "  'ข่าว',\n",
              "  'ปลอม',\n",
              "  'ดำเนิน',\n",
              "  'ตรวจ',\n",
              "  'สอบ',\n",
              "  'ข้อ',\n",
              "  'เท็จ',\n",
              "  'สถาบัน',\n",
              "  'ประสาท',\n",
              "  'วิทยา',\n",
              "  'กรม',\n",
              "  'แพทย์',\n",
              "  'กระทรวง',\n",
              "  'สาธารณสุข'],\n",
              " ['ข่าว',\n",
              "  'บิดเบือน',\n",
              "  'ยืน',\n",
              "  'ขา',\n",
              "  'ทดสอบ',\n",
              "  'โรค',\n",
              "  'หลอด',\n",
              "  'เลือด',\n",
              "  'สมอง',\n",
              "  'ตีบ'],\n",
              " ['ประเด็น',\n",
              "  'ยืน',\n",
              "  'ขา',\n",
              "  'ทดสอบ',\n",
              "  'โรค',\n",
              "  'หลอด',\n",
              "  'เลือด',\n",
              "  'สมอง',\n",
              "  'ตีบ',\n",
              "  'สถาบัน',\n",
              "  'ประสาท',\n",
              "  'วิทยา',\n",
              "  'กรม',\n",
              "  'แพทย์',\n",
              "  'ชี้แจง',\n",
              "  'ว่าการ',\n",
              "  'ยืน',\n",
              "  'ขา',\n",
              "  'วินาที',\n",
              "  'โรค',\n",
              "  'หลอด',\n",
              "  'เลือด',\n",
              "  'สมอง',\n",
              "  'โรค',\n",
              "  'ทรงตัว',\n",
              "  'ปกติ',\n",
              "  'โรค',\n",
              "  'รู้สึก',\n",
              "  'ข้อ',\n",
              "  'ปกติ',\n",
              "  'โรค',\n",
              "  'ข้อ',\n",
              "  'โรค',\n",
              "  'หลอด',\n",
              "  'เลือด',\n",
              "  'สมอง',\n",
              "  'อาการ',\n",
              "  'ฉับ',\n",
              "  'พลัน',\n",
              "  'ทันใด',\n",
              "  'รักษา',\n",
              "  'เหมาะ',\n",
              "  'สมอ',\n",
              "  'ย่าง',\n",
              "  'ท่วงที']]"
            ]
          },
          "execution_count": 55,
          "metadata": {},
          "output_type": "execute_result"
        }
      ],
      "source": [
        "tokens_list"
      ]
    },
    {
      "cell_type": "markdown",
      "metadata": {
        "id": "5rmxJFpfPzwe"
      },
      "source": [
        "**Step 3 + 4a: Bag of words + count word**"
      ]
    },
    {
      "cell_type": "code",
      "execution_count": 56,
      "metadata": {
        "colab": {
          "base_uri": "https://localhost:8080/"
        },
        "id": "_gfveP_7Pzwe",
        "outputId": "11dc3ed9-c921-4788-9c62-d95ee7abfb07"
      },
      "outputs": [
        {
          "name": "stdout",
          "output_type": "stream",
          "text": [
            "CountVectorizer(analyzer=<function <lambda> at 0x0000027AA3242160>)\n"
          ]
        }
      ],
      "source": [
        "from sklearn.feature_extraction.text import CountVectorizer\n",
        "tokens_list_j = [','.join(tkn) for tkn in tokens_list]\n",
        "cvec = CountVectorizer(analyzer=lambda x:x.split(','))\n",
        "print(cvec)\n",
        "c_feat = cvec.fit_transform(tokens_list_j)"
      ]
    },
    {
      "cell_type": "code",
      "execution_count": 57,
      "metadata": {
        "colab": {
          "base_uri": "https://localhost:8080/"
        },
        "id": "Cc7AWDOlPzwe",
        "outputId": "5ab2e12c-ebd5-4c89-8660-8ff2a69da81d"
      },
      "outputs": [
        {
          "data": {
            "text/plain": [
              "{'เส้นเลือด': 53,\n",
              " 'สมอง': 41,\n",
              " 'ตีบ': 13,\n",
              " 'ยืน': 28,\n",
              " 'ขา': 3,\n",
              " 'วินาที': 36,\n",
              " 'ทำ': 18,\n",
              " 'MRI': 0,\n",
              " 'แพทย์': 56,\n",
              " 'ค': 6,\n",
              " 'ลิบ': 33,\n",
              " 'ลอง': 32,\n",
              " 'เชื่อม': 48,\n",
              " 'โยง': 57,\n",
              " 'เชิญ': 47,\n",
              " 'ท่าน': 20,\n",
              " 'ทดสอบ': 15,\n",
              " 'ปกติ': 22,\n",
              " 'ดี': 11,\n",
              " 'ศูนย์': 38,\n",
              " 'ต้าน': 14,\n",
              " 'ข่าว': 4,\n",
              " 'ปลอม': 26,\n",
              " 'ประเทศไทย': 25,\n",
              " 'เผย': 50,\n",
              " 'คลิป': 7,\n",
              " 'วิดีโอ': 34,\n",
              " 'แนะนำ': 55,\n",
              " 'เกี่ยว': 46,\n",
              " 'ประเด็น': 24,\n",
              " 'เรื่อง': 51,\n",
              " 'โรค': 58,\n",
              " 'หลอด': 44,\n",
              " 'เลือด': 52,\n",
              " 'ดำเนิน': 10,\n",
              " 'ตรวจ': 12,\n",
              " 'สอบ': 42,\n",
              " 'ข้อ': 5,\n",
              " 'เท็จ': 49,\n",
              " 'สถาบัน': 39,\n",
              " 'ประสาท': 23,\n",
              " 'วิทยา': 35,\n",
              " 'กรม': 1,\n",
              " 'กระทรวง': 2,\n",
              " 'สาธารณสุข': 43,\n",
              " 'บิดเบือน': 21,\n",
              " 'ชี้แจง': 9,\n",
              " 'ว่าการ': 37,\n",
              " 'ทรงตัว': 16,\n",
              " 'รู้สึก': 31,\n",
              " 'อาการ': 45,\n",
              " 'ฉับ': 8,\n",
              " 'พลัน': 27,\n",
              " 'ทันใด': 17,\n",
              " 'รักษา': 30,\n",
              " 'เหมาะ': 54,\n",
              " 'สมอ': 40,\n",
              " 'ย่าง': 29,\n",
              " 'ท่วงที': 19}"
            ]
          },
          "execution_count": 57,
          "metadata": {},
          "output_type": "execute_result"
        }
      ],
      "source": [
        "cvec.vocabulary_"
      ]
    },
    {
      "cell_type": "code",
      "execution_count": 58,
      "metadata": {
        "colab": {
          "base_uri": "https://localhost:8080/"
        },
        "id": "Pz1MwMDzPzwf",
        "outputId": "3fa7aed7-47e5-4cb2-f5db-e48009d37f94"
      },
      "outputs": [
        {
          "data": {
            "text/plain": [
              "matrix([[1, 0, 0, 2, 0, 0, 1, 0, 0, 0, 0, 1, 0, 2, 0, 1, 0, 0, 1, 0, 2,\n",
              "         0, 1, 0, 0, 0, 0, 0, 3, 0, 0, 0, 1, 1, 0, 0, 2, 0, 0, 0, 0, 4,\n",
              "         0, 0, 0, 0, 0, 1, 1, 0, 0, 0, 0, 3, 0, 0, 1, 1, 0],\n",
              "        [0, 1, 1, 1, 2, 1, 0, 1, 0, 0, 1, 0, 1, 1, 2, 1, 0, 0, 0, 0, 0,\n",
              "         0, 0, 1, 1, 1, 2, 0, 1, 0, 0, 0, 0, 0, 1, 1, 0, 0, 2, 1, 0, 1,\n",
              "         1, 1, 1, 0, 1, 0, 0, 1, 1, 1, 1, 0, 0, 1, 1, 0, 1],\n",
              "        [0, 0, 0, 1, 1, 0, 0, 0, 0, 0, 0, 0, 0, 1, 0, 1, 0, 0, 0, 0, 0,\n",
              "         1, 0, 0, 0, 0, 0, 0, 1, 0, 0, 0, 0, 0, 0, 0, 0, 0, 0, 0, 0, 1,\n",
              "         0, 0, 1, 0, 0, 0, 0, 0, 0, 0, 1, 0, 0, 0, 0, 0, 1],\n",
              "        [0, 1, 0, 2, 0, 2, 0, 0, 1, 1, 0, 0, 0, 1, 0, 1, 1, 1, 0, 1, 0,\n",
              "         0, 2, 1, 1, 0, 0, 1, 2, 1, 1, 1, 0, 0, 0, 1, 1, 1, 0, 1, 1, 3,\n",
              "         0, 0, 3, 1, 0, 0, 0, 0, 0, 0, 3, 0, 1, 0, 1, 0, 6]], dtype=int64)"
            ]
          },
          "execution_count": 58,
          "metadata": {},
          "output_type": "execute_result"
        }
      ],
      "source": [
        "c_feat[:,:].todense()"
      ]
    },
    {
      "cell_type": "code",
      "execution_count": 59,
      "metadata": {
        "colab": {
          "base_uri": "https://localhost:8080/"
        },
        "id": "Dtzk_2NtPzwf",
        "outputId": "0a326250-41a1-4cf8-9f8c-2510ec9cd8f1"
      },
      "outputs": [
        {
          "name": "stdout",
          "output_type": "stream",
          "text": [
            "[[1 0 0 2 0 0 1 0 0 0 0 1 0 2 0 1 0 0 1 0 2 0 1 0 0 0 0 0 3 0 0 0 1 1 0 0\n",
            "  2 0 0 0 0 4 0 0 0 0 0 1 1 0 0 0 0 3 0 0 1 1 0]\n",
            " [0 1 1 1 2 1 0 1 0 0 1 0 1 1 2 1 0 0 0 0 0 0 0 1 1 1 2 0 1 0 0 0 0 0 1 1\n",
            "  0 0 2 1 0 1 1 1 1 0 1 0 0 1 1 1 1 0 0 1 1 0 1]\n",
            " [0 0 0 1 1 0 0 0 0 0 0 0 0 1 0 1 0 0 0 0 0 1 0 0 0 0 0 0 1 0 0 0 0 0 0 0\n",
            "  0 0 0 0 0 1 0 0 1 0 0 0 0 0 0 0 1 0 0 0 0 0 1]\n",
            " [0 1 0 2 0 2 0 0 1 1 0 0 0 1 0 1 1 1 0 1 0 0 2 1 1 0 0 1 2 1 1 1 0 0 0 1\n",
            "  1 1 0 1 1 3 0 0 3 1 0 0 0 0 0 0 3 0 1 0 1 0 6]]\n"
          ]
        }
      ],
      "source": [
        "#first_news เป็น array ของข่าว โดย row ที่ 1 = ข่าวที่ต้องการตรวจสอบจาก cofact, row ที่ 2 = ข้อความสรุปใน cofact, row ที่ 3 = หัวข้อข่าวที่เชื่อถือได้ , row ที่ 4 = เนื้อหาข่าว paragraph แรกของข่าวที่เชื่อถือได้\n",
        "first_news = c_feat[:,:].todense()\n",
        "print(first_news) "
      ]
    },
    {
      "cell_type": "code",
      "execution_count": 60,
      "metadata": {
        "colab": {
          "base_uri": "https://localhost:8080/"
        },
        "id": "cKoKZkyTPzwf",
        "outputId": "32cf40c1-4aa5-4070-84d6-f95e97cf6f15"
      },
      "outputs": [
        {
          "data": {
            "text/plain": [
              "59"
            ]
          },
          "execution_count": 60,
          "metadata": {},
          "output_type": "execute_result"
        }
      ],
      "source": [
        "first_news.shape[1]"
      ]
    },
    {
      "cell_type": "code",
      "execution_count": 61,
      "metadata": {
        "colab": {
          "base_uri": "https://localhost:8080/"
        },
        "id": "LqAesb1jPzwf",
        "outputId": "0f234c10-bec0-4610-929a-af9e61bc46b3"
      },
      "outputs": [
        {
          "name": "stdout",
          "output_type": "stream",
          "text": [
            "This is sum (upperpart) : 13\n",
            "This is lowerpart : 52.230259428802384\n"
          ]
        },
        {
          "data": {
            "text/plain": [
              "0.24889786384693216"
            ]
          },
          "execution_count": 61,
          "metadata": {},
          "output_type": "execute_result"
        }
      ],
      "source": [
        "find_cosine_similarity(first_news, 0, 1) #เทียบ ข้อความที่ต้องการตรวจสอบบน cofact กับ ข้อความสรุปใน cofact"
      ]
    },
    {
      "cell_type": "code",
      "execution_count": 62,
      "metadata": {
        "colab": {
          "base_uri": "https://localhost:8080/"
        },
        "id": "5pljlilBPzwg",
        "outputId": "d43435cf-7741-44fa-d0c2-4bdd0e02df41"
      },
      "outputs": [
        {
          "name": "stdout",
          "output_type": "stream",
          "text": [
            "This is sum (upperpart) : 12\n",
            "This is lowerpart : 24.899799195977465\n"
          ]
        },
        {
          "data": {
            "text/plain": [
              "0.4819315973414993"
            ]
          },
          "execution_count": 62,
          "metadata": {},
          "output_type": "execute_result"
        }
      ],
      "source": [
        "find_cosine_similarity(first_news, 0, 2)#เทียบ ข้อความที่ต้องการตรวจสอบบน cofact กับ หัวข้อข่าวที่เชื่อถือได้"
      ]
    },
    {
      "cell_type": "code",
      "execution_count": 63,
      "metadata": {
        "colab": {
          "base_uri": "https://localhost:8080/"
        },
        "id": "2RxfciQBPzwg",
        "outputId": "f5be9dde-4ab9-427c-fab8-a5c2130a2572"
      },
      "outputs": [
        {
          "name": "stdout",
          "output_type": "stream",
          "text": [
            "This is sum (upperpart) : 30\n",
            "This is lowerpart : 79.13279977354523\n"
          ]
        },
        {
          "data": {
            "text/plain": [
              "0.379109548579744"
            ]
          },
          "execution_count": 63,
          "metadata": {},
          "output_type": "execute_result"
        }
      ],
      "source": [
        "find_cosine_similarity(first_news, 0, 3)#เทียบ ข้อความที่ต้องการตรวจสอบบน cofact กับ เนื้อหาข่าว paragraph แรกของข่าวที่เชื่อถือได้"
      ]
    },
    {
      "cell_type": "markdown",
      "metadata": {
        "id": "_W0b1PxqQ_rr"
      },
      "source": [
        "# ข่าวที่ 6"
      ]
    },
    {
      "cell_type": "code",
      "execution_count": 64,
      "metadata": {
        "id": "gGFmQNCLQ_rr"
      },
      "outputs": [],
      "source": [
        "clean_text = [\"กรุงเทพธุรกิจ ลงข่าว จับตาพายุดีเปรสชั่น มินเดลเล หวั่นถล่มไทย ฝนตกหนักช่วง 24-27 กันยายน นี้(ภายหลังแก้ไขแล้ว)ส.ส.กิตติ์ธัญญา วาจาดี โพสต์เฟสบุคส์ว่า พายุดีเปรสชั่น มินเดึลเล ก่อตัวขึ้นในทะเลจีนใต้ เป็นพายุลูกที่ 16 ของปีนี้ ทำให้ฝนตกหนักถึงหนักมากที่อุบลราชธานี และพื้นที่ใกล้เคียง(ภายหลังลบโพสต์แล้ว แต่มีการแคปหน้าจอส่งกันทางไลน์)ไม่จริง เพราะพายุ มินเดึลเล อยู่แถวฟิลิปปินส์ มุ่งหน้าญี่ปุ่น ไม่สามารถข้ามมาเมืองไทยได้พายุที่เข้ามาชื่อ เตี้ยนหมู่ และได้อ่อนกำลังลงแล้ว\",\"พายุไต้ฝุ่น 'มินเดึลเล' เคลื่อนที่มุ่งหน้าไปทางญี่ปุ่น และพายุไซโคลนเคลื่อนที่มุ่งหน้าไปทางอินเดีย\",\"เปิดเส้นทางพายุ 3 ลูก 'เตี้ยนหมู่ มินเดึลเล ไซโคลน' ไทยโดนด้วย อีสาน-กลาง ฝนตกหนัก\",'ประธานกรรมการบริหาร \"ทีมกรุ๊ป\" หรือ TEAMG เปิดเส้นทางพายุ 3 ลูก \"พายุเตี้ยนหมู่\" พายุไซโคลน และ พายุดีเปรสชั่น \"มินเดึลเล\" ไทยมีฝนตกหนักในภาคอีสาน ภาคกลาง']"
      ]
    },
    {
      "cell_type": "markdown",
      "metadata": {
        "id": "5CIVNa4zQ_rs"
      },
      "source": [
        "**Step 2: Tokenize**"
      ]
    },
    {
      "cell_type": "code",
      "execution_count": 65,
      "metadata": {
        "colab": {
          "base_uri": "https://localhost:8080/"
        },
        "id": "neMvxY-QQ_rt",
        "outputId": "7c1a106c-aab2-4b99-ddc9-1b13ad20c225"
      },
      "outputs": [
        {
          "name": "stdout",
          "output_type": "stream",
          "text": [
            "tokenized text:\n",
            " ['กรุงเทพ', 'ธุรกิจ', 'ลงข่าว', 'จับตา', 'พายุ', 'ดีเปรสชั่น', 'นเดลเล', 'หวั่น', 'ถล่ม', 'ไทย', 'ฝน', 'ตกหนัก', 'กันยายน', 'ส', 'ส', 'กิตติ์', 'ธัญ', 'ญา', 'วาจา', 'ดี', 'โพสต์', 'เฟส', 'บุคส์', 'พายุ', 'ดีเปรสชั่น', 'นเดึลเล', 'ก่อ', 'ตัว', 'ทะเลจีนใต้', 'พายุ', 'ลูก', 'ปี', 'ฝน', 'ตกหนัก', 'หนัก', 'อุบลราชธานี', 'พื้นที่', 'เคียง', 'ลบ', 'โพสต์', 'แค', 'ป', 'หน้า', 'จอ', 'ไลน์', 'พายุ', 'นเดึลเล', 'แถว', 'ฟิลิปปินส์', 'หน้า', 'ญี่ปุ่น', 'ข้าม', 'เมือง', 'ไทย', 'พายุ', 'ชื่อ', 'เตี้ย', 'น', 'หมู่', 'อ่อน']\n",
            "tokenized text:\n",
            " ['พายุ', 'ไต้ฝุ่น', 'นเดึลเล', 'เคลื่อนที่', 'หน้า', 'ญี่ปุ่น', 'พายุ', 'ไซโคลน', 'เคลื่อนที่', 'หน้า', 'อินเดีย']\n",
            "tokenized text:\n",
            " ['เส้น', 'พายุ', 'ลูก', 'เตี้ย', 'น', 'หมู่', 'นเดึลเล', 'ไซโคลน', 'ไทย', 'โดน', 'อีสาน', 'กลาง', 'ฝน', 'ตกหนัก']\n",
            "tokenized text:\n",
            " ['ประธาน', 'กรรมการ', 'บริหาร', 'ทีม', 'กรุ๊ป', 'TEAMG', 'เส้น', 'พายุ', 'ลูก', 'ยุ', 'เตี้ย', 'น', 'หมู่', 'พายุ', 'ไซโคลน', 'พายุ', 'ดีเปรสชั่น', 'นเดึลเล', 'ไทย', 'ฝน', 'ตกหนัก', 'อีสาน', 'กลาง']\n"
          ]
        }
      ],
      "source": [
        "print('tokenized text:\\n',split_word(clean_text[0])) #ข้อความที่ต้องการตรวจสอบบน cofact\n",
        "print('tokenized text:\\n',split_word(clean_text[1])) #ข้อความสรุปใน cofact\n",
        "print('tokenized text:\\n',split_word(clean_text[2])) #หัวข่าวอ้างอิง\n",
        "print('tokenized text:\\n',split_word(clean_text[3])) #เนื้อหาข่าวอ้างอิง paragraph แรก"
      ]
    },
    {
      "cell_type": "code",
      "execution_count": 66,
      "metadata": {
        "id": "DoHS6nzLQ_rt"
      },
      "outputs": [],
      "source": [
        "tokens_list = [split_word(txt) for txt in clean_text]"
      ]
    },
    {
      "cell_type": "code",
      "execution_count": 67,
      "metadata": {
        "colab": {
          "base_uri": "https://localhost:8080/"
        },
        "id": "IXpXrFD8Q_rt",
        "outputId": "41067e9f-91ee-45cd-a9c1-c3f3d6c321a5"
      },
      "outputs": [
        {
          "data": {
            "text/plain": [
              "[['กรุงเทพ',\n",
              "  'ธุรกิจ',\n",
              "  'ลงข่าว',\n",
              "  'จับตา',\n",
              "  'พายุ',\n",
              "  'ดีเปรสชั่น',\n",
              "  'นเดลเล',\n",
              "  'หวั่น',\n",
              "  'ถล่ม',\n",
              "  'ไทย',\n",
              "  'ฝน',\n",
              "  'ตกหนัก',\n",
              "  'กันยายน',\n",
              "  'ส',\n",
              "  'ส',\n",
              "  'กิตติ์',\n",
              "  'ธัญ',\n",
              "  'ญา',\n",
              "  'วาจา',\n",
              "  'ดี',\n",
              "  'โพสต์',\n",
              "  'เฟส',\n",
              "  'บุคส์',\n",
              "  'พายุ',\n",
              "  'ดีเปรสชั่น',\n",
              "  'นเดึลเล',\n",
              "  'ก่อ',\n",
              "  'ตัว',\n",
              "  'ทะเลจีนใต้',\n",
              "  'พายุ',\n",
              "  'ลูก',\n",
              "  'ปี',\n",
              "  'ฝน',\n",
              "  'ตกหนัก',\n",
              "  'หนัก',\n",
              "  'อุบลราชธานี',\n",
              "  'พื้นที่',\n",
              "  'เคียง',\n",
              "  'ลบ',\n",
              "  'โพสต์',\n",
              "  'แค',\n",
              "  'ป',\n",
              "  'หน้า',\n",
              "  'จอ',\n",
              "  'ไลน์',\n",
              "  'พายุ',\n",
              "  'นเดึลเล',\n",
              "  'แถว',\n",
              "  'ฟิลิปปินส์',\n",
              "  'หน้า',\n",
              "  'ญี่ปุ่น',\n",
              "  'ข้าม',\n",
              "  'เมือง',\n",
              "  'ไทย',\n",
              "  'พายุ',\n",
              "  'ชื่อ',\n",
              "  'เตี้ย',\n",
              "  'น',\n",
              "  'หมู่',\n",
              "  'อ่อน'],\n",
              " ['พายุ',\n",
              "  'ไต้ฝุ่น',\n",
              "  'นเดึลเล',\n",
              "  'เคลื่อนที่',\n",
              "  'หน้า',\n",
              "  'ญี่ปุ่น',\n",
              "  'พายุ',\n",
              "  'ไซโคลน',\n",
              "  'เคลื่อนที่',\n",
              "  'หน้า',\n",
              "  'อินเดีย'],\n",
              " ['เส้น',\n",
              "  'พายุ',\n",
              "  'ลูก',\n",
              "  'เตี้ย',\n",
              "  'น',\n",
              "  'หมู่',\n",
              "  'นเดึลเล',\n",
              "  'ไซโคลน',\n",
              "  'ไทย',\n",
              "  'โดน',\n",
              "  'อีสาน',\n",
              "  'กลาง',\n",
              "  'ฝน',\n",
              "  'ตกหนัก'],\n",
              " ['ประธาน',\n",
              "  'กรรมการ',\n",
              "  'บริหาร',\n",
              "  'ทีม',\n",
              "  'กรุ๊ป',\n",
              "  'TEAMG',\n",
              "  'เส้น',\n",
              "  'พายุ',\n",
              "  'ลูก',\n",
              "  'ยุ',\n",
              "  'เตี้ย',\n",
              "  'น',\n",
              "  'หมู่',\n",
              "  'พายุ',\n",
              "  'ไซโคลน',\n",
              "  'พายุ',\n",
              "  'ดีเปรสชั่น',\n",
              "  'นเดึลเล',\n",
              "  'ไทย',\n",
              "  'ฝน',\n",
              "  'ตกหนัก',\n",
              "  'อีสาน',\n",
              "  'กลาง']]"
            ]
          },
          "execution_count": 67,
          "metadata": {},
          "output_type": "execute_result"
        }
      ],
      "source": [
        "tokens_list"
      ]
    },
    {
      "cell_type": "markdown",
      "metadata": {
        "id": "0Tcp0W-kQ_ru"
      },
      "source": [
        "**Step 3 + 4a: Bag of words + count word**"
      ]
    },
    {
      "cell_type": "code",
      "execution_count": 68,
      "metadata": {
        "colab": {
          "base_uri": "https://localhost:8080/"
        },
        "id": "h6uVVYmsQ_ru",
        "outputId": "83ce8fda-e20d-4305-d995-1a0d18eb2e57"
      },
      "outputs": [
        {
          "name": "stdout",
          "output_type": "stream",
          "text": [
            "CountVectorizer(analyzer=<function <lambda> at 0x0000027AA3187AF0>)\n"
          ]
        }
      ],
      "source": [
        "from sklearn.feature_extraction.text import CountVectorizer\n",
        "tokens_list_j = [','.join(tkn) for tkn in tokens_list]\n",
        "cvec = CountVectorizer(analyzer=lambda x:x.split(','))\n",
        "print(cvec)\n",
        "c_feat = cvec.fit_transform(tokens_list_j)"
      ]
    },
    {
      "cell_type": "code",
      "execution_count": 69,
      "metadata": {
        "colab": {
          "base_uri": "https://localhost:8080/"
        },
        "id": "nQFccCR3Q_ru",
        "outputId": "31b8a231-540b-423e-a92b-f3027274948b"
      },
      "outputs": [
        {
          "data": {
            "text/plain": [
              "{'กรุงเทพ': 2,\n",
              " 'ธุรกิจ': 22,\n",
              " 'ลงข่าว': 36,\n",
              " 'จับตา': 10,\n",
              " 'พายุ': 32,\n",
              " 'ดีเปรสชั่น': 15,\n",
              " 'นเดลเล': 24,\n",
              " 'หวั่น': 44,\n",
              " 'ถล่ม': 18,\n",
              " 'ไทย': 61,\n",
              " 'ฝน': 31,\n",
              " 'ตกหนัก': 16,\n",
              " 'กันยายน': 5,\n",
              " 'ส': 40,\n",
              " 'กิตติ์': 6,\n",
              " 'ธัญ': 21,\n",
              " 'ญา': 12,\n",
              " 'วาจา': 39,\n",
              " 'ดี': 14,\n",
              " 'โพสต์': 58,\n",
              " 'เฟส': 52,\n",
              " 'บุคส์': 27,\n",
              " 'นเดึลเล': 25,\n",
              " 'ก่อ': 7,\n",
              " 'ตัว': 17,\n",
              " 'ทะเลจีนใต้': 19,\n",
              " 'ลูก': 38,\n",
              " 'ปี': 30,\n",
              " 'หนัก': 41,\n",
              " 'อุบลราชธานี': 47,\n",
              " 'พื้นที่': 33,\n",
              " 'เคียง': 50,\n",
              " 'ลบ': 37,\n",
              " 'แค': 55,\n",
              " 'ป': 28,\n",
              " 'หน้า': 42,\n",
              " 'จอ': 9,\n",
              " 'ไลน์': 62,\n",
              " 'แถว': 56,\n",
              " 'ฟิลิปปินส์': 34,\n",
              " 'ญี่ปุ่น': 13,\n",
              " 'ข้าม': 8,\n",
              " 'เมือง': 53,\n",
              " 'ชื่อ': 11,\n",
              " 'เตี้ย': 51,\n",
              " 'น': 23,\n",
              " 'หมู่': 43,\n",
              " 'อ่อน': 48,\n",
              " 'ไต้ฝุ่น': 60,\n",
              " 'เคลื่อนที่': 49,\n",
              " 'ไซโคลน': 59,\n",
              " 'อินเดีย': 45,\n",
              " 'เส้น': 54,\n",
              " 'โดน': 57,\n",
              " 'อีสาน': 46,\n",
              " 'กลาง': 4,\n",
              " 'ประธาน': 29,\n",
              " 'กรรมการ': 1,\n",
              " 'บริหาร': 26,\n",
              " 'ทีม': 20,\n",
              " 'กรุ๊ป': 3,\n",
              " 'TEAMG': 0,\n",
              " 'ยุ': 35}"
            ]
          },
          "execution_count": 69,
          "metadata": {},
          "output_type": "execute_result"
        }
      ],
      "source": [
        "cvec.vocabulary_"
      ]
    },
    {
      "cell_type": "code",
      "execution_count": 70,
      "metadata": {
        "colab": {
          "base_uri": "https://localhost:8080/"
        },
        "id": "lU63DDjPQ_rv",
        "outputId": "783eb4d1-2161-4bbe-e5de-d95494310be3"
      },
      "outputs": [
        {
          "data": {
            "text/plain": [
              "matrix([[0, 0, 1, 0, 0, 1, 1, 1, 1, 1, 1, 1, 1, 1, 1, 2, 2, 1, 1, 1, 0,\n",
              "         1, 1, 1, 1, 2, 0, 1, 1, 0, 1, 2, 5, 1, 1, 0, 1, 1, 1, 1, 2, 1,\n",
              "         2, 1, 1, 0, 0, 1, 1, 0, 1, 1, 1, 1, 0, 1, 1, 0, 2, 0, 0, 2, 1],\n",
              "        [0, 0, 0, 0, 0, 0, 0, 0, 0, 0, 0, 0, 0, 1, 0, 0, 0, 0, 0, 0, 0,\n",
              "         0, 0, 0, 0, 1, 0, 0, 0, 0, 0, 0, 2, 0, 0, 0, 0, 0, 0, 0, 0, 0,\n",
              "         2, 0, 0, 1, 0, 0, 0, 2, 0, 0, 0, 0, 0, 0, 0, 0, 0, 1, 1, 0, 0],\n",
              "        [0, 0, 0, 0, 1, 0, 0, 0, 0, 0, 0, 0, 0, 0, 0, 0, 1, 0, 0, 0, 0,\n",
              "         0, 0, 1, 0, 1, 0, 0, 0, 0, 0, 1, 1, 0, 0, 0, 0, 0, 1, 0, 0, 0,\n",
              "         0, 1, 0, 0, 1, 0, 0, 0, 0, 1, 0, 0, 1, 0, 0, 1, 0, 1, 0, 1, 0],\n",
              "        [1, 1, 0, 1, 1, 0, 0, 0, 0, 0, 0, 0, 0, 0, 0, 1, 1, 0, 0, 0, 1,\n",
              "         0, 0, 1, 0, 1, 1, 0, 0, 1, 0, 1, 3, 0, 0, 1, 0, 0, 1, 0, 0, 0,\n",
              "         0, 1, 0, 0, 1, 0, 0, 0, 0, 1, 0, 0, 1, 0, 0, 0, 0, 1, 0, 1, 0]],\n",
              "       dtype=int64)"
            ]
          },
          "execution_count": 70,
          "metadata": {},
          "output_type": "execute_result"
        }
      ],
      "source": [
        "c_feat[:,:].todense()"
      ]
    },
    {
      "cell_type": "code",
      "execution_count": 71,
      "metadata": {
        "colab": {
          "base_uri": "https://localhost:8080/"
        },
        "id": "A4NHsQcQQ_rv",
        "outputId": "914ac344-0fdf-4341-8ee8-f609dc46e51e"
      },
      "outputs": [
        {
          "name": "stdout",
          "output_type": "stream",
          "text": [
            "[[0 0 1 0 0 1 1 1 1 1 1 1 1 1 1 2 2 1 1 1 0 1 1 1 1 2 0 1 1 0 1 2 5 1 1 0\n",
            "  1 1 1 1 2 1 2 1 1 0 0 1 1 0 1 1 1 1 0 1 1 0 2 0 0 2 1]\n",
            " [0 0 0 0 0 0 0 0 0 0 0 0 0 1 0 0 0 0 0 0 0 0 0 0 0 1 0 0 0 0 0 0 2 0 0 0\n",
            "  0 0 0 0 0 0 2 0 0 1 0 0 0 2 0 0 0 0 0 0 0 0 0 1 1 0 0]\n",
            " [0 0 0 0 1 0 0 0 0 0 0 0 0 0 0 0 1 0 0 0 0 0 0 1 0 1 0 0 0 0 0 1 1 0 0 0\n",
            "  0 0 1 0 0 0 0 1 0 0 1 0 0 0 0 1 0 0 1 0 0 1 0 1 0 1 0]\n",
            " [1 1 0 1 1 0 0 0 0 0 0 0 0 0 0 1 1 0 0 0 1 0 0 1 0 1 1 0 0 1 0 1 3 0 0 1\n",
            "  0 0 1 0 0 0 0 1 0 0 1 0 0 0 0 1 0 0 1 0 0 0 0 1 0 1 0]]\n"
          ]
        }
      ],
      "source": [
        "#first_news เป็น array ของข่าว โดย row ที่ 1 = ข่าวที่ต้องการตรวจสอบจาก cofact, row ที่ 2 = ข้อความสรุปใน cofact, row ที่ 3 = หัวข้อข่าวที่เชื่อถือได้ , row ที่ 4 = เนื้อหาข่าว paragraph แรกของข่าวที่เชื่อถือได้\n",
        "first_news = c_feat[:,:].todense()\n",
        "print(first_news) "
      ]
    },
    {
      "cell_type": "code",
      "execution_count": 72,
      "metadata": {
        "colab": {
          "base_uri": "https://localhost:8080/"
        },
        "id": "d3gr_777Q_rv",
        "outputId": "457377d9-6660-43ff-f8f0-996698e61683"
      },
      "outputs": [
        {
          "data": {
            "text/plain": [
              "63"
            ]
          },
          "execution_count": 72,
          "metadata": {},
          "output_type": "execute_result"
        }
      ],
      "source": [
        "first_news.shape[1]"
      ]
    },
    {
      "cell_type": "code",
      "execution_count": 73,
      "metadata": {
        "colab": {
          "base_uri": "https://localhost:8080/"
        },
        "id": "A9iFTBbwQ_rv",
        "outputId": "165168b1-6d00-4c40-f8b4-3ec4e171882a"
      },
      "outputs": [
        {
          "name": "stdout",
          "output_type": "stream",
          "text": [
            "This is sum (upperpart) : 17\n",
            "This is lowerpart : 40.39801975344831\n"
          ]
        },
        {
          "data": {
            "text/plain": [
              "0.4208127057650866"
            ]
          },
          "execution_count": 73,
          "metadata": {},
          "output_type": "execute_result"
        }
      ],
      "source": [
        "find_cosine_similarity(first_news, 0, 1) #เทียบ ข้อความที่ต้องการตรวจสอบบน cofact กับ ข้อความสรุปใน cofact"
      ]
    },
    {
      "cell_type": "code",
      "execution_count": 74,
      "metadata": {
        "colab": {
          "base_uri": "https://localhost:8080/"
        },
        "id": "6z4Q1mb0Q_rw",
        "outputId": "21a1db93-244f-47f7-b635-1038e84b2334"
      },
      "outputs": [
        {
          "name": "stdout",
          "output_type": "stream",
          "text": [
            "This is sum (upperpart) : 17\n",
            "This is lowerpart : 36.66060555964672\n"
          ]
        },
        {
          "data": {
            "text/plain": [
              "0.46371301675148385"
            ]
          },
          "execution_count": 74,
          "metadata": {},
          "output_type": "execute_result"
        }
      ],
      "source": [
        "find_cosine_similarity(first_news, 0, 2)#เทียบ ข้อความที่ต้องการตรวจสอบบน cofact กับ หัวข้อข่าวที่เชื่อถือได้"
      ]
    },
    {
      "cell_type": "code",
      "execution_count": 75,
      "metadata": {
        "colab": {
          "base_uri": "https://localhost:8080/"
        },
        "id": "C43s4Q1IQ_rw",
        "outputId": "56631c9e-49bb-4432-f36c-8c4247cf9d18"
      },
      "outputs": [
        {
          "name": "stdout",
          "output_type": "stream",
          "text": [
            "This is sum (upperpart) : 29\n",
            "This is lowerpart : 52.76362383309167\n"
          ]
        },
        {
          "data": {
            "text/plain": [
              "0.549621081594705"
            ]
          },
          "execution_count": 75,
          "metadata": {},
          "output_type": "execute_result"
        }
      ],
      "source": [
        "find_cosine_similarity(first_news, 0, 3)#เทียบ ข้อความที่ต้องการตรวจสอบบน cofact กับ เนื้อหาข่าว paragraph แรกของข่าวที่เชื่อถือได้"
      ]
    },
    {
      "cell_type": "code",
      "execution_count": null,
      "metadata": {
        "id": "JKBG17c4SD-5"
      },
      "outputs": [],
      "source": []
    },
    {
      "cell_type": "markdown",
      "metadata": {
        "id": "kOK11AbnSEOV"
      },
      "source": [
        "# ข่าวที่ 7"
      ]
    },
    {
      "cell_type": "code",
      "execution_count": 76,
      "metadata": {
        "id": "IN4pB5PBSEOV"
      },
      "outputs": [],
      "source": [
        "clean_text = ['\"จิงจูฉ่าย\" เป็นผัก มหัศจรรย์ สามารถใช้รักษามะเร็งได้ !————————————“ผม..นิกกี้ อิทธิเกษม KU37 อดีตนายกสมาคมม.เกษตรฯแห่งอเมริกา จะขอเล่าประสบการณ์ที่เคยสัมผัสมากับตัวเองเมื่อปี 2007 เพื่อเป็นcaseตัวอย่างและเป็นทางออกให้กับผู้ป่วยโรคมะเร็งทั้งหลาย       ผมมีร้านอาหารอยู่ในเขต N.Hooywood วันหนึ่งกลางปี 2007 ผมได้มีโอกาสเจอลูกศิษย์เก่าที่เคยมาเรียนแจกไพ่ที่ร้าน ถามทุกข์สุขกันไปมา ถึงได้รู้ว่าเขาเคยเป็นมะเร็งที่คอ 1 ครั้ง,มะเร็งที่ต่อมลูกหมาก 1 ครั้ง ปัจจุบันหายเป็นปลิดทิ้ง รวมทั้งพี่น้องญาติอีก8คนที่เป็นมะเร็งภายในเวลา5 ปี ทุกคนหายหมด ผมจึงเกิดความกระตือรือร้นที่จะถามว่า มีวิธีรักษากันอย่างไร? วันนั้นคุณแม่เขามาด้วยจึงอธิบายให้ฟังว่า \"ฉันมีต้นจิงจูฉ่ายอยู่ในสวนหลังบ้านเยอะ ปกติก็จะใส่ในแกงจืดให้ลูกๆกินเป็นประจำ เพราะคนจีนบอกต่อๆกันมาถึงสรรพคุณช่วยฟอกเลือดและขับสารพิษออกจากร่างกายทำ ให้ลูกๆไม่ค่อยเป็นอะไรวันหนึ่งลูกฉันไปตรวจหมอกลับมา บอกว่าเป็นมะเร็ง อีก 2 เดือนต้องไปฉายแสง ฉันจึงลองเอาจิงจูฉ่าย1กำมือมาตำ จะได้น้ำออกมาแก้ว(เล็ก)หนึ่ง ให้เขากินตอนเช้าทุกวัน 2 เดือนถัดมาไปตรวจหมอ หมอถามไปทำอะไรมา ทุกอย่างปกติหมด มะเร็งได้หายไปแล้ว\"        หลังจากคุยกันพักหนึ่ง ผมก็ได้ข้อสรุปออกมาว่า คน8คนเป็นมะเร็งในที่ต่างกัน กินน้ำจิงจูฮวยฉ่าย 2-3 เดือน ทุกคนหายหมด(ไม่มีใครต้องทำคีโมเลย) ผมจึงเกิดความเชื่อถือขึ้นมาระดับหนึ่ง        ก่อนหน้านั้น พี่สะใภ้ผม 2 คน (ปี2006) เป็นมะเร็งที่เต้านม,มดลูก คนหนึ่งต้องทำคีโม ใช้วิธี\"นั่งสมาธิ\"ทุกวัน 8 เดือน หายเป็นปกติ        ต่อมาผมได้ต้นจิงจูฉ่ายมา1 ต้น จากคุณแม่ของลูกศิษย์ จึงรีบนำมาเพาะขยาย ปลายปี 2008 ผมได้รู้ว่าแม่ค้าที่เช่าที่ในร้านผมคนหนึ่งเป็นมะเร็งเต้านมขั้น 3 หน้าคล้ำ เดินตัวแข็งแล้ว ผมรีบเชิญมานั่งคุยเล่าเรื่องจิงจูฉ่ายให้ฟังและเรื่องพี่สะใภ้นั่งสมาธิ ก็เลยแนะนำให้ทำ 2 อย่างควบคู่กันไป เชื่อไหมว่า 3 เดือนถัดไป หายเป็นปลิดทิ้ง (ผมให้เขาไปเพียง1ต้นไปปลูกและ เด็ดใบทานเลยวันละ1ใบ เพราะมีน้อย ก็ยังได้ผล)        ปี 2009 ผมมีต้นจิงจูฉ่ายมากขึ้นและแจกจ่ายให้กับคนรู้จักหลายคน ซึ่งกำลังอยู่ในระหว่าง 3 เดือน ทุกคนอาการดีขึ้นหมด ถ้าเราอยากช่วยผู้ที่เรารักและห่วงใยซึ่งกำลังเผชิญกับโรคร้ายนี้ ผมแนะนำวิธีนี้ ถ้าคุณต้องทำคีโมก็ทำไป กินใบจิงจูฉ่ายและนั่งสมาธิผมว่าคุณมีโอกาสหาย        ผมพยายามหาข้อมูลเพิ่มเติม พบว่าผักชนิดนี้ แพมย์จีนโบราณเรียกว่า\"ยาเย็น\"เป็น\"หยิน\"ช่วยฟอกเลือด,ขับสารพิษ..ฆ่าเชื้อ ไวรัสทุกชนิด..เพื่อนku37 คนหนึ่งลองให้ลูกกิน เนื้องอกที่คอก็ยุบลง      เนื่องจากที่ LA.เรามีน้อยมาก ถ้าเกิดใครต้องการมากๆ (จริงๆต้องทานวันละ1กำ)ลองคุยกับคุณน้อยที่สวนคุณน้อย จ.เชียงใหมเขาขายกก.ละ 35 บาท     ใครเป็นมะเร็งลองดูซิครับ ทานแล้วยังไงก็ไม่มีผลข้างเคียง แต่ คุณมีโอกาสหายครับ.ใครที่เคยสั่ง \"เกาเหลาเลือดหมู\" มาทาน เคยสงสัยกันไหมว่า ในชามเกาเหลาของเราจะมีผักสีเขียวชนิดหนึ่ง ที่ไม่ใช่ผักกาดหอม ขึ้นฉ่าย หรือใบตำลึงใส่ชามมาด้วย หลายคนไม่ทราบว่าเจ้าผักชนิดนี้มีชื่อเรียกว่าอะไร แล้วมีสรรพคุณอย่างไร เอ้า...ใครที่ไม่รู้ ตามกระปุกดอทคอมมาเลยค่ะ         เจ้าผักชนิดนี้เรียกว่า \"จิงจูฉ่าย\" ค่ะ หรือที่ชาวต่างชาติเรียกว่า \"เซเลอรี่\" (Celery) เป็นผักสมุนไพรชนิดหนึ่งของจีน มีชื่อวิทยาศาสตร์ว่า Apium graveolens L. ลักษณะต้น \"จิงจูฉ่าย\" จะเป็นกอคล้ายใบบัวบก สามารถเจริญงอกงามได้ดีในที่ที่มีแสงแดดรำไร ชื้น ดินโปร่งแต่ไม่แฉะ ชอบอากาศเย็นมากกว่าอากาศร้อน คุณค่าทางโภชนาการของ \"จิงจูฉ่าย\" มีไม่น้อยทีเดียวค่ะ เพราะ \"จิงจูฉ่าย\" 100 กรัม ให้พลังงาน 392 กิโลแคลอรี ประกอบด้วยสารอาหารนานาชนิด คือ โปรตีน, ไขมัน, คาร์โบไฮเดรต, เส้นใย, แคลเซียม, เหล็ก, ฟอสฟอรัส, วิตามินเอ, วิตามินบี6, วิตามินซี และวิตามินอี         มาที่สรรพคุณทางยากันบ้างดีกว่า จุดเด่นของ \"จิงจูฉ่าย\" คือมีกลิ่นหอม คล้าย ๆ กับตั้งโอ๋ ยิ่งโดนความร้อนจะยิ่งหอม และยิ่งเพิ่มสรรพคุณมากขึ้น โดยกลิ่นหอมของ \"จิงจูฉ่าย\" มาจากน้ำมันหอมระเหยที่มีอยู่ในลำต้นและใบนั่นเอง ประกอบด้วยสารไลโมนีน ซิลนีน และสารกลัยโคไซด์ที่มีชื่อว่า อะปิอิน ซึ่ง สารเหล่านี้มีสรรพคุณช่วยปรับสมดุลความดันโลหิต จึงเหมาะกับผู้ที่มีปัญหาเรื่องความดัน แถมยังช่วยขับลมในกระเพาะอาหารและลำไส้ได้ด้วยส่วนต้นสด และเมล็ดของ \"จิงจูฉ่าย\" มีโซเดียมต่ำ จึงดีต่อผู้ป่วยโรคไต          นอกจากนี้ ในทางการแพทย์เชื่อว่า \"จิงจูฉ่าย\" เป็นยาเย็น จึงช่วยบำรุงปอด ช่วยฟอกเลือด เลือดลมหมุนเวียนได้สะดวก คนจีนจึงนิยมนำผักชนิดนี้มาปรุงเป็นอาหารรับประทานในหน้าหนาว เพื่อช่วยในเรื่องการไหลเวียนของโลหิต ปรับสมดุลให้ร่างกายได้ดีนั่นเอง ส่วนที่หลายคนสงสัยว่า ทำไมเราจึงมักเห็น \"จิงจูฉ่าย\" อยู่ในเกาเหลาเลือดหมู นั่นก็เพราะ \"จิงจูฉ่าย\" มีสรรพคุณช่วยดับกลิ่นคาวเลือดได้ดีด้วยค่ะแต่จริง ๆ แล้ว \"จิงจูฉ่าย\" ไม่ได้ใช้ทำอาหารได้เพียงแค่ต้มเลือดหมูเท่านั้นนะ เพราะอาหารประเภทแกงจืดทั้งหลาย หรือผัดผัก ผัดฉ่าก็สามารถใช้ \"จิงจูฉ่าย\" เป็นส่วนผสมที่ลงตัวน่ารับประทานไม่แพ้กันจิงจูฉ่าย ในรูปแบบชา  คัดวัตถุดิบใบจิงจูฉ่ายคุณภาพ  ปลอดสาร ผ่านกระบวนการผลิตที่ได้มาตรฐาน สะอาดปลอดภัย ไม่มีสารปนเปื้อน รสชาติหอมหวานไม่ขม ดื่มง่าย โดยกระบวนการหมัก นวดอย่างพิถีพิถัน และอบด้วยไฟอ่อนเพื่อให้คงคุณค่าทางโภชนาการ และสรรพคุณทางยา  ชาจิงจูฉ่ายจึงมีประโยชน์มากมาย  และเนื่องจากเป็๋นสมุนไพรจึงไม่มีผลข้างเคียงในกรณีที่บริโภคเป็นปริมาณมากอยกได้ข้อมูลเพิ่มเติมจากเพื่อนในเวปค่ะLiked By: PinKenมะเร็งระยะสุดท้าย 2 ปี ไม่เข้ารับรักษา ค่ามะเร็งล…: https://youtu.be/uITAm2Gi5mQ','ผักจิงจูฉ่ายรักษามะเร็งระยะสุดท้ายทำให้ค่ามะเร็งลดลง กรมการแพทย์ โดย สถาบันมะเร็งแห่งชาติ ได้ดำเนินการตรวจสอบข้อเท็จจริงพบว่า น้ำปั่นผักจิงจูฉ่ายไม่สามารถนำมาใช้รักษามะเร็งระยะสุดท้ายในมนุษย์ได้','เตือน!!ข่าวปลอม “น้ำปั่นผักจิงจูฉ่าย\"รักษามะเร็งระยะสุดท้าย','สถาบันมะเร็งแห่งชาติ แจ้งเตือนข่าวปลอม “น้ำปั่นผักจิงจูฉ่ายรักษามะเร็งระยะสุดท้าย\" ยืนยันไม่สามารถนำมาใช้รักษามะเร็งระยะสุดท้ายในมนุษย์ได้']"
      ]
    },
    {
      "cell_type": "markdown",
      "metadata": {
        "id": "gmdiTmHOSEOW"
      },
      "source": [
        "**Step 2: Tokenize**"
      ]
    },
    {
      "cell_type": "code",
      "execution_count": 77,
      "metadata": {
        "colab": {
          "base_uri": "https://localhost:8080/"
        },
        "id": "1vkR4NmWSEOW",
        "outputId": "a4d92da6-add1-41e4-8fc1-1fc6dfe6d4ad"
      },
      "outputs": [
        {
          "name": "stdout",
          "output_type": "stream",
          "text": [
            "tokenized text:\n",
            " ['จิง', 'จู', 'ฉ่า', 'ย', 'ผัก', 'มหัศจรรย์', 'รักษา', 'มะเร็ง', '—', '—', '—', '—', '—', '—', '—', '—', '—', '—', '—', '—', 'ผม', 'นิ', 'กกี้', 'อิทธิ', 'เกษม', 'KU37', 'นายก', 'สมา', 'คมม', 'เกษตรฯ', 'อเมริกา', 'เล่า', 'ประสบการณ์', 'สัมผัส', 'ตัว', 'ปี', 'case', 'ตัวอย่าง', 'ทางออก', 'ป่วย', 'โรค', 'มะเร็ง', 'ผม', 'ร้าน', 'อาหาร', 'เขต', 'N.Hooywood', 'กลาง', 'ปี', 'ผม', 'โอกาส', 'เจอ', 'ลูก', 'ศิษย์', 'เก่า', 'เรียน', 'แจก', 'ไพ่', 'ร้าน', 'ถาม', 'ทุกข์', 'สุข', 'รู้', 'มะเร็ง', 'คอ', 'มะเร็ง', 'ต่อม', 'ลูก', 'หมาก', 'หาย', 'ปลิด', 'ทิ้ง', 'พี่', 'น้อง', 'ญาติ', 'คน', 'มะเร็ง', 'เวลา', 'ปี', 'คน', 'หาย', 'ผม', 'กระตือรือร้น', 'ถาม', 'วิธี', 'รักษา', 'แม่', 'อธิบาย', 'ฟัง', 'ต้น', 'จิง', 'จู', 'ฉ่า', 'ยอ', 'ยู่', 'สวน', 'บ้าน', 'ปกติ', 'ใส่', 'แกงจืด', 'ลูกๆ', 'กิน', 'ประจำ', 'คน', 'จีน', 'ต่อๆ', 'สรรพคุณ', 'ฟอก', 'เลือด', 'ขับ', 'สาร', 'พิษ', 'ร่างกาย', 'ทำ', 'ลูกๆ', 'ลูก', 'ตรวจ', 'หมอก', 'ลับ', 'มะเร็ง', 'เดือน', 'ฉาย', 'แสง', 'ลอง', 'จิง', 'จู', 'ฉ่า', 'ย', 'กำ', 'มือ', 'ตำ', 'น้ำ', 'แก้ว', 'กิน', 'ตอน', 'เช้า', 'เดือน', 'ถัด', 'ตรวจ', 'หมอ', 'หมอ', 'ถาม', 'ทำ', 'ปกติ', 'มะเร็ง', 'หาย', 'คุย', 'พัก', 'ผม', 'ข้อ', 'สรุป', 'คน', 'คน', 'มะเร็ง', 'กิน', 'น้ำ', 'จิง', 'จู', 'ฮวย', 'ฉ่า', 'ย', 'เดือน', 'คน', 'หาย', 'ไม่มี', 'ทำ', 'คี', 'โม', 'ผม', 'มาระ', 'ดับ', 'หน้า', 'พี่', 'สะใภ้', 'ผม', 'คน', 'ปี', 'มะเร็ง', 'เต้า', 'นม', 'มดลูก', 'คน', 'ทำ', 'คี', 'โม', 'วิธี', 'นั่ง', 'สมาธิ', 'เดือน', 'หาย', 'ปกติ', 'ผม', 'ต้น', 'จิง', 'จู', 'ฉ่า', 'ยมา', 'ต้น', 'แม่', 'ลูก', 'ศิษย์', 'รีบ', 'เพาะ', 'ขยาย', 'ปลาย', 'ปี', 'ผม', 'รู้', 'แม่ค้า', 'เช่า', 'ร้าน', 'ผม', 'คน', 'มะเร็ง', 'เต้า', 'นม', 'หน้า', 'คล้ำ', 'เดิน', 'ตัว', 'แข็ง', 'ผม', 'รีบ', 'เชิญ', 'นั่ง', 'คุย', 'เล่า', 'เรื่อง', 'จิง', 'จู', 'ฉ่า', 'ย', 'ฟัง', 'เรื่อง', 'พี่', 'สะใภ้', 'นั่ง', 'สมาธิ', 'แนะนำ', 'ทำ', 'ควบคู่', 'ไหม', 'เดือน', 'ถัด', 'หาย', 'ปลิด', 'ทิ้ง', 'ผม', 'ต้น', 'ปลูก', 'เด็ด', 'ใบ', 'ทาน', 'ใบ', 'ปี', 'ผม', 'ต้น', 'จิง', 'จู', 'ฉ่า', 'ยมาก', 'แจก', 'จ่าย', 'คน', 'รู้จัก', 'คน', 'เดือน', 'คน', 'อาการ', 'ดี', 'รัก', 'ห่วงใย', 'เผชิญ', 'โรค', 'ร้าย', 'ผม', 'แนะนำ', 'วิธี', 'ทำ', 'คี', 'โม', 'ทำ', 'กิน', 'ใบ', 'จิง', 'จู', 'ฉ่า', 'ย', 'นั่ง', 'สมาธิ', 'ผม', 'โอกาส', 'หาย', 'ผม', 'หา', 'ข้อมูล', 'เติม', 'ผัก', 'ชนิด', 'แพ', 'มย์', 'จีน', 'โบราณ', 'ยา', 'เย็น', 'หยิน', 'ฟอก', 'เลือด', 'ขับ', 'สาร', 'พิษ', 'ฆ่า', 'เชื้อ', 'ไวรัส', 'ชนิด', 'เพื่อน', 'ku37', 'คน', 'ลอง', 'ลูก', 'กิน', 'เนื้อ', 'งอก', 'คอ', 'ยุบ', 'LA', 'กา', 'รมากๆ', 'ทาน', 'กำ', 'ลอง', 'คุย', 'สวน', 'จ', 'เชียง', 'ใหม', 'ขาย', 'กก', 'บาท', 'มะเร็ง', 'ลอง', 'ดู', 'ซิ', 'ทาน', 'ไม่มี', 'เคียง', 'โอกาส', 'หาย', 'สั่ง', 'เกาเหลา', 'เลือด', 'หมู', 'ทาน', 'สงสัย', 'ไหม', 'ชาม', 'เกาเหลา', 'ผัก', 'สี', 'เขียว', 'ชนิด', 'ผัก', 'กาด', 'หอม', 'ขึ้นฉ่าย', 'ใบ', 'ตำลึง', 'ใส่', 'ชาม', 'คน', 'ทราบ', 'เจ้า', 'ผัก', 'ชนิด', 'มีชื่อ', 'สรรพคุณ', 'เอ้า', 'ไม่รู้', 'กระ', 'ปุ', 'กด', 'อท', 'คอมมา', 'เจ้า', 'ผัก', 'ชนิด', 'จิง', 'จู', 'ฉ่า', 'ย', 'ชาติ', 'เซ', 'เลอ', 'รี่', 'Celery', 'ผัก', 'สมุนไพร', 'ชนิด', 'จีน', 'มีชื่อ', 'วิทยาศาสตร์', 'Apium', 'graveolens', 'L', 'ลักษณะ', 'ต้น', 'จิง', 'จู', 'ฉ่า', 'ย', 'กอ', 'ใบ', 'บัวบก', 'เจริญ', 'งอกงาม', 'ดี', 'แสงแดด', 'รำไร', 'ชื้น', 'ดิน', 'โปร่ง', 'แฉะ', 'ชอบ', 'อากาศ', 'เย็น', 'อากาศ', 'ร้อน', 'คุณค่า', 'โภชนาการ', 'จิง', 'จู', 'ฉ่า', 'ย', 'จิง', 'จู', 'ฉ่า', 'ย', 'กรัม', 'พลังงาน', 'กิโล', 'แคลอรี', 'สาร', 'อาหาร', 'นานา', 'ชนิด', 'โปรตีน', 'ไข', 'คาร์โบไฮเดรต', 'เส้นใย', 'แคลเซียม', 'เหล็ก', 'ฟอสฟอรัส', 'วิตามิน', 'เอ', 'วิ', 'ตา', 'นบี', 'วิตามิน', 'ซี', 'วิตามิน', 'อี', 'สรรพคุณ', 'ยา', 'ดี', 'จุด', 'เด่น', 'จิง', 'จู', 'ฉ่า', 'ย', 'กลิ่น', 'หอม', 'โอ๋', 'โดน', 'ร้อน', 'หอม', 'สรรพคุณ', 'กลิ่น', 'หอม', 'จิง', 'จู', 'ฉ่า', 'ย', 'น้ำมัน', 'หอม', 'ระเหย', 'ลำต้น', 'ใบ', 'สาร', 'ไล', 'โม', 'นีน', 'ซิ', 'ลนีน', 'สา', 'รก', 'ลัย', 'โค', 'ไซด์', 'มีชื่อ', 'อะปิ', 'อิน', 'สาร', 'สรรพคุณ', 'สมดุล', 'ดัน', 'โลหิต', 'เหมาะ', 'ปัญหา', 'เรื่อง', 'ดัน', 'แถม', 'ขับ', 'ลม', 'กระเพาะ', 'อาหาร', 'ลำไส้', 'ต้น', 'สด', 'เมล็ด', 'จิง', 'จู', 'ฉ่า', 'ย', 'โซเดียม', 'ต่ำ', 'ดี', 'ป่วย', 'โรค', 'ไต', 'ทางการ', 'แพทย์', 'จิง', 'จู', 'ฉ่า', 'ย', 'ยา', 'เย็น', 'บำรุง', 'ปอด', 'ฟอก', 'เลือด', 'เลือด', 'ลม', 'หมุนเวียน', 'สะดวก', 'คน', 'จีน', 'นิยม', 'ผัก', 'ชนิด', 'ปรุง', 'อาหาร', 'ประทาน', 'หน้า', 'หนาว', 'เรื่อง', 'ไหล', 'เวียน', 'โลหิต', 'สมดุล', 'ร่างกาย', 'ดี', 'คน', 'สงสัย', 'จิง', 'จู', 'ฉ่า', 'ย', 'เกาเหลา', 'เลือด', 'หมู', 'จิง', 'จู', 'ฉ่า', 'ย', 'สรรพคุณ', 'ดับ', 'กลิ่น', 'คาว', 'เลือด', 'ดี', 'จิง', 'จู', 'ฉ่า', 'ย', 'ทำ', 'อาหาร', 'ต้ม', 'เลือด', 'หมู', 'อาหาร', 'ประเภท', 'แกงจืด', 'ผัด', 'ผัก', 'ผัด', 'ฉ่า', 'จิง', 'จู', 'ฉ่า', 'ย', 'ผสม', 'ลงตัว', 'ประทาน', 'แพ้', 'จิง', 'จู', 'ฉ่า', 'ย', 'รูป', 'ชา', 'คัด', 'วัตถุดิบ', 'ใบ', 'จิง', 'จู', 'ฉ่า', 'ย', 'คุณภาพ', 'ปลอด', 'สาร', 'กระบวนการ', 'ผลิต', 'มาตรฐาน', 'สะอาด', 'ปลอดภัย', 'ไม่มี', 'สาร', 'ปน', 'เปื้อน', 'รสชาติ', 'หอม', 'หวาน', 'ขม', 'ดื่ม', 'กระบวนการ', 'หมัก', 'นวด', 'พิถีพิถัน', 'อบ', 'ไฟ', 'อ่อน', 'คุณค่า', 'โภชนาการ', 'สรรพคุณ', 'ยา', 'ชา', 'จิง', 'จู', 'ฉ่า', 'ย', 'ประโยชน์', 'เนื่อง', 'เป็๋น', 'สมุนไพร', 'ไม่มี', 'เคียง', 'กรณี', 'บริโภค', 'ปริมาณ', 'กอ', 'ข้อมูล', 'เติม', 'เพื่อน', 'เวป', 'Liked', 'By', 'PinKen', 'มะเร็ง', 'สุดท้าย', 'ปี', 'รักษา', 'ค่า', 'มะ', 'เร็ง', 'ล', '…', 'https', 'youtu.be', 'uITAm2Gi5mQ']\n",
            "tokenized text:\n",
            " ['ผัก', 'จิง', 'จู', 'ฉ่า', 'ย', 'รักษา', 'มะเร็ง', 'สุดท้าย', 'ค่า', 'มะเร็ง', 'ลด', 'กรม', 'แพทย์', 'สถาบัน', 'มะเร็ง', 'ชาติ', 'ดำเนิน', 'ตรวจ', 'สอบ', 'ข้อ', 'เท็จ', 'น้ำ', 'ปั่น', 'ผัก', 'จิง', 'จู', 'ฉ่า', 'ย', 'รักษา', 'มะเร็ง', 'สุดท้าย', 'มนุษย์']\n",
            "tokenized text:\n",
            " ['เตือน', 'ข่าว', 'ปลอม', 'น้ำ', 'ปั่น', 'ผัก', 'จิง', 'จู', 'ฉ่า', 'ย', 'รักษา', 'มะเร็ง', 'สุดท้าย']\n",
            "tokenized text:\n",
            " ['สถาบัน', 'มะเร็ง', 'ชาติ', 'แจ้ง', 'เตือน', 'ข่าว', 'ปลอม', 'น้ำ', 'ปั่น', 'ผัก', 'จิง', 'จู', 'ฉ่า', 'ย', 'รักษา', 'มะเร็ง', 'สุดท้าย', 'รักษา', 'มะเร็ง', 'สุดท้าย', 'มนุษย์']\n"
          ]
        }
      ],
      "source": [
        "print('tokenized text:\\n',split_word(clean_text[0])) #ข้อความที่ต้องการตรวจสอบบน cofact\n",
        "print('tokenized text:\\n',split_word(clean_text[1])) #ข้อความสรุปใน cofact\n",
        "print('tokenized text:\\n',split_word(clean_text[2])) #หัวข่าวอ้างอิง\n",
        "print('tokenized text:\\n',split_word(clean_text[3])) #เนื้อหาข่าวอ้างอิง paragraph แรก"
      ]
    },
    {
      "cell_type": "code",
      "execution_count": 78,
      "metadata": {
        "id": "ZGQxspMxSEOW"
      },
      "outputs": [],
      "source": [
        "tokens_list = [split_word(txt) for txt in clean_text]"
      ]
    },
    {
      "cell_type": "code",
      "execution_count": 79,
      "metadata": {
        "colab": {
          "base_uri": "https://localhost:8080/"
        },
        "id": "6n6Bhi5hSEOW",
        "outputId": "7379618e-23e3-4ba8-f292-67efee80ad4f"
      },
      "outputs": [
        {
          "data": {
            "text/plain": [
              "[['จิง',\n",
              "  'จู',\n",
              "  'ฉ่า',\n",
              "  'ย',\n",
              "  'ผัก',\n",
              "  'มหัศจรรย์',\n",
              "  'รักษา',\n",
              "  'มะเร็ง',\n",
              "  '—',\n",
              "  '—',\n",
              "  '—',\n",
              "  '—',\n",
              "  '—',\n",
              "  '—',\n",
              "  '—',\n",
              "  '—',\n",
              "  '—',\n",
              "  '—',\n",
              "  '—',\n",
              "  '—',\n",
              "  'ผม',\n",
              "  'นิ',\n",
              "  'กกี้',\n",
              "  'อิทธิ',\n",
              "  'เกษม',\n",
              "  'KU37',\n",
              "  'นายก',\n",
              "  'สมา',\n",
              "  'คมม',\n",
              "  'เกษตรฯ',\n",
              "  'อเมริกา',\n",
              "  'เล่า',\n",
              "  'ประสบการณ์',\n",
              "  'สัมผัส',\n",
              "  'ตัว',\n",
              "  'ปี',\n",
              "  'case',\n",
              "  'ตัวอย่าง',\n",
              "  'ทางออก',\n",
              "  'ป่วย',\n",
              "  'โรค',\n",
              "  'มะเร็ง',\n",
              "  'ผม',\n",
              "  'ร้าน',\n",
              "  'อาหาร',\n",
              "  'เขต',\n",
              "  'N.Hooywood',\n",
              "  'กลาง',\n",
              "  'ปี',\n",
              "  'ผม',\n",
              "  'โอกาส',\n",
              "  'เจอ',\n",
              "  'ลูก',\n",
              "  'ศิษย์',\n",
              "  'เก่า',\n",
              "  'เรียน',\n",
              "  'แจก',\n",
              "  'ไพ่',\n",
              "  'ร้าน',\n",
              "  'ถาม',\n",
              "  'ทุกข์',\n",
              "  'สุข',\n",
              "  'รู้',\n",
              "  'มะเร็ง',\n",
              "  'คอ',\n",
              "  'มะเร็ง',\n",
              "  'ต่อม',\n",
              "  'ลูก',\n",
              "  'หมาก',\n",
              "  'หาย',\n",
              "  'ปลิด',\n",
              "  'ทิ้ง',\n",
              "  'พี่',\n",
              "  'น้อง',\n",
              "  'ญาติ',\n",
              "  'คน',\n",
              "  'มะเร็ง',\n",
              "  'เวลา',\n",
              "  'ปี',\n",
              "  'คน',\n",
              "  'หาย',\n",
              "  'ผม',\n",
              "  'กระตือรือร้น',\n",
              "  'ถาม',\n",
              "  'วิธี',\n",
              "  'รักษา',\n",
              "  'แม่',\n",
              "  'อธิบาย',\n",
              "  'ฟัง',\n",
              "  'ต้น',\n",
              "  'จิง',\n",
              "  'จู',\n",
              "  'ฉ่า',\n",
              "  'ยอ',\n",
              "  'ยู่',\n",
              "  'สวน',\n",
              "  'บ้าน',\n",
              "  'ปกติ',\n",
              "  'ใส่',\n",
              "  'แกงจืด',\n",
              "  'ลูกๆ',\n",
              "  'กิน',\n",
              "  'ประจำ',\n",
              "  'คน',\n",
              "  'จีน',\n",
              "  'ต่อๆ',\n",
              "  'สรรพคุณ',\n",
              "  'ฟอก',\n",
              "  'เลือด',\n",
              "  'ขับ',\n",
              "  'สาร',\n",
              "  'พิษ',\n",
              "  'ร่างกาย',\n",
              "  'ทำ',\n",
              "  'ลูกๆ',\n",
              "  'ลูก',\n",
              "  'ตรวจ',\n",
              "  'หมอก',\n",
              "  'ลับ',\n",
              "  'มะเร็ง',\n",
              "  'เดือน',\n",
              "  'ฉาย',\n",
              "  'แสง',\n",
              "  'ลอง',\n",
              "  'จิง',\n",
              "  'จู',\n",
              "  'ฉ่า',\n",
              "  'ย',\n",
              "  'กำ',\n",
              "  'มือ',\n",
              "  'ตำ',\n",
              "  'น้ำ',\n",
              "  'แก้ว',\n",
              "  'กิน',\n",
              "  'ตอน',\n",
              "  'เช้า',\n",
              "  'เดือน',\n",
              "  'ถัด',\n",
              "  'ตรวจ',\n",
              "  'หมอ',\n",
              "  'หมอ',\n",
              "  'ถาม',\n",
              "  'ทำ',\n",
              "  'ปกติ',\n",
              "  'มะเร็ง',\n",
              "  'หาย',\n",
              "  'คุย',\n",
              "  'พัก',\n",
              "  'ผม',\n",
              "  'ข้อ',\n",
              "  'สรุป',\n",
              "  'คน',\n",
              "  'คน',\n",
              "  'มะเร็ง',\n",
              "  'กิน',\n",
              "  'น้ำ',\n",
              "  'จิง',\n",
              "  'จู',\n",
              "  'ฮวย',\n",
              "  'ฉ่า',\n",
              "  'ย',\n",
              "  'เดือน',\n",
              "  'คน',\n",
              "  'หาย',\n",
              "  'ไม่มี',\n",
              "  'ทำ',\n",
              "  'คี',\n",
              "  'โม',\n",
              "  'ผม',\n",
              "  'มาระ',\n",
              "  'ดับ',\n",
              "  'หน้า',\n",
              "  'พี่',\n",
              "  'สะใภ้',\n",
              "  'ผม',\n",
              "  'คน',\n",
              "  'ปี',\n",
              "  'มะเร็ง',\n",
              "  'เต้า',\n",
              "  'นม',\n",
              "  'มดลูก',\n",
              "  'คน',\n",
              "  'ทำ',\n",
              "  'คี',\n",
              "  'โม',\n",
              "  'วิธี',\n",
              "  'นั่ง',\n",
              "  'สมาธิ',\n",
              "  'เดือน',\n",
              "  'หาย',\n",
              "  'ปกติ',\n",
              "  'ผม',\n",
              "  'ต้น',\n",
              "  'จิง',\n",
              "  'จู',\n",
              "  'ฉ่า',\n",
              "  'ยมา',\n",
              "  'ต้น',\n",
              "  'แม่',\n",
              "  'ลูก',\n",
              "  'ศิษย์',\n",
              "  'รีบ',\n",
              "  'เพาะ',\n",
              "  'ขยาย',\n",
              "  'ปลาย',\n",
              "  'ปี',\n",
              "  'ผม',\n",
              "  'รู้',\n",
              "  'แม่ค้า',\n",
              "  'เช่า',\n",
              "  'ร้าน',\n",
              "  'ผม',\n",
              "  'คน',\n",
              "  'มะเร็ง',\n",
              "  'เต้า',\n",
              "  'นม',\n",
              "  'หน้า',\n",
              "  'คล้ำ',\n",
              "  'เดิน',\n",
              "  'ตัว',\n",
              "  'แข็ง',\n",
              "  'ผม',\n",
              "  'รีบ',\n",
              "  'เชิญ',\n",
              "  'นั่ง',\n",
              "  'คุย',\n",
              "  'เล่า',\n",
              "  'เรื่อง',\n",
              "  'จิง',\n",
              "  'จู',\n",
              "  'ฉ่า',\n",
              "  'ย',\n",
              "  'ฟัง',\n",
              "  'เรื่อง',\n",
              "  'พี่',\n",
              "  'สะใภ้',\n",
              "  'นั่ง',\n",
              "  'สมาธิ',\n",
              "  'แนะนำ',\n",
              "  'ทำ',\n",
              "  'ควบคู่',\n",
              "  'ไหม',\n",
              "  'เดือน',\n",
              "  'ถัด',\n",
              "  'หาย',\n",
              "  'ปลิด',\n",
              "  'ทิ้ง',\n",
              "  'ผม',\n",
              "  'ต้น',\n",
              "  'ปลูก',\n",
              "  'เด็ด',\n",
              "  'ใบ',\n",
              "  'ทาน',\n",
              "  'ใบ',\n",
              "  'ปี',\n",
              "  'ผม',\n",
              "  'ต้น',\n",
              "  'จิง',\n",
              "  'จู',\n",
              "  'ฉ่า',\n",
              "  'ยมาก',\n",
              "  'แจก',\n",
              "  'จ่าย',\n",
              "  'คน',\n",
              "  'รู้จัก',\n",
              "  'คน',\n",
              "  'เดือน',\n",
              "  'คน',\n",
              "  'อาการ',\n",
              "  'ดี',\n",
              "  'รัก',\n",
              "  'ห่วงใย',\n",
              "  'เผชิญ',\n",
              "  'โรค',\n",
              "  'ร้าย',\n",
              "  'ผม',\n",
              "  'แนะนำ',\n",
              "  'วิธี',\n",
              "  'ทำ',\n",
              "  'คี',\n",
              "  'โม',\n",
              "  'ทำ',\n",
              "  'กิน',\n",
              "  'ใบ',\n",
              "  'จิง',\n",
              "  'จู',\n",
              "  'ฉ่า',\n",
              "  'ย',\n",
              "  'นั่ง',\n",
              "  'สมาธิ',\n",
              "  'ผม',\n",
              "  'โอกาส',\n",
              "  'หาย',\n",
              "  'ผม',\n",
              "  'หา',\n",
              "  'ข้อมูล',\n",
              "  'เติม',\n",
              "  'ผัก',\n",
              "  'ชนิด',\n",
              "  'แพ',\n",
              "  'มย์',\n",
              "  'จีน',\n",
              "  'โบราณ',\n",
              "  'ยา',\n",
              "  'เย็น',\n",
              "  'หยิน',\n",
              "  'ฟอก',\n",
              "  'เลือด',\n",
              "  'ขับ',\n",
              "  'สาร',\n",
              "  'พิษ',\n",
              "  'ฆ่า',\n",
              "  'เชื้อ',\n",
              "  'ไวรัส',\n",
              "  'ชนิด',\n",
              "  'เพื่อน',\n",
              "  'ku37',\n",
              "  'คน',\n",
              "  'ลอง',\n",
              "  'ลูก',\n",
              "  'กิน',\n",
              "  'เนื้อ',\n",
              "  'งอก',\n",
              "  'คอ',\n",
              "  'ยุบ',\n",
              "  'LA',\n",
              "  'กา',\n",
              "  'รมากๆ',\n",
              "  'ทาน',\n",
              "  'กำ',\n",
              "  'ลอง',\n",
              "  'คุย',\n",
              "  'สวน',\n",
              "  'จ',\n",
              "  'เชียง',\n",
              "  'ใหม',\n",
              "  'ขาย',\n",
              "  'กก',\n",
              "  'บาท',\n",
              "  'มะเร็ง',\n",
              "  'ลอง',\n",
              "  'ดู',\n",
              "  'ซิ',\n",
              "  'ทาน',\n",
              "  'ไม่มี',\n",
              "  'เคียง',\n",
              "  'โอกาส',\n",
              "  'หาย',\n",
              "  'สั่ง',\n",
              "  'เกาเหลา',\n",
              "  'เลือด',\n",
              "  'หมู',\n",
              "  'ทาน',\n",
              "  'สงสัย',\n",
              "  'ไหม',\n",
              "  'ชาม',\n",
              "  'เกาเหลา',\n",
              "  'ผัก',\n",
              "  'สี',\n",
              "  'เขียว',\n",
              "  'ชนิด',\n",
              "  'ผัก',\n",
              "  'กาด',\n",
              "  'หอม',\n",
              "  'ขึ้นฉ่าย',\n",
              "  'ใบ',\n",
              "  'ตำลึง',\n",
              "  'ใส่',\n",
              "  'ชาม',\n",
              "  'คน',\n",
              "  'ทราบ',\n",
              "  'เจ้า',\n",
              "  'ผัก',\n",
              "  'ชนิด',\n",
              "  'มีชื่อ',\n",
              "  'สรรพคุณ',\n",
              "  'เอ้า',\n",
              "  'ไม่รู้',\n",
              "  'กระ',\n",
              "  'ปุ',\n",
              "  'กด',\n",
              "  'อท',\n",
              "  'คอมมา',\n",
              "  'เจ้า',\n",
              "  'ผัก',\n",
              "  'ชนิด',\n",
              "  'จิง',\n",
              "  'จู',\n",
              "  'ฉ่า',\n",
              "  'ย',\n",
              "  'ชาติ',\n",
              "  'เซ',\n",
              "  'เลอ',\n",
              "  'รี่',\n",
              "  'Celery',\n",
              "  'ผัก',\n",
              "  'สมุนไพร',\n",
              "  'ชนิด',\n",
              "  'จีน',\n",
              "  'มีชื่อ',\n",
              "  'วิทยาศาสตร์',\n",
              "  'Apium',\n",
              "  'graveolens',\n",
              "  'L',\n",
              "  'ลักษณะ',\n",
              "  'ต้น',\n",
              "  'จิง',\n",
              "  'จู',\n",
              "  'ฉ่า',\n",
              "  'ย',\n",
              "  'กอ',\n",
              "  'ใบ',\n",
              "  'บัวบก',\n",
              "  'เจริญ',\n",
              "  'งอกงาม',\n",
              "  'ดี',\n",
              "  'แสงแดด',\n",
              "  'รำไร',\n",
              "  'ชื้น',\n",
              "  'ดิน',\n",
              "  'โปร่ง',\n",
              "  'แฉะ',\n",
              "  'ชอบ',\n",
              "  'อากาศ',\n",
              "  'เย็น',\n",
              "  'อากาศ',\n",
              "  'ร้อน',\n",
              "  'คุณค่า',\n",
              "  'โภชนาการ',\n",
              "  'จิง',\n",
              "  'จู',\n",
              "  'ฉ่า',\n",
              "  'ย',\n",
              "  'จิง',\n",
              "  'จู',\n",
              "  'ฉ่า',\n",
              "  'ย',\n",
              "  'กรัม',\n",
              "  'พลังงาน',\n",
              "  'กิโล',\n",
              "  'แคลอรี',\n",
              "  'สาร',\n",
              "  'อาหาร',\n",
              "  'นานา',\n",
              "  'ชนิด',\n",
              "  'โปรตีน',\n",
              "  'ไข',\n",
              "  'คาร์โบไฮเดรต',\n",
              "  'เส้นใย',\n",
              "  'แคลเซียม',\n",
              "  'เหล็ก',\n",
              "  'ฟอสฟอรัส',\n",
              "  'วิตามิน',\n",
              "  'เอ',\n",
              "  'วิ',\n",
              "  'ตา',\n",
              "  'นบี',\n",
              "  'วิตามิน',\n",
              "  'ซี',\n",
              "  'วิตามิน',\n",
              "  'อี',\n",
              "  'สรรพคุณ',\n",
              "  'ยา',\n",
              "  'ดี',\n",
              "  'จุด',\n",
              "  'เด่น',\n",
              "  'จิง',\n",
              "  'จู',\n",
              "  'ฉ่า',\n",
              "  'ย',\n",
              "  'กลิ่น',\n",
              "  'หอม',\n",
              "  'โอ๋',\n",
              "  'โดน',\n",
              "  'ร้อน',\n",
              "  'หอม',\n",
              "  'สรรพคุณ',\n",
              "  'กลิ่น',\n",
              "  'หอม',\n",
              "  'จิง',\n",
              "  'จู',\n",
              "  'ฉ่า',\n",
              "  'ย',\n",
              "  'น้ำมัน',\n",
              "  'หอม',\n",
              "  'ระเหย',\n",
              "  'ลำต้น',\n",
              "  'ใบ',\n",
              "  'สาร',\n",
              "  'ไล',\n",
              "  'โม',\n",
              "  'นีน',\n",
              "  'ซิ',\n",
              "  'ลนีน',\n",
              "  'สา',\n",
              "  'รก',\n",
              "  'ลัย',\n",
              "  'โค',\n",
              "  'ไซด์',\n",
              "  'มีชื่อ',\n",
              "  'อะปิ',\n",
              "  'อิน',\n",
              "  'สาร',\n",
              "  'สรรพคุณ',\n",
              "  'สมดุล',\n",
              "  'ดัน',\n",
              "  'โลหิต',\n",
              "  'เหมาะ',\n",
              "  'ปัญหา',\n",
              "  'เรื่อง',\n",
              "  'ดัน',\n",
              "  'แถม',\n",
              "  'ขับ',\n",
              "  'ลม',\n",
              "  'กระเพาะ',\n",
              "  'อาหาร',\n",
              "  'ลำไส้',\n",
              "  'ต้น',\n",
              "  'สด',\n",
              "  'เมล็ด',\n",
              "  'จิง',\n",
              "  'จู',\n",
              "  'ฉ่า',\n",
              "  'ย',\n",
              "  'โซเดียม',\n",
              "  'ต่ำ',\n",
              "  'ดี',\n",
              "  'ป่วย',\n",
              "  'โรค',\n",
              "  'ไต',\n",
              "  'ทางการ',\n",
              "  'แพทย์',\n",
              "  'จิง',\n",
              "  'จู',\n",
              "  'ฉ่า',\n",
              "  'ย',\n",
              "  'ยา',\n",
              "  'เย็น',\n",
              "  'บำรุง',\n",
              "  'ปอด',\n",
              "  'ฟอก',\n",
              "  'เลือด',\n",
              "  'เลือด',\n",
              "  'ลม',\n",
              "  'หมุนเวียน',\n",
              "  'สะดวก',\n",
              "  'คน',\n",
              "  'จีน',\n",
              "  'นิยม',\n",
              "  'ผัก',\n",
              "  'ชนิด',\n",
              "  'ปรุง',\n",
              "  'อาหาร',\n",
              "  'ประทาน',\n",
              "  'หน้า',\n",
              "  'หนาว',\n",
              "  'เรื่อง',\n",
              "  'ไหล',\n",
              "  'เวียน',\n",
              "  'โลหิต',\n",
              "  'สมดุล',\n",
              "  'ร่างกาย',\n",
              "  'ดี',\n",
              "  'คน',\n",
              "  'สงสัย',\n",
              "  'จิง',\n",
              "  'จู',\n",
              "  'ฉ่า',\n",
              "  'ย',\n",
              "  'เกาเหลา',\n",
              "  'เลือด',\n",
              "  'หมู',\n",
              "  'จิง',\n",
              "  'จู',\n",
              "  'ฉ่า',\n",
              "  'ย',\n",
              "  'สรรพคุณ',\n",
              "  'ดับ',\n",
              "  'กลิ่น',\n",
              "  'คาว',\n",
              "  'เลือด',\n",
              "  'ดี',\n",
              "  'จิง',\n",
              "  'จู',\n",
              "  'ฉ่า',\n",
              "  'ย',\n",
              "  'ทำ',\n",
              "  'อาหาร',\n",
              "  'ต้ม',\n",
              "  'เลือด',\n",
              "  'หมู',\n",
              "  'อาหาร',\n",
              "  'ประเภท',\n",
              "  'แกงจืด',\n",
              "  'ผัด',\n",
              "  'ผัก',\n",
              "  'ผัด',\n",
              "  'ฉ่า',\n",
              "  'จิง',\n",
              "  'จู',\n",
              "  'ฉ่า',\n",
              "  'ย',\n",
              "  'ผสม',\n",
              "  'ลงตัว',\n",
              "  'ประทาน',\n",
              "  'แพ้',\n",
              "  'จิง',\n",
              "  'จู',\n",
              "  'ฉ่า',\n",
              "  'ย',\n",
              "  'รูป',\n",
              "  'ชา',\n",
              "  'คัด',\n",
              "  'วัตถุดิบ',\n",
              "  'ใบ',\n",
              "  'จิง',\n",
              "  'จู',\n",
              "  'ฉ่า',\n",
              "  'ย',\n",
              "  'คุณภาพ',\n",
              "  'ปลอด',\n",
              "  'สาร',\n",
              "  'กระบวนการ',\n",
              "  'ผลิต',\n",
              "  'มาตรฐาน',\n",
              "  'สะอาด',\n",
              "  'ปลอดภัย',\n",
              "  'ไม่มี',\n",
              "  'สาร',\n",
              "  'ปน',\n",
              "  'เปื้อน',\n",
              "  'รสชาติ',\n",
              "  'หอม',\n",
              "  'หวาน',\n",
              "  'ขม',\n",
              "  'ดื่ม',\n",
              "  'กระบวนการ',\n",
              "  'หมัก',\n",
              "  'นวด',\n",
              "  'พิถีพิถัน',\n",
              "  'อบ',\n",
              "  'ไฟ',\n",
              "  'อ่อน',\n",
              "  'คุณค่า',\n",
              "  'โภชนาการ',\n",
              "  'สรรพคุณ',\n",
              "  'ยา',\n",
              "  'ชา',\n",
              "  'จิง',\n",
              "  'จู',\n",
              "  'ฉ่า',\n",
              "  'ย',\n",
              "  'ประโยชน์',\n",
              "  'เนื่อง',\n",
              "  'เป็๋น',\n",
              "  'สมุนไพร',\n",
              "  'ไม่มี',\n",
              "  'เคียง',\n",
              "  'กรณี',\n",
              "  'บริโภค',\n",
              "  'ปริมาณ',\n",
              "  'กอ',\n",
              "  'ข้อมูล',\n",
              "  'เติม',\n",
              "  'เพื่อน',\n",
              "  'เวป',\n",
              "  'Liked',\n",
              "  'By',\n",
              "  'PinKen',\n",
              "  'มะเร็ง',\n",
              "  'สุดท้าย',\n",
              "  'ปี',\n",
              "  'รักษา',\n",
              "  'ค่า',\n",
              "  'มะ',\n",
              "  'เร็ง',\n",
              "  'ล',\n",
              "  '…',\n",
              "  'https',\n",
              "  'youtu.be',\n",
              "  'uITAm2Gi5mQ'],\n",
              " ['ผัก',\n",
              "  'จิง',\n",
              "  'จู',\n",
              "  'ฉ่า',\n",
              "  'ย',\n",
              "  'รักษา',\n",
              "  'มะเร็ง',\n",
              "  'สุดท้าย',\n",
              "  'ค่า',\n",
              "  'มะเร็ง',\n",
              "  'ลด',\n",
              "  'กรม',\n",
              "  'แพทย์',\n",
              "  'สถาบัน',\n",
              "  'มะเร็ง',\n",
              "  'ชาติ',\n",
              "  'ดำเนิน',\n",
              "  'ตรวจ',\n",
              "  'สอบ',\n",
              "  'ข้อ',\n",
              "  'เท็จ',\n",
              "  'น้ำ',\n",
              "  'ปั่น',\n",
              "  'ผัก',\n",
              "  'จิง',\n",
              "  'จู',\n",
              "  'ฉ่า',\n",
              "  'ย',\n",
              "  'รักษา',\n",
              "  'มะเร็ง',\n",
              "  'สุดท้าย',\n",
              "  'มนุษย์'],\n",
              " ['เตือน',\n",
              "  'ข่าว',\n",
              "  'ปลอม',\n",
              "  'น้ำ',\n",
              "  'ปั่น',\n",
              "  'ผัก',\n",
              "  'จิง',\n",
              "  'จู',\n",
              "  'ฉ่า',\n",
              "  'ย',\n",
              "  'รักษา',\n",
              "  'มะเร็ง',\n",
              "  'สุดท้าย'],\n",
              " ['สถาบัน',\n",
              "  'มะเร็ง',\n",
              "  'ชาติ',\n",
              "  'แจ้ง',\n",
              "  'เตือน',\n",
              "  'ข่าว',\n",
              "  'ปลอม',\n",
              "  'น้ำ',\n",
              "  'ปั่น',\n",
              "  'ผัก',\n",
              "  'จิง',\n",
              "  'จู',\n",
              "  'ฉ่า',\n",
              "  'ย',\n",
              "  'รักษา',\n",
              "  'มะเร็ง',\n",
              "  'สุดท้าย',\n",
              "  'รักษา',\n",
              "  'มะเร็ง',\n",
              "  'สุดท้าย',\n",
              "  'มนุษย์']]"
            ]
          },
          "execution_count": 79,
          "metadata": {},
          "output_type": "execute_result"
        }
      ],
      "source": [
        "tokens_list"
      ]
    },
    {
      "cell_type": "markdown",
      "metadata": {
        "id": "oTlCbm9wSEOW"
      },
      "source": [
        "**Step 3 + 4a: Bag of words + count word**"
      ]
    },
    {
      "cell_type": "code",
      "execution_count": 80,
      "metadata": {
        "id": "mFZzbwMkSEOW"
      },
      "outputs": [],
      "source": [
        "from sklearn.feature_extraction.text import CountVectorizer\n",
        "tokens_list_j = [','.join(tkn) for tkn in tokens_list]\n",
        "cvec = CountVectorizer(analyzer=lambda x:x.split(','))\n",
        "c_feat = cvec.fit_transform(tokens_list_j)"
      ]
    },
    {
      "cell_type": "code",
      "execution_count": 81,
      "metadata": {
        "colab": {
          "base_uri": "https://localhost:8080/"
        },
        "id": "Iyyvj0H-SEOX",
        "outputId": "864de68a-81b1-4fd8-bdba-03f7c5dc63f2"
      },
      "outputs": [
        {
          "data": {
            "text/plain": [
              "{'จิง': 59,\n",
              " 'จู': 62,\n",
              " 'ฉ่า': 65,\n",
              " 'ย': 164,\n",
              " 'ผัก': 144,\n",
              " 'มหัศจรรย์': 157,\n",
              " 'รักษา': 176,\n",
              " 'มะเร็ง': 159,\n",
              " '—': 344,\n",
              " 'ผม': 141,\n",
              " 'นิ': 109,\n",
              " 'กกี้': 16,\n",
              " 'อิทธิ': 248,\n",
              " 'เกษม': 255,\n",
              " 'KU37': 3,\n",
              " 'นายก': 108,\n",
              " 'สมา': 210,\n",
              " 'คมม': 42,\n",
              " 'เกษตรฯ': 254,\n",
              " 'อเมริกา': 251,\n",
              " 'เล่า': 292,\n",
              " 'ประสบการณ์': 124,\n",
              " 'สัมผัส': 220,\n",
              " 'ตัว': 84,\n",
              " 'ปี': 138,\n",
              " 'case': 9,\n",
              " 'ตัวอย่าง': 85,\n",
              " 'ทางออก': 98,\n",
              " 'ป่วย': 140,\n",
              " 'โรค': 326,\n",
              " 'ร้าน': 185,\n",
              " 'อาหาร': 247,\n",
              " 'เขต': 258,\n",
              " 'N.Hooywood': 7,\n",
              " 'กลาง': 25,\n",
              " 'โอกาส': 328,\n",
              " 'เจอ': 262,\n",
              " 'ลูก': 198,\n",
              " 'ศิษย์': 205,\n",
              " 'เก่า': 257,\n",
              " 'เรียน': 287,\n",
              " 'แจก': 306,\n",
              " 'ไพ่': 336,\n",
              " 'ถาม': 95,\n",
              " 'ทุกข์': 102,\n",
              " 'สุข': 225,\n",
              " 'รู้': 181,\n",
              " 'คอ': 45,\n",
              " 'ต่อม': 89,\n",
              " 'หมาก': 232,\n",
              " 'หาย': 239,\n",
              " 'ปลิด': 133,\n",
              " 'ทิ้ง': 101,\n",
              " 'พี่': 150,\n",
              " 'น้อง': 112,\n",
              " 'ญาติ': 74,\n",
              " 'คน': 41,\n",
              " 'เวลา': 294,\n",
              " 'กระตือรือร้น': 21,\n",
              " 'วิธี': 204,\n",
              " 'แม่': 314,\n",
              " 'อธิบาย': 242,\n",
              " 'ฟัง': 153,\n",
              " 'ต้น': 92,\n",
              " 'ยอ': 167,\n",
              " 'ยู่': 170,\n",
              " 'สวน': 215,\n",
              " 'บ้าน': 119,\n",
              " 'ปกติ': 120,\n",
              " 'ใส่': 331,\n",
              " 'แกงจืด': 301,\n",
              " 'ลูกๆ': 199,\n",
              " 'กิน': 31,\n",
              " 'ประจำ': 122,\n",
              " 'จีน': 60,\n",
              " 'ต่อๆ': 90,\n",
              " 'สรรพคุณ': 213,\n",
              " 'ฟอก': 151,\n",
              " 'เลือด': 291,\n",
              " 'ขับ': 35,\n",
              " 'สาร': 223,\n",
              " 'พิษ': 149,\n",
              " 'ร่างกาย': 183,\n",
              " 'ทำ': 100,\n",
              " 'ตรวจ': 82,\n",
              " 'หมอก': 230,\n",
              " 'ลับ': 194,\n",
              " 'เดือน': 271,\n",
              " 'ฉาย': 64,\n",
              " 'แสง': 316,\n",
              " 'ลอง': 192,\n",
              " 'กำ': 30,\n",
              " 'มือ': 163,\n",
              " 'ตำ': 87,\n",
              " 'น้ำ': 113,\n",
              " 'แก้ว': 302,\n",
              " 'ตอน': 83,\n",
              " 'เช้า': 268,\n",
              " 'ถัด': 94,\n",
              " 'หมอ': 229,\n",
              " 'คุย': 53,\n",
              " 'พัก': 147,\n",
              " 'ข้อ': 39,\n",
              " 'สรุป': 214,\n",
              " 'ฮวย': 253,\n",
              " 'ไม่มี': 338,\n",
              " 'คี': 50,\n",
              " 'โม': 325,\n",
              " 'มาระ': 161,\n",
              " 'ดับ': 76,\n",
              " 'หน้า': 228,\n",
              " 'สะใภ้': 219,\n",
              " 'เต้า': 276,\n",
              " 'นม': 104,\n",
              " 'มดลูก': 154,\n",
              " 'นั่ง': 106,\n",
              " 'สมาธิ': 211,\n",
              " 'ยมา': 165,\n",
              " 'รีบ': 178,\n",
              " 'เพาะ': 283,\n",
              " 'ขยาย': 34,\n",
              " 'ปลาย': 132,\n",
              " 'แม่ค้า': 315,\n",
              " 'เช่า': 267,\n",
              " 'คล้ำ': 43,\n",
              " 'เดิน': 270,\n",
              " 'แข็ง': 303,\n",
              " 'เชิญ': 264,\n",
              " 'เรื่อง': 288,\n",
              " 'แนะนำ': 310,\n",
              " 'ควบคู่': 44,\n",
              " 'ไหม': 342,\n",
              " 'ปลูก': 134,\n",
              " 'เด็ด': 272,\n",
              " 'ใบ': 330,\n",
              " 'ทาน': 99,\n",
              " 'ยมาก': 166,\n",
              " 'จ่าย': 63,\n",
              " 'รู้จัก': 182,\n",
              " 'อาการ': 245,\n",
              " 'ดี': 79,\n",
              " 'รัก': 175,\n",
              " 'ห่วงใย': 240,\n",
              " 'เผชิญ': 282,\n",
              " 'ร้าย': 186,\n",
              " 'หา': 238,\n",
              " 'ข้อมูล': 40,\n",
              " 'เติม': 274,\n",
              " 'ชนิด': 66,\n",
              " 'แพ': 311,\n",
              " 'มย์': 156,\n",
              " 'โบราณ': 321,\n",
              " 'ยา': 168,\n",
              " 'เย็น': 286,\n",
              " 'หยิน': 235,\n",
              " 'ฆ่า': 55,\n",
              " 'เชื้อ': 266,\n",
              " 'ไวรัส': 341,\n",
              " 'เพื่อน': 284,\n",
              " 'ku37': 12,\n",
              " 'เนื้อ': 279,\n",
              " 'งอก': 56,\n",
              " 'ยุบ': 169,\n",
              " 'LA': 5,\n",
              " 'กา': 28,\n",
              " 'รมากๆ': 172,\n",
              " 'จ': 58,\n",
              " 'เชียง': 265,\n",
              " 'ใหม': 332,\n",
              " 'ขาย': 36,\n",
              " 'กก': 15,\n",
              " 'บาท': 117,\n",
              " 'ดู': 81,\n",
              " 'ซิ': 72,\n",
              " 'เคียง': 260,\n",
              " 'สั่ง': 221,\n",
              " 'เกาเหลา': 256,\n",
              " 'หมู': 234,\n",
              " 'สงสัย': 206,\n",
              " 'ชาม': 70,\n",
              " 'สี': 224,\n",
              " 'เขียว': 259,\n",
              " 'กาด': 29,\n",
              " 'หอม': 237,\n",
              " 'ขึ้นฉ่าย': 37,\n",
              " 'ตำลึง': 88,\n",
              " 'ทราบ': 96,\n",
              " 'เจ้า': 263,\n",
              " 'มีชื่อ': 162,\n",
              " 'เอ้า': 300,\n",
              " 'ไม่รู้': 339,\n",
              " 'กระ': 20,\n",
              " 'ปุ': 139,\n",
              " 'กด': 17,\n",
              " 'อท': 241,\n",
              " 'คอมมา': 46,\n",
              " 'ชาติ': 69,\n",
              " 'เซ': 269,\n",
              " 'เลอ': 290,\n",
              " 'รี่': 179,\n",
              " 'Celery': 2,\n",
              " 'สมุนไพร': 212,\n",
              " 'วิทยาศาสตร์': 203,\n",
              " 'Apium': 0,\n",
              " 'graveolens': 10,\n",
              " 'L': 4,\n",
              " 'ลักษณะ': 193,\n",
              " 'กอ': 27,\n",
              " 'บัวบก': 116,\n",
              " 'เจริญ': 261,\n",
              " 'งอกงาม': 57,\n",
              " 'แสงแดด': 317,\n",
              " 'รำไร': 177,\n",
              " 'ชื้น': 71,\n",
              " 'ดิน': 78,\n",
              " 'โปร่ง': 323,\n",
              " 'แฉะ': 308,\n",
              " 'ชอบ': 67,\n",
              " 'อากาศ': 246,\n",
              " 'ร้อน': 184,\n",
              " 'คุณค่า': 51,\n",
              " 'โภชนาการ': 324,\n",
              " 'กรัม': 24,\n",
              " 'พลังงาน': 146,\n",
              " 'กิโล': 32,\n",
              " 'แคลอรี': 304,\n",
              " 'นานา': 107,\n",
              " 'โปรตีน': 322,\n",
              " 'ไข': 333,\n",
              " 'คาร์โบไฮเดรต': 48,\n",
              " 'เส้นใย': 296,\n",
              " 'แคลเซียม': 305,\n",
              " 'เหล็ก': 298,\n",
              " 'ฟอสฟอรัส': 152,\n",
              " 'วิตามิน': 202,\n",
              " 'เอ': 299,\n",
              " 'วิ': 201,\n",
              " 'ตา': 86,\n",
              " 'นบี': 103,\n",
              " 'ซี': 73,\n",
              " 'อี': 250,\n",
              " 'จุด': 61,\n",
              " 'เด่น': 273,\n",
              " 'กลิ่น': 26,\n",
              " 'โอ๋': 329,\n",
              " 'โดน': 320,\n",
              " 'น้ำมัน': 114,\n",
              " 'ระเหย': 174,\n",
              " 'ลำต้น': 196,\n",
              " 'ไล': 340,\n",
              " 'นีน': 111,\n",
              " 'ลนีน': 190,\n",
              " 'สา': 222,\n",
              " 'รก': 171,\n",
              " 'ลัย': 195,\n",
              " 'โค': 318,\n",
              " 'ไซด์': 334,\n",
              " 'อะปิ': 244,\n",
              " 'อิน': 249,\n",
              " 'สมดุล': 209,\n",
              " 'ดัน': 75,\n",
              " 'โลหิต': 327,\n",
              " 'เหมาะ': 297,\n",
              " 'ปัญหา': 136,\n",
              " 'แถม': 309,\n",
              " 'ลม': 191,\n",
              " 'กระเพาะ': 23,\n",
              " 'ลำไส้': 197,\n",
              " 'สด': 207,\n",
              " 'เมล็ด': 285,\n",
              " 'โซเดียม': 319,\n",
              " 'ต่ำ': 91,\n",
              " 'ไต': 335,\n",
              " 'ทางการ': 97,\n",
              " 'แพทย์': 312,\n",
              " 'บำรุง': 118,\n",
              " 'ปอด': 135,\n",
              " 'หมุนเวียน': 233,\n",
              " 'สะดวก': 217,\n",
              " 'นิยม': 110,\n",
              " 'ปรุง': 128,\n",
              " 'ประทาน': 123,\n",
              " 'หนาว': 227,\n",
              " 'ไหล': 343,\n",
              " 'เวียน': 295,\n",
              " 'คาว': 49,\n",
              " 'ต้ม': 93,\n",
              " 'ประเภท': 125,\n",
              " 'ผัด': 145,\n",
              " 'ผสม': 143,\n",
              " 'ลงตัว': 188,\n",
              " 'แพ้': 313,\n",
              " 'รูป': 180,\n",
              " 'ชา': 68,\n",
              " 'คัด': 47,\n",
              " 'วัตถุดิบ': 200,\n",
              " 'คุณภาพ': 52,\n",
              " 'ปลอด': 129,\n",
              " 'กระบวนการ': 22,\n",
              " 'ผลิต': 142,\n",
              " 'มาตรฐาน': 160,\n",
              " 'สะอาด': 218,\n",
              " 'ปลอดภัย': 130,\n",
              " 'ปน': 121,\n",
              " 'เปื้อน': 280,\n",
              " 'รสชาติ': 173,\n",
              " 'หวาน': 236,\n",
              " 'ขม': 33,\n",
              " 'ดื่ม': 80,\n",
              " 'หมัก': 231,\n",
              " 'นวด': 105,\n",
              " 'พิถีพิถัน': 148,\n",
              " 'อบ': 243,\n",
              " 'ไฟ': 337,\n",
              " 'อ่อน': 252,\n",
              " 'ประโยชน์': 126,\n",
              " 'เนื่อง': 278,\n",
              " 'เป็๋น': 281,\n",
              " 'กรณี': 18,\n",
              " 'บริโภค': 115,\n",
              " 'ปริมาณ': 127,\n",
              " 'เวป': 293,\n",
              " 'Liked': 6,\n",
              " 'By': 1,\n",
              " 'PinKen': 8,\n",
              " 'สุดท้าย': 226,\n",
              " 'ค่า': 54,\n",
              " 'มะ': 158,\n",
              " 'เร็ง': 289,\n",
              " 'ล': 187,\n",
              " '…': 345,\n",
              " 'https': 11,\n",
              " 'youtu.be': 14,\n",
              " 'uITAm2Gi5mQ': 13,\n",
              " 'ลด': 189,\n",
              " 'กรม': 19,\n",
              " 'สถาบัน': 208,\n",
              " 'ดำเนิน': 77,\n",
              " 'สอบ': 216,\n",
              " 'เท็จ': 277,\n",
              " 'ปั่น': 137,\n",
              " 'มนุษย์': 155,\n",
              " 'เตือน': 275,\n",
              " 'ข่าว': 38,\n",
              " 'ปลอม': 131,\n",
              " 'แจ้ง': 307}"
            ]
          },
          "execution_count": 81,
          "metadata": {},
          "output_type": "execute_result"
        }
      ],
      "source": [
        "cvec.vocabulary_"
      ]
    },
    {
      "cell_type": "code",
      "execution_count": 82,
      "metadata": {
        "colab": {
          "base_uri": "https://localhost:8080/"
        },
        "id": "VJZPDdsGSEOX",
        "outputId": "765235cd-a616-4cbe-cc4f-3e9d157fb753"
      },
      "outputs": [
        {
          "data": {
            "text/plain": [
              "matrix([[ 1,  1,  1, ...,  1, 12,  1],\n",
              "        [ 0,  0,  0, ...,  0,  0,  0],\n",
              "        [ 0,  0,  0, ...,  0,  0,  0],\n",
              "        [ 0,  0,  0, ...,  0,  0,  0]], dtype=int64)"
            ]
          },
          "execution_count": 82,
          "metadata": {},
          "output_type": "execute_result"
        }
      ],
      "source": [
        "c_feat[:,:].todense()"
      ]
    },
    {
      "cell_type": "code",
      "execution_count": 83,
      "metadata": {
        "colab": {
          "base_uri": "https://localhost:8080/"
        },
        "id": "3eJoU3YiSEOX",
        "outputId": "b124703d-f65e-49e1-edbb-bb7ccf0167c6"
      },
      "outputs": [
        {
          "name": "stdout",
          "output_type": "stream",
          "text": [
            "[[ 1  1  1 ...  1 12  1]\n",
            " [ 0  0  0 ...  0  0  0]\n",
            " [ 0  0  0 ...  0  0  0]\n",
            " [ 0  0  0 ...  0  0  0]]\n"
          ]
        }
      ],
      "source": [
        "#first_news เป็น array ของข่าว โดย row ที่ 1 = ข่าวที่ต้องการตรวจสอบจาก cofact, row ที่ 2 = ข้อความสรุปใน cofact, row ที่ 3 = หัวข้อข่าวที่เชื่อถือได้ , row ที่ 4 = เนื้อหาข่าว paragraph แรกของข่าวที่เชื่อถือได้\n",
        "first_news = c_feat[:,:].todense()\n",
        "print(first_news) "
      ]
    },
    {
      "cell_type": "code",
      "execution_count": 84,
      "metadata": {
        "colab": {
          "base_uri": "https://localhost:8080/"
        },
        "id": "jRFH9PKCSEOX",
        "outputId": "9e7a39cf-8277-4a1f-c3f0-55443e3849e3"
      },
      "outputs": [
        {
          "data": {
            "text/plain": [
              "346"
            ]
          },
          "execution_count": 84,
          "metadata": {},
          "output_type": "execute_result"
        }
      ],
      "source": [
        "first_news.shape[1]"
      ]
    },
    {
      "cell_type": "code",
      "execution_count": 85,
      "metadata": {
        "colab": {
          "base_uri": "https://localhost:8080/"
        },
        "id": "tmxFS854SEOX",
        "outputId": "a1b1ec8b-92fb-4182-c618-20e06ae00790"
      },
      "outputs": [
        {
          "name": "stdout",
          "output_type": "stream",
          "text": [
            "This is sum (upperpart) : 262\n",
            "This is lowerpart : 502.46790942307945\n"
          ]
        },
        {
          "data": {
            "text/plain": [
              "0.521426334073397"
            ]
          },
          "execution_count": 85,
          "metadata": {},
          "output_type": "execute_result"
        }
      ],
      "source": [
        "find_cosine_similarity(first_news, 0, 1) #เทียบ ข้อความที่ต้องการตรวจสอบบน cofact กับ ข้อความสรุปใน cofact"
      ]
    },
    {
      "cell_type": "code",
      "execution_count": 86,
      "metadata": {
        "colab": {
          "base_uri": "https://localhost:8080/"
        },
        "id": "BtHoLuuFSEOX",
        "outputId": "11980069-f7f0-4cd9-d4ad-f187d82228c9"
      },
      "outputs": [
        {
          "name": "stdout",
          "output_type": "stream",
          "text": [
            "This is sum (upperpart) : 117\n",
            "This is lowerpart : 237.8844257197179\n"
          ]
        },
        {
          "data": {
            "text/plain": [
              "0.4918354770221598"
            ]
          },
          "execution_count": 86,
          "metadata": {},
          "output_type": "execute_result"
        }
      ],
      "source": [
        "find_cosine_similarity(first_news, 0, 2)#เทียบ ข้อความที่ต้องการตรวจสอบบน cofact กับ หัวข้อข่าวที่เชื่อถือได้"
      ]
    },
    {
      "cell_type": "code",
      "execution_count": 87,
      "metadata": {
        "colab": {
          "base_uri": "https://localhost:8080/"
        },
        "id": "tXqUrVs6SEOY",
        "outputId": "59d055cd-2f1a-4f68-f344-70f296f3f181"
      },
      "outputs": [
        {
          "name": "stdout",
          "output_type": "stream",
          "text": [
            "This is sum (upperpart) : 146\n",
            "This is lowerpart : 367.34588605291333\n"
          ]
        },
        {
          "data": {
            "text/plain": [
              "0.39744558342207714"
            ]
          },
          "execution_count": 87,
          "metadata": {},
          "output_type": "execute_result"
        }
      ],
      "source": [
        "find_cosine_similarity(first_news, 0, 3)#เทียบ ข้อความที่ต้องการตรวจสอบบน cofact กับ เนื้อหาข่าว paragraph แรกของข่าวที่เชื่อถือได้"
      ]
    },
    {
      "cell_type": "markdown",
      "metadata": {
        "id": "AO2y4Gr9TWyX"
      },
      "source": [
        "# ข่าวที่ 8"
      ]
    },
    {
      "cell_type": "code",
      "execution_count": 88,
      "metadata": {
        "id": "myUIJHCjTWyY"
      },
      "outputs": [],
      "source": [
        "clean_text = ['ในที่สุด ความจริงก็ถูกเปิดเผย โดย ผู้ตัดต่อพันธุกรรมเชื้อโควิด 19 เอง...**************โควิด19 มาจากฝีมือมนุษย์มีแหล่งที่มาจากห้องแลป ไวรัส P3รัฐคาโรไลน่าเหนือของอเมริกา!!!นาย Greg Roubini ผู้เชี่ยวชาญด้านข่าวกรองชื่อดังของอเมริกาให้สัมภาษณ์ของผู้สื่อข่าวช่องข่าวทีวีที่1 ของอเมริกาได้เป็นผู้เผยความลับนี้นาย Greg เผยว่า ไวรัสโควิด19 ได้รับการออกแบบทางพันธุกรรมเพื่อใช้เป็นอาวุธชีวภาพ- มีแหล่งที่มาจากห้องแลป BSL-3 รัฐ คาโรไลน่าเหนือ พัฒนาโดย ศาสตราจารย์ราล์ฟ บาร์ริก- พร้อมกันนั้น เขาระบุว่า ไวรัสถูก “รัฐบาลมืด” จากรัฐคาโรไลน่าเหนือส่งไปแพร่ระบาดในประเทศจีน อิตาลี และอเมริกาทั้งประเทศ##..ก่อนหน้านี้ในวันที่ 15 มีนาคม นายเกรก ก็ได้ทวิตข้อความถามนายทรัมป์ว่า- เหตุใดจึงไม่บอกประชาชนอเมริกาว่า ไวรัสผลิตจากอเมริกา? ทำไมไม่อธิบายให้ชัดเจนว่าตัวไวรัสเองแท้จริงแล้วคืออาวุธชีวภาพ?**บังเอิญ ศาสตราจารย์ Luc Montanier ผู้ได้รับรางวัลโนเบลเนื่องจากเป็นผู้ค้นพบไวรัสเอชไอวีได้เปิดเผยกับนักข่าวชาวฝรั่งเศสเมื่อไม่กี่วันที่ผ่านมาว่า- โควิด19 ไม่ใช่มาจากธรรมชาติ หากแต่ได้รับการพัฒนาอย่างประณีตโดยนักวิทยาศาสตร์ชีวโมเลกุล***ศาสตราจารย์ Luc Montanier ยืนยันว่า เป็นเรื่องเด่นชัดที่เจ้าหน้าที่ผู้เชี่ยวชาญได้นำเชื้อไวรัสที่มาจากค้างคาวเข้าไปเพิ่มความเข้มข้นของเชื้อเอชไอวีเข้าไปด้วย- นี่คือ การวางยาพิษที่ชั่วร้ายที่สุดที่ไม่เคยมีมาก่อนในประวัติศาสตร์ของโลก***นั่นคือการแพร่ระบาดของไวรัสโควิด19 สุดโหด ข่าวเกี่ยวกับ “เชื้อโควิด19 เป็นอาวุธชีวภาพที่มาจากการตัดต่อพันธุกรรมโดยฝีมือมนุษย์” มาโดยตลอด***นักวิทยาศาสตร์ทั่วโลกพยายามทำงานหาแหล่งที่มาของเชื้อไวรัสโดยนักวิทยาศาสตร์อินเดียค้นพบว่า เชื้อไวรัสโคโรน่าสายพันธ์ุใหม่มีเชื้อเอชไอวีแทรกอยู่ด้วย นี่แสดงให้เห็นว่าไวรัสตัวนี้มาจากการตัดต่อทางพันธุกรรม***กลางเดือนมีนาคม นักวิทยาศาสตร์ได้วิเคราะห์พบว่าเชื้อไวรัสโควิด19จากผู้ป่วยรายหนึ่งในรัฐวอชิงตันพบว่าวัฏจักรวิวัฒนาการของมันมียาวนานกว่าครึ่งปีมาแล้ว พร้อมๆกับการศึกษาลึกซึ้งลงไปว่า ประเทศต่างๆในโลกไม่น้อยได้เบนสายตาแห่งความสงสัยไปที่อเมริกา ประเทศต่างๆ ทั้งญี่ปุ่น อิตาลี ออสเตรเลีย ล้วนมีผู้ป่วยทียืนยันว่ามีแหล่งที่มาจากอเมริกาทั้งสิ้น*** ในเวลาต่อมา ROBERT REDFIELD ผู้อำนวยการศูนย์ควบคุมและป้องกันโรคแห่งสหรัฐอเมริกายอมรับว่า ผู้ป่วยตายจากไข้หวัดใหญ่ในเดือนกันยายน 2019 มีอยู่ไม่น้อยที่ตายจากเชื้อไวรัสโควิด19 นี้- ต่อปัญหานี้โฆษกกระทรวงต่างประเทศของจีน นายจ้าวลี่เจียงได้ทวิตข้อความในทวิตเตอร์ถามผู้อำนวยการศูนย์ควบคุมและป้องกันโรคแห่งสหรัฐอเมริกา ว่าผู้ป่วยรายแรกของอเมริกาเกิดขึ้นตอนไหน? ชื่ออะไร? อยู่โรงพยาบาลอะไร? และเป็นไปได้อย่างมากที่ทหารอเมริกานำเชื้อมาแพร่ที่อู่ฮั่น.>>>>อเมริกาต้องโปร่งใส ต้องเปิดเผยข้อมูลนี้ให้โลกได้รู้ความจริง**ด้วยความพยายามอย่างสุดความสามารถของคณะผู้สื่อข่าวคณะหนึ่งแห่งรัฐเวอร์จิเนีย ในที่สุดก็ได้ตามหาผู้ป่วยรายแรกจนพบ นั่นก็คือ ทหารอเมริกาที่เข้าร่วมการแข่งขันกีฬาทหารที่อู่ฮั่นของจีนในเดือนตุลาคม 2019 นางมีชื่อว่า \"Maatje Benassi\">>>นายทหารหญิงของอเมริกาคนนี้มีภูมิหลังพิเศษตรงที่นางมีความเกี่ยวข้องกับห้องปฏิบัติการชีวเคมี P4 ของนาย FORT DETRICK*** คนในครอบครัวก็มีหลายคนที่ยืนยันว่าผู้ติดเชื้อในจำนวนนี้มีอยู่คนหนึ่งเป็นผู้ป่วยที่ติดเชื้อรายแรกในฮอลแลนด์ ก่อนติดเชื้อเขาเคยไปในเขตพื้นที่ลอมบาร์เดียของอิตาลี ทำให้เขตพื้นที่นั้นเกิดการแพร่ระบาดของเชื้อโควิด19***มาถึงตรงนี้ หลักฐานเกี่ยวกับเชื้อไวรัสโควิด19 มีต้นกำเนิดจากอเมริกาอย่างแน่นอน มีห่วงโซ่เชื่อมร้อยอย่างครบถ้วน ทหารพิเศษ 5 คนที่อเมริกาส่งเครื่องบินมารับกลับไปภายหลังการแพร่ระบาดของไวรัสและห้องแลปที่ถูกปิดตาย ก็สามารถนำมาปะติดปะต่อกันได้แล้วหากว่ากันตามตรรกะของนายทรัมป์ เราก็สามารถเรียกเชื้อโควิด19 เป็น \"ไวรัสนอร์ธคาโรไลนา\" (Virus North Carolina) หรือ \"ไวรัสอเมริกา\"***ในขณะที่หลักฐานทั้งหมดต่างชี้ไปที่อเมริกาเจ้าหน้าที่ชั้นสูงของอเมริกายอมรับอย่างเปิดเผยว่า เชื้อโควิด19 ไม่จัดอยู่ในชั้นของโรคระบาด แต่จัดอยู่ในชั้นของอาวุธชีวภาพ>>>#”ความไร้ยางอายทำให้โลกตะลึงและได้เพิ่มข้อน่าสงสัยว่าอเมริกาเป็นผู้วางยาพิษคนทั้งโลก. เพื่อขายวัคซีนป้องกันมาแก้ปัญหาเศรษฐกิจที่ขาดดุลการค้า”>>>เรื่องทั้งหมดได้ปรากฏชัดเจนแล้ว แต่ทว่าทรัมป์ยังพยายามโยนบาปอย่างไม่คิดชีวิตให้จีนรับเคราะห์แทนอย่าง น่ารังเกลียดที่สุด***เชื้อโควิด19 ได้ก่อให้เกิดภัยพิบัติและความสูญเสียที่ยากจะประเมินได้ บาปนี้มันใหญ่หลวงเกินกว่าจะโยนออกไปแล้วโทษคนอื่น***ยังมีข้อน่าสงสัยที่นายเกรกได้ตีแผ่ออกมา นายราล์ฟ บาร์ริค ผู้รับผิดชอบพัฒนาไวรัส รัฐคาโรไลนาเหนือคนนี้เป็นใคร*** นาย บาร์ริคมาจากมหาวิทยาลัยคาโรไลนาเหนือ เขาเป็นหัวหน้านักไวรัสวิทยาที่เปลี่ยนโฉมใหม่ของโรคซาร์สโคโรนาไวรัสโดยการตัดต่อยีนในปี 2015- และเขายังเป็นผู้นำในการวิจัยและพัฒนาไวรัสดังกล่าวอีกด้วย ที่น่าตกใจก็คือ เขาเป็นบุคคลที่รับผิดชอบด้านการพัฒนาทางคลินิกของยาวิเศษ \"RADEXIVIR\" เป็นไปอย่างที่โบราณว่าไว้ คนที่วางยาพิษก่อนอื่นต้องเตรียม# ยาแก้พิษไว้ก่อนเสมอ!!!!- ยา RIDESIVIR ภายหลังจากปฏิบัติการทางคลินิกและถูกตั้งข้อสงสัยโดยผู้เชี่ยวชาญเกี่ยวกับประสิทธิภาพและความปลอดภัยของมันจึงทำให้ตกกระป๋องไปพร้อมๆกับการแพร่ระบาดที่ลุกลามออกไปทั่วโลก***อเมริกากลายเป็น “ศูนย์กลางการล้างโลก” ไปแล้ว- การแพร่ระบาดในช่วงแรกของอเมริกา ประธานาธิบดีทรัมป์ไม่ได้ให้ความสาคัญกับมันเลยโดยมองว่าเป็นไข้หวัดใหญ่ที่หนักกว่าปกติเท่านั้นเพราะรู้อยู่แก่ใจว่าคนของตนเองผลิตมันขึ้นมาจนกระทั่งเพื่อนรักของเขาคือ \"นายสแตนลี่ย์ เชล่า\" เจ้าพ่อวงการอสังหาริมทรัพย์ที่ยิ่งใหญ่แห่งนิวยอร์กเสียชีวิตจากเชื้อไวรัสโควิด19>>>>ถึงเวลานี้จีนได้ฟ้องร้องต่อศาลโลกว่า อเมริกาเป็นต้นเหตุในการแพร่เชื้อไวรัสโควิด 19 อย่างตั้งใจเพื่อทำลายล้างจีนและ ปชช ทั่วโลก***>>>ตอนนี้คงต้องรอดูการสืบสวนของศาลโลกว่าจะตัดสินออกมาเช่นไร? ซึ่งถึง ณ เวลานี้ ทรัมป์เริ่มรู้สึกตัวและให้ความสาคัญในระดับสูง #แต่ว่าสายไปเสียแล้ว!!!**Ny Ny*','อ้างว่า ดร. บาริค เป็นผู้พัฒนาเชื้อนี้เป็นอาวุธชีวภาพ แต่ความจริงแค่มีงานวิจัยศึกษาว่าเชื้อโคโรนาติดต่อจากค้างคาวมาสู่คน การความพยายามอ้างเรื่อง Fort Detrick ในทางที่ไม่มีหลักฐานสนับสนุนชัดเจน','โควิด-19 : จีนกับความพยายามแพร่ข่าวปลอมเรื่องโควิดมีต้นกำเนิดในสหรัฐฯ','การระดมเผยแพร่ข้อมูลเท็จที่กล่าวหาว่าเชื้อโรคโควิด-19 มีต้นกำเนิดมาจากฐานทัพทหารในรัฐแมริแลนด์ กำลังได้รับความสนใจอย่างมากในจีน ก่อนหน้าที่หน่วยงานด้านข่าวกรองของสหรัฐฯ จะเปิดเผยรายงานการสอบสวนเรื่องต้นกำเนิดของเชื้อไวรัสชนิดนี้']"
      ]
    },
    {
      "cell_type": "markdown",
      "metadata": {
        "id": "B02v-CPxTWyY"
      },
      "source": [
        "**Step 2: Tokenize**"
      ]
    },
    {
      "cell_type": "code",
      "execution_count": 89,
      "metadata": {
        "colab": {
          "base_uri": "https://localhost:8080/"
        },
        "id": "zUDXiYjaTWyY",
        "outputId": "6c8b4c3b-9abc-410b-ce00-06100baf1f7b"
      },
      "outputs": [
        {
          "name": "stdout",
          "output_type": "stream",
          "text": [
            "tokenized text:\n",
            " ['เผย', 'ตัด', 'พันธุกรรม', 'เชื้อ', 'โค', 'วิด', 'โค', 'วิด', 'ฝีมือ', 'มนุษย์', 'แหล่ง', 'ที่มา', 'ห้อง', 'แลป', 'ไวรัส', 'P3', 'รัฐ', 'คา', 'โร', 'ไล', 'เหนือ', 'อเมริกา', 'Greg', 'Roubini', 'เชี่ยวชาญ', 'ข่าว', 'กรอง', 'ชื่อ', 'อเมริกา', 'สัมภาษณ์', 'สื่อ', 'ข่าว', 'ช่อง', 'ข่าว', 'ทีวี', 'อเมริกา', 'เผย', 'ลับ', 'Greg', 'เผย', 'ไวรัส', 'โค', 'วิด', 'ออกแบบ', 'พันธุกรรม', 'อาวุธ', 'ชีวภาพ', 'แหล่ง', 'ที่มา', 'ห้อง', 'แลป', 'BSL', 'รัฐ', 'คา', 'โร', 'ไล', 'เหนือ', 'พัฒนา', 'ศาสตรา', 'จาร', 'ย์', 'ราล์ฟ', 'บาร์', 'ริก', 'ระบุ', 'ไวรัส', 'รัฐบาล', 'มืด', 'รัฐ', 'คา', 'โร', 'ไล', 'เหนือ', 'แพร่', 'ระบาด', 'ประเทศ', 'จีน', 'อิตาลี', 'อเมริกา', 'ประเทศ', 'หน้า', 'มีนาคม', 'เก', 'รก', 'ทวิ', 'ต', 'ข้อความ', 'ถาม', 'ทรัมป์', 'ใด', 'ประชาชน', 'อเมริกา', 'ไวรัส', 'ผลิต', 'อเมริกา', 'อธิบาย', 'ชัดเจน', 'ตัว', 'ไวรัส', 'อาวุธ', 'ชีวภาพ', 'บังเอิญ', 'ศาสตราจารย์', 'Luc', 'Montanier', 'รางวัล', 'โน', 'เบล', 'ค้น', 'ไว', 'รัส', 'เอ', 'ช', 'ไอ', 'วี', 'เผย', 'ข่าว', 'ฝรั่งเศส', 'กี่', 'โค', 'วิด', 'ธรรมชาติ', 'พัฒนา', 'ประณีต', 'วิทยาศาสตร์', 'ชีว', 'โมเลกุล', 'ศาสตราจารย์', 'Luc', 'Montanier', 'เรื่อง', 'เด่น', 'ชัด', 'เจ้า', 'หน้าที่', 'เชี่ยวชาญ', 'เชื้อ', 'ไวรัส', 'ที่มา', 'ค้างคาว', 'เข้าไป', 'เข้ม', 'ข้น', 'เชื้อ', 'เอ', 'ช', 'ไอ', 'วี', 'เข้าไป', 'วางยา', 'พิษ', 'ชั่ว', 'ร้าย', 'ประวัติศาสตร์', 'โลก', 'แพร่', 'ระบาด', 'ไวรัส', 'โค', 'วิด', 'โหด', 'ข่าว', 'เกี่ยว', 'เชื้อ', 'โค', 'วิด', 'อาวุธ', 'ชีวภาพ', 'ที่มา', 'ตัด', 'พันธุกรรม', 'ฝีมือ', 'มนุษย์', 'วิทยาศาสตร์', 'โลก', 'ทำงาน', 'หา', 'แหล่ง', 'ที่มา', 'เชื้อ', 'ไวรัส', 'วิทยาศาสตร์', 'อินเดีย', 'ค้น', 'เชื้อ', 'ไวรัส', 'โค', 'โร', 'สาย', 'พันธ์ุ', 'เชื้อ', 'เอ', 'ช', 'ไอ', 'วี', 'แทรก', 'ไวรัส', 'ตัว', 'ตัด', 'พันธุกรรม', 'กลาง', 'เดือน', 'มีนาคม', 'วิทยาศาสตร์', 'วิเคราะห์', 'เชื้อ', 'ไวรัส', 'โค', 'วิด', 'ป่วย', 'รัฐ', 'วอชิงตัน', 'วัฏจักร', 'วิวัฒนาการ', 'ครึ่ง', 'ปี', 'พร้อมๆ', 'ศึกษา', 'ลึก', 'ซึ้ง', 'ประเทศ', 'โลก', 'เบน', 'สายตา', 'สงสัย', 'อเมริกา', 'ประเทศ', 'ญี่ปุ่น', 'อิตาลี', 'ออสเตรเลีย', 'ป่วย', 'แหล่ง', 'ที่มา', 'อเมริกา', 'เวลา', 'ROBERT', 'REDFIELD', 'อำนวย', 'ศูนย์', 'ควบคุม', 'ป้องกัน', 'โรค', 'สหรัฐอเมริกา', 'ป่วย', 'ตาย', 'ไข้', 'หวัด', 'เดือน', 'กันยายน', 'ตาย', 'เชื้อ', 'ไวรัส', 'โค', 'วิด', 'ปัญหา', 'โฆษก', 'กระทรวง', 'ประเทศ', 'จีน', 'จ้าว', 'ลี่', 'เจียง', 'ทวิ', 'ต', 'ข้อความ', 'ทวิ', 'ต', 'เตอร์', 'ถาม', 'อำนวย', 'ศูนย์', 'ควบคุม', 'ป้องกัน', 'โรค', 'สหรัฐอเมริกา', 'ป่วย', 'อเมริกา', 'ตอน', 'ชื่อ', 'โรง', 'พยาบาล', 'ทหาร', 'อเมริกา', 'เชื้อ', 'แพร่', 'อู่', 'ฮั่น', 'อเมริกา', 'โปร่งใส', 'เผย', 'ข้อมูล', 'โลก', 'รู้', 'คณะ', 'สื่อ', 'ข่าว', 'คณะ', 'รัฐ', 'เวอร์จิเนีย', 'หา', 'ป่วย', 'ทหาร', 'อเมริกา', 'แข่งขัน', 'กีฬา', 'ทหาร', 'อู่', 'ฮั่น', 'จีน', 'เดือน', 'ตุลาคม', 'มีชื่อ', 'Maatje', 'Benassi', 'ทหาร', 'หญิง', 'อเมริกา', 'คน', 'ภูมิ', 'พิเศษ', 'ห้อง', 'ชีวเคมี', 'P4', 'FORT', 'DETRICK', 'คนใน', 'ครอบครัว', 'คน', 'ติด', 'เชื้อ', 'จำนวน', 'คน', 'ป่วย', 'ติด', 'เชื้อ', 'ฮอลแลนด์', 'ติด', 'เชื้อ', 'เขต', 'พื้นที่', 'ลอม', 'บาร์', 'เดีย', 'อิตาลี', 'เขต', 'พื้นที่', 'แพร่', 'ระบาด', 'เชื้อ', 'โค', 'วิด', 'หลัก', 'ฐาน', 'เกี่ยว', 'เชื้อ', 'ไวรัส', 'โค', 'วิด', 'ต้น', 'กำเนิด', 'อเมริกา', 'แน่นอน', 'ห่วง', 'โซ่', 'เชื่อม', 'ร้อย', 'ถ้วน', 'ทหาร', 'พิเศษ', 'คน', 'อเมริกา', 'เครื่อง', 'บิน', 'แพร่', 'ระบาด', 'ไวรัส', 'ห้อง', 'แล', 'ป', 'ปิดตาย', 'ปะ', 'ติด', 'ปะ', 'ตรรกะ', 'ทรัมป์', 'เชื้อ', 'โค', 'วิด', 'ไว', 'รัส', 'นอร์ธ', 'คา', 'โร', 'ไล', 'นา', 'Virus', 'North', 'Carolina', 'ไวรัส', 'อเมริกา', 'หลัก', 'ฐาน', 'ชี้', 'อเมริกา', 'เจ้า', 'หน้าที่', 'ชั้น', 'อเมริกา', 'เผย', 'เชื้อ', 'โค', 'วิด', 'ชั้น', 'โรค', 'ระบาด', 'ชั้น', 'อาวุธ', 'ชีวภาพ', 'ไร้', 'ยางอาย', 'โลก', 'ตะลึง', 'ข้อ', 'สงสัย', 'อเมริกา', 'วางยา', 'พิษ', 'คน', 'โลก', 'ขาย', 'วัคซีน', 'ป้องกัน', 'แก้', 'ปัญหา', 'เศรษฐกิจ', 'ดุลการค้า', 'เรื่อง', 'ชัดเจน', 'ทรัมป์', 'โยน', 'บาป', 'ชีวิต', 'จีน', 'เคราะห์', 'แทน', 'รัง', 'เกลียด', 'เชื้อ', 'โค', 'วิด', 'ก่อ', 'ภัย', 'พิบัติ', 'สูญ', 'ประเมิน', 'บาป', 'หลวง', 'โยน', 'โทษ', 'คน', 'ข้อ', 'สงสัย', 'เก', 'รก', 'ตีแผ่', 'ราล์ฟ', 'บาร์', 'ริค', 'ผู้รับ', 'ชอบ', 'พัฒนา', 'ไวรัส', 'รัฐ', 'คา', 'โร', 'ไล', 'นา', 'เหนือ', 'คน', 'บาร์', 'ริ', 'คมา', 'มหาวิทยาลัย', 'คา', 'โร', 'ไล', 'นา', 'เหนือ', 'หัวหน้า', 'ไวรัส', 'วิทยา', 'โฉม', 'โรค', 'ซาร์ส', 'โคโรนา', 'ไวรัส', 'ตัด', 'ยีน', 'ปี', 'ผู้นำ', 'วิจัย', 'พัฒนา', 'ไวรัส', 'ตกใจ', 'บุคคล', 'ชอบ', 'พัฒนา', 'คลินิก', 'ยา', 'วิเศษ', 'RADEXIVIR', 'โบราณ', 'คน', 'วางยา', 'พิษ', 'ต้องเต', 'รี', 'ยม', 'ยา', 'แก้', 'พิษ', 'เสมอ', 'ยา', 'RIDESIVIR', 'คลินิก', 'ข้อ', 'สงสัย', 'เชี่ยวชาญ', 'เกี่ยว', 'ประสิทธิภาพ', 'ปลอดภัย', 'ตก', 'กระป๋อง', 'พร้อมๆ', 'แพร่', 'ระบาด', 'ลุกลาม', 'โลก', 'อเมริกา', 'กลาย', 'ศูนย์กลาง', 'ล้าง', 'โลก', 'แพร่', 'ระบาด', 'อเมริกา', 'ประธานาธิบดี', 'ทรัมป์', 'สา', 'คัญ', 'ไข้', 'หวัด', 'หนัก', 'ปกติ', 'รู้', 'ใจ', 'คน', 'ผลิต', 'เพื่อน', 'รัก', 'ส', 'แตน', 'ลี่', 'ย์', 'เช', 'ล่า', 'เจ้า', 'พ่อ', 'วงการ', 'อสังหาริมทรัพย์', 'นิวยอร์ก', 'ชีวิต', 'เชื้อ', 'ไวรัส', 'โค', 'วิด', 'เวลา', 'จีน', 'ฟ้อง', 'ร้อง', 'ศาลโลก', 'อเมริกา', 'แพร่', 'เชื้อ', 'ไวรัส', 'โค', 'วิด', 'ตั้งใจ', 'ทำลาย', 'ล้าง', 'จีน', 'ปชช', 'โลก', 'ตอน', 'รอ', 'ดู', 'สืบสวน', 'ศาลโลก', 'ตัดสิน', 'เวลา', 'ทรัมป์', 'รู้สึก', 'ตัว', 'สา', 'คัญ', 'ระดับ', 'สาย', 'Ny', 'Ny']\n",
            "tokenized text:\n",
            " ['อ้าง', 'ดร', 'บา', 'ริค', 'พัฒนา', 'เชื้อ', 'อาวุธ', 'ชีวภาพ', 'งาน', 'วิจัย', 'ศึกษา', 'เชื้อ', 'โคโรนา', 'ติดต่อ', 'ค้างคาว', 'คน', 'อ้าง', 'เรื่อง', 'Fort', 'Detrick', 'ไม่มี', 'หลัก', 'ฐาน', 'สนับสนุน', 'ชัดเจน']\n",
            "tokenized text:\n",
            " ['โค', 'วิด', 'จีน', 'แพร่', 'ข่าว', 'ปลอม', 'เรื่อง', 'โค', 'วิด', 'ต้น', 'กำเนิด', 'สหรัฐฯ']\n",
            "tokenized text:\n",
            " ['ระดม', 'เผย', 'แพร่', 'ข้อมูล', 'เท็จ', 'หา', 'เชื้อ', 'โรค', 'โค', 'วิด', 'ต้น', 'กำเนิด', 'ฐานทัพ', 'ทหาร', 'รัฐ', 'แมริแลนด์', 'สนใจ', 'จีน', 'หน้าที่', 'หน่วย', 'งาน', 'ข่าว', 'กรอง', 'สหรัฐฯ', 'เผย', 'รายงาน', 'สอบสวน', 'เรื่อง', 'ต้น', 'กำเนิด', 'เชื้อ', 'ไวรัส', 'ชนิด']\n"
          ]
        }
      ],
      "source": [
        "print('tokenized text:\\n',split_word(clean_text[0])) #ข้อความที่ต้องการตรวจสอบบน cofact\n",
        "print('tokenized text:\\n',split_word(clean_text[1])) #ข้อความสรุปใน cofact\n",
        "print('tokenized text:\\n',split_word(clean_text[2])) #หัวข่าวอ้างอิง\n",
        "print('tokenized text:\\n',split_word(clean_text[3])) #เนื้อหาข่าวอ้างอิง paragraph แรก"
      ]
    },
    {
      "cell_type": "code",
      "execution_count": 90,
      "metadata": {
        "id": "UhqQxnAmTWyZ"
      },
      "outputs": [],
      "source": [
        "tokens_list = [split_word(txt) for txt in clean_text]"
      ]
    },
    {
      "cell_type": "code",
      "execution_count": 91,
      "metadata": {
        "colab": {
          "base_uri": "https://localhost:8080/"
        },
        "id": "yg2Lipu6TWyZ",
        "outputId": "e3ba02bf-17ea-47b4-cf9a-894398be91de"
      },
      "outputs": [
        {
          "data": {
            "text/plain": [
              "[['เผย',\n",
              "  'ตัด',\n",
              "  'พันธุกรรม',\n",
              "  'เชื้อ',\n",
              "  'โค',\n",
              "  'วิด',\n",
              "  'โค',\n",
              "  'วิด',\n",
              "  'ฝีมือ',\n",
              "  'มนุษย์',\n",
              "  'แหล่ง',\n",
              "  'ที่มา',\n",
              "  'ห้อง',\n",
              "  'แลป',\n",
              "  'ไวรัส',\n",
              "  'P3',\n",
              "  'รัฐ',\n",
              "  'คา',\n",
              "  'โร',\n",
              "  'ไล',\n",
              "  'เหนือ',\n",
              "  'อเมริกา',\n",
              "  'Greg',\n",
              "  'Roubini',\n",
              "  'เชี่ยวชาญ',\n",
              "  'ข่าว',\n",
              "  'กรอง',\n",
              "  'ชื่อ',\n",
              "  'อเมริกา',\n",
              "  'สัมภาษณ์',\n",
              "  'สื่อ',\n",
              "  'ข่าว',\n",
              "  'ช่อง',\n",
              "  'ข่าว',\n",
              "  'ทีวี',\n",
              "  'อเมริกา',\n",
              "  'เผย',\n",
              "  'ลับ',\n",
              "  'Greg',\n",
              "  'เผย',\n",
              "  'ไวรัส',\n",
              "  'โค',\n",
              "  'วิด',\n",
              "  'ออกแบบ',\n",
              "  'พันธุกรรม',\n",
              "  'อาวุธ',\n",
              "  'ชีวภาพ',\n",
              "  'แหล่ง',\n",
              "  'ที่มา',\n",
              "  'ห้อง',\n",
              "  'แลป',\n",
              "  'BSL',\n",
              "  'รัฐ',\n",
              "  'คา',\n",
              "  'โร',\n",
              "  'ไล',\n",
              "  'เหนือ',\n",
              "  'พัฒนา',\n",
              "  'ศาสตรา',\n",
              "  'จาร',\n",
              "  'ย์',\n",
              "  'ราล์ฟ',\n",
              "  'บาร์',\n",
              "  'ริก',\n",
              "  'ระบุ',\n",
              "  'ไวรัส',\n",
              "  'รัฐบาล',\n",
              "  'มืด',\n",
              "  'รัฐ',\n",
              "  'คา',\n",
              "  'โร',\n",
              "  'ไล',\n",
              "  'เหนือ',\n",
              "  'แพร่',\n",
              "  'ระบาด',\n",
              "  'ประเทศ',\n",
              "  'จีน',\n",
              "  'อิตาลี',\n",
              "  'อเมริกา',\n",
              "  'ประเทศ',\n",
              "  'หน้า',\n",
              "  'มีนาคม',\n",
              "  'เก',\n",
              "  'รก',\n",
              "  'ทวิ',\n",
              "  'ต',\n",
              "  'ข้อความ',\n",
              "  'ถาม',\n",
              "  'ทรัมป์',\n",
              "  'ใด',\n",
              "  'ประชาชน',\n",
              "  'อเมริกา',\n",
              "  'ไวรัส',\n",
              "  'ผลิต',\n",
              "  'อเมริกา',\n",
              "  'อธิบาย',\n",
              "  'ชัดเจน',\n",
              "  'ตัว',\n",
              "  'ไวรัส',\n",
              "  'อาวุธ',\n",
              "  'ชีวภาพ',\n",
              "  'บังเอิญ',\n",
              "  'ศาสตราจารย์',\n",
              "  'Luc',\n",
              "  'Montanier',\n",
              "  'รางวัล',\n",
              "  'โน',\n",
              "  'เบล',\n",
              "  'ค้น',\n",
              "  'ไว',\n",
              "  'รัส',\n",
              "  'เอ',\n",
              "  'ช',\n",
              "  'ไอ',\n",
              "  'วี',\n",
              "  'เผย',\n",
              "  'ข่าว',\n",
              "  'ฝรั่งเศส',\n",
              "  'กี่',\n",
              "  'โค',\n",
              "  'วิด',\n",
              "  'ธรรมชาติ',\n",
              "  'พัฒนา',\n",
              "  'ประณีต',\n",
              "  'วิทยาศาสตร์',\n",
              "  'ชีว',\n",
              "  'โมเลกุล',\n",
              "  'ศาสตราจารย์',\n",
              "  'Luc',\n",
              "  'Montanier',\n",
              "  'เรื่อง',\n",
              "  'เด่น',\n",
              "  'ชัด',\n",
              "  'เจ้า',\n",
              "  'หน้าที่',\n",
              "  'เชี่ยวชาญ',\n",
              "  'เชื้อ',\n",
              "  'ไวรัส',\n",
              "  'ที่มา',\n",
              "  'ค้างคาว',\n",
              "  'เข้าไป',\n",
              "  'เข้ม',\n",
              "  'ข้น',\n",
              "  'เชื้อ',\n",
              "  'เอ',\n",
              "  'ช',\n",
              "  'ไอ',\n",
              "  'วี',\n",
              "  'เข้าไป',\n",
              "  'วางยา',\n",
              "  'พิษ',\n",
              "  'ชั่ว',\n",
              "  'ร้าย',\n",
              "  'ประวัติศาสตร์',\n",
              "  'โลก',\n",
              "  'แพร่',\n",
              "  'ระบาด',\n",
              "  'ไวรัส',\n",
              "  'โค',\n",
              "  'วิด',\n",
              "  'โหด',\n",
              "  'ข่าว',\n",
              "  'เกี่ยว',\n",
              "  'เชื้อ',\n",
              "  'โค',\n",
              "  'วิด',\n",
              "  'อาวุธ',\n",
              "  'ชีวภาพ',\n",
              "  'ที่มา',\n",
              "  'ตัด',\n",
              "  'พันธุกรรม',\n",
              "  'ฝีมือ',\n",
              "  'มนุษย์',\n",
              "  'วิทยาศาสตร์',\n",
              "  'โลก',\n",
              "  'ทำงาน',\n",
              "  'หา',\n",
              "  'แหล่ง',\n",
              "  'ที่มา',\n",
              "  'เชื้อ',\n",
              "  'ไวรัส',\n",
              "  'วิทยาศาสตร์',\n",
              "  'อินเดีย',\n",
              "  'ค้น',\n",
              "  'เชื้อ',\n",
              "  'ไวรัส',\n",
              "  'โค',\n",
              "  'โร',\n",
              "  'สาย',\n",
              "  'พันธ์ุ',\n",
              "  'เชื้อ',\n",
              "  'เอ',\n",
              "  'ช',\n",
              "  'ไอ',\n",
              "  'วี',\n",
              "  'แทรก',\n",
              "  'ไวรัส',\n",
              "  'ตัว',\n",
              "  'ตัด',\n",
              "  'พันธุกรรม',\n",
              "  'กลาง',\n",
              "  'เดือน',\n",
              "  'มีนาคม',\n",
              "  'วิทยาศาสตร์',\n",
              "  'วิเคราะห์',\n",
              "  'เชื้อ',\n",
              "  'ไวรัส',\n",
              "  'โค',\n",
              "  'วิด',\n",
              "  'ป่วย',\n",
              "  'รัฐ',\n",
              "  'วอชิงตัน',\n",
              "  'วัฏจักร',\n",
              "  'วิวัฒนาการ',\n",
              "  'ครึ่ง',\n",
              "  'ปี',\n",
              "  'พร้อมๆ',\n",
              "  'ศึกษา',\n",
              "  'ลึก',\n",
              "  'ซึ้ง',\n",
              "  'ประเทศ',\n",
              "  'โลก',\n",
              "  'เบน',\n",
              "  'สายตา',\n",
              "  'สงสัย',\n",
              "  'อเมริกา',\n",
              "  'ประเทศ',\n",
              "  'ญี่ปุ่น',\n",
              "  'อิตาลี',\n",
              "  'ออสเตรเลีย',\n",
              "  'ป่วย',\n",
              "  'แหล่ง',\n",
              "  'ที่มา',\n",
              "  'อเมริกา',\n",
              "  'เวลา',\n",
              "  'ROBERT',\n",
              "  'REDFIELD',\n",
              "  'อำนวย',\n",
              "  'ศูนย์',\n",
              "  'ควบคุม',\n",
              "  'ป้องกัน',\n",
              "  'โรค',\n",
              "  'สหรัฐอเมริกา',\n",
              "  'ป่วย',\n",
              "  'ตาย',\n",
              "  'ไข้',\n",
              "  'หวัด',\n",
              "  'เดือน',\n",
              "  'กันยายน',\n",
              "  'ตาย',\n",
              "  'เชื้อ',\n",
              "  'ไวรัส',\n",
              "  'โค',\n",
              "  'วิด',\n",
              "  'ปัญหา',\n",
              "  'โฆษก',\n",
              "  'กระทรวง',\n",
              "  'ประเทศ',\n",
              "  'จีน',\n",
              "  'จ้าว',\n",
              "  'ลี่',\n",
              "  'เจียง',\n",
              "  'ทวิ',\n",
              "  'ต',\n",
              "  'ข้อความ',\n",
              "  'ทวิ',\n",
              "  'ต',\n",
              "  'เตอร์',\n",
              "  'ถาม',\n",
              "  'อำนวย',\n",
              "  'ศูนย์',\n",
              "  'ควบคุม',\n",
              "  'ป้องกัน',\n",
              "  'โรค',\n",
              "  'สหรัฐอเมริกา',\n",
              "  'ป่วย',\n",
              "  'อเมริกา',\n",
              "  'ตอน',\n",
              "  'ชื่อ',\n",
              "  'โรง',\n",
              "  'พยาบาล',\n",
              "  'ทหาร',\n",
              "  'อเมริกา',\n",
              "  'เชื้อ',\n",
              "  'แพร่',\n",
              "  'อู่',\n",
              "  'ฮั่น',\n",
              "  'อเมริกา',\n",
              "  'โปร่งใส',\n",
              "  'เผย',\n",
              "  'ข้อมูล',\n",
              "  'โลก',\n",
              "  'รู้',\n",
              "  'คณะ',\n",
              "  'สื่อ',\n",
              "  'ข่าว',\n",
              "  'คณะ',\n",
              "  'รัฐ',\n",
              "  'เวอร์จิเนีย',\n",
              "  'หา',\n",
              "  'ป่วย',\n",
              "  'ทหาร',\n",
              "  'อเมริกา',\n",
              "  'แข่งขัน',\n",
              "  'กีฬา',\n",
              "  'ทหาร',\n",
              "  'อู่',\n",
              "  'ฮั่น',\n",
              "  'จีน',\n",
              "  'เดือน',\n",
              "  'ตุลาคม',\n",
              "  'มีชื่อ',\n",
              "  'Maatje',\n",
              "  'Benassi',\n",
              "  'ทหาร',\n",
              "  'หญิง',\n",
              "  'อเมริกา',\n",
              "  'คน',\n",
              "  'ภูมิ',\n",
              "  'พิเศษ',\n",
              "  'ห้อง',\n",
              "  'ชีวเคมี',\n",
              "  'P4',\n",
              "  'FORT',\n",
              "  'DETRICK',\n",
              "  'คนใน',\n",
              "  'ครอบครัว',\n",
              "  'คน',\n",
              "  'ติด',\n",
              "  'เชื้อ',\n",
              "  'จำนวน',\n",
              "  'คน',\n",
              "  'ป่วย',\n",
              "  'ติด',\n",
              "  'เชื้อ',\n",
              "  'ฮอลแลนด์',\n",
              "  'ติด',\n",
              "  'เชื้อ',\n",
              "  'เขต',\n",
              "  'พื้นที่',\n",
              "  'ลอม',\n",
              "  'บาร์',\n",
              "  'เดีย',\n",
              "  'อิตาลี',\n",
              "  'เขต',\n",
              "  'พื้นที่',\n",
              "  'แพร่',\n",
              "  'ระบาด',\n",
              "  'เชื้อ',\n",
              "  'โค',\n",
              "  'วิด',\n",
              "  'หลัก',\n",
              "  'ฐาน',\n",
              "  'เกี่ยว',\n",
              "  'เชื้อ',\n",
              "  'ไวรัส',\n",
              "  'โค',\n",
              "  'วิด',\n",
              "  'ต้น',\n",
              "  'กำเนิด',\n",
              "  'อเมริกา',\n",
              "  'แน่นอน',\n",
              "  'ห่วง',\n",
              "  'โซ่',\n",
              "  'เชื่อม',\n",
              "  'ร้อย',\n",
              "  'ถ้วน',\n",
              "  'ทหาร',\n",
              "  'พิเศษ',\n",
              "  'คน',\n",
              "  'อเมริกา',\n",
              "  'เครื่อง',\n",
              "  'บิน',\n",
              "  'แพร่',\n",
              "  'ระบาด',\n",
              "  'ไวรัส',\n",
              "  'ห้อง',\n",
              "  'แล',\n",
              "  'ป',\n",
              "  'ปิดตาย',\n",
              "  'ปะ',\n",
              "  'ติด',\n",
              "  'ปะ',\n",
              "  'ตรรกะ',\n",
              "  'ทรัมป์',\n",
              "  'เชื้อ',\n",
              "  'โค',\n",
              "  'วิด',\n",
              "  'ไว',\n",
              "  'รัส',\n",
              "  'นอร์ธ',\n",
              "  'คา',\n",
              "  'โร',\n",
              "  'ไล',\n",
              "  'นา',\n",
              "  'Virus',\n",
              "  'North',\n",
              "  'Carolina',\n",
              "  'ไวรัส',\n",
              "  'อเมริกา',\n",
              "  'หลัก',\n",
              "  'ฐาน',\n",
              "  'ชี้',\n",
              "  'อเมริกา',\n",
              "  'เจ้า',\n",
              "  'หน้าที่',\n",
              "  'ชั้น',\n",
              "  'อเมริกา',\n",
              "  'เผย',\n",
              "  'เชื้อ',\n",
              "  'โค',\n",
              "  'วิด',\n",
              "  'ชั้น',\n",
              "  'โรค',\n",
              "  'ระบาด',\n",
              "  'ชั้น',\n",
              "  'อาวุธ',\n",
              "  'ชีวภาพ',\n",
              "  'ไร้',\n",
              "  'ยางอาย',\n",
              "  'โลก',\n",
              "  'ตะลึง',\n",
              "  'ข้อ',\n",
              "  'สงสัย',\n",
              "  'อเมริกา',\n",
              "  'วางยา',\n",
              "  'พิษ',\n",
              "  'คน',\n",
              "  'โลก',\n",
              "  'ขาย',\n",
              "  'วัคซีน',\n",
              "  'ป้องกัน',\n",
              "  'แก้',\n",
              "  'ปัญหา',\n",
              "  'เศรษฐกิจ',\n",
              "  'ดุลการค้า',\n",
              "  'เรื่อง',\n",
              "  'ชัดเจน',\n",
              "  'ทรัมป์',\n",
              "  'โยน',\n",
              "  'บาป',\n",
              "  'ชีวิต',\n",
              "  'จีน',\n",
              "  'เคราะห์',\n",
              "  'แทน',\n",
              "  'รัง',\n",
              "  'เกลียด',\n",
              "  'เชื้อ',\n",
              "  'โค',\n",
              "  'วิด',\n",
              "  'ก่อ',\n",
              "  'ภัย',\n",
              "  'พิบัติ',\n",
              "  'สูญ',\n",
              "  'ประเมิน',\n",
              "  'บาป',\n",
              "  'หลวง',\n",
              "  'โยน',\n",
              "  'โทษ',\n",
              "  'คน',\n",
              "  'ข้อ',\n",
              "  'สงสัย',\n",
              "  'เก',\n",
              "  'รก',\n",
              "  'ตีแผ่',\n",
              "  'ราล์ฟ',\n",
              "  'บาร์',\n",
              "  'ริค',\n",
              "  'ผู้รับ',\n",
              "  'ชอบ',\n",
              "  'พัฒนา',\n",
              "  'ไวรัส',\n",
              "  'รัฐ',\n",
              "  'คา',\n",
              "  'โร',\n",
              "  'ไล',\n",
              "  'นา',\n",
              "  'เหนือ',\n",
              "  'คน',\n",
              "  'บาร์',\n",
              "  'ริ',\n",
              "  'คมา',\n",
              "  'มหาวิทยาลัย',\n",
              "  'คา',\n",
              "  'โร',\n",
              "  'ไล',\n",
              "  'นา',\n",
              "  'เหนือ',\n",
              "  'หัวหน้า',\n",
              "  'ไวรัส',\n",
              "  'วิทยา',\n",
              "  'โฉม',\n",
              "  'โรค',\n",
              "  'ซาร์ส',\n",
              "  'โคโรนา',\n",
              "  'ไวรัส',\n",
              "  'ตัด',\n",
              "  'ยีน',\n",
              "  'ปี',\n",
              "  'ผู้นำ',\n",
              "  'วิจัย',\n",
              "  'พัฒนา',\n",
              "  'ไวรัส',\n",
              "  'ตกใจ',\n",
              "  'บุคคล',\n",
              "  'ชอบ',\n",
              "  'พัฒนา',\n",
              "  'คลินิก',\n",
              "  'ยา',\n",
              "  'วิเศษ',\n",
              "  'RADEXIVIR',\n",
              "  'โบราณ',\n",
              "  'คน',\n",
              "  'วางยา',\n",
              "  'พิษ',\n",
              "  'ต้องเต',\n",
              "  'รี',\n",
              "  'ยม',\n",
              "  'ยา',\n",
              "  'แก้',\n",
              "  'พิษ',\n",
              "  'เสมอ',\n",
              "  'ยา',\n",
              "  'RIDESIVIR',\n",
              "  'คลินิก',\n",
              "  'ข้อ',\n",
              "  'สงสัย',\n",
              "  'เชี่ยวชาญ',\n",
              "  'เกี่ยว',\n",
              "  'ประสิทธิภาพ',\n",
              "  'ปลอดภัย',\n",
              "  'ตก',\n",
              "  'กระป๋อง',\n",
              "  'พร้อมๆ',\n",
              "  'แพร่',\n",
              "  'ระบาด',\n",
              "  'ลุกลาม',\n",
              "  'โลก',\n",
              "  'อเมริกา',\n",
              "  'กลาย',\n",
              "  'ศูนย์กลาง',\n",
              "  'ล้าง',\n",
              "  'โลก',\n",
              "  'แพร่',\n",
              "  'ระบาด',\n",
              "  'อเมริกา',\n",
              "  'ประธานาธิบดี',\n",
              "  'ทรัมป์',\n",
              "  'สา',\n",
              "  'คัญ',\n",
              "  'ไข้',\n",
              "  'หวัด',\n",
              "  'หนัก',\n",
              "  'ปกติ',\n",
              "  'รู้',\n",
              "  'ใจ',\n",
              "  'คน',\n",
              "  'ผลิต',\n",
              "  'เพื่อน',\n",
              "  'รัก',\n",
              "  'ส',\n",
              "  'แตน',\n",
              "  'ลี่',\n",
              "  'ย์',\n",
              "  'เช',\n",
              "  'ล่า',\n",
              "  'เจ้า',\n",
              "  'พ่อ',\n",
              "  'วงการ',\n",
              "  'อสังหาริมทรัพย์',\n",
              "  'นิวยอร์ก',\n",
              "  'ชีวิต',\n",
              "  'เชื้อ',\n",
              "  'ไวรัส',\n",
              "  'โค',\n",
              "  'วิด',\n",
              "  'เวลา',\n",
              "  'จีน',\n",
              "  'ฟ้อง',\n",
              "  'ร้อง',\n",
              "  'ศาลโลก',\n",
              "  'อเมริกา',\n",
              "  'แพร่',\n",
              "  'เชื้อ',\n",
              "  'ไวรัส',\n",
              "  'โค',\n",
              "  'วิด',\n",
              "  'ตั้งใจ',\n",
              "  'ทำลาย',\n",
              "  'ล้าง',\n",
              "  'จีน',\n",
              "  'ปชช',\n",
              "  'โลก',\n",
              "  'ตอน',\n",
              "  'รอ',\n",
              "  'ดู',\n",
              "  'สืบสวน',\n",
              "  'ศาลโลก',\n",
              "  'ตัดสิน',\n",
              "  'เวลา',\n",
              "  'ทรัมป์',\n",
              "  'รู้สึก',\n",
              "  'ตัว',\n",
              "  'สา',\n",
              "  'คัญ',\n",
              "  'ระดับ',\n",
              "  'สาย',\n",
              "  'Ny',\n",
              "  'Ny'],\n",
              " ['อ้าง',\n",
              "  'ดร',\n",
              "  'บา',\n",
              "  'ริค',\n",
              "  'พัฒนา',\n",
              "  'เชื้อ',\n",
              "  'อาวุธ',\n",
              "  'ชีวภาพ',\n",
              "  'งาน',\n",
              "  'วิจัย',\n",
              "  'ศึกษา',\n",
              "  'เชื้อ',\n",
              "  'โคโรนา',\n",
              "  'ติดต่อ',\n",
              "  'ค้างคาว',\n",
              "  'คน',\n",
              "  'อ้าง',\n",
              "  'เรื่อง',\n",
              "  'Fort',\n",
              "  'Detrick',\n",
              "  'ไม่มี',\n",
              "  'หลัก',\n",
              "  'ฐาน',\n",
              "  'สนับสนุน',\n",
              "  'ชัดเจน'],\n",
              " ['โค',\n",
              "  'วิด',\n",
              "  'จีน',\n",
              "  'แพร่',\n",
              "  'ข่าว',\n",
              "  'ปลอม',\n",
              "  'เรื่อง',\n",
              "  'โค',\n",
              "  'วิด',\n",
              "  'ต้น',\n",
              "  'กำเนิด',\n",
              "  'สหรัฐฯ'],\n",
              " ['ระดม',\n",
              "  'เผย',\n",
              "  'แพร่',\n",
              "  'ข้อมูล',\n",
              "  'เท็จ',\n",
              "  'หา',\n",
              "  'เชื้อ',\n",
              "  'โรค',\n",
              "  'โค',\n",
              "  'วิด',\n",
              "  'ต้น',\n",
              "  'กำเนิด',\n",
              "  'ฐานทัพ',\n",
              "  'ทหาร',\n",
              "  'รัฐ',\n",
              "  'แมริแลนด์',\n",
              "  'สนใจ',\n",
              "  'จีน',\n",
              "  'หน้าที่',\n",
              "  'หน่วย',\n",
              "  'งาน',\n",
              "  'ข่าว',\n",
              "  'กรอง',\n",
              "  'สหรัฐฯ',\n",
              "  'เผย',\n",
              "  'รายงาน',\n",
              "  'สอบสวน',\n",
              "  'เรื่อง',\n",
              "  'ต้น',\n",
              "  'กำเนิด',\n",
              "  'เชื้อ',\n",
              "  'ไวรัส',\n",
              "  'ชนิด']]"
            ]
          },
          "execution_count": 91,
          "metadata": {},
          "output_type": "execute_result"
        }
      ],
      "source": [
        "tokens_list"
      ]
    },
    {
      "cell_type": "markdown",
      "metadata": {
        "id": "fj6CRKLWTWyZ"
      },
      "source": [
        "**Step 3 + 4a: Bag of words + count word**"
      ]
    },
    {
      "cell_type": "code",
      "execution_count": 92,
      "metadata": {
        "id": "IW-y9gyhTWyZ"
      },
      "outputs": [],
      "source": [
        "from sklearn.feature_extraction.text import CountVectorizer\n",
        "tokens_list_j = [','.join(tkn) for tkn in tokens_list]\n",
        "cvec = CountVectorizer(analyzer=lambda x:x.split(','))\n",
        "c_feat = cvec.fit_transform(tokens_list_j)"
      ]
    },
    {
      "cell_type": "code",
      "execution_count": 93,
      "metadata": {
        "colab": {
          "base_uri": "https://localhost:8080/"
        },
        "id": "AcV9zFtvTWyZ",
        "outputId": "292989f9-d4ae-4e2f-f3ba-4d309c464f1e"
      },
      "outputs": [
        {
          "data": {
            "text/plain": [
              "{'เผย': 267,\n",
              " 'ตัด': 82,\n",
              " 'พันธุกรรม': 138,\n",
              " 'เชื้อ': 259,\n",
              " 'โค': 287,\n",
              " 'วิด': 194,\n",
              " 'ฝีมือ': 134,\n",
              " 'มนุษย์': 148,\n",
              " 'แหล่ง': 286,\n",
              " 'ที่มา': 101,\n",
              " 'ห้อง': 232,\n",
              " 'แลป': 285,\n",
              " 'ไวรัส': 310,\n",
              " 'P3': 13,\n",
              " 'รัฐ': 166,\n",
              " 'คา': 46,\n",
              " 'โร': 298,\n",
              " 'ไล': 308,\n",
              " 'เหนือ': 274,\n",
              " 'อเมริกา': 242,\n",
              " 'Greg': 7,\n",
              " 'Roubini': 19,\n",
              " 'เชี่ยวชาญ': 257,\n",
              " 'ข่าว': 32,\n",
              " 'กรอง': 21,\n",
              " 'ชื่อ': 66,\n",
              " 'สัมภาษณ์': 214,\n",
              " 'สื่อ': 219,\n",
              " 'ช่อง': 67,\n",
              " 'ทีวี': 100,\n",
              " 'ลับ': 182,\n",
              " 'ออกแบบ': 235,\n",
              " 'อาวุธ': 237,\n",
              " 'ชีวภาพ': 62,\n",
              " 'BSL': 0,\n",
              " 'พัฒนา': 137,\n",
              " 'ศาสตรา': 202,\n",
              " 'จาร': 50,\n",
              " 'ย์': 157,\n",
              " 'ราล์ฟ': 171,\n",
              " 'บาร์': 109,\n",
              " 'ริก': 173,\n",
              " 'ระบุ': 163,\n",
              " 'รัฐบาล': 167,\n",
              " 'มืด': 152,\n",
              " 'แพร่': 282,\n",
              " 'ระบาด': 162,\n",
              " 'ประเทศ': 120,\n",
              " 'จีน': 52,\n",
              " 'อิตาลี': 239,\n",
              " 'หน้า': 224,\n",
              " 'มีนาคม': 151,\n",
              " 'เก': 246,\n",
              " 'รก': 158,\n",
              " 'ทวิ': 96,\n",
              " 'ต': 76,\n",
              " 'ข้อความ': 35,\n",
              " 'ถาม': 93,\n",
              " 'ทรัมป์': 95,\n",
              " 'ใด': 304,\n",
              " 'ประชาชน': 115,\n",
              " 'ผลิต': 130,\n",
              " 'อธิบาย': 233,\n",
              " 'ชัดเจน': 58,\n",
              " 'ตัว': 84,\n",
              " 'บังเอิญ': 106,\n",
              " 'ศาสตราจารย์': 203,\n",
              " 'Luc': 8,\n",
              " 'Montanier': 10,\n",
              " 'รางวัล': 169,\n",
              " 'โน': 293,\n",
              " 'เบล': 266,\n",
              " 'ค้น': 47,\n",
              " 'ไว': 309,\n",
              " 'รัส': 168,\n",
              " 'เอ': 275,\n",
              " 'ช': 54,\n",
              " 'ไอ': 311,\n",
              " 'วี': 200,\n",
              " 'ฝรั่งเศส': 133,\n",
              " 'กี่': 29,\n",
              " 'ธรรมชาติ': 102,\n",
              " 'ประณีต': 116,\n",
              " 'วิทยาศาสตร์': 196,\n",
              " 'ชีว': 61,\n",
              " 'โมเลกุล': 296,\n",
              " 'เรื่อง': 269,\n",
              " 'เด่น': 262,\n",
              " 'ชัด': 57,\n",
              " 'เจ้า': 255,\n",
              " 'หน้าที่': 225,\n",
              " 'ค้างคาว': 48,\n",
              " 'เข้าไป': 251,\n",
              " 'เข้ม': 250,\n",
              " 'ข้น': 33,\n",
              " 'วางยา': 192,\n",
              " 'พิษ': 141,\n",
              " 'ชั่ว': 59,\n",
              " 'ร้าย': 180,\n",
              " 'ประวัติศาสตร์': 118,\n",
              " 'โลก': 301,\n",
              " 'โหด': 302,\n",
              " 'เกี่ยว': 248,\n",
              " 'ทำงาน': 98,\n",
              " 'หา': 230,\n",
              " 'อินเดีย': 240,\n",
              " 'สาย': 216,\n",
              " 'พันธ์ุ': 139,\n",
              " 'แทรก': 280,\n",
              " 'กลาง': 24,\n",
              " 'เดือน': 261,\n",
              " 'วิเคราะห์': 198,\n",
              " 'ป่วย': 128,\n",
              " 'วอชิงตัน': 189,\n",
              " 'วัฏจักร': 191,\n",
              " 'วิวัฒนาการ': 197,\n",
              " 'ครึ่ง': 42,\n",
              " 'ปี': 127,\n",
              " 'พร้อมๆ': 136,\n",
              " 'ศึกษา': 204,\n",
              " 'ลึก': 184,\n",
              " 'ซึ้ง': 69,\n",
              " 'เบน': 265,\n",
              " 'สายตา': 217,\n",
              " 'สงสัย': 208,\n",
              " 'ญี่ปุ่น': 70,\n",
              " 'ออสเตรเลีย': 236,\n",
              " 'เวลา': 270,\n",
              " 'ROBERT': 18,\n",
              " 'REDFIELD': 16,\n",
              " 'อำนวย': 238,\n",
              " 'ศูนย์': 205,\n",
              " 'ควบคุม': 44,\n",
              " 'ป้องกัน': 129,\n",
              " 'โรค': 299,\n",
              " 'สหรัฐอเมริกา': 211,\n",
              " 'ตาย': 86,\n",
              " 'ไข้': 305,\n",
              " 'หวัด': 228,\n",
              " 'กันยายน': 26,\n",
              " 'ปัญหา': 125,\n",
              " 'โฆษก': 289,\n",
              " 'กระทรวง': 22,\n",
              " 'จ้าว': 53,\n",
              " 'ลี่': 183,\n",
              " 'เจียง': 254,\n",
              " 'เตอร์': 263,\n",
              " 'ตอน': 80,\n",
              " 'โรง': 300,\n",
              " 'พยาบาล': 135,\n",
              " 'ทหาร': 97,\n",
              " 'อู่': 241,\n",
              " 'ฮั่น': 245,\n",
              " 'โปร่งใส': 295,\n",
              " 'ข้อมูล': 36,\n",
              " 'รู้': 176,\n",
              " 'คณะ': 37,\n",
              " 'เวอร์จิเนีย': 271,\n",
              " 'แข่งขัน': 277,\n",
              " 'กีฬา': 28,\n",
              " 'ตุลาคม': 90,\n",
              " 'มีชื่อ': 150,\n",
              " 'Maatje': 9,\n",
              " 'Benassi': 1,\n",
              " 'หญิง': 221,\n",
              " 'คน': 38,\n",
              " 'ภูมิ': 147,\n",
              " 'พิเศษ': 142,\n",
              " 'ชีวเคมี': 64,\n",
              " 'P4': 14,\n",
              " 'FORT': 5,\n",
              " 'DETRICK': 3,\n",
              " 'คนใน': 39,\n",
              " 'ครอบครัว': 41,\n",
              " 'ติด': 87,\n",
              " 'จำนวน': 51,\n",
              " 'ฮอลแลนด์': 244,\n",
              " 'เขต': 249,\n",
              " 'พื้นที่': 143,\n",
              " 'ลอม': 181,\n",
              " 'เดีย': 260,\n",
              " 'หลัก': 227,\n",
              " 'ฐาน': 71,\n",
              " 'ต้น': 91,\n",
              " 'กำเนิด': 27,\n",
              " 'แน่นอน': 281,\n",
              " 'ห่วง': 231,\n",
              " 'โซ่': 291,\n",
              " 'เชื่อม': 258,\n",
              " 'ร้อย': 179,\n",
              " 'ถ้วน': 94,\n",
              " 'เครื่อง': 253,\n",
              " 'บิน': 110,\n",
              " 'แล': 284,\n",
              " 'ป': 112,\n",
              " 'ปิดตาย': 126,\n",
              " 'ปะ': 124,\n",
              " 'ตรรกะ': 79,\n",
              " 'นอร์ธ': 103,\n",
              " 'นา': 104,\n",
              " 'Virus': 20,\n",
              " 'North': 11,\n",
              " 'Carolina': 2,\n",
              " 'ชี้': 65,\n",
              " 'ชั้น': 60,\n",
              " 'ไร้': 307,\n",
              " 'ยางอาย': 155,\n",
              " 'ตะลึง': 81,\n",
              " 'ข้อ': 34,\n",
              " 'ขาย': 31,\n",
              " 'วัคซีน': 190,\n",
              " 'แก้': 276,\n",
              " 'เศรษฐกิจ': 272,\n",
              " 'ดุลการค้า': 74,\n",
              " 'โยน': 297,\n",
              " 'บาป': 108,\n",
              " 'ชีวิต': 63,\n",
              " 'เคราะห์': 252,\n",
              " 'แทน': 279,\n",
              " 'รัง': 165,\n",
              " 'เกลียด': 247,\n",
              " 'ก่อ': 30,\n",
              " 'ภัย': 146,\n",
              " 'พิบัติ': 140,\n",
              " 'สูญ': 220,\n",
              " 'ประเมิน': 121,\n",
              " 'หลวง': 226,\n",
              " 'โทษ': 292,\n",
              " 'ตีแผ่': 89,\n",
              " 'ริค': 174,\n",
              " 'ผู้รับ': 132,\n",
              " 'ชอบ': 56,\n",
              " 'ริ': 172,\n",
              " 'คมา': 40,\n",
              " 'มหาวิทยาลัย': 149,\n",
              " 'หัวหน้า': 229,\n",
              " 'วิทยา': 195,\n",
              " 'โฉม': 290,\n",
              " 'ซาร์ส': 68,\n",
              " 'โคโรนา': 288,\n",
              " 'ยีน': 156,\n",
              " 'ผู้นำ': 131,\n",
              " 'วิจัย': 193,\n",
              " 'ตกใจ': 78,\n",
              " 'บุคคล': 111,\n",
              " 'คลินิก': 43,\n",
              " 'ยา': 154,\n",
              " 'วิเศษ': 199,\n",
              " 'RADEXIVIR': 15,\n",
              " 'โบราณ': 294,\n",
              " 'ต้องเต': 92,\n",
              " 'รี': 175,\n",
              " 'ยม': 153,\n",
              " 'เสมอ': 273,\n",
              " 'RIDESIVIR': 17,\n",
              " 'ประสิทธิภาพ': 119,\n",
              " 'ปลอดภัย': 122,\n",
              " 'ตก': 77,\n",
              " 'กระป๋อง': 23,\n",
              " 'ลุกลาม': 185,\n",
              " 'กลาย': 25,\n",
              " 'ศูนย์กลาง': 206,\n",
              " 'ล้าง': 187,\n",
              " 'ประธานาธิบดี': 117,\n",
              " 'สา': 215,\n",
              " 'คัญ': 45,\n",
              " 'หนัก': 222,\n",
              " 'ปกติ': 113,\n",
              " 'ใจ': 303,\n",
              " 'เพื่อน': 268,\n",
              " 'รัก': 164,\n",
              " 'ส': 207,\n",
              " 'แตน': 278,\n",
              " 'เช': 256,\n",
              " 'ล่า': 186,\n",
              " 'พ่อ': 144,\n",
              " 'วงการ': 188,\n",
              " 'อสังหาริมทรัพย์': 234,\n",
              " 'นิวยอร์ก': 105,\n",
              " 'ฟ้อง': 145,\n",
              " 'ร้อง': 178,\n",
              " 'ศาลโลก': 201,\n",
              " 'ตั้งใจ': 85,\n",
              " 'ทำลาย': 99,\n",
              " 'ปชช': 114,\n",
              " 'รอ': 159,\n",
              " 'ดู': 75,\n",
              " 'สืบสวน': 218,\n",
              " 'ตัดสิน': 83,\n",
              " 'รู้สึก': 177,\n",
              " 'ระดับ': 161,\n",
              " 'Ny': 12,\n",
              " 'อ้าง': 243,\n",
              " 'ดร': 73,\n",
              " 'บา': 107,\n",
              " 'งาน': 49,\n",
              " 'ติดต่อ': 88,\n",
              " 'Fort': 6,\n",
              " 'Detrick': 4,\n",
              " 'ไม่มี': 306,\n",
              " 'สนับสนุน': 209,\n",
              " 'ปลอม': 123,\n",
              " 'สหรัฐฯ': 212,\n",
              " 'ระดม': 160,\n",
              " 'เท็จ': 264,\n",
              " 'ฐานทัพ': 72,\n",
              " 'แมริแลนด์': 283,\n",
              " 'สนใจ': 210,\n",
              " 'หน่วย': 223,\n",
              " 'รายงาน': 170,\n",
              " 'สอบสวน': 213,\n",
              " 'ชนิด': 55}"
            ]
          },
          "execution_count": 93,
          "metadata": {},
          "output_type": "execute_result"
        }
      ],
      "source": [
        "cvec.vocabulary_"
      ]
    },
    {
      "cell_type": "code",
      "execution_count": 94,
      "metadata": {
        "colab": {
          "base_uri": "https://localhost:8080/"
        },
        "id": "6eO3N9O7TWyZ",
        "outputId": "8c29aac9-6c82-4490-826b-c80a9e2bf4eb"
      },
      "outputs": [
        {
          "data": {
            "text/plain": [
              "matrix([[ 1,  1,  1, ...,  2, 21,  3],\n",
              "        [ 0,  0,  0, ...,  0,  0,  0],\n",
              "        [ 0,  0,  0, ...,  0,  0,  0],\n",
              "        [ 0,  0,  0, ...,  0,  1,  0]], dtype=int64)"
            ]
          },
          "execution_count": 94,
          "metadata": {},
          "output_type": "execute_result"
        }
      ],
      "source": [
        "c_feat[:,:].todense()"
      ]
    },
    {
      "cell_type": "code",
      "execution_count": 95,
      "metadata": {
        "colab": {
          "base_uri": "https://localhost:8080/"
        },
        "id": "5bkgb2fiTWya",
        "outputId": "026a8c87-9d2e-4d2e-df61-a384b26a828f"
      },
      "outputs": [
        {
          "name": "stdout",
          "output_type": "stream",
          "text": [
            "[[ 1  1  1 ...  2 21  3]\n",
            " [ 0  0  0 ...  0  0  0]\n",
            " [ 0  0  0 ...  0  0  0]\n",
            " [ 0  0  0 ...  0  1  0]]\n"
          ]
        }
      ],
      "source": [
        "#first_news เป็น array ของข่าว โดย row ที่ 1 = ข่าวที่ต้องการตรวจสอบจาก cofact, row ที่ 2 = ข้อความสรุปใน cofact, row ที่ 3 = หัวข้อข่าวที่เชื่อถือได้ , row ที่ 4 = เนื้อหาข่าว paragraph แรกของข่าวที่เชื่อถือได้\n",
        "first_news = c_feat[:,:].todense()\n",
        "print(first_news) "
      ]
    },
    {
      "cell_type": "code",
      "execution_count": 96,
      "metadata": {
        "colab": {
          "base_uri": "https://localhost:8080/"
        },
        "id": "lFrHpP7wTWya",
        "outputId": "6702c60e-09f7-4533-dc60-5e90814dbab2"
      },
      "outputs": [
        {
          "data": {
            "text/plain": [
              "312"
            ]
          },
          "execution_count": 96,
          "metadata": {},
          "output_type": "execute_result"
        }
      ],
      "source": [
        "first_news.shape[1]"
      ]
    },
    {
      "cell_type": "code",
      "execution_count": 97,
      "metadata": {
        "colab": {
          "base_uri": "https://localhost:8080/"
        },
        "id": "za4s_204TWya",
        "outputId": "ea2505ef-435d-44b4-c8c3-142c98d3da67"
      },
      "outputs": [
        {
          "name": "stdout",
          "output_type": "stream",
          "text": [
            "This is sum (upperpart) : 75\n",
            "This is lowerpart : 310.33691369219997\n"
          ]
        },
        {
          "data": {
            "text/plain": [
              "0.24167282940239235"
            ]
          },
          "execution_count": 97,
          "metadata": {},
          "output_type": "execute_result"
        }
      ],
      "source": [
        "find_cosine_similarity(first_news, 0, 1) #เทียบ ข้อความที่ต้องการตรวจสอบบน cofact กับ ข้อความสรุปใน cofact"
      ]
    },
    {
      "cell_type": "code",
      "execution_count": 98,
      "metadata": {
        "colab": {
          "base_uri": "https://localhost:8080/"
        },
        "id": "VapSRl21TWya",
        "outputId": "9d75f5d6-14dd-4a7f-db0d-7a7bef5169af"
      },
      "outputs": [
        {
          "name": "stdout",
          "output_type": "stream",
          "text": [
            "This is sum (upperpart) : 86\n",
            "This is lowerpart : 230.51247254758255\n"
          ]
        },
        {
          "data": {
            "text/plain": [
              "0.3730817645116701"
            ]
          },
          "execution_count": 98,
          "metadata": {},
          "output_type": "execute_result"
        }
      ],
      "source": [
        "find_cosine_similarity(first_news, 0, 2)#เทียบ ข้อความที่ต้องการตรวจสอบบน cofact กับ หัวข้อข่าวที่เชื่อถือได้"
      ]
    },
    {
      "cell_type": "code",
      "execution_count": 99,
      "metadata": {
        "colab": {
          "base_uri": "https://localhost:8080/"
        },
        "id": "PGB6lB2BTWya",
        "outputId": "c2f2cdf1-167a-42c7-a1a4-5bbfd0b36c2b"
      },
      "outputs": [
        {
          "name": "stdout",
          "output_type": "stream",
          "text": [
            "This is sum (upperpart) : 151\n",
            "This is lowerpart : 369.0\n"
          ]
        },
        {
          "data": {
            "text/plain": [
              "0.4092140921409214"
            ]
          },
          "execution_count": 99,
          "metadata": {},
          "output_type": "execute_result"
        }
      ],
      "source": [
        "find_cosine_similarity(first_news, 0, 3)#เทียบ ข้อความที่ต้องการตรวจสอบบน cofact กับ เนื้อหาข่าว paragraph แรกของข่าวที่เชื่อถือได้"
      ]
    },
    {
      "cell_type": "markdown",
      "metadata": {
        "id": "ex8aXagkVlFD"
      },
      "source": [
        "# ข่าวที่ 9"
      ]
    },
    {
      "cell_type": "code",
      "execution_count": 100,
      "metadata": {
        "id": "6aithdmXVlFD"
      },
      "outputs": [],
      "source": [
        "clean_text = ['คลัง ขยายมาตรการช่วยค่าน้ำ ค่าไฟ ให้ผู้ถือบัตรคนจน','มาตรการบรรเทาภาระค่าไฟฟ้าและค่าน้ำประปา มีวัตถุประสงค์เพื่อบรรเทาภาระค่าใช้จ่ายด้านสาธารณูปโภคขั้นพื้นฐาน ได้แก่ ค่าไฟฟ้าและค่าน้ำประปาให้แก่ผู้มีบัตรสวัสดิการแห่งรัฐ (บัตรฯ) อย่างต่อเนื่องและครอบคลุมผู้มีบัตรฯ ให้สามารถได้รับประโยชน์จากมาตรการบรรเทาภาระค่าไฟฟ้าและค่าน้ำประปา (มาตรการฯ) ดังกล่าวให้มากขึ้น','เช็กเลย!เปิดเกณฑ์ลดค่าน้ำ-ค่าไฟผู้ถือบัตรคนจน เผยช่องทางลงทะเบียน','เช็กก่อนพลาดโอกาส! เปิดเกณฑ์ผู้ถือบัตรคนจน ได้ลดค่าน้ำ-ค่าไฟ 12 เดือน พร้อมช่องทางลงทะเบียน']"
      ]
    },
    {
      "cell_type": "markdown",
      "metadata": {
        "id": "G9UQ3g-ZVlFE"
      },
      "source": [
        "**Step 2: Tokenize**"
      ]
    },
    {
      "cell_type": "code",
      "execution_count": 101,
      "metadata": {
        "colab": {
          "base_uri": "https://localhost:8080/"
        },
        "id": "i_LwQTLFVlFE",
        "outputId": "3f0b3bce-b6e8-457b-e501-67bd4042d9af"
      },
      "outputs": [
        {
          "name": "stdout",
          "output_type": "stream",
          "text": [
            "tokenized text:\n",
            " ['คลัง', 'ขยาย', 'มาตรการ', 'ค่าน้ำ', 'ค่า', 'ไฟ', 'บัตร', 'คนจน']\n",
            "tokenized text:\n",
            " ['มาตรการ', 'บรรเทา', 'ภาระ', 'ค่า', 'ไฟฟ้า', 'ค่าน้ำ', 'ประปา', 'วัตถุประสงค์', 'บรรเทา', 'ภาระ', 'ค่า', 'จ่าย', 'สาธารณูปโภค', 'พื้น', 'ฐาน', 'ค่า', 'ไฟฟ้า', 'ค่าน้ำ', 'ประปา', 'บัตร', 'สวัสดิการ', 'รัฐ', 'บัตรฯ', 'เนื่อง', 'ครอบคลุม', 'บัตรฯ', 'ประโยชน์', 'มาตรการ', 'บรรเทา', 'ภาระ', 'ค่า', 'ไฟฟ้า', 'ค่าน้ำ', 'ประปา', 'มาตร', 'การฯ']\n",
            "tokenized text:\n",
            " ['เช็ก', 'เกณฑ์', 'ลด', 'ค่าน้ำ', 'ค่า', 'ไฟ', 'บัตร', 'คนจน', 'เผย', 'ช่อง', 'ทะเบียน']\n",
            "tokenized text:\n",
            " ['เช็', 'กก่อ', 'นพ', 'ลาด', 'โอกาส', 'เกณฑ์', 'บัตร', 'คนจน', 'ลด', 'ค่าน้ำ', 'ค่า', 'ไฟ', 'เดือน', 'ช่อง', 'ทะเบียน']\n"
          ]
        }
      ],
      "source": [
        "print('tokenized text:\\n',split_word(clean_text[0])) #ข้อความที่ต้องการตรวจสอบบน cofact\n",
        "print('tokenized text:\\n',split_word(clean_text[1])) #ข้อความสรุปใน cofact\n",
        "print('tokenized text:\\n',split_word(clean_text[2])) #หัวข่าวอ้างอิง\n",
        "print('tokenized text:\\n',split_word(clean_text[3])) #เนื้อหาข่าวอ้างอิง paragraph แรก"
      ]
    },
    {
      "cell_type": "code",
      "execution_count": 102,
      "metadata": {
        "id": "o4rWSS7rVlFE"
      },
      "outputs": [],
      "source": [
        "tokens_list = [split_word(txt) for txt in clean_text]"
      ]
    },
    {
      "cell_type": "code",
      "execution_count": 103,
      "metadata": {
        "colab": {
          "base_uri": "https://localhost:8080/"
        },
        "id": "MT4l8vVHVlFE",
        "outputId": "add3f7bf-166e-4f4a-dd61-640b8b9387ec"
      },
      "outputs": [
        {
          "data": {
            "text/plain": [
              "[['คลัง', 'ขยาย', 'มาตรการ', 'ค่าน้ำ', 'ค่า', 'ไฟ', 'บัตร', 'คนจน'],\n",
              " ['มาตรการ',\n",
              "  'บรรเทา',\n",
              "  'ภาระ',\n",
              "  'ค่า',\n",
              "  'ไฟฟ้า',\n",
              "  'ค่าน้ำ',\n",
              "  'ประปา',\n",
              "  'วัตถุประสงค์',\n",
              "  'บรรเทา',\n",
              "  'ภาระ',\n",
              "  'ค่า',\n",
              "  'จ่าย',\n",
              "  'สาธารณูปโภค',\n",
              "  'พื้น',\n",
              "  'ฐาน',\n",
              "  'ค่า',\n",
              "  'ไฟฟ้า',\n",
              "  'ค่าน้ำ',\n",
              "  'ประปา',\n",
              "  'บัตร',\n",
              "  'สวัสดิการ',\n",
              "  'รัฐ',\n",
              "  'บัตรฯ',\n",
              "  'เนื่อง',\n",
              "  'ครอบคลุม',\n",
              "  'บัตรฯ',\n",
              "  'ประโยชน์',\n",
              "  'มาตรการ',\n",
              "  'บรรเทา',\n",
              "  'ภาระ',\n",
              "  'ค่า',\n",
              "  'ไฟฟ้า',\n",
              "  'ค่าน้ำ',\n",
              "  'ประปา',\n",
              "  'มาตร',\n",
              "  'การฯ'],\n",
              " ['เช็ก',\n",
              "  'เกณฑ์',\n",
              "  'ลด',\n",
              "  'ค่าน้ำ',\n",
              "  'ค่า',\n",
              "  'ไฟ',\n",
              "  'บัตร',\n",
              "  'คนจน',\n",
              "  'เผย',\n",
              "  'ช่อง',\n",
              "  'ทะเบียน'],\n",
              " ['เช็',\n",
              "  'กก่อ',\n",
              "  'นพ',\n",
              "  'ลาด',\n",
              "  'โอกาส',\n",
              "  'เกณฑ์',\n",
              "  'บัตร',\n",
              "  'คนจน',\n",
              "  'ลด',\n",
              "  'ค่าน้ำ',\n",
              "  'ค่า',\n",
              "  'ไฟ',\n",
              "  'เดือน',\n",
              "  'ช่อง',\n",
              "  'ทะเบียน']]"
            ]
          },
          "execution_count": 103,
          "metadata": {},
          "output_type": "execute_result"
        }
      ],
      "source": [
        "tokens_list"
      ]
    },
    {
      "cell_type": "markdown",
      "metadata": {
        "id": "4TuKk5dYVlFE"
      },
      "source": [
        "**Step 3 + 4a: Bag of words + count word**"
      ]
    },
    {
      "cell_type": "code",
      "execution_count": 104,
      "metadata": {
        "id": "cqLHdI9AVlFF"
      },
      "outputs": [],
      "source": [
        "from sklearn.feature_extraction.text import CountVectorizer\n",
        "tokens_list_j = [','.join(tkn) for tkn in tokens_list]\n",
        "cvec = CountVectorizer(analyzer=lambda x:x.split(','))\n",
        "c_feat = cvec.fit_transform(tokens_list_j)"
      ]
    },
    {
      "cell_type": "code",
      "execution_count": 105,
      "metadata": {
        "colab": {
          "base_uri": "https://localhost:8080/"
        },
        "id": "14cuO3pjVlFF",
        "outputId": "836f5b00-4b0d-4949-83fa-13b4cfa1ce00"
      },
      "outputs": [
        {
          "data": {
            "text/plain": [
              "{'คลัง': 5,\n",
              " 'ขยาย': 2,\n",
              " 'มาตรการ': 21,\n",
              " 'ค่าน้ำ': 7,\n",
              " 'ค่า': 6,\n",
              " 'ไฟ': 35,\n",
              " 'บัตร': 14,\n",
              " 'คนจน': 3,\n",
              " 'บรรเทา': 13,\n",
              " 'ภาระ': 19,\n",
              " 'ไฟฟ้า': 36,\n",
              " 'ประปา': 16,\n",
              " 'วัตถุประสงค์': 25,\n",
              " 'จ่าย': 8,\n",
              " 'สาธารณูปโภค': 27,\n",
              " 'พื้น': 18,\n",
              " 'ฐาน': 10,\n",
              " 'สวัสดิการ': 26,\n",
              " 'รัฐ': 22,\n",
              " 'บัตรฯ': 15,\n",
              " 'เนื่อง': 32,\n",
              " 'ครอบคลุม': 4,\n",
              " 'ประโยชน์': 17,\n",
              " 'มาตร': 20,\n",
              " 'การฯ': 1,\n",
              " 'เช็ก': 30,\n",
              " 'เกณฑ์': 28,\n",
              " 'ลด': 23,\n",
              " 'เผย': 33,\n",
              " 'ช่อง': 9,\n",
              " 'ทะเบียน': 11,\n",
              " 'เช็': 29,\n",
              " 'กก่อ': 0,\n",
              " 'นพ': 12,\n",
              " 'ลาด': 24,\n",
              " 'โอกาส': 34,\n",
              " 'เดือน': 31}"
            ]
          },
          "execution_count": 105,
          "metadata": {},
          "output_type": "execute_result"
        }
      ],
      "source": [
        "cvec.vocabulary_"
      ]
    },
    {
      "cell_type": "code",
      "execution_count": 106,
      "metadata": {
        "colab": {
          "base_uri": "https://localhost:8080/"
        },
        "id": "tixplH22VlFF",
        "outputId": "574ed5a7-0692-460b-f4d3-263121031ba8"
      },
      "outputs": [
        {
          "data": {
            "text/plain": [
              "matrix([[0, 0, 1, 1, 0, 1, 1, 1, 0, 0, 0, 0, 0, 0, 1, 0, 0, 0, 0, 0, 0,\n",
              "         1, 0, 0, 0, 0, 0, 0, 0, 0, 0, 0, 0, 0, 0, 1, 0],\n",
              "        [0, 1, 0, 0, 1, 0, 4, 3, 1, 0, 1, 0, 0, 3, 1, 2, 3, 1, 1, 3, 1,\n",
              "         2, 1, 0, 0, 1, 1, 1, 0, 0, 0, 0, 1, 0, 0, 0, 3],\n",
              "        [0, 0, 0, 1, 0, 0, 1, 1, 0, 1, 0, 1, 0, 0, 1, 0, 0, 0, 0, 0, 0,\n",
              "         0, 0, 1, 0, 0, 0, 0, 1, 0, 1, 0, 0, 1, 0, 1, 0],\n",
              "        [1, 0, 0, 1, 0, 0, 1, 1, 0, 1, 0, 1, 1, 0, 1, 0, 0, 0, 0, 0, 0,\n",
              "         0, 0, 1, 1, 0, 0, 0, 1, 1, 0, 1, 0, 0, 1, 1, 0]], dtype=int64)"
            ]
          },
          "execution_count": 106,
          "metadata": {},
          "output_type": "execute_result"
        }
      ],
      "source": [
        "c_feat[:,:].todense()"
      ]
    },
    {
      "cell_type": "code",
      "execution_count": 107,
      "metadata": {
        "colab": {
          "base_uri": "https://localhost:8080/"
        },
        "id": "QxjZTw90VlFF",
        "outputId": "f7c1b411-5ff8-4eca-836e-1d29845fdc3f"
      },
      "outputs": [
        {
          "name": "stdout",
          "output_type": "stream",
          "text": [
            "[[0 0 1 1 0 1 1 1 0 0 0 0 0 0 1 0 0 0 0 0 0 1 0 0 0 0 0 0 0 0 0 0 0 0 0 1\n",
            "  0]\n",
            " [0 1 0 0 1 0 4 3 1 0 1 0 0 3 1 2 3 1 1 3 1 2 1 0 0 1 1 1 0 0 0 0 1 0 0 0\n",
            "  3]\n",
            " [0 0 0 1 0 0 1 1 0 1 0 1 0 0 1 0 0 0 0 0 0 0 0 1 0 0 0 0 1 0 1 0 0 1 0 1\n",
            "  0]\n",
            " [1 0 0 1 0 0 1 1 0 1 0 1 1 0 1 0 0 0 0 0 0 0 0 1 1 0 0 0 1 1 0 1 0 0 1 1\n",
            "  0]]\n"
          ]
        }
      ],
      "source": [
        "#first_news เป็น array ของข่าว โดย row ที่ 1 = ข่าวที่ต้องการตรวจสอบจาก cofact, row ที่ 2 = ข้อความสรุปใน cofact, row ที่ 3 = หัวข้อข่าวที่เชื่อถือได้ , row ที่ 4 = เนื้อหาข่าว paragraph แรกของข่าวที่เชื่อถือได้\n",
        "first_news = c_feat[:,:].todense()\n",
        "print(first_news) "
      ]
    },
    {
      "cell_type": "code",
      "execution_count": 108,
      "metadata": {
        "colab": {
          "base_uri": "https://localhost:8080/"
        },
        "id": "1CbpFg2cVlFF",
        "outputId": "09b6a734-012e-4bc5-ade4-e7bdf5405aae"
      },
      "outputs": [
        {
          "data": {
            "text/plain": [
              "37"
            ]
          },
          "execution_count": 108,
          "metadata": {},
          "output_type": "execute_result"
        }
      ],
      "source": [
        "first_news.shape[1]"
      ]
    },
    {
      "cell_type": "code",
      "execution_count": 109,
      "metadata": {
        "colab": {
          "base_uri": "https://localhost:8080/"
        },
        "id": "BrhgAxS_VlFF",
        "outputId": "a3ee321f-5a20-4854-fdf9-895cca3208c7"
      },
      "outputs": [
        {
          "name": "stdout",
          "output_type": "stream",
          "text": [
            "This is sum (upperpart) : 10\n",
            "This is lowerpart : 25.612496949731398\n"
          ]
        },
        {
          "data": {
            "text/plain": [
              "0.39043440472151514"
            ]
          },
          "execution_count": 109,
          "metadata": {},
          "output_type": "execute_result"
        }
      ],
      "source": [
        "find_cosine_similarity(first_news, 0, 1) #เทียบ ข้อความที่ต้องการตรวจสอบบน cofact กับ ข้อความสรุปใน cofact"
      ]
    },
    {
      "cell_type": "code",
      "execution_count": 110,
      "metadata": {
        "colab": {
          "base_uri": "https://localhost:8080/"
        },
        "id": "aTkOGi20VlFG",
        "outputId": "628b3010-002c-42da-e7d5-e1f2a6d7fb6e"
      },
      "outputs": [
        {
          "name": "stdout",
          "output_type": "stream",
          "text": [
            "This is sum (upperpart) : 5\n",
            "This is lowerpart : 9.38083151964686\n"
          ]
        },
        {
          "data": {
            "text/plain": [
              "0.5330017908890261"
            ]
          },
          "execution_count": 110,
          "metadata": {},
          "output_type": "execute_result"
        }
      ],
      "source": [
        "find_cosine_similarity(first_news, 0, 2)#เทียบ ข้อความที่ต้องการตรวจสอบบน cofact กับ หัวข้อข่าวที่เชื่อถือได้"
      ]
    },
    {
      "cell_type": "code",
      "execution_count": 111,
      "metadata": {
        "colab": {
          "base_uri": "https://localhost:8080/"
        },
        "id": "PJn2mMHRVlFG",
        "outputId": "7227be69-598c-464d-9a90-42cc17ff6653"
      },
      "outputs": [
        {
          "name": "stdout",
          "output_type": "stream",
          "text": [
            "This is sum (upperpart) : 5\n",
            "This is lowerpart : 10.954451150103324\n"
          ]
        },
        {
          "data": {
            "text/plain": [
              "0.45643546458763834"
            ]
          },
          "execution_count": 111,
          "metadata": {},
          "output_type": "execute_result"
        }
      ],
      "source": [
        "find_cosine_similarity(first_news, 0, 3)#เทียบ ข้อความที่ต้องการตรวจสอบบน cofact กับ เนื้อหาข่าว paragraph แรกของข่าวที่เชื่อถือได้"
      ]
    },
    {
      "cell_type": "code",
      "execution_count": null,
      "metadata": {
        "id": "APPopEjuacU_"
      },
      "outputs": [],
      "source": []
    },
    {
      "cell_type": "markdown",
      "metadata": {
        "id": "XGzrFrULaciN"
      },
      "source": [
        "# ข่าวที่ 10"
      ]
    },
    {
      "cell_type": "code",
      "execution_count": 112,
      "metadata": {
        "id": "0MMQBlIxaciN"
      },
      "outputs": [],
      "source": [
        "clean_text = ['''ช็อก! Bill Gates เรียกร้องให้ถอนวัคซีน Covid-19 ทั้งหมด \"วัคซีนอันตรายกว่าที่คิด\"โดย W. Gellesวอชิงตัน- (MaraviPost) - ในการประกาศที่น่าตกใจ Bill Gates มหาเศรษฐีผู้ร่วมก่อตั้ง Microsoft และกำลังสำคัญที่อยู่เบื้องหลังวัคซีน COVID-19 เรียกร้องให้มีการนำวัคซีนจากพันธุกรรม COVID-19 ทั้งหมดออกจากตลาดทันทีในการกล่าวสุนทรพจน์ทางโทรทัศน์ที่เจ็บปวดรวดร้าวบ่อยครั้ง 19 นาที เกตส์กล่าวว่า “เราทำผิดพลาดอย่างมหันต์ เราต้องการปกป้องผู้คนจากไวรัสอันตราย แต่กลับกลายเป็นว่าไวรัสมีอันตรายน้อยกว่าที่เราคิดไว้มาก และวัคซีนก็อันตรายเกินกว่าที่ใครจะจินตนาการได้”โดย W. Gelles“วัคซีนเหล่านี้—ไฟเซอร์, โมเดอร์นา, จอห์นสัน แอนด์ จอห์นสัน, แอสตร้าเซเนก้า—พวกมันกำลังฆ่าคนทั้งซ้ายและขวา—และพวกเขากำลังทำร้ายคนบางคนอย่างเลวร้ายมาก” เกตส์กล่าวต่อ โดยโบกมือขึ้นไปในอากาศเป็นครั้งคราวเพื่อให้ได้ผลลัพธ์ที่น่าทึ่ง“ข้อมูลของรัฐบาลเองแสดงให้เราเห็นว่านี่คือสิ่งที่กำลังเกิดขึ้น ระบบการรายงานของ CDC กำลังแสดงอะไร…ประมาณ 13,000 ผู้เสียชีวิตในสหรัฐอเมริกาและเหตุการณ์ไม่พึงประสงค์กว่าครึ่งล้าน เราทุกคนรู้ดีว่าระบบการรายงานเป็นเรื่องหลอกลวง“เราทราบดีว่า VAERS [ระบบการรายงานเหตุการณ์ไม่พึงประสงค์จากวัคซีนของศูนย์ควบคุมและป้องกันโรค] รวบรวมได้เพียงร้อยละหนึ่งของสิ่งที่เกิดขึ้น เรากำลังพูดถึงผู้เสียชีวิตจากวัคซีนโควิดมากกว่าล้านราย และผู้คนกว่า 60 ล้านคนที่มีผลข้างเคียงที่ไม่ดี”นี่ไม่ใช่สิ่งที่เราต้องการ สิ่งนี้ไม่เป็นที่ยอมรับ” นายเกทส์ยืนยันหุ้นในวอลล์สตรีทของบริษัทวัคซีนโควิดรายใหญ่ทั้งหมดร่วงลง 20% ถึง 30% เนื่องจากนายเกตส์ประกาศว่าเขาเข้าร่วมในคำร้องเร่งด่วนของพลเมืองที่ยื่นโดยองค์กรป้องกันสุขภาพเด็กของโรเบิร์ต เอฟ. เคนเนดี จูเนียร์ ที่เรียกร้องให้มีอาหารสหรัฐฯ และ สธ. ถอนวัคซีนโควิดทั้งหมดออกจากตลาดทันทีGates กล่าวต่อว่า “ผู้คนจำนวนมากที่รับวัคซีนเหล่านี้เสียชีวิต… หนึ่งวัน สองวัน ห้าวันหลังจากได้รับการฉีดวัคซีน คนอื่นๆ มีอาการอัมพาต ตาบอด ชัก หัวใจวาย ระบบภูมิคุ้มกันล้มเหลว ลิ่มเลือดอุดตัน สมองอักเสบ ปอดหรือไตถูกทำลาย การแท้งบุตร โรคภูมิต้านตนเอง ความล้มเหลวของระบบอวัยวะหลายส่วน ความเหนื่อยล้าถาวรอย่างถาวร และปัญหาร้ายแรงอื่นๆ อีกมากมาย“แน่นอน Media Mouthpieces ของเรา—ฉันหมายถึงสื่อกระแสหลัก ละเลยโศกนาฏกรรมเหล่านี้ทั้งหมดว่าเป็น 'แค่เรื่องบังเอิญ'”“เหตุผลที่พวกเขาพูดอย่างนั้น” เกทส์อธิบาย “เป็นเพราะสิ่งที่ฉันทำที่งาน 201 ซึ่งเป็นการจำลองสถานการณ์แพร่ระบาดของไวรัสโคโรน่าที่นิวยอร์กในเดือนตุลาคม 2019 เพียงไม่กี่สัปดาห์ก่อนที่เราจะประกาศการแพร่ระบาดที่เกิดขึ้นจริง ฉันได้รับหนังสือพิมพ์ ช่องทีวี และสถานีวิทยุรายใหญ่ทั้งหมดเพื่อตกลงที่จะปฏิบัติตามคำบรรยายอย่างเป็นทางการ—'วัคซีนมีความปลอดภัยและมีประสิทธิภาพ' และเพื่อเซ็นเซอร์ใครก็ตามที่ตั้งคำถามเกี่ยวกับ BS นี้“ดังนั้น สาธารณชนจึงไม่เคยได้ยินหลักฐานจากแพทย์และนักวิจัยทางการแพทย์ที่มีชื่อเสียงหลายร้อยคนที่เตือนว่าวัคซีนมีอันตรายและมักเป็นอันตรายถึงชีวิต”“นั่นเป็นความผิดพลาดครั้งใหญ่ของฉัน” เกทส์กล่าว ดูเหนื่อยและบางครั้งก็มีน้ำตา “เราไม่ควรทำอย่างนั้น ประชาชนมีสิทธิทุกอย่างที่จะได้รับข้อมูลข่าวสารที่ดี เพื่อรับข้อเท็จจริงทั้งหมดเพื่อที่พวกเขาจะได้ตัดสินใจอย่างมีเหตุมีผล”เปลี่ยนหัวข้อราวกับว่าต้องการแสดงความเห็นอกเห็นใจ มิสเตอร์เกทส์วางใจว่า: “ฉันผ่านช่วงเวลาที่ยากลำบากและค้นหาจิตวิญญาณมากมายตั้งแต่เมลินดาทิ้งฉัน การหย่าร้างครั้งนี้ทำให้ฉันต้องมองตัวเองให้ดี ฉันไม่ต้องการที่จะถูกจดจำในฐานะสัตว์ประหลาดที่ฆ่าคนนับล้านด้วยวัคซีนที่อันตรายถึงตาย ฉันไม่ใช่สัตว์ประหลาด ฉันไม่ใช่ฆาตกร ฉันไม่ต้องการให้ครอบครัว เพื่อน และบริษัทจำได้ว่าฉันเป็นนักฆ่าหมู่\"บางคนเรียกฉันว่าเป็นนักสังคมสงเคราะห์หรือแม้แต่โรคจิตเภทเพราะแผนการณ์ของฉันในการช่วยเหลือมนุษยชาติ - เช่นการลดภาวะโลกร้อนด้วยการพ่นฝุ่นสู่บรรยากาศชั้นบนหรือปล่อยยุงดัดแปลงพันธุกรรมหลายล้านตัวเพื่อต่อสู้กับไข้เลือดออกและไวรัสซิกา''', '''The quint รายงานว่า ข่าวปลอมนี้ถูกแชร์ไปหลายสื่อโซเชียล ทั้งเฟซบุ๊ก ทวิตเตอร์ รวมทั้ง WhatsApp เพราะผู้ใช้เชื่อว่าเป็นความจริง และก้อปปี้เนื้อหาจากข่าวปลอมนี้ไปแชร์ ทั้งๆที่เกตส์เป็นหัวหอกในการวางแผนวัคซีนโควิด เมื่อพบว่ามีการแชร์ข่าวปลอมนี้ออกไป The quint ได้ เสริช์คีย์เวิร์ด จากกูเกิลเพื่อค้นหา เว็บไซต์ Daily Expose ซึ่งได้พบว่ามีบทความหลายชิ้นในเว็บไซต์ที่ตรวจสอบข้อเท็จจริงอย่าง Full Fact ได้หักล้างบทความหลายชิ้นที่ Daily Expose นำเสนอและเมื่อเช็คลิ้งค์ของข่าวนี้พบว่ามีการปรับพาดหัวข่าวใหม่ ว่าเป็นรายงานเชิงเสียดสี''', '''เช็คก่อนแชร์ ข่าวปลอม”บิล เกตส์เรียกร้องให้ถอนวัคซีนโควิด”''','''การระบาดของไวรัสโควิด-19 ส่งผลให้ประชาชนตื่นตัวและหาข้อมูลความรู้เกี่ยวกับไวรัส การฉีดวัคซีน เพื่อเป็นแนวทางการดูแลตัวและป้องกันโรคมากขึ้น ซึ่งในขณะเดียวกันก็มีผลให้เกิดการสร้างข้อมูลปลอม การสร้างข่าวเทียมขึ้นมามากมาย มีประชาชนบางกลุ่มหลงเชื่อจนส่งต่อและแพร่กระจายในโลกโซเชียลอย่างรวดเร็วไม่แพ้การกระจายของไวรัสเลยทีเดียว''']"
      ]
    },
    {
      "cell_type": "markdown",
      "metadata": {
        "id": "oiNPqnu4aciN"
      },
      "source": [
        "**Step 2: Tokenize**"
      ]
    },
    {
      "cell_type": "code",
      "execution_count": 113,
      "metadata": {
        "colab": {
          "base_uri": "https://localhost:8080/"
        },
        "id": "X4RAY8_WaciN",
        "outputId": "736f9b32-08ba-4c58-cb5b-00db120db377"
      },
      "outputs": [
        {
          "name": "stdout",
          "output_type": "stream",
          "text": [
            "tokenized text:\n",
            " ['ช็อก', 'Bill', 'Gates', 'ร้อง', 'ถอน', 'วัคซีน', 'Covid', 'วัคซีน', 'อันตราย', 'W', 'Gelles', 'วอชิงตัน', 'MaraviPost', 'ประกาศ', 'ตกใจ', 'Bill', 'Gates', 'มหา', 'เศรษฐี', 'ก่อ', 'Microsoft', 'เบื้อง', 'วัคซีน', 'COVID', 'ร้อง', 'การนำ', 'วัคซีน', 'พันธุกรรม', 'COVID', 'ตลาด', 'การก', 'ล่า', 'วสุ', 'นท', 'รพ', 'จน์', 'โทรทัศน์', 'เจ็บ', 'ปวด', 'ร้าว', 'นาที', 'เกตส์', 'ทำ', 'พลาด', 'มหันต์', 'ต้องการ', 'ปกป้อง', 'ผู้คน', 'ไวรัส', 'อันตราย', 'กลาย', 'ไวรัส', 'อันตราย', 'วัคซีน', 'อันตราย', 'จินตนาการ', 'W', 'Gelles', 'วัคซีน', '—', 'ไฟ', 'เซอร์', 'โม', 'เด', 'อร์', 'นา', 'จอห์น', 'สัน', 'แอนด์', 'จอห์น', 'สัน', 'แอ', 'สต', 'ร้า', 'เซ', 'เนก้า', '—', 'ฆ่า', 'คน', 'ซ้าย', 'ขวา', '—', 'ทำร้าย', 'คน', 'คน', 'เลว', 'ร้าย', 'เกตส์', 'โบกมือ', 'อากาศ', 'ผลลัพธ์', 'ทึ่ง', 'ข้อมูล', 'รัฐบาล', 'ระบบ', 'รายงาน', 'CDC', '…', '13,000', 'ชีวิต', 'สหรัฐอเมริกา', 'เหตุการณ์', 'ประสงค์', 'ครึ่ง', 'ล้าน', 'คน', 'รู้', 'ดี', 'ระบบ', 'รายงาน', 'เรื่อง', 'หลอก', 'ลวง', 'ทราบ', 'ดี', 'VAERS', 'ระบบ', 'รายงาน', 'เหตุการณ์', 'ประสงค์', 'วัคซีน', 'ศูนย์', 'ควบคุม', 'ป้องกัน', 'โรค', 'รวบรวม', 'ร้อย', 'ชีวิต', 'วัคซีน', 'โค', 'วิด', 'ล้าน', 'ผู้คน', 'ล้าน', 'คน', 'เคียง', 'ดี', 'ต้องการ', 'เก', 'ทส์', 'หุ้น', 'วอลล์สตรีท', 'บริษัท', 'วัคซีน', 'โค', 'วิด', 'ร่วง', 'เกตส์', 'ประกาศ', 'คำร้อง', 'เร่ง', 'ด่วน', 'พลเมือง', 'ยื่น', 'องค์กร', 'ป้องกัน', 'สุขภาพ', 'เด็ก', 'โร', 'เบิร์ต', 'เอฟ', 'เคน', 'เน', 'ดี', 'จู', 'เนียร์', 'ร้อง', 'อาหาร', 'สหรัฐฯ', 'สธ', 'ถอน', 'วัคซีน', 'โค', 'วิด', 'ตลาด', 'Gates', 'ต่อว่า', 'ผู้คน', 'จำนวน', 'วัคซีน', 'ชีวิต', '…', 'สอง', 'ห้า', 'ฉีด', 'วัคซีน', 'คน', 'อาการ', 'อัมพาต', 'ตาบอด', 'ชัก', 'หัวใจ', 'วาย', 'ระบบ', 'ภูมิคุ้มกัน', 'ล้ม', 'เหลว', 'ลิ่ม', 'เลือด', 'อุด', 'ตัน', 'สมอง', 'อักเสบ', 'ปอด', 'ไต', 'ทำลาย', 'แท้ง', 'บุตร', 'โรค', 'ภูมิ', 'ต้าน', 'ล้ม', 'เหลว', 'ระบบ', 'อวัยวะ', 'เหนื่อย', 'ล้า', 'ถาวร', 'ถาวร', 'ปัญหา', 'ร้าย', 'แร', 'งอื่นๆ', 'แน่นอน', 'Media', 'Mouthpieces', '—', 'หมาย', 'สื่อ', 'กระแส', 'หลัก', 'ละเลย', 'โศกนาฏกรรม', 'เรื่อง', 'บังเอิญ', 'เก', 'ทส์', 'อธิบาย', 'ทำ', 'งาน', 'จำลอง', 'สถานการณ์', 'แพร่', 'ระบาด', 'ไวรัส', 'โค', 'โร', 'นิวยอร์ก', 'เดือน', 'ตุลาคม', 'กี่', 'สัปดาห์', 'ประกาศ', 'แพร่', 'ระบาด', 'หนังสือพิมพ์', 'ช่อง', 'ทีวี', 'สถานี', 'วิทยุ', 'ตกลง', 'บรรยาย', 'ทางการ', '—', 'วัคซีน', 'ปลอดภัย', 'ประสิทธิภาพ', 'เซ็นเซอร์', 'คำถาม', 'เกี่ยว', 'BS', 'สาธารณชน', 'ได้ยิน', 'หลัก', 'ฐาน', 'แพทย์', 'วิจัย', 'ทางการ', 'แพทย์', 'มีชื่อ', 'เสียง', 'ร้อย', 'คน', 'เตือน', 'วัคซีน', 'อันตราย', 'อันตราย', 'ชีวิต', 'พลาด', 'เก', 'ทส์', 'ดู', 'เหนื่อย', 'น้ำตา', 'ทำ', 'ประชาชน', 'สิทธิ', 'ข้อมูล', 'ข่าวสาร', 'ดี', 'ข้อ', 'เท็จ', 'ตัดสิน', 'ใจ', 'หัวข้อ', 'ราวกับ', 'ต้องการ', 'อก', 'เห็นใจ', 'มิส', 'เต', 'อร์', 'เก', 'ทส์', 'วางใจ', 'เวลา', 'ลำบาก', 'ค้นหา', 'จิต', 'วิญญาณ', 'เม', 'ลิน', 'ดา', 'ทิ้ง', 'หย่า', 'ร้าง', 'ตัว', 'ดี', 'ต้องการ', 'จดจำ', 'ฐานะ', 'สัตว์', 'ประหลาด', 'ฆ่า', 'คน', 'ล้าน', 'วัคซีน', 'อันตราย', 'ตาย', 'สัตว์', 'ประหลาด', 'ฆาตกร', 'ต้องการ', 'ครอบครัว', 'เพื่อน', 'บริษัท', 'ฆ่า', 'หมู่', 'คน', 'สังคมสงเคราะห์', 'โรคจิตเภท', 'แผน', 'การณ์', 'มนุษยชาติ', 'ลด', 'ภาวะ', 'โลก', 'ร้อน', 'พ่น', 'ฝุ่น', 'บรรยากาศ', 'ชั้น', 'ปล่อย', 'ยุง', 'ดัดแปลง', 'พันธุกรรม', 'ล้าน', 'ตัว', 'ต่อสู้', 'ไข้', 'เลือด', 'ไวรัส', 'ซิ', 'กา']\n",
            "tokenized text:\n",
            " ['The', 'quint', 'รายงาน', 'ข่าว', 'ปลอม', 'แชร์', 'สื่อ', 'โซ', 'เชีย', 'ล', 'เฟ', 'ซบุ๊ก', 'ทวิ', 'ต', 'เตอร์', 'WhatsApp', 'ก้อ', 'ป', 'ปี้', 'เนื้อหา', 'ข่าว', 'ปลอม', 'แชร์', 'เกตส์', 'หัว', 'หอก', 'วางแผน', 'วัคซีน', 'โค', 'วิด', 'แชร์', 'ข่าว', 'ปลอม', 'The', 'quint', 'เส', 'ริช์', 'คีย์เวิร์ด', 'เกิล', 'ค้นหา', 'เว็บไซต์', 'Daily', 'Expose', 'บทความ', 'ชิ้น', 'เว็บไซต์', 'ตรวจ', 'สอบ', 'ข้อ', 'เท็จ', 'Full', 'Fact', 'หัก', 'ล้าง', 'บทความ', 'ชิ้น', 'Daily', 'Expose', 'เสนอ', 'เช็ค', 'ลิ้งค์', 'ข่าว', 'พาด', 'หัว', 'ข่าว', 'รายงาน', 'เชิง', 'เสียดสี']\n",
            "tokenized text:\n",
            " ['เช็ค', 'แชร์', 'ข่าว', 'ปลอม', 'บิล', 'เกตส์', 'ร้อง', 'ถอน', 'วัคซีน', 'โค', 'วิด']\n",
            "tokenized text:\n",
            " ['ระบาด', 'ไวรัส', 'โค', 'วิด', 'ประชาชน', 'ตื่น', 'ตัว', 'หา', 'ข้อมูล', 'รู้', 'เกี่ยว', 'ไวรัส', 'ฉีด', 'วัคซีน', 'แนวทาง', 'ดูแล', 'ตัว', 'ป้องกัน', 'โรค', 'สร้าง', 'ข้อมูล', 'ปลอม', 'สร้าง', 'ข่าว', 'เทียม', 'ประชาชน', 'หลง', 'แพร่', 'กระจาย', 'โลก', 'โซ', 'เชีย', 'ลอย่', 'าง', 'แพ้', 'การก', 'ระ', 'จาย', 'ไวรัส']\n"
          ]
        }
      ],
      "source": [
        "print('tokenized text:\\n',split_word(clean_text[0])) #ข้อความที่ต้องการตรวจสอบบน cofact\n",
        "print('tokenized text:\\n',split_word(clean_text[1])) #ข้อความสรุปใน cofact\n",
        "print('tokenized text:\\n',split_word(clean_text[2])) #หัวข่าวอ้างอิง\n",
        "print('tokenized text:\\n',split_word(clean_text[3])) #เนื้อหาข่าวอ้างอิง paragraph แรก"
      ]
    },
    {
      "cell_type": "code",
      "execution_count": 114,
      "metadata": {
        "id": "5NUWnWplaciO"
      },
      "outputs": [],
      "source": [
        "tokens_list = [split_word(txt) for txt in clean_text]"
      ]
    },
    {
      "cell_type": "code",
      "execution_count": 115,
      "metadata": {
        "colab": {
          "base_uri": "https://localhost:8080/"
        },
        "id": "3G2Q7TtZaciO",
        "outputId": "3ac9ab28-7347-4f6f-e732-3aeba3afce94"
      },
      "outputs": [
        {
          "data": {
            "text/plain": [
              "[['ช็อก',\n",
              "  'Bill',\n",
              "  'Gates',\n",
              "  'ร้อง',\n",
              "  'ถอน',\n",
              "  'วัคซีน',\n",
              "  'Covid',\n",
              "  'วัคซีน',\n",
              "  'อันตราย',\n",
              "  'W',\n",
              "  'Gelles',\n",
              "  'วอชิงตัน',\n",
              "  'MaraviPost',\n",
              "  'ประกาศ',\n",
              "  'ตกใจ',\n",
              "  'Bill',\n",
              "  'Gates',\n",
              "  'มหา',\n",
              "  'เศรษฐี',\n",
              "  'ก่อ',\n",
              "  'Microsoft',\n",
              "  'เบื้อง',\n",
              "  'วัคซีน',\n",
              "  'COVID',\n",
              "  'ร้อง',\n",
              "  'การนำ',\n",
              "  'วัคซีน',\n",
              "  'พันธุกรรม',\n",
              "  'COVID',\n",
              "  'ตลาด',\n",
              "  'การก',\n",
              "  'ล่า',\n",
              "  'วสุ',\n",
              "  'นท',\n",
              "  'รพ',\n",
              "  'จน์',\n",
              "  'โทรทัศน์',\n",
              "  'เจ็บ',\n",
              "  'ปวด',\n",
              "  'ร้าว',\n",
              "  'นาที',\n",
              "  'เกตส์',\n",
              "  'ทำ',\n",
              "  'พลาด',\n",
              "  'มหันต์',\n",
              "  'ต้องการ',\n",
              "  'ปกป้อง',\n",
              "  'ผู้คน',\n",
              "  'ไวรัส',\n",
              "  'อันตราย',\n",
              "  'กลาย',\n",
              "  'ไวรัส',\n",
              "  'อันตราย',\n",
              "  'วัคซีน',\n",
              "  'อันตราย',\n",
              "  'จินตนาการ',\n",
              "  'W',\n",
              "  'Gelles',\n",
              "  'วัคซีน',\n",
              "  '—',\n",
              "  'ไฟ',\n",
              "  'เซอร์',\n",
              "  'โม',\n",
              "  'เด',\n",
              "  'อร์',\n",
              "  'นา',\n",
              "  'จอห์น',\n",
              "  'สัน',\n",
              "  'แอนด์',\n",
              "  'จอห์น',\n",
              "  'สัน',\n",
              "  'แอ',\n",
              "  'สต',\n",
              "  'ร้า',\n",
              "  'เซ',\n",
              "  'เนก้า',\n",
              "  '—',\n",
              "  'ฆ่า',\n",
              "  'คน',\n",
              "  'ซ้าย',\n",
              "  'ขวา',\n",
              "  '—',\n",
              "  'ทำร้าย',\n",
              "  'คน',\n",
              "  'คน',\n",
              "  'เลว',\n",
              "  'ร้าย',\n",
              "  'เกตส์',\n",
              "  'โบกมือ',\n",
              "  'อากาศ',\n",
              "  'ผลลัพธ์',\n",
              "  'ทึ่ง',\n",
              "  'ข้อมูล',\n",
              "  'รัฐบาล',\n",
              "  'ระบบ',\n",
              "  'รายงาน',\n",
              "  'CDC',\n",
              "  '…',\n",
              "  '13,000',\n",
              "  'ชีวิต',\n",
              "  'สหรัฐอเมริกา',\n",
              "  'เหตุการณ์',\n",
              "  'ประสงค์',\n",
              "  'ครึ่ง',\n",
              "  'ล้าน',\n",
              "  'คน',\n",
              "  'รู้',\n",
              "  'ดี',\n",
              "  'ระบบ',\n",
              "  'รายงาน',\n",
              "  'เรื่อง',\n",
              "  'หลอก',\n",
              "  'ลวง',\n",
              "  'ทราบ',\n",
              "  'ดี',\n",
              "  'VAERS',\n",
              "  'ระบบ',\n",
              "  'รายงาน',\n",
              "  'เหตุการณ์',\n",
              "  'ประสงค์',\n",
              "  'วัคซีน',\n",
              "  'ศูนย์',\n",
              "  'ควบคุม',\n",
              "  'ป้องกัน',\n",
              "  'โรค',\n",
              "  'รวบรวม',\n",
              "  'ร้อย',\n",
              "  'ชีวิต',\n",
              "  'วัคซีน',\n",
              "  'โค',\n",
              "  'วิด',\n",
              "  'ล้าน',\n",
              "  'ผู้คน',\n",
              "  'ล้าน',\n",
              "  'คน',\n",
              "  'เคียง',\n",
              "  'ดี',\n",
              "  'ต้องการ',\n",
              "  'เก',\n",
              "  'ทส์',\n",
              "  'หุ้น',\n",
              "  'วอลล์สตรีท',\n",
              "  'บริษัท',\n",
              "  'วัคซีน',\n",
              "  'โค',\n",
              "  'วิด',\n",
              "  'ร่วง',\n",
              "  'เกตส์',\n",
              "  'ประกาศ',\n",
              "  'คำร้อง',\n",
              "  'เร่ง',\n",
              "  'ด่วน',\n",
              "  'พลเมือง',\n",
              "  'ยื่น',\n",
              "  'องค์กร',\n",
              "  'ป้องกัน',\n",
              "  'สุขภาพ',\n",
              "  'เด็ก',\n",
              "  'โร',\n",
              "  'เบิร์ต',\n",
              "  'เอฟ',\n",
              "  'เคน',\n",
              "  'เน',\n",
              "  'ดี',\n",
              "  'จู',\n",
              "  'เนียร์',\n",
              "  'ร้อง',\n",
              "  'อาหาร',\n",
              "  'สหรัฐฯ',\n",
              "  'สธ',\n",
              "  'ถอน',\n",
              "  'วัคซีน',\n",
              "  'โค',\n",
              "  'วิด',\n",
              "  'ตลาด',\n",
              "  'Gates',\n",
              "  'ต่อว่า',\n",
              "  'ผู้คน',\n",
              "  'จำนวน',\n",
              "  'วัคซีน',\n",
              "  'ชีวิต',\n",
              "  '…',\n",
              "  'สอง',\n",
              "  'ห้า',\n",
              "  'ฉีด',\n",
              "  'วัคซีน',\n",
              "  'คน',\n",
              "  'อาการ',\n",
              "  'อัมพาต',\n",
              "  'ตาบอด',\n",
              "  'ชัก',\n",
              "  'หัวใจ',\n",
              "  'วาย',\n",
              "  'ระบบ',\n",
              "  'ภูมิคุ้มกัน',\n",
              "  'ล้ม',\n",
              "  'เหลว',\n",
              "  'ลิ่ม',\n",
              "  'เลือด',\n",
              "  'อุด',\n",
              "  'ตัน',\n",
              "  'สมอง',\n",
              "  'อักเสบ',\n",
              "  'ปอด',\n",
              "  'ไต',\n",
              "  'ทำลาย',\n",
              "  'แท้ง',\n",
              "  'บุตร',\n",
              "  'โรค',\n",
              "  'ภูมิ',\n",
              "  'ต้าน',\n",
              "  'ล้ม',\n",
              "  'เหลว',\n",
              "  'ระบบ',\n",
              "  'อวัยวะ',\n",
              "  'เหนื่อย',\n",
              "  'ล้า',\n",
              "  'ถาวร',\n",
              "  'ถาวร',\n",
              "  'ปัญหา',\n",
              "  'ร้าย',\n",
              "  'แร',\n",
              "  'งอื่นๆ',\n",
              "  'แน่นอน',\n",
              "  'Media',\n",
              "  'Mouthpieces',\n",
              "  '—',\n",
              "  'หมาย',\n",
              "  'สื่อ',\n",
              "  'กระแส',\n",
              "  'หลัก',\n",
              "  'ละเลย',\n",
              "  'โศกนาฏกรรม',\n",
              "  'เรื่อง',\n",
              "  'บังเอิญ',\n",
              "  'เก',\n",
              "  'ทส์',\n",
              "  'อธิบาย',\n",
              "  'ทำ',\n",
              "  'งาน',\n",
              "  'จำลอง',\n",
              "  'สถานการณ์',\n",
              "  'แพร่',\n",
              "  'ระบาด',\n",
              "  'ไวรัส',\n",
              "  'โค',\n",
              "  'โร',\n",
              "  'นิวยอร์ก',\n",
              "  'เดือน',\n",
              "  'ตุลาคม',\n",
              "  'กี่',\n",
              "  'สัปดาห์',\n",
              "  'ประกาศ',\n",
              "  'แพร่',\n",
              "  'ระบาด',\n",
              "  'หนังสือพิมพ์',\n",
              "  'ช่อง',\n",
              "  'ทีวี',\n",
              "  'สถานี',\n",
              "  'วิทยุ',\n",
              "  'ตกลง',\n",
              "  'บรรยาย',\n",
              "  'ทางการ',\n",
              "  '—',\n",
              "  'วัคซีน',\n",
              "  'ปลอดภัย',\n",
              "  'ประสิทธิภาพ',\n",
              "  'เซ็นเซอร์',\n",
              "  'คำถาม',\n",
              "  'เกี่ยว',\n",
              "  'BS',\n",
              "  'สาธารณชน',\n",
              "  'ได้ยิน',\n",
              "  'หลัก',\n",
              "  'ฐาน',\n",
              "  'แพทย์',\n",
              "  'วิจัย',\n",
              "  'ทางการ',\n",
              "  'แพทย์',\n",
              "  'มีชื่อ',\n",
              "  'เสียง',\n",
              "  'ร้อย',\n",
              "  'คน',\n",
              "  'เตือน',\n",
              "  'วัคซีน',\n",
              "  'อันตราย',\n",
              "  'อันตราย',\n",
              "  'ชีวิต',\n",
              "  'พลาด',\n",
              "  'เก',\n",
              "  'ทส์',\n",
              "  'ดู',\n",
              "  'เหนื่อย',\n",
              "  'น้ำตา',\n",
              "  'ทำ',\n",
              "  'ประชาชน',\n",
              "  'สิทธิ',\n",
              "  'ข้อมูล',\n",
              "  'ข่าวสาร',\n",
              "  'ดี',\n",
              "  'ข้อ',\n",
              "  'เท็จ',\n",
              "  'ตัดสิน',\n",
              "  'ใจ',\n",
              "  'หัวข้อ',\n",
              "  'ราวกับ',\n",
              "  'ต้องการ',\n",
              "  'อก',\n",
              "  'เห็นใจ',\n",
              "  'มิส',\n",
              "  'เต',\n",
              "  'อร์',\n",
              "  'เก',\n",
              "  'ทส์',\n",
              "  'วางใจ',\n",
              "  'เวลา',\n",
              "  'ลำบาก',\n",
              "  'ค้นหา',\n",
              "  'จิต',\n",
              "  'วิญญาณ',\n",
              "  'เม',\n",
              "  'ลิน',\n",
              "  'ดา',\n",
              "  'ทิ้ง',\n",
              "  'หย่า',\n",
              "  'ร้าง',\n",
              "  'ตัว',\n",
              "  'ดี',\n",
              "  'ต้องการ',\n",
              "  'จดจำ',\n",
              "  'ฐานะ',\n",
              "  'สัตว์',\n",
              "  'ประหลาด',\n",
              "  'ฆ่า',\n",
              "  'คน',\n",
              "  'ล้าน',\n",
              "  'วัคซีน',\n",
              "  'อันตราย',\n",
              "  'ตาย',\n",
              "  'สัตว์',\n",
              "  'ประหลาด',\n",
              "  'ฆาตกร',\n",
              "  'ต้องการ',\n",
              "  'ครอบครัว',\n",
              "  'เพื่อน',\n",
              "  'บริษัท',\n",
              "  'ฆ่า',\n",
              "  'หมู่',\n",
              "  'คน',\n",
              "  'สังคมสงเคราะห์',\n",
              "  'โรคจิตเภท',\n",
              "  'แผน',\n",
              "  'การณ์',\n",
              "  'มนุษยชาติ',\n",
              "  'ลด',\n",
              "  'ภาวะ',\n",
              "  'โลก',\n",
              "  'ร้อน',\n",
              "  'พ่น',\n",
              "  'ฝุ่น',\n",
              "  'บรรยากาศ',\n",
              "  'ชั้น',\n",
              "  'ปล่อย',\n",
              "  'ยุง',\n",
              "  'ดัดแปลง',\n",
              "  'พันธุกรรม',\n",
              "  'ล้าน',\n",
              "  'ตัว',\n",
              "  'ต่อสู้',\n",
              "  'ไข้',\n",
              "  'เลือด',\n",
              "  'ไวรัส',\n",
              "  'ซิ',\n",
              "  'กา'],\n",
              " ['The',\n",
              "  'quint',\n",
              "  'รายงาน',\n",
              "  'ข่าว',\n",
              "  'ปลอม',\n",
              "  'แชร์',\n",
              "  'สื่อ',\n",
              "  'โซ',\n",
              "  'เชีย',\n",
              "  'ล',\n",
              "  'เฟ',\n",
              "  'ซบุ๊ก',\n",
              "  'ทวิ',\n",
              "  'ต',\n",
              "  'เตอร์',\n",
              "  'WhatsApp',\n",
              "  'ก้อ',\n",
              "  'ป',\n",
              "  'ปี้',\n",
              "  'เนื้อหา',\n",
              "  'ข่าว',\n",
              "  'ปลอม',\n",
              "  'แชร์',\n",
              "  'เกตส์',\n",
              "  'หัว',\n",
              "  'หอก',\n",
              "  'วางแผน',\n",
              "  'วัคซีน',\n",
              "  'โค',\n",
              "  'วิด',\n",
              "  'แชร์',\n",
              "  'ข่าว',\n",
              "  'ปลอม',\n",
              "  'The',\n",
              "  'quint',\n",
              "  'เส',\n",
              "  'ริช์',\n",
              "  'คีย์เวิร์ด',\n",
              "  'เกิล',\n",
              "  'ค้นหา',\n",
              "  'เว็บไซต์',\n",
              "  'Daily',\n",
              "  'Expose',\n",
              "  'บทความ',\n",
              "  'ชิ้น',\n",
              "  'เว็บไซต์',\n",
              "  'ตรวจ',\n",
              "  'สอบ',\n",
              "  'ข้อ',\n",
              "  'เท็จ',\n",
              "  'Full',\n",
              "  'Fact',\n",
              "  'หัก',\n",
              "  'ล้าง',\n",
              "  'บทความ',\n",
              "  'ชิ้น',\n",
              "  'Daily',\n",
              "  'Expose',\n",
              "  'เสนอ',\n",
              "  'เช็ค',\n",
              "  'ลิ้งค์',\n",
              "  'ข่าว',\n",
              "  'พาด',\n",
              "  'หัว',\n",
              "  'ข่าว',\n",
              "  'รายงาน',\n",
              "  'เชิง',\n",
              "  'เสียดสี'],\n",
              " ['เช็ค',\n",
              "  'แชร์',\n",
              "  'ข่าว',\n",
              "  'ปลอม',\n",
              "  'บิล',\n",
              "  'เกตส์',\n",
              "  'ร้อง',\n",
              "  'ถอน',\n",
              "  'วัคซีน',\n",
              "  'โค',\n",
              "  'วิด'],\n",
              " ['ระบาด',\n",
              "  'ไวรัส',\n",
              "  'โค',\n",
              "  'วิด',\n",
              "  'ประชาชน',\n",
              "  'ตื่น',\n",
              "  'ตัว',\n",
              "  'หา',\n",
              "  'ข้อมูล',\n",
              "  'รู้',\n",
              "  'เกี่ยว',\n",
              "  'ไวรัส',\n",
              "  'ฉีด',\n",
              "  'วัคซีน',\n",
              "  'แนวทาง',\n",
              "  'ดูแล',\n",
              "  'ตัว',\n",
              "  'ป้องกัน',\n",
              "  'โรค',\n",
              "  'สร้าง',\n",
              "  'ข้อมูล',\n",
              "  'ปลอม',\n",
              "  'สร้าง',\n",
              "  'ข่าว',\n",
              "  'เทียม',\n",
              "  'ประชาชน',\n",
              "  'หลง',\n",
              "  'แพร่',\n",
              "  'กระจาย',\n",
              "  'โลก',\n",
              "  'โซ',\n",
              "  'เชีย',\n",
              "  'ลอย่',\n",
              "  'าง',\n",
              "  'แพ้',\n",
              "  'การก',\n",
              "  'ระ',\n",
              "  'จาย',\n",
              "  'ไวรัส']]"
            ]
          },
          "execution_count": 115,
          "metadata": {},
          "output_type": "execute_result"
        }
      ],
      "source": [
        "tokens_list"
      ]
    },
    {
      "cell_type": "markdown",
      "metadata": {
        "id": "ClTUiKyXaciO"
      },
      "source": [
        "**Step 3 + 4a: Bag of words + count word**"
      ]
    },
    {
      "cell_type": "code",
      "execution_count": 116,
      "metadata": {
        "id": "BCguibidaciO"
      },
      "outputs": [],
      "source": [
        "from sklearn.feature_extraction.text import CountVectorizer\n",
        "tokens_list_j = [','.join(tkn) for tkn in tokens_list]\n",
        "cvec = CountVectorizer(analyzer=lambda x:x.split(','))\n",
        "c_feat = cvec.fit_transform(tokens_list_j)"
      ]
    },
    {
      "cell_type": "code",
      "execution_count": 117,
      "metadata": {
        "colab": {
          "base_uri": "https://localhost:8080/"
        },
        "id": "R9Jr8uNcaciO",
        "outputId": "323a2467-09e6-46cf-a957-54ed3712810f"
      },
      "outputs": [
        {
          "data": {
            "text/plain": [
              "{'ช็อก': 63,\n",
              " 'Bill': 3,\n",
              " 'Gates': 11,\n",
              " 'ร้อง': 160,\n",
              " 'ถอน': 92,\n",
              " 'วัคซีน': 184,\n",
              " 'Covid': 6,\n",
              " 'อันตราย': 232,\n",
              " 'W': 19,\n",
              " 'Gelles': 12,\n",
              " 'วอชิงตัน': 182,\n",
              " 'MaraviPost': 13,\n",
              " 'ประกาศ': 118,\n",
              " 'ตกใจ': 78,\n",
              " 'มหา': 144,\n",
              " 'เศรษฐี': 275,\n",
              " 'ก่อ': 30,\n",
              " 'Microsoft': 15,\n",
              " 'เบื้อง': 265,\n",
              " 'COVID': 5,\n",
              " 'การนำ': 28,\n",
              " 'พันธุกรรม': 136,\n",
              " 'ตลาด': 80,\n",
              " 'การก': 26,\n",
              " 'ล่า': 176,\n",
              " 'วสุ': 181,\n",
              " 'นท': 104,\n",
              " 'รพ': 149,\n",
              " 'จน์': 50,\n",
              " 'โทรทัศน์': 298,\n",
              " 'เจ็บ': 245,\n",
              " 'ปวด': 126,\n",
              " 'ร้าว': 166,\n",
              " 'นาที': 106,\n",
              " 'เกตส์': 240,\n",
              " 'ทำ': 98,\n",
              " 'พลาด': 134,\n",
              " 'มหันต์': 143,\n",
              " 'ต้องการ': 90,\n",
              " 'ปกป้อง': 117,\n",
              " 'ผู้คน': 132,\n",
              " 'ไวรัส': 311,\n",
              " 'กลาย': 24,\n",
              " 'จินตนาการ': 56,\n",
              " '—': 312,\n",
              " 'ไฟ': 310,\n",
              " 'เซอร์': 250,\n",
              " 'โม': 300,\n",
              " 'เด': 252,\n",
              " 'อร์': 229,\n",
              " 'นา': 105,\n",
              " 'จอห์น': 51,\n",
              " 'สัน': 205,\n",
              " 'แอนด์': 295,\n",
              " 'แอ': 294,\n",
              " 'สต': 193,\n",
              " 'ร้า': 163,\n",
              " 'เซ': 249,\n",
              " 'เนก้า': 261,\n",
              " 'ฆ่า': 46,\n",
              " 'คน': 37,\n",
              " 'ซ้าย': 67,\n",
              " 'ขวา': 32,\n",
              " 'ทำร้าย': 99,\n",
              " 'เลว': 271,\n",
              " 'ร้าย': 165,\n",
              " 'โบกมือ': 299,\n",
              " 'อากาศ': 235,\n",
              " 'ผลลัพธ์': 131,\n",
              " 'ทึ่ง': 103,\n",
              " 'ข้อมูล': 36,\n",
              " 'รัฐบาล': 154,\n",
              " 'ระบบ': 152,\n",
              " 'รายงาน': 155,\n",
              " 'CDC': 4,\n",
              " '…': 313,\n",
              " '13': 1,\n",
              " '000': 0,\n",
              " 'ชีวิต': 62,\n",
              " 'สหรัฐอเมริกา': 199,\n",
              " 'เหตุการณ์': 280,\n",
              " 'ประสงค์': 120,\n",
              " 'ครึ่ง': 39,\n",
              " 'ล้าน': 180,\n",
              " 'รู้': 158,\n",
              " 'ดี': 72,\n",
              " 'เรื่อง': 269,\n",
              " 'หลอก': 216,\n",
              " 'ลวง': 169,\n",
              " 'ทราบ': 94,\n",
              " 'VAERS': 18,\n",
              " 'ศูนย์': 192,\n",
              " 'ควบคุม': 40,\n",
              " 'ป้องกัน': 130,\n",
              " 'โรค': 302,\n",
              " 'รวบรวม': 150,\n",
              " 'ร้อย': 162,\n",
              " 'โค': 296,\n",
              " 'วิด': 190,\n",
              " 'เคียง': 244,\n",
              " 'เก': 239,\n",
              " 'ทส์': 96,\n",
              " 'หุ้น': 224,\n",
              " 'วอลล์สตรีท': 183,\n",
              " 'บริษัท': 112,\n",
              " 'ร่วง': 159,\n",
              " 'คำร้อง': 42,\n",
              " 'เร่ง': 270,\n",
              " 'ด่วน': 75,\n",
              " 'พลเมือง': 135,\n",
              " 'ยื่น': 147,\n",
              " 'องค์กร': 227,\n",
              " 'สุขภาพ': 210,\n",
              " 'เด็ก': 254,\n",
              " 'โร': 301,\n",
              " 'เบิร์ต': 264,\n",
              " 'เอฟ': 284,\n",
              " 'เคน': 243,\n",
              " 'เน': 260,\n",
              " 'จู': 57,\n",
              " 'เนียร์': 262,\n",
              " 'อาหาร': 236,\n",
              " 'สหรัฐฯ': 200,\n",
              " 'สธ': 196,\n",
              " 'ต่อว่า': 88,\n",
              " 'จำนวน': 53,\n",
              " 'สอง': 201,\n",
              " 'ห้า': 225,\n",
              " 'ฉีด': 58,\n",
              " 'อาการ': 234,\n",
              " 'อัมพาต': 233,\n",
              " 'ตาบอด': 84,\n",
              " 'ชัก': 59,\n",
              " 'หัวใจ': 222,\n",
              " 'วาย': 187,\n",
              " 'ภูมิคุ้มกัน': 141,\n",
              " 'ล้ม': 177,\n",
              " 'เหลว': 282,\n",
              " 'ลิ่ม': 174,\n",
              " 'เลือด': 272,\n",
              " 'อุด': 237,\n",
              " 'ตัน': 82,\n",
              " 'สมอง': 197,\n",
              " 'อักเสบ': 231,\n",
              " 'ปอด': 127,\n",
              " 'ไต': 309,\n",
              " 'ทำลาย': 100,\n",
              " 'แท้ง': 286,\n",
              " 'บุตร': 115,\n",
              " 'ภูมิ': 140,\n",
              " 'ต้าน': 91,\n",
              " 'อวัยวะ': 230,\n",
              " 'เหนื่อย': 281,\n",
              " 'ล้า': 178,\n",
              " 'ถาวร': 93,\n",
              " 'ปัญหา': 128,\n",
              " 'แร': 293,\n",
              " 'งอื่นๆ': 47,\n",
              " 'แน่นอน': 288,\n",
              " 'Media': 14,\n",
              " 'Mouthpieces': 16,\n",
              " 'หมาย': 212,\n",
              " 'สื่อ': 209,\n",
              " 'กระแส': 23,\n",
              " 'หลัก': 217,\n",
              " 'ละเลย': 171,\n",
              " 'โศกนาฏกรรม': 305,\n",
              " 'บังเอิญ': 113,\n",
              " 'อธิบาย': 228,\n",
              " 'งาน': 48,\n",
              " 'จำลอง': 54,\n",
              " 'สถานการณ์': 194,\n",
              " 'แพร่': 291,\n",
              " 'ระบาด': 153,\n",
              " 'นิวยอร์ก': 107,\n",
              " 'เดือน': 253,\n",
              " 'ตุลาคม': 87,\n",
              " 'กี่': 29,\n",
              " 'สัปดาห์': 206,\n",
              " 'หนังสือพิมพ์': 211,\n",
              " 'ช่อง': 64,\n",
              " 'ทีวี': 102,\n",
              " 'สถานี': 195,\n",
              " 'วิทยุ': 191,\n",
              " 'ตกลง': 77,\n",
              " 'บรรยาย': 111,\n",
              " 'ทางการ': 97,\n",
              " 'ปลอดภัย': 123,\n",
              " 'ประสิทธิภาพ': 121,\n",
              " 'เซ็นเซอร์': 251,\n",
              " 'คำถาม': 41,\n",
              " 'เกี่ยว': 242,\n",
              " 'BS': 2,\n",
              " 'สาธารณชน': 207,\n",
              " 'ได้ยิน': 308,\n",
              " 'ฐาน': 68,\n",
              " 'แพทย์': 290,\n",
              " 'วิจัย': 188,\n",
              " 'มีชื่อ': 146,\n",
              " 'เสียง': 278,\n",
              " 'เตือน': 257,\n",
              " 'ดู': 73,\n",
              " 'น้ำตา': 108,\n",
              " 'ประชาชน': 119,\n",
              " 'สิทธิ': 208,\n",
              " 'ข่าวสาร': 34,\n",
              " 'ข้อ': 35,\n",
              " 'เท็จ': 259,\n",
              " 'ตัดสิน': 81,\n",
              " 'ใจ': 306,\n",
              " 'หัวข้อ': 221,\n",
              " 'ราวกับ': 156,\n",
              " 'อก': 226,\n",
              " 'เห็นใจ': 283,\n",
              " 'มิส': 145,\n",
              " 'เต': 255,\n",
              " 'วางใจ': 186,\n",
              " 'เวลา': 273,\n",
              " 'ลำบาก': 172,\n",
              " 'ค้นหา': 44,\n",
              " 'จิต': 55,\n",
              " 'วิญญาณ': 189,\n",
              " 'เม': 268,\n",
              " 'ลิน': 173,\n",
              " 'ดา': 71,\n",
              " 'ทิ้ง': 101,\n",
              " 'หย่า': 214,\n",
              " 'ร้าง': 164,\n",
              " 'ตัว': 83,\n",
              " 'จดจำ': 49,\n",
              " 'ฐานะ': 69,\n",
              " 'สัตว์': 204,\n",
              " 'ประหลาด': 122,\n",
              " 'ตาย': 85,\n",
              " 'ฆาตกร': 45,\n",
              " 'ครอบครัว': 38,\n",
              " 'เพื่อน': 266,\n",
              " 'หมู่': 213,\n",
              " 'สังคมสงเคราะห์': 203,\n",
              " 'โรคจิตเภท': 303,\n",
              " 'แผน': 289,\n",
              " 'การณ์': 27,\n",
              " 'มนุษยชาติ': 142,\n",
              " 'ลด': 168,\n",
              " 'ภาวะ': 139,\n",
              " 'โลก': 304,\n",
              " 'ร้อน': 161,\n",
              " 'พ่น': 138,\n",
              " 'ฝุ่น': 133,\n",
              " 'บรรยากาศ': 110,\n",
              " 'ชั้น': 60,\n",
              " 'ปล่อย': 125,\n",
              " 'ยุง': 148,\n",
              " 'ดัดแปลง': 70,\n",
              " 'ต่อสู้': 89,\n",
              " 'ไข้': 307,\n",
              " 'ซิ': 66,\n",
              " 'กา': 25,\n",
              " 'The': 17,\n",
              " 'quint': 21,\n",
              " 'ข่าว': 33,\n",
              " 'ปลอม': 124,\n",
              " 'แชร์': 285,\n",
              " 'โซ': 297,\n",
              " 'เชีย': 247,\n",
              " 'ล': 167,\n",
              " 'เฟ': 267,\n",
              " 'ซบุ๊ก': 65,\n",
              " 'ทวิ': 95,\n",
              " 'ต': 76,\n",
              " 'เตอร์': 256,\n",
              " 'WhatsApp': 20,\n",
              " 'ก้อ': 31,\n",
              " 'ป': 116,\n",
              " 'ปี้': 129,\n",
              " 'เนื้อหา': 263,\n",
              " 'หัว': 220,\n",
              " 'หอก': 218,\n",
              " 'วางแผน': 185,\n",
              " 'เส': 276,\n",
              " 'ริช์': 157,\n",
              " 'คีย์เวิร์ด': 43,\n",
              " 'เกิล': 241,\n",
              " 'เว็บไซต์': 274,\n",
              " 'Daily': 7,\n",
              " 'Expose': 8,\n",
              " 'บทความ': 109,\n",
              " 'ชิ้น': 61,\n",
              " 'ตรวจ': 79,\n",
              " 'สอบ': 202,\n",
              " 'Full': 10,\n",
              " 'Fact': 9,\n",
              " 'หัก': 219,\n",
              " 'ล้าง': 179,\n",
              " 'เสนอ': 277,\n",
              " 'เช็ค': 248,\n",
              " 'ลิ้งค์': 175,\n",
              " 'พาด': 137,\n",
              " 'เชิง': 246,\n",
              " 'เสียดสี': 279,\n",
              " 'บิล': 114,\n",
              " 'ตื่น': 86,\n",
              " 'หา': 223,\n",
              " 'แนวทาง': 287,\n",
              " 'ดูแล': 74,\n",
              " 'สร้าง': 198,\n",
              " 'เทียม': 258,\n",
              " 'หลง': 215,\n",
              " 'กระจาย': 22,\n",
              " 'ลอย่': 170,\n",
              " 'าง': 238,\n",
              " 'แพ้': 292,\n",
              " 'ระ': 151,\n",
              " 'จาย': 52}"
            ]
          },
          "execution_count": 117,
          "metadata": {},
          "output_type": "execute_result"
        }
      ],
      "source": [
        "cvec.vocabulary_"
      ]
    },
    {
      "cell_type": "code",
      "execution_count": 118,
      "metadata": {
        "colab": {
          "base_uri": "https://localhost:8080/"
        },
        "id": "ECWZRVDDaciO",
        "outputId": "30808479-c093-4b72-e862-259be71e08d8"
      },
      "outputs": [
        {
          "data": {
            "text/plain": [
              "matrix([[1, 1, 1, ..., 4, 5, 2],\n",
              "        [0, 0, 0, ..., 0, 0, 0],\n",
              "        [0, 0, 0, ..., 0, 0, 0],\n",
              "        [0, 0, 0, ..., 3, 0, 0]], dtype=int64)"
            ]
          },
          "execution_count": 118,
          "metadata": {},
          "output_type": "execute_result"
        }
      ],
      "source": [
        "c_feat[:,:].todense()"
      ]
    },
    {
      "cell_type": "code",
      "execution_count": 119,
      "metadata": {
        "colab": {
          "base_uri": "https://localhost:8080/"
        },
        "id": "1eSJUuCoaciP",
        "outputId": "70828918-34c8-467b-f40a-9aac50b3d176"
      },
      "outputs": [
        {
          "name": "stdout",
          "output_type": "stream",
          "text": [
            "[[1 1 1 ... 4 5 2]\n",
            " [0 0 0 ... 0 0 0]\n",
            " [0 0 0 ... 0 0 0]\n",
            " [0 0 0 ... 3 0 0]]\n"
          ]
        }
      ],
      "source": [
        "#first_news เป็น array ของข่าว โดย row ที่ 1 = ข่าวที่ต้องการตรวจสอบจาก cofact, row ที่ 2 = ข้อความสรุปใน cofact, row ที่ 3 = หัวข้อข่าวที่เชื่อถือได้ , row ที่ 4 = เนื้อหาข่าว paragraph แรกของข่าวที่เชื่อถือได้\n",
        "first_news = c_feat[:,:].todense()\n",
        "print(first_news) "
      ]
    },
    {
      "cell_type": "code",
      "execution_count": 120,
      "metadata": {
        "colab": {
          "base_uri": "https://localhost:8080/"
        },
        "id": "YJf-b-wMaciP",
        "outputId": "b3cf3f08-d012-47a3-e906-3516cd5f82e7"
      },
      "outputs": [
        {
          "data": {
            "text/plain": [
              "314"
            ]
          },
          "execution_count": 120,
          "metadata": {},
          "output_type": "execute_result"
        }
      ],
      "source": [
        "first_news.shape[1]"
      ]
    },
    {
      "cell_type": "code",
      "execution_count": 121,
      "metadata": {
        "colab": {
          "base_uri": "https://localhost:8080/"
        },
        "id": "UeUWkOjkaciP",
        "outputId": "f1304d1d-6bc3-402f-f071-32e497544198"
      },
      "outputs": [
        {
          "name": "stdout",
          "output_type": "stream",
          "text": [
            "This is sum (upperpart) : 35\n",
            "This is lowerpart : 342.3068798607472\n"
          ]
        },
        {
          "data": {
            "text/plain": [
              "0.1022474336894375"
            ]
          },
          "execution_count": 121,
          "metadata": {},
          "output_type": "execute_result"
        }
      ],
      "source": [
        "find_cosine_similarity(first_news, 0, 1) #เทียบ ข้อความที่ต้องการตรวจสอบบน cofact กับ ข้อความสรุปใน cofact"
      ]
    },
    {
      "cell_type": "code",
      "execution_count": 122,
      "metadata": {
        "colab": {
          "base_uri": "https://localhost:8080/"
        },
        "id": "BHoFFl7ZaciQ",
        "outputId": "d047899d-8dc8-4e87-e338-500542548857"
      },
      "outputs": [
        {
          "name": "stdout",
          "output_type": "stream",
          "text": [
            "This is sum (upperpart) : 30\n",
            "This is lowerpart : 104.51315706646699\n"
          ]
        },
        {
          "data": {
            "text/plain": [
              "0.28704519930367206"
            ]
          },
          "execution_count": 122,
          "metadata": {},
          "output_type": "execute_result"
        }
      ],
      "source": [
        "find_cosine_similarity(first_news, 0, 2)#เทียบ ข้อความที่ต้องการตรวจสอบบน cofact กับ หัวข้อข่าวที่เชื่อถือได้"
      ]
    },
    {
      "cell_type": "code",
      "execution_count": 123,
      "metadata": {
        "colab": {
          "base_uri": "https://localhost:8080/"
        },
        "id": "I8cKq5_qaciQ",
        "outputId": "b963f3e9-3d84-4574-de7b-cd6d0b9fbcda"
      },
      "outputs": [
        {
          "name": "stdout",
          "output_type": "stream",
          "text": [
            "This is sum (upperpart) : 57\n",
            "This is lowerpart : 229.41011311622685\n"
          ]
        },
        {
          "data": {
            "text/plain": [
              "0.24846332720790687"
            ]
          },
          "execution_count": 123,
          "metadata": {},
          "output_type": "execute_result"
        }
      ],
      "source": [
        "find_cosine_similarity(first_news, 0, 3)#เทียบ ข้อความที่ต้องการตรวจสอบบน cofact กับ เนื้อหาข่าว paragraph แรกของข่าวที่เชื่อถือได้"
      ]
    },
    {
      "cell_type": "markdown",
      "metadata": {
        "id": "2wk9-PDidXqs"
      },
      "source": [
        "# ข่าวที่ 11"
      ]
    },
    {
      "cell_type": "code",
      "execution_count": 124,
      "metadata": {
        "id": "x_UddnAedXqs"
      },
      "outputs": [],
      "source": [
        "clean_text = ['มีกันแชร์ในโลกโซเชี่ยลว่า มีผู้ติดโควิด เป็นคลัสเตอร์ใหม่ จำนวน 50 คน ที่ต.ตาลสุม อ.ตาลสุม จ.อุบลราชธานี จริงหรือไม่','เป็นกลุ่มการพนัน เพียงการตรวจเบื้องต้น อยู่ระหว่างรอสอบสวนโรค รอการตรวจ PCR ยืนยันอีกครั้ง 15.00 น .21-09-64 ข้อมูล : สำนักงานสาธารณสุขจังหวัดอุบลราชธานี']"
      ]
    },
    {
      "cell_type": "markdown",
      "metadata": {
        "id": "3YuXoUNQdXqt"
      },
      "source": [
        "**Step 2: Tokenize**"
      ]
    },
    {
      "cell_type": "code",
      "execution_count": 125,
      "metadata": {
        "colab": {
          "base_uri": "https://localhost:8080/"
        },
        "id": "6IaHPDIqdXqt",
        "outputId": "7956721b-894a-433d-b71f-5278cc17c41e"
      },
      "outputs": [
        {
          "name": "stdout",
          "output_type": "stream",
          "text": [
            "tokenized text:\n",
            " ['แชร์', 'โลก', 'โซ', 'เชี่', 'ยล', 'ติด', 'โค', 'วิด', 'คลัสเตอร์', 'จำนวน', 'คน', 'ที่ต', 'ตาล', 'สุม', 'อ', 'ตาล', 'สุม', 'จ', 'อุบลราชธานี']\n",
            "tokenized text:\n",
            " ['เป็นก', 'ลุ่ม', 'พนัน', 'ตรวจ', 'เบื้อง', 'ต้น', 'รอ', 'สอบสวน', 'โรค', 'รอ', 'ตรวจ', 'PCR', '15.00', 'น', 'ข้อมูล', 'สำนักงาน', 'สาธารณสุข', 'จังหวัด', 'อุบลราชธานี']\n"
          ]
        }
      ],
      "source": [
        "print('tokenized text:\\n',split_word(clean_text[0])) #ข้อความที่ต้องการตรวจสอบบน cofact\n",
        "print('tokenized text:\\n',split_word(clean_text[1])) #ข้อความสรุปใน cofact\n",
        "# print('tokenized text:\\n',split_word(clean_text[2])) #หัวข่าวอ้างอิง\n",
        "# print('tokenized text:\\n',split_word(clean_text[3])) #เนื้อหาข่าวอ้างอิง paragraph แรก"
      ]
    },
    {
      "cell_type": "code",
      "execution_count": 126,
      "metadata": {
        "id": "h8QowvBgdXqt"
      },
      "outputs": [],
      "source": [
        "tokens_list = [split_word(txt) for txt in clean_text]"
      ]
    },
    {
      "cell_type": "code",
      "execution_count": 127,
      "metadata": {
        "colab": {
          "base_uri": "https://localhost:8080/"
        },
        "id": "jTypdjdkdXqt",
        "outputId": "942c5037-6d6c-4207-d4b7-b91c2645e2df"
      },
      "outputs": [
        {
          "data": {
            "text/plain": [
              "[['แชร์',\n",
              "  'โลก',\n",
              "  'โซ',\n",
              "  'เชี่',\n",
              "  'ยล',\n",
              "  'ติด',\n",
              "  'โค',\n",
              "  'วิด',\n",
              "  'คลัสเตอร์',\n",
              "  'จำนวน',\n",
              "  'คน',\n",
              "  'ที่ต',\n",
              "  'ตาล',\n",
              "  'สุม',\n",
              "  'อ',\n",
              "  'ตาล',\n",
              "  'สุม',\n",
              "  'จ',\n",
              "  'อุบลราชธานี'],\n",
              " ['เป็นก',\n",
              "  'ลุ่ม',\n",
              "  'พนัน',\n",
              "  'ตรวจ',\n",
              "  'เบื้อง',\n",
              "  'ต้น',\n",
              "  'รอ',\n",
              "  'สอบสวน',\n",
              "  'โรค',\n",
              "  'รอ',\n",
              "  'ตรวจ',\n",
              "  'PCR',\n",
              "  '15.00',\n",
              "  'น',\n",
              "  'ข้อมูล',\n",
              "  'สำนักงาน',\n",
              "  'สาธารณสุข',\n",
              "  'จังหวัด',\n",
              "  'อุบลราชธานี']]"
            ]
          },
          "execution_count": 127,
          "metadata": {},
          "output_type": "execute_result"
        }
      ],
      "source": [
        "tokens_list"
      ]
    },
    {
      "cell_type": "markdown",
      "metadata": {
        "id": "MmGY-1IqdXqt"
      },
      "source": [
        "**Step 3 + 4a: Bag of words + count word**"
      ]
    },
    {
      "cell_type": "code",
      "execution_count": 128,
      "metadata": {
        "id": "tPQO9G4KdXqu"
      },
      "outputs": [],
      "source": [
        "from sklearn.feature_extraction.text import CountVectorizer\n",
        "tokens_list_j = [','.join(tkn) for tkn in tokens_list]\n",
        "cvec = CountVectorizer(analyzer=lambda x:x.split(','))\n",
        "c_feat = cvec.fit_transform(tokens_list_j)"
      ]
    },
    {
      "cell_type": "code",
      "execution_count": 129,
      "metadata": {
        "colab": {
          "base_uri": "https://localhost:8080/"
        },
        "id": "dZhjd3tbdXqu",
        "outputId": "905469e3-bdf6-4fa8-e44f-582b3995c47b"
      },
      "outputs": [
        {
          "data": {
            "text/plain": [
              "{'แชร์': 28,\n",
              " 'โลก': 32,\n",
              " 'โซ': 30,\n",
              " 'เชี่': 25,\n",
              " 'ยล': 15,\n",
              " 'ติด': 10,\n",
              " 'โค': 29,\n",
              " 'วิด': 18,\n",
              " 'คลัสเตอร์': 4,\n",
              " 'จำนวน': 7,\n",
              " 'คน': 3,\n",
              " 'ที่ต': 12,\n",
              " 'ตาล': 9,\n",
              " 'สุม': 22,\n",
              " 'อ': 23,\n",
              " 'จ': 5,\n",
              " 'อุบลราชธานี': 24,\n",
              " 'เป็นก': 27,\n",
              " 'ลุ่ม': 17,\n",
              " 'พนัน': 14,\n",
              " 'ตรวจ': 8,\n",
              " 'เบื้อง': 26,\n",
              " 'ต้น': 11,\n",
              " 'รอ': 16,\n",
              " 'สอบสวน': 19,\n",
              " 'โรค': 31,\n",
              " 'PCR': 1,\n",
              " '15.00': 0,\n",
              " 'น': 13,\n",
              " 'ข้อมูล': 2,\n",
              " 'สำนักงาน': 21,\n",
              " 'สาธารณสุข': 20,\n",
              " 'จังหวัด': 6}"
            ]
          },
          "execution_count": 129,
          "metadata": {},
          "output_type": "execute_result"
        }
      ],
      "source": [
        "cvec.vocabulary_"
      ]
    },
    {
      "cell_type": "code",
      "execution_count": 130,
      "metadata": {
        "colab": {
          "base_uri": "https://localhost:8080/"
        },
        "id": "ZiCo18tEdXqu",
        "outputId": "4473b773-a3e3-485c-b2ab-0460148354ab"
      },
      "outputs": [
        {
          "data": {
            "text/plain": [
              "matrix([[0, 0, 0, 1, 1, 1, 0, 1, 0, 2, 1, 0, 1, 0, 0, 1, 0, 0, 1, 0, 0,\n",
              "         0, 2, 1, 1, 1, 0, 0, 1, 1, 1, 0, 1],\n",
              "        [1, 1, 1, 0, 0, 0, 1, 0, 2, 0, 0, 1, 0, 1, 1, 0, 2, 1, 0, 1, 1,\n",
              "         1, 0, 0, 1, 0, 1, 1, 0, 0, 0, 1, 0]], dtype=int64)"
            ]
          },
          "execution_count": 130,
          "metadata": {},
          "output_type": "execute_result"
        }
      ],
      "source": [
        "c_feat[:,:].todense()"
      ]
    },
    {
      "cell_type": "code",
      "execution_count": 131,
      "metadata": {
        "colab": {
          "base_uri": "https://localhost:8080/"
        },
        "id": "XstsQOcqdXqu",
        "outputId": "8644a96e-9af7-4a21-dedc-4352a741435a"
      },
      "outputs": [
        {
          "name": "stdout",
          "output_type": "stream",
          "text": [
            "[[0 0 0 1 1 1 0 1 0 2 1 0 1 0 0 1 0 0 1 0 0 0 2 1 1 1 0 0 1 1 1 0 1]\n",
            " [1 1 1 0 0 0 1 0 2 0 0 1 0 1 1 0 2 1 0 1 1 1 0 0 1 0 1 1 0 0 0 1 0]]\n"
          ]
        }
      ],
      "source": [
        "#first_news เป็น array ของข่าว โดย row ที่ 1 = ข่าวที่ต้องการตรวจสอบจาก cofact, row ที่ 2 = ข้อความสรุปใน cofact, row ที่ 3 = หัวข้อข่าวที่เชื่อถือได้ , row ที่ 4 = เนื้อหาข่าว paragraph แรกของข่าวที่เชื่อถือได้\n",
        "first_news = c_feat[:,:].todense()\n",
        "print(first_news) "
      ]
    },
    {
      "cell_type": "code",
      "execution_count": 132,
      "metadata": {
        "colab": {
          "base_uri": "https://localhost:8080/"
        },
        "id": "BgRFnyqmdXqu",
        "outputId": "6104cf36-f643-4afb-bcc5-b0e45d4b4377"
      },
      "outputs": [
        {
          "data": {
            "text/plain": [
              "33"
            ]
          },
          "execution_count": 132,
          "metadata": {},
          "output_type": "execute_result"
        }
      ],
      "source": [
        "first_news.shape[1]"
      ]
    },
    {
      "cell_type": "code",
      "execution_count": 133,
      "metadata": {
        "colab": {
          "base_uri": "https://localhost:8080/"
        },
        "id": "hwu8_4YqdXqu",
        "outputId": "0462f5af-b690-4a44-8082-22c476275a32"
      },
      "outputs": [
        {
          "name": "stdout",
          "output_type": "stream",
          "text": [
            "This is sum (upperpart) : 1\n",
            "This is lowerpart : 22.999999999999996\n"
          ]
        },
        {
          "data": {
            "text/plain": [
              "0.04347826086956522"
            ]
          },
          "execution_count": 133,
          "metadata": {},
          "output_type": "execute_result"
        }
      ],
      "source": [
        "find_cosine_similarity(first_news, 0, 1) #เทียบ ข้อความที่ต้องการตรวจสอบบน cofact กับ ข้อความสรุปใน cofact"
      ]
    },
    {
      "cell_type": "code",
      "execution_count": 134,
      "metadata": {
        "id": "EZeWvd-rdXqv"
      },
      "outputs": [],
      "source": [
        "# find_cosine_similarity(first_news, 0, 2)#เทียบ ข้อความที่ต้องการตรวจสอบบน cofact กับ หัวข้อข่าวที่เชื่อถือได้"
      ]
    },
    {
      "cell_type": "code",
      "execution_count": 135,
      "metadata": {
        "id": "ZX9WKm-6dXqv"
      },
      "outputs": [],
      "source": [
        "# find_cosine_similarity(first_news, 0, 3)#เทียบ ข้อความที่ต้องการตรวจสอบบน cofact กับ เนื้อหาข่าว paragraph แรกของข่าวที่เชื่อถือได้"
      ]
    },
    {
      "cell_type": "markdown",
      "metadata": {
        "id": "P_AEJTk9eShR"
      },
      "source": [
        "# ข่าวที่ 12"
      ]
    },
    {
      "cell_type": "code",
      "execution_count": 136,
      "metadata": {
        "id": "86wesy20eShR"
      },
      "outputs": [],
      "source": [
        "clean_text = ['เปิดสถานศึกษา','ศธ.จ่อเปิดเรียนอำเภอปลอดโควิด 29 จังหวัดพื้นที่สีแดงเข้ม มั่นใจฉีดวัคซีนเด็กไร้ปัญหา ครูฉีดแล้วกว่า 70%','กระทรวงศึกษาธิการ เตรียมเปิดสถานศึกษาในพื้นที่ 29 จังหวัดสีแดงเข้ม','นางเกศทิพย์ ศุภวานิช ผู้ตรวจราชการกระทรวงศึกษาธิการ (ศธ.) ในฐานะโฆษกกระทรวงศึกษาธิการ  เปิดเผยว่า กระทรวงศึกษาธิการ ได้หารือกับกรมอนามัย กระทรวงสาธารณสุข (สธ.) เพื่อวางแนวทางกระจายวัคซีน โดยจะส่งไปที่จังหวัดเพื่อส่งต่อไปยังโรงเรียน   เมื่อวัคซีนพร้อมก็สามารถดำเนินการฉีดได้ทันที ส่วนการฉีดวัคซีนครูนั้น ดำเนินการไปแล้วกว่า 70% เหลืออีก 30%  คิดว่าไม่น่าจะมีปัญหา']"
      ]
    },
    {
      "cell_type": "markdown",
      "metadata": {
        "id": "0c3PRWyTeShR"
      },
      "source": [
        "**Step 2: Tokenize**"
      ]
    },
    {
      "cell_type": "code",
      "execution_count": 137,
      "metadata": {
        "colab": {
          "base_uri": "https://localhost:8080/"
        },
        "id": "guXIp0aEeShS",
        "outputId": "682840f5-a30f-4bd7-f589-4f701bd7fa4e"
      },
      "outputs": [
        {
          "name": "stdout",
          "output_type": "stream",
          "text": [
            "tokenized text:\n",
            " ['สถาน', 'ศึกษา']\n",
            "tokenized text:\n",
            " ['ศธ', 'จ่อ', 'เรียน', 'อำเภอ', 'ปลอด', 'โค', 'วิด', 'จังหวัด', 'พื้นที่', 'สี', 'แดง', 'เข้ม', 'มั่นใจ', 'ฉีด', 'วัคซีน', 'เด็ก', 'ไร้', 'ปัญหา', 'ครู', 'ฉีด', 'แล้วก']\n",
            "tokenized text:\n",
            " ['กระทรวง', 'ศึกษาธิการ', 'เตรียม', 'สถาน', 'ศึกษา', 'พื้นที่', 'จังหวัด', 'สี', 'แดง', 'เข้ม']\n",
            "tokenized text:\n",
            " ['เกศ', 'ทิพย์', 'ศุภ', 'วานิช', 'ตรวจ', 'ราชการ', 'กระทรวง', 'ศึกษาธิการ', 'ศธ', 'ฐานะ', 'โฆษก', 'กระทรวง', 'ศึกษาธิการ', 'เผย', 'กระทรวง', 'ศึกษาธิการ', 'กรม', 'อนามัย', 'กระทรวง', 'สาธารณสุข', 'สธ', 'วาง', 'แนวทาง', 'กระจาย', 'วัคซีน', 'จังหวัด', 'โรงเรียน', 'วัคซีน', 'ดำเนิน', 'ฉีด', 'ฉีด', 'วัคซีน', 'ครู', 'ดำเนิน', 'แล้วก', 'ปัญหา']\n"
          ]
        }
      ],
      "source": [
        "print('tokenized text:\\n',split_word(clean_text[0])) #ข้อความที่ต้องการตรวจสอบบน cofact\n",
        "print('tokenized text:\\n',split_word(clean_text[1])) #ข้อความสรุปใน cofact\n",
        "print('tokenized text:\\n',split_word(clean_text[2])) #หัวข่าวอ้างอิง\n",
        "print('tokenized text:\\n',split_word(clean_text[3])) #เนื้อหาข่าวอ้างอิง paragraph แรก"
      ]
    },
    {
      "cell_type": "code",
      "execution_count": 138,
      "metadata": {
        "id": "D1Wa1anqeShS"
      },
      "outputs": [],
      "source": [
        "tokens_list = [split_word(txt) for txt in clean_text]"
      ]
    },
    {
      "cell_type": "code",
      "execution_count": 139,
      "metadata": {
        "colab": {
          "base_uri": "https://localhost:8080/"
        },
        "id": "Jvys__H9eShS",
        "outputId": "35f3f306-f3a4-4c72-f53f-865ee34b8b73"
      },
      "outputs": [
        {
          "data": {
            "text/plain": [
              "[['สถาน', 'ศึกษา'],\n",
              " ['ศธ',\n",
              "  'จ่อ',\n",
              "  'เรียน',\n",
              "  'อำเภอ',\n",
              "  'ปลอด',\n",
              "  'โค',\n",
              "  'วิด',\n",
              "  'จังหวัด',\n",
              "  'พื้นที่',\n",
              "  'สี',\n",
              "  'แดง',\n",
              "  'เข้ม',\n",
              "  'มั่นใจ',\n",
              "  'ฉีด',\n",
              "  'วัคซีน',\n",
              "  'เด็ก',\n",
              "  'ไร้',\n",
              "  'ปัญหา',\n",
              "  'ครู',\n",
              "  'ฉีด',\n",
              "  'แล้วก'],\n",
              " ['กระทรวง',\n",
              "  'ศึกษาธิการ',\n",
              "  'เตรียม',\n",
              "  'สถาน',\n",
              "  'ศึกษา',\n",
              "  'พื้นที่',\n",
              "  'จังหวัด',\n",
              "  'สี',\n",
              "  'แดง',\n",
              "  'เข้ม'],\n",
              " ['เกศ',\n",
              "  'ทิพย์',\n",
              "  'ศุภ',\n",
              "  'วานิช',\n",
              "  'ตรวจ',\n",
              "  'ราชการ',\n",
              "  'กระทรวง',\n",
              "  'ศึกษาธิการ',\n",
              "  'ศธ',\n",
              "  'ฐานะ',\n",
              "  'โฆษก',\n",
              "  'กระทรวง',\n",
              "  'ศึกษาธิการ',\n",
              "  'เผย',\n",
              "  'กระทรวง',\n",
              "  'ศึกษาธิการ',\n",
              "  'กรม',\n",
              "  'อนามัย',\n",
              "  'กระทรวง',\n",
              "  'สาธารณสุข',\n",
              "  'สธ',\n",
              "  'วาง',\n",
              "  'แนวทาง',\n",
              "  'กระจาย',\n",
              "  'วัคซีน',\n",
              "  'จังหวัด',\n",
              "  'โรงเรียน',\n",
              "  'วัคซีน',\n",
              "  'ดำเนิน',\n",
              "  'ฉีด',\n",
              "  'ฉีด',\n",
              "  'วัคซีน',\n",
              "  'ครู',\n",
              "  'ดำเนิน',\n",
              "  'แล้วก',\n",
              "  'ปัญหา']]"
            ]
          },
          "execution_count": 139,
          "metadata": {},
          "output_type": "execute_result"
        }
      ],
      "source": [
        "tokens_list"
      ]
    },
    {
      "cell_type": "markdown",
      "metadata": {
        "id": "JvZL6ojreShS"
      },
      "source": [
        "**Step 3 + 4a: Bag of words + count word**"
      ]
    },
    {
      "cell_type": "code",
      "execution_count": 140,
      "metadata": {
        "id": "NrCPf-9EeShS"
      },
      "outputs": [],
      "source": [
        "from sklearn.feature_extraction.text import CountVectorizer\n",
        "tokens_list_j = [','.join(tkn) for tkn in tokens_list]\n",
        "cvec = CountVectorizer(analyzer=lambda x:x.split(','))\n",
        "c_feat = cvec.fit_transform(tokens_list_j)"
      ]
    },
    {
      "cell_type": "code",
      "execution_count": 141,
      "metadata": {
        "colab": {
          "base_uri": "https://localhost:8080/"
        },
        "id": "ijarOwG2eShS",
        "outputId": "e57152ce-c604-41ff-cdfc-c3c6bef9b035"
      },
      "outputs": [
        {
          "data": {
            "text/plain": [
              "{'สถาน': 24,\n",
              " 'ศึกษา': 21,\n",
              " 'ศธ': 20,\n",
              " 'จ่อ': 5,\n",
              " 'เรียน': 35,\n",
              " 'อำเภอ': 29,\n",
              " 'ปลอด': 11,\n",
              " 'โค': 39,\n",
              " 'วิด': 19,\n",
              " 'จังหวัด': 4,\n",
              " 'พื้นที่': 13,\n",
              " 'สี': 27,\n",
              " 'แดง': 36,\n",
              " 'เข้ม': 31,\n",
              " 'มั่นใจ': 14,\n",
              " 'ฉีด': 6,\n",
              " 'วัคซีน': 16,\n",
              " 'เด็ก': 32,\n",
              " 'ไร้': 42,\n",
              " 'ปัญหา': 12,\n",
              " 'ครู': 3,\n",
              " 'แล้วก': 38,\n",
              " 'กระทรวง': 2,\n",
              " 'ศึกษาธิการ': 22,\n",
              " 'เตรียม': 33,\n",
              " 'เกศ': 30,\n",
              " 'ทิพย์': 10,\n",
              " 'ศุภ': 23,\n",
              " 'วานิช': 18,\n",
              " 'ตรวจ': 9,\n",
              " 'ราชการ': 15,\n",
              " 'ฐานะ': 7,\n",
              " 'โฆษก': 40,\n",
              " 'เผย': 34,\n",
              " 'กรม': 0,\n",
              " 'อนามัย': 28,\n",
              " 'สาธารณสุข': 26,\n",
              " 'สธ': 25,\n",
              " 'วาง': 17,\n",
              " 'แนวทาง': 37,\n",
              " 'กระจาย': 1,\n",
              " 'โรงเรียน': 41,\n",
              " 'ดำเนิน': 8}"
            ]
          },
          "execution_count": 141,
          "metadata": {},
          "output_type": "execute_result"
        }
      ],
      "source": [
        "cvec.vocabulary_"
      ]
    },
    {
      "cell_type": "code",
      "execution_count": 142,
      "metadata": {
        "colab": {
          "base_uri": "https://localhost:8080/"
        },
        "id": "1FZwBWcQeShT",
        "outputId": "7f2db380-8757-46d4-d360-8e71e21006d7"
      },
      "outputs": [
        {
          "data": {
            "text/plain": [
              "matrix([[0, 0, 0, 0, 0, 0, 0, 0, 0, 0, 0, 0, 0, 0, 0, 0, 0, 0, 0, 0, 0,\n",
              "         1, 0, 0, 1, 0, 0, 0, 0, 0, 0, 0, 0, 0, 0, 0, 0, 0, 0, 0, 0, 0,\n",
              "         0],\n",
              "        [0, 0, 0, 1, 1, 1, 2, 0, 0, 0, 0, 1, 1, 1, 1, 0, 1, 0, 0, 1, 1,\n",
              "         0, 0, 0, 0, 0, 0, 1, 0, 1, 0, 1, 1, 0, 0, 1, 1, 0, 1, 1, 0, 0,\n",
              "         1],\n",
              "        [0, 0, 1, 0, 1, 0, 0, 0, 0, 0, 0, 0, 0, 1, 0, 0, 0, 0, 0, 0, 0,\n",
              "         1, 1, 0, 1, 0, 0, 1, 0, 0, 0, 1, 0, 1, 0, 0, 1, 0, 0, 0, 0, 0,\n",
              "         0],\n",
              "        [1, 1, 4, 1, 1, 0, 2, 1, 2, 1, 1, 0, 1, 0, 0, 1, 3, 1, 1, 0, 1,\n",
              "         0, 3, 1, 0, 1, 1, 0, 1, 0, 1, 0, 0, 0, 1, 0, 0, 1, 1, 0, 1, 1,\n",
              "         0]], dtype=int64)"
            ]
          },
          "execution_count": 142,
          "metadata": {},
          "output_type": "execute_result"
        }
      ],
      "source": [
        "c_feat[:,:].todense()"
      ]
    },
    {
      "cell_type": "code",
      "execution_count": 143,
      "metadata": {
        "colab": {
          "base_uri": "https://localhost:8080/"
        },
        "id": "HKxIk15GeShT",
        "outputId": "65b10667-950c-4cf4-9d8e-548b9b1eeaa8"
      },
      "outputs": [
        {
          "name": "stdout",
          "output_type": "stream",
          "text": [
            "[[0 0 0 0 0 0 0 0 0 0 0 0 0 0 0 0 0 0 0 0 0 1 0 0 1 0 0 0 0 0 0 0 0 0 0 0\n",
            "  0 0 0 0 0 0 0]\n",
            " [0 0 0 1 1 1 2 0 0 0 0 1 1 1 1 0 1 0 0 1 1 0 0 0 0 0 0 1 0 1 0 1 1 0 0 1\n",
            "  1 0 1 1 0 0 1]\n",
            " [0 0 1 0 1 0 0 0 0 0 0 0 0 1 0 0 0 0 0 0 0 1 1 0 1 0 0 1 0 0 0 1 0 1 0 0\n",
            "  1 0 0 0 0 0 0]\n",
            " [1 1 4 1 1 0 2 1 2 1 1 0 1 0 0 1 3 1 1 0 1 0 3 1 0 1 1 0 1 0 1 0 0 0 1 0\n",
            "  0 1 1 0 1 1 0]]\n"
          ]
        }
      ],
      "source": [
        "#first_news เป็น array ของข่าว โดย row ที่ 1 = ข่าวที่ต้องการตรวจสอบจาก cofact, row ที่ 2 = ข้อความสรุปใน cofact, row ที่ 3 = หัวข้อข่าวที่เชื่อถือได้ , row ที่ 4 = เนื้อหาข่าว paragraph แรกของข่าวที่เชื่อถือได้\n",
        "first_news = c_feat[:,:].todense()\n",
        "print(first_news) "
      ]
    },
    {
      "cell_type": "code",
      "execution_count": 144,
      "metadata": {
        "colab": {
          "base_uri": "https://localhost:8080/"
        },
        "id": "le5jmfj2eShT",
        "outputId": "e5b41013-37dc-46db-a170-5e308952f5dc"
      },
      "outputs": [
        {
          "data": {
            "text/plain": [
              "43"
            ]
          },
          "execution_count": 144,
          "metadata": {},
          "output_type": "execute_result"
        }
      ],
      "source": [
        "first_news.shape[1]"
      ]
    },
    {
      "cell_type": "code",
      "execution_count": 145,
      "metadata": {
        "colab": {
          "base_uri": "https://localhost:8080/"
        },
        "id": "UImZF28JeShT",
        "outputId": "08aa0f5c-ff8c-4e16-fa96-a70ada25fe3f"
      },
      "outputs": [
        {
          "name": "stdout",
          "output_type": "stream",
          "text": [
            "This is sum (upperpart) : 0\n",
            "This is lowerpart : 6.782329983125268\n"
          ]
        },
        {
          "data": {
            "text/plain": [
              "0.0"
            ]
          },
          "execution_count": 145,
          "metadata": {},
          "output_type": "execute_result"
        }
      ],
      "source": [
        "find_cosine_similarity(first_news, 0, 1) #เทียบ ข้อความที่ต้องการตรวจสอบบน cofact กับ ข้อความสรุปใน cofact"
      ]
    },
    {
      "cell_type": "code",
      "execution_count": 146,
      "metadata": {
        "colab": {
          "base_uri": "https://localhost:8080/"
        },
        "id": "LSCgSmh2eShT",
        "outputId": "e26cd346-7a1d-4ecf-831d-6e31c149cb41"
      },
      "outputs": [
        {
          "name": "stdout",
          "output_type": "stream",
          "text": [
            "This is sum (upperpart) : 2\n",
            "This is lowerpart : 4.47213595499958\n"
          ]
        },
        {
          "data": {
            "text/plain": [
              "0.4472135954999579"
            ]
          },
          "execution_count": 146,
          "metadata": {},
          "output_type": "execute_result"
        }
      ],
      "source": [
        "find_cosine_similarity(first_news, 0, 2)#เทียบ ข้อความที่ต้องการตรวจสอบบน cofact กับ หัวข้อข่าวที่เชื่อถือได้"
      ]
    },
    {
      "cell_type": "code",
      "execution_count": 147,
      "metadata": {
        "colab": {
          "base_uri": "https://localhost:8080/"
        },
        "id": "xh72yJFSeShT",
        "outputId": "aa951aa6-bf47-4340-fa4d-7917fc40f0fd"
      },
      "outputs": [
        {
          "name": "stdout",
          "output_type": "stream",
          "text": [
            "This is sum (upperpart) : 0\n",
            "This is lowerpart : 11.313708498984761\n"
          ]
        },
        {
          "data": {
            "text/plain": [
              "0.0"
            ]
          },
          "execution_count": 147,
          "metadata": {},
          "output_type": "execute_result"
        }
      ],
      "source": [
        "find_cosine_similarity(first_news, 0, 3)#เทียบ ข้อความที่ต้องการตรวจสอบบน cofact กับ เนื้อหาข่าว paragraph แรกของข่าวที่เชื่อถือได้"
      ]
    },
    {
      "cell_type": "markdown",
      "metadata": {
        "id": "pSZAAE1jid02"
      },
      "source": [
        "# ข่าวที่ 13"
      ]
    },
    {
      "cell_type": "code",
      "execution_count": 148,
      "metadata": {
        "id": "7PYJdSsaid02"
      },
      "outputs": [],
      "source": [
        "clean_text = ['เพิ่งรู้นะเนี่ย วิธีเลือกใช้ยาสีฟันให้ดูที่แถบท้ายหลอดยาสีฟันครับ สีแดงผลิตมาจากสารเคมีผสมธรรมชาติ,สีดำผลิตจากสารเคมีล้วนๆ,สีน้ำเงินผลิตมาจากธรรมชาติผสมตัวยาของแพทย์,สีเขียวผลิตจากธรรมชาติครับ','ศูนย์ชัวร์ก่อนแชร์รายงานว่า ปลายหลอดที่ระบุตามสีนั้น เพื่อให้เซนเซอร์เครื่องจักรในการตรวจจับ ก้นหลอดยาสีฟัน ไม่เกี่ยวข้องกับวัตถุดิบ หรือสารประกอบในยาสีฟันแต่อย่างใด หากต้องการทราบส่วนผสมของยาสีฟัน เราสามารถศึกษารายละเอียดได้จากข้างหลอดยาสีฟันที่มีการพิมพ์บอกไว้','แถบสีปลายหลอดยาสีฟัน ไม่ใช่ตัวบ่งชี้ชนิดสารเคมี','ความจริงของแถบสีบนหลอดยาสีฟัน! เป็นคนละเรื่องกับข้อมูลผิดๆ ที่มีการส่งต่อกันในโลกโซเชียลที่บอกว่า แถบสีต่างๆ ที่ก้นหลอดยาสีฟันคือตัวบ่งชี้ว่ายาสีฟันนั้นทำมาจากสารเคมีหรือวัสดุธรรมชาติ ทำให้ผู้รับข่าวสารเกิดความเข้าผิดในวงกว้าง']"
      ]
    },
    {
      "cell_type": "markdown",
      "metadata": {
        "id": "SWNpSA11id02"
      },
      "source": [
        "**Step 2: Tokenize**"
      ]
    },
    {
      "cell_type": "code",
      "execution_count": 149,
      "metadata": {
        "colab": {
          "base_uri": "https://localhost:8080/"
        },
        "id": "e_X--Y_eid02",
        "outputId": "30f2ed44-7d4d-4e73-a13f-012a9596ab18"
      },
      "outputs": [
        {
          "name": "stdout",
          "output_type": "stream",
          "text": [
            "tokenized text:\n",
            " ['รู้', 'วิธี', 'เลือก', 'ยาสีฟัน', 'ดู', 'แถบ', 'ท้าย', 'หลอด', 'ยาสีฟัน', 'สี', 'แดง', 'ผลิต', 'สาร', 'เคมี', 'ผสม', 'ธรรมชาติ', 'สี', 'ดำ', 'ผลิต', 'สาร', 'เคมี', 'ล้วนๆ', 'สีน้ำเงิน', 'ผลิต', 'ธรรมชาติ', 'ผสม', 'ตัว', 'ยา', 'แพทย์', 'สี', 'เขียว', 'ผลิต', 'ธรรมชาติ']\n",
            "tokenized text:\n",
            " ['ศูนย์', 'ชัวร์', 'แชร์', 'รายงาน', 'ปลาย', 'หลอด', 'ระบุ', 'สี', 'เซนเซอร์', 'เครื่องจักร', 'ตรวจ', 'ก้น', 'หลอด', 'ยาสีฟัน', 'วัตถุดิบ', 'สารประกอบ', 'ยาสีฟัน', 'ใด', 'ต้องการ', 'ทราบ', 'ผสม', 'ยาสีฟัน', 'ศึกษา', 'ละเอียด', 'หลอด', 'ยาสีฟัน', 'พิมพ์']\n",
            "tokenized text:\n",
            " ['แถบ', 'สี', 'ปลาย', 'หลอด', 'ยาสีฟัน', 'ตัว', 'บ่ง', 'ชี้', 'ชนิด', 'สาร', 'เคมี']\n",
            "tokenized text:\n",
            " ['แถบ', 'สี', 'หลอด', 'ยาสีฟัน', 'คนละ', 'เรื่อง', 'ข้อ', 'มูล', 'โลก', 'โซ', 'เชีย', 'ล', 'แถบ', 'สี', 'ก้น', 'หลอด', 'ยาสีฟัน', 'ตัว', 'บ่ง', 'ชี้', 'ยาสีฟัน', 'ทำ', 'สาร', 'เคมี', 'วัสดุ', 'ธรรมชาติ', 'ผู้รับ', 'ข่าวสาร', 'วง']\n"
          ]
        }
      ],
      "source": [
        "print('tokenized text:\\n',split_word(clean_text[0])) #ข้อความที่ต้องการตรวจสอบบน cofact\n",
        "print('tokenized text:\\n',split_word(clean_text[1])) #ข้อความสรุปใน cofact\n",
        "print('tokenized text:\\n',split_word(clean_text[2])) #หัวข่าวอ้างอิง\n",
        "print('tokenized text:\\n',split_word(clean_text[3])) #เนื้อหาข่าวอ้างอิง paragraph แรก"
      ]
    },
    {
      "cell_type": "code",
      "execution_count": 150,
      "metadata": {
        "id": "Pshxlnjcid03"
      },
      "outputs": [],
      "source": [
        "tokens_list = [split_word(txt) for txt in clean_text]"
      ]
    },
    {
      "cell_type": "code",
      "execution_count": 151,
      "metadata": {
        "colab": {
          "base_uri": "https://localhost:8080/"
        },
        "id": "_0Wta6Ekid03",
        "outputId": "18e50b10-b3b6-44f6-fd57-22b8bfff9b5f"
      },
      "outputs": [
        {
          "data": {
            "text/plain": [
              "[['รู้',\n",
              "  'วิธี',\n",
              "  'เลือก',\n",
              "  'ยาสีฟัน',\n",
              "  'ดู',\n",
              "  'แถบ',\n",
              "  'ท้าย',\n",
              "  'หลอด',\n",
              "  'ยาสีฟัน',\n",
              "  'สี',\n",
              "  'แดง',\n",
              "  'ผลิต',\n",
              "  'สาร',\n",
              "  'เคมี',\n",
              "  'ผสม',\n",
              "  'ธรรมชาติ',\n",
              "  'สี',\n",
              "  'ดำ',\n",
              "  'ผลิต',\n",
              "  'สาร',\n",
              "  'เคมี',\n",
              "  'ล้วนๆ',\n",
              "  'สีน้ำเงิน',\n",
              "  'ผลิต',\n",
              "  'ธรรมชาติ',\n",
              "  'ผสม',\n",
              "  'ตัว',\n",
              "  'ยา',\n",
              "  'แพทย์',\n",
              "  'สี',\n",
              "  'เขียว',\n",
              "  'ผลิต',\n",
              "  'ธรรมชาติ'],\n",
              " ['ศูนย์',\n",
              "  'ชัวร์',\n",
              "  'แชร์',\n",
              "  'รายงาน',\n",
              "  'ปลาย',\n",
              "  'หลอด',\n",
              "  'ระบุ',\n",
              "  'สี',\n",
              "  'เซนเซอร์',\n",
              "  'เครื่องจักร',\n",
              "  'ตรวจ',\n",
              "  'ก้น',\n",
              "  'หลอด',\n",
              "  'ยาสีฟัน',\n",
              "  'วัตถุดิบ',\n",
              "  'สารประกอบ',\n",
              "  'ยาสีฟัน',\n",
              "  'ใด',\n",
              "  'ต้องการ',\n",
              "  'ทราบ',\n",
              "  'ผสม',\n",
              "  'ยาสีฟัน',\n",
              "  'ศึกษา',\n",
              "  'ละเอียด',\n",
              "  'หลอด',\n",
              "  'ยาสีฟัน',\n",
              "  'พิมพ์'],\n",
              " ['แถบ',\n",
              "  'สี',\n",
              "  'ปลาย',\n",
              "  'หลอด',\n",
              "  'ยาสีฟัน',\n",
              "  'ตัว',\n",
              "  'บ่ง',\n",
              "  'ชี้',\n",
              "  'ชนิด',\n",
              "  'สาร',\n",
              "  'เคมี'],\n",
              " ['แถบ',\n",
              "  'สี',\n",
              "  'หลอด',\n",
              "  'ยาสีฟัน',\n",
              "  'คนละ',\n",
              "  'เรื่อง',\n",
              "  'ข้อ',\n",
              "  'มูล',\n",
              "  'โลก',\n",
              "  'โซ',\n",
              "  'เชีย',\n",
              "  'ล',\n",
              "  'แถบ',\n",
              "  'สี',\n",
              "  'ก้น',\n",
              "  'หลอด',\n",
              "  'ยาสีฟัน',\n",
              "  'ตัว',\n",
              "  'บ่ง',\n",
              "  'ชี้',\n",
              "  'ยาสีฟัน',\n",
              "  'ทำ',\n",
              "  'สาร',\n",
              "  'เคมี',\n",
              "  'วัสดุ',\n",
              "  'ธรรมชาติ',\n",
              "  'ผู้รับ',\n",
              "  'ข่าวสาร',\n",
              "  'วง']]"
            ]
          },
          "execution_count": 151,
          "metadata": {},
          "output_type": "execute_result"
        }
      ],
      "source": [
        "tokens_list"
      ]
    },
    {
      "cell_type": "markdown",
      "metadata": {
        "id": "DSMV4hD2id03"
      },
      "source": [
        "**Step 3 + 4a: Bag of words + count word**"
      ]
    },
    {
      "cell_type": "code",
      "execution_count": 152,
      "metadata": {
        "id": "ezfaAdjQid03"
      },
      "outputs": [],
      "source": [
        "from sklearn.feature_extraction.text import CountVectorizer\n",
        "tokens_list_j = [','.join(tkn) for tkn in tokens_list]\n",
        "cvec = CountVectorizer(analyzer=lambda x:x.split(','))\n",
        "c_feat = cvec.fit_transform(tokens_list_j)"
      ]
    },
    {
      "cell_type": "code",
      "execution_count": 153,
      "metadata": {
        "colab": {
          "base_uri": "https://localhost:8080/"
        },
        "id": "KErd8a_zid03",
        "outputId": "25ee7845-6fb0-4301-94a9-d641c48fc4cb"
      },
      "outputs": [
        {
          "data": {
            "text/plain": [
              "{'รู้': 27,\n",
              " 'วิธี': 34,\n",
              " 'เลือก': 48,\n",
              " 'ยาสีฟัน': 24,\n",
              " 'ดู': 8,\n",
              " 'แถบ': 51,\n",
              " 'ท้าย': 14,\n",
              " 'หลอด': 41,\n",
              " 'สี': 39,\n",
              " 'แดง': 50,\n",
              " 'ผลิต': 18,\n",
              " 'สาร': 37,\n",
              " 'เคมี': 43,\n",
              " 'ผสม': 19,\n",
              " 'ธรรมชาติ': 15,\n",
              " 'ดำ': 7,\n",
              " 'ล้วนๆ': 30,\n",
              " 'สีน้ำเงิน': 40,\n",
              " 'ตัว': 10,\n",
              " 'ยา': 23,\n",
              " 'แพทย์': 52,\n",
              " 'เขียว': 42,\n",
              " 'ศูนย์': 36,\n",
              " 'ชัวร์': 5,\n",
              " 'แชร์': 49,\n",
              " 'รายงาน': 26,\n",
              " 'ปลาย': 17,\n",
              " 'ระบุ': 25,\n",
              " 'เซนเซอร์': 46,\n",
              " 'เครื่องจักร': 44,\n",
              " 'ตรวจ': 9,\n",
              " 'ก้น': 0,\n",
              " 'วัตถุดิบ': 32,\n",
              " 'สารประกอบ': 38,\n",
              " 'ใด': 55,\n",
              " 'ต้องการ': 11,\n",
              " 'ทราบ': 12,\n",
              " 'ศึกษา': 35,\n",
              " 'ละเอียด': 29,\n",
              " 'พิมพ์': 21,\n",
              " 'บ่ง': 16,\n",
              " 'ชี้': 6,\n",
              " 'ชนิด': 4,\n",
              " 'คนละ': 3,\n",
              " 'เรื่อง': 47,\n",
              " 'ข้อ': 2,\n",
              " 'มูล': 22,\n",
              " 'โลก': 54,\n",
              " 'โซ': 53,\n",
              " 'เชีย': 45,\n",
              " 'ล': 28,\n",
              " 'ทำ': 13,\n",
              " 'วัสดุ': 33,\n",
              " 'ผู้รับ': 20,\n",
              " 'ข่าวสาร': 1,\n",
              " 'วง': 31}"
            ]
          },
          "execution_count": 153,
          "metadata": {},
          "output_type": "execute_result"
        }
      ],
      "source": [
        "cvec.vocabulary_"
      ]
    },
    {
      "cell_type": "code",
      "execution_count": 154,
      "metadata": {
        "colab": {
          "base_uri": "https://localhost:8080/"
        },
        "id": "GW-uyzgiid03",
        "outputId": "4dea56fe-9631-4e55-b207-d222d9051f0c"
      },
      "outputs": [
        {
          "data": {
            "text/plain": [
              "matrix([[0, 0, 0, 0, 0, 0, 0, 1, 1, 0, 1, 0, 0, 0, 1, 3, 0, 0, 4, 2, 0,\n",
              "         0, 0, 1, 2, 0, 0, 1, 0, 0, 1, 0, 0, 0, 1, 0, 0, 2, 0, 3, 1, 1,\n",
              "         1, 2, 0, 0, 0, 0, 1, 0, 1, 1, 1, 0, 0, 0],\n",
              "        [1, 0, 0, 0, 0, 1, 0, 0, 0, 1, 0, 1, 1, 0, 0, 0, 0, 1, 0, 1, 0,\n",
              "         1, 0, 0, 4, 1, 1, 0, 0, 1, 0, 0, 1, 0, 0, 1, 1, 0, 1, 1, 0, 3,\n",
              "         0, 0, 1, 0, 1, 0, 0, 1, 0, 0, 0, 0, 0, 1],\n",
              "        [0, 0, 0, 0, 1, 0, 1, 0, 0, 0, 1, 0, 0, 0, 0, 0, 1, 1, 0, 0, 0,\n",
              "         0, 0, 0, 1, 0, 0, 0, 0, 0, 0, 0, 0, 0, 0, 0, 0, 1, 0, 1, 0, 1,\n",
              "         0, 1, 0, 0, 0, 0, 0, 0, 0, 1, 0, 0, 0, 0],\n",
              "        [1, 1, 1, 1, 0, 0, 1, 0, 0, 0, 1, 0, 0, 1, 0, 1, 1, 0, 0, 0, 1,\n",
              "         0, 1, 0, 3, 0, 0, 0, 1, 0, 0, 1, 0, 1, 0, 0, 0, 1, 0, 2, 0, 2,\n",
              "         0, 1, 0, 1, 0, 1, 0, 0, 0, 2, 0, 1, 1, 0]], dtype=int64)"
            ]
          },
          "execution_count": 154,
          "metadata": {},
          "output_type": "execute_result"
        }
      ],
      "source": [
        "c_feat[:,:].todense()"
      ]
    },
    {
      "cell_type": "code",
      "execution_count": 155,
      "metadata": {
        "colab": {
          "base_uri": "https://localhost:8080/"
        },
        "id": "vZxZ_EPZid04",
        "outputId": "d21aa562-bfdc-4a19-cd22-deb0fcd1e5ea"
      },
      "outputs": [
        {
          "name": "stdout",
          "output_type": "stream",
          "text": [
            "[[0 0 0 0 0 0 0 1 1 0 1 0 0 0 1 3 0 0 4 2 0 0 0 1 2 0 0 1 0 0 1 0 0 0 1 0\n",
            "  0 2 0 3 1 1 1 2 0 0 0 0 1 0 1 1 1 0 0 0]\n",
            " [1 0 0 0 0 1 0 0 0 1 0 1 1 0 0 0 0 1 0 1 0 1 0 0 4 1 1 0 0 1 0 0 1 0 0 1\n",
            "  1 0 1 1 0 3 0 0 1 0 1 0 0 1 0 0 0 0 0 1]\n",
            " [0 0 0 0 1 0 1 0 0 0 1 0 0 0 0 0 1 1 0 0 0 0 0 0 1 0 0 0 0 0 0 0 0 0 0 0\n",
            "  0 1 0 1 0 1 0 1 0 0 0 0 0 0 0 1 0 0 0 0]\n",
            " [1 1 1 1 0 0 1 0 0 0 1 0 0 1 0 1 1 0 0 0 1 0 1 0 3 0 0 0 1 0 0 1 0 1 0 0\n",
            "  0 1 0 2 0 2 0 1 0 1 0 1 0 0 0 2 0 1 1 0]]\n"
          ]
        }
      ],
      "source": [
        "#first_news เป็น array ของข่าว โดย row ที่ 1 = ข่าวที่ต้องการตรวจสอบจาก cofact, row ที่ 2 = ข้อความสรุปใน cofact, row ที่ 3 = หัวข้อข่าวที่เชื่อถือได้ , row ที่ 4 = เนื้อหาข่าว paragraph แรกของข่าวที่เชื่อถือได้\n",
        "first_news = c_feat[:,:].todense()\n",
        "print(first_news) "
      ]
    },
    {
      "cell_type": "code",
      "execution_count": 156,
      "metadata": {
        "colab": {
          "base_uri": "https://localhost:8080/"
        },
        "id": "ygJXBI24id04",
        "outputId": "9f3a0019-edc3-4f73-87c4-b719826408be"
      },
      "outputs": [
        {
          "data": {
            "text/plain": [
              "56"
            ]
          },
          "execution_count": 156,
          "metadata": {},
          "output_type": "execute_result"
        }
      ],
      "source": [
        "first_news.shape[1]"
      ]
    },
    {
      "cell_type": "code",
      "execution_count": 157,
      "metadata": {
        "colab": {
          "base_uri": "https://localhost:8080/"
        },
        "id": "YBkQ6AvHid04",
        "outputId": "5a045f29-8c58-4113-a591-8b025b117d2b"
      },
      "outputs": [
        {
          "name": "stdout",
          "output_type": "stream",
          "text": [
            "This is sum (upperpart) : 16\n",
            "This is lowerpart : 54.08326913195984\n"
          ]
        },
        {
          "data": {
            "text/plain": [
              "0.29584010465345556"
            ]
          },
          "execution_count": 157,
          "metadata": {},
          "output_type": "execute_result"
        }
      ],
      "source": [
        "find_cosine_similarity(first_news, 0, 1) #เทียบ ข้อความที่ต้องการตรวจสอบบน cofact กับ ข้อความสรุปใน cofact"
      ]
    },
    {
      "cell_type": "code",
      "execution_count": 158,
      "metadata": {
        "colab": {
          "base_uri": "https://localhost:8080/"
        },
        "id": "K88C2DO9id04",
        "outputId": "6fe54699-69ab-46ff-f339-6d84e1dda3a9"
      },
      "outputs": [
        {
          "name": "stdout",
          "output_type": "stream",
          "text": [
            "This is sum (upperpart) : 12\n",
            "This is lowerpart : 26.739483914241873\n"
          ]
        },
        {
          "data": {
            "text/plain": [
              "0.44877455520405946"
            ]
          },
          "execution_count": 158,
          "metadata": {},
          "output_type": "execute_result"
        }
      ],
      "source": [
        "find_cosine_similarity(first_news, 0, 2)#เทียบ ข้อความที่ต้องการตรวจสอบบน cofact กับ หัวข้อข่าวที่เชื่อถือได้"
      ]
    },
    {
      "cell_type": "code",
      "execution_count": 159,
      "metadata": {
        "colab": {
          "base_uri": "https://localhost:8080/"
        },
        "id": "lLCFuXOXid04",
        "outputId": "1b2ca6e8-f969-46b6-a937-6531506cd92d"
      },
      "outputs": [
        {
          "name": "stdout",
          "output_type": "stream",
          "text": [
            "This is sum (upperpart) : 24\n",
            "This is lowerpart : 51.62363799656122\n"
          ]
        },
        {
          "data": {
            "text/plain": [
              "0.46490330653563583"
            ]
          },
          "execution_count": 159,
          "metadata": {},
          "output_type": "execute_result"
        }
      ],
      "source": [
        "find_cosine_similarity(first_news, 0, 3)#เทียบ ข้อความที่ต้องการตรวจสอบบน cofact กับ เนื้อหาข่าว paragraph แรกของข่าวที่เชื่อถือได้"
      ]
    },
    {
      "cell_type": "markdown",
      "metadata": {
        "id": "k55lf3WHjbFI"
      },
      "source": [
        "# ข่าวที่ 14"
      ]
    },
    {
      "cell_type": "code",
      "execution_count": 160,
      "metadata": {
        "id": "9zd0Fk7skv7M"
      },
      "outputs": [],
      "source": [
        "a = remove_emojis('⚠️ประกาศ เตือนภัย มิจฉาชีพแฝงตัวในสื่อออนไลน์ช่องทางต่างๆ โปรดระวัง เฟซบุ๊ก บัญชีไลน์ หรือ อีเมล ปลอม ส่งคิวอาร์โค้ด พร้อมเพย์ PromptPay เพื่อให้ท่านโอนเงินค่าวัคซีน🌐เพจเฟซบุ๊กปลอม นำตราสัญลักษณ์และภาพไปใช้ โดยชื่อเพจไม่ใช่ของโรงพยาบาลจุฬาภรณ์ ราชวิทยาลัยจุฬาภรณ์ราชวิทยาลัยจุฬาภรณ์มีเฟซบุ๊ค 2 เพจเท่านั้นที่ใช้สื่อสารเรื่องการจัดสรรวัคซีน ได้แก่1️⃣ โรงพยาบาลจุฬาภรณ์ ราชวิทยาลัยจุฬาภรณ์ (โรงพยาบาลจุฬาภรณ์ ราชวิทยาลัยจุฬาภรณ์)ผู้ติดตาม 662kและ2️⃣ ศูนย์ข้อมูลราชวิทยาลัยจุฬาภรณ์ (ศูนย์ข้อมูลราชวิทยาลัยจุฬาภรณ์)ผู้ติดตาม 155k❎บัญชีไลน์ปลอม ส่งคิวอาร์โค้ด พร้อมเพย์ PromptPay ให้โอนเงินราชวิทยาลัยจุฬาภรณ์ มีช่องทาง LINE Official account: @ChulabhornhospitalAdd Friend > http://nav.cx/8DqLuQm มีผู้ติดตามเป็น Friends 2.6M สำหรับใช้สื่อสารบริการและประกาศประชาสัมพันธ์ต่างๆเท่านั้น ไม่มีบริการตอบคำถามประชาชนในไลน์บัญชีนี้ทั้งนี้ ไม่มีบริการส่ง Link โอนเงินค่าวัคซีนซิโนฟาร์ม หรือวัคซีนโควิด19 ทุกชนิดผ่านไลน์ !!! และไม่มีการจัดตั้งบัญชี LINE ศูนย์ข้อมูลราชวิทยาลัยจุฬาภรณ์ เพื่อบริการตอบคำถามประชาชน📧อีเมลปลอม ส่งคิวอาร์โค้ด พร้อมเพย์ PromptPay ให้โอนเงินองค์กร/นิติบุคคล ที่ได้รับการจัดสรรวัคซีนสามารถตรวจสอบวิธีการโอนเงิน และพิมพ์ใบนำฝากเงิน ผ่านการล็อคอินเข้าสู่ระบบ “ลงทะเบียนองค์กรผู้ได้รับการจัดสรรวัคซีน” ของราชวิทยาลัยจุฬาภรณ์ เท่านั้น เพื่อโอนเงินผ่านช่องทางต่างๆที่ราชวิทยาลัยจุฬาภรณ์กำหนด❌ไม่มีการโอนเงินผ่านพร้อมเพย์ประกาศ ณ วันที่ 18 กันยายน 2564')"
      ]
    },
    {
      "cell_type": "code",
      "execution_count": 161,
      "metadata": {
        "id": "BFCePvhbjbFJ"
      },
      "outputs": [],
      "source": [
        "clean_text = [a,'การจัดสรรวัคซีนสามารถตรวจสอบวิธีการโอนเงิน และพิมพ์ใบนำฝากเงิน ผ่านการล็อกอินเข้าสู่ระบบ “ลงทะเบียนองค์กรผู้ได้รับการจัดสรรวัคซีน” ของราชวิทยาลัยจุฬาภรณ์เท่านั้น เพื่อโอนเงินผ่านช่องทางต่างๆ ที่ราชวิทยาลัยจุฬาภรณ์กำหนด โดยไม่มีการโอนเงินผ่านพร้อมเพย์...','ราชวิทยาลัยจุฬาภรณ์เตือนภัยมิจฉาชีพ หลอกโอนเงินค่าวัคซีน','ราชวิทยาลัยจุฬาภรณ์ ได้โพสต์เตือนภัยมิจฉาชีพ หลอกโอนเงินค่าวัคซีน แฉวิธีลวงเหยื่อ สร้างเฟซบุ๊ก บัญชีไลน์ หรือ อีเมล ปลอม ส่งคิวอาร์โค้ด พร้อมเพย์']"
      ]
    },
    {
      "cell_type": "markdown",
      "metadata": {
        "id": "XMumeZnajbFJ"
      },
      "source": [
        "**Step 2: Tokenize**"
      ]
    },
    {
      "cell_type": "code",
      "execution_count": 162,
      "metadata": {
        "colab": {
          "base_uri": "https://localhost:8080/"
        },
        "id": "yYoCtAm4jbFJ",
        "outputId": "1be1ecb0-9262-4988-b459-ca54c53246e8"
      },
      "outputs": [
        {
          "name": "stdout",
          "output_type": "stream",
          "text": [
            "tokenized text:\n",
            " ['ประกาศ', 'เตือน', 'ภัย', 'มิจฉาชีพ', 'แฝง', 'ตัว', 'สื่อ', 'ออนไลน์', 'ช่อง', 'โปรด', 'ระวัง', 'เฟ', 'ซบุ๊ก', 'บัญชี', 'ไลน์', 'อีเมล', 'ปลอม', 'คิว', 'อาร์', 'โค้ด', 'เพย์', 'PromptPay', 'ท่าน', 'โอน', 'เงิน', 'ค่า', 'วัค', 'ซีน', 'เพจ', 'เฟ', 'ซบุ๊ก', 'ปลอม', 'ตรา', 'สัญลักษณ์', 'ภาพ', 'ชื่อ', 'เพจ', 'โรง', 'พยาบาล', 'จุฬา', 'ภ', 'รณ์', 'ราช', 'วิทยา', 'ลัย', 'จุฬา', 'ภ', 'รณ์', 'ราช', 'วิทยา', 'ลัย', 'จุฬา', 'ภ', 'รณ์', 'เฟ', 'ซบุ๊ค', 'เพจ', 'สื่อสาร', 'เรื่อง', 'จัดสรร', 'วัคซีน', '1⃣', 'โรง', 'พยาบาล', 'จุฬา', 'ภ', 'รณ์', 'ราช', 'วิทยา', 'ลัย', 'จุฬา', 'ภ', 'รณ์', 'โรง', 'พยาบาล', 'จุฬา', 'ภ', 'รณ์', 'ราช', 'วิทยา', 'ลัย', 'จุฬา', 'ภ', 'รณ์', 'ติดตาม', '662k', '2⃣', 'ศูนย์', 'ข้อมูล', 'ราช', 'วิทยา', 'ลัย', 'จุฬา', 'ภ', 'รณ์', 'ศูนย์', 'ข้อมูล', 'ราช', 'วิทยา', 'ลัย', 'จุฬา', 'ภ', 'รณ์', 'ติดตาม', '155k', 'บัญชี', 'ไลน์', 'ปลอม', 'คิว', 'อาร์', 'โค้ด', 'เพย์', 'PromptPay', 'โอน', 'เงิน', 'ราช', 'วิทยา', 'ลัย', 'จุฬา', 'ภ', 'รณ์', 'ช่อง', 'LINE', 'Official', 'account', 'ChulabhornhospitalAdd', 'Friend', 'http', 'nav.cx', '8DqLuQm', 'ติดตาม', 'Friends', '2.6M', 'สำหรับ', 'สื่อสาร', 'บริการ', 'ประกาศ', 'ประชาสัมพันธ์', 'ไม่มี', 'บริการ', 'ตอบ', 'คำถาม', 'ประชาชน', 'ไลน์', 'บัญชี', 'ไม่มี', 'บริการ', 'Link', 'โอน', 'เงิน', 'ค่า', 'วัคซีน', 'ซิ', 'โน', 'ฟาร์ม', 'วัคซีน', 'โค', 'วิด', 'ชนิด', 'ไลน์', 'ไม่มี', 'บัญชี', 'LINE', 'ศูนย์', 'ข้อมูล', 'ราช', 'วิทยา', 'ลัย', 'จุฬา', 'ภ', 'รณ์', 'บริการ', 'ตอบ', 'คำถาม', 'ประชาชน', 'อีเมล', 'ปลอม', 'คิว', 'อาร์', 'โค้ด', 'เพย์', 'PromptPay', 'โอน', 'เงิน', 'องค์กร', 'นิติบุคคล', 'จัดสรร', 'วัคซีน', 'ตรวจ', 'สอบ', 'วิธี', 'โอน', 'เงิน', 'พิมพ์', 'ใบ', 'ฝาก', 'เงิน', 'ล็อค', 'อิน', 'ระบบ', 'ทะเบียน', 'องค์กร', 'จัดสรร', 'วัคซีน', 'ราช', 'วิทยา', 'ลัย', 'จุฬา', 'ภ', 'รณ์', 'โอน', 'เงิน', 'ช่อง', 'ราช', 'วิทยา', 'ลัย', 'จุฬา', 'ภ', 'รณ์', 'ไม่มี', 'โอน', 'เงิน', 'เพย์', 'ประกาศ', 'กันยายน']\n",
            "tokenized text:\n",
            " ['จัดสรร', 'วัคซีน', 'ตรวจ', 'สอบ', 'วิธี', 'โอน', 'เงิน', 'พิมพ์', 'ใบ', 'ฝาก', 'เงิน', 'ล็อกอิน', 'ระบบ', 'ทะเบียน', 'องค์กร', 'จัดสรร', 'วัคซีน', 'ราช', 'วิทยา', 'ลัย', 'จุฬา', 'ภ', 'รณ์', 'โอน', 'เงิน', 'ช่อง', 'ราช', 'วิทยา', 'ลัย', 'จุฬา', 'ภ', 'รณ์', 'ไม่มี', 'โอน', 'เงิน', 'เพย์']\n",
            "tokenized text:\n",
            " ['ราช', 'วิทยา', 'ลัย', 'จุฬา', 'ภ', 'รณ์', 'เตือน', 'ภัย', 'มิจฉาชีพ', 'หลอก', 'โอน', 'เงิน', 'ค่า', 'วัคซีน']\n",
            "tokenized text:\n",
            " ['ราช', 'วิทยา', 'ลัย', 'จุฬา', 'ภ', 'รณ์', 'โพสต์', 'เตือน', 'ภัย', 'มิจฉาชีพ', 'หลอก', 'โอน', 'เงิน', 'ค่า', 'วัคซีน', 'แฉ', 'วิธี', 'ลวง', 'เหยื่อ', 'สร้าง', 'เฟ', 'ซบุ๊ก', 'บัญชี', 'ไลน์', 'อีเมล', 'ปลอม', 'คิว', 'อาร์', 'โค้ด', 'เพย์']\n"
          ]
        }
      ],
      "source": [
        "print('tokenized text:\\n',split_word(clean_text[0])) #ข้อความที่ต้องการตรวจสอบบน cofact\n",
        "print('tokenized text:\\n',split_word(clean_text[1])) #ข้อความสรุปใน cofact\n",
        "print('tokenized text:\\n',split_word(clean_text[2])) #หัวข่าวอ้างอิง\n",
        "print('tokenized text:\\n',split_word(clean_text[3])) #เนื้อหาข่าวอ้างอิง paragraph แรก"
      ]
    },
    {
      "cell_type": "code",
      "execution_count": 163,
      "metadata": {
        "id": "heyFzkrSjbFJ"
      },
      "outputs": [],
      "source": [
        "tokens_list = [split_word(txt) for txt in clean_text]"
      ]
    },
    {
      "cell_type": "code",
      "execution_count": 164,
      "metadata": {
        "colab": {
          "base_uri": "https://localhost:8080/"
        },
        "id": "AgTy-PnOjbFJ",
        "outputId": "c952d839-11f7-43de-9877-35265e62cfe4"
      },
      "outputs": [
        {
          "data": {
            "text/plain": [
              "[['ประกาศ',\n",
              "  'เตือน',\n",
              "  'ภัย',\n",
              "  'มิจฉาชีพ',\n",
              "  'แฝง',\n",
              "  'ตัว',\n",
              "  'สื่อ',\n",
              "  'ออนไลน์',\n",
              "  'ช่อง',\n",
              "  'โปรด',\n",
              "  'ระวัง',\n",
              "  'เฟ',\n",
              "  'ซบุ๊ก',\n",
              "  'บัญชี',\n",
              "  'ไลน์',\n",
              "  'อีเมล',\n",
              "  'ปลอม',\n",
              "  'คิว',\n",
              "  'อาร์',\n",
              "  'โค้ด',\n",
              "  'เพย์',\n",
              "  'PromptPay',\n",
              "  'ท่าน',\n",
              "  'โอน',\n",
              "  'เงิน',\n",
              "  'ค่า',\n",
              "  'วัค',\n",
              "  'ซีน',\n",
              "  'เพจ',\n",
              "  'เฟ',\n",
              "  'ซบุ๊ก',\n",
              "  'ปลอม',\n",
              "  'ตรา',\n",
              "  'สัญลักษณ์',\n",
              "  'ภาพ',\n",
              "  'ชื่อ',\n",
              "  'เพจ',\n",
              "  'โรง',\n",
              "  'พยาบาล',\n",
              "  'จุฬา',\n",
              "  'ภ',\n",
              "  'รณ์',\n",
              "  'ราช',\n",
              "  'วิทยา',\n",
              "  'ลัย',\n",
              "  'จุฬา',\n",
              "  'ภ',\n",
              "  'รณ์',\n",
              "  'ราช',\n",
              "  'วิทยา',\n",
              "  'ลัย',\n",
              "  'จุฬา',\n",
              "  'ภ',\n",
              "  'รณ์',\n",
              "  'เฟ',\n",
              "  'ซบุ๊ค',\n",
              "  'เพจ',\n",
              "  'สื่อสาร',\n",
              "  'เรื่อง',\n",
              "  'จัดสรร',\n",
              "  'วัคซีน',\n",
              "  '1⃣',\n",
              "  'โรง',\n",
              "  'พยาบาล',\n",
              "  'จุฬา',\n",
              "  'ภ',\n",
              "  'รณ์',\n",
              "  'ราช',\n",
              "  'วิทยา',\n",
              "  'ลัย',\n",
              "  'จุฬา',\n",
              "  'ภ',\n",
              "  'รณ์',\n",
              "  'โรง',\n",
              "  'พยาบาล',\n",
              "  'จุฬา',\n",
              "  'ภ',\n",
              "  'รณ์',\n",
              "  'ราช',\n",
              "  'วิทยา',\n",
              "  'ลัย',\n",
              "  'จุฬา',\n",
              "  'ภ',\n",
              "  'รณ์',\n",
              "  'ติดตาม',\n",
              "  '662k',\n",
              "  '2⃣',\n",
              "  'ศูนย์',\n",
              "  'ข้อมูล',\n",
              "  'ราช',\n",
              "  'วิทยา',\n",
              "  'ลัย',\n",
              "  'จุฬา',\n",
              "  'ภ',\n",
              "  'รณ์',\n",
              "  'ศูนย์',\n",
              "  'ข้อมูล',\n",
              "  'ราช',\n",
              "  'วิทยา',\n",
              "  'ลัย',\n",
              "  'จุฬา',\n",
              "  'ภ',\n",
              "  'รณ์',\n",
              "  'ติดตาม',\n",
              "  '155k',\n",
              "  'บัญชี',\n",
              "  'ไลน์',\n",
              "  'ปลอม',\n",
              "  'คิว',\n",
              "  'อาร์',\n",
              "  'โค้ด',\n",
              "  'เพย์',\n",
              "  'PromptPay',\n",
              "  'โอน',\n",
              "  'เงิน',\n",
              "  'ราช',\n",
              "  'วิทยา',\n",
              "  'ลัย',\n",
              "  'จุฬา',\n",
              "  'ภ',\n",
              "  'รณ์',\n",
              "  'ช่อง',\n",
              "  'LINE',\n",
              "  'Official',\n",
              "  'account',\n",
              "  'ChulabhornhospitalAdd',\n",
              "  'Friend',\n",
              "  'http',\n",
              "  'nav.cx',\n",
              "  '8DqLuQm',\n",
              "  'ติดตาม',\n",
              "  'Friends',\n",
              "  '2.6M',\n",
              "  'สำหรับ',\n",
              "  'สื่อสาร',\n",
              "  'บริการ',\n",
              "  'ประกาศ',\n",
              "  'ประชาสัมพันธ์',\n",
              "  'ไม่มี',\n",
              "  'บริการ',\n",
              "  'ตอบ',\n",
              "  'คำถาม',\n",
              "  'ประชาชน',\n",
              "  'ไลน์',\n",
              "  'บัญชี',\n",
              "  'ไม่มี',\n",
              "  'บริการ',\n",
              "  'Link',\n",
              "  'โอน',\n",
              "  'เงิน',\n",
              "  'ค่า',\n",
              "  'วัคซีน',\n",
              "  'ซิ',\n",
              "  'โน',\n",
              "  'ฟาร์ม',\n",
              "  'วัคซีน',\n",
              "  'โค',\n",
              "  'วิด',\n",
              "  'ชนิด',\n",
              "  'ไลน์',\n",
              "  'ไม่มี',\n",
              "  'บัญชี',\n",
              "  'LINE',\n",
              "  'ศูนย์',\n",
              "  'ข้อมูล',\n",
              "  'ราช',\n",
              "  'วิทยา',\n",
              "  'ลัย',\n",
              "  'จุฬา',\n",
              "  'ภ',\n",
              "  'รณ์',\n",
              "  'บริการ',\n",
              "  'ตอบ',\n",
              "  'คำถาม',\n",
              "  'ประชาชน',\n",
              "  'อีเมล',\n",
              "  'ปลอม',\n",
              "  'คิว',\n",
              "  'อาร์',\n",
              "  'โค้ด',\n",
              "  'เพย์',\n",
              "  'PromptPay',\n",
              "  'โอน',\n",
              "  'เงิน',\n",
              "  'องค์กร',\n",
              "  'นิติบุคคล',\n",
              "  'จัดสรร',\n",
              "  'วัคซีน',\n",
              "  'ตรวจ',\n",
              "  'สอบ',\n",
              "  'วิธี',\n",
              "  'โอน',\n",
              "  'เงิน',\n",
              "  'พิมพ์',\n",
              "  'ใบ',\n",
              "  'ฝาก',\n",
              "  'เงิน',\n",
              "  'ล็อค',\n",
              "  'อิน',\n",
              "  'ระบบ',\n",
              "  'ทะเบียน',\n",
              "  'องค์กร',\n",
              "  'จัดสรร',\n",
              "  'วัคซีน',\n",
              "  'ราช',\n",
              "  'วิทยา',\n",
              "  'ลัย',\n",
              "  'จุฬา',\n",
              "  'ภ',\n",
              "  'รณ์',\n",
              "  'โอน',\n",
              "  'เงิน',\n",
              "  'ช่อง',\n",
              "  'ราช',\n",
              "  'วิทยา',\n",
              "  'ลัย',\n",
              "  'จุฬา',\n",
              "  'ภ',\n",
              "  'รณ์',\n",
              "  'ไม่มี',\n",
              "  'โอน',\n",
              "  'เงิน',\n",
              "  'เพย์',\n",
              "  'ประกาศ',\n",
              "  'กันยายน'],\n",
              " ['จัดสรร',\n",
              "  'วัคซีน',\n",
              "  'ตรวจ',\n",
              "  'สอบ',\n",
              "  'วิธี',\n",
              "  'โอน',\n",
              "  'เงิน',\n",
              "  'พิมพ์',\n",
              "  'ใบ',\n",
              "  'ฝาก',\n",
              "  'เงิน',\n",
              "  'ล็อกอิน',\n",
              "  'ระบบ',\n",
              "  'ทะเบียน',\n",
              "  'องค์กร',\n",
              "  'จัดสรร',\n",
              "  'วัคซีน',\n",
              "  'ราช',\n",
              "  'วิทยา',\n",
              "  'ลัย',\n",
              "  'จุฬา',\n",
              "  'ภ',\n",
              "  'รณ์',\n",
              "  'โอน',\n",
              "  'เงิน',\n",
              "  'ช่อง',\n",
              "  'ราช',\n",
              "  'วิทยา',\n",
              "  'ลัย',\n",
              "  'จุฬา',\n",
              "  'ภ',\n",
              "  'รณ์',\n",
              "  'ไม่มี',\n",
              "  'โอน',\n",
              "  'เงิน',\n",
              "  'เพย์'],\n",
              " ['ราช',\n",
              "  'วิทยา',\n",
              "  'ลัย',\n",
              "  'จุฬา',\n",
              "  'ภ',\n",
              "  'รณ์',\n",
              "  'เตือน',\n",
              "  'ภัย',\n",
              "  'มิจฉาชีพ',\n",
              "  'หลอก',\n",
              "  'โอน',\n",
              "  'เงิน',\n",
              "  'ค่า',\n",
              "  'วัคซีน'],\n",
              " ['ราช',\n",
              "  'วิทยา',\n",
              "  'ลัย',\n",
              "  'จุฬา',\n",
              "  'ภ',\n",
              "  'รณ์',\n",
              "  'โพสต์',\n",
              "  'เตือน',\n",
              "  'ภัย',\n",
              "  'มิจฉาชีพ',\n",
              "  'หลอก',\n",
              "  'โอน',\n",
              "  'เงิน',\n",
              "  'ค่า',\n",
              "  'วัคซีน',\n",
              "  'แฉ',\n",
              "  'วิธี',\n",
              "  'ลวง',\n",
              "  'เหยื่อ',\n",
              "  'สร้าง',\n",
              "  'เฟ',\n",
              "  'ซบุ๊ก',\n",
              "  'บัญชี',\n",
              "  'ไลน์',\n",
              "  'อีเมล',\n",
              "  'ปลอม',\n",
              "  'คิว',\n",
              "  'อาร์',\n",
              "  'โค้ด',\n",
              "  'เพย์']]"
            ]
          },
          "execution_count": 164,
          "metadata": {},
          "output_type": "execute_result"
        }
      ],
      "source": [
        "tokens_list"
      ]
    },
    {
      "cell_type": "markdown",
      "metadata": {
        "id": "VJ7gHfR9jbFJ"
      },
      "source": [
        "**Step 3 + 4a: Bag of words + count word**"
      ]
    },
    {
      "cell_type": "code",
      "execution_count": 165,
      "metadata": {
        "id": "XOQGuXn_jbFK"
      },
      "outputs": [],
      "source": [
        "from sklearn.feature_extraction.text import CountVectorizer\n",
        "tokens_list_j = [','.join(tkn) for tkn in tokens_list]\n",
        "cvec = CountVectorizer(analyzer=lambda x:x.split(','))\n",
        "c_feat = cvec.fit_transform(tokens_list_j)"
      ]
    },
    {
      "cell_type": "code",
      "execution_count": 166,
      "metadata": {
        "colab": {
          "base_uri": "https://localhost:8080/"
        },
        "id": "A3GfNicJjbFK",
        "outputId": "a0ee2f60-ab17-44ed-c728-6686b12979c9"
      },
      "outputs": [
        {
          "data": {
            "text/plain": [
              "{'ประกาศ': 40,\n",
              " 'เตือน': 79,\n",
              " 'ภัย': 49,\n",
              " 'มิจฉาชีพ': 51,\n",
              " 'แฝง': 86,\n",
              " 'ตัว': 33,\n",
              " 'สื่อ': 70,\n",
              " 'ออนไลน์': 74,\n",
              " 'ช่อง': 25,\n",
              " 'โปรด': 90,\n",
              " 'ระวัง': 54,\n",
              " 'เฟ': 82,\n",
              " 'ซบุ๊ก': 26,\n",
              " 'บัญชี': 39,\n",
              " 'ไลน์': 96,\n",
              " 'อีเมล': 77,\n",
              " 'ปลอม': 43,\n",
              " 'คิว': 19,\n",
              " 'อาร์': 75,\n",
              " 'โค้ด': 88,\n",
              " 'เพย์': 81,\n",
              " 'PromptPay': 12,\n",
              " 'ท่าน': 36,\n",
              " 'โอน': 93,\n",
              " 'เงิน': 78,\n",
              " 'ค่า': 20,\n",
              " 'วัค': 60,\n",
              " 'ซีน': 29,\n",
              " 'เพจ': 80,\n",
              " 'ตรา': 31,\n",
              " 'สัญลักษณ์': 68,\n",
              " 'ภาพ': 50,\n",
              " 'ชื่อ': 24,\n",
              " 'โรง': 92,\n",
              " 'พยาบาล': 45,\n",
              " 'จุฬา': 22,\n",
              " 'ภ': 48,\n",
              " 'รณ์': 52,\n",
              " 'ราช': 55,\n",
              " 'วิทยา': 63,\n",
              " 'ลัย': 57,\n",
              " 'ซบุ๊ค': 27,\n",
              " 'สื่อสาร': 71,\n",
              " 'เรื่อง': 83,\n",
              " 'จัดสรร': 21,\n",
              " 'วัคซีน': 61,\n",
              " '1⃣': 1,\n",
              " 'ติดตาม': 34,\n",
              " '662k': 4,\n",
              " '2⃣': 3,\n",
              " 'ศูนย์': 65,\n",
              " 'ข้อมูล': 17,\n",
              " '155k': 0,\n",
              " 'LINE': 9,\n",
              " 'Official': 11,\n",
              " 'account': 13,\n",
              " 'ChulabhornhospitalAdd': 6,\n",
              " 'Friend': 7,\n",
              " 'http': 14,\n",
              " 'nav.cx': 15,\n",
              " '8DqLuQm': 5,\n",
              " 'Friends': 8,\n",
              " '2.6M': 2,\n",
              " 'สำหรับ': 69,\n",
              " 'บริการ': 38,\n",
              " 'ประชาสัมพันธ์': 42,\n",
              " 'ไม่มี': 95,\n",
              " 'ตอบ': 32,\n",
              " 'คำถาม': 18,\n",
              " 'ประชาชน': 41,\n",
              " 'Link': 10,\n",
              " 'ซิ': 28,\n",
              " 'โน': 89,\n",
              " 'ฟาร์ม': 47,\n",
              " 'โค': 87,\n",
              " 'วิด': 62,\n",
              " 'ชนิด': 23,\n",
              " 'องค์กร': 73,\n",
              " 'นิติบุคคล': 37,\n",
              " 'ตรวจ': 30,\n",
              " 'สอบ': 67,\n",
              " 'วิธี': 64,\n",
              " 'พิมพ์': 46,\n",
              " 'ใบ': 94,\n",
              " 'ฝาก': 44,\n",
              " 'ล็อค': 59,\n",
              " 'อิน': 76,\n",
              " 'ระบบ': 53,\n",
              " 'ทะเบียน': 35,\n",
              " 'กันยายน': 16,\n",
              " 'ล็อกอิน': 58,\n",
              " 'หลอก': 72,\n",
              " 'โพสต์': 91,\n",
              " 'แฉ': 85,\n",
              " 'ลวง': 56,\n",
              " 'เหยื่อ': 84,\n",
              " 'สร้าง': 66}"
            ]
          },
          "execution_count": 166,
          "metadata": {},
          "output_type": "execute_result"
        }
      ],
      "source": [
        "cvec.vocabulary_"
      ]
    },
    {
      "cell_type": "code",
      "execution_count": 167,
      "metadata": {
        "colab": {
          "base_uri": "https://localhost:8080/"
        },
        "id": "5opHkpdFjbFK",
        "outputId": "012943ac-b454-4312-9169-91c331f738ae"
      },
      "outputs": [
        {
          "data": {
            "text/plain": [
              "matrix([[ 1,  1,  1,  1,  1,  1,  1,  1,  1,  2,  1,  1,  3,  1,  1,  1,\n",
              "          1,  3,  2,  3,  2,  3, 13,  1,  1,  3,  2,  1,  1,  1,  1,  1,\n",
              "          2,  1,  3,  1,  1,  1,  4,  4,  3,  2,  1,  4,  1,  3,  1,  1,\n",
              "         13,  1,  1,  1, 13,  1,  1, 10,  0, 10,  0,  1,  1,  5,  1, 10,\n",
              "          1,  3,  0,  1,  1,  1,  1,  2,  0,  2,  1,  3,  1,  2,  8,  1,\n",
              "          3,  4,  3,  1,  0,  0,  1,  1,  3,  1,  1,  0,  3,  7,  1,  4,\n",
              "          4],\n",
              "        [ 0,  0,  0,  0,  0,  0,  0,  0,  0,  0,  0,  0,  0,  0,  0,  0,\n",
              "          0,  0,  0,  0,  0,  2,  2,  0,  0,  1,  0,  0,  0,  0,  1,  0,\n",
              "          0,  0,  0,  1,  0,  0,  0,  0,  0,  0,  0,  0,  1,  0,  1,  0,\n",
              "          2,  0,  0,  0,  2,  1,  0,  2,  0,  2,  1,  0,  0,  2,  0,  2,\n",
              "          1,  0,  0,  1,  0,  0,  0,  0,  0,  1,  0,  0,  0,  0,  4,  0,\n",
              "          0,  1,  0,  0,  0,  0,  0,  0,  0,  0,  0,  0,  0,  3,  1,  1,\n",
              "          0],\n",
              "        [ 0,  0,  0,  0,  0,  0,  0,  0,  0,  0,  0,  0,  0,  0,  0,  0,\n",
              "          0,  0,  0,  0,  1,  0,  1,  0,  0,  0,  0,  0,  0,  0,  0,  0,\n",
              "          0,  0,  0,  0,  0,  0,  0,  0,  0,  0,  0,  0,  0,  0,  0,  0,\n",
              "          1,  1,  0,  1,  1,  0,  0,  1,  0,  1,  0,  0,  0,  1,  0,  1,\n",
              "          0,  0,  0,  0,  0,  0,  0,  0,  1,  0,  0,  0,  0,  0,  1,  1,\n",
              "          0,  0,  0,  0,  0,  0,  0,  0,  0,  0,  0,  0,  0,  1,  0,  0,\n",
              "          0],\n",
              "        [ 0,  0,  0,  0,  0,  0,  0,  0,  0,  0,  0,  0,  0,  0,  0,  0,\n",
              "          0,  0,  0,  1,  1,  0,  1,  0,  0,  0,  1,  0,  0,  0,  0,  0,\n",
              "          0,  0,  0,  0,  0,  0,  0,  1,  0,  0,  0,  1,  0,  0,  0,  0,\n",
              "          1,  1,  0,  1,  1,  0,  0,  1,  1,  1,  0,  0,  0,  1,  0,  1,\n",
              "          1,  0,  1,  0,  0,  0,  0,  0,  1,  0,  0,  1,  0,  1,  1,  1,\n",
              "          0,  1,  1,  0,  1,  1,  0,  0,  1,  0,  0,  1,  0,  1,  0,  0,\n",
              "          1]], dtype=int64)"
            ]
          },
          "execution_count": 167,
          "metadata": {},
          "output_type": "execute_result"
        }
      ],
      "source": [
        "c_feat[:,:].todense()"
      ]
    },
    {
      "cell_type": "code",
      "execution_count": 168,
      "metadata": {
        "colab": {
          "base_uri": "https://localhost:8080/"
        },
        "id": "qyYOwI2VjbFK",
        "outputId": "48ef326d-3eaf-4024-a4e9-361ca490b41c"
      },
      "outputs": [
        {
          "name": "stdout",
          "output_type": "stream",
          "text": [
            "[[ 1  1  1  1  1  1  1  1  1  2  1  1  3  1  1  1  1  3  2  3  2  3 13  1\n",
            "   1  3  2  1  1  1  1  1  2  1  3  1  1  1  4  4  3  2  1  4  1  3  1  1\n",
            "  13  1  1  1 13  1  1 10  0 10  0  1  1  5  1 10  1  3  0  1  1  1  1  2\n",
            "   0  2  1  3  1  2  8  1  3  4  3  1  0  0  1  1  3  1  1  0  3  7  1  4\n",
            "   4]\n",
            " [ 0  0  0  0  0  0  0  0  0  0  0  0  0  0  0  0  0  0  0  0  0  2  2  0\n",
            "   0  1  0  0  0  0  1  0  0  0  0  1  0  0  0  0  0  0  0  0  1  0  1  0\n",
            "   2  0  0  0  2  1  0  2  0  2  1  0  0  2  0  2  1  0  0  1  0  0  0  0\n",
            "   0  1  0  0  0  0  4  0  0  1  0  0  0  0  0  0  0  0  0  0  0  3  1  1\n",
            "   0]\n",
            " [ 0  0  0  0  0  0  0  0  0  0  0  0  0  0  0  0  0  0  0  0  1  0  1  0\n",
            "   0  0  0  0  0  0  0  0  0  0  0  0  0  0  0  0  0  0  0  0  0  0  0  0\n",
            "   1  1  0  1  1  0  0  1  0  1  0  0  0  1  0  1  0  0  0  0  0  0  0  0\n",
            "   1  0  0  0  0  0  1  1  0  0  0  0  0  0  0  0  0  0  0  0  0  1  0  0\n",
            "   0]\n",
            " [ 0  0  0  0  0  0  0  0  0  0  0  0  0  0  0  0  0  0  0  1  1  0  1  0\n",
            "   0  0  1  0  0  0  0  0  0  0  0  0  0  0  0  1  0  0  0  1  0  0  0  0\n",
            "   1  1  0  1  1  0  0  1  1  1  0  0  0  1  0  1  1  0  1  0  0  0  0  0\n",
            "   1  0  0  1  0  1  1  1  0  1  1  0  1  1  0  0  1  0  0  1  0  1  0  0\n",
            "   1]]\n"
          ]
        }
      ],
      "source": [
        "#first_news เป็น array ของข่าว โดย row ที่ 1 = ข่าวที่ต้องการตรวจสอบจาก cofact, row ที่ 2 = ข้อความสรุปใน cofact, row ที่ 3 = หัวข้อข่าวที่เชื่อถือได้ , row ที่ 4 = เนื้อหาข่าว paragraph แรกของข่าวที่เชื่อถือได้\n",
        "first_news = c_feat[:,:].todense()\n",
        "print(first_news) "
      ]
    },
    {
      "cell_type": "code",
      "execution_count": 169,
      "metadata": {
        "colab": {
          "base_uri": "https://localhost:8080/"
        },
        "id": "M01TxfdQjbFK",
        "outputId": "4ab50982-3e99-4d38-f35a-2c3605cfe73d"
      },
      "outputs": [
        {
          "data": {
            "text/plain": [
              "97"
            ]
          },
          "execution_count": 169,
          "metadata": {},
          "output_type": "execute_result"
        }
      ],
      "source": [
        "first_news.shape[1]"
      ]
    },
    {
      "cell_type": "code",
      "execution_count": 170,
      "metadata": {
        "colab": {
          "base_uri": "https://localhost:8080/"
        },
        "id": "5TDr0tn7jbFK",
        "outputId": "780736eb-dbd2-4738-ef58-d95f48becfad"
      },
      "outputs": [
        {
          "name": "stdout",
          "output_type": "stream",
          "text": [
            "This is sum (upperpart) : 228\n",
            "This is lowerpart : 296.3950067055786\n"
          ]
        },
        {
          "data": {
            "text/plain": [
              "0.7692437282740117"
            ]
          },
          "execution_count": 170,
          "metadata": {},
          "output_type": "execute_result"
        }
      ],
      "source": [
        "find_cosine_similarity(first_news, 0, 1) #เทียบ ข้อความที่ต้องการตรวจสอบบน cofact กับ ข้อความสรุปใน cofact"
      ]
    },
    {
      "cell_type": "code",
      "execution_count": 171,
      "metadata": {
        "colab": {
          "base_uri": "https://localhost:8080/"
        },
        "id": "RQbGv6UejbFL",
        "outputId": "c595b1ed-c5a6-4fd3-894c-94b6732254a5"
      },
      "outputs": [
        {
          "name": "stdout",
          "output_type": "stream",
          "text": [
            "This is sum (upperpart) : 94\n",
            "This is lowerpart : 132.55187663703595\n"
          ]
        },
        {
          "data": {
            "text/plain": [
              "0.7091563121161857"
            ]
          },
          "execution_count": 171,
          "metadata": {},
          "output_type": "execute_result"
        }
      ],
      "source": [
        "find_cosine_similarity(first_news, 0, 2)#เทียบ ข้อความที่ต้องการตรวจสอบบน cofact กับ หัวข้อข่าวที่เชื่อถือได้"
      ]
    },
    {
      "cell_type": "code",
      "execution_count": 172,
      "metadata": {
        "colab": {
          "base_uri": "https://localhost:8080/"
        },
        "id": "XUl32VPxjbFL",
        "outputId": "3b066645-7376-4448-e603-cf2af50d17a8"
      },
      "outputs": [
        {
          "name": "stdout",
          "output_type": "stream",
          "text": [
            "This is sum (upperpart) : 127\n",
            "This is lowerpart : 194.03607911932255\n"
          ]
        },
        {
          "data": {
            "text/plain": [
              "0.654517451478193"
            ]
          },
          "execution_count": 172,
          "metadata": {},
          "output_type": "execute_result"
        }
      ],
      "source": [
        "find_cosine_similarity(first_news, 0, 3)#เทียบ ข้อความที่ต้องการตรวจสอบบน cofact กับ เนื้อหาข่าว paragraph แรกของข่าวที่เชื่อถือได้"
      ]
    },
    {
      "cell_type": "markdown",
      "metadata": {
        "id": "Rdy5w_3Klkkh"
      },
      "source": [
        "# ข่าวที่ 15"
      ]
    },
    {
      "cell_type": "code",
      "execution_count": 173,
      "metadata": {
        "id": "mm1ZkNDvlkkh"
      },
      "outputs": [],
      "source": [
        "clean_text = ['ประชาชนที่ได้รับความเสียหายหรือเกิดอาการไม่พึงประสงค์หลังรับวัคซีนโควิด-19 ที่ภาครัฐจัดให้ สามารถยื่นคำร้องขอรับเงินช่วยเหลือได้ที่ รพ. ที่ฉีดสำนักงานสาธารณสุขจังหวัด หรือ สปสช. พื้นที่ ทั้ง 13 เขตทั่วประเทศ ภายใน 2 ปีนับตั้งแต่วันที่ทราบความเสียหาย 1.กรณีเสียชีวิตหรือทุพพลภาพถาวร ช่วยเหลือไม่เกิน 400,000 บาท 2.กรณีสูญเสียอวัยวะหรือพิการ ช่วยเหลือไม่เกิน 240,000 บาท 3.กรณีเกิดภาวะเจ็บป่วยที่ต้องรับการรักษาไม่เกิน 1 แสนบาท โดยเตรียมเอกสาร 1.สำเนาบัตรประชาชน 2.สำเนาใบมรณบัตร (กรณีเสียชีวิต) 3.ความเห็นแพทย์ผู้ให้การรักษา พร้อมแนบแบบคำร้อง ดาวน์โหลดที่ https://www.nhso.go.th/storage/files/841⋯dsLD-d-aETThbvoZMhUwbsijTsXLgSjv_icv-Fos สอบถามเพิ่มเติม สายด่วน สปสช. 1330 #TPchannel #วิทยุและโทรทัศน์รัฐสภา','ได้รับความเสียหาย (แพ้วัคซีน) หรือเกิดอาการไม่พึงประสงค์หลังได้รับการ \"ฉีดวัคซีนโควิด-19\" ที่ภาครัฐจัดให้ สามารถยื่นคำร้องขอรับเงินช่วยเหลือได้ที่โรงพยาบาล ที่ฉีดสำนักงานสาธารณสุขจังหวัด หรือ สปสช. พื้นที่ทั้ง 13 เขตทั่วประเทศ ภายใน 2 ปีนับตั้งแต่วันที่ทราบความเสียหาย','\"ฉีดวัคซีน\" แล้วแพ้ ดาวน์โหลดเอกสารยื่นคำร้องรับเงินที่นี่ เช็คเงื่อนไข','ฉีดวัคซีน\" แล้วแพ้ ดาวน์โหลดเอกสารยื่นคำร้องรับเงินที่นี่ เช็คเงื่อนไข โดยสามารถยื่นคำร้องขอรับเงินช่วยเหลือได้ที่โรงพยาบาล ที่ฉีดสำนักงานสาธารณสุขจังหวัด หรือ สปสช. พื้นที่ทั้ง 13 เขตทั่วประเทศ']"
      ]
    },
    {
      "cell_type": "markdown",
      "metadata": {
        "id": "03Gy0P9Wlkki"
      },
      "source": [
        "**Step 2: Tokenize**"
      ]
    },
    {
      "cell_type": "code",
      "execution_count": 174,
      "metadata": {
        "colab": {
          "base_uri": "https://localhost:8080/"
        },
        "id": "hQLdM2anlkki",
        "outputId": "2983660e-9182-4355-85b4-637677dbf165"
      },
      "outputs": [
        {
          "name": "stdout",
          "output_type": "stream",
          "text": [
            "tokenized text:\n",
            " ['ประชาชน', 'หาย', 'อาการ', 'ประสงค์', 'วัคซีน', 'โค', 'วิด', 'รัฐ', 'ยื่น', 'คำร้อง', 'ขอรับ', 'เงิน', 'รพ', 'ฉีด', 'สำนักงาน', 'สาธารณสุข', 'จังหวัด', 'สปสช', 'พื้นที่', 'เขต', 'ประเทศ', 'ปี', 'ทราบ', 'หาย', 'กรณี', 'ชีวิต', 'ทุพพลภาพ', 'ถาวร', '400,000', 'บาท', 'กรณี', 'สูญ', 'อวัยวะ', 'พิการ', '240,000', 'บาท', 'กรณี', 'ภาวะ', 'เจ็บ', 'ป่วย', 'รักษา', 'แสน', 'บาท', 'เตรียม', 'เอกสาร', 'สำเนา', 'บัตร', 'ประชาชน', 'สำเนา', 'ใบ', 'มรณบัตร', 'กรณี', 'ชีวิต', 'แพทย์', 'ให้การ', 'รักษา', 'แนบ', 'คำร้อง', 'ดาวน์โหลด', 'https', 'www.nhso.go.th', 'storage', 'files', '⋯', 'dsLD', 'd', 'aETThbvoZMhUwbsijTsXLgSjv_icv', 'Fos', 'สอบถาม', 'เติม', 'สาย', 'ด่วน', 'สปสช', 'TPchannel', 'วิทยุ', 'โทรทัศน์', 'รัฐสภา']\n",
            "tokenized text:\n",
            " ['หาย', 'แพ้', 'วัคซีน', 'อาการ', 'ประสงค์', 'ฉีด', 'วัคซีน', 'โค', 'วิด', 'รัฐ', 'ยื่น', 'คำร้อง', 'ขอรับ', 'เงิน', 'โรง', 'พยาบาล', 'ฉีด', 'สำนักงาน', 'สาธารณสุข', 'จังหวัด', 'สปสช', 'พื้นที่', 'เขต', 'ประเทศ', 'ปี', 'ทราบ', 'หาย']\n",
            "tokenized text:\n",
            " ['ฉีด', 'วัคซีน', 'แพ้', 'ดาวน์โหลด', 'เอกสาร', 'ยื่น', 'คำร้อง', 'เงิน', 'เช็ค', 'เงื่อนไข']\n",
            "tokenized text:\n",
            " ['ฉีด', 'วัคซีน', 'แพ้', 'ดาวน์โหลด', 'เอกสาร', 'ยื่น', 'คำร้อง', 'เงิน', 'เช็ค', 'เงื่อนไข', 'ยื่น', 'คำร้อง', 'ขอรับ', 'เงิน', 'โรง', 'พยาบาล', 'ฉีด', 'สำนักงาน', 'สาธารณสุข', 'จังหวัด', 'สปสช', 'พื้นที่', 'เขต', 'ประเทศ']\n"
          ]
        }
      ],
      "source": [
        "print('tokenized text:\\n',split_word(clean_text[0])) #ข้อความที่ต้องการตรวจสอบบน cofact\n",
        "print('tokenized text:\\n',split_word(clean_text[1])) #ข้อความสรุปใน cofact\n",
        "print('tokenized text:\\n',split_word(clean_text[2])) #หัวข่าวอ้างอิง\n",
        "print('tokenized text:\\n',split_word(clean_text[3])) #เนื้อหาข่าวอ้างอิง paragraph แรก"
      ]
    },
    {
      "cell_type": "code",
      "execution_count": 175,
      "metadata": {
        "id": "-SRCZs7slkki"
      },
      "outputs": [],
      "source": [
        "tokens_list = [split_word(txt) for txt in clean_text]"
      ]
    },
    {
      "cell_type": "code",
      "execution_count": 176,
      "metadata": {
        "colab": {
          "base_uri": "https://localhost:8080/"
        },
        "id": "Ic2y7ROhlkki",
        "outputId": "8a2de30a-9a85-4bd6-8852-cc6a0280c537"
      },
      "outputs": [
        {
          "data": {
            "text/plain": [
              "[['ประชาชน',\n",
              "  'หาย',\n",
              "  'อาการ',\n",
              "  'ประสงค์',\n",
              "  'วัคซีน',\n",
              "  'โค',\n",
              "  'วิด',\n",
              "  'รัฐ',\n",
              "  'ยื่น',\n",
              "  'คำร้อง',\n",
              "  'ขอรับ',\n",
              "  'เงิน',\n",
              "  'รพ',\n",
              "  'ฉีด',\n",
              "  'สำนักงาน',\n",
              "  'สาธารณสุข',\n",
              "  'จังหวัด',\n",
              "  'สปสช',\n",
              "  'พื้นที่',\n",
              "  'เขต',\n",
              "  'ประเทศ',\n",
              "  'ปี',\n",
              "  'ทราบ',\n",
              "  'หาย',\n",
              "  'กรณี',\n",
              "  'ชีวิต',\n",
              "  'ทุพพลภาพ',\n",
              "  'ถาวร',\n",
              "  '400,000',\n",
              "  'บาท',\n",
              "  'กรณี',\n",
              "  'สูญ',\n",
              "  'อวัยวะ',\n",
              "  'พิการ',\n",
              "  '240,000',\n",
              "  'บาท',\n",
              "  'กรณี',\n",
              "  'ภาวะ',\n",
              "  'เจ็บ',\n",
              "  'ป่วย',\n",
              "  'รักษา',\n",
              "  'แสน',\n",
              "  'บาท',\n",
              "  'เตรียม',\n",
              "  'เอกสาร',\n",
              "  'สำเนา',\n",
              "  'บัตร',\n",
              "  'ประชาชน',\n",
              "  'สำเนา',\n",
              "  'ใบ',\n",
              "  'มรณบัตร',\n",
              "  'กรณี',\n",
              "  'ชีวิต',\n",
              "  'แพทย์',\n",
              "  'ให้การ',\n",
              "  'รักษา',\n",
              "  'แนบ',\n",
              "  'คำร้อง',\n",
              "  'ดาวน์โหลด',\n",
              "  'https',\n",
              "  'www.nhso.go.th',\n",
              "  'storage',\n",
              "  'files',\n",
              "  '⋯',\n",
              "  'dsLD',\n",
              "  'd',\n",
              "  'aETThbvoZMhUwbsijTsXLgSjv_icv',\n",
              "  'Fos',\n",
              "  'สอบถาม',\n",
              "  'เติม',\n",
              "  'สาย',\n",
              "  'ด่วน',\n",
              "  'สปสช',\n",
              "  'TPchannel',\n",
              "  'วิทยุ',\n",
              "  'โทรทัศน์',\n",
              "  'รัฐสภา'],\n",
              " ['หาย',\n",
              "  'แพ้',\n",
              "  'วัคซีน',\n",
              "  'อาการ',\n",
              "  'ประสงค์',\n",
              "  'ฉีด',\n",
              "  'วัคซีน',\n",
              "  'โค',\n",
              "  'วิด',\n",
              "  'รัฐ',\n",
              "  'ยื่น',\n",
              "  'คำร้อง',\n",
              "  'ขอรับ',\n",
              "  'เงิน',\n",
              "  'โรง',\n",
              "  'พยาบาล',\n",
              "  'ฉีด',\n",
              "  'สำนักงาน',\n",
              "  'สาธารณสุข',\n",
              "  'จังหวัด',\n",
              "  'สปสช',\n",
              "  'พื้นที่',\n",
              "  'เขต',\n",
              "  'ประเทศ',\n",
              "  'ปี',\n",
              "  'ทราบ',\n",
              "  'หาย'],\n",
              " ['ฉีด',\n",
              "  'วัคซีน',\n",
              "  'แพ้',\n",
              "  'ดาวน์โหลด',\n",
              "  'เอกสาร',\n",
              "  'ยื่น',\n",
              "  'คำร้อง',\n",
              "  'เงิน',\n",
              "  'เช็ค',\n",
              "  'เงื่อนไข'],\n",
              " ['ฉีด',\n",
              "  'วัคซีน',\n",
              "  'แพ้',\n",
              "  'ดาวน์โหลด',\n",
              "  'เอกสาร',\n",
              "  'ยื่น',\n",
              "  'คำร้อง',\n",
              "  'เงิน',\n",
              "  'เช็ค',\n",
              "  'เงื่อนไข',\n",
              "  'ยื่น',\n",
              "  'คำร้อง',\n",
              "  'ขอรับ',\n",
              "  'เงิน',\n",
              "  'โรง',\n",
              "  'พยาบาล',\n",
              "  'ฉีด',\n",
              "  'สำนักงาน',\n",
              "  'สาธารณสุข',\n",
              "  'จังหวัด',\n",
              "  'สปสช',\n",
              "  'พื้นที่',\n",
              "  'เขต',\n",
              "  'ประเทศ']]"
            ]
          },
          "execution_count": 176,
          "metadata": {},
          "output_type": "execute_result"
        }
      ],
      "source": [
        "tokens_list"
      ]
    },
    {
      "cell_type": "markdown",
      "metadata": {
        "id": "urtFJoKllkkj"
      },
      "source": [
        "**Step 3 + 4a: Bag of words + count word**"
      ]
    },
    {
      "cell_type": "code",
      "execution_count": 177,
      "metadata": {
        "id": "D83oKf_alkkj"
      },
      "outputs": [],
      "source": [
        "from sklearn.feature_extraction.text import CountVectorizer\n",
        "tokens_list_j = [','.join(tkn) for tkn in tokens_list]\n",
        "cvec = CountVectorizer(analyzer=lambda x:x.split(','))\n",
        "c_feat = cvec.fit_transform(tokens_list_j)"
      ]
    },
    {
      "cell_type": "code",
      "execution_count": 178,
      "metadata": {
        "colab": {
          "base_uri": "https://localhost:8080/"
        },
        "id": "4ikUmO6Olkkj",
        "outputId": "b844b85a-98a8-4e49-eeaf-1e7282f8d44e"
      },
      "outputs": [
        {
          "data": {
            "text/plain": [
              "{'ประชาชน': 25,\n",
              " 'หาย': 50,\n",
              " 'อาการ': 52,\n",
              " 'ประสงค์': 26,\n",
              " 'วัคซีน': 40,\n",
              " 'โค': 65,\n",
              " 'วิด': 41,\n",
              " 'รัฐ': 38,\n",
              " 'ยื่น': 35,\n",
              " 'คำร้อง': 14,\n",
              " 'ขอรับ': 13,\n",
              " 'เงิน': 54,\n",
              " 'รพ': 36,\n",
              " 'ฉีด': 16,\n",
              " 'สำนักงาน': 47,\n",
              " 'สาธารณสุข': 45,\n",
              " 'จังหวัด': 15,\n",
              " 'สปสช': 43,\n",
              " 'พื้นที่': 32,\n",
              " 'เขต': 53,\n",
              " 'ประเทศ': 27,\n",
              " 'ปี': 28,\n",
              " 'ทราบ': 21,\n",
              " 'กรณี': 12,\n",
              " 'ชีวิต': 17,\n",
              " 'ทุพพลภาพ': 22,\n",
              " 'ถาวร': 20,\n",
              " '400': 2,\n",
              " '000': 0,\n",
              " 'บาท': 24,\n",
              " 'สูญ': 49,\n",
              " 'อวัยวะ': 51,\n",
              " 'พิการ': 31,\n",
              " '240': 1,\n",
              " 'ภาวะ': 33,\n",
              " 'เจ็บ': 56,\n",
              " 'ป่วย': 29,\n",
              " 'รักษา': 37,\n",
              " 'แสน': 64,\n",
              " 'เตรียม': 58,\n",
              " 'เอกสาร': 60,\n",
              " 'สำเนา': 48,\n",
              " 'บัตร': 23,\n",
              " 'ใบ': 68,\n",
              " 'มรณบัตร': 34,\n",
              " 'แพทย์': 62,\n",
              " 'ให้การ': 69,\n",
              " 'แนบ': 61,\n",
              " 'ดาวน์โหลด': 18,\n",
              " 'https': 9,\n",
              " 'www.nhso.go.th': 11,\n",
              " 'storage': 10,\n",
              " 'files': 8,\n",
              " '⋯': 70,\n",
              " 'dsLD': 7,\n",
              " 'd': 6,\n",
              " 'aETThbvoZMhUwbsijTsXLgSjv_icv': 5,\n",
              " 'Fos': 3,\n",
              " 'สอบถาม': 44,\n",
              " 'เติม': 59,\n",
              " 'สาย': 46,\n",
              " 'ด่วน': 19,\n",
              " 'TPchannel': 4,\n",
              " 'วิทยุ': 42,\n",
              " 'โทรทัศน์': 66,\n",
              " 'รัฐสภา': 39,\n",
              " 'แพ้': 63,\n",
              " 'โรง': 67,\n",
              " 'พยาบาล': 30,\n",
              " 'เช็ค': 57,\n",
              " 'เงื่อนไข': 55}"
            ]
          },
          "execution_count": 178,
          "metadata": {},
          "output_type": "execute_result"
        }
      ],
      "source": [
        "cvec.vocabulary_"
      ]
    },
    {
      "cell_type": "code",
      "execution_count": 179,
      "metadata": {
        "colab": {
          "base_uri": "https://localhost:8080/"
        },
        "id": "06nedogPlkkj",
        "outputId": "ed7733d1-f681-4521-d15e-732cc0c28fe3"
      },
      "outputs": [
        {
          "data": {
            "text/plain": [
              "matrix([[2, 1, 1, 1, 1, 1, 1, 1, 1, 1, 1, 1, 4, 1, 2, 1, 1, 2, 1, 1, 1,\n",
              "         1, 1, 1, 3, 2, 1, 1, 1, 1, 0, 1, 1, 1, 1, 1, 1, 2, 1, 1, 1, 1,\n",
              "         1, 2, 1, 1, 1, 1, 2, 1, 2, 1, 1, 1, 1, 0, 1, 0, 1, 1, 1, 1, 1,\n",
              "         0, 1, 1, 1, 0, 1, 1, 1],\n",
              "        [0, 0, 0, 0, 0, 0, 0, 0, 0, 0, 0, 0, 0, 1, 1, 1, 2, 0, 0, 0, 0,\n",
              "         1, 0, 0, 0, 0, 1, 1, 1, 0, 1, 0, 1, 0, 0, 1, 0, 0, 1, 0, 2, 1,\n",
              "         0, 1, 0, 1, 0, 1, 0, 0, 2, 0, 1, 1, 1, 0, 0, 0, 0, 0, 0, 0, 0,\n",
              "         1, 0, 1, 0, 1, 0, 0, 0],\n",
              "        [0, 0, 0, 0, 0, 0, 0, 0, 0, 0, 0, 0, 0, 0, 1, 0, 1, 0, 1, 0, 0,\n",
              "         0, 0, 0, 0, 0, 0, 0, 0, 0, 0, 0, 0, 0, 0, 1, 0, 0, 0, 0, 1, 0,\n",
              "         0, 0, 0, 0, 0, 0, 0, 0, 0, 0, 0, 0, 1, 1, 0, 1, 0, 0, 1, 0, 0,\n",
              "         1, 0, 0, 0, 0, 0, 0, 0],\n",
              "        [0, 0, 0, 0, 0, 0, 0, 0, 0, 0, 0, 0, 0, 1, 2, 1, 2, 0, 1, 0, 0,\n",
              "         0, 0, 0, 0, 0, 0, 1, 0, 0, 1, 0, 1, 0, 0, 2, 0, 0, 0, 0, 1, 0,\n",
              "         0, 1, 0, 1, 0, 1, 0, 0, 0, 0, 0, 1, 2, 1, 0, 1, 0, 0, 1, 0, 0,\n",
              "         1, 0, 0, 0, 1, 0, 0, 0]], dtype=int64)"
            ]
          },
          "execution_count": 179,
          "metadata": {},
          "output_type": "execute_result"
        }
      ],
      "source": [
        "c_feat[:,:].todense()"
      ]
    },
    {
      "cell_type": "code",
      "execution_count": 180,
      "metadata": {
        "colab": {
          "base_uri": "https://localhost:8080/"
        },
        "id": "qT-3uFrTlkkj",
        "outputId": "4da4fb51-d0d6-4b9c-d36d-5d3ff37fa49b"
      },
      "outputs": [
        {
          "name": "stdout",
          "output_type": "stream",
          "text": [
            "[[2 1 1 1 1 1 1 1 1 1 1 1 4 1 2 1 1 2 1 1 1 1 1 1 3 2 1 1 1 1 0 1 1 1 1 1\n",
            "  1 2 1 1 1 1 1 2 1 1 1 1 2 1 2 1 1 1 1 0 1 0 1 1 1 1 1 0 1 1 1 0 1 1 1]\n",
            " [0 0 0 0 0 0 0 0 0 0 0 0 0 1 1 1 2 0 0 0 0 1 0 0 0 0 1 1 1 0 1 0 1 0 0 1\n",
            "  0 0 1 0 2 1 0 1 0 1 0 1 0 0 2 0 1 1 1 0 0 0 0 0 0 0 0 1 0 1 0 1 0 0 0]\n",
            " [0 0 0 0 0 0 0 0 0 0 0 0 0 0 1 0 1 0 1 0 0 0 0 0 0 0 0 0 0 0 0 0 0 0 0 1\n",
            "  0 0 0 0 1 0 0 0 0 0 0 0 0 0 0 0 0 0 1 1 0 1 0 0 1 0 0 1 0 0 0 0 0 0 0]\n",
            " [0 0 0 0 0 0 0 0 0 0 0 0 0 1 2 1 2 0 1 0 0 0 0 0 0 0 0 1 0 0 1 0 1 0 0 2\n",
            "  0 0 0 0 1 0 0 1 0 1 0 1 0 0 0 0 0 1 2 1 0 1 0 0 1 0 0 1 0 0 0 1 0 0 0]]\n"
          ]
        }
      ],
      "source": [
        "#first_news เป็น array ของข่าว โดย row ที่ 1 = ข่าวที่ต้องการตรวจสอบจาก cofact, row ที่ 2 = ข้อความสรุปใน cofact, row ที่ 3 = หัวข้อข่าวที่เชื่อถือได้ , row ที่ 4 = เนื้อหาข่าว paragraph แรกของข่าวที่เชื่อถือได้\n",
        "first_news = c_feat[:,:].todense()\n",
        "print(first_news) "
      ]
    },
    {
      "cell_type": "code",
      "execution_count": 181,
      "metadata": {
        "colab": {
          "base_uri": "https://localhost:8080/"
        },
        "id": "r3-z_uxAlkkj",
        "outputId": "ded045ae-ddc3-4c26-ce6a-a15c63a51c64"
      },
      "outputs": [
        {
          "data": {
            "text/plain": [
              "71"
            ]
          },
          "execution_count": 181,
          "metadata": {},
          "output_type": "execute_result"
        }
      ],
      "source": [
        "first_news.shape[1]"
      ]
    },
    {
      "cell_type": "code",
      "execution_count": 182,
      "metadata": {
        "colab": {
          "base_uri": "https://localhost:8080/"
        },
        "id": "xmvNkOQylkkj",
        "outputId": "eb9c9bc6-31fe-4fcf-b735-20e74ed81862"
      },
      "outputs": [
        {
          "name": "stdout",
          "output_type": "stream",
          "text": [
            "This is sum (upperpart) : 28\n",
            "This is lowerpart : 61.065538563088104\n"
          ]
        },
        {
          "data": {
            "text/plain": [
              "0.45852375429511044"
            ]
          },
          "execution_count": 182,
          "metadata": {},
          "output_type": "execute_result"
        }
      ],
      "source": [
        "find_cosine_similarity(first_news, 0, 1) #เทียบ ข้อความที่ต้องการตรวจสอบบน cofact กับ ข้อความสรุปใน cofact"
      ]
    },
    {
      "cell_type": "code",
      "execution_count": 183,
      "metadata": {
        "colab": {
          "base_uri": "https://localhost:8080/"
        },
        "id": "uICRFn11lkkk",
        "outputId": "f85e0d89-ba05-4da5-da17-13fa60cf469d"
      },
      "outputs": [
        {
          "name": "stdout",
          "output_type": "stream",
          "text": [
            "This is sum (upperpart) : 8\n",
            "This is lowerpart : 33.61547262794323\n"
          ]
        },
        {
          "data": {
            "text/plain": [
              "0.2379856469234918"
            ]
          },
          "execution_count": 183,
          "metadata": {},
          "output_type": "execute_result"
        }
      ],
      "source": [
        "find_cosine_similarity(first_news, 0, 2)#เทียบ ข้อความที่ต้องการตรวจสอบบน cofact กับ หัวข้อข่าวที่เชื่อถือได้"
      ]
    },
    {
      "cell_type": "code",
      "execution_count": 184,
      "metadata": {
        "colab": {
          "base_uri": "https://localhost:8080/"
        },
        "id": "1QQUQot4lkkk",
        "outputId": "02cbf952-8948-49e9-fd8e-bd7fc9f0ca0b"
      },
      "outputs": [
        {
          "name": "stdout",
          "output_type": "stream",
          "text": [
            "This is sum (upperpart) : 22\n",
            "This is lowerpart : 60.13318551349164\n"
          ]
        },
        {
          "data": {
            "text/plain": [
              "0.3658545578807566"
            ]
          },
          "execution_count": 184,
          "metadata": {},
          "output_type": "execute_result"
        }
      ],
      "source": [
        "find_cosine_similarity(first_news, 0, 3)#เทียบ ข้อความที่ต้องการตรวจสอบบน cofact กับ เนื้อหาข่าว paragraph แรกของข่าวที่เชื่อถือได้"
      ]
    },
    {
      "cell_type": "markdown",
      "metadata": {
        "id": "WEHNXdLxmT5I"
      },
      "source": [
        "# ข่าวที่ 16"
      ]
    },
    {
      "cell_type": "code",
      "execution_count": 185,
      "metadata": {
        "id": "nZqbTOVlmT5I"
      },
      "outputs": [],
      "source": [
        "clean_text = ['ไม่ควรเอา น้ำผึ้ง แช่ในตู้เย็น เพราะจะทำให้น้ำผึ้งตกผลึกและข้นเร็วขึ้น จริงหรือ','ปัจจัยที่มีผลต่อการเกิดผลึกในน้ำผึ้ง ดังนี้ อุณหภูมิในการเก็บรักษา หากเก็บรักษาที่อุณหภูมิต่ำ ให้เกิดการตกผลึกได้ ถ้าเก็บในที่อุณหภูมิต่ำ (ตู้เย็น) น้ำผึ้งจะมีผลึกน้ำตาลกลูโคสตกเป็นเกล็ดเล็กๆ','วิธีสังเกตน้ำผึ้งแท้','น้ำผึ้งแท้มีคุณสมบัติทางยาและมีคุณค่าทางโภชนาการมากมาย และด้วยเหตุที่น้ำผึ้งมีราคาแพงเมื่อเทียบกับน้ำตาล จึงมีคนหัวขี้โกงทำน้ำผึ้งปลอมออกมาหลอกขายเพื่อที่จะได้กำไรมากๆ ซึ่งสำหรับผู้ที่คุ้นเคยกับการกินน้ำผึ้งเป็นประจำอยู่แล้ว จะสามารถพิสูจน์ได้ง่ายๆ เพียงแค่ดูลักษณะหรือ การชิม แต่สำหรับผู้ที่ไม่คุ้นเคย หากไปเจอน้ำผึ้งปลอมประโยชน์ที่จะได้จากน้ำผึ้งก็ลดลง ถ้าไม่มั่นใจก็ลองพิสูจน์ได้ตามวิธีการดังต่อไปนี้']"
      ]
    },
    {
      "cell_type": "markdown",
      "metadata": {
        "id": "-z6bXH6LmT5J"
      },
      "source": [
        "**Step 2: Tokenize**"
      ]
    },
    {
      "cell_type": "code",
      "execution_count": 186,
      "metadata": {
        "colab": {
          "base_uri": "https://localhost:8080/"
        },
        "id": "yqJXDnx2mT5J",
        "outputId": "2388c8c7-e39c-4182-a4fd-70ce24e41a4b"
      },
      "outputs": [
        {
          "name": "stdout",
          "output_type": "stream",
          "text": [
            "tokenized text:\n",
            " ['น้ำ', 'ผึ้ง', 'แช่', 'ตู้', 'เย็น', 'น้ำ', 'ผึ้ง', 'ตกผลึก', 'ข้น']\n",
            "tokenized text:\n",
            " ['ปัจจัย', 'ผลึก', 'น้ำ', 'ผึ้ง', 'ดังนี้', 'อุณหภูมิ', 'รักษา', 'รักษา', 'อุณหภูมิ', 'ต่ำ', 'ตกผลึก', 'อุณหภูมิ', 'ต่ำ', 'ตู้', 'เย็น', 'น้ำ', 'ผึ้ง', 'ผลึก', 'น้ำตาล', 'กลูโคส', 'ตก', 'เกล็ด']\n",
            "tokenized text:\n",
            " ['วิธี', 'สังเกต', 'น้ำ', 'ผึ้ง']\n",
            "tokenized text:\n",
            " ['น้ำ', 'ผึ้ง', 'คุณสมบัติ', 'ยา', 'คุณค่า', 'โภชนาการ', 'น้ำ', 'ผึ้ง', 'ราคา', 'แพง', 'เทียบ', 'น้ำตาล', 'คน', 'หัว', 'ขี้', 'โกง', 'ทำ', 'น้ำ', 'ผึ้ง', 'ปลอม', 'หลอก', 'ขาย', 'กำ', 'มากๆ', 'สำหรับ', 'คุ้น', 'กิน', 'น้ำ', 'ผึ้ง', 'ประจำ', 'พิสูจน์', 'ดู', 'ลักษณะ', 'ชิม', 'สำหรับ', 'คุ้น', 'เจอ', 'น้ำ', 'ผึ้ง', 'ปลอม', 'ประโยชน์', 'น้ำ', 'ผึ้ง', 'ลด', 'มั่นใจ', 'ลอง', 'พิสูจน์', 'วิธี']\n"
          ]
        }
      ],
      "source": [
        "print('tokenized text:\\n',split_word(clean_text[0])) #ข้อความที่ต้องการตรวจสอบบน cofact\n",
        "print('tokenized text:\\n',split_word(clean_text[1])) #ข้อความสรุปใน cofact\n",
        "print('tokenized text:\\n',split_word(clean_text[2])) #หัวข่าวอ้างอิง\n",
        "print('tokenized text:\\n',split_word(clean_text[3])) #เนื้อหาข่าวอ้างอิง paragraph แรก"
      ]
    },
    {
      "cell_type": "code",
      "execution_count": 187,
      "metadata": {
        "id": "wDYMr1KWmT5K"
      },
      "outputs": [],
      "source": [
        "tokens_list = [split_word(txt) for txt in clean_text]"
      ]
    },
    {
      "cell_type": "code",
      "execution_count": 188,
      "metadata": {
        "colab": {
          "base_uri": "https://localhost:8080/"
        },
        "id": "lrcGK5s3mT5K",
        "outputId": "6e6fe3e7-327e-4acf-90c1-e7948fb958fc"
      },
      "outputs": [
        {
          "data": {
            "text/plain": [
              "[['น้ำ', 'ผึ้ง', 'แช่', 'ตู้', 'เย็น', 'น้ำ', 'ผึ้ง', 'ตกผลึก', 'ข้น'],\n",
              " ['ปัจจัย',\n",
              "  'ผลึก',\n",
              "  'น้ำ',\n",
              "  'ผึ้ง',\n",
              "  'ดังนี้',\n",
              "  'อุณหภูมิ',\n",
              "  'รักษา',\n",
              "  'รักษา',\n",
              "  'อุณหภูมิ',\n",
              "  'ต่ำ',\n",
              "  'ตกผลึก',\n",
              "  'อุณหภูมิ',\n",
              "  'ต่ำ',\n",
              "  'ตู้',\n",
              "  'เย็น',\n",
              "  'น้ำ',\n",
              "  'ผึ้ง',\n",
              "  'ผลึก',\n",
              "  'น้ำตาล',\n",
              "  'กลูโคส',\n",
              "  'ตก',\n",
              "  'เกล็ด'],\n",
              " ['วิธี', 'สังเกต', 'น้ำ', 'ผึ้ง'],\n",
              " ['น้ำ',\n",
              "  'ผึ้ง',\n",
              "  'คุณสมบัติ',\n",
              "  'ยา',\n",
              "  'คุณค่า',\n",
              "  'โภชนาการ',\n",
              "  'น้ำ',\n",
              "  'ผึ้ง',\n",
              "  'ราคา',\n",
              "  'แพง',\n",
              "  'เทียบ',\n",
              "  'น้ำตาล',\n",
              "  'คน',\n",
              "  'หัว',\n",
              "  'ขี้',\n",
              "  'โกง',\n",
              "  'ทำ',\n",
              "  'น้ำ',\n",
              "  'ผึ้ง',\n",
              "  'ปลอม',\n",
              "  'หลอก',\n",
              "  'ขาย',\n",
              "  'กำ',\n",
              "  'มากๆ',\n",
              "  'สำหรับ',\n",
              "  'คุ้น',\n",
              "  'กิน',\n",
              "  'น้ำ',\n",
              "  'ผึ้ง',\n",
              "  'ประจำ',\n",
              "  'พิสูจน์',\n",
              "  'ดู',\n",
              "  'ลักษณะ',\n",
              "  'ชิม',\n",
              "  'สำหรับ',\n",
              "  'คุ้น',\n",
              "  'เจอ',\n",
              "  'น้ำ',\n",
              "  'ผึ้ง',\n",
              "  'ปลอม',\n",
              "  'ประโยชน์',\n",
              "  'น้ำ',\n",
              "  'ผึ้ง',\n",
              "  'ลด',\n",
              "  'มั่นใจ',\n",
              "  'ลอง',\n",
              "  'พิสูจน์',\n",
              "  'วิธี']]"
            ]
          },
          "execution_count": 188,
          "metadata": {},
          "output_type": "execute_result"
        }
      ],
      "source": [
        "tokens_list"
      ]
    },
    {
      "cell_type": "markdown",
      "metadata": {
        "id": "sjlS1bpNmT5K"
      },
      "source": [
        "**Step 3 + 4a: Bag of words + count word**"
      ]
    },
    {
      "cell_type": "code",
      "execution_count": 189,
      "metadata": {
        "id": "zUy1v8AAmT5K"
      },
      "outputs": [],
      "source": [
        "from sklearn.feature_extraction.text import CountVectorizer\n",
        "tokens_list_j = [','.join(tkn) for tkn in tokens_list]\n",
        "cvec = CountVectorizer(analyzer=lambda x:x.split(','))\n",
        "c_feat = cvec.fit_transform(tokens_list_j)"
      ]
    },
    {
      "cell_type": "code",
      "execution_count": 190,
      "metadata": {
        "colab": {
          "base_uri": "https://localhost:8080/"
        },
        "id": "SEO_BBv9mT5K",
        "outputId": "7bb84cf5-6565-4ae7-fba4-0b9dc76a926b"
      },
      "outputs": [
        {
          "data": {
            "text/plain": [
              "{'น้ำ': 18,\n",
              " 'ผึ้ง': 25,\n",
              " 'แช่': 45,\n",
              " 'ตู้': 15,\n",
              " 'เย็น': 44,\n",
              " 'ตกผลึก': 14,\n",
              " 'ข้น': 5,\n",
              " 'ปัจจัย': 23,\n",
              " 'ผลึก': 24,\n",
              " 'ดังนี้': 11,\n",
              " 'อุณหภูมิ': 40,\n",
              " 'รักษา': 30,\n",
              " 'ต่ำ': 16,\n",
              " 'น้ำตาล': 19,\n",
              " 'กลูโคส': 0,\n",
              " 'ตก': 13,\n",
              " 'เกล็ด': 41,\n",
              " 'วิธี': 35,\n",
              " 'สังเกต': 36,\n",
              " 'คุณสมบัติ': 8,\n",
              " 'ยา': 29,\n",
              " 'คุณค่า': 7,\n",
              " 'โภชนาการ': 48,\n",
              " 'ราคา': 31,\n",
              " 'แพง': 46,\n",
              " 'เทียบ': 43,\n",
              " 'คน': 6,\n",
              " 'หัว': 39,\n",
              " 'ขี้': 4,\n",
              " 'โกง': 47,\n",
              " 'ทำ': 17,\n",
              " 'ปลอม': 22,\n",
              " 'หลอก': 38,\n",
              " 'ขาย': 3,\n",
              " 'กำ': 1,\n",
              " 'มากๆ': 28,\n",
              " 'สำหรับ': 37,\n",
              " 'คุ้น': 9,\n",
              " 'กิน': 2,\n",
              " 'ประจำ': 20,\n",
              " 'พิสูจน์': 26,\n",
              " 'ดู': 12,\n",
              " 'ลักษณะ': 34,\n",
              " 'ชิม': 10,\n",
              " 'เจอ': 42,\n",
              " 'ประโยชน์': 21,\n",
              " 'ลด': 32,\n",
              " 'มั่นใจ': 27,\n",
              " 'ลอง': 33}"
            ]
          },
          "execution_count": 190,
          "metadata": {},
          "output_type": "execute_result"
        }
      ],
      "source": [
        "cvec.vocabulary_"
      ]
    },
    {
      "cell_type": "code",
      "execution_count": 191,
      "metadata": {
        "colab": {
          "base_uri": "https://localhost:8080/"
        },
        "id": "ksghVnF5mT5L",
        "outputId": "ed6df2cf-5a09-4d84-a3fa-068d4bccb71d"
      },
      "outputs": [
        {
          "data": {
            "text/plain": [
              "matrix([[0, 0, 0, 0, 0, 1, 0, 0, 0, 0, 0, 0, 0, 0, 1, 1, 0, 0, 2, 0, 0,\n",
              "         0, 0, 0, 0, 2, 0, 0, 0, 0, 0, 0, 0, 0, 0, 0, 0, 0, 0, 0, 0, 0,\n",
              "         0, 0, 1, 1, 0, 0, 0],\n",
              "        [1, 0, 0, 0, 0, 0, 0, 0, 0, 0, 0, 1, 0, 1, 1, 1, 2, 0, 2, 1, 0,\n",
              "         0, 0, 1, 2, 2, 0, 0, 0, 0, 2, 0, 0, 0, 0, 0, 0, 0, 0, 0, 3, 1,\n",
              "         0, 0, 1, 0, 0, 0, 0],\n",
              "        [0, 0, 0, 0, 0, 0, 0, 0, 0, 0, 0, 0, 0, 0, 0, 0, 0, 0, 1, 0, 0,\n",
              "         0, 0, 0, 0, 1, 0, 0, 0, 0, 0, 0, 0, 0, 0, 1, 1, 0, 0, 0, 0, 0,\n",
              "         0, 0, 0, 0, 0, 0, 0],\n",
              "        [0, 1, 1, 1, 1, 0, 1, 1, 1, 2, 1, 0, 1, 0, 0, 0, 0, 1, 6, 1, 1,\n",
              "         1, 2, 0, 0, 6, 2, 1, 1, 1, 0, 1, 1, 1, 1, 1, 0, 2, 1, 1, 0, 0,\n",
              "         1, 1, 0, 0, 1, 1, 1]], dtype=int64)"
            ]
          },
          "execution_count": 191,
          "metadata": {},
          "output_type": "execute_result"
        }
      ],
      "source": [
        "c_feat[:,:].todense()"
      ]
    },
    {
      "cell_type": "code",
      "execution_count": 192,
      "metadata": {
        "colab": {
          "base_uri": "https://localhost:8080/"
        },
        "id": "mUzmUwvamT5L",
        "outputId": "a4c09c42-638a-44b4-81dc-2f13611cc3c1"
      },
      "outputs": [
        {
          "name": "stdout",
          "output_type": "stream",
          "text": [
            "[[0 0 0 0 0 1 0 0 0 0 0 0 0 0 1 1 0 0 2 0 0 0 0 0 0 2 0 0 0 0 0 0 0 0 0 0\n",
            "  0 0 0 0 0 0 0 0 1 1 0 0 0]\n",
            " [1 0 0 0 0 0 0 0 0 0 0 1 0 1 1 1 2 0 2 1 0 0 0 1 2 2 0 0 0 0 2 0 0 0 0 0\n",
            "  0 0 0 0 3 1 0 0 1 0 0 0 0]\n",
            " [0 0 0 0 0 0 0 0 0 0 0 0 0 0 0 0 0 0 1 0 0 0 0 0 0 1 0 0 0 0 0 0 0 0 0 1\n",
            "  1 0 0 0 0 0 0 0 0 0 0 0 0]\n",
            " [0 1 1 1 1 0 1 1 1 2 1 0 1 0 0 0 0 1 6 1 1 1 2 0 0 6 2 1 1 1 0 1 1 1 1 1\n",
            "  0 2 1 1 0 0 1 1 0 0 1 1 1]]\n"
          ]
        }
      ],
      "source": [
        "#first_news เป็น array ของข่าว โดย row ที่ 1 = ข่าวที่ต้องการตรวจสอบจาก cofact, row ที่ 2 = ข้อความสรุปใน cofact, row ที่ 3 = หัวข้อข่าวที่เชื่อถือได้ , row ที่ 4 = เนื้อหาข่าว paragraph แรกของข่าวที่เชื่อถือได้\n",
        "first_news = c_feat[:,:].todense()\n",
        "print(first_news) "
      ]
    },
    {
      "cell_type": "code",
      "execution_count": 193,
      "metadata": {
        "colab": {
          "base_uri": "https://localhost:8080/"
        },
        "id": "0oPgO8r2mT5L",
        "outputId": "a5452a49-e8b5-4af7-eae3-0341094de182"
      },
      "outputs": [
        {
          "data": {
            "text/plain": [
              "49"
            ]
          },
          "execution_count": 193,
          "metadata": {},
          "output_type": "execute_result"
        }
      ],
      "source": [
        "first_news.shape[1]"
      ]
    },
    {
      "cell_type": "code",
      "execution_count": 194,
      "metadata": {
        "colab": {
          "base_uri": "https://localhost:8080/"
        },
        "id": "fqwSdWpKmT5L",
        "outputId": "13ee5adb-f3ba-44b9-d7cb-2570a10fe389"
      },
      "outputs": [
        {
          "name": "stdout",
          "output_type": "stream",
          "text": [
            "This is sum (upperpart) : 11\n",
            "This is lowerpart : 22.226110770892866\n"
          ]
        },
        {
          "data": {
            "text/plain": [
              "0.49491339773243237"
            ]
          },
          "execution_count": 194,
          "metadata": {},
          "output_type": "execute_result"
        }
      ],
      "source": [
        "find_cosine_similarity(first_news, 0, 1) #เทียบ ข้อความที่ต้องการตรวจสอบบน cofact กับ ข้อความสรุปใน cofact"
      ]
    },
    {
      "cell_type": "code",
      "execution_count": 195,
      "metadata": {
        "colab": {
          "base_uri": "https://localhost:8080/"
        },
        "id": "M67fYZmymT5L",
        "outputId": "b3786537-247a-4fc3-af40-9c211cc6c695"
      },
      "outputs": [
        {
          "name": "stdout",
          "output_type": "stream",
          "text": [
            "This is sum (upperpart) : 4\n",
            "This is lowerpart : 7.211102550927978\n"
          ]
        },
        {
          "data": {
            "text/plain": [
              "0.5547001962252291"
            ]
          },
          "execution_count": 195,
          "metadata": {},
          "output_type": "execute_result"
        }
      ],
      "source": [
        "find_cosine_similarity(first_news, 0, 2)#เทียบ ข้อความที่ต้องการตรวจสอบบน cofact กับ หัวข้อข่าวที่เชื่อถือได้"
      ]
    },
    {
      "cell_type": "code",
      "execution_count": 196,
      "metadata": {
        "colab": {
          "base_uri": "https://localhost:8080/"
        },
        "id": "Eswc40gLmT5M",
        "outputId": "25d44f7d-03fe-4908-d942-17547bc09da0"
      },
      "outputs": [
        {
          "name": "stdout",
          "output_type": "stream",
          "text": [
            "This is sum (upperpart) : 24\n",
            "This is lowerpart : 38.83297567789519\n"
          ]
        },
        {
          "data": {
            "text/plain": [
              "0.6180314431495257"
            ]
          },
          "execution_count": 196,
          "metadata": {},
          "output_type": "execute_result"
        }
      ],
      "source": [
        "find_cosine_similarity(first_news, 0, 3)#เทียบ ข้อความที่ต้องการตรวจสอบบน cofact กับ เนื้อหาข่าว paragraph แรกของข่าวที่เชื่อถือได้"
      ]
    },
    {
      "cell_type": "markdown",
      "metadata": {
        "id": "-9LJsCcSnzbS"
      },
      "source": [
        "# ข่าวที่ 17"
      ]
    },
    {
      "cell_type": "code",
      "execution_count": 197,
      "metadata": {
        "id": "C4NuAfKMnzbS"
      },
      "outputs": [],
      "source": [
        "clean_text = ['คณะรัฐมนตรี ไฟเขียวให้ต่างชาติมาซื้อที่ดินหรืออสังหาในไทย ได้แล้ว จริงหรือ','มติคณะรัฐมนตรี เห็นชอบ ออกวีซ่าประเภทผู้พำนักระยะยาว ให้ต่างชาติที่มีศักยภาพสูง อาศัยอยู่ในไทย พร้อมแก้กฎหมายถือครองที่ดินรองรับ ที่เห็นชอบหลักการมาตรการกระตุ้นเศรษฐกิจและการลงทุนโดยการดึงดูดชาวต่างชาติที่มีศักยภาพสูงสู่ประเทศไทย ในลักษณะผู้พำนักระยะยาว (long-term stay) โดย มี 4 กลุ่มเป้าหมาย ได้แก่1.กลุ่มประชากรโลกผู้มีความมั่งคั่งสูง2.กลุ่มผู้เกษียณอายุจากต่างประเทศ3.กลุ่มที่ต้องการทำงานจากประเทศไทย4.กลุ่มผู้มีทักษะเชี่ยวชาญพิเศษ','ครม.ตั้งเป้าให้ทันปี 65 แก้กฎหมายถือครองที่ดิน ดูดชาวต่างชาติศักยภาพสูงซื้อได้','รัชดา เผย มติคณะรัฐมนตรี เห็นชอบ ออกวีซ่าประเภทผู้พำนักระยะยาว ให้ต่างชาติที่มีศักยภาพสูง อาศัยอยู่ในไทย พร้อมแก้กฎหมายถือครองที่ดินรองรับ อยากทำให้ทัน ปี 2565']"
      ]
    },
    {
      "cell_type": "markdown",
      "metadata": {
        "id": "czT-3ChanzbT"
      },
      "source": [
        "**Step 2: Tokenize**"
      ]
    },
    {
      "cell_type": "code",
      "execution_count": 198,
      "metadata": {
        "colab": {
          "base_uri": "https://localhost:8080/"
        },
        "id": "vY6pqjkCnzbT",
        "outputId": "da5a96cf-460d-406e-cff4-d459d4c4f0c1"
      },
      "outputs": [
        {
          "name": "stdout",
          "output_type": "stream",
          "text": [
            "tokenized text:\n",
            " ['คณะ', 'รัฐมนตรี', 'ไฟ', 'เขียว', 'ชาติ', 'ซื้อ', 'ดิน', 'อสัง', 'หา', 'ไทย']\n",
            "tokenized text:\n",
            " ['มติ', 'คณะ', 'รัฐมนตรี', 'ชอบ', 'วีซ่า', 'ประเภท', 'พำนัก', 'ชาติ', 'ศักยภาพ', 'อาศัย', 'ไทย', 'แก้', 'กฎหมาย', 'ครอง', 'ที่ดิน', 'รองรับ', 'ชอบ', 'หลัก', 'มาตรการ', 'กระตุ้น', 'เศรษฐกิจ', 'ลงทุน', 'ดึงดูด', 'ชาติ', 'ศักยภาพ', 'ประเทศไทย', 'ลักษณะ', 'พำนัก', 'long', 'term', 'stay', 'เป้า', 'หมาย', 'ประชากร', 'โลก', 'มั่งคั่ง', 'เกษียณ', 'อายุ', 'ประเทศ', 'ต้องการ', 'ทำงาน', 'ประเทศไทย', 'ทักษะ', 'เชี่ยวชาญ', 'พิเศษ']\n",
            "tokenized text:\n",
            " ['ครม', 'เป้า', 'ปี', 'แก้', 'กฎหมาย', 'ครอง', 'ที่ดิน', 'ดูด', 'ชาติ', 'ศักยภาพ', 'ซื้อ']\n",
            "tokenized text:\n",
            " ['รัช', 'ดา', 'เผย', 'มติ', 'คณะ', 'รัฐมนตรี', 'ชอบ', 'วีซ่า', 'ประเภท', 'พำนัก', 'ชาติ', 'ศักยภาพ', 'อาศัย', 'ไทย', 'แก้', 'กฎหมาย', 'ครอง', 'ที่ดิน', 'รองรับ', 'ปี']\n"
          ]
        }
      ],
      "source": [
        "print('tokenized text:\\n',split_word(clean_text[0])) #ข้อความที่ต้องการตรวจสอบบน cofact\n",
        "print('tokenized text:\\n',split_word(clean_text[1])) #ข้อความสรุปใน cofact\n",
        "print('tokenized text:\\n',split_word(clean_text[2])) #หัวข่าวอ้างอิง\n",
        "print('tokenized text:\\n',split_word(clean_text[3])) #เนื้อหาข่าวอ้างอิง paragraph แรก"
      ]
    },
    {
      "cell_type": "code",
      "execution_count": 199,
      "metadata": {
        "id": "UuF3fb-wnzbT"
      },
      "outputs": [],
      "source": [
        "tokens_list = [split_word(txt) for txt in clean_text]"
      ]
    },
    {
      "cell_type": "code",
      "execution_count": 200,
      "metadata": {
        "colab": {
          "base_uri": "https://localhost:8080/"
        },
        "id": "2ZV0br1lnzbT",
        "outputId": "bcdad09d-315b-44f0-9330-7b484debf11f"
      },
      "outputs": [
        {
          "data": {
            "text/plain": [
              "[['คณะ',\n",
              "  'รัฐมนตรี',\n",
              "  'ไฟ',\n",
              "  'เขียว',\n",
              "  'ชาติ',\n",
              "  'ซื้อ',\n",
              "  'ดิน',\n",
              "  'อสัง',\n",
              "  'หา',\n",
              "  'ไทย'],\n",
              " ['มติ',\n",
              "  'คณะ',\n",
              "  'รัฐมนตรี',\n",
              "  'ชอบ',\n",
              "  'วีซ่า',\n",
              "  'ประเภท',\n",
              "  'พำนัก',\n",
              "  'ชาติ',\n",
              "  'ศักยภาพ',\n",
              "  'อาศัย',\n",
              "  'ไทย',\n",
              "  'แก้',\n",
              "  'กฎหมาย',\n",
              "  'ครอง',\n",
              "  'ที่ดิน',\n",
              "  'รองรับ',\n",
              "  'ชอบ',\n",
              "  'หลัก',\n",
              "  'มาตรการ',\n",
              "  'กระตุ้น',\n",
              "  'เศรษฐกิจ',\n",
              "  'ลงทุน',\n",
              "  'ดึงดูด',\n",
              "  'ชาติ',\n",
              "  'ศักยภาพ',\n",
              "  'ประเทศไทย',\n",
              "  'ลักษณะ',\n",
              "  'พำนัก',\n",
              "  'long',\n",
              "  'term',\n",
              "  'stay',\n",
              "  'เป้า',\n",
              "  'หมาย',\n",
              "  'ประชากร',\n",
              "  'โลก',\n",
              "  'มั่งคั่ง',\n",
              "  'เกษียณ',\n",
              "  'อายุ',\n",
              "  'ประเทศ',\n",
              "  'ต้องการ',\n",
              "  'ทำงาน',\n",
              "  'ประเทศไทย',\n",
              "  'ทักษะ',\n",
              "  'เชี่ยวชาญ',\n",
              "  'พิเศษ'],\n",
              " ['ครม',\n",
              "  'เป้า',\n",
              "  'ปี',\n",
              "  'แก้',\n",
              "  'กฎหมาย',\n",
              "  'ครอง',\n",
              "  'ที่ดิน',\n",
              "  'ดูด',\n",
              "  'ชาติ',\n",
              "  'ศักยภาพ',\n",
              "  'ซื้อ'],\n",
              " ['รัช',\n",
              "  'ดา',\n",
              "  'เผย',\n",
              "  'มติ',\n",
              "  'คณะ',\n",
              "  'รัฐมนตรี',\n",
              "  'ชอบ',\n",
              "  'วีซ่า',\n",
              "  'ประเภท',\n",
              "  'พำนัก',\n",
              "  'ชาติ',\n",
              "  'ศักยภาพ',\n",
              "  'อาศัย',\n",
              "  'ไทย',\n",
              "  'แก้',\n",
              "  'กฎหมาย',\n",
              "  'ครอง',\n",
              "  'ที่ดิน',\n",
              "  'รองรับ',\n",
              "  'ปี']]"
            ]
          },
          "execution_count": 200,
          "metadata": {},
          "output_type": "execute_result"
        }
      ],
      "source": [
        "tokens_list"
      ]
    },
    {
      "cell_type": "markdown",
      "metadata": {
        "id": "gKlvd8p3nzbT"
      },
      "source": [
        "**Step 3 + 4a: Bag of words + count word**"
      ]
    },
    {
      "cell_type": "code",
      "execution_count": 201,
      "metadata": {
        "id": "WwaGjUHznzbT"
      },
      "outputs": [],
      "source": [
        "from sklearn.feature_extraction.text import CountVectorizer\n",
        "tokens_list_j = [','.join(tkn) for tkn in tokens_list]\n",
        "cvec = CountVectorizer(analyzer=lambda x:x.split(','))\n",
        "c_feat = cvec.fit_transform(tokens_list_j)"
      ]
    },
    {
      "cell_type": "code",
      "execution_count": 202,
      "metadata": {
        "colab": {
          "base_uri": "https://localhost:8080/"
        },
        "id": "CBBONV7QnzbU",
        "outputId": "f44b1a36-6264-4ade-8562-40818f0cfe53"
      },
      "outputs": [
        {
          "data": {
            "text/plain": [
              "{'คณะ': 5,\n",
              " 'รัฐมนตรี': 31,\n",
              " 'ไฟ': 51,\n",
              " 'เขียว': 43,\n",
              " 'ชาติ': 9,\n",
              " 'ซื้อ': 10,\n",
              " 'ดิน': 12,\n",
              " 'อสัง': 39,\n",
              " 'หา': 38,\n",
              " 'ไทย': 50,\n",
              " 'มติ': 26,\n",
              " 'ชอบ': 8,\n",
              " 'วีซ่า': 34,\n",
              " 'ประเภท': 22,\n",
              " 'พำนัก': 24,\n",
              " 'ศักยภาพ': 35,\n",
              " 'อาศัย': 41,\n",
              " 'แก้': 48,\n",
              " 'กฎหมาย': 3,\n",
              " 'ครอง': 7,\n",
              " 'ที่ดิน': 18,\n",
              " 'รองรับ': 29,\n",
              " 'หลัก': 37,\n",
              " 'มาตรการ': 28,\n",
              " 'กระตุ้น': 4,\n",
              " 'เศรษฐกิจ': 47,\n",
              " 'ลงทุน': 32,\n",
              " 'ดึงดูด': 13,\n",
              " 'ประเทศไทย': 21,\n",
              " 'ลักษณะ': 33,\n",
              " 'long': 0,\n",
              " 'term': 2,\n",
              " 'stay': 1,\n",
              " 'เป้า': 45,\n",
              " 'หมาย': 36,\n",
              " 'ประชากร': 19,\n",
              " 'โลก': 49,\n",
              " 'มั่งคั่ง': 27,\n",
              " 'เกษียณ': 42,\n",
              " 'อายุ': 40,\n",
              " 'ประเทศ': 20,\n",
              " 'ต้องการ': 15,\n",
              " 'ทำงาน': 17,\n",
              " 'ทักษะ': 16,\n",
              " 'เชี่ยวชาญ': 44,\n",
              " 'พิเศษ': 25,\n",
              " 'ครม': 6,\n",
              " 'ปี': 23,\n",
              " 'ดูด': 14,\n",
              " 'รัช': 30,\n",
              " 'ดา': 11,\n",
              " 'เผย': 46}"
            ]
          },
          "execution_count": 202,
          "metadata": {},
          "output_type": "execute_result"
        }
      ],
      "source": [
        "cvec.vocabulary_"
      ]
    },
    {
      "cell_type": "code",
      "execution_count": 203,
      "metadata": {
        "colab": {
          "base_uri": "https://localhost:8080/"
        },
        "id": "GhJTdnwVnzbU",
        "outputId": "6b9fc1ea-9310-498d-ec74-05c3e886abf6"
      },
      "outputs": [
        {
          "data": {
            "text/plain": [
              "matrix([[0, 0, 0, 0, 0, 1, 0, 0, 0, 1, 1, 0, 1, 0, 0, 0, 0, 0, 0, 0, 0,\n",
              "         0, 0, 0, 0, 0, 0, 0, 0, 0, 0, 1, 0, 0, 0, 0, 0, 0, 1, 1, 0, 0,\n",
              "         0, 1, 0, 0, 0, 0, 0, 0, 1, 1],\n",
              "        [1, 1, 1, 1, 1, 1, 0, 1, 2, 2, 0, 0, 0, 1, 0, 1, 1, 1, 1, 1, 1,\n",
              "         2, 1, 0, 2, 1, 1, 1, 1, 1, 0, 1, 1, 1, 1, 2, 1, 1, 0, 0, 1, 1,\n",
              "         1, 0, 1, 1, 0, 1, 1, 1, 1, 0],\n",
              "        [0, 0, 0, 1, 0, 0, 1, 1, 0, 1, 1, 0, 0, 0, 1, 0, 0, 0, 1, 0, 0,\n",
              "         0, 0, 1, 0, 0, 0, 0, 0, 0, 0, 0, 0, 0, 0, 1, 0, 0, 0, 0, 0, 0,\n",
              "         0, 0, 0, 1, 0, 0, 1, 0, 0, 0],\n",
              "        [0, 0, 0, 1, 0, 1, 0, 1, 1, 1, 0, 1, 0, 0, 0, 0, 0, 0, 1, 0, 0,\n",
              "         0, 1, 1, 1, 0, 1, 0, 0, 1, 1, 1, 0, 0, 1, 1, 0, 0, 0, 0, 0, 1,\n",
              "         0, 0, 0, 0, 1, 0, 1, 0, 1, 0]], dtype=int64)"
            ]
          },
          "execution_count": 203,
          "metadata": {},
          "output_type": "execute_result"
        }
      ],
      "source": [
        "c_feat[:,:].todense()"
      ]
    },
    {
      "cell_type": "code",
      "execution_count": 204,
      "metadata": {
        "colab": {
          "base_uri": "https://localhost:8080/"
        },
        "id": "6aKCFtbOnzbU",
        "outputId": "3d2d557b-78f9-4e92-8a1b-45eb25aec8ad"
      },
      "outputs": [
        {
          "name": "stdout",
          "output_type": "stream",
          "text": [
            "[[0 0 0 0 0 1 0 0 0 1 1 0 1 0 0 0 0 0 0 0 0 0 0 0 0 0 0 0 0 0 0 1 0 0 0 0\n",
            "  0 0 1 1 0 0 0 1 0 0 0 0 0 0 1 1]\n",
            " [1 1 1 1 1 1 0 1 2 2 0 0 0 1 0 1 1 1 1 1 1 2 1 0 2 1 1 1 1 1 0 1 1 1 1 2\n",
            "  1 1 0 0 1 1 1 0 1 1 0 1 1 1 1 0]\n",
            " [0 0 0 1 0 0 1 1 0 1 1 0 0 0 1 0 0 0 1 0 0 0 0 1 0 0 0 0 0 0 0 0 0 0 0 1\n",
            "  0 0 0 0 0 0 0 0 0 1 0 0 1 0 0 0]\n",
            " [0 0 0 1 0 1 0 1 1 1 0 1 0 0 0 0 0 0 1 0 0 0 1 1 1 0 1 0 0 1 1 1 0 0 1 1\n",
            "  0 0 0 0 0 1 0 0 0 0 1 0 1 0 1 0]]\n"
          ]
        }
      ],
      "source": [
        "#first_news เป็น array ของข่าว โดย row ที่ 1 = ข่าวที่ต้องการตรวจสอบจาก cofact, row ที่ 2 = ข้อความสรุปใน cofact, row ที่ 3 = หัวข้อข่าวที่เชื่อถือได้ , row ที่ 4 = เนื้อหาข่าว paragraph แรกของข่าวที่เชื่อถือได้\n",
        "first_news = c_feat[:,:].todense()\n",
        "print(first_news) "
      ]
    },
    {
      "cell_type": "code",
      "execution_count": 205,
      "metadata": {
        "colab": {
          "base_uri": "https://localhost:8080/"
        },
        "id": "CporXWg1nzbU",
        "outputId": "c79b5e4a-f010-4662-bb18-ad11a971832c"
      },
      "outputs": [
        {
          "data": {
            "text/plain": [
              "52"
            ]
          },
          "execution_count": 205,
          "metadata": {},
          "output_type": "execute_result"
        }
      ],
      "source": [
        "first_news.shape[1]"
      ]
    },
    {
      "cell_type": "code",
      "execution_count": 206,
      "metadata": {
        "colab": {
          "base_uri": "https://localhost:8080/"
        },
        "id": "Fz0CReaLnzbV",
        "outputId": "81049139-8b82-4afb-93da-14549985ee27"
      },
      "outputs": [
        {
          "name": "stdout",
          "output_type": "stream",
          "text": [
            "This is sum (upperpart) : 5\n",
            "This is lowerpart : 23.45207879911715\n"
          ]
        },
        {
          "data": {
            "text/plain": [
              "0.21320071635561041"
            ]
          },
          "execution_count": 206,
          "metadata": {},
          "output_type": "execute_result"
        }
      ],
      "source": [
        "find_cosine_similarity(first_news, 0, 1) #เทียบ ข้อความที่ต้องการตรวจสอบบน cofact กับ ข้อความสรุปใน cofact"
      ]
    },
    {
      "cell_type": "code",
      "execution_count": 207,
      "metadata": {
        "colab": {
          "base_uri": "https://localhost:8080/"
        },
        "id": "vOTAKZAknzbV",
        "outputId": "ced34ec0-753d-437d-80cc-f033a3003932"
      },
      "outputs": [
        {
          "name": "stdout",
          "output_type": "stream",
          "text": [
            "This is sum (upperpart) : 2\n",
            "This is lowerpart : 10.488088481701515\n"
          ]
        },
        {
          "data": {
            "text/plain": [
              "0.19069251784911848"
            ]
          },
          "execution_count": 207,
          "metadata": {},
          "output_type": "execute_result"
        }
      ],
      "source": [
        "find_cosine_similarity(first_news, 0, 2)#เทียบ ข้อความที่ต้องการตรวจสอบบน cofact กับ หัวข้อข่าวที่เชื่อถือได้"
      ]
    },
    {
      "cell_type": "code",
      "execution_count": 208,
      "metadata": {
        "colab": {
          "base_uri": "https://localhost:8080/"
        },
        "id": "Wm3Zydw-nzbV",
        "outputId": "dec3b3e0-baa6-44c6-9464-c6726955a771"
      },
      "outputs": [
        {
          "name": "stdout",
          "output_type": "stream",
          "text": [
            "This is sum (upperpart) : 4\n",
            "This is lowerpart : 14.142135623730953\n"
          ]
        },
        {
          "data": {
            "text/plain": [
              "0.28284271247461895"
            ]
          },
          "execution_count": 208,
          "metadata": {},
          "output_type": "execute_result"
        }
      ],
      "source": [
        "find_cosine_similarity(first_news, 0, 3)#เทียบ ข้อความที่ต้องการตรวจสอบบน cofact กับ เนื้อหาข่าว paragraph แรกของข่าวที่เชื่อถือได้"
      ]
    },
    {
      "cell_type": "markdown",
      "metadata": {
        "id": "3uwrSFCJpdLp"
      },
      "source": [
        "# ข่าวที่ 18"
      ]
    },
    {
      "cell_type": "code",
      "execution_count": 209,
      "metadata": {
        "id": "yA516X3updLp"
      },
      "outputs": [],
      "source": [
        "clean_text = ['เจ้าแมลงก้นกระดก ห้ามตบ ห้ามบี้ ห้ามปัด เด็ดขาดเลยนะคะ เพราะอาจทำให้เกิดผื่นผิวหนังอักเสบขึ้นมาได้ค่ะ','ผื่นที่เกิดจากแมลงชนิดนี้ไม่ได้เกิดจากการที่มันกัดหรือต่อย แต่เกิดจากการที่ไปโดนแล้วบี้ทำให้สารเคมีในตัวที่ชื่อว่า paederin จะทำให้ผิวหนังบริเวณที่สัมผัสไหม้มักเเป็นรอยแปลกๆตามที่มือไปสัมผัส จะเห็นว่าแมลงชนิดนี้ไม่ได้อันตราย กัดต่อยแล้วถึงกับชีวิต แต่ สามารทำให้ผิวหนังไหม้พองได้ ดังนั้น ควรป้องกันไว้ก่อนจะดีที่สุด.','แมลงก้นกระดก ห้ามตบเด็ดขาด','ถ้ามาเกาะบนตัวคุณ ห้ามตบมันเด็ดขาด เพราะในตัวมันมีสารพิษชนิดเหลว เมื่อสัมผัสผิวเราจะทำให้ผิวหนังบริเวณที่สัมผัสไหม้มักเเป็นรอยแปลกๆ']"
      ]
    },
    {
      "cell_type": "markdown",
      "metadata": {
        "id": "01k9JdG2pdLp"
      },
      "source": [
        "**Step 2: Tokenize**"
      ]
    },
    {
      "cell_type": "code",
      "execution_count": 210,
      "metadata": {
        "colab": {
          "base_uri": "https://localhost:8080/"
        },
        "id": "IIGgCqTXpdLp",
        "outputId": "335592d3-5c0f-4662-d36c-81b60f203bd5"
      },
      "outputs": [
        {
          "name": "stdout",
          "output_type": "stream",
          "text": [
            "tokenized text:\n",
            " ['เจ้า', 'แมลง', 'ก้น', 'กระดก', 'ห้าม', 'ตบ', 'ห้าม', 'บี้', 'ห้าม', 'ปัด', 'เด็ด', 'ผื่น', 'ผิวหนัง', 'อักเสบ']\n",
            "tokenized text:\n",
            " ['ผื่น', 'แมลง', 'ชนิด', 'กัด', 'ต่อย', 'โดน', 'บี้', 'สาร', 'เคมี', 'ตัว', 'ชื่อ', 'paederin', 'ผิวหนัง', 'บริเวณ', 'สัมผัส', 'ไหม้', 'เเป็', 'นร', 'อย', 'แปลกๆ', 'มือ', 'สัมผัส', 'แมลง', 'ชนิด', 'อันตราย', 'กัด', 'ต่อย', 'ชีวิต', 'สา', 'มาร', 'ผิวหนัง', 'ไหม้', 'พอง', 'ป้องกัน', 'ดี']\n",
            "tokenized text:\n",
            " ['แมลง', 'ก้น', 'กระดก', 'ห้าม', 'ตบ', 'เด็ด']\n",
            "tokenized text:\n",
            " ['เกาะ', 'ตัว', 'ห้าม', 'ตบ', 'เด็ด', 'ตัว', 'สาร', 'พิษ', 'ชนิด', 'เหลว', 'สัมผัส', 'ผิว', 'ผิวหนัง', 'บริเวณ', 'สัมผัส', 'ไหม้', 'เเป็', 'นร', 'อย', 'แปลกๆ']\n"
          ]
        }
      ],
      "source": [
        "print('tokenized text:\\n',split_word(clean_text[0])) #ข้อความที่ต้องการตรวจสอบบน cofact\n",
        "print('tokenized text:\\n',split_word(clean_text[1])) #ข้อความสรุปใน cofact\n",
        "print('tokenized text:\\n',split_word(clean_text[2])) #หัวข่าวอ้างอิง\n",
        "print('tokenized text:\\n',split_word(clean_text[3])) #เนื้อหาข่าวอ้างอิง paragraph แรก"
      ]
    },
    {
      "cell_type": "code",
      "execution_count": 211,
      "metadata": {
        "id": "IjAmMdvGpdLq"
      },
      "outputs": [],
      "source": [
        "tokens_list = [split_word(txt) for txt in clean_text]"
      ]
    },
    {
      "cell_type": "code",
      "execution_count": 212,
      "metadata": {
        "colab": {
          "base_uri": "https://localhost:8080/"
        },
        "id": "yt0OLRbkpdLq",
        "outputId": "55d9bf04-03dc-4b11-c707-aefa4a96181c"
      },
      "outputs": [
        {
          "data": {
            "text/plain": [
              "[['เจ้า',\n",
              "  'แมลง',\n",
              "  'ก้น',\n",
              "  'กระดก',\n",
              "  'ห้าม',\n",
              "  'ตบ',\n",
              "  'ห้าม',\n",
              "  'บี้',\n",
              "  'ห้าม',\n",
              "  'ปัด',\n",
              "  'เด็ด',\n",
              "  'ผื่น',\n",
              "  'ผิวหนัง',\n",
              "  'อักเสบ'],\n",
              " ['ผื่น',\n",
              "  'แมลง',\n",
              "  'ชนิด',\n",
              "  'กัด',\n",
              "  'ต่อย',\n",
              "  'โดน',\n",
              "  'บี้',\n",
              "  'สาร',\n",
              "  'เคมี',\n",
              "  'ตัว',\n",
              "  'ชื่อ',\n",
              "  'paederin',\n",
              "  'ผิวหนัง',\n",
              "  'บริเวณ',\n",
              "  'สัมผัส',\n",
              "  'ไหม้',\n",
              "  'เเป็',\n",
              "  'นร',\n",
              "  'อย',\n",
              "  'แปลกๆ',\n",
              "  'มือ',\n",
              "  'สัมผัส',\n",
              "  'แมลง',\n",
              "  'ชนิด',\n",
              "  'อันตราย',\n",
              "  'กัด',\n",
              "  'ต่อย',\n",
              "  'ชีวิต',\n",
              "  'สา',\n",
              "  'มาร',\n",
              "  'ผิวหนัง',\n",
              "  'ไหม้',\n",
              "  'พอง',\n",
              "  'ป้องกัน',\n",
              "  'ดี'],\n",
              " ['แมลง', 'ก้น', 'กระดก', 'ห้าม', 'ตบ', 'เด็ด'],\n",
              " ['เกาะ',\n",
              "  'ตัว',\n",
              "  'ห้าม',\n",
              "  'ตบ',\n",
              "  'เด็ด',\n",
              "  'ตัว',\n",
              "  'สาร',\n",
              "  'พิษ',\n",
              "  'ชนิด',\n",
              "  'เหลว',\n",
              "  'สัมผัส',\n",
              "  'ผิว',\n",
              "  'ผิวหนัง',\n",
              "  'บริเวณ',\n",
              "  'สัมผัส',\n",
              "  'ไหม้',\n",
              "  'เเป็',\n",
              "  'นร',\n",
              "  'อย',\n",
              "  'แปลกๆ']]"
            ]
          },
          "execution_count": 212,
          "metadata": {},
          "output_type": "execute_result"
        }
      ],
      "source": [
        "tokens_list"
      ]
    },
    {
      "cell_type": "markdown",
      "metadata": {
        "id": "R5o2U4EUpdLq"
      },
      "source": [
        "**Step 3 + 4a: Bag of words + count word**"
      ]
    },
    {
      "cell_type": "code",
      "execution_count": 213,
      "metadata": {
        "id": "-JSJzFFrpdLq"
      },
      "outputs": [],
      "source": [
        "from sklearn.feature_extraction.text import CountVectorizer\n",
        "tokens_list_j = [','.join(tkn) for tkn in tokens_list]\n",
        "cvec = CountVectorizer(analyzer=lambda x:x.split(','))\n",
        "c_feat = cvec.fit_transform(tokens_list_j)"
      ]
    },
    {
      "cell_type": "code",
      "execution_count": 214,
      "metadata": {
        "colab": {
          "base_uri": "https://localhost:8080/"
        },
        "id": "8Bej6hNCpdLq",
        "outputId": "9c0d3769-0b91-4e88-95d8-076ce1bb572c"
      },
      "outputs": [
        {
          "data": {
            "text/plain": [
              "{'เจ้า': 32,\n",
              " 'แมลง': 37,\n",
              " 'ก้น': 3,\n",
              " 'กระดก': 1,\n",
              " 'ห้าม': 26,\n",
              " 'ตบ': 8,\n",
              " 'บี้': 13,\n",
              " 'ปัด': 14,\n",
              " 'เด็ด': 33,\n",
              " 'ผื่น': 18,\n",
              " 'ผิวหนัง': 17,\n",
              " 'อักเสบ': 28,\n",
              " 'ชนิด': 4,\n",
              " 'กัด': 2,\n",
              " 'ต่อย': 10,\n",
              " 'โดน': 38,\n",
              " 'สาร': 25,\n",
              " 'เคมี': 31,\n",
              " 'ตัว': 9,\n",
              " 'ชื่อ': 6,\n",
              " 'paederin': 0,\n",
              " 'บริเวณ': 12,\n",
              " 'สัมผัส': 23,\n",
              " 'ไหม้': 39,\n",
              " 'เเป็': 35,\n",
              " 'นร': 11,\n",
              " 'อย': 27,\n",
              " 'แปลกๆ': 36,\n",
              " 'มือ': 22,\n",
              " 'อันตราย': 29,\n",
              " 'ชีวิต': 5,\n",
              " 'สา': 24,\n",
              " 'มาร': 21,\n",
              " 'พอง': 19,\n",
              " 'ป้องกัน': 15,\n",
              " 'ดี': 7,\n",
              " 'เกาะ': 30,\n",
              " 'พิษ': 20,\n",
              " 'เหลว': 34,\n",
              " 'ผิว': 16}"
            ]
          },
          "execution_count": 214,
          "metadata": {},
          "output_type": "execute_result"
        }
      ],
      "source": [
        "cvec.vocabulary_"
      ]
    },
    {
      "cell_type": "code",
      "execution_count": 215,
      "metadata": {
        "colab": {
          "base_uri": "https://localhost:8080/"
        },
        "id": "bFM030ULpdLq",
        "outputId": "0aba86e2-9ad2-4a41-c640-a47944febfbf"
      },
      "outputs": [
        {
          "data": {
            "text/plain": [
              "matrix([[0, 1, 0, 1, 0, 0, 0, 0, 1, 0, 0, 0, 0, 1, 1, 0, 0, 1, 1, 0, 0,\n",
              "         0, 0, 0, 0, 0, 3, 0, 1, 0, 0, 0, 1, 1, 0, 0, 0, 1, 0, 0],\n",
              "        [1, 0, 2, 0, 2, 1, 1, 1, 0, 1, 2, 1, 1, 1, 0, 1, 0, 2, 1, 1, 0,\n",
              "         1, 1, 2, 1, 1, 0, 1, 0, 1, 0, 1, 0, 0, 0, 1, 1, 2, 1, 2],\n",
              "        [0, 1, 0, 1, 0, 0, 0, 0, 1, 0, 0, 0, 0, 0, 0, 0, 0, 0, 0, 0, 0,\n",
              "         0, 0, 0, 0, 0, 1, 0, 0, 0, 0, 0, 0, 1, 0, 0, 0, 1, 0, 0],\n",
              "        [0, 0, 0, 0, 1, 0, 0, 0, 1, 2, 0, 1, 1, 0, 0, 0, 1, 1, 0, 0, 1,\n",
              "         0, 0, 2, 0, 1, 1, 1, 0, 0, 1, 0, 0, 1, 1, 1, 1, 0, 0, 1]],\n",
              "       dtype=int64)"
            ]
          },
          "execution_count": 215,
          "metadata": {},
          "output_type": "execute_result"
        }
      ],
      "source": [
        "c_feat[:,:].todense()"
      ]
    },
    {
      "cell_type": "code",
      "execution_count": 216,
      "metadata": {
        "colab": {
          "base_uri": "https://localhost:8080/"
        },
        "id": "5wBb-sh0pdLr",
        "outputId": "a30c1bb9-91e6-467c-8fc2-b13d201666b1"
      },
      "outputs": [
        {
          "name": "stdout",
          "output_type": "stream",
          "text": [
            "[[0 1 0 1 0 0 0 0 1 0 0 0 0 1 1 0 0 1 1 0 0 0 0 0 0 0 3 0 1 0 0 0 1 1 0 0\n",
            "  0 1 0 0]\n",
            " [1 0 2 0 2 1 1 1 0 1 2 1 1 1 0 1 0 2 1 1 0 1 1 2 1 1 0 1 0 1 0 1 0 0 0 1\n",
            "  1 2 1 2]\n",
            " [0 1 0 1 0 0 0 0 1 0 0 0 0 0 0 0 0 0 0 0 0 0 0 0 0 0 1 0 0 0 0 0 0 1 0 0\n",
            "  0 1 0 0]\n",
            " [0 0 0 0 1 0 0 0 1 2 0 1 1 0 0 0 1 1 0 0 1 0 0 2 0 1 1 1 0 0 1 0 0 1 1 1\n",
            "  1 0 0 1]]\n"
          ]
        }
      ],
      "source": [
        "#first_news เป็น array ของข่าว โดย row ที่ 1 = ข่าวที่ต้องการตรวจสอบจาก cofact, row ที่ 2 = ข้อความสรุปใน cofact, row ที่ 3 = หัวข้อข่าวที่เชื่อถือได้ , row ที่ 4 = เนื้อหาข่าว paragraph แรกของข่าวที่เชื่อถือได้\n",
        "first_news = c_feat[:,:].todense()\n",
        "print(first_news) "
      ]
    },
    {
      "cell_type": "code",
      "execution_count": 217,
      "metadata": {
        "colab": {
          "base_uri": "https://localhost:8080/"
        },
        "id": "qGUe57X7pdLr",
        "outputId": "479d783a-1e15-4655-b4b2-3370c2e787ff"
      },
      "outputs": [
        {
          "data": {
            "text/plain": [
              "40"
            ]
          },
          "execution_count": 217,
          "metadata": {},
          "output_type": "execute_result"
        }
      ],
      "source": [
        "first_news.shape[1]"
      ]
    },
    {
      "cell_type": "code",
      "execution_count": 218,
      "metadata": {
        "colab": {
          "base_uri": "https://localhost:8080/"
        },
        "id": "SRxTwHMqpdLr",
        "outputId": "81907e76-f5b7-42a1-9fc6-7f3828973b03"
      },
      "outputs": [
        {
          "name": "stdout",
          "output_type": "stream",
          "text": [
            "This is sum (upperpart) : 6\n",
            "This is lowerpart : 31.304951684997057\n"
          ]
        },
        {
          "data": {
            "text/plain": [
              "0.19166296949998196"
            ]
          },
          "execution_count": 218,
          "metadata": {},
          "output_type": "execute_result"
        }
      ],
      "source": [
        "find_cosine_similarity(first_news, 0, 1) #เทียบ ข้อความที่ต้องการตรวจสอบบน cofact กับ ข้อความสรุปใน cofact"
      ]
    },
    {
      "cell_type": "code",
      "execution_count": 219,
      "metadata": {
        "colab": {
          "base_uri": "https://localhost:8080/"
        },
        "id": "MqklapUqpdLr",
        "outputId": "48937131-5e56-48d1-baae-12f195bf1164"
      },
      "outputs": [
        {
          "name": "stdout",
          "output_type": "stream",
          "text": [
            "This is sum (upperpart) : 8\n",
            "This is lowerpart : 10.954451150103322\n"
          ]
        },
        {
          "data": {
            "text/plain": [
              "0.7302967433402214"
            ]
          },
          "execution_count": 219,
          "metadata": {},
          "output_type": "execute_result"
        }
      ],
      "source": [
        "find_cosine_similarity(first_news, 0, 2)#เทียบ ข้อความที่ต้องการตรวจสอบบน cofact กับ หัวข้อข่าวที่เชื่อถือได้"
      ]
    },
    {
      "cell_type": "code",
      "execution_count": 220,
      "metadata": {
        "colab": {
          "base_uri": "https://localhost:8080/"
        },
        "id": "oOi60Zu0pdLr",
        "outputId": "6c9f0bb8-a686-409a-90cb-e2f7fdbc7ee0"
      },
      "outputs": [
        {
          "name": "stdout",
          "output_type": "stream",
          "text": [
            "This is sum (upperpart) : 6\n",
            "This is lowerpart : 21.908902300206645\n"
          ]
        },
        {
          "data": {
            "text/plain": [
              "0.27386127875258304"
            ]
          },
          "execution_count": 220,
          "metadata": {},
          "output_type": "execute_result"
        }
      ],
      "source": [
        "find_cosine_similarity(first_news, 0, 3)#เทียบ ข้อความที่ต้องการตรวจสอบบน cofact กับ เนื้อหาข่าว paragraph แรกของข่าวที่เชื่อถือได้"
      ]
    },
    {
      "cell_type": "markdown",
      "metadata": {
        "id": "dGdQnUSWqTho"
      },
      "source": [
        "# ข่าวที่ 19"
      ]
    },
    {
      "cell_type": "code",
      "execution_count": 221,
      "metadata": {
        "id": "71u026koqThp"
      },
      "outputs": [],
      "source": [
        "clean_text = ['การฉีดวัคซีน Sinopharm ให้กับเด็ก ยังไม่ผ่านการอนุมัติจาก อย. ไทย จริงหรือไม่','“อย.ยังไม่อนุญาต ต้องย้ำว่ายังไม่ได้อนุญาต ไม่ใช่ไม่อนุญาต เพราะยังต้องให้เขาส่งข้อมูลสำคัญ การวิจัยเฟส 3 มาเพิ่มเติมทั้งความปลอดภัยและประสิทธิภาพ รวมถึงปริมาณการใช้วัคซีนในเด็กเล็ก”','อย. ยังไม่อนุมัติใช้ ‘ซิโนฟาร์ม’ ในเด็ก รอบริษัทส่งผลศึกษาเฟส 3 เพิ่มเติม','อย. ยังไม่อนุมัติใช้ ‘ซิโนฟาร์ม’ ในเด็ก รอบริษัทส่งผลศึกษาเฟส 3 เพิ่มเติม รวมถึงขนาดการใช้วัคซีนและระยะห่างในการฉีดวัคซีน']"
      ]
    },
    {
      "cell_type": "markdown",
      "metadata": {
        "id": "xLrgeaX5qThp"
      },
      "source": [
        "**Step 2: Tokenize**"
      ]
    },
    {
      "cell_type": "code",
      "execution_count": 222,
      "metadata": {
        "colab": {
          "base_uri": "https://localhost:8080/"
        },
        "id": "YLN8Ol5bqThp",
        "outputId": "ce5e309e-9e63-4d71-e157-01c3e2241a3a"
      },
      "outputs": [
        {
          "name": "stdout",
          "output_type": "stream",
          "text": [
            "tokenized text:\n",
            " ['ฉีด', 'วัคซีน', 'Sinopharm', 'เด็ก', 'อนุมัติ', 'อย', 'ไทย']\n",
            "tokenized text:\n",
            " ['อย', 'อนุญาต', 'ย้ำ', 'อนุญาต', 'อนุญาต', 'ข้อมูล', 'วิจัย', 'เฟส', 'เติม', 'ปลอดภัย', 'ประสิทธิภาพ', 'ปริมาณ', 'วัคซีน', 'เด็ก']\n",
            "tokenized text:\n",
            " ['อย', 'อนุมัติ', 'ซิ', 'โน', 'ฟาร์ม', 'เด็ก', 'รอ', 'บริษัท', 'ศึกษา', 'เฟส', 'เติม']\n",
            "tokenized text:\n",
            " ['อย', 'อนุมัติ', 'ซิ', 'โน', 'ฟาร์ม', 'เด็ก', 'รอ', 'บริษัท', 'ศึกษา', 'เฟส', 'เติม', 'ขนาด', 'วัคซีน', 'ห่าง', 'ฉีด', 'วัคซีน']\n"
          ]
        }
      ],
      "source": [
        "print('tokenized text:\\n',split_word(clean_text[0])) #ข้อความที่ต้องการตรวจสอบบน cofact\n",
        "print('tokenized text:\\n',split_word(clean_text[1])) #ข้อความสรุปใน cofact\n",
        "print('tokenized text:\\n',split_word(clean_text[2])) #หัวข่าวอ้างอิง\n",
        "print('tokenized text:\\n',split_word(clean_text[3])) #เนื้อหาข่าวอ้างอิง paragraph แรก"
      ]
    },
    {
      "cell_type": "code",
      "execution_count": 223,
      "metadata": {
        "id": "T9rav6HwqThp"
      },
      "outputs": [],
      "source": [
        "tokens_list = [split_word(txt) for txt in clean_text]"
      ]
    },
    {
      "cell_type": "code",
      "execution_count": 224,
      "metadata": {
        "colab": {
          "base_uri": "https://localhost:8080/"
        },
        "id": "b_NcorYjqThq",
        "outputId": "ca12fc1e-ef84-4859-d801-0261bb5752d8"
      },
      "outputs": [
        {
          "data": {
            "text/plain": [
              "[['ฉีด', 'วัคซีน', 'Sinopharm', 'เด็ก', 'อนุมัติ', 'อย', 'ไทย'],\n",
              " ['อย',\n",
              "  'อนุญาต',\n",
              "  'ย้ำ',\n",
              "  'อนุญาต',\n",
              "  'อนุญาต',\n",
              "  'ข้อมูล',\n",
              "  'วิจัย',\n",
              "  'เฟส',\n",
              "  'เติม',\n",
              "  'ปลอดภัย',\n",
              "  'ประสิทธิภาพ',\n",
              "  'ปริมาณ',\n",
              "  'วัคซีน',\n",
              "  'เด็ก'],\n",
              " ['อย',\n",
              "  'อนุมัติ',\n",
              "  'ซิ',\n",
              "  'โน',\n",
              "  'ฟาร์ม',\n",
              "  'เด็ก',\n",
              "  'รอ',\n",
              "  'บริษัท',\n",
              "  'ศึกษา',\n",
              "  'เฟส',\n",
              "  'เติม'],\n",
              " ['อย',\n",
              "  'อนุมัติ',\n",
              "  'ซิ',\n",
              "  'โน',\n",
              "  'ฟาร์ม',\n",
              "  'เด็ก',\n",
              "  'รอ',\n",
              "  'บริษัท',\n",
              "  'ศึกษา',\n",
              "  'เฟส',\n",
              "  'เติม',\n",
              "  'ขนาด',\n",
              "  'วัคซีน',\n",
              "  'ห่าง',\n",
              "  'ฉีด',\n",
              "  'วัคซีน']]"
            ]
          },
          "execution_count": 224,
          "metadata": {},
          "output_type": "execute_result"
        }
      ],
      "source": [
        "tokens_list"
      ]
    },
    {
      "cell_type": "markdown",
      "metadata": {
        "id": "0UUxbrraqThq"
      },
      "source": [
        "**Step 3 + 4a: Bag of words + count word**"
      ]
    },
    {
      "cell_type": "code",
      "execution_count": 225,
      "metadata": {
        "id": "PGd8nI1bqThq"
      },
      "outputs": [],
      "source": [
        "from sklearn.feature_extraction.text import CountVectorizer\n",
        "tokens_list_j = [','.join(tkn) for tkn in tokens_list]\n",
        "cvec = CountVectorizer(analyzer=lambda x:x.split(','))\n",
        "c_feat = cvec.fit_transform(tokens_list_j)"
      ]
    },
    {
      "cell_type": "code",
      "execution_count": 226,
      "metadata": {
        "colab": {
          "base_uri": "https://localhost:8080/"
        },
        "id": "-Rda4uh4qThq",
        "outputId": "0b020d49-4827-43d3-8d07-11d14665a1dc"
      },
      "outputs": [
        {
          "data": {
            "text/plain": [
              "{'ฉีด': 3,\n",
              " 'วัคซีน': 12,\n",
              " 'Sinopharm': 0,\n",
              " 'เด็ก': 19,\n",
              " 'อนุมัติ': 17,\n",
              " 'อย': 18,\n",
              " 'ไทย': 23,\n",
              " 'อนุญาต': 16,\n",
              " 'ย้ำ': 10,\n",
              " 'ข้อมูล': 2,\n",
              " 'วิจัย': 13,\n",
              " 'เฟส': 21,\n",
              " 'เติม': 20,\n",
              " 'ปลอดภัย': 8,\n",
              " 'ประสิทธิภาพ': 6,\n",
              " 'ปริมาณ': 7,\n",
              " 'ซิ': 4,\n",
              " 'โน': 22,\n",
              " 'ฟาร์ม': 9,\n",
              " 'รอ': 11,\n",
              " 'บริษัท': 5,\n",
              " 'ศึกษา': 14,\n",
              " 'ขนาด': 1,\n",
              " 'ห่าง': 15}"
            ]
          },
          "execution_count": 226,
          "metadata": {},
          "output_type": "execute_result"
        }
      ],
      "source": [
        "cvec.vocabulary_"
      ]
    },
    {
      "cell_type": "code",
      "execution_count": 227,
      "metadata": {
        "colab": {
          "base_uri": "https://localhost:8080/"
        },
        "id": "69fDWdX3qThq",
        "outputId": "c984006a-570f-40a3-ce9d-45cee87c6acf"
      },
      "outputs": [
        {
          "data": {
            "text/plain": [
              "matrix([[1, 0, 0, 1, 0, 0, 0, 0, 0, 0, 0, 0, 1, 0, 0, 0, 0, 1, 1, 1, 0,\n",
              "         0, 0, 1],\n",
              "        [0, 0, 1, 0, 0, 0, 1, 1, 1, 0, 1, 0, 1, 1, 0, 0, 3, 0, 1, 1, 1,\n",
              "         1, 0, 0],\n",
              "        [0, 0, 0, 0, 1, 1, 0, 0, 0, 1, 0, 1, 0, 0, 1, 0, 0, 1, 1, 1, 1,\n",
              "         1, 1, 0],\n",
              "        [0, 1, 0, 1, 1, 1, 0, 0, 0, 1, 0, 1, 2, 0, 1, 1, 0, 1, 1, 1, 1,\n",
              "         1, 1, 0]], dtype=int64)"
            ]
          },
          "execution_count": 227,
          "metadata": {},
          "output_type": "execute_result"
        }
      ],
      "source": [
        "c_feat[:,:].todense()"
      ]
    },
    {
      "cell_type": "code",
      "execution_count": 228,
      "metadata": {
        "colab": {
          "base_uri": "https://localhost:8080/"
        },
        "id": "IKN-7UKXqThr",
        "outputId": "1aeeed46-66f7-46d3-9d30-8d42d992fcc0"
      },
      "outputs": [
        {
          "name": "stdout",
          "output_type": "stream",
          "text": [
            "[[1 0 0 1 0 0 0 0 0 0 0 0 1 0 0 0 0 1 1 1 0 0 0 1]\n",
            " [0 0 1 0 0 0 1 1 1 0 1 0 1 1 0 0 3 0 1 1 1 1 0 0]\n",
            " [0 0 0 0 1 1 0 0 0 1 0 1 0 0 1 0 0 1 1 1 1 1 1 0]\n",
            " [0 1 0 1 1 1 0 0 0 1 0 1 2 0 1 1 0 1 1 1 1 1 1 0]]\n"
          ]
        }
      ],
      "source": [
        "#first_news เป็น array ของข่าว โดย row ที่ 1 = ข่าวที่ต้องการตรวจสอบจาก cofact, row ที่ 2 = ข้อความสรุปใน cofact, row ที่ 3 = หัวข้อข่าวที่เชื่อถือได้ , row ที่ 4 = เนื้อหาข่าว paragraph แรกของข่าวที่เชื่อถือได้\n",
        "first_news = c_feat[:,:].todense()\n",
        "print(first_news) "
      ]
    },
    {
      "cell_type": "code",
      "execution_count": 229,
      "metadata": {
        "colab": {
          "base_uri": "https://localhost:8080/"
        },
        "id": "2DVvXdfBqThr",
        "outputId": "abccf040-0f45-4f04-d703-3a272b03e72f"
      },
      "outputs": [
        {
          "data": {
            "text/plain": [
              "24"
            ]
          },
          "execution_count": 229,
          "metadata": {},
          "output_type": "execute_result"
        }
      ],
      "source": [
        "first_news.shape[1]"
      ]
    },
    {
      "cell_type": "code",
      "execution_count": 230,
      "metadata": {
        "colab": {
          "base_uri": "https://localhost:8080/"
        },
        "id": "tf4cmf7lqThr",
        "outputId": "7be9a9e0-212b-45ef-b713-39ef85d50ac8"
      },
      "outputs": [
        {
          "name": "stdout",
          "output_type": "stream",
          "text": [
            "This is sum (upperpart) : 3\n",
            "This is lowerpart : 11.832159566199234\n"
          ]
        },
        {
          "data": {
            "text/plain": [
              "0.25354627641855493"
            ]
          },
          "execution_count": 230,
          "metadata": {},
          "output_type": "execute_result"
        }
      ],
      "source": [
        "find_cosine_similarity(first_news, 0, 1) #เทียบ ข้อความที่ต้องการตรวจสอบบน cofact กับ ข้อความสรุปใน cofact"
      ]
    },
    {
      "cell_type": "code",
      "execution_count": 231,
      "metadata": {
        "colab": {
          "base_uri": "https://localhost:8080/"
        },
        "id": "mkJRNLAnqThr",
        "outputId": "8280a8b7-2dd0-409a-bc42-61bdff2505c0"
      },
      "outputs": [
        {
          "name": "stdout",
          "output_type": "stream",
          "text": [
            "This is sum (upperpart) : 3\n",
            "This is lowerpart : 8.774964387392123\n"
          ]
        },
        {
          "data": {
            "text/plain": [
              "0.3418817293789138"
            ]
          },
          "execution_count": 231,
          "metadata": {},
          "output_type": "execute_result"
        }
      ],
      "source": [
        "find_cosine_similarity(first_news, 0, 2)#เทียบ ข้อความที่ต้องการตรวจสอบบน cofact กับ หัวข้อข่าวที่เชื่อถือได้"
      ]
    },
    {
      "cell_type": "code",
      "execution_count": 232,
      "metadata": {
        "colab": {
          "base_uri": "https://localhost:8080/"
        },
        "id": "XHJqze6YqThr",
        "outputId": "2cbd1786-d89b-49d3-dbc7-cd39bd5757f0"
      },
      "outputs": [
        {
          "name": "stdout",
          "output_type": "stream",
          "text": [
            "This is sum (upperpart) : 6\n",
            "This is lowerpart : 11.224972160321824\n"
          ]
        },
        {
          "data": {
            "text/plain": [
              "0.5345224838248488"
            ]
          },
          "execution_count": 232,
          "metadata": {},
          "output_type": "execute_result"
        }
      ],
      "source": [
        "find_cosine_similarity(first_news, 0, 3)#เทียบ ข้อความที่ต้องการตรวจสอบบน cofact กับ เนื้อหาข่าว paragraph แรกของข่าวที่เชื่อถือได้"
      ]
    },
    {
      "cell_type": "markdown",
      "metadata": {
        "id": "GeLyUh55ucn1"
      },
      "source": [
        "# ข่าวที่ 20"
      ]
    },
    {
      "cell_type": "code",
      "execution_count": 233,
      "metadata": {
        "id": "UnYzw5qHucn1"
      },
      "outputs": [],
      "source": [
        "clean_text = ['หลังฉีดวัคซันโควิด จำเป็นต้องตรวจดูปริมาณภูมิคุ้มกันหลังฉีดวัคซีน หรือไม่','ปัจจุบันนี้พบว่า ส่วนใหญ่หรือมากกว่า 90% ของผู้ฉีดวัคซีนโควิดจะมีภูมิคุ้มกัน อีกทั้งยังไม่มีข้อมูลบ่งชี้ถึงระดับภูมิคุ้มกันที่สัมพันธ์กับการป้องกันการติดโรคโควิด-19 (Correlates of protection) ดังนั้นการตรวจภูมิคุ้มกันหลังรับวัคซีน ณ ปัจจุบันจึงเป็นเรื่องของความสบายใจของผู้เข้ารับการตรวจภูมิที่มีทุนทรัพย์เพียงพอ','ฉีดวัคซีนโควิด-19 แล้วจำเป็นต้องตรวจภูมิคุ้มกันไหม? ฟังคำอธิบายชัดๆ จาก ‘สหเวชศาสตร์ ธรรมศาสตร์’','ท่ามกลางความสับสนและความไม่มั่นใจ เกิดเป็นคำถามดังขึ้นให้ได้ยินอย่างหนาหูว่า ที่สุดแล้ว จำเป็นต้อง “ตรวจภูมิ” หลังฉีดวัคซีนโควิด-19 หรือไม่ ?']"
      ]
    },
    {
      "cell_type": "markdown",
      "metadata": {
        "id": "Y79COhiiucn1"
      },
      "source": [
        "**Step 2: Tokenize**"
      ]
    },
    {
      "cell_type": "code",
      "execution_count": 234,
      "metadata": {
        "colab": {
          "base_uri": "https://localhost:8080/"
        },
        "id": "HZvN1cwBucn1",
        "outputId": "4cb4a84c-b8b7-431c-f104-40bc61b153d8"
      },
      "outputs": [
        {
          "name": "stdout",
          "output_type": "stream",
          "text": [
            "tokenized text:\n",
            " ['ฉีด', 'วัค', 'ซัน', 'โค', 'วิด', 'ตรวจ', 'ดู', 'ปริมาณ', 'ภูมิคุ้มกัน', 'ฉีด', 'วัคซีน']\n",
            "tokenized text:\n",
            " ['ฉีด', 'วัคซีน', 'โค', 'วิด', 'ภูมิคุ้มกัน', 'ไม่มี', 'ข้อมูล', 'บ่ง', 'ชี้', 'ระดับ', 'ภูมิคุ้มกัน', 'สัมพันธ์', 'ป้องกัน', 'ติด', 'โรค', 'โค', 'วิด', 'Correlates', 'of', 'protection', 'ตรวจ', 'ภูมิคุ้มกัน', 'วัคซีน', 'เรื่อง', 'สบายใจ', 'ตรวจ', 'ภูมิ', 'ทุน', 'ทรัพย์']\n",
            "tokenized text:\n",
            " ['ฉีด', 'วัคซีน', 'โค', 'วิด', 'ตรวจ', 'ภูมิคุ้มกัน', 'ไหม', 'ฟัง', 'อธิ', 'บาย', 'ชัดๆ', 'สห', 'เวชศาสตร์', 'ธรรมศาสตร์']\n",
            "tokenized text:\n",
            " ['ท่ามกลาง', 'สับสน', 'มั่นใจ', 'คำถาม', 'ได้ยิน', 'หนาหู', 'ตรวจ', 'ภูมิ', 'ฉีด', 'วัคซีน', 'โค', 'วิด']\n"
          ]
        }
      ],
      "source": [
        "print('tokenized text:\\n',split_word(clean_text[0])) #ข้อความที่ต้องการตรวจสอบบน cofact\n",
        "print('tokenized text:\\n',split_word(clean_text[1])) #ข้อความสรุปใน cofact\n",
        "print('tokenized text:\\n',split_word(clean_text[2])) #หัวข่าวอ้างอิง\n",
        "print('tokenized text:\\n',split_word(clean_text[3])) #เนื้อหาข่าวอ้างอิง paragraph แรก"
      ]
    },
    {
      "cell_type": "code",
      "execution_count": 235,
      "metadata": {
        "id": "kzA2jaZ4ucn2"
      },
      "outputs": [],
      "source": [
        "tokens_list = [split_word(txt) for txt in clean_text]"
      ]
    },
    {
      "cell_type": "code",
      "execution_count": 236,
      "metadata": {
        "colab": {
          "base_uri": "https://localhost:8080/"
        },
        "id": "X_qWUBNvucn2",
        "outputId": "3b6014b3-f3c6-44bc-9a99-890e91584d47"
      },
      "outputs": [
        {
          "data": {
            "text/plain": [
              "[['ฉีด',\n",
              "  'วัค',\n",
              "  'ซัน',\n",
              "  'โค',\n",
              "  'วิด',\n",
              "  'ตรวจ',\n",
              "  'ดู',\n",
              "  'ปริมาณ',\n",
              "  'ภูมิคุ้มกัน',\n",
              "  'ฉีด',\n",
              "  'วัคซีน'],\n",
              " ['ฉีด',\n",
              "  'วัคซีน',\n",
              "  'โค',\n",
              "  'วิด',\n",
              "  'ภูมิคุ้มกัน',\n",
              "  'ไม่มี',\n",
              "  'ข้อมูล',\n",
              "  'บ่ง',\n",
              "  'ชี้',\n",
              "  'ระดับ',\n",
              "  'ภูมิคุ้มกัน',\n",
              "  'สัมพันธ์',\n",
              "  'ป้องกัน',\n",
              "  'ติด',\n",
              "  'โรค',\n",
              "  'โค',\n",
              "  'วิด',\n",
              "  'Correlates',\n",
              "  'of',\n",
              "  'protection',\n",
              "  'ตรวจ',\n",
              "  'ภูมิคุ้มกัน',\n",
              "  'วัคซีน',\n",
              "  'เรื่อง',\n",
              "  'สบายใจ',\n",
              "  'ตรวจ',\n",
              "  'ภูมิ',\n",
              "  'ทุน',\n",
              "  'ทรัพย์'],\n",
              " ['ฉีด',\n",
              "  'วัคซีน',\n",
              "  'โค',\n",
              "  'วิด',\n",
              "  'ตรวจ',\n",
              "  'ภูมิคุ้มกัน',\n",
              "  'ไหม',\n",
              "  'ฟัง',\n",
              "  'อธิ',\n",
              "  'บาย',\n",
              "  'ชัดๆ',\n",
              "  'สห',\n",
              "  'เวชศาสตร์',\n",
              "  'ธรรมศาสตร์'],\n",
              " ['ท่ามกลาง',\n",
              "  'สับสน',\n",
              "  'มั่นใจ',\n",
              "  'คำถาม',\n",
              "  'ได้ยิน',\n",
              "  'หนาหู',\n",
              "  'ตรวจ',\n",
              "  'ภูมิ',\n",
              "  'ฉีด',\n",
              "  'วัคซีน',\n",
              "  'โค',\n",
              "  'วิด']]"
            ]
          },
          "execution_count": 236,
          "metadata": {},
          "output_type": "execute_result"
        }
      ],
      "source": [
        "tokens_list"
      ]
    },
    {
      "cell_type": "markdown",
      "metadata": {
        "id": "nrxZG9f8ucn2"
      },
      "source": [
        "**Step 3 + 4a: Bag of words + count word**"
      ]
    },
    {
      "cell_type": "code",
      "execution_count": 237,
      "metadata": {
        "id": "SJ2yirpkucn2"
      },
      "outputs": [],
      "source": [
        "from sklearn.feature_extraction.text import CountVectorizer\n",
        "tokens_list_j = [','.join(tkn) for tkn in tokens_list]\n",
        "cvec = CountVectorizer(analyzer=lambda x:x.split(','))\n",
        "c_feat = cvec.fit_transform(tokens_list_j)"
      ]
    },
    {
      "cell_type": "code",
      "execution_count": 238,
      "metadata": {
        "colab": {
          "base_uri": "https://localhost:8080/"
        },
        "id": "m0wedIxfucn2",
        "outputId": "ae794a21-1738-4ab6-af12-072971e5f0ff"
      },
      "outputs": [
        {
          "data": {
            "text/plain": [
              "{'ฉีด': 5,\n",
              " 'วัค': 25,\n",
              " 'ซัน': 8,\n",
              " 'โค': 36,\n",
              " 'วิด': 27,\n",
              " 'ตรวจ': 10,\n",
              " 'ดู': 9,\n",
              " 'ปริมาณ': 18,\n",
              " 'ภูมิคุ้มกัน': 22,\n",
              " 'วัคซีน': 26,\n",
              " 'ไม่มี': 39,\n",
              " 'ข้อมูล': 3,\n",
              " 'บ่ง': 17,\n",
              " 'ชี้': 7,\n",
              " 'ระดับ': 24,\n",
              " 'สัมพันธ์': 31,\n",
              " 'ป้องกัน': 19,\n",
              " 'ติด': 11,\n",
              " 'โรค': 37,\n",
              " 'Correlates': 0,\n",
              " 'of': 1,\n",
              " 'protection': 2,\n",
              " 'เรื่อง': 34,\n",
              " 'สบายใจ': 28,\n",
              " 'ภูมิ': 21,\n",
              " 'ทุน': 13,\n",
              " 'ทรัพย์': 12,\n",
              " 'ไหม': 40,\n",
              " 'ฟัง': 20,\n",
              " 'อธิ': 33,\n",
              " 'บาย': 16,\n",
              " 'ชัดๆ': 6,\n",
              " 'สห': 29,\n",
              " 'เวชศาสตร์': 35,\n",
              " 'ธรรมศาสตร์': 15,\n",
              " 'ท่ามกลาง': 14,\n",
              " 'สับสน': 30,\n",
              " 'มั่นใจ': 23,\n",
              " 'คำถาม': 4,\n",
              " 'ได้ยิน': 38,\n",
              " 'หนาหู': 32}"
            ]
          },
          "execution_count": 238,
          "metadata": {},
          "output_type": "execute_result"
        }
      ],
      "source": [
        "cvec.vocabulary_"
      ]
    },
    {
      "cell_type": "code",
      "execution_count": 239,
      "metadata": {
        "colab": {
          "base_uri": "https://localhost:8080/"
        },
        "id": "MMDQzvAPucn2",
        "outputId": "33a2d6a3-f7c3-41bd-b38c-b997c602d569"
      },
      "outputs": [
        {
          "data": {
            "text/plain": [
              "matrix([[0, 0, 0, 0, 0, 2, 0, 0, 1, 1, 1, 0, 0, 0, 0, 0, 0, 0, 1, 0, 0,\n",
              "         0, 1, 0, 0, 1, 1, 1, 0, 0, 0, 0, 0, 0, 0, 0, 1, 0, 0, 0, 0],\n",
              "        [1, 1, 1, 1, 0, 1, 0, 1, 0, 0, 2, 1, 1, 1, 0, 0, 0, 1, 0, 1, 0,\n",
              "         1, 3, 0, 1, 0, 2, 2, 1, 0, 0, 1, 0, 0, 1, 0, 2, 1, 0, 1, 0],\n",
              "        [0, 0, 0, 0, 0, 1, 1, 0, 0, 0, 1, 0, 0, 0, 0, 1, 1, 0, 0, 0, 1,\n",
              "         0, 1, 0, 0, 0, 1, 1, 0, 1, 0, 0, 0, 1, 0, 1, 1, 0, 0, 0, 1],\n",
              "        [0, 0, 0, 0, 1, 1, 0, 0, 0, 0, 1, 0, 0, 0, 1, 0, 0, 0, 0, 0, 0,\n",
              "         1, 0, 1, 0, 0, 1, 1, 0, 0, 1, 0, 1, 0, 0, 0, 1, 0, 1, 0, 0]],\n",
              "       dtype=int64)"
            ]
          },
          "execution_count": 239,
          "metadata": {},
          "output_type": "execute_result"
        }
      ],
      "source": [
        "c_feat[:,:].todense()"
      ]
    },
    {
      "cell_type": "code",
      "execution_count": 240,
      "metadata": {
        "colab": {
          "base_uri": "https://localhost:8080/"
        },
        "id": "dNUVWCLFucn2",
        "outputId": "cb198d2c-b33b-4cba-ec20-a06d622401c7"
      },
      "outputs": [
        {
          "name": "stdout",
          "output_type": "stream",
          "text": [
            "[[0 0 0 0 0 2 0 0 1 1 1 0 0 0 0 0 0 0 1 0 0 0 1 0 0 1 1 1 0 0 0 0 0 0 0 0\n",
            "  1 0 0 0 0]\n",
            " [1 1 1 1 0 1 0 1 0 0 2 1 1 1 0 0 0 1 0 1 0 1 3 0 1 0 2 2 1 0 0 1 0 0 1 0\n",
            "  2 1 0 1 0]\n",
            " [0 0 0 0 0 1 1 0 0 0 1 0 0 0 0 1 1 0 0 0 1 0 1 0 0 0 1 1 0 1 0 0 0 1 0 1\n",
            "  1 0 0 0 1]\n",
            " [0 0 0 0 1 1 0 0 0 0 1 0 0 0 1 0 0 0 0 0 0 1 0 1 0 0 1 1 0 0 1 0 1 0 0 0\n",
            "  1 0 1 0 0]]\n"
          ]
        }
      ],
      "source": [
        "#first_news เป็น array ของข่าว โดย row ที่ 1 = ข่าวที่ต้องการตรวจสอบจาก cofact, row ที่ 2 = ข้อความสรุปใน cofact, row ที่ 3 = หัวข้อข่าวที่เชื่อถือได้ , row ที่ 4 = เนื้อหาข่าว paragraph แรกของข่าวที่เชื่อถือได้\n",
        "first_news = c_feat[:,:].todense()\n",
        "print(first_news) "
      ]
    },
    {
      "cell_type": "code",
      "execution_count": 241,
      "metadata": {
        "colab": {
          "base_uri": "https://localhost:8080/"
        },
        "id": "CmA2BHcZucn3",
        "outputId": "0ef5f805-2fed-400a-fd08-848ea1e0c2c6"
      },
      "outputs": [
        {
          "data": {
            "text/plain": [
              "41"
            ]
          },
          "execution_count": 241,
          "metadata": {},
          "output_type": "execute_result"
        }
      ],
      "source": [
        "first_news.shape[1]"
      ]
    },
    {
      "cell_type": "code",
      "execution_count": 242,
      "metadata": {
        "colab": {
          "base_uri": "https://localhost:8080/"
        },
        "id": "PbcdynUGucn3",
        "outputId": "23da3bff-321d-4147-b860-261053684538"
      },
      "outputs": [
        {
          "name": "stdout",
          "output_type": "stream",
          "text": [
            "This is sum (upperpart) : 13\n",
            "This is lowerpart : 23.643180835073775\n"
          ]
        },
        {
          "data": {
            "text/plain": [
              "0.5498414147691577"
            ]
          },
          "execution_count": 242,
          "metadata": {},
          "output_type": "execute_result"
        }
      ],
      "source": [
        "find_cosine_similarity(first_news, 0, 1) #เทียบ ข้อความที่ต้องการตรวจสอบบน cofact กับ ข้อความสรุปใน cofact"
      ]
    },
    {
      "cell_type": "code",
      "execution_count": 243,
      "metadata": {
        "colab": {
          "base_uri": "https://localhost:8080/"
        },
        "id": "3cyhDyh1ucn3",
        "outputId": "0602fea1-9fa6-4c9b-d4dc-4e4992e5fd72"
      },
      "outputs": [
        {
          "name": "stdout",
          "output_type": "stream",
          "text": [
            "This is sum (upperpart) : 7\n",
            "This is lowerpart : 13.49073756323204\n"
          ]
        },
        {
          "data": {
            "text/plain": [
              "0.5188745216627709"
            ]
          },
          "execution_count": 243,
          "metadata": {},
          "output_type": "execute_result"
        }
      ],
      "source": [
        "find_cosine_similarity(first_news, 0, 2)#เทียบ ข้อความที่ต้องการตรวจสอบบน cofact กับ หัวข้อข่าวที่เชื่อถือได้"
      ]
    },
    {
      "cell_type": "code",
      "execution_count": 244,
      "metadata": {
        "colab": {
          "base_uri": "https://localhost:8080/"
        },
        "id": "IcFGTtOZucn3",
        "outputId": "7d00eba7-905c-479b-9d4a-35121c93d5e4"
      },
      "outputs": [
        {
          "name": "stdout",
          "output_type": "stream",
          "text": [
            "This is sum (upperpart) : 6\n",
            "This is lowerpart : 12.489995996796795\n"
          ]
        },
        {
          "data": {
            "text/plain": [
              "0.4803844614152615"
            ]
          },
          "execution_count": 244,
          "metadata": {},
          "output_type": "execute_result"
        }
      ],
      "source": [
        "find_cosine_similarity(first_news, 0, 3)#เทียบ ข้อความที่ต้องการตรวจสอบบน cofact กับ เนื้อหาข่าว paragraph แรกของข่าวที่เชื่อถือได้"
      ]
    },
    {
      "cell_type": "markdown",
      "metadata": {
        "id": "rs2PLkz-u65X"
      },
      "source": [
        "# ข่าวที่ 21"
      ]
    },
    {
      "cell_type": "code",
      "execution_count": 245,
      "metadata": {
        "id": "XDG6bXkbu65X"
      },
      "outputs": [],
      "source": [
        "clean_text = ['เห็นกันว่าพืชกระท่อมนั้นถูกเปลี่ยนให้ถูกกฎหมายแล้วนำมาต้มได้ส่วนผมสงสัยว่าแล้วถ้าเรานำมาต้มแล้วผสมกับยาแก้ไอแล้วจะผิดกฎหมายเปล่าครับ','ปัจจุบันพืชกระท่อมพ้นจากบัญชียาเสพติดประเภท 5 แล้ว และสามารถนำมาใช้ในวิถีชีวิตท้องถิ่น ทั้งการเคี้ยวใบ การปลูก การครอบครองและการขายใบสดที่ไม่ได้ปรุงหรือทำเป็นอาหารได้อย่างเสรีไม่ผิดกฎหมาย กำหนดให้อาหารที่ปรุงจากพืชกระท่อมเป็นอาหารที่ห้ามผลิต นำเข้าหรือจำหน่ายหรือแม้กระทั่งน้ำต้มกระท่อมที่ไม่ได้ผสมกับสิ่งใดเลยก็เป็นสิ่งที่ห้ามผลิตเพื่อจำหน่ายตามประกาศฉบับนี้ หากการฝ่าฝืน ผลิต และขายอาหาร ที่ พ.ร.บ.อาหาร ห้าม มีโทษตามมาตรา','ยังไม่ปลดล็อก! เตือน ‘ต้มน้ำท่อม-ทำอาหาร-ผสมสมุนไพร’ ยังผิดกฎหมาย','\"สมศักดิ์\" เตือนต้มน้ำท่อม-ทำอาหาร-ผสมสมุนไพร ยังผิดก.ม. แนะ สธ.ปลดล็อกกฎหมายแปรรูปกระท่อมผสมอาหาร-ทำผลิตภัณฑ์สมุนไพรจำหน่าย ชี้เป็นอุปสรรคการค้าวิถีชาวบ้าน']"
      ]
    },
    {
      "cell_type": "markdown",
      "metadata": {
        "id": "NoBheJkPu65Y"
      },
      "source": [
        "**Step 2: Tokenize**"
      ]
    },
    {
      "cell_type": "code",
      "execution_count": 246,
      "metadata": {
        "colab": {
          "base_uri": "https://localhost:8080/"
        },
        "id": "bCvHtkIsu65Y",
        "outputId": "610fcf87-c95c-4d04-9add-5a8939fc560a"
      },
      "outputs": [
        {
          "name": "stdout",
          "output_type": "stream",
          "text": [
            "tokenized text:\n",
            " ['พืช', 'กระท่อม', 'กฎหมาย', 'ต้ม', 'ผม', 'สงสัย', 'ต้ม', 'ผสม', 'ยา', 'แก้', 'ไอ', 'กฎหมาย', 'เปล่า']\n",
            "tokenized text:\n",
            " ['พืช', 'กระท่อม', 'พ้น', 'บัญชี', 'ยา', 'เสพ', 'ติด', 'ประเภท', 'วิถี', 'ชีวิต', 'ท้อง', 'ถิ่น', 'เคี้ยว', 'ใบ', 'ปลูก', 'ครอบ', 'ครอง', 'ขาย', 'ใบ', 'สด', 'ปรุง', 'ทำ', 'อาหาร', 'เสรี', 'กฎหมาย', 'อาหาร', 'ปรุง', 'พืช', 'กระท่อม', 'อาหาร', 'ห้าม', 'ผลิต', 'จำหน่าย', 'น้ำ', 'ต้ม', 'กระท่อม', 'ผสม', 'ใด', 'ห้าม', 'ผลิต', 'จำหน่าย', 'ประกาศ', 'ฉบับ', 'ฝ่าฝืน', 'ผลิต', 'ขาย', 'อาหาร', 'พ', 'ร', 'บ', 'อาหาร', 'ห้าม', 'โทษ', 'มาตรา']\n",
            "tokenized text:\n",
            " ['ปลด', 'ล็อก', 'เตือน', 'ต้ม', 'น้ำ', 'ท่อม', 'ทำ', 'อาหาร', 'ผสม', 'สมุนไพร', 'กฎหมาย']\n",
            "tokenized text:\n",
            " ['สม', 'ศักดิ์', 'เตือน', 'ต้ม', 'น้ำ', 'ท่อม', 'ทำ', 'อาหาร', 'ผสม', 'สมุนไพร', 'ผิดก', 'ม', 'แนะ', 'สธ', 'ปลด', 'ล็อก', 'กฎหมาย', 'แปรรูป', 'กระท่อม', 'ผสม', 'อาหาร', 'ทำ', 'ผลิตภัณฑ์', 'สมุนไพร', 'จำหน่าย', 'ชี้', 'อุปสรรค', 'ค้า', 'วิถี', 'บ้าน']\n"
          ]
        }
      ],
      "source": [
        "print('tokenized text:\\n',split_word(clean_text[0])) #ข้อความที่ต้องการตรวจสอบบน cofact\n",
        "print('tokenized text:\\n',split_word(clean_text[1])) #ข้อความสรุปใน cofact\n",
        "print('tokenized text:\\n',split_word(clean_text[2])) #หัวข่าวอ้างอิง\n",
        "print('tokenized text:\\n',split_word(clean_text[3])) #เนื้อหาข่าวอ้างอิง paragraph แรก"
      ]
    },
    {
      "cell_type": "code",
      "execution_count": 247,
      "metadata": {
        "id": "1_Dl4xjxu65Y"
      },
      "outputs": [],
      "source": [
        "tokens_list = [split_word(txt) for txt in clean_text]"
      ]
    },
    {
      "cell_type": "code",
      "execution_count": 248,
      "metadata": {
        "colab": {
          "base_uri": "https://localhost:8080/"
        },
        "id": "W2zEXk5Hu65Y",
        "outputId": "d8fdd1e3-6d28-4798-a040-3ada8f907841"
      },
      "outputs": [
        {
          "data": {
            "text/plain": [
              "[['พืช',\n",
              "  'กระท่อม',\n",
              "  'กฎหมาย',\n",
              "  'ต้ม',\n",
              "  'ผม',\n",
              "  'สงสัย',\n",
              "  'ต้ม',\n",
              "  'ผสม',\n",
              "  'ยา',\n",
              "  'แก้',\n",
              "  'ไอ',\n",
              "  'กฎหมาย',\n",
              "  'เปล่า'],\n",
              " ['พืช',\n",
              "  'กระท่อม',\n",
              "  'พ้น',\n",
              "  'บัญชี',\n",
              "  'ยา',\n",
              "  'เสพ',\n",
              "  'ติด',\n",
              "  'ประเภท',\n",
              "  'วิถี',\n",
              "  'ชีวิต',\n",
              "  'ท้อง',\n",
              "  'ถิ่น',\n",
              "  'เคี้ยว',\n",
              "  'ใบ',\n",
              "  'ปลูก',\n",
              "  'ครอบ',\n",
              "  'ครอง',\n",
              "  'ขาย',\n",
              "  'ใบ',\n",
              "  'สด',\n",
              "  'ปรุง',\n",
              "  'ทำ',\n",
              "  'อาหาร',\n",
              "  'เสรี',\n",
              "  'กฎหมาย',\n",
              "  'อาหาร',\n",
              "  'ปรุง',\n",
              "  'พืช',\n",
              "  'กระท่อม',\n",
              "  'อาหาร',\n",
              "  'ห้าม',\n",
              "  'ผลิต',\n",
              "  'จำหน่าย',\n",
              "  'น้ำ',\n",
              "  'ต้ม',\n",
              "  'กระท่อม',\n",
              "  'ผสม',\n",
              "  'ใด',\n",
              "  'ห้าม',\n",
              "  'ผลิต',\n",
              "  'จำหน่าย',\n",
              "  'ประกาศ',\n",
              "  'ฉบับ',\n",
              "  'ฝ่าฝืน',\n",
              "  'ผลิต',\n",
              "  'ขาย',\n",
              "  'อาหาร',\n",
              "  'พ',\n",
              "  'ร',\n",
              "  'บ',\n",
              "  'อาหาร',\n",
              "  'ห้าม',\n",
              "  'โทษ',\n",
              "  'มาตรา'],\n",
              " ['ปลด',\n",
              "  'ล็อก',\n",
              "  'เตือน',\n",
              "  'ต้ม',\n",
              "  'น้ำ',\n",
              "  'ท่อม',\n",
              "  'ทำ',\n",
              "  'อาหาร',\n",
              "  'ผสม',\n",
              "  'สมุนไพร',\n",
              "  'กฎหมาย'],\n",
              " ['สม',\n",
              "  'ศักดิ์',\n",
              "  'เตือน',\n",
              "  'ต้ม',\n",
              "  'น้ำ',\n",
              "  'ท่อม',\n",
              "  'ทำ',\n",
              "  'อาหาร',\n",
              "  'ผสม',\n",
              "  'สมุนไพร',\n",
              "  'ผิดก',\n",
              "  'ม',\n",
              "  'แนะ',\n",
              "  'สธ',\n",
              "  'ปลด',\n",
              "  'ล็อก',\n",
              "  'กฎหมาย',\n",
              "  'แปรรูป',\n",
              "  'กระท่อม',\n",
              "  'ผสม',\n",
              "  'อาหาร',\n",
              "  'ทำ',\n",
              "  'ผลิตภัณฑ์',\n",
              "  'สมุนไพร',\n",
              "  'จำหน่าย',\n",
              "  'ชี้',\n",
              "  'อุปสรรค',\n",
              "  'ค้า',\n",
              "  'วิถี',\n",
              "  'บ้าน']]"
            ]
          },
          "execution_count": 248,
          "metadata": {},
          "output_type": "execute_result"
        }
      ],
      "source": [
        "tokens_list"
      ]
    },
    {
      "cell_type": "markdown",
      "metadata": {
        "id": "eez83QuMu65Y"
      },
      "source": [
        "**Step 3 + 4a: Bag of words + count word**"
      ]
    },
    {
      "cell_type": "code",
      "execution_count": 249,
      "metadata": {
        "id": "TZ3beIquu65Y"
      },
      "outputs": [],
      "source": [
        "from sklearn.feature_extraction.text import CountVectorizer\n",
        "tokens_list_j = [','.join(tkn) for tkn in tokens_list]\n",
        "cvec = CountVectorizer(analyzer=lambda x:x.split(','))\n",
        "c_feat = cvec.fit_transform(tokens_list_j)"
      ]
    },
    {
      "cell_type": "code",
      "execution_count": 250,
      "metadata": {
        "colab": {
          "base_uri": "https://localhost:8080/"
        },
        "id": "yfs5XOMau65Z",
        "outputId": "8f9a2500-f93c-4c33-c744-e349f919bf4b"
      },
      "outputs": [
        {
          "data": {
            "text/plain": [
              "{'พืช': 32,\n",
              " 'กระท่อม': 1,\n",
              " 'กฎหมาย': 0,\n",
              " 'ต้ม': 11,\n",
              " 'ผม': 25,\n",
              " 'สงสัย': 41,\n",
              " 'ผสม': 28,\n",
              " 'ยา': 36,\n",
              " 'แก้': 54,\n",
              " 'ไอ': 60,\n",
              " 'เปล่า': 51,\n",
              " 'พ้น': 33,\n",
              " 'บัญชี': 18,\n",
              " 'เสพ': 52,\n",
              " 'ติด': 10,\n",
              " 'ประเภท': 21,\n",
              " 'วิถี': 39,\n",
              " 'ชีวิต': 8,\n",
              " 'ท้อง': 15,\n",
              " 'ถิ่น': 12,\n",
              " 'เคี้ยว': 49,\n",
              " 'ใบ': 59,\n",
              " 'ปลูก': 24,\n",
              " 'ครอบ': 4,\n",
              " 'ครอง': 3,\n",
              " 'ขาย': 2,\n",
              " 'สด': 42,\n",
              " 'ปรุง': 22,\n",
              " 'ทำ': 13,\n",
              " 'อาหาร': 47,\n",
              " 'เสรี': 53,\n",
              " 'ห้าม': 46,\n",
              " 'ผลิต': 26,\n",
              " 'จำหน่าย': 6,\n",
              " 'น้ำ': 16,\n",
              " 'ใด': 58,\n",
              " 'ประกาศ': 20,\n",
              " 'ฉบับ': 7,\n",
              " 'ฝ่าฝืน': 30,\n",
              " 'พ': 31,\n",
              " 'ร': 37,\n",
              " 'บ': 17,\n",
              " 'โทษ': 57,\n",
              " 'มาตรา': 35,\n",
              " 'ปลด': 23,\n",
              " 'ล็อก': 38,\n",
              " 'เตือน': 50,\n",
              " 'ท่อม': 14,\n",
              " 'สมุนไพร': 45,\n",
              " 'สม': 44,\n",
              " 'ศักดิ์': 40,\n",
              " 'ผิดก': 29,\n",
              " 'ม': 34,\n",
              " 'แนะ': 55,\n",
              " 'สธ': 43,\n",
              " 'แปรรูป': 56,\n",
              " 'ผลิตภัณฑ์': 27,\n",
              " 'ชี้': 9,\n",
              " 'อุปสรรค': 48,\n",
              " 'ค้า': 5,\n",
              " 'บ้าน': 19}"
            ]
          },
          "execution_count": 250,
          "metadata": {},
          "output_type": "execute_result"
        }
      ],
      "source": [
        "cvec.vocabulary_"
      ]
    },
    {
      "cell_type": "code",
      "execution_count": 251,
      "metadata": {
        "colab": {
          "base_uri": "https://localhost:8080/"
        },
        "id": "JXbfWf43u65Z",
        "outputId": "2d664ea3-4214-4a1c-9664-fad23a8373cc"
      },
      "outputs": [
        {
          "data": {
            "text/plain": [
              "matrix([[2, 1, 0, 0, 0, 0, 0, 0, 0, 0, 0, 2, 0, 0, 0, 0, 0, 0, 0, 0, 0,\n",
              "         0, 0, 0, 0, 1, 0, 0, 1, 0, 0, 0, 1, 0, 0, 0, 1, 0, 0, 0, 0, 1,\n",
              "         0, 0, 0, 0, 0, 0, 0, 0, 0, 1, 0, 0, 1, 0, 0, 0, 0, 0, 1],\n",
              "        [1, 3, 2, 1, 1, 0, 2, 1, 1, 0, 1, 1, 1, 1, 0, 1, 1, 1, 1, 0, 1,\n",
              "         1, 2, 0, 1, 0, 3, 0, 1, 0, 1, 1, 2, 1, 0, 1, 1, 1, 0, 1, 0, 0,\n",
              "         1, 0, 0, 0, 3, 5, 0, 1, 0, 0, 1, 1, 0, 0, 0, 1, 1, 2, 0],\n",
              "        [1, 0, 0, 0, 0, 0, 0, 0, 0, 0, 0, 1, 0, 1, 1, 0, 1, 0, 0, 0, 0,\n",
              "         0, 0, 1, 0, 0, 0, 0, 1, 0, 0, 0, 0, 0, 0, 0, 0, 0, 1, 0, 0, 0,\n",
              "         0, 0, 0, 1, 0, 1, 0, 0, 1, 0, 0, 0, 0, 0, 0, 0, 0, 0, 0],\n",
              "        [1, 1, 0, 0, 0, 1, 1, 0, 0, 1, 0, 1, 0, 2, 1, 0, 1, 0, 0, 1, 0,\n",
              "         0, 0, 1, 0, 0, 0, 1, 2, 1, 0, 0, 0, 0, 1, 0, 0, 0, 1, 1, 1, 0,\n",
              "         0, 1, 1, 2, 0, 2, 1, 0, 1, 0, 0, 0, 0, 1, 1, 0, 0, 0, 0]],\n",
              "       dtype=int64)"
            ]
          },
          "execution_count": 251,
          "metadata": {},
          "output_type": "execute_result"
        }
      ],
      "source": [
        "c_feat[:,:].todense()"
      ]
    },
    {
      "cell_type": "code",
      "execution_count": 252,
      "metadata": {
        "colab": {
          "base_uri": "https://localhost:8080/"
        },
        "id": "rBkByd1qu65Z",
        "outputId": "28332fd3-c099-4d2b-d9f5-e253c32dace8"
      },
      "outputs": [
        {
          "name": "stdout",
          "output_type": "stream",
          "text": [
            "[[2 1 0 0 0 0 0 0 0 0 0 2 0 0 0 0 0 0 0 0 0 0 0 0 0 1 0 0 1 0 0 0 1 0 0 0\n",
            "  1 0 0 0 0 1 0 0 0 0 0 0 0 0 0 1 0 0 1 0 0 0 0 0 1]\n",
            " [1 3 2 1 1 0 2 1 1 0 1 1 1 1 0 1 1 1 1 0 1 1 2 0 1 0 3 0 1 0 1 1 2 1 0 1\n",
            "  1 1 0 1 0 0 1 0 0 0 3 5 0 1 0 0 1 1 0 0 0 1 1 2 0]\n",
            " [1 0 0 0 0 0 0 0 0 0 0 1 0 1 1 0 1 0 0 0 0 0 0 1 0 0 0 0 1 0 0 0 0 0 0 0\n",
            "  0 0 1 0 0 0 0 0 0 1 0 1 0 0 1 0 0 0 0 0 0 0 0 0 0]\n",
            " [1 1 0 0 0 1 1 0 0 1 0 1 0 2 1 0 1 0 0 1 0 0 0 1 0 0 0 1 2 1 0 0 0 0 1 0\n",
            "  0 0 1 1 1 0 0 1 1 2 0 2 1 0 1 0 0 0 0 1 1 0 0 0 0]]\n"
          ]
        }
      ],
      "source": [
        "#first_news เป็น array ของข่าว โดย row ที่ 1 = ข่าวที่ต้องการตรวจสอบจาก cofact, row ที่ 2 = ข้อความสรุปใน cofact, row ที่ 3 = หัวข้อข่าวที่เชื่อถือได้ , row ที่ 4 = เนื้อหาข่าว paragraph แรกของข่าวที่เชื่อถือได้\n",
        "first_news = c_feat[:,:].todense()\n",
        "print(first_news) "
      ]
    },
    {
      "cell_type": "code",
      "execution_count": 253,
      "metadata": {
        "colab": {
          "base_uri": "https://localhost:8080/"
        },
        "id": "onyS59OIu65Z",
        "outputId": "296ef19e-79e7-4f77-899c-f3e016d0983a"
      },
      "outputs": [
        {
          "data": {
            "text/plain": [
              "61"
            ]
          },
          "execution_count": 253,
          "metadata": {},
          "output_type": "execute_result"
        }
      ],
      "source": [
        "first_news.shape[1]"
      ]
    },
    {
      "cell_type": "code",
      "execution_count": 254,
      "metadata": {
        "colab": {
          "base_uri": "https://localhost:8080/"
        },
        "id": "82dzuTJfu65Z",
        "outputId": "28d9f0b0-181b-4e6d-d76f-e811625f8fd1"
      },
      "outputs": [
        {
          "name": "stdout",
          "output_type": "stream",
          "text": [
            "This is sum (upperpart) : 11\n",
            "This is lowerpart : 41.641325627314025\n"
          ]
        },
        {
          "data": {
            "text/plain": [
              "0.2641606585354408"
            ]
          },
          "execution_count": 254,
          "metadata": {},
          "output_type": "execute_result"
        }
      ],
      "source": [
        "find_cosine_similarity(first_news, 0, 1) #เทียบ ข้อความที่ต้องการตรวจสอบบน cofact กับ ข้อความสรุปใน cofact"
      ]
    },
    {
      "cell_type": "code",
      "execution_count": 255,
      "metadata": {
        "colab": {
          "base_uri": "https://localhost:8080/"
        },
        "id": "oUsFeehWu65Z",
        "outputId": "34e9aaa8-16b3-40fe-a00a-513a25971e6f"
      },
      "outputs": [
        {
          "name": "stdout",
          "output_type": "stream",
          "text": [
            "This is sum (upperpart) : 5\n",
            "This is lowerpart : 13.674794331177344\n"
          ]
        },
        {
          "data": {
            "text/plain": [
              "0.36563621206356534"
            ]
          },
          "execution_count": 255,
          "metadata": {},
          "output_type": "execute_result"
        }
      ],
      "source": [
        "find_cosine_similarity(first_news, 0, 2)#เทียบ ข้อความที่ต้องการตรวจสอบบน cofact กับ หัวข้อข่าวที่เชื่อถือได้"
      ]
    },
    {
      "cell_type": "code",
      "execution_count": 256,
      "metadata": {
        "colab": {
          "base_uri": "https://localhost:8080/"
        },
        "id": "oaDxomQku65a",
        "outputId": "66ebb662-facd-4393-b58c-23009c62aa0a"
      },
      "outputs": [
        {
          "name": "stdout",
          "output_type": "stream",
          "text": [
            "This is sum (upperpart) : 7\n",
            "This is lowerpart : 25.41653005427767\n"
          ]
        },
        {
          "data": {
            "text/plain": [
              "0.2754113163776218"
            ]
          },
          "execution_count": 256,
          "metadata": {},
          "output_type": "execute_result"
        }
      ],
      "source": [
        "find_cosine_similarity(first_news, 0, 3)#เทียบ ข้อความที่ต้องการตรวจสอบบน cofact กับ เนื้อหาข่าว paragraph แรกของข่าวที่เชื่อถือได้"
      ]
    },
    {
      "cell_type": "markdown",
      "metadata": {
        "id": "aj9oYNM6viq1"
      },
      "source": [
        "# ข่าวที่ 22"
      ]
    },
    {
      "cell_type": "code",
      "execution_count": 257,
      "metadata": {
        "id": "SE9OVJXnviq1"
      },
      "outputs": [],
      "source": [
        "clean_text = ['กินไข่ต้ม สามารถช่วยเรื่องการลลดน้ำหนักได้ โดยผลการวิจัยจากศูนย์ Rochester Centre for Obesity in America และมหาวิทยาลัยลุยเซียนา ในประเทศสหรัฐอเมริกา ที่ได้ออกมาทำการวิจัยพร้อมเผยว่า กินไข่เป็นอาหารเช้าสามารถช่วย จำกัด ปริมาณแคลอรี่ของคุณตลอดทั้งวัน ได้มากกว่า 400 กิโลแคลอรี','รับประทานอาหารเช้าที่มีไข่เป็นส่วนประกอบ หรืออาหารเช้าแบบเบเกิล ซึ่งมี กิโลแคลอรี ในปริมาณเท่ากันและระดับโปรตีนเกือบเท่ากัน นักวิจัยได้บันทึกพฤติกรรมการกินของผู้หญิงและพบว่าก่อนอาหารกลางวันผู้หญิงที่กินไข่เป็นอาหารเช้ารู้สึกหิวน้อยลง','\"ไข่ต้ม\"ทานแล้ว ช่วยลดน้ำหนักได้ มีผลวิจัย','เรื่องสุขภาพถือเป็นเรื่องสำคัญที่มองข้ามไม่ได้ หลายคนมองหาวิธีลดความอ้วน ผลการวิจัยในประเทศสหรัฐอเมริกาออกมาเผยว่า กินไข่เป็นอาหารเช้าสามารถช่วย จำกัด ปริมาณแคลอรี่ของคุณตลอดทั้งวันได้']"
      ]
    },
    {
      "cell_type": "markdown",
      "metadata": {
        "id": "GzvuNXB2viq1"
      },
      "source": [
        "**Step 2: Tokenize**"
      ]
    },
    {
      "cell_type": "code",
      "execution_count": 258,
      "metadata": {
        "colab": {
          "base_uri": "https://localhost:8080/"
        },
        "id": "mS03Tg4aviq1",
        "outputId": "0ce714bb-9d2c-4e37-f13f-8bf07133fd58"
      },
      "outputs": [
        {
          "name": "stdout",
          "output_type": "stream",
          "text": [
            "tokenized text:\n",
            " ['กิน', 'ไข่', 'ต้ม', 'เรื่อ', 'งการล', 'ลด', 'น้ำ', 'หนัก', 'วิจัย', 'ศูนย์', 'Rochester', 'Centre', 'for', 'Obesity', 'in', 'America', 'มหาวิทยาลัย', 'ลุยเซียนา', 'ประเทศ', 'สหรัฐอเมริกา', 'ทำการ', 'วิจัย', 'เผย', 'กิน', 'ไข่', 'อาหาร', 'เช้า', 'จำกัด', 'ปริ', 'มาณ', 'แคลอรี่', 'กิโล', 'แคลอรี']\n",
            "tokenized text:\n",
            " ['ประทาน', 'อาหาร', 'เช้า', 'ไข่', 'อาหาร', 'เช้า', 'เบ', 'เกิล', 'กิโล', 'แคลอรี', 'ปริมาณ', 'ระดับ', 'โปรตีน', 'วิจัย', 'บันทึก', 'พฤติกรรม', 'กิน', 'หญิง', 'อาหาร', 'กลาง', 'หญิง', 'กิน', 'ไข่', 'อาหาร', 'เช้า', 'รู้สึก', 'หิว']\n",
            "tokenized text:\n",
            " ['ไข่', 'ต้ม', 'ทาน', 'ลด', 'น้ำ', 'หนัก', 'วิจัย']\n",
            "tokenized text:\n",
            " ['เรื่อง', 'สุขภาพ', 'เรื่อง', 'ข้าม', 'คน', 'หา', 'วิธี', 'ลด', 'อ้วน', 'วิจัย', 'ประเทศ', 'สหรัฐอเมริกา', 'เผย', 'กิน', 'ไข่', 'อาหาร', 'เช้า', 'จำกัด', 'ปริ', 'มาณ', 'แคลอรี่']\n"
          ]
        }
      ],
      "source": [
        "print('tokenized text:\\n',split_word(clean_text[0])) #ข้อความที่ต้องการตรวจสอบบน cofact\n",
        "print('tokenized text:\\n',split_word(clean_text[1])) #ข้อความสรุปใน cofact\n",
        "print('tokenized text:\\n',split_word(clean_text[2])) #หัวข่าวอ้างอิง\n",
        "print('tokenized text:\\n',split_word(clean_text[3])) #เนื้อหาข่าวอ้างอิง paragraph แรก"
      ]
    },
    {
      "cell_type": "code",
      "execution_count": 259,
      "metadata": {
        "id": "jB3b9LeWviq1"
      },
      "outputs": [],
      "source": [
        "tokens_list = [split_word(txt) for txt in clean_text]"
      ]
    },
    {
      "cell_type": "code",
      "execution_count": 260,
      "metadata": {
        "colab": {
          "base_uri": "https://localhost:8080/"
        },
        "id": "OfjpSBRlviq2",
        "outputId": "6f38a326-9e52-45aa-9ebd-526a44403c68"
      },
      "outputs": [
        {
          "data": {
            "text/plain": [
              "[['กิน',\n",
              "  'ไข่',\n",
              "  'ต้ม',\n",
              "  'เรื่อ',\n",
              "  'งการล',\n",
              "  'ลด',\n",
              "  'น้ำ',\n",
              "  'หนัก',\n",
              "  'วิจัย',\n",
              "  'ศูนย์',\n",
              "  'Rochester',\n",
              "  'Centre',\n",
              "  'for',\n",
              "  'Obesity',\n",
              "  'in',\n",
              "  'America',\n",
              "  'มหาวิทยาลัย',\n",
              "  'ลุยเซียนา',\n",
              "  'ประเทศ',\n",
              "  'สหรัฐอเมริกา',\n",
              "  'ทำการ',\n",
              "  'วิจัย',\n",
              "  'เผย',\n",
              "  'กิน',\n",
              "  'ไข่',\n",
              "  'อาหาร',\n",
              "  'เช้า',\n",
              "  'จำกัด',\n",
              "  'ปริ',\n",
              "  'มาณ',\n",
              "  'แคลอรี่',\n",
              "  'กิโล',\n",
              "  'แคลอรี'],\n",
              " ['ประทาน',\n",
              "  'อาหาร',\n",
              "  'เช้า',\n",
              "  'ไข่',\n",
              "  'อาหาร',\n",
              "  'เช้า',\n",
              "  'เบ',\n",
              "  'เกิล',\n",
              "  'กิโล',\n",
              "  'แคลอรี',\n",
              "  'ปริมาณ',\n",
              "  'ระดับ',\n",
              "  'โปรตีน',\n",
              "  'วิจัย',\n",
              "  'บันทึก',\n",
              "  'พฤติกรรม',\n",
              "  'กิน',\n",
              "  'หญิง',\n",
              "  'อาหาร',\n",
              "  'กลาง',\n",
              "  'หญิง',\n",
              "  'กิน',\n",
              "  'ไข่',\n",
              "  'อาหาร',\n",
              "  'เช้า',\n",
              "  'รู้สึก',\n",
              "  'หิว'],\n",
              " ['ไข่', 'ต้ม', 'ทาน', 'ลด', 'น้ำ', 'หนัก', 'วิจัย'],\n",
              " ['เรื่อง',\n",
              "  'สุขภาพ',\n",
              "  'เรื่อง',\n",
              "  'ข้าม',\n",
              "  'คน',\n",
              "  'หา',\n",
              "  'วิธี',\n",
              "  'ลด',\n",
              "  'อ้วน',\n",
              "  'วิจัย',\n",
              "  'ประเทศ',\n",
              "  'สหรัฐอเมริกา',\n",
              "  'เผย',\n",
              "  'กิน',\n",
              "  'ไข่',\n",
              "  'อาหาร',\n",
              "  'เช้า',\n",
              "  'จำกัด',\n",
              "  'ปริ',\n",
              "  'มาณ',\n",
              "  'แคลอรี่']]"
            ]
          },
          "execution_count": 260,
          "metadata": {},
          "output_type": "execute_result"
        }
      ],
      "source": [
        "tokens_list"
      ]
    },
    {
      "cell_type": "markdown",
      "metadata": {
        "id": "PzaB5CWnviq2"
      },
      "source": [
        "**Step 3 + 4a: Bag of words + count word**"
      ]
    },
    {
      "cell_type": "code",
      "execution_count": 261,
      "metadata": {
        "id": "s36XE7VZviq2"
      },
      "outputs": [],
      "source": [
        "from sklearn.feature_extraction.text import CountVectorizer\n",
        "tokens_list_j = [','.join(tkn) for tkn in tokens_list]\n",
        "cvec = CountVectorizer(analyzer=lambda x:x.split(','))\n",
        "c_feat = cvec.fit_transform(tokens_list_j)"
      ]
    },
    {
      "cell_type": "code",
      "execution_count": 262,
      "metadata": {
        "colab": {
          "base_uri": "https://localhost:8080/"
        },
        "id": "cNxv-UwHviq2",
        "outputId": "7372fd6c-aad7-49bd-b9bc-f50ef48f53e3"
      },
      "outputs": [
        {
          "data": {
            "text/plain": [
              "{'กิน': 7,\n",
              " 'ไข่': 49,\n",
              " 'ต้ม': 13,\n",
              " 'เรื่อ': 44,\n",
              " 'งการล': 11,\n",
              " 'ลด': 27,\n",
              " 'น้ำ': 16,\n",
              " 'หนัก': 35,\n",
              " 'วิจัย': 29,\n",
              " 'ศูนย์': 31,\n",
              " 'Rochester': 3,\n",
              " 'Centre': 1,\n",
              " 'for': 4,\n",
              " 'Obesity': 2,\n",
              " 'in': 5,\n",
              " 'America': 0,\n",
              " 'มหาวิทยาลัย': 23,\n",
              " 'ลุยเซียนา': 28,\n",
              " 'ประเทศ': 19,\n",
              " 'สหรัฐอเมริกา': 32,\n",
              " 'ทำการ': 15,\n",
              " 'เผย': 43,\n",
              " 'อาหาร': 38,\n",
              " 'เช้า': 41,\n",
              " 'จำกัด': 12,\n",
              " 'ปริ': 20,\n",
              " 'มาณ': 24,\n",
              " 'แคลอรี่': 47,\n",
              " 'กิโล': 8,\n",
              " 'แคลอรี': 46,\n",
              " 'ประทาน': 18,\n",
              " 'เบ': 42,\n",
              " 'เกิล': 40,\n",
              " 'ปริมาณ': 21,\n",
              " 'ระดับ': 25,\n",
              " 'โปรตีน': 48,\n",
              " 'บันทึก': 17,\n",
              " 'พฤติกรรม': 22,\n",
              " 'หญิง': 34,\n",
              " 'กลาง': 6,\n",
              " 'รู้สึก': 26,\n",
              " 'หิว': 37,\n",
              " 'ทาน': 14,\n",
              " 'เรื่อง': 45,\n",
              " 'สุขภาพ': 33,\n",
              " 'ข้าม': 9,\n",
              " 'คน': 10,\n",
              " 'หา': 36,\n",
              " 'วิธี': 30,\n",
              " 'อ้วน': 39}"
            ]
          },
          "execution_count": 262,
          "metadata": {},
          "output_type": "execute_result"
        }
      ],
      "source": [
        "cvec.vocabulary_"
      ]
    },
    {
      "cell_type": "code",
      "execution_count": 263,
      "metadata": {
        "colab": {
          "base_uri": "https://localhost:8080/"
        },
        "id": "-6icyT3_viq3",
        "outputId": "af04bd83-e6fc-4eb0-835e-09f4537844df"
      },
      "outputs": [
        {
          "data": {
            "text/plain": [
              "matrix([[1, 1, 1, 1, 1, 1, 0, 2, 1, 0, 0, 1, 1, 1, 0, 1, 1, 0, 0, 1, 1,\n",
              "         0, 0, 1, 1, 0, 0, 1, 1, 2, 0, 1, 1, 0, 0, 1, 0, 0, 1, 0, 0, 1,\n",
              "         0, 1, 1, 0, 1, 1, 0, 2],\n",
              "        [0, 0, 0, 0, 0, 0, 1, 2, 1, 0, 0, 0, 0, 0, 0, 0, 0, 1, 1, 0, 0,\n",
              "         1, 1, 0, 0, 1, 1, 0, 0, 1, 0, 0, 0, 0, 2, 0, 0, 1, 4, 0, 1, 3,\n",
              "         1, 0, 0, 0, 1, 0, 1, 2],\n",
              "        [0, 0, 0, 0, 0, 0, 0, 0, 0, 0, 0, 0, 0, 1, 1, 0, 1, 0, 0, 0, 0,\n",
              "         0, 0, 0, 0, 0, 0, 1, 0, 1, 0, 0, 0, 0, 0, 1, 0, 0, 0, 0, 0, 0,\n",
              "         0, 0, 0, 0, 0, 0, 0, 1],\n",
              "        [0, 0, 0, 0, 0, 0, 0, 1, 0, 1, 1, 0, 1, 0, 0, 0, 0, 0, 0, 1, 1,\n",
              "         0, 0, 0, 1, 0, 0, 1, 0, 1, 1, 0, 1, 1, 0, 0, 1, 0, 1, 1, 0, 1,\n",
              "         0, 1, 0, 2, 0, 1, 0, 1]], dtype=int64)"
            ]
          },
          "execution_count": 263,
          "metadata": {},
          "output_type": "execute_result"
        }
      ],
      "source": [
        "c_feat[:,:].todense()"
      ]
    },
    {
      "cell_type": "code",
      "execution_count": 264,
      "metadata": {
        "colab": {
          "base_uri": "https://localhost:8080/"
        },
        "id": "dEmpAyPrviq3",
        "outputId": "b943e9c8-1d15-43d8-bdec-1fb81ef195eb"
      },
      "outputs": [
        {
          "name": "stdout",
          "output_type": "stream",
          "text": [
            "[[1 1 1 1 1 1 0 2 1 0 0 1 1 1 0 1 1 0 0 1 1 0 0 1 1 0 0 1 1 2 0 1 1 0 0 1\n",
            "  0 0 1 0 0 1 0 1 1 0 1 1 0 2]\n",
            " [0 0 0 0 0 0 1 2 1 0 0 0 0 0 0 0 0 1 1 0 0 1 1 0 0 1 1 0 0 1 0 0 0 0 2 0\n",
            "  0 1 4 0 1 3 1 0 0 0 1 0 1 2]\n",
            " [0 0 0 0 0 0 0 0 0 0 0 0 0 1 1 0 1 0 0 0 0 0 0 0 0 0 0 1 0 1 0 0 0 0 0 1\n",
            "  0 0 0 0 0 0 0 0 0 0 0 0 0 1]\n",
            " [0 0 0 0 0 0 0 1 0 1 1 0 1 0 0 0 0 0 0 1 1 0 0 0 1 0 0 1 0 1 1 0 1 1 0 0\n",
            "  1 0 1 1 0 1 0 1 0 2 0 1 0 1]]\n"
          ]
        }
      ],
      "source": [
        "#first_news เป็น array ของข่าว โดย row ที่ 1 = ข่าวที่ต้องการตรวจสอบจาก cofact, row ที่ 2 = ข้อความสรุปใน cofact, row ที่ 3 = หัวข้อข่าวที่เชื่อถือได้ , row ที่ 4 = เนื้อหาข่าว paragraph แรกของข่าวที่เชื่อถือได้\n",
        "first_news = c_feat[:,:].todense()\n",
        "print(first_news) "
      ]
    },
    {
      "cell_type": "code",
      "execution_count": 265,
      "metadata": {
        "colab": {
          "base_uri": "https://localhost:8080/"
        },
        "id": "LM7BbgMeviq3",
        "outputId": "9b7a4032-0543-452c-a358-3ec3fd0efedd"
      },
      "outputs": [
        {
          "data": {
            "text/plain": [
              "50"
            ]
          },
          "execution_count": 265,
          "metadata": {},
          "output_type": "execute_result"
        }
      ],
      "source": [
        "first_news.shape[1]"
      ]
    },
    {
      "cell_type": "code",
      "execution_count": 266,
      "metadata": {
        "colab": {
          "base_uri": "https://localhost:8080/"
        },
        "id": "VcS8KF1Dviq3",
        "outputId": "1e3f5a4d-a015-4132-cbf7-d3a1572b185c"
      },
      "outputs": [
        {
          "name": "stdout",
          "output_type": "stream",
          "text": [
            "This is sum (upperpart) : 19\n",
            "This is lowerpart : 44.59820624195552\n"
          ]
        },
        {
          "data": {
            "text/plain": [
              "0.4260261028643312"
            ]
          },
          "execution_count": 266,
          "metadata": {},
          "output_type": "execute_result"
        }
      ],
      "source": [
        "find_cosine_similarity(first_news, 0, 1) #เทียบ ข้อความที่ต้องการตรวจสอบบน cofact กับ ข้อความสรุปใน cofact"
      ]
    },
    {
      "cell_type": "code",
      "execution_count": 267,
      "metadata": {
        "colab": {
          "base_uri": "https://localhost:8080/"
        },
        "id": "pM_k5VTdviq3",
        "outputId": "9d1bbc7b-8a5c-4529-c244-471270fd3600"
      },
      "outputs": [
        {
          "name": "stdout",
          "output_type": "stream",
          "text": [
            "This is sum (upperpart) : 8\n",
            "This is lowerpart : 16.522711641858308\n"
          ]
        },
        {
          "data": {
            "text/plain": [
              "0.48418202613504185"
            ]
          },
          "execution_count": 267,
          "metadata": {},
          "output_type": "execute_result"
        }
      ],
      "source": [
        "find_cosine_similarity(first_news, 0, 2)#เทียบ ข้อความที่ต้องการตรวจสอบบน cofact กับ หัวข้อข่าวที่เชื่อถือได้"
      ]
    },
    {
      "cell_type": "code",
      "execution_count": 268,
      "metadata": {
        "colab": {
          "base_uri": "https://localhost:8080/"
        },
        "id": "0KdZlSqAviq3",
        "outputId": "31b6e774-51ad-4526-9601-c5ed000ebc5a"
      },
      "outputs": [
        {
          "name": "stdout",
          "output_type": "stream",
          "text": [
            "This is sum (upperpart) : 16\n",
            "This is lowerpart : 29.949958263743873\n"
          ]
        },
        {
          "data": {
            "text/plain": [
              "0.5342244506353423"
            ]
          },
          "execution_count": 268,
          "metadata": {},
          "output_type": "execute_result"
        }
      ],
      "source": [
        "find_cosine_similarity(first_news, 0, 3)#เทียบ ข้อความที่ต้องการตรวจสอบบน cofact กับ เนื้อหาข่าว paragraph แรกของข่าวที่เชื่อถือได้"
      ]
    },
    {
      "cell_type": "markdown",
      "metadata": {
        "id": "k75a5vQpwGjj"
      },
      "source": [
        "# ข่าวที่ 23"
      ]
    },
    {
      "cell_type": "code",
      "execution_count": 269,
      "metadata": {
        "id": "mqYBJNuYwGjk"
      },
      "outputs": [],
      "source": [
        "clean_text = ['คณะรัฐมนตรี อนุมัติหลักการให้บริษัทหรือห้างหุ้นส่วนนิติบุคคลนำรายจ่ายค่าซื้อชุดตรวจโควิด-19 แบบเร่งด่วน (Antigen Test Kit) สำหรับพนักงานหรือลูกจ้าง มาหักเป็นรายจ่ายได้ 1.5 เท่า มีผลจนถึง 31 มีนาคม 2565 เพื่อให้ผู้ประกอบการจัดหาชุดตรวจ ATK ให้พนักงานหรือลูกจ้างใช้ตรวจหาเชื้อโควิด-19 ตามมาตรการที่กระทรวงสาธารณสุขกำหนด','ครม.ไฟเขียว สรรพากรออกมาตรการภาษีเพื่อสนับสนุนรายจ่ายค่าชื้อชุดตรวจโควิด ให้บริษัทหรือห้างหุ้นส่วนนิติบุคคล หักรายจ่ายได้ 1.5 เท่า กรณีซื้อชุดตรวจ ATK ตรวจโควิดพนักงาน ถึง 31 มี.ค. 65','สรรพากรให้บริษัทซื้อชุดตรวจ ATK หักรายจ่ายได้ 1.5 เท่า','ครม.ไฟเขียว สรรพากรออกมาตรการภาษีเพื่อสนับสนุนรายจ่ายค่าชื้อชุดตรวจโควิด ให้บริษัทหรือห้างหุ้นส่วนนิติบุคคล หักรายจ่ายได้ 1.5 เท่า กรณีซื้อชุดตรวจ ATK ตรวจโควิดพนักงาน ถึง 31 มี.ค. 65']"
      ]
    },
    {
      "cell_type": "markdown",
      "metadata": {
        "id": "lyW8JPSjwGjk"
      },
      "source": [
        "**Step 2: Tokenize**"
      ]
    },
    {
      "cell_type": "code",
      "execution_count": 270,
      "metadata": {
        "colab": {
          "base_uri": "https://localhost:8080/"
        },
        "id": "k5eSkk2TwGjk",
        "outputId": "25d50aa9-66f7-49d4-d2fe-71f0d7ee0fc4"
      },
      "outputs": [
        {
          "name": "stdout",
          "output_type": "stream",
          "text": [
            "tokenized text:\n",
            " ['คณะ', 'รัฐมนตรี', 'อนุมัติ', 'หลัก', 'บริษัท', 'ห้าง', 'หุ้น', 'นิติบุคคล', 'จ่าย', 'ค่า', 'ซื้อ', 'ชุด', 'ตรวจ', 'โค', 'วิด', 'เร่ง', 'ด่วน', 'Antigen', 'Test', 'Kit', 'สำหรับ', 'พนักงาน', 'ลูกจ้าง', 'หัก', 'จ่าย', '1.5', 'มีนาคม', 'ชุด', 'ตรวจ', 'ATK', 'พนักงาน', 'ลูกจ้าง', 'ตรวจ', 'หา', 'เชื้อ', 'โค', 'วิด', 'มาตรการ', 'กระทรวง', 'สาธารณสุข']\n",
            "tokenized text:\n",
            " ['ครม', 'ไฟ', 'เขียว', 'สรรพากร', 'มาตรการ', 'ภาษี', 'สนับสนุน', 'จ่าย', 'ค่า', 'ชื้อ', 'ชุด', 'ตรวจ', 'โค', 'วิด', 'บริษัท', 'ห้าง', 'หุ้น', 'นิติบุคคล', 'หัก', 'จ่าย', '1.5', 'กรณี', 'ซื้อ', 'ชุด', 'ตรวจ', 'ATK', 'ตรวจ', 'โค', 'วิด', 'พนักงาน', 'ค']\n",
            "tokenized text:\n",
            " ['สรรพากร', 'บริษัท', 'ซื้อ', 'ชุด', 'ตรวจ', 'ATK', 'หัก', 'จ่าย', '1.5']\n",
            "tokenized text:\n",
            " ['ครม', 'ไฟ', 'เขียว', 'สรรพากร', 'มาตรการ', 'ภาษี', 'สนับสนุน', 'จ่าย', 'ค่า', 'ชื้อ', 'ชุด', 'ตรวจ', 'โค', 'วิด', 'บริษัท', 'ห้าง', 'หุ้น', 'นิติบุคคล', 'หัก', 'จ่าย', '1.5', 'กรณี', 'ซื้อ', 'ชุด', 'ตรวจ', 'ATK', 'ตรวจ', 'โค', 'วิด', 'พนักงาน', 'ค']\n"
          ]
        }
      ],
      "source": [
        "print('tokenized text:\\n',split_word(clean_text[0])) #ข้อความที่ต้องการตรวจสอบบน cofact\n",
        "print('tokenized text:\\n',split_word(clean_text[1])) #ข้อความสรุปใน cofact\n",
        "print('tokenized text:\\n',split_word(clean_text[2])) #หัวข่าวอ้างอิง\n",
        "print('tokenized text:\\n',split_word(clean_text[3])) #เนื้อหาข่าวอ้างอิง paragraph แรก"
      ]
    },
    {
      "cell_type": "code",
      "execution_count": 271,
      "metadata": {
        "id": "kL3Ps5XXwGjk"
      },
      "outputs": [],
      "source": [
        "tokens_list = [split_word(txt) for txt in clean_text]"
      ]
    },
    {
      "cell_type": "code",
      "execution_count": 272,
      "metadata": {
        "colab": {
          "base_uri": "https://localhost:8080/"
        },
        "id": "ogIiVhAAwGjk",
        "outputId": "46f305da-fe2c-4cd2-ff2b-7523fbd45dc1"
      },
      "outputs": [
        {
          "data": {
            "text/plain": [
              "[['คณะ',\n",
              "  'รัฐมนตรี',\n",
              "  'อนุมัติ',\n",
              "  'หลัก',\n",
              "  'บริษัท',\n",
              "  'ห้าง',\n",
              "  'หุ้น',\n",
              "  'นิติบุคคล',\n",
              "  'จ่าย',\n",
              "  'ค่า',\n",
              "  'ซื้อ',\n",
              "  'ชุด',\n",
              "  'ตรวจ',\n",
              "  'โค',\n",
              "  'วิด',\n",
              "  'เร่ง',\n",
              "  'ด่วน',\n",
              "  'Antigen',\n",
              "  'Test',\n",
              "  'Kit',\n",
              "  'สำหรับ',\n",
              "  'พนักงาน',\n",
              "  'ลูกจ้าง',\n",
              "  'หัก',\n",
              "  'จ่าย',\n",
              "  '1.5',\n",
              "  'มีนาคม',\n",
              "  'ชุด',\n",
              "  'ตรวจ',\n",
              "  'ATK',\n",
              "  'พนักงาน',\n",
              "  'ลูกจ้าง',\n",
              "  'ตรวจ',\n",
              "  'หา',\n",
              "  'เชื้อ',\n",
              "  'โค',\n",
              "  'วิด',\n",
              "  'มาตรการ',\n",
              "  'กระทรวง',\n",
              "  'สาธารณสุข'],\n",
              " ['ครม',\n",
              "  'ไฟ',\n",
              "  'เขียว',\n",
              "  'สรรพากร',\n",
              "  'มาตรการ',\n",
              "  'ภาษี',\n",
              "  'สนับสนุน',\n",
              "  'จ่าย',\n",
              "  'ค่า',\n",
              "  'ชื้อ',\n",
              "  'ชุด',\n",
              "  'ตรวจ',\n",
              "  'โค',\n",
              "  'วิด',\n",
              "  'บริษัท',\n",
              "  'ห้าง',\n",
              "  'หุ้น',\n",
              "  'นิติบุคคล',\n",
              "  'หัก',\n",
              "  'จ่าย',\n",
              "  '1.5',\n",
              "  'กรณี',\n",
              "  'ซื้อ',\n",
              "  'ชุด',\n",
              "  'ตรวจ',\n",
              "  'ATK',\n",
              "  'ตรวจ',\n",
              "  'โค',\n",
              "  'วิด',\n",
              "  'พนักงาน',\n",
              "  'ค'],\n",
              " ['สรรพากร', 'บริษัท', 'ซื้อ', 'ชุด', 'ตรวจ', 'ATK', 'หัก', 'จ่าย', '1.5'],\n",
              " ['ครม',\n",
              "  'ไฟ',\n",
              "  'เขียว',\n",
              "  'สรรพากร',\n",
              "  'มาตรการ',\n",
              "  'ภาษี',\n",
              "  'สนับสนุน',\n",
              "  'จ่าย',\n",
              "  'ค่า',\n",
              "  'ชื้อ',\n",
              "  'ชุด',\n",
              "  'ตรวจ',\n",
              "  'โค',\n",
              "  'วิด',\n",
              "  'บริษัท',\n",
              "  'ห้าง',\n",
              "  'หุ้น',\n",
              "  'นิติบุคคล',\n",
              "  'หัก',\n",
              "  'จ่าย',\n",
              "  '1.5',\n",
              "  'กรณี',\n",
              "  'ซื้อ',\n",
              "  'ชุด',\n",
              "  'ตรวจ',\n",
              "  'ATK',\n",
              "  'ตรวจ',\n",
              "  'โค',\n",
              "  'วิด',\n",
              "  'พนักงาน',\n",
              "  'ค']]"
            ]
          },
          "execution_count": 272,
          "metadata": {},
          "output_type": "execute_result"
        }
      ],
      "source": [
        "tokens_list"
      ]
    },
    {
      "cell_type": "markdown",
      "metadata": {
        "id": "7_uQL1fOwGjl"
      },
      "source": [
        "**Step 3 + 4a: Bag of words + count word**"
      ]
    },
    {
      "cell_type": "code",
      "execution_count": 273,
      "metadata": {
        "id": "nRjGaVwmwGjl"
      },
      "outputs": [],
      "source": [
        "from sklearn.feature_extraction.text import CountVectorizer\n",
        "tokens_list_j = [','.join(tkn) for tkn in tokens_list]\n",
        "cvec = CountVectorizer(analyzer=lambda x:x.split(','))\n",
        "c_feat = cvec.fit_transform(tokens_list_j)"
      ]
    },
    {
      "cell_type": "code",
      "execution_count": 274,
      "metadata": {
        "colab": {
          "base_uri": "https://localhost:8080/"
        },
        "id": "ETJ52IxNwGjl",
        "outputId": "8837cf65-bfe6-4bbe-f327-55b2f3a5c6ae"
      },
      "outputs": [
        {
          "data": {
            "text/plain": [
              "{'คณะ': 8,\n",
              " 'รัฐมนตรี': 23,\n",
              " 'อนุมัติ': 35,\n",
              " 'หลัก': 30,\n",
              " 'บริษัท': 18,\n",
              " 'ห้าง': 34,\n",
              " 'หุ้น': 33,\n",
              " 'นิติบุคคล': 17,\n",
              " 'จ่าย': 11,\n",
              " 'ค่า': 10,\n",
              " 'ซื้อ': 14,\n",
              " 'ชุด': 13,\n",
              " 'ตรวจ': 16,\n",
              " 'โค': 39,\n",
              " 'วิด': 25,\n",
              " 'เร่ง': 38,\n",
              " 'ด่วน': 15,\n",
              " 'Antigen': 2,\n",
              " 'Test': 4,\n",
              " 'Kit': 3,\n",
              " 'สำหรับ': 29,\n",
              " 'พนักงาน': 19,\n",
              " 'ลูกจ้าง': 24,\n",
              " 'หัก': 31,\n",
              " '1.5': 0,\n",
              " 'มีนาคม': 22,\n",
              " 'ATK': 1,\n",
              " 'หา': 32,\n",
              " 'เชื้อ': 37,\n",
              " 'มาตรการ': 21,\n",
              " 'กระทรวง': 6,\n",
              " 'สาธารณสุข': 28,\n",
              " 'ครม': 9,\n",
              " 'ไฟ': 40,\n",
              " 'เขียว': 36,\n",
              " 'สรรพากร': 27,\n",
              " 'ภาษี': 20,\n",
              " 'สนับสนุน': 26,\n",
              " 'ชื้อ': 12,\n",
              " 'กรณี': 5,\n",
              " 'ค': 7}"
            ]
          },
          "execution_count": 274,
          "metadata": {},
          "output_type": "execute_result"
        }
      ],
      "source": [
        "cvec.vocabulary_"
      ]
    },
    {
      "cell_type": "code",
      "execution_count": 275,
      "metadata": {
        "colab": {
          "base_uri": "https://localhost:8080/"
        },
        "id": "kXpPQ8LewGjl",
        "outputId": "31a2c6e0-f37d-403c-f805-f758e5b920b9"
      },
      "outputs": [
        {
          "data": {
            "text/plain": [
              "matrix([[1, 1, 1, 1, 1, 0, 1, 0, 1, 0, 1, 2, 0, 2, 1, 1, 3, 1, 1, 2, 0,\n",
              "         1, 1, 1, 2, 2, 0, 0, 1, 1, 1, 1, 1, 1, 1, 1, 0, 1, 1, 2, 0],\n",
              "        [1, 1, 0, 0, 0, 1, 0, 1, 0, 1, 1, 2, 1, 2, 1, 0, 3, 1, 1, 1, 1,\n",
              "         1, 0, 0, 0, 2, 1, 1, 0, 0, 0, 1, 0, 1, 1, 0, 1, 0, 0, 2, 1],\n",
              "        [1, 1, 0, 0, 0, 0, 0, 0, 0, 0, 0, 1, 0, 1, 1, 0, 1, 0, 1, 0, 0,\n",
              "         0, 0, 0, 0, 0, 0, 1, 0, 0, 0, 1, 0, 0, 0, 0, 0, 0, 0, 0, 0],\n",
              "        [1, 1, 0, 0, 0, 1, 0, 1, 0, 1, 1, 2, 1, 2, 1, 0, 3, 1, 1, 1, 1,\n",
              "         1, 0, 0, 0, 2, 1, 1, 0, 0, 0, 1, 0, 1, 1, 0, 1, 0, 0, 2, 1]],\n",
              "       dtype=int64)"
            ]
          },
          "execution_count": 275,
          "metadata": {},
          "output_type": "execute_result"
        }
      ],
      "source": [
        "c_feat[:,:].todense()"
      ]
    },
    {
      "cell_type": "code",
      "execution_count": 276,
      "metadata": {
        "colab": {
          "base_uri": "https://localhost:8080/"
        },
        "id": "ZSZ5rowpwGjl",
        "outputId": "c39117a5-49a0-43ae-9367-f6dd1d91170c"
      },
      "outputs": [
        {
          "name": "stdout",
          "output_type": "stream",
          "text": [
            "[[1 1 1 1 1 0 1 0 1 0 1 2 0 2 1 1 3 1 1 2 0 1 1 1 2 2 0 0 1 1 1 1 1 1 1 1\n",
            "  0 1 1 2 0]\n",
            " [1 1 0 0 0 1 0 1 0 1 1 2 1 2 1 0 3 1 1 1 1 1 0 0 0 2 1 1 0 0 0 1 0 1 1 0\n",
            "  1 0 0 2 1]\n",
            " [1 1 0 0 0 0 0 0 0 0 0 1 0 1 1 0 1 0 1 0 0 0 0 0 0 0 0 1 0 0 0 1 0 0 0 0\n",
            "  0 0 0 0 0]\n",
            " [1 1 0 0 0 1 0 1 0 1 1 2 1 2 1 0 3 1 1 1 1 1 0 0 0 2 1 1 0 0 0 1 0 1 1 0\n",
            "  1 0 0 2 1]]\n"
          ]
        }
      ],
      "source": [
        "#first_news เป็น array ของข่าว โดย row ที่ 1 = ข่าวที่ต้องการตรวจสอบจาก cofact, row ที่ 2 = ข้อความสรุปใน cofact, row ที่ 3 = หัวข้อข่าวที่เชื่อถือได้ , row ที่ 4 = เนื้อหาข่าว paragraph แรกของข่าวที่เชื่อถือได้\n",
        "first_news = c_feat[:,:].todense()\n",
        "print(first_news) "
      ]
    },
    {
      "cell_type": "code",
      "execution_count": 277,
      "metadata": {
        "colab": {
          "base_uri": "https://localhost:8080/"
        },
        "id": "CSkmMKcDwGjl",
        "outputId": "e8dc4d7f-ffbb-409d-bf41-d42aaf3fa0c8"
      },
      "outputs": [
        {
          "data": {
            "text/plain": [
              "41"
            ]
          },
          "execution_count": 277,
          "metadata": {},
          "output_type": "execute_result"
        }
      ],
      "source": [
        "first_news.shape[1]"
      ]
    },
    {
      "cell_type": "code",
      "execution_count": 278,
      "metadata": {
        "colab": {
          "base_uri": "https://localhost:8080/"
        },
        "id": "j8_YyYTQwGjn",
        "outputId": "f9559253-b31d-47cf-a87c-f909ef0ad700"
      },
      "outputs": [
        {
          "name": "stdout",
          "output_type": "stream",
          "text": [
            "This is sum (upperpart) : 37\n",
            "This is lowerpart : 51.08815909777921\n"
          ]
        },
        {
          "data": {
            "text/plain": [
              "0.7242382707348008"
            ]
          },
          "execution_count": 278,
          "metadata": {},
          "output_type": "execute_result"
        }
      ],
      "source": [
        "find_cosine_similarity(first_news, 0, 1) #เทียบ ข้อความที่ต้องการตรวจสอบบน cofact กับ ข้อความสรุปใน cofact"
      ]
    },
    {
      "cell_type": "code",
      "execution_count": 279,
      "metadata": {
        "colab": {
          "base_uri": "https://localhost:8080/"
        },
        "id": "HI87UlvbwGjn",
        "outputId": "5865964c-7538-4137-a1a4-868c7f837057"
      },
      "outputs": [
        {
          "name": "stdout",
          "output_type": "stream",
          "text": [
            "This is sum (upperpart) : 12\n",
            "This is lowerpart : 22.847319317591726\n"
          ]
        },
        {
          "data": {
            "text/plain": [
              "0.5252257314388902"
            ]
          },
          "execution_count": 279,
          "metadata": {},
          "output_type": "execute_result"
        }
      ],
      "source": [
        "find_cosine_similarity(first_news, 0, 2)#เทียบ ข้อความที่ต้องการตรวจสอบบน cofact กับ หัวข้อข่าวที่เชื่อถือได้"
      ]
    },
    {
      "cell_type": "code",
      "execution_count": 280,
      "metadata": {
        "colab": {
          "base_uri": "https://localhost:8080/"
        },
        "id": "s_c8gJgawGjn",
        "outputId": "6c7a69e8-ec09-4e33-c41a-680df9c6c521"
      },
      "outputs": [
        {
          "name": "stdout",
          "output_type": "stream",
          "text": [
            "This is sum (upperpart) : 37\n",
            "This is lowerpart : 51.08815909777921\n"
          ]
        },
        {
          "data": {
            "text/plain": [
              "0.7242382707348008"
            ]
          },
          "execution_count": 280,
          "metadata": {},
          "output_type": "execute_result"
        }
      ],
      "source": [
        "find_cosine_similarity(first_news, 0, 3)#เทียบ ข้อความที่ต้องการตรวจสอบบน cofact กับ เนื้อหาข่าว paragraph แรกของข่าวที่เชื่อถือได้"
      ]
    },
    {
      "cell_type": "code",
      "execution_count": null,
      "metadata": {
        "id": "Dp519m7rHQc2"
      },
      "outputs": [],
      "source": []
    },
    {
      "cell_type": "markdown",
      "metadata": {
        "id": "OWRJiEMKHRCT"
      },
      "source": [
        "# ข่าวที่ 24"
      ]
    },
    {
      "cell_type": "code",
      "execution_count": 281,
      "metadata": {
        "id": "hYpjSY_cHRCU"
      },
      "outputs": [],
      "source": [
        "clean_text = ['แอปเป๋าตังมีดีกว่าที่คิด ไม่น่าเชื่อว่าในเป๋าตัง ก็มีเรื่องสุขภาพใกล้ตัวทุกเพศวัยตั้งแต่แรกเกิด จนถึงผู้สูงอายุ เช่นบริการปรึกษาโรคซึมเศร้าและตรวจสอบความสามารถในการช่วยเหลือตนเองมีบริการสำหรับผู้หญิง เช่น สิทธิตรวจคัดกรองมะเร็งปากมดลูก และสิทธิฝากครรภ์ใครมีแอปเป๋าตังแล้ว ลองกดเข้าไปปรึกษาเรื่องสุขภาพได้','“กระเป๋าสุขภาพ หรือ Health Wallet” ให้บริการสร้างเสริมสุขภาพและป้องกันโรคก่อนเกิดการรักษาแก่คนไทยทุกคนฟรี! สามารถเช็คสิทธิประโยชน์ของตัวเองได้ มีการเก็บข้อมูลประวัติการรักษาจะเชื่อมโยงกับสำนักงานหลักประกันสุขภาพถ้วนหน้า สามารถเช็คสถานพยาบาลที่ใกล้บ้านหรือสะดวกเพื่อทำนัดพบหมอ ฉีดวัคซีน ตรวจคัดกรองโรคต่างๆ','แอปฯ เป๋าตัง เปิดฟีเจอร์ ตรวจสอบสิทธิ-นัดหมอ “โรคซึมเศร้าในผู้สูงวัย” ผ่านวอลเล็ต “กระเป๋าสุขภาพ”','เพราะการป้องกันย่อมดีกว่าการรักษา...ระบบสาธารณสุขทั่วโลกจึงใส่ใจและให้ความสำคัญกับการป้องกันและสร้างเสริมความรู้ด้านสุขภาพให้แก่ประชาชนไม่น้อยไปกว่าการค้นหาวิธีการรักษาโรค']"
      ]
    },
    {
      "cell_type": "markdown",
      "metadata": {
        "id": "nLCjuuTaHRCU"
      },
      "source": [
        "**Step 2: Tokenize**"
      ]
    },
    {
      "cell_type": "code",
      "execution_count": 282,
      "metadata": {
        "colab": {
          "base_uri": "https://localhost:8080/"
        },
        "id": "lbdRfNloHRCU",
        "outputId": "52f091f6-0c9c-485b-acb5-d9d51a6a2236"
      },
      "outputs": [
        {
          "name": "stdout",
          "output_type": "stream",
          "text": [
            "tokenized text:\n",
            " ['แอ', 'ป', 'เป๋า', 'ตัง', 'ดี', 'เป๋า', 'ตัง', 'เรื่อง', 'สุขภาพ', 'ตัว', 'เพศ', 'วัย', 'อายุ', 'บริการ', 'ปรึกษา', 'โรค', 'ซึม', 'เศร้า', 'ตรวจ', 'สอบ', 'บริการ', 'สำหรับ', 'หญิง', 'สิทธิ', 'ตรวจ', 'คัด', 'กรอง', 'มะเร็ง', 'ปาก', 'มดลูก', 'สิทธิ', 'ฝาก', 'ครรภ์', 'แอ', 'ป', 'เป๋า', 'ตัง', 'ลอง', 'กด', 'เข้าไป', 'ปรึกษา', 'เรื่อง', 'สุขภาพ']\n",
            "tokenized text:\n",
            " ['กระเป๋า', 'สุขภาพ', 'Health', 'Wallet', 'บริการ', 'สร้าง', 'เสริมสุข', 'ภาพ', 'ป้องกัน', 'โรค', 'รักษา', 'คน', 'ไทย', 'คน', 'ฟรี', 'เช็ค', 'สิทธิ', 'ประโยชน์', 'ตัว', 'ข้อมูล', 'ประวัติการ', 'รักษา', 'เชื่อม', 'โยง', 'สำนักงาน', 'หลัก', 'ประกัน', 'สุขภาพ', 'ถ้วน', 'หน้า', 'เช็ค', 'สถาน', 'พยาบาล', 'บ้าน', 'สะดวก', 'ทำ', 'นัด', 'หมอ', 'ฉีด', 'วัคซีน', 'ตรวจ', 'คัด', 'กรอง', 'โรค']\n",
            "tokenized text:\n",
            " ['แอปฯ', 'เป๋า', 'ตัง', 'ฟีเจอร์', 'ตรวจ', 'สอบ', 'สิทธิ', 'นัด', 'หมอ', 'โรค', 'ซึม', 'เศร้า', 'วัย', 'ผ่า', 'นว', 'อลเล็ต', 'กระเป๋า', 'สุขภาพ']\n",
            "tokenized text:\n",
            " ['ป้องกัน', 'ดี', 'รักษา', 'ระบบ', 'สาธารณสุข', 'โลก', 'ใส่ใจ', 'ป้องกัน', 'สร้าง', 'เสริม', 'รู้', 'สุขภาพ', 'ประชาชน', 'ค้นหา', 'วิธี', 'รักษา', 'โรค']\n"
          ]
        }
      ],
      "source": [
        "print('tokenized text:\\n',split_word(clean_text[0])) #ข้อความที่ต้องการตรวจสอบบน cofact\n",
        "print('tokenized text:\\n',split_word(clean_text[1])) #ข้อความสรุปใน cofact\n",
        "print('tokenized text:\\n',split_word(clean_text[2])) #หัวข่าวอ้างอิง\n",
        "print('tokenized text:\\n',split_word(clean_text[3])) #เนื้อหาข่าวอ้างอิง paragraph แรก"
      ]
    },
    {
      "cell_type": "code",
      "execution_count": 283,
      "metadata": {
        "id": "iGLH-WuxHRCV"
      },
      "outputs": [],
      "source": [
        "tokens_list = [split_word(txt) for txt in clean_text]"
      ]
    },
    {
      "cell_type": "code",
      "execution_count": 284,
      "metadata": {
        "colab": {
          "base_uri": "https://localhost:8080/"
        },
        "id": "FI4S0Ft5HRCV",
        "outputId": "e9193ed5-3e58-426d-dd71-a8b9fb6413aa"
      },
      "outputs": [
        {
          "data": {
            "text/plain": [
              "[['แอ',\n",
              "  'ป',\n",
              "  'เป๋า',\n",
              "  'ตัง',\n",
              "  'ดี',\n",
              "  'เป๋า',\n",
              "  'ตัง',\n",
              "  'เรื่อง',\n",
              "  'สุขภาพ',\n",
              "  'ตัว',\n",
              "  'เพศ',\n",
              "  'วัย',\n",
              "  'อายุ',\n",
              "  'บริการ',\n",
              "  'ปรึกษา',\n",
              "  'โรค',\n",
              "  'ซึม',\n",
              "  'เศร้า',\n",
              "  'ตรวจ',\n",
              "  'สอบ',\n",
              "  'บริการ',\n",
              "  'สำหรับ',\n",
              "  'หญิง',\n",
              "  'สิทธิ',\n",
              "  'ตรวจ',\n",
              "  'คัด',\n",
              "  'กรอง',\n",
              "  'มะเร็ง',\n",
              "  'ปาก',\n",
              "  'มดลูก',\n",
              "  'สิทธิ',\n",
              "  'ฝาก',\n",
              "  'ครรภ์',\n",
              "  'แอ',\n",
              "  'ป',\n",
              "  'เป๋า',\n",
              "  'ตัง',\n",
              "  'ลอง',\n",
              "  'กด',\n",
              "  'เข้าไป',\n",
              "  'ปรึกษา',\n",
              "  'เรื่อง',\n",
              "  'สุขภาพ'],\n",
              " ['กระเป๋า',\n",
              "  'สุขภาพ',\n",
              "  'Health',\n",
              "  'Wallet',\n",
              "  'บริการ',\n",
              "  'สร้าง',\n",
              "  'เสริมสุข',\n",
              "  'ภาพ',\n",
              "  'ป้องกัน',\n",
              "  'โรค',\n",
              "  'รักษา',\n",
              "  'คน',\n",
              "  'ไทย',\n",
              "  'คน',\n",
              "  'ฟรี',\n",
              "  'เช็ค',\n",
              "  'สิทธิ',\n",
              "  'ประโยชน์',\n",
              "  'ตัว',\n",
              "  'ข้อมูล',\n",
              "  'ประวัติการ',\n",
              "  'รักษา',\n",
              "  'เชื่อม',\n",
              "  'โยง',\n",
              "  'สำนักงาน',\n",
              "  'หลัก',\n",
              "  'ประกัน',\n",
              "  'สุขภาพ',\n",
              "  'ถ้วน',\n",
              "  'หน้า',\n",
              "  'เช็ค',\n",
              "  'สถาน',\n",
              "  'พยาบาล',\n",
              "  'บ้าน',\n",
              "  'สะดวก',\n",
              "  'ทำ',\n",
              "  'นัด',\n",
              "  'หมอ',\n",
              "  'ฉีด',\n",
              "  'วัคซีน',\n",
              "  'ตรวจ',\n",
              "  'คัด',\n",
              "  'กรอง',\n",
              "  'โรค'],\n",
              " ['แอปฯ',\n",
              "  'เป๋า',\n",
              "  'ตัง',\n",
              "  'ฟีเจอร์',\n",
              "  'ตรวจ',\n",
              "  'สอบ',\n",
              "  'สิทธิ',\n",
              "  'นัด',\n",
              "  'หมอ',\n",
              "  'โรค',\n",
              "  'ซึม',\n",
              "  'เศร้า',\n",
              "  'วัย',\n",
              "  'ผ่า',\n",
              "  'นว',\n",
              "  'อลเล็ต',\n",
              "  'กระเป๋า',\n",
              "  'สุขภาพ'],\n",
              " ['ป้องกัน',\n",
              "  'ดี',\n",
              "  'รักษา',\n",
              "  'ระบบ',\n",
              "  'สาธารณสุข',\n",
              "  'โลก',\n",
              "  'ใส่ใจ',\n",
              "  'ป้องกัน',\n",
              "  'สร้าง',\n",
              "  'เสริม',\n",
              "  'รู้',\n",
              "  'สุขภาพ',\n",
              "  'ประชาชน',\n",
              "  'ค้นหา',\n",
              "  'วิธี',\n",
              "  'รักษา',\n",
              "  'โรค']]"
            ]
          },
          "execution_count": 284,
          "metadata": {},
          "output_type": "execute_result"
        }
      ],
      "source": [
        "tokens_list"
      ]
    },
    {
      "cell_type": "markdown",
      "metadata": {
        "id": "St2rNJ6pHRCV"
      },
      "source": [
        "**Step 3 + 4a: Bag of words + count word**"
      ]
    },
    {
      "cell_type": "code",
      "execution_count": 285,
      "metadata": {
        "id": "CiH28_wiHRCV"
      },
      "outputs": [],
      "source": [
        "from sklearn.feature_extraction.text import CountVectorizer\n",
        "tokens_list_j = [','.join(tkn) for tkn in tokens_list]\n",
        "cvec = CountVectorizer(analyzer=lambda x:x.split(','))\n",
        "c_feat = cvec.fit_transform(tokens_list_j)"
      ]
    },
    {
      "cell_type": "code",
      "execution_count": 286,
      "metadata": {
        "colab": {
          "base_uri": "https://localhost:8080/"
        },
        "id": "YfI8Xlc8HRCV",
        "outputId": "e78e4a70-47e4-4c47-edee-afb0e765af05"
      },
      "outputs": [
        {
          "data": {
            "text/plain": [
              "{'แอ': 69,\n",
              " 'ป': 22,\n",
              " 'เป๋า': 63,\n",
              " 'ตัง': 14,\n",
              " 'ดี': 12,\n",
              " 'เรื่อง': 65,\n",
              " 'สุขภาพ': 53,\n",
              " 'ตัว': 15,\n",
              " 'เพศ': 64,\n",
              " 'วัย': 43,\n",
              " 'อายุ': 59,\n",
              " 'บริการ': 20,\n",
              " 'ปรึกษา': 27,\n",
              " 'โรค': 72,\n",
              " 'ซึม': 11,\n",
              " 'เศร้า': 66,\n",
              " 'ตรวจ': 13,\n",
              " 'สอบ': 47,\n",
              " 'สำหรับ': 51,\n",
              " 'หญิง': 54,\n",
              " 'สิทธิ': 52,\n",
              " 'คัด': 8,\n",
              " 'กรอง': 3,\n",
              " 'มะเร็ง': 37,\n",
              " 'ปาก': 28,\n",
              " 'มดลูก': 36,\n",
              " 'ฝาก': 31,\n",
              " 'ครรภ์': 7,\n",
              " 'ลอง': 41,\n",
              " 'กด': 2,\n",
              " 'เข้าไป': 60,\n",
              " 'กระเป๋า': 4,\n",
              " 'Health': 0,\n",
              " 'Wallet': 1,\n",
              " 'สร้าง': 46,\n",
              " 'เสริมสุข': 68,\n",
              " 'ภาพ': 35,\n",
              " 'ป้องกัน': 29,\n",
              " 'รักษา': 39,\n",
              " 'คน': 6,\n",
              " 'ไทย': 75,\n",
              " 'ฟรี': 33,\n",
              " 'เช็ค': 62,\n",
              " 'ประโยชน์': 26,\n",
              " 'ข้อมูล': 5,\n",
              " 'ประวัติการ': 25,\n",
              " 'เชื่อม': 61,\n",
              " 'โยง': 71,\n",
              " 'สำนักงาน': 50,\n",
              " 'หลัก': 57,\n",
              " 'ประกัน': 23,\n",
              " 'ถ้วน': 16,\n",
              " 'หน้า': 55,\n",
              " 'สถาน': 45,\n",
              " 'พยาบาล': 32,\n",
              " 'บ้าน': 21,\n",
              " 'สะดวก': 48,\n",
              " 'ทำ': 17,\n",
              " 'นัด': 19,\n",
              " 'หมอ': 56,\n",
              " 'ฉีด': 10,\n",
              " 'วัคซีน': 42,\n",
              " 'แอปฯ': 70,\n",
              " 'ฟีเจอร์': 34,\n",
              " 'ผ่า': 30,\n",
              " 'นว': 18,\n",
              " 'อลเล็ต': 58,\n",
              " 'ระบบ': 38,\n",
              " 'สาธารณสุข': 49,\n",
              " 'โลก': 73,\n",
              " 'ใส่ใจ': 74,\n",
              " 'เสริม': 67,\n",
              " 'รู้': 40,\n",
              " 'ประชาชน': 24,\n",
              " 'ค้นหา': 9,\n",
              " 'วิธี': 44}"
            ]
          },
          "execution_count": 286,
          "metadata": {},
          "output_type": "execute_result"
        }
      ],
      "source": [
        "cvec.vocabulary_"
      ]
    },
    {
      "cell_type": "code",
      "execution_count": 287,
      "metadata": {
        "colab": {
          "base_uri": "https://localhost:8080/"
        },
        "id": "EqXoeZ2YHRCW",
        "outputId": "c3650739-b34f-423f-b339-1ec190fbc09d"
      },
      "outputs": [
        {
          "data": {
            "text/plain": [
              "matrix([[0, 0, 1, 1, 0, 0, 0, 1, 1, 0, 0, 1, 1, 2, 3, 1, 0, 0, 0, 0, 2,\n",
              "         0, 2, 0, 0, 0, 0, 2, 1, 0, 0, 1, 0, 0, 0, 0, 1, 1, 0, 0, 0, 1,\n",
              "         0, 1, 0, 0, 0, 1, 0, 0, 0, 1, 2, 2, 1, 0, 0, 0, 0, 1, 1, 0, 0,\n",
              "         3, 1, 2, 1, 0, 0, 2, 0, 0, 1, 0, 0, 0],\n",
              "        [1, 1, 0, 1, 1, 1, 2, 0, 1, 0, 1, 0, 0, 1, 0, 1, 1, 1, 0, 1, 1,\n",
              "         1, 0, 1, 0, 1, 1, 0, 0, 1, 0, 0, 1, 1, 0, 1, 0, 0, 0, 2, 0, 0,\n",
              "         1, 0, 0, 1, 1, 0, 1, 0, 1, 0, 1, 2, 0, 1, 1, 1, 0, 0, 0, 1, 2,\n",
              "         0, 0, 0, 0, 0, 1, 0, 0, 1, 2, 0, 0, 1],\n",
              "        [0, 0, 0, 0, 1, 0, 0, 0, 0, 0, 0, 1, 0, 1, 1, 0, 0, 0, 1, 1, 0,\n",
              "         0, 0, 0, 0, 0, 0, 0, 0, 0, 1, 0, 0, 0, 1, 0, 0, 0, 0, 0, 0, 0,\n",
              "         0, 1, 0, 0, 0, 1, 0, 0, 0, 0, 1, 1, 0, 0, 1, 0, 1, 0, 0, 0, 0,\n",
              "         1, 0, 0, 1, 0, 0, 0, 1, 0, 1, 0, 0, 0],\n",
              "        [0, 0, 0, 0, 0, 0, 0, 0, 0, 1, 0, 0, 1, 0, 0, 0, 0, 0, 0, 0, 0,\n",
              "         0, 0, 0, 1, 0, 0, 0, 0, 2, 0, 0, 0, 0, 0, 0, 0, 0, 1, 2, 1, 0,\n",
              "         0, 0, 1, 0, 1, 0, 0, 1, 0, 0, 0, 1, 0, 0, 0, 0, 0, 0, 0, 0, 0,\n",
              "         0, 0, 0, 0, 1, 0, 0, 0, 0, 1, 1, 1, 0]], dtype=int64)"
            ]
          },
          "execution_count": 287,
          "metadata": {},
          "output_type": "execute_result"
        }
      ],
      "source": [
        "c_feat[:,:].todense()"
      ]
    },
    {
      "cell_type": "code",
      "execution_count": 288,
      "metadata": {
        "colab": {
          "base_uri": "https://localhost:8080/"
        },
        "id": "DXDHq9soHRCW",
        "outputId": "33c190d1-ed8b-4170-a10b-e9beb3d378d3"
      },
      "outputs": [
        {
          "name": "stdout",
          "output_type": "stream",
          "text": [
            "[[0 0 1 1 0 0 0 1 1 0 0 1 1 2 3 1 0 0 0 0 2 0 2 0 0 0 0 2 1 0 0 1 0 0 0 0\n",
            "  1 1 0 0 0 1 0 1 0 0 0 1 0 0 0 1 2 2 1 0 0 0 0 1 1 0 0 3 1 2 1 0 0 2 0 0\n",
            "  1 0 0 0]\n",
            " [1 1 0 1 1 1 2 0 1 0 1 0 0 1 0 1 1 1 0 1 1 1 0 1 0 1 1 0 0 1 0 0 1 1 0 1\n",
            "  0 0 0 2 0 0 1 0 0 1 1 0 1 0 1 0 1 2 0 1 1 1 0 0 0 1 2 0 0 0 0 0 1 0 0 1\n",
            "  2 0 0 1]\n",
            " [0 0 0 0 1 0 0 0 0 0 0 1 0 1 1 0 0 0 1 1 0 0 0 0 0 0 0 0 0 0 1 0 0 0 1 0\n",
            "  0 0 0 0 0 0 0 1 0 0 0 1 0 0 0 0 1 1 0 0 1 0 1 0 0 0 0 1 0 0 1 0 0 0 1 0\n",
            "  1 0 0 0]\n",
            " [0 0 0 0 0 0 0 0 0 1 0 0 1 0 0 0 0 0 0 0 0 0 0 0 1 0 0 0 0 2 0 0 0 0 0 0\n",
            "  0 0 1 2 1 0 0 0 1 0 1 0 0 1 0 0 0 1 0 0 0 0 0 0 0 0 0 0 0 0 0 1 0 0 0 0\n",
            "  1 1 1 0]]\n"
          ]
        }
      ],
      "source": [
        "#first_news เป็น array ของข่าว โดย row ที่ 1 = ข่าวที่ต้องการตรวจสอบจาก cofact, row ที่ 2 = ข้อความสรุปใน cofact, row ที่ 3 = หัวข้อข่าวที่เชื่อถือได้ , row ที่ 4 = เนื้อหาข่าว paragraph แรกของข่าวที่เชื่อถือได้\n",
        "first_news = c_feat[:,:].todense()\n",
        "print(first_news) "
      ]
    },
    {
      "cell_type": "code",
      "execution_count": 289,
      "metadata": {
        "colab": {
          "base_uri": "https://localhost:8080/"
        },
        "id": "Btw_eHzmHRCW",
        "outputId": "46a99db4-4857-4cf2-ed78-eaf0b45dc539"
      },
      "outputs": [
        {
          "data": {
            "text/plain": [
              "76"
            ]
          },
          "execution_count": 289,
          "metadata": {},
          "output_type": "execute_result"
        }
      ],
      "source": [
        "first_news.shape[1]"
      ]
    },
    {
      "cell_type": "code",
      "execution_count": 290,
      "metadata": {
        "colab": {
          "base_uri": "https://localhost:8080/"
        },
        "id": "kld4XjDyHRCW",
        "outputId": "7225112b-7f7a-450a-84b3-0fe58dce366f"
      },
      "outputs": [
        {
          "name": "stdout",
          "output_type": "stream",
          "text": [
            "This is sum (upperpart) : 15\n",
            "This is lowerpart : 61.91930232165088\n"
          ]
        },
        {
          "data": {
            "text/plain": [
              "0.2422507915557546"
            ]
          },
          "execution_count": 290,
          "metadata": {},
          "output_type": "execute_result"
        }
      ],
      "source": [
        "find_cosine_similarity(first_news, 0, 1) #เทียบ ข้อความที่ต้องการตรวจสอบบน cofact กับ ข้อความสรุปใน cofact"
      ]
    },
    {
      "cell_type": "code",
      "execution_count": 291,
      "metadata": {
        "colab": {
          "base_uri": "https://localhost:8080/"
        },
        "id": "czp2rgIsHRCW",
        "outputId": "4fc30165-0d70-4d5d-9322-158372061fbe"
      },
      "outputs": [
        {
          "name": "stdout",
          "output_type": "stream",
          "text": [
            "This is sum (upperpart) : 17\n",
            "This is lowerpart : 35.749125863438955\n"
          ]
        },
        {
          "data": {
            "text/plain": [
              "0.4755361030347905"
            ]
          },
          "execution_count": 291,
          "metadata": {},
          "output_type": "execute_result"
        }
      ],
      "source": [
        "find_cosine_similarity(first_news, 0, 2)#เทียบ ข้อความที่ต้องการตรวจสอบบน cofact กับ หัวข้อข่าวที่เชื่อถือได้"
      ]
    },
    {
      "cell_type": "code",
      "execution_count": 292,
      "metadata": {
        "colab": {
          "base_uri": "https://localhost:8080/"
        },
        "id": "r3foscbNHRCX",
        "outputId": "dfea83d5-c436-4a64-fc52-7225de464248"
      },
      "outputs": [
        {
          "name": "stdout",
          "output_type": "stream",
          "text": [
            "This is sum (upperpart) : 4\n",
            "This is lowerpart : 38.61346915261564\n"
          ]
        },
        {
          "data": {
            "text/plain": [
              "0.10359079584873414"
            ]
          },
          "execution_count": 292,
          "metadata": {},
          "output_type": "execute_result"
        }
      ],
      "source": [
        "find_cosine_similarity(first_news, 0, 3)#เทียบ ข้อความที่ต้องการตรวจสอบบน cofact กับ เนื้อหาข่าว paragraph แรกของข่าวที่เชื่อถือได้"
      ]
    },
    {
      "cell_type": "code",
      "execution_count": null,
      "metadata": {
        "id": "c1KB3NqaJfti"
      },
      "outputs": [],
      "source": []
    },
    {
      "cell_type": "markdown",
      "metadata": {
        "id": "2jXPFx-ZJgAv"
      },
      "source": [
        "# ข่าวที่ 25"
      ]
    },
    {
      "cell_type": "code",
      "execution_count": 293,
      "metadata": {
        "id": "zcjtSAv6JgAw"
      },
      "outputs": [],
      "source": [
        "clean_text = ['ประเทศออสเตรเลีย จะเปิดประเทศรับนักท่องเที่ยว ในเดือนพฤศจิกายน 2554 นี้','คาดว่าผู้ใช้เขียนปี พ.ศ. ผิด เป็นปี 2554 โดยจริงแล้วเป็น พฤศจิกายน 2564รัฐบาลออสเตรเลียพร้อมเเปิดประเทศอย่างปลอดภัย เพื่อให้พลเมืองออสเตรเลียในต่างประเทศกลับบ้านเกิดได้ รวมทั้งอนุญาตให้นักท่องเที่ยวเดินทางเข้าออสเตรเลียได้อีกครั้ง โดยแผนการเปิดประเทศออสเตรเลีย เบื้องต้นจะมีการประเมินความพร้อมขึ้นอยู่กับอัตราการฉีดวัคซีนในแต่ละพื้นที่ แต่คาดว่าน่าจะเริ่มได้ในเดือน พ.ย. นี้ มุ่งไปที่ชาวออสเตรเลียที่ได้รับการฉีดวัคซีนแล้วและผู้มีที่พำนักถาวรในออสเตรเลียที่จะได้รับอนุญาตให้เดินทางเข้ามาในประเทศออสเตรเลียได้ รัฐบาลออสเตรเลียจะยังคงมีการกำหนดจำนวนผู้ที่จะได้เดินทางเข้าประเทศ รวมทั้งเมื่อเข้ามาแล้วจะต้องกักตัวเป็นเวลา 14 วัน','ออสเตรเลียเตรียมเปิดพรมแดน พ.ย. 64 หลังล็อกสกัดโควิดนาน 18 เดือน','รัฐบาลออสเตรเลียเตรียมเปิดพรมแดนระหว่างประเทศ ในเดือน พ.ย. อนุญาตให้พลเมืองออสเตรเลียเดินทางไปต่างประเทศได้แล้ว หลังล็อกสกัดโควิดมานานถึง 18 เดือน']"
      ]
    },
    {
      "cell_type": "markdown",
      "metadata": {
        "id": "mbrXzA5IJgAw"
      },
      "source": [
        "**Step 2: Tokenize**"
      ]
    },
    {
      "cell_type": "code",
      "execution_count": 294,
      "metadata": {
        "colab": {
          "base_uri": "https://localhost:8080/"
        },
        "id": "RVq4tBpHJgAw",
        "outputId": "801f7598-3ee9-4d20-f22e-b9c5e03d0934"
      },
      "outputs": [
        {
          "name": "stdout",
          "output_type": "stream",
          "text": [
            "tokenized text:\n",
            " ['ประเทศ', 'ออสเตรเลีย', 'ประเทศ', 'ท่อง', 'เที่ยว', 'เดือน', 'พฤศจิกายน']\n",
            "tokenized text:\n",
            " ['คาด', 'ปี', 'พ', 'ศ', 'ปี', 'พฤศจิกายน', 'รัฐบาล', 'ออสเตรเลีย', 'เเปิด', 'ประเทศ', 'ปลอดภัย', 'พลเมือง', 'ออสเตรเลีย', 'ประเทศ', 'บ้าน', 'อนุญาต', 'ท่อง', 'เที่ยว', 'เดิน', 'ออสเตรเลีย', 'แผนการ', 'ประเทศ', 'ออสเตรเลีย', 'เบื้อง', 'ต้น', 'ประเมิน', 'อัตรา', 'ฉีด', 'วัคซีน', 'พื้นที่', 'คาด', 'เดือน', 'พ', 'ย', 'ออสเตรเลีย', 'ฉีด', 'วัคซีน', 'พำนัก', 'ถาวร', 'ออสเตรเลีย', 'อนุญาต', 'เดิน', 'ประเทศ', 'ออสเตรเลีย', 'รัฐบาล', 'ออสเตรเลีย', 'จำนวน', 'เดิน', 'ประเทศ', 'กักตัว', 'เวลา']\n",
            "tokenized text:\n",
            " ['ออสเตรเลีย', 'เตรียม', 'พรมแดน', 'พ', 'ย', 'ล็อก', 'สกัด', 'โค', 'วิด', 'เดือน']\n",
            "tokenized text:\n",
            " ['รัฐบาล', 'ออสเตรเลีย', 'เตรียม', 'พรมแดน', 'ประเทศ', 'เดือน', 'พ', 'ย', 'อนุญาต', 'พลเมือง', 'ออสเตรเลีย', 'เดิน', 'ประเทศ', 'ล็อก', 'สกัด', 'โค', 'วิด', 'เดือน']\n"
          ]
        }
      ],
      "source": [
        "print('tokenized text:\\n',split_word(clean_text[0])) #ข้อความที่ต้องการตรวจสอบบน cofact\n",
        "print('tokenized text:\\n',split_word(clean_text[1])) #ข้อความสรุปใน cofact\n",
        "print('tokenized text:\\n',split_word(clean_text[2])) #หัวข่าวอ้างอิง\n",
        "print('tokenized text:\\n',split_word(clean_text[3])) #เนื้อหาข่าวอ้างอิง paragraph แรก"
      ]
    },
    {
      "cell_type": "code",
      "execution_count": 295,
      "metadata": {
        "id": "JG-qBLaGJgAw"
      },
      "outputs": [],
      "source": [
        "tokens_list = [split_word(txt) for txt in clean_text]"
      ]
    },
    {
      "cell_type": "code",
      "execution_count": 296,
      "metadata": {
        "colab": {
          "base_uri": "https://localhost:8080/"
        },
        "id": "UEBf3nFHJgAx",
        "outputId": "21fd6089-3c27-41a7-f597-d8f052ec5b58"
      },
      "outputs": [
        {
          "data": {
            "text/plain": [
              "[['ประเทศ', 'ออสเตรเลีย', 'ประเทศ', 'ท่อง', 'เที่ยว', 'เดือน', 'พฤศจิกายน'],\n",
              " ['คาด',\n",
              "  'ปี',\n",
              "  'พ',\n",
              "  'ศ',\n",
              "  'ปี',\n",
              "  'พฤศจิกายน',\n",
              "  'รัฐบาล',\n",
              "  'ออสเตรเลีย',\n",
              "  'เเปิด',\n",
              "  'ประเทศ',\n",
              "  'ปลอดภัย',\n",
              "  'พลเมือง',\n",
              "  'ออสเตรเลีย',\n",
              "  'ประเทศ',\n",
              "  'บ้าน',\n",
              "  'อนุญาต',\n",
              "  'ท่อง',\n",
              "  'เที่ยว',\n",
              "  'เดิน',\n",
              "  'ออสเตรเลีย',\n",
              "  'แผนการ',\n",
              "  'ประเทศ',\n",
              "  'ออสเตรเลีย',\n",
              "  'เบื้อง',\n",
              "  'ต้น',\n",
              "  'ประเมิน',\n",
              "  'อัตรา',\n",
              "  'ฉีด',\n",
              "  'วัคซีน',\n",
              "  'พื้นที่',\n",
              "  'คาด',\n",
              "  'เดือน',\n",
              "  'พ',\n",
              "  'ย',\n",
              "  'ออสเตรเลีย',\n",
              "  'ฉีด',\n",
              "  'วัคซีน',\n",
              "  'พำนัก',\n",
              "  'ถาวร',\n",
              "  'ออสเตรเลีย',\n",
              "  'อนุญาต',\n",
              "  'เดิน',\n",
              "  'ประเทศ',\n",
              "  'ออสเตรเลีย',\n",
              "  'รัฐบาล',\n",
              "  'ออสเตรเลีย',\n",
              "  'จำนวน',\n",
              "  'เดิน',\n",
              "  'ประเทศ',\n",
              "  'กักตัว',\n",
              "  'เวลา'],\n",
              " ['ออสเตรเลีย',\n",
              "  'เตรียม',\n",
              "  'พรมแดน',\n",
              "  'พ',\n",
              "  'ย',\n",
              "  'ล็อก',\n",
              "  'สกัด',\n",
              "  'โค',\n",
              "  'วิด',\n",
              "  'เดือน'],\n",
              " ['รัฐบาล',\n",
              "  'ออสเตรเลีย',\n",
              "  'เตรียม',\n",
              "  'พรมแดน',\n",
              "  'ประเทศ',\n",
              "  'เดือน',\n",
              "  'พ',\n",
              "  'ย',\n",
              "  'อนุญาต',\n",
              "  'พลเมือง',\n",
              "  'ออสเตรเลีย',\n",
              "  'เดิน',\n",
              "  'ประเทศ',\n",
              "  'ล็อก',\n",
              "  'สกัด',\n",
              "  'โค',\n",
              "  'วิด',\n",
              "  'เดือน']]"
            ]
          },
          "execution_count": 296,
          "metadata": {},
          "output_type": "execute_result"
        }
      ],
      "source": [
        "tokens_list"
      ]
    },
    {
      "cell_type": "markdown",
      "metadata": {
        "id": "Q7xkw8PbJgAx"
      },
      "source": [
        "**Step 3 + 4a: Bag of words + count word**"
      ]
    },
    {
      "cell_type": "code",
      "execution_count": 297,
      "metadata": {
        "id": "H555XUFoJgAx"
      },
      "outputs": [],
      "source": [
        "from sklearn.feature_extraction.text import CountVectorizer\n",
        "tokens_list_j = [','.join(tkn) for tkn in tokens_list]\n",
        "cvec = CountVectorizer(analyzer=lambda x:x.split(','))\n",
        "c_feat = cvec.fit_transform(tokens_list_j)"
      ]
    },
    {
      "cell_type": "code",
      "execution_count": 298,
      "metadata": {
        "colab": {
          "base_uri": "https://localhost:8080/"
        },
        "id": "iM8ypJoEJgAx",
        "outputId": "f3f7e693-d163-44ec-d469-1f288e1ac4d8"
      },
      "outputs": [
        {
          "data": {
            "text/plain": [
              "{'ประเทศ': 8,\n",
              " 'ออสเตรเลีย': 26,\n",
              " 'ท่อง': 6,\n",
              " 'เที่ยว': 31,\n",
              " 'เดือน': 29,\n",
              " 'พฤศจิกายน': 14,\n",
              " 'คาด': 1,\n",
              " 'ปี': 11,\n",
              " 'พ': 12,\n",
              " 'ศ': 23,\n",
              " 'รัฐบาล': 19,\n",
              " 'เเปิด': 34,\n",
              " 'ปลอดภัย': 10,\n",
              " 'พลเมือง': 15,\n",
              " 'บ้าน': 7,\n",
              " 'อนุญาต': 25,\n",
              " 'เดิน': 28,\n",
              " 'แผนการ': 35,\n",
              " 'เบื้อง': 32,\n",
              " 'ต้น': 4,\n",
              " 'ประเมิน': 9,\n",
              " 'อัตรา': 27,\n",
              " 'ฉีด': 3,\n",
              " 'วัคซีน': 21,\n",
              " 'พื้นที่': 17,\n",
              " 'ย': 18,\n",
              " 'พำนัก': 16,\n",
              " 'ถาวร': 5,\n",
              " 'จำนวน': 2,\n",
              " 'กักตัว': 0,\n",
              " 'เวลา': 33,\n",
              " 'เตรียม': 30,\n",
              " 'พรมแดน': 13,\n",
              " 'ล็อก': 20,\n",
              " 'สกัด': 24,\n",
              " 'โค': 36,\n",
              " 'วิด': 22}"
            ]
          },
          "execution_count": 298,
          "metadata": {},
          "output_type": "execute_result"
        }
      ],
      "source": [
        "cvec.vocabulary_"
      ]
    },
    {
      "cell_type": "code",
      "execution_count": 299,
      "metadata": {
        "colab": {
          "base_uri": "https://localhost:8080/"
        },
        "id": "rRROKxwEJgAx",
        "outputId": "507080b1-d4d9-4fac-a33e-25ff342d0622"
      },
      "outputs": [
        {
          "data": {
            "text/plain": [
              "matrix([[0, 0, 0, 0, 0, 0, 1, 0, 2, 0, 0, 0, 0, 0, 1, 0, 0, 0, 0, 0, 0,\n",
              "         0, 0, 0, 0, 0, 1, 0, 0, 1, 0, 1, 0, 0, 0, 0, 0],\n",
              "        [1, 2, 1, 2, 1, 1, 1, 1, 5, 1, 1, 2, 2, 0, 1, 1, 1, 1, 1, 2, 0,\n",
              "         2, 0, 1, 0, 2, 8, 1, 3, 1, 0, 1, 1, 1, 1, 1, 0],\n",
              "        [0, 0, 0, 0, 0, 0, 0, 0, 0, 0, 0, 0, 1, 1, 0, 0, 0, 0, 1, 0, 1,\n",
              "         0, 1, 0, 1, 0, 1, 0, 0, 1, 1, 0, 0, 0, 0, 0, 1],\n",
              "        [0, 0, 0, 0, 0, 0, 0, 0, 2, 0, 0, 0, 1, 1, 0, 1, 0, 0, 1, 1, 1,\n",
              "         0, 1, 0, 1, 1, 2, 0, 1, 2, 1, 0, 0, 0, 0, 0, 1]], dtype=int64)"
            ]
          },
          "execution_count": 299,
          "metadata": {},
          "output_type": "execute_result"
        }
      ],
      "source": [
        "c_feat[:,:].todense()"
      ]
    },
    {
      "cell_type": "code",
      "execution_count": 300,
      "metadata": {
        "colab": {
          "base_uri": "https://localhost:8080/"
        },
        "id": "wfkAEI93JgAx",
        "outputId": "72853289-9c58-4d3c-abad-1339e229aa9f"
      },
      "outputs": [
        {
          "name": "stdout",
          "output_type": "stream",
          "text": [
            "[[0 0 0 0 0 0 1 0 2 0 0 0 0 0 1 0 0 0 0 0 0 0 0 0 0 0 1 0 0 1 0 1 0 0 0 0\n",
            "  0]\n",
            " [1 2 1 2 1 1 1 1 5 1 1 2 2 0 1 1 1 1 1 2 0 2 0 1 0 2 8 1 3 1 0 1 1 1 1 1\n",
            "  0]\n",
            " [0 0 0 0 0 0 0 0 0 0 0 0 1 1 0 0 0 0 1 0 1 0 1 0 1 0 1 0 0 1 1 0 0 0 0 0\n",
            "  1]\n",
            " [0 0 0 0 0 0 0 0 2 0 0 0 1 1 0 1 0 0 1 1 1 0 1 0 1 1 2 0 1 2 1 0 0 0 0 0\n",
            "  1]]\n"
          ]
        }
      ],
      "source": [
        "#first_news เป็น array ของข่าว โดย row ที่ 1 = ข่าวที่ต้องการตรวจสอบจาก cofact, row ที่ 2 = ข้อความสรุปใน cofact, row ที่ 3 = หัวข้อข่าวที่เชื่อถือได้ , row ที่ 4 = เนื้อหาข่าว paragraph แรกของข่าวที่เชื่อถือได้\n",
        "first_news = c_feat[:,:].todense()\n",
        "print(first_news) "
      ]
    },
    {
      "cell_type": "code",
      "execution_count": 301,
      "metadata": {
        "colab": {
          "base_uri": "https://localhost:8080/"
        },
        "id": "JdNihcrqJgAy",
        "outputId": "c84ce8e0-3983-4fc2-f2f2-c434bbaf9d67"
      },
      "outputs": [
        {
          "data": {
            "text/plain": [
              "37"
            ]
          },
          "execution_count": 301,
          "metadata": {},
          "output_type": "execute_result"
        }
      ],
      "source": [
        "first_news.shape[1]"
      ]
    },
    {
      "cell_type": "code",
      "execution_count": 302,
      "metadata": {
        "colab": {
          "base_uri": "https://localhost:8080/"
        },
        "id": "RWKJ4O6bJgAy",
        "outputId": "48c56845-fafa-4b88-8fed-1becd088d0c4"
      },
      "outputs": [
        {
          "name": "stdout",
          "output_type": "stream",
          "text": [
            "This is sum (upperpart) : 22\n",
            "This is lowerpart : 36.373066958946424\n"
          ]
        },
        {
          "data": {
            "text/plain": [
              "0.6048431391510365"
            ]
          },
          "execution_count": 302,
          "metadata": {},
          "output_type": "execute_result"
        }
      ],
      "source": [
        "find_cosine_similarity(first_news, 0, 1) #เทียบ ข้อความที่ต้องการตรวจสอบบน cofact กับ ข้อความสรุปใน cofact"
      ]
    },
    {
      "cell_type": "code",
      "execution_count": 303,
      "metadata": {
        "colab": {
          "base_uri": "https://localhost:8080/"
        },
        "id": "e4jBi8CwJgAy",
        "outputId": "01ba694a-bbf6-468a-9e5a-223668f58a2f"
      },
      "outputs": [
        {
          "name": "stdout",
          "output_type": "stream",
          "text": [
            "This is sum (upperpart) : 2\n",
            "This is lowerpart : 9.486832980505138\n"
          ]
        },
        {
          "data": {
            "text/plain": [
              "0.21081851067789195"
            ]
          },
          "execution_count": 303,
          "metadata": {},
          "output_type": "execute_result"
        }
      ],
      "source": [
        "find_cosine_similarity(first_news, 0, 2)#เทียบ ข้อความที่ต้องการตรวจสอบบน cofact กับ หัวข้อข่าวที่เชื่อถือได้"
      ]
    },
    {
      "cell_type": "code",
      "execution_count": 304,
      "metadata": {
        "colab": {
          "base_uri": "https://localhost:8080/"
        },
        "id": "pO5bBEPlJgAy",
        "outputId": "092092ff-d013-4de4-a766-9775ae32c039"
      },
      "outputs": [
        {
          "name": "stdout",
          "output_type": "stream",
          "text": [
            "This is sum (upperpart) : 8\n",
            "This is lowerpart : 14.696938456699067\n"
          ]
        },
        {
          "data": {
            "text/plain": [
              "0.5443310539518174"
            ]
          },
          "execution_count": 304,
          "metadata": {},
          "output_type": "execute_result"
        }
      ],
      "source": [
        "find_cosine_similarity(first_news, 0, 3)#เทียบ ข้อความที่ต้องการตรวจสอบบน cofact กับ เนื้อหาข่าว paragraph แรกของข่าวที่เชื่อถือได้"
      ]
    },
    {
      "cell_type": "code",
      "execution_count": null,
      "metadata": {
        "id": "gX0GT-bQKmYA"
      },
      "outputs": [],
      "source": []
    },
    {
      "cell_type": "markdown",
      "metadata": {
        "id": "PAckvpkkKmwX"
      },
      "source": [
        "# ข่าวที่ 26"
      ]
    },
    {
      "cell_type": "code",
      "execution_count": 305,
      "metadata": {
        "id": "Dz53vRxmKmwY"
      },
      "outputs": [],
      "source": [
        "clean_text = ['\"เด็กที่ไม่ได้ฉีดวัคซีนก็สามารถเข้าเรียนได้ ควบคู่กับการเข้มงวดมาตรการป้องกันโรค ภายใต้การพิจารณาของคณะกรรมการโรคติดต่อจังหวัด\"สาธิต ปิตุเตชะ รมช.สธ.','เด็กที่ไม่ได้ฉีดวัคซีนก็สามารถเข้าเรียนได้ ควบคู่กับการเข้มงวดมาตรการป้องกันโรค ภายใต้การพิจารณาของคณะกรรมการโรคติดต่อจังหวัด สำหรับเด็กที่มีโรคประจำตัวไม่ได้เรียนหนังสือ หรือกลุ่มนอกระบบการศึกษา สามารถเข้ารับวัคซีนที่โรงพยาบาลที่รักษาประจำได้ ส่วนเด็กเรียนที่บ้านหรือโฮมสคูล ลงทะเบียนรับวัคซีนกับโรงพยาบาลใกล้บ้านได้เช่นกัน','นายกฯ Kick off ฉีดวัคซีนไฟเซอร์นักเรียนอายุ 12–18 ปี','วันที่ 4 ก.ย. 2564 พล.อ.ประยุทธ์ จันทร์โอชา นายกรัฐมนตรี เป็นประธานเปิดงาน Kick off สร้างเกราะป้องกันด้วยวัคซีนเด็กปลอดภัย เรียนอุ่นใจ ต้อนรับเปิดเทอม เพื่อสร้างความเชื่อมั่นในการฉีดวัคซีนในเด็กกับพ่อแม่ ผู้ปกครอง พร้อมชูมาตรการ Sandbox ลดความเสี่ยงของโควิด-19 ณ โรงเรียนพิบูลย์อุปถัมภ์ กรุงเทพฯ']"
      ]
    },
    {
      "cell_type": "markdown",
      "metadata": {
        "id": "5dNW6viGKmwY"
      },
      "source": [
        "**Step 2: Tokenize**"
      ]
    },
    {
      "cell_type": "code",
      "execution_count": 306,
      "metadata": {
        "colab": {
          "base_uri": "https://localhost:8080/"
        },
        "id": "GveCuTfNKmwY",
        "outputId": "92080490-5714-4175-f568-302c48a6e047"
      },
      "outputs": [
        {
          "name": "stdout",
          "output_type": "stream",
          "text": [
            "tokenized text:\n",
            " ['เด็ก', 'ฉีด', 'วัคซีน', 'เรียน', 'ควบคู่', 'เข้ม', 'งวด', 'มาตรการ', 'ป้องกัน', 'โรค', 'พิจารณา', 'คณะ', 'กรรมการ', 'โรค', 'ติดต่อ', 'จังหวัด', 'สาธิต', 'ปิตุ', 'เต', 'ชะ', 'รมช', 'สธ']\n",
            "tokenized text:\n",
            " ['เด็ก', 'ฉีด', 'วัคซีน', 'เรียน', 'ควบคู่', 'เข้ม', 'งวด', 'มาตรการ', 'ป้องกัน', 'โรค', 'พิจารณา', 'คณะ', 'กรรมการ', 'โรค', 'ติดต่อ', 'จังหวัด', 'สำหรับ', 'เด็ก', 'โรค', 'ประจำ', 'ตัว', 'เรียน', 'หนังสือ', 'ระบบ', 'ศึกษา', 'วัคซีน', 'โรง', 'พยาบาล', 'รักษา', 'ประจำ', 'เด็ก', 'เรียน', 'บ้าน', 'โฮม', 'สคูล', 'ทะเบียน', 'วัคซีน', 'โรง', 'พยาบาล', 'บ้าน']\n",
            "tokenized text:\n",
            " ['นา', 'ยกฯ', 'Kick', 'off', 'ฉีด', 'วัคซีน', 'ไฟ', 'เซอร์', 'นักเรียน', 'อายุ', '–', 'ปี']\n",
            "tokenized text:\n",
            " ['ก', 'ย', 'พล', 'อ', 'ประยุทธ์', 'จันทร์', 'โอชา', 'นายก', 'รัฐมนตรี', 'ประธาน', 'งาน', 'Kick', 'off', 'สร้าง', 'เกราะ', 'ป้องกัน', 'วัคซีน', 'เด็ก', 'ปลอดภัย', 'เรียน', 'อุ่น', 'ใจ', 'ต้อนรับ', 'เทอม', 'สร้าง', 'มั่น', 'ฉีด', 'วัคซีน', 'เด็ก', 'พ่อ', 'แม่', 'ปกครอง', 'ชู', 'มาตรการ', 'Sandbox', 'ลด', 'เสี่ยง', 'โค', 'วิด', 'โรงเรียน', 'พิบูลย์', 'อุปถัมภ์', 'กรุงเทพฯ']\n"
          ]
        }
      ],
      "source": [
        "print('tokenized text:\\n',split_word(clean_text[0])) #ข้อความที่ต้องการตรวจสอบบน cofact\n",
        "print('tokenized text:\\n',split_word(clean_text[1])) #ข้อความสรุปใน cofact\n",
        "print('tokenized text:\\n',split_word(clean_text[2])) #หัวข่าวอ้างอิง\n",
        "print('tokenized text:\\n',split_word(clean_text[3])) #เนื้อหาข่าวอ้างอิง paragraph แรก"
      ]
    },
    {
      "cell_type": "code",
      "execution_count": 307,
      "metadata": {
        "id": "HICRgwo_KmwY"
      },
      "outputs": [],
      "source": [
        "tokens_list = [split_word(txt) for txt in clean_text]"
      ]
    },
    {
      "cell_type": "code",
      "execution_count": 308,
      "metadata": {
        "colab": {
          "base_uri": "https://localhost:8080/"
        },
        "id": "jklT-tV8KmwY",
        "outputId": "1db3e8cb-bc6f-42ab-f10c-cb46be421f4b"
      },
      "outputs": [
        {
          "data": {
            "text/plain": [
              "[['เด็ก',\n",
              "  'ฉีด',\n",
              "  'วัคซีน',\n",
              "  'เรียน',\n",
              "  'ควบคู่',\n",
              "  'เข้ม',\n",
              "  'งวด',\n",
              "  'มาตรการ',\n",
              "  'ป้องกัน',\n",
              "  'โรค',\n",
              "  'พิจารณา',\n",
              "  'คณะ',\n",
              "  'กรรมการ',\n",
              "  'โรค',\n",
              "  'ติดต่อ',\n",
              "  'จังหวัด',\n",
              "  'สาธิต',\n",
              "  'ปิตุ',\n",
              "  'เต',\n",
              "  'ชะ',\n",
              "  'รมช',\n",
              "  'สธ'],\n",
              " ['เด็ก',\n",
              "  'ฉีด',\n",
              "  'วัคซีน',\n",
              "  'เรียน',\n",
              "  'ควบคู่',\n",
              "  'เข้ม',\n",
              "  'งวด',\n",
              "  'มาตรการ',\n",
              "  'ป้องกัน',\n",
              "  'โรค',\n",
              "  'พิจารณา',\n",
              "  'คณะ',\n",
              "  'กรรมการ',\n",
              "  'โรค',\n",
              "  'ติดต่อ',\n",
              "  'จังหวัด',\n",
              "  'สำหรับ',\n",
              "  'เด็ก',\n",
              "  'โรค',\n",
              "  'ประจำ',\n",
              "  'ตัว',\n",
              "  'เรียน',\n",
              "  'หนังสือ',\n",
              "  'ระบบ',\n",
              "  'ศึกษา',\n",
              "  'วัคซีน',\n",
              "  'โรง',\n",
              "  'พยาบาล',\n",
              "  'รักษา',\n",
              "  'ประจำ',\n",
              "  'เด็ก',\n",
              "  'เรียน',\n",
              "  'บ้าน',\n",
              "  'โฮม',\n",
              "  'สคูล',\n",
              "  'ทะเบียน',\n",
              "  'วัคซีน',\n",
              "  'โรง',\n",
              "  'พยาบาล',\n",
              "  'บ้าน'],\n",
              " ['นา',\n",
              "  'ยกฯ',\n",
              "  'Kick',\n",
              "  'off',\n",
              "  'ฉีด',\n",
              "  'วัคซีน',\n",
              "  'ไฟ',\n",
              "  'เซอร์',\n",
              "  'นักเรียน',\n",
              "  'อายุ',\n",
              "  '–',\n",
              "  'ปี'],\n",
              " ['ก',\n",
              "  'ย',\n",
              "  'พล',\n",
              "  'อ',\n",
              "  'ประยุทธ์',\n",
              "  'จันทร์',\n",
              "  'โอชา',\n",
              "  'นายก',\n",
              "  'รัฐมนตรี',\n",
              "  'ประธาน',\n",
              "  'งาน',\n",
              "  'Kick',\n",
              "  'off',\n",
              "  'สร้าง',\n",
              "  'เกราะ',\n",
              "  'ป้องกัน',\n",
              "  'วัคซีน',\n",
              "  'เด็ก',\n",
              "  'ปลอดภัย',\n",
              "  'เรียน',\n",
              "  'อุ่น',\n",
              "  'ใจ',\n",
              "  'ต้อนรับ',\n",
              "  'เทอม',\n",
              "  'สร้าง',\n",
              "  'มั่น',\n",
              "  'ฉีด',\n",
              "  'วัคซีน',\n",
              "  'เด็ก',\n",
              "  'พ่อ',\n",
              "  'แม่',\n",
              "  'ปกครอง',\n",
              "  'ชู',\n",
              "  'มาตรการ',\n",
              "  'Sandbox',\n",
              "  'ลด',\n",
              "  'เสี่ยง',\n",
              "  'โค',\n",
              "  'วิด',\n",
              "  'โรงเรียน',\n",
              "  'พิบูลย์',\n",
              "  'อุปถัมภ์',\n",
              "  'กรุงเทพฯ']]"
            ]
          },
          "execution_count": 308,
          "metadata": {},
          "output_type": "execute_result"
        }
      ],
      "source": [
        "tokens_list"
      ]
    },
    {
      "cell_type": "markdown",
      "metadata": {
        "id": "CZ1xERQDKmwZ"
      },
      "source": [
        "**Step 3 + 4a: Bag of words + count word**"
      ]
    },
    {
      "cell_type": "code",
      "execution_count": 309,
      "metadata": {
        "id": "dPjwGlijKmwZ"
      },
      "outputs": [],
      "source": [
        "from sklearn.feature_extraction.text import CountVectorizer\n",
        "tokens_list_j = [','.join(tkn) for tkn in tokens_list]\n",
        "cvec = CountVectorizer(analyzer=lambda x:x.split(','))\n",
        "c_feat = cvec.fit_transform(tokens_list_j)"
      ]
    },
    {
      "cell_type": "code",
      "execution_count": 310,
      "metadata": {
        "colab": {
          "base_uri": "https://localhost:8080/"
        },
        "id": "Z02OxbmGKmwZ",
        "outputId": "253e8e80-8fe9-49fe-8dd0-ec76e403ca20"
      },
      "outputs": [
        {
          "data": {
            "text/plain": [
              "{'เด็ก': 61,\n",
              " 'ฉีด': 12,\n",
              " 'วัคซีน': 45,\n",
              " 'เรียน': 64,\n",
              " 'ควบคู่': 7,\n",
              " 'เข้ม': 59,\n",
              " 'งวด': 8,\n",
              " 'มาตรการ': 37,\n",
              " 'ป้องกัน': 30,\n",
              " 'โรค': 68,\n",
              " 'พิจารณา': 33,\n",
              " 'คณะ': 6,\n",
              " 'กรรมการ': 4,\n",
              " 'ติดต่อ': 16,\n",
              " 'จังหวัด': 10,\n",
              " 'สาธิต': 51,\n",
              " 'ปิตุ': 28,\n",
              " 'เต': 62,\n",
              " 'ชะ': 13,\n",
              " 'รมช': 40,\n",
              " 'สธ': 49,\n",
              " 'สำหรับ': 52,\n",
              " 'ประจำ': 24,\n",
              " 'ตัว': 15,\n",
              " 'หนังสือ': 53,\n",
              " 'ระบบ': 41,\n",
              " 'ศึกษา': 47,\n",
              " 'โรง': 69,\n",
              " 'พยาบาล': 31,\n",
              " 'รักษา': 42,\n",
              " 'บ้าน': 22,\n",
              " 'โฮม': 72,\n",
              " 'สคูล': 48,\n",
              " 'ทะเบียน': 18,\n",
              " 'นา': 20,\n",
              " 'ยกฯ': 39,\n",
              " 'Kick': 0,\n",
              " 'off': 2,\n",
              " 'ไฟ': 74,\n",
              " 'เซอร์': 60,\n",
              " 'นักเรียน': 19,\n",
              " 'อายุ': 55,\n",
              " '–': 75,\n",
              " 'ปี': 29,\n",
              " 'ก': 3,\n",
              " 'ย': 38,\n",
              " 'พล': 32,\n",
              " 'อ': 54,\n",
              " 'ประยุทธ์': 26,\n",
              " 'จันทร์': 11,\n",
              " 'โอชา': 71,\n",
              " 'นายก': 21,\n",
              " 'รัฐมนตรี': 43,\n",
              " 'ประธาน': 25,\n",
              " 'งาน': 9,\n",
              " 'สร้าง': 50,\n",
              " 'เกราะ': 58,\n",
              " 'ปลอดภัย': 27,\n",
              " 'อุ่น': 57,\n",
              " 'ใจ': 73,\n",
              " 'ต้อนรับ': 17,\n",
              " 'เทอม': 63,\n",
              " 'มั่น': 36,\n",
              " 'พ่อ': 35,\n",
              " 'แม่': 66,\n",
              " 'ปกครอง': 23,\n",
              " 'ชู': 14,\n",
              " 'Sandbox': 1,\n",
              " 'ลด': 44,\n",
              " 'เสี่ยง': 65,\n",
              " 'โค': 67,\n",
              " 'วิด': 46,\n",
              " 'โรงเรียน': 70,\n",
              " 'พิบูลย์': 34,\n",
              " 'อุปถัมภ์': 56,\n",
              " 'กรุงเทพฯ': 5}"
            ]
          },
          "execution_count": 310,
          "metadata": {},
          "output_type": "execute_result"
        }
      ],
      "source": [
        "cvec.vocabulary_"
      ]
    },
    {
      "cell_type": "code",
      "execution_count": 311,
      "metadata": {
        "colab": {
          "base_uri": "https://localhost:8080/"
        },
        "id": "vy48KL_6KmwZ",
        "outputId": "99461186-89aa-4a8d-99fe-763d0acb0bad"
      },
      "outputs": [
        {
          "data": {
            "text/plain": [
              "matrix([[0, 0, 0, 0, 1, 0, 1, 1, 1, 0, 1, 0, 1, 1, 0, 0, 1, 0, 0, 0, 0,\n",
              "         0, 0, 0, 0, 0, 0, 0, 1, 0, 1, 0, 0, 1, 0, 0, 0, 1, 0, 0, 1, 0,\n",
              "         0, 0, 0, 1, 0, 0, 0, 1, 0, 1, 0, 0, 0, 0, 0, 0, 0, 1, 0, 1, 1,\n",
              "         0, 1, 0, 0, 0, 2, 0, 0, 0, 0, 0, 0, 0],\n",
              "        [0, 0, 0, 0, 1, 0, 1, 1, 1, 0, 1, 0, 1, 0, 0, 1, 1, 0, 1, 0, 0,\n",
              "         0, 2, 0, 2, 0, 0, 0, 0, 0, 1, 2, 0, 1, 0, 0, 0, 1, 0, 0, 0, 1,\n",
              "         1, 0, 0, 3, 0, 1, 1, 0, 0, 0, 1, 1, 0, 0, 0, 0, 0, 1, 0, 3, 0,\n",
              "         0, 3, 0, 0, 0, 3, 2, 0, 0, 1, 0, 0, 0],\n",
              "        [1, 0, 1, 0, 0, 0, 0, 0, 0, 0, 0, 0, 1, 0, 0, 0, 0, 0, 0, 1, 1,\n",
              "         0, 0, 0, 0, 0, 0, 0, 0, 1, 0, 0, 0, 0, 0, 0, 0, 0, 0, 1, 0, 0,\n",
              "         0, 0, 0, 1, 0, 0, 0, 0, 0, 0, 0, 0, 0, 1, 0, 0, 0, 0, 1, 0, 0,\n",
              "         0, 0, 0, 0, 0, 0, 0, 0, 0, 0, 0, 1, 1],\n",
              "        [1, 1, 1, 1, 0, 1, 0, 0, 0, 1, 0, 1, 1, 0, 1, 0, 0, 1, 0, 0, 0,\n",
              "         1, 0, 1, 0, 1, 1, 1, 0, 0, 1, 0, 1, 0, 1, 1, 1, 1, 1, 0, 0, 0,\n",
              "         0, 1, 1, 2, 1, 0, 0, 0, 2, 0, 0, 0, 1, 0, 1, 1, 1, 0, 0, 2, 0,\n",
              "         1, 1, 1, 1, 1, 0, 0, 1, 1, 0, 1, 0, 0]], dtype=int64)"
            ]
          },
          "execution_count": 311,
          "metadata": {},
          "output_type": "execute_result"
        }
      ],
      "source": [
        "c_feat[:,:].todense()"
      ]
    },
    {
      "cell_type": "code",
      "execution_count": 312,
      "metadata": {
        "colab": {
          "base_uri": "https://localhost:8080/"
        },
        "id": "zCg4-8F4KmwZ",
        "outputId": "0acddeec-c273-4eb4-c834-6acdbedec4af"
      },
      "outputs": [
        {
          "name": "stdout",
          "output_type": "stream",
          "text": [
            "[[0 0 0 0 1 0 1 1 1 0 1 0 1 1 0 0 1 0 0 0 0 0 0 0 0 0 0 0 1 0 1 0 0 1 0 0\n",
            "  0 1 0 0 1 0 0 0 0 1 0 0 0 1 0 1 0 0 0 0 0 0 0 1 0 1 1 0 1 0 0 0 2 0 0 0\n",
            "  0 0 0 0]\n",
            " [0 0 0 0 1 0 1 1 1 0 1 0 1 0 0 1 1 0 1 0 0 0 2 0 2 0 0 0 0 0 1 2 0 1 0 0\n",
            "  0 1 0 0 0 1 1 0 0 3 0 1 1 0 0 0 1 1 0 0 0 0 0 1 0 3 0 0 3 0 0 0 3 2 0 0\n",
            "  1 0 0 0]\n",
            " [1 0 1 0 0 0 0 0 0 0 0 0 1 0 0 0 0 0 0 1 1 0 0 0 0 0 0 0 0 1 0 0 0 0 0 0\n",
            "  0 0 0 1 0 0 0 0 0 1 0 0 0 0 0 0 0 0 0 1 0 0 0 0 1 0 0 0 0 0 0 0 0 0 0 0\n",
            "  0 0 1 1]\n",
            " [1 1 1 1 0 1 0 0 0 1 0 1 1 0 1 0 0 1 0 0 0 1 0 1 0 1 1 1 0 0 1 0 1 0 1 1\n",
            "  1 1 1 0 0 0 0 1 1 2 1 0 0 0 2 0 0 0 1 0 1 1 1 0 0 2 0 1 1 1 1 1 0 0 1 1\n",
            "  0 1 0 0]]\n"
          ]
        }
      ],
      "source": [
        "#first_news เป็น array ของข่าว โดย row ที่ 1 = ข่าวที่ต้องการตรวจสอบจาก cofact, row ที่ 2 = ข้อความสรุปใน cofact, row ที่ 3 = หัวข้อข่าวที่เชื่อถือได้ , row ที่ 4 = เนื้อหาข่าว paragraph แรกของข่าวที่เชื่อถือได้\n",
        "first_news = c_feat[:,:].todense()\n",
        "print(first_news) "
      ]
    },
    {
      "cell_type": "code",
      "execution_count": 313,
      "metadata": {
        "colab": {
          "base_uri": "https://localhost:8080/"
        },
        "id": "U8YWD7J1KmwZ",
        "outputId": "7c886a8c-5b38-43cf-d872-b2072693ca06"
      },
      "outputs": [
        {
          "data": {
            "text/plain": [
              "76"
            ]
          },
          "execution_count": 313,
          "metadata": {},
          "output_type": "execute_result"
        }
      ],
      "source": [
        "first_news.shape[1]"
      ]
    },
    {
      "cell_type": "code",
      "execution_count": 314,
      "metadata": {
        "colab": {
          "base_uri": "https://localhost:8080/"
        },
        "id": "02HiB-0IKmwa",
        "outputId": "76ea61f7-9de7-44f9-b4d8-7ebb971af73d"
      },
      "outputs": [
        {
          "name": "stdout",
          "output_type": "stream",
          "text": [
            "This is sum (upperpart) : 26\n",
            "This is lowerpart : 41.56921938165305\n"
          ]
        },
        {
          "data": {
            "text/plain": [
              "0.6254627916220946"
            ]
          },
          "execution_count": 314,
          "metadata": {},
          "output_type": "execute_result"
        }
      ],
      "source": [
        "find_cosine_similarity(first_news, 0, 1) #เทียบ ข้อความที่ต้องการตรวจสอบบน cofact กับ ข้อความสรุปใน cofact"
      ]
    },
    {
      "cell_type": "code",
      "execution_count": 315,
      "metadata": {
        "colab": {
          "base_uri": "https://localhost:8080/"
        },
        "id": "6EiAftseKmwa",
        "outputId": "636a55ab-0d83-4aea-e76c-c83c0cfd5bdd"
      },
      "outputs": [
        {
          "name": "stdout",
          "output_type": "stream",
          "text": [
            "This is sum (upperpart) : 2\n",
            "This is lowerpart : 16.97056274847714\n"
          ]
        },
        {
          "data": {
            "text/plain": [
              "0.11785113019775793"
            ]
          },
          "execution_count": 315,
          "metadata": {},
          "output_type": "execute_result"
        }
      ],
      "source": [
        "find_cosine_similarity(first_news, 0, 2)#เทียบ ข้อความที่ต้องการตรวจสอบบน cofact กับ หัวข้อข่าวที่เชื่อถือได้"
      ]
    },
    {
      "cell_type": "code",
      "execution_count": 316,
      "metadata": {
        "colab": {
          "base_uri": "https://localhost:8080/"
        },
        "id": "ETuvaI5jKmwa",
        "outputId": "fdc5e65f-a33d-47d2-a26d-044a0164f094"
      },
      "outputs": [
        {
          "name": "stdout",
          "output_type": "stream",
          "text": [
            "This is sum (upperpart) : 8\n",
            "This is lowerpart : 34.29285639896449\n"
          ]
        },
        {
          "data": {
            "text/plain": [
              "0.23328473740792174"
            ]
          },
          "execution_count": 316,
          "metadata": {},
          "output_type": "execute_result"
        }
      ],
      "source": [
        "find_cosine_similarity(first_news, 0, 3)#เทียบ ข้อความที่ต้องการตรวจสอบบน cofact กับ เนื้อหาข่าว paragraph แรกของข่าวที่เชื่อถือได้"
      ]
    },
    {
      "cell_type": "code",
      "execution_count": null,
      "metadata": {
        "id": "setBRNyqLtJo"
      },
      "outputs": [],
      "source": []
    },
    {
      "cell_type": "markdown",
      "metadata": {
        "id": "k86XwSx-LtcP"
      },
      "source": [
        "# ข่าวที่ 27"
      ]
    },
    {
      "cell_type": "code",
      "execution_count": 317,
      "metadata": {
        "id": "nrIaITQ5LtcQ"
      },
      "outputs": [],
      "source": [
        "clean_text = ['หมอระบบประสาทบอกว่า ผลไม่ต่างจากระบบฝังเข็ม มือซ้ายจับหูขวา มือขวาจับหูซ้าย กระตุ้นการทำงานสมองซีกซ้ายและซีกขวาดีสำหรับคนปกติทุกเพศ ทุกวัย คนขี้หลงขี้ลืม Alzheimer แม้แต่ Autistic ก็จะค่อยๆดีขึ้นมือซ้ายจับติ่งหูขวามือขวาจับติ่งหูซ้ายย่อตัวลงหายใจเข้ายืดตัวขึ้นหายใจออกหมอเรียกวิธีนี้ว่า Superbrain Yogaทำวันละ 3 นาทีง่ายมั้ยล่ะ','ตามที่มีการเผยแพร่ในสื่อต่าง ๆ เกี่ยวกับประเด็น ท่าบริหาร SuperBrain Yoga ช่วยกระตุ้นการทำงานของสมองซีกซ้ายและซีกขวาได้ ทางศูนย์ต่อต้านข่าวปลอมได้ดำเนินการตรวจสอบข้อเท็จจริงโดย สถาบันประสาทวิทยา พบว่าประเด็นดังกล่าวนั้น เป็นข้อมูลบิดเบือน','ข่าวบิดเบือน ท่าบริหาร SuperBrain Yoga ช่วยกระตุ้นการทำงานของสมองซีกซ้ายและซีกขวาได้','ตามที่มีการเผยแพร่ในสื่อต่าง ๆ เกี่ยวกับประเด็น ท่าบริหาร SuperBrain Yoga ช่วยกระตุ้นการทำงานของสมองซีกซ้ายและซีกขวาได้ ทางศูนย์ต่อต้านข่าวปลอมได้ดำเนินการตรวจสอบข้อเท็จจริงโดย สถาบันประสาทวิทยา พบว่าประเด็นดังกล่าวนั้น เป็นข้อมูลบิดเบือน']"
      ]
    },
    {
      "cell_type": "markdown",
      "metadata": {
        "id": "kyUnftvILtcQ"
      },
      "source": [
        "**Step 2: Tokenize**"
      ]
    },
    {
      "cell_type": "code",
      "execution_count": 318,
      "metadata": {
        "colab": {
          "base_uri": "https://localhost:8080/"
        },
        "id": "6z859Pq0LtcQ",
        "outputId": "7e96a381-6d2b-45ca-dc0f-9efc0076da6c"
      },
      "outputs": [
        {
          "name": "stdout",
          "output_type": "stream",
          "text": [
            "tokenized text:\n",
            " ['หมอ', 'ระบบ', 'ประสาท', 'ระบบ', 'ฝัง', 'เข็ม', 'มือ', 'ซ้าย', 'หู', 'ขวา', 'มือขวา', 'หู', 'ซ้าย', 'กระตุ้น', 'ทำงาน', 'สมอง', 'ซีก', 'ซ้าย', 'ซีก', 'ขวา', 'ดี', 'สำหรับ', 'คน', 'ปกติ', 'เพศ', 'วัย', 'คน', 'ขี้', 'หลง', 'ขี้', 'ลืม', 'Alzheimer', 'Autistic', 'ดี', 'มือ', 'ซ้าย', 'ติ่งหู', 'ขวา', 'มือขวา', 'ติ่งหู', 'ซ้าย', 'ย่อ', 'ตัว', 'หายใจ', 'ยืด', 'ตัว', 'หายใจ', 'หมอ', 'วิธี', 'Superbrain', 'Yoga', 'ทำ', 'นาที', 'ล่ะ']\n",
            "tokenized text:\n",
            " ['เผย', 'แพร่', 'สื่อ', 'เกี่ยว', 'ประเด็น', 'ท่า', 'บริหาร', 'SuperBrain', 'Yoga', 'กระตุ้น', 'ทำงาน', 'สมอง', 'ซีก', 'ซ้าย', 'ซีก', 'ขวา', 'ศูนย์', 'ต้าน', 'ข่าว', 'ปลอม', 'ดำเนิน', 'ตรวจ', 'สอบ', 'ข้อ', 'เท็จ', 'สถาบัน', 'ประสาท', 'วิทยา', 'ประเด็น', 'ข้อมูล', 'บิดเบือน']\n",
            "tokenized text:\n",
            " ['ข่าว', 'บิดเบือน', 'ท่า', 'บริหาร', 'SuperBrain', 'Yoga', 'กระตุ้น', 'ทำงาน', 'สมอง', 'ซีก', 'ซ้าย', 'ซีก', 'ขวา']\n",
            "tokenized text:\n",
            " ['เผย', 'แพร่', 'สื่อ', 'เกี่ยว', 'ประเด็น', 'ท่า', 'บริหาร', 'SuperBrain', 'Yoga', 'กระตุ้น', 'ทำงาน', 'สมอง', 'ซีก', 'ซ้าย', 'ซีก', 'ขวา', 'ศูนย์', 'ต้าน', 'ข่าว', 'ปลอม', 'ดำเนิน', 'ตรวจ', 'สอบ', 'ข้อ', 'เท็จ', 'สถาบัน', 'ประสาท', 'วิทยา', 'ประเด็น', 'ข้อมูล', 'บิดเบือน']\n"
          ]
        }
      ],
      "source": [
        "print('tokenized text:\\n',split_word(clean_text[0])) #ข้อความที่ต้องการตรวจสอบบน cofact\n",
        "print('tokenized text:\\n',split_word(clean_text[1])) #ข้อความสรุปใน cofact\n",
        "print('tokenized text:\\n',split_word(clean_text[2])) #หัวข่าวอ้างอิง\n",
        "print('tokenized text:\\n',split_word(clean_text[3])) #เนื้อหาข่าวอ้างอิง paragraph แรก"
      ]
    },
    {
      "cell_type": "code",
      "execution_count": 319,
      "metadata": {
        "id": "B0rKIBvsLtcQ"
      },
      "outputs": [],
      "source": [
        "tokens_list = [split_word(txt) for txt in clean_text]"
      ]
    },
    {
      "cell_type": "code",
      "execution_count": 320,
      "metadata": {
        "colab": {
          "base_uri": "https://localhost:8080/"
        },
        "id": "IjeYTSmhLtcQ",
        "outputId": "d7cd0902-34d2-477d-97bc-35431d012d57"
      },
      "outputs": [
        {
          "data": {
            "text/plain": [
              "[['หมอ',\n",
              "  'ระบบ',\n",
              "  'ประสาท',\n",
              "  'ระบบ',\n",
              "  'ฝัง',\n",
              "  'เข็ม',\n",
              "  'มือ',\n",
              "  'ซ้าย',\n",
              "  'หู',\n",
              "  'ขวา',\n",
              "  'มือขวา',\n",
              "  'หู',\n",
              "  'ซ้าย',\n",
              "  'กระตุ้น',\n",
              "  'ทำงาน',\n",
              "  'สมอง',\n",
              "  'ซีก',\n",
              "  'ซ้าย',\n",
              "  'ซีก',\n",
              "  'ขวา',\n",
              "  'ดี',\n",
              "  'สำหรับ',\n",
              "  'คน',\n",
              "  'ปกติ',\n",
              "  'เพศ',\n",
              "  'วัย',\n",
              "  'คน',\n",
              "  'ขี้',\n",
              "  'หลง',\n",
              "  'ขี้',\n",
              "  'ลืม',\n",
              "  'Alzheimer',\n",
              "  'Autistic',\n",
              "  'ดี',\n",
              "  'มือ',\n",
              "  'ซ้าย',\n",
              "  'ติ่งหู',\n",
              "  'ขวา',\n",
              "  'มือขวา',\n",
              "  'ติ่งหู',\n",
              "  'ซ้าย',\n",
              "  'ย่อ',\n",
              "  'ตัว',\n",
              "  'หายใจ',\n",
              "  'ยืด',\n",
              "  'ตัว',\n",
              "  'หายใจ',\n",
              "  'หมอ',\n",
              "  'วิธี',\n",
              "  'Superbrain',\n",
              "  'Yoga',\n",
              "  'ทำ',\n",
              "  'นาที',\n",
              "  'ล่ะ'],\n",
              " ['เผย',\n",
              "  'แพร่',\n",
              "  'สื่อ',\n",
              "  'เกี่ยว',\n",
              "  'ประเด็น',\n",
              "  'ท่า',\n",
              "  'บริหาร',\n",
              "  'SuperBrain',\n",
              "  'Yoga',\n",
              "  'กระตุ้น',\n",
              "  'ทำงาน',\n",
              "  'สมอง',\n",
              "  'ซีก',\n",
              "  'ซ้าย',\n",
              "  'ซีก',\n",
              "  'ขวา',\n",
              "  'ศูนย์',\n",
              "  'ต้าน',\n",
              "  'ข่าว',\n",
              "  'ปลอม',\n",
              "  'ดำเนิน',\n",
              "  'ตรวจ',\n",
              "  'สอบ',\n",
              "  'ข้อ',\n",
              "  'เท็จ',\n",
              "  'สถาบัน',\n",
              "  'ประสาท',\n",
              "  'วิทยา',\n",
              "  'ประเด็น',\n",
              "  'ข้อมูล',\n",
              "  'บิดเบือน'],\n",
              " ['ข่าว',\n",
              "  'บิดเบือน',\n",
              "  'ท่า',\n",
              "  'บริหาร',\n",
              "  'SuperBrain',\n",
              "  'Yoga',\n",
              "  'กระตุ้น',\n",
              "  'ทำงาน',\n",
              "  'สมอง',\n",
              "  'ซีก',\n",
              "  'ซ้าย',\n",
              "  'ซีก',\n",
              "  'ขวา'],\n",
              " ['เผย',\n",
              "  'แพร่',\n",
              "  'สื่อ',\n",
              "  'เกี่ยว',\n",
              "  'ประเด็น',\n",
              "  'ท่า',\n",
              "  'บริหาร',\n",
              "  'SuperBrain',\n",
              "  'Yoga',\n",
              "  'กระตุ้น',\n",
              "  'ทำงาน',\n",
              "  'สมอง',\n",
              "  'ซีก',\n",
              "  'ซ้าย',\n",
              "  'ซีก',\n",
              "  'ขวา',\n",
              "  'ศูนย์',\n",
              "  'ต้าน',\n",
              "  'ข่าว',\n",
              "  'ปลอม',\n",
              "  'ดำเนิน',\n",
              "  'ตรวจ',\n",
              "  'สอบ',\n",
              "  'ข้อ',\n",
              "  'เท็จ',\n",
              "  'สถาบัน',\n",
              "  'ประสาท',\n",
              "  'วิทยา',\n",
              "  'ประเด็น',\n",
              "  'ข้อมูล',\n",
              "  'บิดเบือน']]"
            ]
          },
          "execution_count": 320,
          "metadata": {},
          "output_type": "execute_result"
        }
      ],
      "source": [
        "tokens_list"
      ]
    },
    {
      "cell_type": "markdown",
      "metadata": {
        "id": "uATbjnhELtcR"
      },
      "source": [
        "**Step 3 + 4a: Bag of words + count word**"
      ]
    },
    {
      "cell_type": "code",
      "execution_count": 321,
      "metadata": {
        "id": "ctpupK0xLtcR"
      },
      "outputs": [],
      "source": [
        "from sklearn.feature_extraction.text import CountVectorizer\n",
        "tokens_list_j = [','.join(tkn) for tkn in tokens_list]\n",
        "cvec = CountVectorizer(analyzer=lambda x:x.split(','))\n",
        "c_feat = cvec.fit_transform(tokens_list_j)"
      ]
    },
    {
      "cell_type": "code",
      "execution_count": 322,
      "metadata": {
        "colab": {
          "base_uri": "https://localhost:8080/"
        },
        "id": "5iuUTuLrLtcR",
        "outputId": "114ecf29-f78d-4cfc-ee4c-d211fa71820f"
      },
      "outputs": [
        {
          "data": {
            "text/plain": [
              "{'หมอ': 47,\n",
              " 'ระบบ': 35,\n",
              " 'ประสาท': 27,\n",
              " 'ฝัง': 30,\n",
              " 'เข็ม': 52,\n",
              " 'มือ': 31,\n",
              " 'ซ้าย': 13,\n",
              " 'หู': 50,\n",
              " 'ขวา': 6,\n",
              " 'มือขวา': 32,\n",
              " 'กระตุ้น': 5,\n",
              " 'ทำงาน': 21,\n",
              " 'สมอง': 43,\n",
              " 'ซีก': 12,\n",
              " 'ดี': 15,\n",
              " 'สำหรับ': 45,\n",
              " 'คน': 11,\n",
              " 'ปกติ': 26,\n",
              " 'เพศ': 55,\n",
              " 'วัย': 38,\n",
              " 'ขี้': 7,\n",
              " 'หลง': 48,\n",
              " 'ลืม': 36,\n",
              " 'Alzheimer': 0,\n",
              " 'Autistic': 1,\n",
              " 'ติ่งหู': 18,\n",
              " 'ย่อ': 34,\n",
              " 'ตัว': 17,\n",
              " 'หายใจ': 49,\n",
              " 'ยืด': 33,\n",
              " 'วิธี': 40,\n",
              " 'Superbrain': 3,\n",
              " 'Yoga': 4,\n",
              " 'ทำ': 20,\n",
              " 'นาที': 23,\n",
              " 'ล่ะ': 37,\n",
              " 'เผย': 54,\n",
              " 'แพร่': 56,\n",
              " 'สื่อ': 46,\n",
              " 'เกี่ยว': 51,\n",
              " 'ประเด็น': 28,\n",
              " 'ท่า': 22,\n",
              " 'บริหาร': 24,\n",
              " 'SuperBrain': 2,\n",
              " 'ศูนย์': 41,\n",
              " 'ต้าน': 19,\n",
              " 'ข่าว': 8,\n",
              " 'ปลอม': 29,\n",
              " 'ดำเนิน': 14,\n",
              " 'ตรวจ': 16,\n",
              " 'สอบ': 44,\n",
              " 'ข้อ': 9,\n",
              " 'เท็จ': 53,\n",
              " 'สถาบัน': 42,\n",
              " 'วิทยา': 39,\n",
              " 'ข้อมูล': 10,\n",
              " 'บิดเบือน': 25}"
            ]
          },
          "execution_count": 322,
          "metadata": {},
          "output_type": "execute_result"
        }
      ],
      "source": [
        "cvec.vocabulary_"
      ]
    },
    {
      "cell_type": "code",
      "execution_count": 323,
      "metadata": {
        "colab": {
          "base_uri": "https://localhost:8080/"
        },
        "id": "CzHzBc4nLtcR",
        "outputId": "2aa8404a-f203-44ed-a976-ee7d234c7d8b"
      },
      "outputs": [
        {
          "data": {
            "text/plain": [
              "matrix([[1, 1, 0, 1, 1, 1, 3, 2, 0, 0, 0, 2, 2, 5, 0, 2, 0, 2, 2, 0, 1,\n",
              "         1, 0, 1, 0, 0, 1, 1, 0, 0, 1, 2, 2, 1, 1, 2, 1, 1, 1, 0, 1, 0,\n",
              "         0, 1, 0, 1, 0, 2, 1, 2, 2, 0, 1, 0, 0, 1, 0],\n",
              "        [0, 0, 1, 0, 1, 1, 1, 0, 1, 1, 1, 0, 2, 1, 1, 0, 1, 0, 0, 1, 0,\n",
              "         1, 1, 0, 1, 1, 0, 1, 2, 1, 0, 0, 0, 0, 0, 0, 0, 0, 0, 1, 0, 1,\n",
              "         1, 1, 1, 0, 1, 0, 0, 0, 0, 1, 0, 1, 1, 0, 1],\n",
              "        [0, 0, 1, 0, 1, 1, 1, 0, 1, 0, 0, 0, 2, 1, 0, 0, 0, 0, 0, 0, 0,\n",
              "         1, 1, 0, 1, 1, 0, 0, 0, 0, 0, 0, 0, 0, 0, 0, 0, 0, 0, 0, 0, 0,\n",
              "         0, 1, 0, 0, 0, 0, 0, 0, 0, 0, 0, 0, 0, 0, 0],\n",
              "        [0, 0, 1, 0, 1, 1, 1, 0, 1, 1, 1, 0, 2, 1, 1, 0, 1, 0, 0, 1, 0,\n",
              "         1, 1, 0, 1, 1, 0, 1, 2, 1, 0, 0, 0, 0, 0, 0, 0, 0, 0, 1, 0, 1,\n",
              "         1, 1, 1, 0, 1, 0, 0, 0, 0, 1, 0, 1, 1, 0, 1]], dtype=int64)"
            ]
          },
          "execution_count": 323,
          "metadata": {},
          "output_type": "execute_result"
        }
      ],
      "source": [
        "c_feat[:,:].todense()"
      ]
    },
    {
      "cell_type": "code",
      "execution_count": 324,
      "metadata": {
        "colab": {
          "base_uri": "https://localhost:8080/"
        },
        "id": "U6gAiqKsLtcR",
        "outputId": "fc687859-206a-4179-cf09-49b88d7be5f4"
      },
      "outputs": [
        {
          "name": "stdout",
          "output_type": "stream",
          "text": [
            "[[1 1 0 1 1 1 3 2 0 0 0 2 2 5 0 2 0 2 2 0 1 1 0 1 0 0 1 1 0 0 1 2 2 1 1 2\n",
            "  1 1 1 0 1 0 0 1 0 1 0 2 1 2 2 0 1 0 0 1 0]\n",
            " [0 0 1 0 1 1 1 0 1 1 1 0 2 1 1 0 1 0 0 1 0 1 1 0 1 1 0 1 2 1 0 0 0 0 0 0\n",
            "  0 0 0 1 0 1 1 1 1 0 1 0 0 0 0 1 0 1 1 0 1]\n",
            " [0 0 1 0 1 1 1 0 1 0 0 0 2 1 0 0 0 0 0 0 0 1 1 0 1 1 0 0 0 0 0 0 0 0 0 0\n",
            "  0 0 0 0 0 0 0 1 0 0 0 0 0 0 0 0 0 0 0 0 0]\n",
            " [0 0 1 0 1 1 1 0 1 1 1 0 2 1 1 0 1 0 0 1 0 1 1 0 1 1 0 1 2 1 0 0 0 0 0 0\n",
            "  0 0 0 1 0 1 1 1 1 0 1 0 0 0 0 1 0 1 1 0 1]]\n"
          ]
        }
      ],
      "source": [
        "#first_news เป็น array ของข่าว โดย row ที่ 1 = ข่าวที่ต้องการตรวจสอบจาก cofact, row ที่ 2 = ข้อความสรุปใน cofact, row ที่ 3 = หัวข้อข่าวที่เชื่อถือได้ , row ที่ 4 = เนื้อหาข่าว paragraph แรกของข่าวที่เชื่อถือได้\n",
        "first_news = c_feat[:,:].todense()\n",
        "print(first_news) "
      ]
    },
    {
      "cell_type": "code",
      "execution_count": 325,
      "metadata": {
        "colab": {
          "base_uri": "https://localhost:8080/"
        },
        "id": "PGYX_wnLLtcR",
        "outputId": "6e4ba5b4-a59a-4cd2-b205-877b7d9b08f6"
      },
      "outputs": [
        {
          "data": {
            "text/plain": [
              "57"
            ]
          },
          "execution_count": 325,
          "metadata": {},
          "output_type": "execute_result"
        }
      ],
      "source": [
        "first_news.shape[1]"
      ]
    },
    {
      "cell_type": "code",
      "execution_count": 326,
      "metadata": {
        "colab": {
          "base_uri": "https://localhost:8080/"
        },
        "id": "Ifuwsk8JLtcS",
        "outputId": "b42c54c7-b306-4342-f29c-fa7757efe40f"
      },
      "outputs": [
        {
          "name": "stdout",
          "output_type": "stream",
          "text": [
            "This is sum (upperpart) : 17\n",
            "This is lowerpart : 60.33241251599342\n"
          ]
        },
        {
          "data": {
            "text/plain": [
              "0.28177225625601326"
            ]
          },
          "execution_count": 326,
          "metadata": {},
          "output_type": "execute_result"
        }
      ],
      "source": [
        "find_cosine_similarity(first_news, 0, 1) #เทียบ ข้อความที่ต้องการตรวจสอบบน cofact กับ ข้อความสรุปใน cofact"
      ]
    },
    {
      "cell_type": "code",
      "execution_count": 327,
      "metadata": {
        "colab": {
          "base_uri": "https://localhost:8080/"
        },
        "id": "59YeRB8QLtcS",
        "outputId": "c4492dcf-36fb-447f-f851-3ece8c4f6b60"
      },
      "outputs": [
        {
          "name": "stdout",
          "output_type": "stream",
          "text": [
            "This is sum (upperpart) : 16\n",
            "This is lowerpart : 39.496835316262995\n"
          ]
        },
        {
          "data": {
            "text/plain": [
              "0.40509574683346666"
            ]
          },
          "execution_count": 327,
          "metadata": {},
          "output_type": "execute_result"
        }
      ],
      "source": [
        "find_cosine_similarity(first_news, 0, 2)#เทียบ ข้อความที่ต้องการตรวจสอบบน cofact กับ หัวข้อข่าวที่เชื่อถือได้"
      ]
    },
    {
      "cell_type": "code",
      "execution_count": 328,
      "metadata": {
        "colab": {
          "base_uri": "https://localhost:8080/"
        },
        "id": "0jQeCcprLtcS",
        "outputId": "b0818960-7d87-490e-cfbe-1ba3aeb3ffaf"
      },
      "outputs": [
        {
          "name": "stdout",
          "output_type": "stream",
          "text": [
            "This is sum (upperpart) : 17\n",
            "This is lowerpart : 60.33241251599342\n"
          ]
        },
        {
          "data": {
            "text/plain": [
              "0.28177225625601326"
            ]
          },
          "execution_count": 328,
          "metadata": {},
          "output_type": "execute_result"
        }
      ],
      "source": [
        "find_cosine_similarity(first_news, 0, 3)#เทียบ ข้อความที่ต้องการตรวจสอบบน cofact กับ เนื้อหาข่าว paragraph แรกของข่าวที่เชื่อถือได้"
      ]
    },
    {
      "cell_type": "code",
      "execution_count": null,
      "metadata": {
        "id": "Z0dgP7wGNP-G"
      },
      "outputs": [],
      "source": []
    },
    {
      "cell_type": "markdown",
      "metadata": {
        "id": "ngMdguooNQ0d"
      },
      "source": [
        "# ข่าวที่ 28"
      ]
    },
    {
      "cell_type": "code",
      "execution_count": 329,
      "metadata": {
        "id": "7oF34RzHNQ0e"
      },
      "outputs": [],
      "source": [
        "clean_text = ['การเดินทางไปต่างประเทศ ต้องแสดงวัคซีน พาสปอร์ต ที่ออกโดยรัฐ เท่านั้น','ผู้ที่ฉีดวัคซีนโควิด-19 แล้ว หายป่วยจากโรคโควิด หรือมีผลตรวจโควิดเป็นลบ เพื่อที่จะสามารถเดินทางท่องเที่ยวในยุโรปได้ส่วน สหราชอาณาจักรเอง ก็กำลังจะออกวัคซีนพาสปอร์ตเช่นกัน เพื่อใช้ในการเดินทางท่องเที่ยวในอังกฤษ ยุโรป และ ประเทศที่อังกฤษอนุญาตให้เดินทางไปกลับได้โดยไม่ต้องกักตัว','\"วัคซีนพาสปอร์ต\" บัตรผ่านเดินทางในต่างประเทศ เงื่อนไข ขั้นตอนการขอไม่ยุ่งยาก','วัคซีนพาสปอร์ต ใบเบิกทาง เดินทางท่องเที่ยวในต่างประเทศขั้นตอนการเตรียมเอกสาร ยื่นขอวัคซีนพาสปอร์ต ไม่ยุ่งยากอย่างที่คิดหากใครที่ติดตามข่าว พล.อ.ประยุทธ์ จันทร์โอชา นายกรัฐมนตรี เดินทางเข้ารับการฉีดวัคซีนแอสตราเซเนกา ป้องกันโควิด-19 เข็มที่ 2 เมื่อช่วงเช้าวันนี้ (24 พ.ค.) หลังฉีดวัคซีนเข็มแรกไปเมื่อวันที่ 16 มี.ค.64 จากนั้น อธิบดีกรมควบคุมโรค ได้มอบ \"วัคซีนพาสปอร์ต\" ให้กับนายกฯ ใช้ในการเดินทางไปต่างประเทศ โดยแนบกับหนังสือเดินทาง เพื่อเป็นการยืนยันว่า ปราศจากเชื้อโควิด และได้รับการฉีดวัคซีนครบแล้ว 2 โดส ซึ่งบางคนคงมีคำถามว่า \"วัคซีนพาสปอร์ต\" คืออะไร และสามารถใช้เดินทางเข้าประเทศไหนได้บ้าง']"
      ]
    },
    {
      "cell_type": "markdown",
      "metadata": {
        "id": "dP087BM-NQ0e"
      },
      "source": [
        "**Step 2: Tokenize**"
      ]
    },
    {
      "cell_type": "code",
      "execution_count": 330,
      "metadata": {
        "colab": {
          "base_uri": "https://localhost:8080/"
        },
        "id": "s1s1LYGRNQ0e",
        "outputId": "a67e5f26-bfdd-48a3-8141-08f0b004bc23"
      },
      "outputs": [
        {
          "name": "stdout",
          "output_type": "stream",
          "text": [
            "tokenized text:\n",
            " ['เดิน', 'ประเทศ', 'วัคซีน', 'พาส', 'ปอร์ต', 'รัฐ']\n",
            "tokenized text:\n",
            " ['ฉีด', 'วัคซีน', 'โค', 'วิด', 'หาย', 'ป่วย', 'โรค', 'โค', 'วิด', 'ตรวจ', 'โค', 'วิด', 'ลบ', 'เดิน', 'ท่อง', 'เที่ยว', 'ยุโรป', 'สห', 'ราช', 'อาณาจักร', 'วัคซีน', 'พาส', 'ปอร์ต', 'เดิน', 'ท่อง', 'เที่ยว', 'อังกฤษ', 'ยุโรป', 'ประเทศ', 'อังกฤษ', 'อนุญาต', 'เดิน', 'กักตัว']\n",
            "tokenized text:\n",
            " ['วัคซีน', 'พาส', 'ปอร์ต', 'บัตร', 'เดิน', 'ทางใน', 'ประเทศ', 'เงื่อนไข', 'ตอน', 'ยุ่ง']\n",
            "tokenized text:\n",
            " ['วัคซีน', 'พาส', 'ปอร์ต', 'ใบเบิก', 'เดิน', 'ท่อง', 'เที่ยว', 'ประเทศ', 'ตอน', 'การเต', 'รี', 'ยม', 'เอกสาร', 'ยื่น', 'วัคซีน', 'พาส', 'ปอร์ต', 'ยุ่ง', 'ติดตาม', 'ข่าว', 'พล', 'อ', 'ประยุทธ์', 'จันทร์', 'โอชา', 'นายก', 'รัฐมนตรี', 'เดิน', 'ฉีด', 'วัค', 'ซีน', 'แอ', 'ส', 'ตรา', 'เซ', 'เน', 'กา', 'ป้องกัน', 'โค', 'วิด', 'เข็ม', 'เช้า', 'พ', 'ค', 'ฉีด', 'วัคซีน', 'เข็ม', 'ค', 'อธิบดี', 'กรม', 'ควบคุม', 'โรค', 'มอบ', 'วัคซีน', 'พาส', 'ปอร์ต', 'นา', 'ยกฯ', 'เดิน', 'ประเทศ', 'แนบ', 'หนังสือเดินทาง', 'ปราศจาก', 'เชื้อ', 'โค', 'วิด', 'ฉีด', 'วัคซีน', 'โดส', 'คน', 'คำถาม', 'วัคซีน', 'พาส', 'ปอร์ต', 'เดิน', 'ประเทศ']\n"
          ]
        }
      ],
      "source": [
        "print('tokenized text:\\n',split_word(clean_text[0])) #ข้อความที่ต้องการตรวจสอบบน cofact\n",
        "print('tokenized text:\\n',split_word(clean_text[1])) #ข้อความสรุปใน cofact\n",
        "print('tokenized text:\\n',split_word(clean_text[2])) #หัวข่าวอ้างอิง\n",
        "print('tokenized text:\\n',split_word(clean_text[3])) #เนื้อหาข่าวอ้างอิง paragraph แรก"
      ]
    },
    {
      "cell_type": "code",
      "execution_count": 331,
      "metadata": {
        "id": "Qb9N8UwvNQ0f"
      },
      "outputs": [],
      "source": [
        "tokens_list = [split_word(txt) for txt in clean_text]"
      ]
    },
    {
      "cell_type": "code",
      "execution_count": 332,
      "metadata": {
        "colab": {
          "base_uri": "https://localhost:8080/"
        },
        "id": "KkP_vMmuNQ0f",
        "outputId": "90540057-aaca-4e1c-8fd6-b09dda9e0c33"
      },
      "outputs": [
        {
          "data": {
            "text/plain": [
              "[['เดิน', 'ประเทศ', 'วัคซีน', 'พาส', 'ปอร์ต', 'รัฐ'],\n",
              " ['ฉีด',\n",
              "  'วัคซีน',\n",
              "  'โค',\n",
              "  'วิด',\n",
              "  'หาย',\n",
              "  'ป่วย',\n",
              "  'โรค',\n",
              "  'โค',\n",
              "  'วิด',\n",
              "  'ตรวจ',\n",
              "  'โค',\n",
              "  'วิด',\n",
              "  'ลบ',\n",
              "  'เดิน',\n",
              "  'ท่อง',\n",
              "  'เที่ยว',\n",
              "  'ยุโรป',\n",
              "  'สห',\n",
              "  'ราช',\n",
              "  'อาณาจักร',\n",
              "  'วัคซีน',\n",
              "  'พาส',\n",
              "  'ปอร์ต',\n",
              "  'เดิน',\n",
              "  'ท่อง',\n",
              "  'เที่ยว',\n",
              "  'อังกฤษ',\n",
              "  'ยุโรป',\n",
              "  'ประเทศ',\n",
              "  'อังกฤษ',\n",
              "  'อนุญาต',\n",
              "  'เดิน',\n",
              "  'กักตัว'],\n",
              " ['วัคซีน',\n",
              "  'พาส',\n",
              "  'ปอร์ต',\n",
              "  'บัตร',\n",
              "  'เดิน',\n",
              "  'ทางใน',\n",
              "  'ประเทศ',\n",
              "  'เงื่อนไข',\n",
              "  'ตอน',\n",
              "  'ยุ่ง'],\n",
              " ['วัคซีน',\n",
              "  'พาส',\n",
              "  'ปอร์ต',\n",
              "  'ใบเบิก',\n",
              "  'เดิน',\n",
              "  'ท่อง',\n",
              "  'เที่ยว',\n",
              "  'ประเทศ',\n",
              "  'ตอน',\n",
              "  'การเต',\n",
              "  'รี',\n",
              "  'ยม',\n",
              "  'เอกสาร',\n",
              "  'ยื่น',\n",
              "  'วัคซีน',\n",
              "  'พาส',\n",
              "  'ปอร์ต',\n",
              "  'ยุ่ง',\n",
              "  'ติดตาม',\n",
              "  'ข่าว',\n",
              "  'พล',\n",
              "  'อ',\n",
              "  'ประยุทธ์',\n",
              "  'จันทร์',\n",
              "  'โอชา',\n",
              "  'นายก',\n",
              "  'รัฐมนตรี',\n",
              "  'เดิน',\n",
              "  'ฉีด',\n",
              "  'วัค',\n",
              "  'ซีน',\n",
              "  'แอ',\n",
              "  'ส',\n",
              "  'ตรา',\n",
              "  'เซ',\n",
              "  'เน',\n",
              "  'กา',\n",
              "  'ป้องกัน',\n",
              "  'โค',\n",
              "  'วิด',\n",
              "  'เข็ม',\n",
              "  'เช้า',\n",
              "  'พ',\n",
              "  'ค',\n",
              "  'ฉีด',\n",
              "  'วัคซีน',\n",
              "  'เข็ม',\n",
              "  'ค',\n",
              "  'อธิบดี',\n",
              "  'กรม',\n",
              "  'ควบคุม',\n",
              "  'โรค',\n",
              "  'มอบ',\n",
              "  'วัคซีน',\n",
              "  'พาส',\n",
              "  'ปอร์ต',\n",
              "  'นา',\n",
              "  'ยกฯ',\n",
              "  'เดิน',\n",
              "  'ประเทศ',\n",
              "  'แนบ',\n",
              "  'หนังสือเดินทาง',\n",
              "  'ปราศจาก',\n",
              "  'เชื้อ',\n",
              "  'โค',\n",
              "  'วิด',\n",
              "  'ฉีด',\n",
              "  'วัคซีน',\n",
              "  'โดส',\n",
              "  'คน',\n",
              "  'คำถาม',\n",
              "  'วัคซีน',\n",
              "  'พาส',\n",
              "  'ปอร์ต',\n",
              "  'เดิน',\n",
              "  'ประเทศ']]"
            ]
          },
          "execution_count": 332,
          "metadata": {},
          "output_type": "execute_result"
        }
      ],
      "source": [
        "tokens_list"
      ]
    },
    {
      "cell_type": "markdown",
      "metadata": {
        "id": "CDPoN8MdNQ0f"
      },
      "source": [
        "**Step 3 + 4a: Bag of words + count word**"
      ]
    },
    {
      "cell_type": "code",
      "execution_count": 333,
      "metadata": {
        "id": "DXB7uz58NQ0f"
      },
      "outputs": [],
      "source": [
        "from sklearn.feature_extraction.text import CountVectorizer\n",
        "tokens_list_j = [','.join(tkn) for tkn in tokens_list]\n",
        "cvec = CountVectorizer(analyzer=lambda x:x.split(','))\n",
        "c_feat = cvec.fit_transform(tokens_list_j)"
      ]
    },
    {
      "cell_type": "code",
      "execution_count": 334,
      "metadata": {
        "colab": {
          "base_uri": "https://localhost:8080/"
        },
        "id": "FP1jgF7NNQ0f",
        "outputId": "ac7d12c4-5d99-463b-d968-5fc138e12436"
      },
      "outputs": [
        {
          "data": {
            "text/plain": [
              "{'เดิน': 58,\n",
              " 'ประเทศ': 22,\n",
              " 'วัคซีน': 42,\n",
              " 'พาส': 29,\n",
              " 'ปอร์ต': 24,\n",
              " 'รัฐ': 36,\n",
              " 'ฉีด': 10,\n",
              " 'โค': 64,\n",
              " 'วิด': 43,\n",
              " 'หาย': 47,\n",
              " 'ป่วย': 25,\n",
              " 'โรค': 66,\n",
              " 'ตรวจ': 12,\n",
              " 'ลบ': 40,\n",
              " 'ท่อง': 17,\n",
              " 'เที่ยว': 59,\n",
              " 'ยุโรป': 34,\n",
              " 'สห': 45,\n",
              " 'ราช': 38,\n",
              " 'อาณาจักร': 52,\n",
              " 'อังกฤษ': 51,\n",
              " 'อนุญาต': 50,\n",
              " 'กักตัว': 1,\n",
              " 'บัตร': 20,\n",
              " 'ทางใน': 16,\n",
              " 'เงื่อนไข': 54,\n",
              " 'ตอน': 14,\n",
              " 'ยุ่ง': 35,\n",
              " 'ใบเบิก': 68,\n",
              " 'การเต': 3,\n",
              " 'รี': 39,\n",
              " 'ยม': 32,\n",
              " 'เอกสาร': 61,\n",
              " 'ยื่น': 33,\n",
              " 'ติดตาม': 15,\n",
              " 'ข่าว': 4,\n",
              " 'พล': 28,\n",
              " 'อ': 48,\n",
              " 'ประยุทธ์': 21,\n",
              " 'จันทร์': 9,\n",
              " 'โอชา': 67,\n",
              " 'นายก': 19,\n",
              " 'รัฐมนตรี': 37,\n",
              " 'วัค': 41,\n",
              " 'ซีน': 11,\n",
              " 'แอ': 63,\n",
              " 'ส': 44,\n",
              " 'ตรา': 13,\n",
              " 'เซ': 57,\n",
              " 'เน': 60,\n",
              " 'กา': 2,\n",
              " 'ป้องกัน': 26,\n",
              " 'เข็ม': 53,\n",
              " 'เช้า': 56,\n",
              " 'พ': 27,\n",
              " 'ค': 5,\n",
              " 'อธิบดี': 49,\n",
              " 'กรม': 0,\n",
              " 'ควบคุม': 7,\n",
              " 'มอบ': 30,\n",
              " 'นา': 18,\n",
              " 'ยกฯ': 31,\n",
              " 'แนบ': 62,\n",
              " 'หนังสือเดินทาง': 46,\n",
              " 'ปราศจาก': 23,\n",
              " 'เชื้อ': 55,\n",
              " 'โดส': 65,\n",
              " 'คน': 6,\n",
              " 'คำถาม': 8}"
            ]
          },
          "execution_count": 334,
          "metadata": {},
          "output_type": "execute_result"
        }
      ],
      "source": [
        "cvec.vocabulary_"
      ]
    },
    {
      "cell_type": "code",
      "execution_count": 335,
      "metadata": {
        "colab": {
          "base_uri": "https://localhost:8080/"
        },
        "id": "o9oEg2p5NQ0f",
        "outputId": "8e054f2d-b886-4460-c7e6-fdf2716151a8"
      },
      "outputs": [
        {
          "data": {
            "text/plain": [
              "matrix([[0, 0, 0, 0, 0, 0, 0, 0, 0, 0, 0, 0, 0, 0, 0, 0, 0, 0, 0, 0, 0,\n",
              "         0, 1, 0, 1, 0, 0, 0, 0, 1, 0, 0, 0, 0, 0, 0, 1, 0, 0, 0, 0, 0,\n",
              "         1, 0, 0, 0, 0, 0, 0, 0, 0, 0, 0, 0, 0, 0, 0, 0, 1, 0, 0, 0, 0,\n",
              "         0, 0, 0, 0, 0, 0],\n",
              "        [0, 1, 0, 0, 0, 0, 0, 0, 0, 0, 1, 0, 1, 0, 0, 0, 0, 2, 0, 0, 0,\n",
              "         0, 1, 0, 1, 1, 0, 0, 0, 1, 0, 0, 0, 0, 2, 0, 0, 0, 1, 0, 1, 0,\n",
              "         2, 3, 0, 1, 0, 1, 0, 0, 1, 2, 1, 0, 0, 0, 0, 0, 3, 2, 0, 0, 0,\n",
              "         0, 3, 0, 1, 0, 0],\n",
              "        [0, 0, 0, 0, 0, 0, 0, 0, 0, 0, 0, 0, 0, 0, 1, 0, 1, 0, 0, 0, 1,\n",
              "         0, 1, 0, 1, 0, 0, 0, 0, 1, 0, 0, 0, 0, 0, 1, 0, 0, 0, 0, 0, 0,\n",
              "         1, 0, 0, 0, 0, 0, 0, 0, 0, 0, 0, 0, 1, 0, 0, 0, 1, 0, 0, 0, 0,\n",
              "         0, 0, 0, 0, 0, 0],\n",
              "        [1, 0, 1, 1, 1, 2, 1, 1, 1, 1, 3, 1, 0, 1, 1, 1, 0, 1, 1, 1, 0,\n",
              "         1, 3, 1, 4, 0, 1, 1, 1, 4, 1, 1, 1, 1, 0, 1, 0, 1, 0, 1, 0, 1,\n",
              "         6, 2, 1, 0, 1, 0, 1, 1, 0, 0, 0, 2, 0, 1, 1, 1, 4, 1, 1, 1, 1,\n",
              "         1, 2, 1, 1, 1, 1]], dtype=int64)"
            ]
          },
          "execution_count": 335,
          "metadata": {},
          "output_type": "execute_result"
        }
      ],
      "source": [
        "c_feat[:,:].todense()"
      ]
    },
    {
      "cell_type": "code",
      "execution_count": 336,
      "metadata": {
        "colab": {
          "base_uri": "https://localhost:8080/"
        },
        "id": "7JE197cDNQ0g",
        "outputId": "b50fa304-a1d5-4217-83ff-29e3b37aaab6"
      },
      "outputs": [
        {
          "name": "stdout",
          "output_type": "stream",
          "text": [
            "[[0 0 0 0 0 0 0 0 0 0 0 0 0 0 0 0 0 0 0 0 0 0 1 0 1 0 0 0 0 1 0 0 0 0 0 0\n",
            "  1 0 0 0 0 0 1 0 0 0 0 0 0 0 0 0 0 0 0 0 0 0 1 0 0 0 0 0 0 0 0 0 0]\n",
            " [0 1 0 0 0 0 0 0 0 0 1 0 1 0 0 0 0 2 0 0 0 0 1 0 1 1 0 0 0 1 0 0 0 0 2 0\n",
            "  0 0 1 0 1 0 2 3 0 1 0 1 0 0 1 2 1 0 0 0 0 0 3 2 0 0 0 0 3 0 1 0 0]\n",
            " [0 0 0 0 0 0 0 0 0 0 0 0 0 0 1 0 1 0 0 0 1 0 1 0 1 0 0 0 0 1 0 0 0 0 0 1\n",
            "  0 0 0 0 0 0 1 0 0 0 0 0 0 0 0 0 0 0 1 0 0 0 1 0 0 0 0 0 0 0 0 0 0]\n",
            " [1 0 1 1 1 2 1 1 1 1 3 1 0 1 1 1 0 1 1 1 0 1 3 1 4 0 1 1 1 4 1 1 1 1 0 1\n",
            "  0 1 0 1 0 1 6 2 1 0 1 0 1 1 0 0 0 2 0 1 1 1 4 1 1 1 1 1 2 1 1 1 1]]\n"
          ]
        }
      ],
      "source": [
        "#first_news เป็น array ของข่าว โดย row ที่ 1 = ข่าวที่ต้องการตรวจสอบจาก cofact, row ที่ 2 = ข้อความสรุปใน cofact, row ที่ 3 = หัวข้อข่าวที่เชื่อถือได้ , row ที่ 4 = เนื้อหาข่าว paragraph แรกของข่าวที่เชื่อถือได้\n",
        "first_news = c_feat[:,:].todense()\n",
        "print(first_news) "
      ]
    },
    {
      "cell_type": "code",
      "execution_count": 337,
      "metadata": {
        "colab": {
          "base_uri": "https://localhost:8080/"
        },
        "id": "KhAwmhlBNQ0g",
        "outputId": "bc117250-8769-4e17-d3e3-22fae4dbfefb"
      },
      "outputs": [
        {
          "data": {
            "text/plain": [
              "69"
            ]
          },
          "execution_count": 337,
          "metadata": {},
          "output_type": "execute_result"
        }
      ],
      "source": [
        "first_news.shape[1]"
      ]
    },
    {
      "cell_type": "code",
      "execution_count": 338,
      "metadata": {
        "colab": {
          "base_uri": "https://localhost:8080/"
        },
        "id": "hMfXGAhzNQ0g",
        "outputId": "b97841ac-faee-4401-bc35-2bbf89a7d18f"
      },
      "outputs": [
        {
          "name": "stdout",
          "output_type": "stream",
          "text": [
            "This is sum (upperpart) : 8\n",
            "This is lowerpart : 19.13112646970899\n"
          ]
        },
        {
          "data": {
            "text/plain": [
              "0.4181666987914534"
            ]
          },
          "execution_count": 338,
          "metadata": {},
          "output_type": "execute_result"
        }
      ],
      "source": [
        "find_cosine_similarity(first_news, 0, 1) #เทียบ ข้อความที่ต้องการตรวจสอบบน cofact กับ ข้อความสรุปใน cofact"
      ]
    },
    {
      "cell_type": "code",
      "execution_count": 339,
      "metadata": {
        "colab": {
          "base_uri": "https://localhost:8080/"
        },
        "id": "4Zg4I-jDNQ0g",
        "outputId": "2bad912a-3bfc-477d-ef93-e986f5fb6cff"
      },
      "outputs": [
        {
          "name": "stdout",
          "output_type": "stream",
          "text": [
            "This is sum (upperpart) : 5\n",
            "This is lowerpart : 7.745966692414833\n"
          ]
        },
        {
          "data": {
            "text/plain": [
              "0.6454972243679029"
            ]
          },
          "execution_count": 339,
          "metadata": {},
          "output_type": "execute_result"
        }
      ],
      "source": [
        "find_cosine_similarity(first_news, 0, 2)#เทียบ ข้อความที่ต้องการตรวจสอบบน cofact กับ หัวข้อข่าวที่เชื่อถือได้"
      ]
    },
    {
      "cell_type": "code",
      "execution_count": 340,
      "metadata": {
        "colab": {
          "base_uri": "https://localhost:8080/"
        },
        "id": "j2pdBrH6NQ0g",
        "outputId": "f07807a9-9b9c-4bc1-9b7a-08103c48203c"
      },
      "outputs": [
        {
          "name": "stdout",
          "output_type": "stream",
          "text": [
            "This is sum (upperpart) : 21\n",
            "This is lowerpart : 31.17691453623979\n"
          ]
        },
        {
          "data": {
            "text/plain": [
              "0.6735753140545635"
            ]
          },
          "execution_count": 340,
          "metadata": {},
          "output_type": "execute_result"
        }
      ],
      "source": [
        "find_cosine_similarity(first_news, 0, 3)#เทียบ ข้อความที่ต้องการตรวจสอบบน cofact กับ เนื้อหาข่าว paragraph แรกของข่าวที่เชื่อถือได้"
      ]
    },
    {
      "cell_type": "code",
      "execution_count": null,
      "metadata": {
        "id": "71sk99KCN4rn"
      },
      "outputs": [],
      "source": []
    },
    {
      "cell_type": "markdown",
      "metadata": {
        "id": "JBWspNFpN8Sl"
      },
      "source": [
        "# ข่าวที่ 29"
      ]
    },
    {
      "cell_type": "code",
      "execution_count": 341,
      "metadata": {
        "id": "lqEv1S2sN8Sl"
      },
      "outputs": [],
      "source": [
        "clean_text = [\"'ติดแอร์' หัวเตียงนอน ทำให้เกิด 'เชื้อราในสมอง'\",'เว็บไซต์ศูนย์ต่อต้านข่าวปลอม ประเทศไทย รายงานว่า ตามที่มีการเผยแพร่ข้อมูลประเด็นเรื่องติดแอร์บนหัวเตียงนอน ก่อให้เกิดเชื้อราในสมอง ทางศูนย์ต่อต้านข่าวปลอมได้ดำเนินการตรวจสอบข้อเท็จจริงโดย สถาบันประสาทวิทยา กรมการแพทย์ กระทรวงสาธารณสุข พบว่าประเด็นดังกล่าวนั้น เป็นข้อมูลเท็จ',\"ข่าวปลอม อย่าแชร์! 'ติดแอร์' หัวเตียงนอน ทำให้เกิด 'เชื้อราในสมอง'\",'เช็คแล้ว ข่าวปลอม อย่าแชร์! \"ติดแอร์\" บนหัวเตียงนอน ก่อให้เกิด \"เชื้อราในสมอง\" สถาบันประสาทวิทยายัน \"ข้อมูลเท็จ\"']"
      ]
    },
    {
      "cell_type": "markdown",
      "metadata": {
        "id": "YmwPGmwrN8Sl"
      },
      "source": [
        "**Step 2: Tokenize**"
      ]
    },
    {
      "cell_type": "code",
      "execution_count": 342,
      "metadata": {
        "colab": {
          "base_uri": "https://localhost:8080/"
        },
        "id": "cajF1szUN8Sl",
        "outputId": "62028c74-20da-45bd-f9c3-6742a51a7970"
      },
      "outputs": [
        {
          "name": "stdout",
          "output_type": "stream",
          "text": [
            "tokenized text:\n",
            " ['ติด', 'แอร์', 'หัว', 'เตียง', 'นอน', 'เชื้อ', 'รา', 'สมอง']\n",
            "tokenized text:\n",
            " ['เว็บไซต์', 'ศูนย์', 'ต้าน', 'ข่าว', 'ปลอม', 'ประเทศไทย', 'รายงาน', 'เผย', 'แพร่', 'ข้อมูล', 'ประเด็น', 'เรื่อง', 'ติด', 'แอร์', 'หัว', 'เตียง', 'นอน', 'ก่อ', 'เชื้อ', 'รา', 'สมอง', 'ศูนย์', 'ต้าน', 'ข่าว', 'ปลอม', 'ดำเนิน', 'ตรวจ', 'สอบ', 'ข้อ', 'เท็จ', 'สถาบัน', 'ประสาท', 'วิทยา', 'กรม', 'แพทย์', 'กระทรวง', 'สาธารณสุข', 'ประเด็น', 'ข้อมูล', 'เท็จ']\n",
            "tokenized text:\n",
            " ['ข่าว', 'ปลอม', 'อย่า', 'แชร์', 'ติด', 'แอร์', 'หัว', 'เตียง', 'นอน', 'เชื้อ', 'รา', 'สมอง']\n",
            "tokenized text:\n",
            " ['เช็ค', 'ข่าว', 'ปลอม', 'อย่า', 'แชร์', 'ติด', 'แอร์', 'หัว', 'เตียง', 'นอน', 'ก่อ', 'เชื้อ', 'รา', 'สมอง', 'สถาบัน', 'ประสาท', 'วิทยา', 'ยัน', 'ข้อมูล', 'เท็จ']\n"
          ]
        }
      ],
      "source": [
        "print('tokenized text:\\n',split_word(clean_text[0])) #ข้อความที่ต้องการตรวจสอบบน cofact\n",
        "print('tokenized text:\\n',split_word(clean_text[1])) #ข้อความสรุปใน cofact\n",
        "print('tokenized text:\\n',split_word(clean_text[2])) #หัวข่าวอ้างอิง\n",
        "print('tokenized text:\\n',split_word(clean_text[3])) #เนื้อหาข่าวอ้างอิง paragraph แรก"
      ]
    },
    {
      "cell_type": "code",
      "execution_count": 343,
      "metadata": {
        "id": "rn3dVSDgN8Sm"
      },
      "outputs": [],
      "source": [
        "tokens_list = [split_word(txt) for txt in clean_text]"
      ]
    },
    {
      "cell_type": "code",
      "execution_count": 344,
      "metadata": {
        "colab": {
          "base_uri": "https://localhost:8080/"
        },
        "id": "g0P8nLBXN8Sm",
        "outputId": "795ff31b-e2c6-4741-e8b9-86335aaff7fd"
      },
      "outputs": [
        {
          "data": {
            "text/plain": [
              "[['ติด', 'แอร์', 'หัว', 'เตียง', 'นอน', 'เชื้อ', 'รา', 'สมอง'],\n",
              " ['เว็บไซต์',\n",
              "  'ศูนย์',\n",
              "  'ต้าน',\n",
              "  'ข่าว',\n",
              "  'ปลอม',\n",
              "  'ประเทศไทย',\n",
              "  'รายงาน',\n",
              "  'เผย',\n",
              "  'แพร่',\n",
              "  'ข้อมูล',\n",
              "  'ประเด็น',\n",
              "  'เรื่อง',\n",
              "  'ติด',\n",
              "  'แอร์',\n",
              "  'หัว',\n",
              "  'เตียง',\n",
              "  'นอน',\n",
              "  'ก่อ',\n",
              "  'เชื้อ',\n",
              "  'รา',\n",
              "  'สมอง',\n",
              "  'ศูนย์',\n",
              "  'ต้าน',\n",
              "  'ข่าว',\n",
              "  'ปลอม',\n",
              "  'ดำเนิน',\n",
              "  'ตรวจ',\n",
              "  'สอบ',\n",
              "  'ข้อ',\n",
              "  'เท็จ',\n",
              "  'สถาบัน',\n",
              "  'ประสาท',\n",
              "  'วิทยา',\n",
              "  'กรม',\n",
              "  'แพทย์',\n",
              "  'กระทรวง',\n",
              "  'สาธารณสุข',\n",
              "  'ประเด็น',\n",
              "  'ข้อมูล',\n",
              "  'เท็จ'],\n",
              " ['ข่าว',\n",
              "  'ปลอม',\n",
              "  'อย่า',\n",
              "  'แชร์',\n",
              "  'ติด',\n",
              "  'แอร์',\n",
              "  'หัว',\n",
              "  'เตียง',\n",
              "  'นอน',\n",
              "  'เชื้อ',\n",
              "  'รา',\n",
              "  'สมอง'],\n",
              " ['เช็ค',\n",
              "  'ข่าว',\n",
              "  'ปลอม',\n",
              "  'อย่า',\n",
              "  'แชร์',\n",
              "  'ติด',\n",
              "  'แอร์',\n",
              "  'หัว',\n",
              "  'เตียง',\n",
              "  'นอน',\n",
              "  'ก่อ',\n",
              "  'เชื้อ',\n",
              "  'รา',\n",
              "  'สมอง',\n",
              "  'สถาบัน',\n",
              "  'ประสาท',\n",
              "  'วิทยา',\n",
              "  'ยัน',\n",
              "  'ข้อมูล',\n",
              "  'เท็จ']]"
            ]
          },
          "execution_count": 344,
          "metadata": {},
          "output_type": "execute_result"
        }
      ],
      "source": [
        "tokens_list"
      ]
    },
    {
      "cell_type": "markdown",
      "metadata": {
        "id": "s_obJ1tzN8Sm"
      },
      "source": [
        "**Step 3 + 4a: Bag of words + count word**"
      ]
    },
    {
      "cell_type": "code",
      "execution_count": 345,
      "metadata": {
        "id": "Ex5SFZVKN8Sn"
      },
      "outputs": [],
      "source": [
        "from sklearn.feature_extraction.text import CountVectorizer\n",
        "tokens_list_j = [','.join(tkn) for tkn in tokens_list]\n",
        "cvec = CountVectorizer(analyzer=lambda x:x.split(','))\n",
        "c_feat = cvec.fit_transform(tokens_list_j)"
      ]
    },
    {
      "cell_type": "code",
      "execution_count": 346,
      "metadata": {
        "colab": {
          "base_uri": "https://localhost:8080/"
        },
        "id": "AG519gyAN8Sn",
        "outputId": "cdc7ec64-4ce3-42b1-95e1-5f8c9cc443e6"
      },
      "outputs": [
        {
          "data": {
            "text/plain": [
              "{'ติด': 8,\n",
              " 'แอร์': 36,\n",
              " 'หัว': 24,\n",
              " 'เตียง': 28,\n",
              " 'นอน': 10,\n",
              " 'เชื้อ': 26,\n",
              " 'รา': 16,\n",
              " 'สมอง': 21,\n",
              " 'เว็บไซต์': 32,\n",
              " 'ศูนย์': 19,\n",
              " 'ต้าน': 9,\n",
              " 'ข่าว': 3,\n",
              " 'ปลอม': 14,\n",
              " 'ประเทศไทย': 13,\n",
              " 'รายงาน': 17,\n",
              " 'เผย': 30,\n",
              " 'แพร่': 35,\n",
              " 'ข้อมูล': 5,\n",
              " 'ประเด็น': 12,\n",
              " 'เรื่อง': 31,\n",
              " 'ก่อ': 2,\n",
              " 'ดำเนิน': 6,\n",
              " 'ตรวจ': 7,\n",
              " 'สอบ': 22,\n",
              " 'ข้อ': 4,\n",
              " 'เท็จ': 29,\n",
              " 'สถาบัน': 20,\n",
              " 'ประสาท': 11,\n",
              " 'วิทยา': 18,\n",
              " 'กรม': 0,\n",
              " 'แพทย์': 34,\n",
              " 'กระทรวง': 1,\n",
              " 'สาธารณสุข': 23,\n",
              " 'อย่า': 25,\n",
              " 'แชร์': 33,\n",
              " 'เช็ค': 27,\n",
              " 'ยัน': 15}"
            ]
          },
          "execution_count": 346,
          "metadata": {},
          "output_type": "execute_result"
        }
      ],
      "source": [
        "cvec.vocabulary_"
      ]
    },
    {
      "cell_type": "code",
      "execution_count": 347,
      "metadata": {
        "colab": {
          "base_uri": "https://localhost:8080/"
        },
        "id": "QhwvspH2N8Sn",
        "outputId": "f9abb814-cf5b-4ed0-aace-7d2a3207cfd1"
      },
      "outputs": [
        {
          "data": {
            "text/plain": [
              "matrix([[0, 0, 0, 0, 0, 0, 0, 0, 1, 0, 1, 0, 0, 0, 0, 0, 1, 0, 0, 0, 0,\n",
              "         1, 0, 0, 1, 0, 1, 0, 1, 0, 0, 0, 0, 0, 0, 0, 1],\n",
              "        [1, 1, 1, 2, 1, 2, 1, 1, 1, 2, 1, 1, 2, 1, 2, 0, 1, 1, 1, 2, 1,\n",
              "         1, 1, 1, 1, 0, 1, 0, 1, 2, 1, 1, 1, 0, 1, 1, 1],\n",
              "        [0, 0, 0, 1, 0, 0, 0, 0, 1, 0, 1, 0, 0, 0, 1, 0, 1, 0, 0, 0, 0,\n",
              "         1, 0, 0, 1, 1, 1, 0, 1, 0, 0, 0, 0, 1, 0, 0, 1],\n",
              "        [0, 0, 1, 1, 0, 1, 0, 0, 1, 0, 1, 1, 0, 0, 1, 1, 1, 0, 1, 0, 1,\n",
              "         1, 0, 0, 1, 1, 1, 1, 1, 1, 0, 0, 0, 1, 0, 0, 1]], dtype=int64)"
            ]
          },
          "execution_count": 347,
          "metadata": {},
          "output_type": "execute_result"
        }
      ],
      "source": [
        "c_feat[:,:].todense()"
      ]
    },
    {
      "cell_type": "code",
      "execution_count": 348,
      "metadata": {
        "colab": {
          "base_uri": "https://localhost:8080/"
        },
        "id": "E2dbdEx5N8Sn",
        "outputId": "f695de2c-634d-485c-9986-9c968d870470"
      },
      "outputs": [
        {
          "name": "stdout",
          "output_type": "stream",
          "text": [
            "[[0 0 0 0 0 0 0 0 1 0 1 0 0 0 0 0 1 0 0 0 0 1 0 0 1 0 1 0 1 0 0 0 0 0 0 0\n",
            "  1]\n",
            " [1 1 1 2 1 2 1 1 1 2 1 1 2 1 2 0 1 1 1 2 1 1 1 1 1 0 1 0 1 2 1 1 1 0 1 1\n",
            "  1]\n",
            " [0 0 0 1 0 0 0 0 1 0 1 0 0 0 1 0 1 0 0 0 0 1 0 0 1 1 1 0 1 0 0 0 0 1 0 0\n",
            "  1]\n",
            " [0 0 1 1 0 1 0 0 1 0 1 1 0 0 1 1 1 0 1 0 1 1 0 0 1 1 1 1 1 1 0 0 0 1 0 0\n",
            "  1]]\n"
          ]
        }
      ],
      "source": [
        "#first_news เป็น array ของข่าว โดย row ที่ 1 = ข่าวที่ต้องการตรวจสอบจาก cofact, row ที่ 2 = ข้อความสรุปใน cofact, row ที่ 3 = หัวข้อข่าวที่เชื่อถือได้ , row ที่ 4 = เนื้อหาข่าว paragraph แรกของข่าวที่เชื่อถือได้\n",
        "first_news = c_feat[:,:].todense()\n",
        "print(first_news) "
      ]
    },
    {
      "cell_type": "code",
      "execution_count": 349,
      "metadata": {
        "colab": {
          "base_uri": "https://localhost:8080/"
        },
        "id": "yRKZ9Uk-N8So",
        "outputId": "9e4574e3-7379-480f-8b57-267f0a709391"
      },
      "outputs": [
        {
          "data": {
            "text/plain": [
              "37"
            ]
          },
          "execution_count": 349,
          "metadata": {},
          "output_type": "execute_result"
        }
      ],
      "source": [
        "first_news.shape[1]"
      ]
    },
    {
      "cell_type": "code",
      "execution_count": 350,
      "metadata": {
        "colab": {
          "base_uri": "https://localhost:8080/"
        },
        "id": "z2rsI1L2N8So",
        "outputId": "7aa1c0ef-f48a-449b-adf2-779c22549563"
      },
      "outputs": [
        {
          "name": "stdout",
          "output_type": "stream",
          "text": [
            "This is sum (upperpart) : 8\n",
            "This is lowerpart : 20.784609690826528\n"
          ]
        },
        {
          "data": {
            "text/plain": [
              "0.3849001794597505"
            ]
          },
          "execution_count": 350,
          "metadata": {},
          "output_type": "execute_result"
        }
      ],
      "source": [
        "find_cosine_similarity(first_news, 0, 1) #เทียบ ข้อความที่ต้องการตรวจสอบบน cofact กับ ข้อความสรุปใน cofact"
      ]
    },
    {
      "cell_type": "code",
      "execution_count": 351,
      "metadata": {
        "colab": {
          "base_uri": "https://localhost:8080/"
        },
        "id": "VGJRtWA5N8So",
        "outputId": "c948bcac-eefb-4661-a9c3-8c2cd68cdfe9"
      },
      "outputs": [
        {
          "name": "stdout",
          "output_type": "stream",
          "text": [
            "This is sum (upperpart) : 8\n",
            "This is lowerpart : 9.797958971132713\n"
          ]
        },
        {
          "data": {
            "text/plain": [
              "0.8164965809277259"
            ]
          },
          "execution_count": 351,
          "metadata": {},
          "output_type": "execute_result"
        }
      ],
      "source": [
        "find_cosine_similarity(first_news, 0, 2)#เทียบ ข้อความที่ต้องการตรวจสอบบน cofact กับ หัวข้อข่าวที่เชื่อถือได้"
      ]
    },
    {
      "cell_type": "code",
      "execution_count": 352,
      "metadata": {
        "colab": {
          "base_uri": "https://localhost:8080/"
        },
        "id": "prirPEUkN8So",
        "outputId": "3b4a010b-e8c8-4046-bf82-3f0ab9f8f994"
      },
      "outputs": [
        {
          "name": "stdout",
          "output_type": "stream",
          "text": [
            "This is sum (upperpart) : 8\n",
            "This is lowerpart : 12.649110640673518\n"
          ]
        },
        {
          "data": {
            "text/plain": [
              "0.6324555320336759"
            ]
          },
          "execution_count": 352,
          "metadata": {},
          "output_type": "execute_result"
        }
      ],
      "source": [
        "find_cosine_similarity(first_news, 0, 3)#เทียบ ข้อความที่ต้องการตรวจสอบบน cofact กับ เนื้อหาข่าว paragraph แรกของข่าวที่เชื่อถือได้"
      ]
    },
    {
      "cell_type": "code",
      "execution_count": null,
      "metadata": {
        "id": "KbXmlRXFPFfn"
      },
      "outputs": [],
      "source": []
    },
    {
      "cell_type": "markdown",
      "metadata": {
        "id": "WMWyj2YaPGlO"
      },
      "source": [
        "# ข่าวที่ 30"
      ]
    },
    {
      "cell_type": "code",
      "execution_count": 353,
      "metadata": {
        "id": "QjAUDD3FPGlO"
      },
      "outputs": [],
      "source": [
        "clean_text = ['เด็กนักเรียนอายุ 12 ปีขึ้นไป ฉีดวัคซีนป้องกันโรคโควิด-19 หากเกิดอาการไม่พึงประสงค์หลังฉีดวัคซีน สปสช.จัดระบบช่วยเหลือเบื้องต้นดูแล ขอยื่นเรื่องรับเงินช่วยเหลือได้','หากเกิดอาการไม่พึงประสงค์หลังฉีดวัคซีนโควิด-19 ตามแผนงานโครงการที่รัฐจัดให้ฟรี สามารถยื่นเรื่องขอรับเงินช่วยเหลือเบื้องต้นกับสำนักงานหลักประกันสุขภาพแห่งชาติ (สปสช.) ได้ที่ โรงพยาบาลที่ฉีด สำนักงานสาธารณสุขจังหวัด (สสจ.) หรือที่สำนักงาน สปสช.สาขาเขตพื้นที่ทั้ง 13 เขต โดยมีระยะเวลายื่นคำร้องได้ภายใน 2 ปีนับแต่วันที่ทราบความเสียหาย เมื่อมีผู้มายื่นคำร้องแล้ว คณะอนุกรรมการฯ ระดับเขตพื้นที่จะเร่งพิจารณาให้แล้วเสร็จโดยเร็ว ซึ่งในกรณีที่ผู้ยื่นคำร้องไม่เห็นด้วยกับผลการวินิจฉัย ก็มีสิทธิยื่นอุทธรณ์ต่อเลขาธิการ สปสช. ได้ภายใน 30 วันนับแต่วันที่ทราบผลการวินิจฉัย','\"นักเรียน\" เช็คอาการไม่พึงประสงค์ \"วัคซีนโควิด\" และหลักเกณฑ์รับเยียวยา','\"สปสช.\" ขานรับนโยบายรัฐบาลฉีด \"วัคซีนโควิด-19\" ให้กับเด็กนักเรียนอายุ 12 ปีขึ้นไป หากเกิด \"อาการไม่พึงประสงค์\" หลังฉีดวัคซีน สปสช. จัดระบบช่วยเหลือเบื้องต้นดูแล ขอยื่นเรื่องรับเงินช่วยเหลือได้ ย้ำรายงานผู้เกิดผลข้างเคียงมีไม่มาก']"
      ]
    },
    {
      "cell_type": "markdown",
      "metadata": {
        "id": "fC2cwiHoPGlO"
      },
      "source": [
        "**Step 2: Tokenize**"
      ]
    },
    {
      "cell_type": "code",
      "execution_count": 354,
      "metadata": {
        "colab": {
          "base_uri": "https://localhost:8080/"
        },
        "id": "RohiXT-jPGlP",
        "outputId": "47f6b26f-3d76-4d1a-8351-4419288b314a"
      },
      "outputs": [
        {
          "name": "stdout",
          "output_type": "stream",
          "text": [
            "tokenized text:\n",
            " ['เด็ก', 'นักเรียน', 'อายุ', 'ปี', 'ฉีด', 'วัคซีน', 'ป้องกัน', 'โรค', 'โค', 'วิด', 'อาการ', 'ประสงค์', 'ฉีด', 'วัคซีน', 'สปสช', 'ระบบ', 'เบื้อง', 'ต้น', 'ดูแล', 'ยื่น', 'เรื่อง', 'เงิน']\n",
            "tokenized text:\n",
            " ['อาการ', 'ประสงค์', 'ฉีด', 'วัคซีน', 'โค', 'วิด', 'แผน', 'งาน', 'โครงการ', 'รัฐ', 'ฟรี', 'ยื่น', 'เรื่อง', 'ขอรับ', 'เงิน', 'เบื้อง', 'ต้น', 'สำนักงาน', 'หลัก', 'ประกัน', 'สุขภาพ', 'ชาติ', 'สปสช', 'โรง', 'พยาบาล', 'ฉีด', 'สำนักงาน', 'สาธารณสุข', 'จังหวัด', 'สสจ', 'สำนักงาน', 'สปสช', 'สาขา', 'เขต', 'พื้นที่', 'เขต', 'เวลา', 'ยื่น', 'คำร้อง', 'ปี', 'ทราบ', 'หาย', 'ยื่น', 'คำร้อง', 'คณะ', 'อนุกร', 'รม', 'การฯ', 'ระดับ', 'เขต', 'พื้นที่', 'เร่ง', 'พิจารณา', 'กรณี', 'ยื่น', 'คำร้อง', 'วินิจฉัย', 'สิทธิ', 'ยื่น', 'อุทธรณ์', 'เลขาธิการ', 'สปสช', 'ทราบ', 'วินิจฉัย']\n",
            "tokenized text:\n",
            " ['นักเรียน', 'เช็ค', 'อาการ', 'ประสงค์', 'วัคซีน', 'โค', 'วิด', 'หลัก', 'เกณฑ์', 'เยียวยา']\n",
            "tokenized text:\n",
            " ['สปสช', 'ขานรับ', 'นโยบาย', 'รัฐบาล', 'ฉีด', 'วัคซีน', 'โค', 'วิด', 'เด็ก', 'นักเรียน', 'อายุ', 'ปี', 'อาการ', 'ประสงค์', 'ฉีด', 'วัคซีน', 'สปสช', 'ระบบ', 'เบื้อง', 'ต้น', 'ดูแล', 'ยื่น', 'เรื่อง', 'เงิน', 'ย้ำ', 'รายงาน', 'เคียง']\n"
          ]
        }
      ],
      "source": [
        "print('tokenized text:\\n',split_word(clean_text[0])) #ข้อความที่ต้องการตรวจสอบบน cofact\n",
        "print('tokenized text:\\n',split_word(clean_text[1])) #ข้อความสรุปใน cofact\n",
        "print('tokenized text:\\n',split_word(clean_text[2])) #หัวข่าวอ้างอิง\n",
        "print('tokenized text:\\n',split_word(clean_text[3])) #เนื้อหาข่าวอ้างอิง paragraph แรก"
      ]
    },
    {
      "cell_type": "code",
      "execution_count": 355,
      "metadata": {
        "id": "2cciD7yVPGlP"
      },
      "outputs": [],
      "source": [
        "tokens_list = [split_word(txt) for txt in clean_text]"
      ]
    },
    {
      "cell_type": "code",
      "execution_count": 356,
      "metadata": {
        "colab": {
          "base_uri": "https://localhost:8080/"
        },
        "id": "2kX1k8PPPGlP",
        "outputId": "50fd5843-5a51-4df7-9ee5-46e317462cef"
      },
      "outputs": [
        {
          "data": {
            "text/plain": [
              "[['เด็ก',\n",
              "  'นักเรียน',\n",
              "  'อายุ',\n",
              "  'ปี',\n",
              "  'ฉีด',\n",
              "  'วัคซีน',\n",
              "  'ป้องกัน',\n",
              "  'โรค',\n",
              "  'โค',\n",
              "  'วิด',\n",
              "  'อาการ',\n",
              "  'ประสงค์',\n",
              "  'ฉีด',\n",
              "  'วัคซีน',\n",
              "  'สปสช',\n",
              "  'ระบบ',\n",
              "  'เบื้อง',\n",
              "  'ต้น',\n",
              "  'ดูแล',\n",
              "  'ยื่น',\n",
              "  'เรื่อง',\n",
              "  'เงิน'],\n",
              " ['อาการ',\n",
              "  'ประสงค์',\n",
              "  'ฉีด',\n",
              "  'วัคซีน',\n",
              "  'โค',\n",
              "  'วิด',\n",
              "  'แผน',\n",
              "  'งาน',\n",
              "  'โครงการ',\n",
              "  'รัฐ',\n",
              "  'ฟรี',\n",
              "  'ยื่น',\n",
              "  'เรื่อง',\n",
              "  'ขอรับ',\n",
              "  'เงิน',\n",
              "  'เบื้อง',\n",
              "  'ต้น',\n",
              "  'สำนักงาน',\n",
              "  'หลัก',\n",
              "  'ประกัน',\n",
              "  'สุขภาพ',\n",
              "  'ชาติ',\n",
              "  'สปสช',\n",
              "  'โรง',\n",
              "  'พยาบาล',\n",
              "  'ฉีด',\n",
              "  'สำนักงาน',\n",
              "  'สาธารณสุข',\n",
              "  'จังหวัด',\n",
              "  'สสจ',\n",
              "  'สำนักงาน',\n",
              "  'สปสช',\n",
              "  'สาขา',\n",
              "  'เขต',\n",
              "  'พื้นที่',\n",
              "  'เขต',\n",
              "  'เวลา',\n",
              "  'ยื่น',\n",
              "  'คำร้อง',\n",
              "  'ปี',\n",
              "  'ทราบ',\n",
              "  'หาย',\n",
              "  'ยื่น',\n",
              "  'คำร้อง',\n",
              "  'คณะ',\n",
              "  'อนุกร',\n",
              "  'รม',\n",
              "  'การฯ',\n",
              "  'ระดับ',\n",
              "  'เขต',\n",
              "  'พื้นที่',\n",
              "  'เร่ง',\n",
              "  'พิจารณา',\n",
              "  'กรณี',\n",
              "  'ยื่น',\n",
              "  'คำร้อง',\n",
              "  'วินิจฉัย',\n",
              "  'สิทธิ',\n",
              "  'ยื่น',\n",
              "  'อุทธรณ์',\n",
              "  'เลขาธิการ',\n",
              "  'สปสช',\n",
              "  'ทราบ',\n",
              "  'วินิจฉัย'],\n",
              " ['นักเรียน',\n",
              "  'เช็ค',\n",
              "  'อาการ',\n",
              "  'ประสงค์',\n",
              "  'วัคซีน',\n",
              "  'โค',\n",
              "  'วิด',\n",
              "  'หลัก',\n",
              "  'เกณฑ์',\n",
              "  'เยียวยา'],\n",
              " ['สปสช',\n",
              "  'ขานรับ',\n",
              "  'นโยบาย',\n",
              "  'รัฐบาล',\n",
              "  'ฉีด',\n",
              "  'วัคซีน',\n",
              "  'โค',\n",
              "  'วิด',\n",
              "  'เด็ก',\n",
              "  'นักเรียน',\n",
              "  'อายุ',\n",
              "  'ปี',\n",
              "  'อาการ',\n",
              "  'ประสงค์',\n",
              "  'ฉีด',\n",
              "  'วัคซีน',\n",
              "  'สปสช',\n",
              "  'ระบบ',\n",
              "  'เบื้อง',\n",
              "  'ต้น',\n",
              "  'ดูแล',\n",
              "  'ยื่น',\n",
              "  'เรื่อง',\n",
              "  'เงิน',\n",
              "  'ย้ำ',\n",
              "  'รายงาน',\n",
              "  'เคียง']]"
            ]
          },
          "execution_count": 356,
          "metadata": {},
          "output_type": "execute_result"
        }
      ],
      "source": [
        "tokens_list"
      ]
    },
    {
      "cell_type": "markdown",
      "metadata": {
        "id": "ix8vTgzsPGlP"
      },
      "source": [
        "**Step 3 + 4a: Bag of words + count word**"
      ]
    },
    {
      "cell_type": "code",
      "execution_count": 357,
      "metadata": {
        "id": "e9rdOraLPGlP"
      },
      "outputs": [],
      "source": [
        "from sklearn.feature_extraction.text import CountVectorizer\n",
        "tokens_list_j = [','.join(tkn) for tkn in tokens_list]\n",
        "cvec = CountVectorizer(analyzer=lambda x:x.split(','))\n",
        "c_feat = cvec.fit_transform(tokens_list_j)"
      ]
    },
    {
      "cell_type": "code",
      "execution_count": 358,
      "metadata": {
        "colab": {
          "base_uri": "https://localhost:8080/"
        },
        "id": "z3GqskXjPGlQ",
        "outputId": "944618c7-b7b2-4a03-8d2d-f41c4dc85abd"
      },
      "outputs": [
        {
          "data": {
            "text/plain": [
              "{'เด็ก': 52,\n",
              " 'นักเรียน': 13,\n",
              " 'อายุ': 45,\n",
              " 'ปี': 17,\n",
              " 'ฉีด': 8,\n",
              " 'วัคซีน': 31,\n",
              " 'ป้องกัน': 18,\n",
              " 'โรค': 62,\n",
              " 'โค': 60,\n",
              " 'วิด': 32,\n",
              " 'อาการ': 44,\n",
              " 'ประสงค์': 16,\n",
              " 'สปสช': 34,\n",
              " 'ระบบ': 27,\n",
              " 'เบื้อง': 53,\n",
              " 'ต้น': 11,\n",
              " 'ดูแล': 10,\n",
              " 'ยื่น': 23,\n",
              " 'เรื่อง': 55,\n",
              " 'เงิน': 50,\n",
              " 'แผน': 59,\n",
              " 'งาน': 6,\n",
              " 'โครงการ': 61,\n",
              " 'รัฐ': 28,\n",
              " 'ฟรี': 22,\n",
              " 'ขอรับ': 2,\n",
              " 'สำนักงาน': 38,\n",
              " 'หลัก': 41,\n",
              " 'ประกัน': 15,\n",
              " 'สุขภาพ': 40,\n",
              " 'ชาติ': 9,\n",
              " 'โรง': 63,\n",
              " 'พยาบาล': 19,\n",
              " 'สาธารณสุข': 37,\n",
              " 'จังหวัด': 7,\n",
              " 'สสจ': 35,\n",
              " 'สาขา': 36,\n",
              " 'เขต': 48,\n",
              " 'พื้นที่': 21,\n",
              " 'เวลา': 58,\n",
              " 'คำร้อง': 5,\n",
              " 'ทราบ': 12,\n",
              " 'หาย': 42,\n",
              " 'คณะ': 4,\n",
              " 'อนุกร': 43,\n",
              " 'รม': 25,\n",
              " 'การฯ': 1,\n",
              " 'ระดับ': 26,\n",
              " 'เร่ง': 56,\n",
              " 'พิจารณา': 20,\n",
              " 'กรณี': 0,\n",
              " 'วินิจฉัย': 33,\n",
              " 'สิทธิ': 39,\n",
              " 'อุทธรณ์': 46,\n",
              " 'เลขาธิการ': 57,\n",
              " 'เช็ค': 51,\n",
              " 'เกณฑ์': 47,\n",
              " 'เยียวยา': 54,\n",
              " 'ขานรับ': 3,\n",
              " 'นโยบาย': 14,\n",
              " 'รัฐบาล': 29,\n",
              " 'ย้ำ': 24,\n",
              " 'รายงาน': 30,\n",
              " 'เคียง': 49}"
            ]
          },
          "execution_count": 358,
          "metadata": {},
          "output_type": "execute_result"
        }
      ],
      "source": [
        "cvec.vocabulary_"
      ]
    },
    {
      "cell_type": "code",
      "execution_count": 359,
      "metadata": {
        "colab": {
          "base_uri": "https://localhost:8080/"
        },
        "id": "3cixJl9tPGlQ",
        "outputId": "6425d58e-f47c-4c61-c2af-c5468295dbd7"
      },
      "outputs": [
        {
          "data": {
            "text/plain": [
              "matrix([[0, 0, 0, 0, 0, 0, 0, 0, 2, 0, 1, 1, 0, 1, 0, 0, 1, 1, 1, 0, 0,\n",
              "         0, 0, 1, 0, 0, 0, 1, 0, 0, 0, 2, 1, 0, 1, 0, 0, 0, 0, 0, 0, 0,\n",
              "         0, 0, 1, 1, 0, 0, 0, 0, 1, 0, 1, 1, 0, 1, 0, 0, 0, 0, 1, 0, 1,\n",
              "         0],\n",
              "        [1, 1, 1, 0, 1, 3, 1, 1, 2, 1, 0, 1, 2, 0, 0, 1, 1, 1, 0, 1, 1,\n",
              "         2, 1, 5, 0, 1, 1, 0, 1, 0, 0, 1, 1, 2, 3, 1, 1, 1, 3, 1, 1, 1,\n",
              "         1, 1, 1, 0, 1, 0, 3, 0, 1, 0, 0, 1, 0, 1, 1, 1, 1, 1, 1, 1, 0,\n",
              "         1],\n",
              "        [0, 0, 0, 0, 0, 0, 0, 0, 0, 0, 0, 0, 0, 1, 0, 0, 1, 0, 0, 0, 0,\n",
              "         0, 0, 0, 0, 0, 0, 0, 0, 0, 0, 1, 1, 0, 0, 0, 0, 0, 0, 0, 0, 1,\n",
              "         0, 0, 1, 0, 0, 1, 0, 0, 0, 1, 0, 0, 1, 0, 0, 0, 0, 0, 1, 0, 0,\n",
              "         0],\n",
              "        [0, 0, 0, 1, 0, 0, 0, 0, 2, 0, 1, 1, 0, 1, 1, 0, 1, 1, 0, 0, 0,\n",
              "         0, 0, 1, 1, 0, 0, 1, 0, 1, 1, 2, 1, 0, 2, 0, 0, 0, 0, 0, 0, 0,\n",
              "         0, 0, 1, 1, 0, 0, 0, 1, 1, 0, 1, 1, 0, 1, 0, 0, 0, 0, 1, 0, 0,\n",
              "         0]], dtype=int64)"
            ]
          },
          "execution_count": 359,
          "metadata": {},
          "output_type": "execute_result"
        }
      ],
      "source": [
        "c_feat[:,:].todense()"
      ]
    },
    {
      "cell_type": "code",
      "execution_count": 360,
      "metadata": {
        "colab": {
          "base_uri": "https://localhost:8080/"
        },
        "id": "mtkRpu9GPGlQ",
        "outputId": "3550b58a-4d60-41aa-81cf-b587130e35b6"
      },
      "outputs": [
        {
          "name": "stdout",
          "output_type": "stream",
          "text": [
            "[[0 0 0 0 0 0 0 0 2 0 1 1 0 1 0 0 1 1 1 0 0 0 0 1 0 0 0 1 0 0 0 2 1 0 1 0\n",
            "  0 0 0 0 0 0 0 0 1 1 0 0 0 0 1 0 1 1 0 1 0 0 0 0 1 0 1 0]\n",
            " [1 1 1 0 1 3 1 1 2 1 0 1 2 0 0 1 1 1 0 1 1 2 1 5 0 1 1 0 1 0 0 1 1 2 3 1\n",
            "  1 1 3 1 1 1 1 1 1 0 1 0 3 0 1 0 0 1 0 1 1 1 1 1 1 1 0 1]\n",
            " [0 0 0 0 0 0 0 0 0 0 0 0 0 1 0 0 1 0 0 0 0 0 0 0 0 0 0 0 0 0 0 1 1 0 0 0\n",
            "  0 0 0 0 0 1 0 0 1 0 0 1 0 0 0 1 0 0 1 0 0 0 0 0 1 0 0 0]\n",
            " [0 0 0 1 0 0 0 0 2 0 1 1 0 1 1 0 1 1 0 0 0 0 0 1 1 0 0 1 0 1 1 2 1 0 2 0\n",
            "  0 0 0 0 0 0 0 0 1 1 0 0 0 1 1 0 1 1 0 1 0 0 0 0 1 0 0 0]]\n"
          ]
        }
      ],
      "source": [
        "#first_news เป็น array ของข่าว โดย row ที่ 1 = ข่าวที่ต้องการตรวจสอบจาก cofact, row ที่ 2 = ข้อความสรุปใน cofact, row ที่ 3 = หัวข้อข่าวที่เชื่อถือได้ , row ที่ 4 = เนื้อหาข่าว paragraph แรกของข่าวที่เชื่อถือได้\n",
        "first_news = c_feat[:,:].todense()\n",
        "print(first_news) "
      ]
    },
    {
      "cell_type": "code",
      "execution_count": 361,
      "metadata": {
        "colab": {
          "base_uri": "https://localhost:8080/"
        },
        "id": "2KhBTy2aPGlQ",
        "outputId": "2ad1d637-8d1f-4aa7-b401-6f7ee48ad480"
      },
      "outputs": [
        {
          "data": {
            "text/plain": [
              "64"
            ]
          },
          "execution_count": 361,
          "metadata": {},
          "output_type": "execute_result"
        }
      ],
      "source": [
        "first_news.shape[1]"
      ]
    },
    {
      "cell_type": "code",
      "execution_count": 362,
      "metadata": {
        "colab": {
          "base_uri": "https://localhost:8080/"
        },
        "id": "0dq2lRqjPGlQ",
        "outputId": "4ee314e5-1f5b-4232-8e53-4b3652d78515"
      },
      "outputs": [
        {
          "name": "stdout",
          "output_type": "stream",
          "text": [
            "This is sum (upperpart) : 23\n",
            "This is lowerpart : 54.91812087098392\n"
          ]
        },
        {
          "data": {
            "text/plain": [
              "0.41880529841930714"
            ]
          },
          "execution_count": 362,
          "metadata": {},
          "output_type": "execute_result"
        }
      ],
      "source": [
        "find_cosine_similarity(first_news, 0, 1) #เทียบ ข้อความที่ต้องการตรวจสอบบน cofact กับ ข้อความสรุปใน cofact"
      ]
    },
    {
      "cell_type": "code",
      "execution_count": 363,
      "metadata": {
        "colab": {
          "base_uri": "https://localhost:8080/"
        },
        "id": "K1UUVCBUPGlR",
        "outputId": "1c032c00-4b92-4ad9-acaf-00090f23cacd"
      },
      "outputs": [
        {
          "name": "stdout",
          "output_type": "stream",
          "text": [
            "This is sum (upperpart) : 7\n",
            "This is lowerpart : 16.1245154965971\n"
          ]
        },
        {
          "data": {
            "text/plain": [
              "0.43412157106222965"
            ]
          },
          "execution_count": 363,
          "metadata": {},
          "output_type": "execute_result"
        }
      ],
      "source": [
        "find_cosine_similarity(first_news, 0, 2)#เทียบ ข้อความที่ต้องการตรวจสอบบน cofact กับ หัวข้อข่าวที่เชื่อถือได้"
      ]
    },
    {
      "cell_type": "code",
      "execution_count": 364,
      "metadata": {
        "colab": {
          "base_uri": "https://localhost:8080/"
        },
        "id": "9Eb0TKoVPGlR",
        "outputId": "9cc81656-7ac2-4056-db75-1ffe30bfde72"
      },
      "outputs": [
        {
          "name": "stdout",
          "output_type": "stream",
          "text": [
            "This is sum (upperpart) : 25\n",
            "This is lowerpart : 29.291637031753616\n"
          ]
        },
        {
          "data": {
            "text/plain": [
              "0.8534859274986487"
            ]
          },
          "execution_count": 364,
          "metadata": {},
          "output_type": "execute_result"
        }
      ],
      "source": [
        "find_cosine_similarity(first_news, 0, 3)#เทียบ ข้อความที่ต้องการตรวจสอบบน cofact กับ เนื้อหาข่าว paragraph แรกของข่าวที่เชื่อถือได้"
      ]
    },
    {
      "cell_type": "code",
      "execution_count": null,
      "metadata": {
        "id": "cvJ7hj4idysd"
      },
      "outputs": [],
      "source": []
    },
    {
      "cell_type": "markdown",
      "metadata": {
        "id": "nF96ym3OdzEW"
      },
      "source": [
        "# ข่าวที่ 31"
      ]
    },
    {
      "cell_type": "code",
      "execution_count": 365,
      "metadata": {
        "id": "eLtxzMR_dzEW"
      },
      "outputs": [],
      "source": [
        "clean_text = ['มีการส่งต่อในกลุ่มไลน์ให้พึงระวัง ผู้ไม่ประสงค์ดีนำเอาตะปูไปใส่ไว้ในลูกส้มแป้น','อ.เจษฎา นักวิชาการอิสระ แจงชัด แชร์เตือนภัย ‘ส้มตะปู’ แท้จริงเกิดในอินโดฯวันนี้ (12 ม.ค.) ล่าสุด อ.เจษฎา เด่นดวงบริพันธ์ ผู้ช่วยศาสตราจารย์ภาควิชาชีววิทยา คณะวิทยาศาสตร์ จุฬาลงกรณ์มหาวิทยาลัย ได้ออกมาแสดงความเห็นต่อเรื่องดังกล่าวว่า“เรื่องส้มสอดไส้ตะปู เป็นเรื่องในอินโดนีเซีย”','เฉลยแล้ว! แชร์เตือนภัย ‘ส้มตะปู’ แท้จริงเกิดในอินโดฯ','อ.เจษฎา นักวิชาการอิสระ แจงชัด แชร์เตือนภัย ‘ส้มตะปู’ แท้จริงเกิดในอินโดฯ วันนี้ (12 ม.ค.) ล่าสุด อ.เจษฎา เด่นดวงบริพันธ์ ผู้ช่วยศาสตราจารย์ภาควิชาชีววิทยา คณะวิทยาศาสตร์ จุฬาลงกรณ์มหาวิทยาลัย ได้ออกมาแสดงความเห็นต่อเรื่องดังกล่าวว่า“เรื่องส้มสอดไส้ตะปู เป็นเรื่องในอินโดนีเซีย”กะแล้วว่าเป็นแค่ข่าวลือ ไม่ใช่เรื่องจริงในไทย เห็นมีแต่รูปกับลือกันว่าโดนกันแถวประจวบฯ ไม่เห็นมีข่าวจริง ๆ เป็นทางการว่าใครโดนไปบ้าง แต่ยังไงก็ระวัง ๆ กันไว้ก็ดีครับ แชร์กันกระหน่ำขนาดนี้ มิจฉาชีพได้ไอเดียทำมาหากินเพิ่มขึ้น ปล. แล้วเวลาจะขับรถหลบส้มหรือของอะไรที่หล่นพื้นอยู่ ดูรถข้าง ๆ ด้วยนะครับ เดี๋ยวพลาดชนกันอีก']"
      ]
    },
    {
      "cell_type": "markdown",
      "metadata": {
        "id": "jGQo9vrZdzEX"
      },
      "source": [
        "**Step 2: Tokenize**"
      ]
    },
    {
      "cell_type": "code",
      "execution_count": 366,
      "metadata": {
        "colab": {
          "base_uri": "https://localhost:8080/"
        },
        "id": "NbVRZyn3dzEX",
        "outputId": "e09f8806-7b91-4dc8-8420-16cd66ade11c"
      },
      "outputs": [
        {
          "name": "stdout",
          "output_type": "stream",
          "text": [
            "tokenized text:\n",
            " ['ไลน์', 'ระวัง', 'ประสงค์', 'ดี', 'ตะปู', 'ใส่', 'ลูก', 'ส้ม', 'แป้น']\n",
            "tokenized text:\n",
            " ['อ', 'เจษฎา', 'วิชาการ', 'อิสระ', 'แจง', 'ชัด', 'แชร์', 'เตือน', 'ภัย', 'ส้ม', 'ตะปู', 'อิน', 'โดฯ', 'ม', 'ค', 'อ', 'เจษฎา', 'เด่น', 'ดวง', 'บริพันธ์', 'ศาสตราจารย์', 'วิชา', 'ชีววิทยา', 'คณะ', 'วิทยาศาสตร์', 'จุฬาลงกรณ์', 'มหาวิทยาลัย', 'เรื่อง', 'เรื่อง', 'ส้ม', 'สอดไส้', 'ตะปู', 'เรื่อง', 'อินโดนีเซีย']\n",
            "tokenized text:\n",
            " ['เฉลย', 'แชร์', 'เตือน', 'ภัย', 'ส้ม', 'ตะปู', 'อิน', 'โดฯ']\n",
            "tokenized text:\n",
            " ['อ', 'เจษฎา', 'วิชาการ', 'อิสระ', 'แจง', 'ชัด', 'แชร์', 'เตือน', 'ภัย', 'ส้ม', 'ตะปู', 'อิน', 'โดฯ', 'ม', 'ค', 'อ', 'เจษฎา', 'เด่น', 'ดวง', 'บริพันธ์', 'ศาสตราจารย์', 'วิชา', 'ชีววิทยา', 'คณะ', 'วิทยาศาสตร์', 'จุฬาลงกรณ์', 'มหาวิทยาลัย', 'เรื่อง', 'เรื่อง', 'ส้ม', 'สอดไส้', 'ตะปู', 'เรื่อง', 'อินโดนีเซีย', 'กะ', 'ข่าว', 'ลือ', 'เรื่อง', 'ไทย', 'รูป', 'ลือ', 'โดน', 'แถว', 'ประ', 'จวบฯ', 'ข่าว', 'ทางการ', 'โดน', 'ระวัง', 'ดี', 'แชร์', 'กระหน่ำ', 'ขนาด', 'มิจฉาชีพ', 'ไอ', 'เดีย', 'ทำ', 'หากิน', 'ปล', 'เวลา', 'ขับ', 'รถ', 'หลบ', 'ส้ม', 'หล่น', 'พื้น', 'ดู', 'รถ', 'เดี๋ยว', 'พลาด', 'ชน']\n"
          ]
        }
      ],
      "source": [
        "print('tokenized text:\\n',split_word(clean_text[0])) #ข้อความที่ต้องการตรวจสอบบน cofact\n",
        "print('tokenized text:\\n',split_word(clean_text[1])) #ข้อความสรุปใน cofact\n",
        "print('tokenized text:\\n',split_word(clean_text[2])) #หัวข่าวอ้างอิง\n",
        "print('tokenized text:\\n',split_word(clean_text[3])) #เนื้อหาข่าวอ้างอิง paragraph แรก"
      ]
    },
    {
      "cell_type": "code",
      "execution_count": 367,
      "metadata": {
        "id": "dYWA6zhOdzEX"
      },
      "outputs": [],
      "source": [
        "tokens_list = [split_word(txt) for txt in clean_text]"
      ]
    },
    {
      "cell_type": "code",
      "execution_count": 368,
      "metadata": {
        "colab": {
          "base_uri": "https://localhost:8080/"
        },
        "id": "584UCUFpdzEX",
        "outputId": "2974697f-847d-497f-f5de-3c4eae38ad42"
      },
      "outputs": [
        {
          "data": {
            "text/plain": [
              "[['ไลน์', 'ระวัง', 'ประสงค์', 'ดี', 'ตะปู', 'ใส่', 'ลูก', 'ส้ม', 'แป้น'],\n",
              " ['อ',\n",
              "  'เจษฎา',\n",
              "  'วิชาการ',\n",
              "  'อิสระ',\n",
              "  'แจง',\n",
              "  'ชัด',\n",
              "  'แชร์',\n",
              "  'เตือน',\n",
              "  'ภัย',\n",
              "  'ส้ม',\n",
              "  'ตะปู',\n",
              "  'อิน',\n",
              "  'โดฯ',\n",
              "  'ม',\n",
              "  'ค',\n",
              "  'อ',\n",
              "  'เจษฎา',\n",
              "  'เด่น',\n",
              "  'ดวง',\n",
              "  'บริพันธ์',\n",
              "  'ศาสตราจารย์',\n",
              "  'วิชา',\n",
              "  'ชีววิทยา',\n",
              "  'คณะ',\n",
              "  'วิทยาศาสตร์',\n",
              "  'จุฬาลงกรณ์',\n",
              "  'มหาวิทยาลัย',\n",
              "  'เรื่อง',\n",
              "  'เรื่อง',\n",
              "  'ส้ม',\n",
              "  'สอดไส้',\n",
              "  'ตะปู',\n",
              "  'เรื่อง',\n",
              "  'อินโดนีเซีย'],\n",
              " ['เฉลย', 'แชร์', 'เตือน', 'ภัย', 'ส้ม', 'ตะปู', 'อิน', 'โดฯ'],\n",
              " ['อ',\n",
              "  'เจษฎา',\n",
              "  'วิชาการ',\n",
              "  'อิสระ',\n",
              "  'แจง',\n",
              "  'ชัด',\n",
              "  'แชร์',\n",
              "  'เตือน',\n",
              "  'ภัย',\n",
              "  'ส้ม',\n",
              "  'ตะปู',\n",
              "  'อิน',\n",
              "  'โดฯ',\n",
              "  'ม',\n",
              "  'ค',\n",
              "  'อ',\n",
              "  'เจษฎา',\n",
              "  'เด่น',\n",
              "  'ดวง',\n",
              "  'บริพันธ์',\n",
              "  'ศาสตราจารย์',\n",
              "  'วิชา',\n",
              "  'ชีววิทยา',\n",
              "  'คณะ',\n",
              "  'วิทยาศาสตร์',\n",
              "  'จุฬาลงกรณ์',\n",
              "  'มหาวิทยาลัย',\n",
              "  'เรื่อง',\n",
              "  'เรื่อง',\n",
              "  'ส้ม',\n",
              "  'สอดไส้',\n",
              "  'ตะปู',\n",
              "  'เรื่อง',\n",
              "  'อินโดนีเซีย',\n",
              "  'กะ',\n",
              "  'ข่าว',\n",
              "  'ลือ',\n",
              "  'เรื่อง',\n",
              "  'ไทย',\n",
              "  'รูป',\n",
              "  'ลือ',\n",
              "  'โดน',\n",
              "  'แถว',\n",
              "  'ประ',\n",
              "  'จวบฯ',\n",
              "  'ข่าว',\n",
              "  'ทางการ',\n",
              "  'โดน',\n",
              "  'ระวัง',\n",
              "  'ดี',\n",
              "  'แชร์',\n",
              "  'กระหน่ำ',\n",
              "  'ขนาด',\n",
              "  'มิจฉาชีพ',\n",
              "  'ไอ',\n",
              "  'เดีย',\n",
              "  'ทำ',\n",
              "  'หากิน',\n",
              "  'ปล',\n",
              "  'เวลา',\n",
              "  'ขับ',\n",
              "  'รถ',\n",
              "  'หลบ',\n",
              "  'ส้ม',\n",
              "  'หล่น',\n",
              "  'พื้น',\n",
              "  'ดู',\n",
              "  'รถ',\n",
              "  'เดี๋ยว',\n",
              "  'พลาด',\n",
              "  'ชน']]"
            ]
          },
          "execution_count": 368,
          "metadata": {},
          "output_type": "execute_result"
        }
      ],
      "source": [
        "tokens_list"
      ]
    },
    {
      "cell_type": "markdown",
      "metadata": {
        "id": "8HBfwlt0dzEY"
      },
      "source": [
        "**Step 3 + 4a: Bag of words + count word**"
      ]
    },
    {
      "cell_type": "code",
      "execution_count": 369,
      "metadata": {
        "id": "c-WUlP-edzEY"
      },
      "outputs": [],
      "source": [
        "from sklearn.feature_extraction.text import CountVectorizer\n",
        "tokens_list_j = [','.join(tkn) for tkn in tokens_list]\n",
        "cvec = CountVectorizer(analyzer=lambda x:x.split(','))\n",
        "c_feat = cvec.fit_transform(tokens_list_j)"
      ]
    },
    {
      "cell_type": "code",
      "execution_count": 370,
      "metadata": {
        "colab": {
          "base_uri": "https://localhost:8080/"
        },
        "id": "Kke1GpVCdzEY",
        "outputId": "b089adbd-0ff6-4c93-9cdf-ca8d0b1d2e02"
      },
      "outputs": [
        {
          "data": {
            "text/plain": [
              "{'ไลน์': 62,\n",
              " 'ระวัง': 29,\n",
              " 'ประสงค์': 20,\n",
              " 'ดี': 13,\n",
              " 'ตะปู': 15,\n",
              " 'ใส่': 60,\n",
              " 'ลูก': 32,\n",
              " 'ส้ม': 38,\n",
              " 'แป้น': 57,\n",
              " 'อ': 42,\n",
              " 'เจษฎา': 46,\n",
              " 'วิชาการ': 34,\n",
              " 'อิสระ': 45,\n",
              " 'แจง': 54,\n",
              " 'ชัด': 10,\n",
              " 'แชร์': 55,\n",
              " 'เตือน': 51,\n",
              " 'ภัย': 24,\n",
              " 'อิน': 43,\n",
              " 'โดฯ': 59,\n",
              " 'ม': 25,\n",
              " 'ค': 5,\n",
              " 'เด่น': 50,\n",
              " 'ดวง': 12,\n",
              " 'บริพันธ์': 18,\n",
              " 'ศาสตราจารย์': 36,\n",
              " 'วิชา': 33,\n",
              " 'ชีววิทยา': 11,\n",
              " 'คณะ': 6,\n",
              " 'วิทยาศาสตร์': 35,\n",
              " 'จุฬาลงกรณ์': 8,\n",
              " 'มหาวิทยาลัย': 26,\n",
              " 'เรื่อง': 52,\n",
              " 'สอดไส้': 37,\n",
              " 'อินโดนีเซีย': 44,\n",
              " 'เฉลย': 47,\n",
              " 'กะ': 1,\n",
              " 'ข่าว': 4,\n",
              " 'ลือ': 31,\n",
              " 'ไทย': 61,\n",
              " 'รูป': 30,\n",
              " 'โดน': 58,\n",
              " 'แถว': 56,\n",
              " 'ประ': 19,\n",
              " 'จวบฯ': 7,\n",
              " 'ทางการ': 16,\n",
              " 'กระหน่ำ': 0,\n",
              " 'ขนาด': 2,\n",
              " 'มิจฉาชีพ': 27,\n",
              " 'ไอ': 63,\n",
              " 'เดีย': 48,\n",
              " 'ทำ': 17,\n",
              " 'หากิน': 41,\n",
              " 'ปล': 21,\n",
              " 'เวลา': 53,\n",
              " 'ขับ': 3,\n",
              " 'รถ': 28,\n",
              " 'หลบ': 39,\n",
              " 'หล่น': 40,\n",
              " 'พื้น': 23,\n",
              " 'ดู': 14,\n",
              " 'เดี๋ยว': 49,\n",
              " 'พลาด': 22,\n",
              " 'ชน': 9}"
            ]
          },
          "execution_count": 370,
          "metadata": {},
          "output_type": "execute_result"
        }
      ],
      "source": [
        "cvec.vocabulary_"
      ]
    },
    {
      "cell_type": "code",
      "execution_count": 371,
      "metadata": {
        "colab": {
          "base_uri": "https://localhost:8080/"
        },
        "id": "BFIDM1jAdzEZ",
        "outputId": "1cc12591-62ad-4bf2-8a8a-af62dd1109da"
      },
      "outputs": [
        {
          "data": {
            "text/plain": [
              "matrix([[0, 0, 0, 0, 0, 0, 0, 0, 0, 0, 0, 0, 0, 1, 0, 1, 0, 0, 0, 0, 1,\n",
              "         0, 0, 0, 0, 0, 0, 0, 0, 1, 0, 0, 1, 0, 0, 0, 0, 0, 1, 0, 0, 0,\n",
              "         0, 0, 0, 0, 0, 0, 0, 0, 0, 0, 0, 0, 0, 0, 0, 1, 0, 0, 1, 0, 1,\n",
              "         0],\n",
              "        [0, 0, 0, 0, 0, 1, 1, 0, 1, 0, 1, 1, 1, 0, 0, 2, 0, 0, 1, 0, 0,\n",
              "         0, 0, 0, 1, 1, 1, 0, 0, 0, 0, 0, 0, 1, 1, 1, 1, 1, 2, 0, 0, 0,\n",
              "         2, 1, 1, 1, 2, 0, 0, 0, 1, 1, 3, 0, 1, 1, 0, 0, 0, 1, 0, 0, 0,\n",
              "         0],\n",
              "        [0, 0, 0, 0, 0, 0, 0, 0, 0, 0, 0, 0, 0, 0, 0, 1, 0, 0, 0, 0, 0,\n",
              "         0, 0, 0, 1, 0, 0, 0, 0, 0, 0, 0, 0, 0, 0, 0, 0, 0, 1, 0, 0, 0,\n",
              "         0, 1, 0, 0, 0, 1, 0, 0, 0, 1, 0, 0, 0, 1, 0, 0, 0, 1, 0, 0, 0,\n",
              "         0],\n",
              "        [1, 1, 1, 1, 2, 1, 1, 1, 1, 1, 1, 1, 1, 1, 1, 2, 1, 1, 1, 1, 0,\n",
              "         1, 1, 1, 1, 1, 1, 1, 2, 1, 1, 2, 0, 1, 1, 1, 1, 1, 3, 1, 1, 1,\n",
              "         2, 1, 1, 1, 2, 0, 1, 1, 1, 1, 4, 1, 1, 2, 1, 0, 2, 1, 0, 1, 0,\n",
              "         1]], dtype=int64)"
            ]
          },
          "execution_count": 371,
          "metadata": {},
          "output_type": "execute_result"
        }
      ],
      "source": [
        "c_feat[:,:].todense()"
      ]
    },
    {
      "cell_type": "code",
      "execution_count": 372,
      "metadata": {
        "colab": {
          "base_uri": "https://localhost:8080/"
        },
        "id": "EcFxkeCFdzEZ",
        "outputId": "5aaf83b3-979b-4d99-9fb4-46fe98c226c1"
      },
      "outputs": [
        {
          "name": "stdout",
          "output_type": "stream",
          "text": [
            "[[0 0 0 0 0 0 0 0 0 0 0 0 0 1 0 1 0 0 0 0 1 0 0 0 0 0 0 0 0 1 0 0 1 0 0 0\n",
            "  0 0 1 0 0 0 0 0 0 0 0 0 0 0 0 0 0 0 0 0 0 1 0 0 1 0 1 0]\n",
            " [0 0 0 0 0 1 1 0 1 0 1 1 1 0 0 2 0 0 1 0 0 0 0 0 1 1 1 0 0 0 0 0 0 1 1 1\n",
            "  1 1 2 0 0 0 2 1 1 1 2 0 0 0 1 1 3 0 1 1 0 0 0 1 0 0 0 0]\n",
            " [0 0 0 0 0 0 0 0 0 0 0 0 0 0 0 1 0 0 0 0 0 0 0 0 1 0 0 0 0 0 0 0 0 0 0 0\n",
            "  0 0 1 0 0 0 0 1 0 0 0 1 0 0 0 1 0 0 0 1 0 0 0 1 0 0 0 0]\n",
            " [1 1 1 1 2 1 1 1 1 1 1 1 1 1 1 2 1 1 1 1 0 1 1 1 1 1 1 1 2 1 1 2 0 1 1 1\n",
            "  1 1 3 1 1 1 2 1 1 1 2 0 1 1 1 1 4 1 1 2 1 0 2 1 0 1 0 1]]\n"
          ]
        }
      ],
      "source": [
        "#first_news เป็น array ของข่าว โดย row ที่ 1 = ข่าวที่ต้องการตรวจสอบจาก cofact, row ที่ 2 = ข้อความสรุปใน cofact, row ที่ 3 = หัวข้อข่าวที่เชื่อถือได้ , row ที่ 4 = เนื้อหาข่าว paragraph แรกของข่าวที่เชื่อถือได้\n",
        "first_news = c_feat[:,:].todense()\n",
        "print(first_news) "
      ]
    },
    {
      "cell_type": "code",
      "execution_count": 373,
      "metadata": {
        "colab": {
          "base_uri": "https://localhost:8080/"
        },
        "id": "04SGMIHJdzEZ",
        "outputId": "01e79628-1841-42e6-9817-404890828558"
      },
      "outputs": [
        {
          "data": {
            "text/plain": [
              "64"
            ]
          },
          "execution_count": 373,
          "metadata": {},
          "output_type": "execute_result"
        }
      ],
      "source": [
        "first_news.shape[1]"
      ]
    },
    {
      "cell_type": "code",
      "execution_count": 374,
      "metadata": {
        "colab": {
          "base_uri": "https://localhost:8080/"
        },
        "id": "V1ZosxKydzEZ",
        "outputId": "34cffaad-213a-4a76-eb84-5c7d963c17db"
      },
      "outputs": [
        {
          "name": "stdout",
          "output_type": "stream",
          "text": [
            "This is sum (upperpart) : 4\n",
            "This is lowerpart : 20.784609690826528\n"
          ]
        },
        {
          "data": {
            "text/plain": [
              "0.19245008972987526"
            ]
          },
          "execution_count": 374,
          "metadata": {},
          "output_type": "execute_result"
        }
      ],
      "source": [
        "find_cosine_similarity(first_news, 0, 1) #เทียบ ข้อความที่ต้องการตรวจสอบบน cofact กับ ข้อความสรุปใน cofact"
      ]
    },
    {
      "cell_type": "code",
      "execution_count": 375,
      "metadata": {
        "colab": {
          "base_uri": "https://localhost:8080/"
        },
        "id": "9xcpJhZBdzEa",
        "outputId": "9e2d4929-985f-4ed6-b045-2b2205e7b7ae"
      },
      "outputs": [
        {
          "name": "stdout",
          "output_type": "stream",
          "text": [
            "This is sum (upperpart) : 2\n",
            "This is lowerpart : 8.485281374238571\n"
          ]
        },
        {
          "data": {
            "text/plain": [
              "0.2357022603955158"
            ]
          },
          "execution_count": 375,
          "metadata": {},
          "output_type": "execute_result"
        }
      ],
      "source": [
        "find_cosine_similarity(first_news, 0, 2)#เทียบ ข้อความที่ต้องการตรวจสอบบน cofact กับ หัวข้อข่าวที่เชื่อถือได้"
      ]
    },
    {
      "cell_type": "code",
      "execution_count": 376,
      "metadata": {
        "colab": {
          "base_uri": "https://localhost:8080/"
        },
        "id": "8nzErLQhdzEa",
        "outputId": "ff505c8c-6d6f-4ba5-de39-30e1406ffb3a"
      },
      "outputs": [
        {
          "name": "stdout",
          "output_type": "stream",
          "text": [
            "This is sum (upperpart) : 7\n",
            "This is lowerpart : 30.740852297878796\n"
          ]
        },
        {
          "data": {
            "text/plain": [
              "0.2277100170213244"
            ]
          },
          "execution_count": 376,
          "metadata": {},
          "output_type": "execute_result"
        }
      ],
      "source": [
        "find_cosine_similarity(first_news, 0, 3)#เทียบ ข้อความที่ต้องการตรวจสอบบน cofact กับ เนื้อหาข่าว paragraph แรกของข่าวที่เชื่อถือได้"
      ]
    },
    {
      "cell_type": "code",
      "execution_count": null,
      "metadata": {
        "id": "UEY3qgWbeWUT"
      },
      "outputs": [],
      "source": []
    },
    {
      "cell_type": "markdown",
      "metadata": {
        "id": "OK3RD98DeWqz"
      },
      "source": [
        "# ข่าวที่ 32"
      ]
    },
    {
      "cell_type": "code",
      "execution_count": 377,
      "metadata": {
        "id": "rEM4yBLzeWq0"
      },
      "outputs": [],
      "source": [
        "clean_text = ['เด็กนักเรียนอายุ 12 ปีขึ้นไป ฉีดวัคซีนป้องกันโรคโควิด-19 หากเกิดอาการไม่พึงประสงค์หลังฉีดวัคซีน สปสช.จัดระบบช่วยเหลือเบื้องต้นดูแล ขอยื่นเรื่องรับเงินช่วยเหลือได้','ตามที่มีการนำเสนอข่าว เกี่ยวกับประเด็นเรื่อง นักเรียนที่ได้รับผลข้างเคียงหลังฉีดวัคซีนโควิด-19 สามารถยื่นเรื่องรับเงินช่วยเหลือได้ สูงสุดไม่เกิน 4 แสนบาท ทางศูนย์ต่อต้านข่าวปลอมได้ดำเนินการตรวจสอบข้อเท็จจริงโดย สำนักงานหลักประกันสุขภาพแห่งชาติ กระทรวงสาธารณสุข พบว่าประเด็นดังกล่าวนั้น เป็นข้อมูลจริง','นักเรียนที่ได้รับผลข้างเคียงหลังฉีดวัคซีนโควิด-19 สามารถยื่นเรื่องรับเงินช่วยเหลือได้ สูงสุดไม่เกิน 4 แสนบาท จริงหรือ?','ตามที่มีการนำเสนอข่าว เกี่ยวกับประเด็นเรื่อง นักเรียนที่ได้รับผลข้างเคียงหลังฉีดวัคซีนโควิด-19 สามารถยื่นเรื่องรับเงินช่วยเหลือได้ สูงสุดไม่เกิน 4 แสนบาท ทางศูนย์ต่อต้านข่าวปลอมได้ดำเนินการตรวจสอบข้อเท็จจริงโดย สำนักงานหลักประกันสุขภาพแห่งชาติ กระทรวงสาธารณสุข พบว่าประเด็นดังกล่าวนั้น เป็นข้อมูลจริง']"
      ]
    },
    {
      "cell_type": "markdown",
      "metadata": {
        "id": "gaGyIMC-eWq0"
      },
      "source": [
        "**Step 2: Tokenize**"
      ]
    },
    {
      "cell_type": "code",
      "execution_count": 378,
      "metadata": {
        "colab": {
          "base_uri": "https://localhost:8080/"
        },
        "id": "6Uvfk17WeWq0",
        "outputId": "073397ec-c187-45c4-f84a-2fc484834b97"
      },
      "outputs": [
        {
          "name": "stdout",
          "output_type": "stream",
          "text": [
            "tokenized text:\n",
            " ['เด็ก', 'นักเรียน', 'อายุ', 'ปี', 'ฉีด', 'วัคซีน', 'ป้องกัน', 'โรค', 'โค', 'วิด', 'อาการ', 'ประสงค์', 'ฉีด', 'วัคซีน', 'สปสช', 'ระบบ', 'เบื้อง', 'ต้น', 'ดูแล', 'ยื่น', 'เรื่อง', 'เงิน']\n",
            "tokenized text:\n",
            " ['การนำ', 'เสนอ', 'ข่าว', 'เกี่ยว', 'ประเด็น', 'เรื่อง', 'นักเรียน', 'เคียง', 'ฉีด', 'วัคซีน', 'โค', 'วิด', 'ยื่น', 'เรื่อง', 'เงิน', 'แสน', 'บาท', 'ศูนย์', 'ต้าน', 'ข่าว', 'ปลอม', 'ดำเนิน', 'ตรวจ', 'สอบ', 'ข้อ', 'เท็จ', 'สำนักงาน', 'หลัก', 'ประกัน', 'สุขภาพ', 'ชาติ', 'กระทรวง', 'สาธารณสุข', 'ประเด็น', 'ข้อมูล']\n",
            "tokenized text:\n",
            " ['นักเรียน', 'เคียง', 'ฉีด', 'วัคซีน', 'โค', 'วิด', 'ยื่น', 'เรื่อง', 'เงิน', 'แสน', 'บาท']\n",
            "tokenized text:\n",
            " ['การนำ', 'เสนอ', 'ข่าว', 'เกี่ยว', 'ประเด็น', 'เรื่อง', 'นักเรียน', 'เคียง', 'ฉีด', 'วัคซีน', 'โค', 'วิด', 'ยื่น', 'เรื่อง', 'เงิน', 'แสน', 'บาท', 'ศูนย์', 'ต้าน', 'ข่าว', 'ปลอม', 'ดำเนิน', 'ตรวจ', 'สอบ', 'ข้อ', 'เท็จ', 'สำนักงาน', 'หลัก', 'ประกัน', 'สุขภาพ', 'ชาติ', 'กระทรวง', 'สาธารณสุข', 'ประเด็น', 'ข้อมูล']\n"
          ]
        }
      ],
      "source": [
        "print('tokenized text:\\n',split_word(clean_text[0])) #ข้อความที่ต้องการตรวจสอบบน cofact\n",
        "print('tokenized text:\\n',split_word(clean_text[1])) #ข้อความสรุปใน cofact\n",
        "print('tokenized text:\\n',split_word(clean_text[2])) #หัวข่าวอ้างอิง\n",
        "print('tokenized text:\\n',split_word(clean_text[3])) #เนื้อหาข่าวอ้างอิง paragraph แรก"
      ]
    },
    {
      "cell_type": "code",
      "execution_count": 379,
      "metadata": {
        "id": "ulcvgYSpeWq1"
      },
      "outputs": [],
      "source": [
        "tokens_list = [split_word(txt) for txt in clean_text]"
      ]
    },
    {
      "cell_type": "code",
      "execution_count": 380,
      "metadata": {
        "colab": {
          "base_uri": "https://localhost:8080/"
        },
        "id": "U8uYPaBQeWq1",
        "outputId": "11c3ea25-b8e2-4e0f-d816-d5eec9b4787d"
      },
      "outputs": [
        {
          "data": {
            "text/plain": [
              "[['เด็ก',\n",
              "  'นักเรียน',\n",
              "  'อายุ',\n",
              "  'ปี',\n",
              "  'ฉีด',\n",
              "  'วัคซีน',\n",
              "  'ป้องกัน',\n",
              "  'โรค',\n",
              "  'โค',\n",
              "  'วิด',\n",
              "  'อาการ',\n",
              "  'ประสงค์',\n",
              "  'ฉีด',\n",
              "  'วัคซีน',\n",
              "  'สปสช',\n",
              "  'ระบบ',\n",
              "  'เบื้อง',\n",
              "  'ต้น',\n",
              "  'ดูแล',\n",
              "  'ยื่น',\n",
              "  'เรื่อง',\n",
              "  'เงิน'],\n",
              " ['การนำ',\n",
              "  'เสนอ',\n",
              "  'ข่าว',\n",
              "  'เกี่ยว',\n",
              "  'ประเด็น',\n",
              "  'เรื่อง',\n",
              "  'นักเรียน',\n",
              "  'เคียง',\n",
              "  'ฉีด',\n",
              "  'วัคซีน',\n",
              "  'โค',\n",
              "  'วิด',\n",
              "  'ยื่น',\n",
              "  'เรื่อง',\n",
              "  'เงิน',\n",
              "  'แสน',\n",
              "  'บาท',\n",
              "  'ศูนย์',\n",
              "  'ต้าน',\n",
              "  'ข่าว',\n",
              "  'ปลอม',\n",
              "  'ดำเนิน',\n",
              "  'ตรวจ',\n",
              "  'สอบ',\n",
              "  'ข้อ',\n",
              "  'เท็จ',\n",
              "  'สำนักงาน',\n",
              "  'หลัก',\n",
              "  'ประกัน',\n",
              "  'สุขภาพ',\n",
              "  'ชาติ',\n",
              "  'กระทรวง',\n",
              "  'สาธารณสุข',\n",
              "  'ประเด็น',\n",
              "  'ข้อมูล'],\n",
              " ['นักเรียน',\n",
              "  'เคียง',\n",
              "  'ฉีด',\n",
              "  'วัคซีน',\n",
              "  'โค',\n",
              "  'วิด',\n",
              "  'ยื่น',\n",
              "  'เรื่อง',\n",
              "  'เงิน',\n",
              "  'แสน',\n",
              "  'บาท'],\n",
              " ['การนำ',\n",
              "  'เสนอ',\n",
              "  'ข่าว',\n",
              "  'เกี่ยว',\n",
              "  'ประเด็น',\n",
              "  'เรื่อง',\n",
              "  'นักเรียน',\n",
              "  'เคียง',\n",
              "  'ฉีด',\n",
              "  'วัคซีน',\n",
              "  'โค',\n",
              "  'วิด',\n",
              "  'ยื่น',\n",
              "  'เรื่อง',\n",
              "  'เงิน',\n",
              "  'แสน',\n",
              "  'บาท',\n",
              "  'ศูนย์',\n",
              "  'ต้าน',\n",
              "  'ข่าว',\n",
              "  'ปลอม',\n",
              "  'ดำเนิน',\n",
              "  'ตรวจ',\n",
              "  'สอบ',\n",
              "  'ข้อ',\n",
              "  'เท็จ',\n",
              "  'สำนักงาน',\n",
              "  'หลัก',\n",
              "  'ประกัน',\n",
              "  'สุขภาพ',\n",
              "  'ชาติ',\n",
              "  'กระทรวง',\n",
              "  'สาธารณสุข',\n",
              "  'ประเด็น',\n",
              "  'ข้อมูล']]"
            ]
          },
          "execution_count": 380,
          "metadata": {},
          "output_type": "execute_result"
        }
      ],
      "source": [
        "tokens_list"
      ]
    },
    {
      "cell_type": "markdown",
      "metadata": {
        "id": "_Q7GFVmteWq1"
      },
      "source": [
        "**Step 3 + 4a: Bag of words + count word**"
      ]
    },
    {
      "cell_type": "code",
      "execution_count": 381,
      "metadata": {
        "id": "u_eqg_jgeWq1"
      },
      "outputs": [],
      "source": [
        "from sklearn.feature_extraction.text import CountVectorizer\n",
        "tokens_list_j = [','.join(tkn) for tkn in tokens_list]\n",
        "cvec = CountVectorizer(analyzer=lambda x:x.split(','))\n",
        "c_feat = cvec.fit_transform(tokens_list_j)"
      ]
    },
    {
      "cell_type": "code",
      "execution_count": 382,
      "metadata": {
        "colab": {
          "base_uri": "https://localhost:8080/"
        },
        "id": "ty9UJcjEeWq1",
        "outputId": "64f4eac2-4647-483a-e1e9-09fb45b59171"
      },
      "outputs": [
        {
          "data": {
            "text/plain": [
              "{'เด็ก': 36,\n",
              " 'นักเรียน': 12,\n",
              " 'อายุ': 32,\n",
              " 'ปี': 18,\n",
              " 'ฉีด': 5,\n",
              " 'วัคซีน': 22,\n",
              " 'ป้องกัน': 19,\n",
              " 'โรค': 43,\n",
              " 'โค': 42,\n",
              " 'วิด': 23,\n",
              " 'อาการ': 31,\n",
              " 'ประสงค์': 15,\n",
              " 'สปสช': 25,\n",
              " 'ระบบ': 21,\n",
              " 'เบื้อง': 38,\n",
              " 'ต้น': 10,\n",
              " 'ดูแล': 8,\n",
              " 'ยื่น': 20,\n",
              " 'เรื่อง': 39,\n",
              " 'เงิน': 35,\n",
              " 'การนำ': 1,\n",
              " 'เสนอ': 40,\n",
              " 'ข่าว': 2,\n",
              " 'เกี่ยว': 33,\n",
              " 'ประเด็น': 16,\n",
              " 'เคียง': 34,\n",
              " 'แสน': 41,\n",
              " 'บาท': 13,\n",
              " 'ศูนย์': 24,\n",
              " 'ต้าน': 11,\n",
              " 'ปลอม': 17,\n",
              " 'ดำเนิน': 7,\n",
              " 'ตรวจ': 9,\n",
              " 'สอบ': 26,\n",
              " 'ข้อ': 3,\n",
              " 'เท็จ': 37,\n",
              " 'สำนักงาน': 28,\n",
              " 'หลัก': 30,\n",
              " 'ประกัน': 14,\n",
              " 'สุขภาพ': 29,\n",
              " 'ชาติ': 6,\n",
              " 'กระทรวง': 0,\n",
              " 'สาธารณสุข': 27,\n",
              " 'ข้อมูล': 4}"
            ]
          },
          "execution_count": 382,
          "metadata": {},
          "output_type": "execute_result"
        }
      ],
      "source": [
        "cvec.vocabulary_"
      ]
    },
    {
      "cell_type": "code",
      "execution_count": 383,
      "metadata": {
        "colab": {
          "base_uri": "https://localhost:8080/"
        },
        "id": "QWGRJNdNeWq2",
        "outputId": "e4a8886a-a892-4540-d635-da5a0a4a0199"
      },
      "outputs": [
        {
          "data": {
            "text/plain": [
              "matrix([[0, 0, 0, 0, 0, 2, 0, 0, 1, 0, 1, 0, 1, 0, 0, 1, 0, 0, 1, 1, 1,\n",
              "         1, 2, 1, 0, 1, 0, 0, 0, 0, 0, 1, 1, 0, 0, 1, 1, 0, 1, 1, 0, 0,\n",
              "         1, 1],\n",
              "        [1, 1, 2, 1, 1, 1, 1, 1, 0, 1, 0, 1, 1, 1, 1, 0, 2, 1, 0, 0, 1,\n",
              "         0, 1, 1, 1, 0, 1, 1, 1, 1, 1, 0, 0, 1, 1, 1, 0, 1, 0, 2, 1, 1,\n",
              "         1, 0],\n",
              "        [0, 0, 0, 0, 0, 1, 0, 0, 0, 0, 0, 0, 1, 1, 0, 0, 0, 0, 0, 0, 1,\n",
              "         0, 1, 1, 0, 0, 0, 0, 0, 0, 0, 0, 0, 0, 1, 1, 0, 0, 0, 1, 0, 1,\n",
              "         1, 0],\n",
              "        [1, 1, 2, 1, 1, 1, 1, 1, 0, 1, 0, 1, 1, 1, 1, 0, 2, 1, 0, 0, 1,\n",
              "         0, 1, 1, 1, 0, 1, 1, 1, 1, 1, 0, 0, 1, 1, 1, 0, 1, 0, 2, 1, 1,\n",
              "         1, 0]], dtype=int64)"
            ]
          },
          "execution_count": 383,
          "metadata": {},
          "output_type": "execute_result"
        }
      ],
      "source": [
        "c_feat[:,:].todense()"
      ]
    },
    {
      "cell_type": "code",
      "execution_count": 384,
      "metadata": {
        "colab": {
          "base_uri": "https://localhost:8080/"
        },
        "id": "9Zl80NgoeWq2",
        "outputId": "7f6742f7-09e5-4d60-bd5c-415fe46548e1"
      },
      "outputs": [
        {
          "name": "stdout",
          "output_type": "stream",
          "text": [
            "[[0 0 0 0 0 2 0 0 1 0 1 0 1 0 0 1 0 0 1 1 1 1 2 1 0 1 0 0 0 0 0 1 1 0 0 1\n",
            "  1 0 1 1 0 0 1 1]\n",
            " [1 1 2 1 1 1 1 1 0 1 0 1 1 1 1 0 2 1 0 0 1 0 1 1 1 0 1 1 1 1 1 0 0 1 1 1\n",
            "  0 1 0 2 1 1 1 0]\n",
            " [0 0 0 0 0 1 0 0 0 0 0 0 1 1 0 0 0 0 0 0 1 0 1 1 0 0 0 0 0 0 0 0 0 0 1 1\n",
            "  0 0 0 1 0 1 1 0]\n",
            " [1 1 2 1 1 1 1 1 0 1 0 1 1 1 1 0 2 1 0 0 1 0 1 1 1 0 1 1 1 1 1 0 0 1 1 1\n",
            "  0 1 0 2 1 1 1 0]]\n"
          ]
        }
      ],
      "source": [
        "#first_news เป็น array ของข่าว โดย row ที่ 1 = ข่าวที่ต้องการตรวจสอบจาก cofact, row ที่ 2 = ข้อความสรุปใน cofact, row ที่ 3 = หัวข้อข่าวที่เชื่อถือได้ , row ที่ 4 = เนื้อหาข่าว paragraph แรกของข่าวที่เชื่อถือได้\n",
        "first_news = c_feat[:,:].todense()\n",
        "print(first_news) "
      ]
    },
    {
      "cell_type": "code",
      "execution_count": 385,
      "metadata": {
        "colab": {
          "base_uri": "https://localhost:8080/"
        },
        "id": "_IrY_2DUeWq2",
        "outputId": "7d2974b2-054b-45e0-f178-be565e0de1bf"
      },
      "outputs": [
        {
          "data": {
            "text/plain": [
              "44"
            ]
          },
          "execution_count": 385,
          "metadata": {},
          "output_type": "execute_result"
        }
      ],
      "source": [
        "first_news.shape[1]"
      ]
    },
    {
      "cell_type": "code",
      "execution_count": 386,
      "metadata": {
        "colab": {
          "base_uri": "https://localhost:8080/"
        },
        "id": "Ijsd97BneWq2",
        "outputId": "0f775c28-eb27-4b40-b1f6-0f874b8d7147"
      },
      "outputs": [
        {
          "name": "stdout",
          "output_type": "stream",
          "text": [
            "This is sum (upperpart) : 11\n",
            "This is lowerpart : 32.64965543462901\n"
          ]
        },
        {
          "data": {
            "text/plain": [
              "0.3369101405074289"
            ]
          },
          "execution_count": 386,
          "metadata": {},
          "output_type": "execute_result"
        }
      ],
      "source": [
        "find_cosine_similarity(first_news, 0, 1) #เทียบ ข้อความที่ต้องการตรวจสอบบน cofact กับ ข้อความสรุปใน cofact"
      ]
    },
    {
      "cell_type": "code",
      "execution_count": 387,
      "metadata": {
        "colab": {
          "base_uri": "https://localhost:8080/"
        },
        "id": "r4P5KtU1eWq3",
        "outputId": "6d25541d-5fa9-438f-ada6-aa98b21c27fc"
      },
      "outputs": [
        {
          "name": "stdout",
          "output_type": "stream",
          "text": [
            "This is sum (upperpart) : 10\n",
            "This is lowerpart : 16.911534525287763\n"
          ]
        },
        {
          "data": {
            "text/plain": [
              "0.5913123959890826"
            ]
          },
          "execution_count": 387,
          "metadata": {},
          "output_type": "execute_result"
        }
      ],
      "source": [
        "find_cosine_similarity(first_news, 0, 2)#เทียบ ข้อความที่ต้องการตรวจสอบบน cofact กับ หัวข้อข่าวที่เชื่อถือได้"
      ]
    },
    {
      "cell_type": "code",
      "execution_count": 388,
      "metadata": {
        "colab": {
          "base_uri": "https://localhost:8080/"
        },
        "id": "5YXappv2eWq3",
        "outputId": "c83f2a97-abb0-442a-c5fd-317515c70e9f"
      },
      "outputs": [
        {
          "name": "stdout",
          "output_type": "stream",
          "text": [
            "This is sum (upperpart) : 11\n",
            "This is lowerpart : 32.64965543462901\n"
          ]
        },
        {
          "data": {
            "text/plain": [
              "0.3369101405074289"
            ]
          },
          "execution_count": 388,
          "metadata": {},
          "output_type": "execute_result"
        }
      ],
      "source": [
        "find_cosine_similarity(first_news, 0, 3)#เทียบ ข้อความที่ต้องการตรวจสอบบน cofact กับ เนื้อหาข่าว paragraph แรกของข่าวที่เชื่อถือได้"
      ]
    },
    {
      "cell_type": "code",
      "execution_count": null,
      "metadata": {
        "id": "1syJHn3nfNz_"
      },
      "outputs": [],
      "source": []
    },
    {
      "cell_type": "markdown",
      "metadata": {
        "id": "soGqMsNffOUS"
      },
      "source": [
        "# ข่าวที่ 33"
      ]
    },
    {
      "cell_type": "code",
      "execution_count": 389,
      "metadata": {
        "id": "JNXwQTYSfOUT"
      },
      "outputs": [],
      "source": [
        "clean_text = ['ทางรัฐมีการเรียกเงินคืนจากโครงการต่างๆ เช่นโครงการคนละครึ่ง โครงการเราชนะ ซึ่งโดนทั้งร้านค้าและลูกค้าที่แสกน','พ่อค้าแม่ค้าหลายรายที่เข้าร่วมโครงการรัฐไม่ว่าจะเป็น โครงการเราชนะ โครงการ ม.33 รวมถึงโครงการคนละครึ่ง ได้รับหนังสือแจ้งจากการกระทรวงการคลังว่าต้องทำการคืนเงินให้กับรัฐบาล เนื่องจากไม่ได้ปฏิบัติตามเงื่อนไข โดยผู้ที่ได้รับหนังสือดังกล่าวสามารถติดต่อกับกระทรวงการคลังเพื่อขออุทธรณ์ และชี้แจงข้อเท็จจริง','ร้านค้า\"เราชนะ-คนละครึ่ง\"โวยถูกเรียกเงินคืนเหตุผิดเงื่อนไข\"แลกเงินสด\"','ร้านค้าโครงการรัฐ\"เราชนะ-คนละครึ่ง\" โวยถูก\"สศค.\"เรียกเงินคืนอ้างเหตุไม่ปฏิบัติตามเงื่อนไข ส่วนใหญ่เป็นร้านรับแลกเงินสด- ออนไลน์ สูงสุดเรียกคืน 17 ล้านบาท ด้านนายสามารถ อดีตผช.รมต.ยุติธรรม เตรียมนำผู้ประกอบการร้องทุกข์ต่อนายกฯที่ทำเนียบ 12 ต.ค. นี้']"
      ]
    },
    {
      "cell_type": "markdown",
      "metadata": {
        "id": "64OBcLe1fOUT"
      },
      "source": [
        "**Step 2: Tokenize**"
      ]
    },
    {
      "cell_type": "code",
      "execution_count": 390,
      "metadata": {
        "colab": {
          "base_uri": "https://localhost:8080/"
        },
        "id": "fs-o4d_AfOUT",
        "outputId": "38554626-b971-4c1f-bf38-c8298f63a4f8"
      },
      "outputs": [
        {
          "name": "stdout",
          "output_type": "stream",
          "text": [
            "tokenized text:\n",
            " ['รัฐ', 'เงิน', 'คืน', 'โครงการ', 'โครงการ', 'คนละ', 'ครึ่ง', 'โครงการ', 'ชนะ', 'โดน', 'ร้าน', 'ค้า', 'ลูกค้า', 'แส', 'กน']\n",
            "tokenized text:\n",
            " ['พ่อค้า', 'แม่ค้า', 'โครงการ', 'รัฐ', 'โครงการ', 'ชนะ', 'โครงการ', 'ม', 'โครงการ', 'คนละ', 'ครึ่ง', 'หนังสือ', 'แจ้ง', 'การก', 'ระ', 'ทรวง', 'คลัง', 'ทำการ', 'คืน', 'เงิน', 'รัฐบาล', 'เงื่อนไข', 'หนังสือ', 'ติดต่อ', 'กระทรวง', 'คลัง', 'อุทธรณ์', 'ชี้แจง', 'ข้อ', 'เท็จ']\n",
            "tokenized text:\n",
            " ['ร้าน', 'ค้า', 'ชนะ', 'คนละ', 'ครึ่ง', 'โวย', 'เงิน', 'คืน', 'เงื่อนไข', 'แลก', 'เงินสด']\n",
            "tokenized text:\n",
            " ['ร้าน', 'ค้า', 'โครงการ', 'รัฐ', 'ชนะ', 'คนละ', 'ครึ่ง', 'โวย', 'สศค', 'เงิน', 'คืน', 'อ้าง', 'เงื่อนไข', 'ร้าน', 'แลก', 'เงินสด', 'ออนไลน์', 'คืน', 'ล้าน', 'บาท', 'ผช', 'รมต', 'ยุติธรรม', 'เตรียม', 'ร้อง', 'ทุกข์', 'นา', 'ยกฯ', 'ทำเนียบ', 'ต', 'ค']\n"
          ]
        }
      ],
      "source": [
        "print('tokenized text:\\n',split_word(clean_text[0])) #ข้อความที่ต้องการตรวจสอบบน cofact\n",
        "print('tokenized text:\\n',split_word(clean_text[1])) #ข้อความสรุปใน cofact\n",
        "print('tokenized text:\\n',split_word(clean_text[2])) #หัวข่าวอ้างอิง\n",
        "print('tokenized text:\\n',split_word(clean_text[3])) #เนื้อหาข่าวอ้างอิง paragraph แรก"
      ]
    },
    {
      "cell_type": "code",
      "execution_count": 391,
      "metadata": {
        "id": "0uG1XiT9fOUT"
      },
      "outputs": [],
      "source": [
        "tokens_list = [split_word(txt) for txt in clean_text]"
      ]
    },
    {
      "cell_type": "code",
      "execution_count": 392,
      "metadata": {
        "colab": {
          "base_uri": "https://localhost:8080/"
        },
        "id": "q2ynTZ6BfOUU",
        "outputId": "7ddc611b-da7e-4cc4-d063-3fc025f70801"
      },
      "outputs": [
        {
          "data": {
            "text/plain": [
              "[['รัฐ',\n",
              "  'เงิน',\n",
              "  'คืน',\n",
              "  'โครงการ',\n",
              "  'โครงการ',\n",
              "  'คนละ',\n",
              "  'ครึ่ง',\n",
              "  'โครงการ',\n",
              "  'ชนะ',\n",
              "  'โดน',\n",
              "  'ร้าน',\n",
              "  'ค้า',\n",
              "  'ลูกค้า',\n",
              "  'แส',\n",
              "  'กน'],\n",
              " ['พ่อค้า',\n",
              "  'แม่ค้า',\n",
              "  'โครงการ',\n",
              "  'รัฐ',\n",
              "  'โครงการ',\n",
              "  'ชนะ',\n",
              "  'โครงการ',\n",
              "  'ม',\n",
              "  'โครงการ',\n",
              "  'คนละ',\n",
              "  'ครึ่ง',\n",
              "  'หนังสือ',\n",
              "  'แจ้ง',\n",
              "  'การก',\n",
              "  'ระ',\n",
              "  'ทรวง',\n",
              "  'คลัง',\n",
              "  'ทำการ',\n",
              "  'คืน',\n",
              "  'เงิน',\n",
              "  'รัฐบาล',\n",
              "  'เงื่อนไข',\n",
              "  'หนังสือ',\n",
              "  'ติดต่อ',\n",
              "  'กระทรวง',\n",
              "  'คลัง',\n",
              "  'อุทธรณ์',\n",
              "  'ชี้แจง',\n",
              "  'ข้อ',\n",
              "  'เท็จ'],\n",
              " ['ร้าน',\n",
              "  'ค้า',\n",
              "  'ชนะ',\n",
              "  'คนละ',\n",
              "  'ครึ่ง',\n",
              "  'โวย',\n",
              "  'เงิน',\n",
              "  'คืน',\n",
              "  'เงื่อนไข',\n",
              "  'แลก',\n",
              "  'เงินสด'],\n",
              " ['ร้าน',\n",
              "  'ค้า',\n",
              "  'โครงการ',\n",
              "  'รัฐ',\n",
              "  'ชนะ',\n",
              "  'คนละ',\n",
              "  'ครึ่ง',\n",
              "  'โวย',\n",
              "  'สศค',\n",
              "  'เงิน',\n",
              "  'คืน',\n",
              "  'อ้าง',\n",
              "  'เงื่อนไข',\n",
              "  'ร้าน',\n",
              "  'แลก',\n",
              "  'เงินสด',\n",
              "  'ออนไลน์',\n",
              "  'คืน',\n",
              "  'ล้าน',\n",
              "  'บาท',\n",
              "  'ผช',\n",
              "  'รมต',\n",
              "  'ยุติธรรม',\n",
              "  'เตรียม',\n",
              "  'ร้อง',\n",
              "  'ทุกข์',\n",
              "  'นา',\n",
              "  'ยกฯ',\n",
              "  'ทำเนียบ',\n",
              "  'ต',\n",
              "  'ค']]"
            ]
          },
          "execution_count": 392,
          "metadata": {},
          "output_type": "execute_result"
        }
      ],
      "source": [
        "tokens_list"
      ]
    },
    {
      "cell_type": "markdown",
      "metadata": {
        "id": "PoHS2zTNfOUU"
      },
      "source": [
        "**Step 3 + 4a: Bag of words + count word**"
      ]
    },
    {
      "cell_type": "code",
      "execution_count": 393,
      "metadata": {
        "id": "BBwVLy3mfOUU"
      },
      "outputs": [],
      "source": [
        "from sklearn.feature_extraction.text import CountVectorizer\n",
        "tokens_list_j = [','.join(tkn) for tkn in tokens_list]\n",
        "cvec = CountVectorizer(analyzer=lambda x:x.split(','))\n",
        "c_feat = cvec.fit_transform(tokens_list_j)"
      ]
    },
    {
      "cell_type": "code",
      "execution_count": 394,
      "metadata": {
        "colab": {
          "base_uri": "https://localhost:8080/"
        },
        "id": "R7LvPXSXfOUU",
        "outputId": "3cda727d-5fe8-4dc4-90d4-aefc5da938f0"
      },
      "outputs": [
        {
          "data": {
            "text/plain": [
              "{'รัฐ': 27,\n",
              " 'เงิน': 38,\n",
              " 'คืน': 8,\n",
              " 'โครงการ': 47,\n",
              " 'คนละ': 5,\n",
              " 'ครึ่ง': 6,\n",
              " 'ชนะ': 10,\n",
              " 'โดน': 48,\n",
              " 'ร้าน': 30,\n",
              " 'ค้า': 9,\n",
              " 'ลูกค้า': 31,\n",
              " 'แส': 46,\n",
              " 'กน': 0,\n",
              " 'พ่อค้า': 21,\n",
              " 'แม่ค้า': 44,\n",
              " 'ม': 22,\n",
              " 'หนังสือ': 34,\n",
              " 'แจ้ง': 43,\n",
              " 'การก': 2,\n",
              " 'ระ': 26,\n",
              " 'ทรวง': 14,\n",
              " 'คลัง': 7,\n",
              " 'ทำการ': 15,\n",
              " 'รัฐบาล': 28,\n",
              " 'เงื่อนไข': 40,\n",
              " 'ติดต่อ': 13,\n",
              " 'กระทรวง': 1,\n",
              " 'อุทธรณ์': 36,\n",
              " 'ชี้แจง': 11,\n",
              " 'ข้อ': 3,\n",
              " 'เท็จ': 42,\n",
              " 'โวย': 49,\n",
              " 'แลก': 45,\n",
              " 'เงินสด': 39,\n",
              " 'สศค': 33,\n",
              " 'อ้าง': 37,\n",
              " 'ออนไลน์': 35,\n",
              " 'ล้าน': 32,\n",
              " 'บาท': 19,\n",
              " 'ผช': 20,\n",
              " 'รมต': 25,\n",
              " 'ยุติธรรม': 24,\n",
              " 'เตรียม': 41,\n",
              " 'ร้อง': 29,\n",
              " 'ทุกข์': 17,\n",
              " 'นา': 18,\n",
              " 'ยกฯ': 23,\n",
              " 'ทำเนียบ': 16,\n",
              " 'ต': 12,\n",
              " 'ค': 4}"
            ]
          },
          "execution_count": 394,
          "metadata": {},
          "output_type": "execute_result"
        }
      ],
      "source": [
        "cvec.vocabulary_"
      ]
    },
    {
      "cell_type": "code",
      "execution_count": 395,
      "metadata": {
        "colab": {
          "base_uri": "https://localhost:8080/"
        },
        "id": "Esi5siFlfOUU",
        "outputId": "b7b6d3c1-eced-4132-ab50-9b1f007a66db"
      },
      "outputs": [
        {
          "data": {
            "text/plain": [
              "matrix([[1, 0, 0, 0, 0, 1, 1, 0, 1, 1, 1, 0, 0, 0, 0, 0, 0, 0, 0, 0, 0,\n",
              "         0, 0, 0, 0, 0, 0, 1, 0, 0, 1, 1, 0, 0, 0, 0, 0, 0, 1, 0, 0, 0,\n",
              "         0, 0, 0, 0, 1, 3, 1, 0],\n",
              "        [0, 1, 1, 1, 0, 1, 1, 2, 1, 0, 1, 1, 0, 1, 1, 1, 0, 0, 0, 0, 0,\n",
              "         1, 1, 0, 0, 0, 1, 1, 1, 0, 0, 0, 0, 0, 2, 0, 1, 0, 1, 0, 1, 0,\n",
              "         1, 1, 1, 0, 0, 4, 0, 0],\n",
              "        [0, 0, 0, 0, 0, 1, 1, 0, 1, 1, 1, 0, 0, 0, 0, 0, 0, 0, 0, 0, 0,\n",
              "         0, 0, 0, 0, 0, 0, 0, 0, 0, 1, 0, 0, 0, 0, 0, 0, 0, 1, 1, 1, 0,\n",
              "         0, 0, 0, 1, 0, 0, 0, 1],\n",
              "        [0, 0, 0, 0, 1, 1, 1, 0, 2, 1, 1, 0, 1, 0, 0, 0, 1, 1, 1, 1, 1,\n",
              "         0, 0, 1, 1, 1, 0, 1, 0, 1, 2, 0, 1, 1, 0, 1, 0, 1, 1, 1, 1, 1,\n",
              "         0, 0, 0, 1, 0, 1, 0, 1]], dtype=int64)"
            ]
          },
          "execution_count": 395,
          "metadata": {},
          "output_type": "execute_result"
        }
      ],
      "source": [
        "c_feat[:,:].todense()"
      ]
    },
    {
      "cell_type": "code",
      "execution_count": 396,
      "metadata": {
        "colab": {
          "base_uri": "https://localhost:8080/"
        },
        "id": "dwuS20ISfOUU",
        "outputId": "4dab04b8-08ff-4068-8356-e2bbd587552d"
      },
      "outputs": [
        {
          "name": "stdout",
          "output_type": "stream",
          "text": [
            "[[1 0 0 0 0 1 1 0 1 1 1 0 0 0 0 0 0 0 0 0 0 0 0 0 0 0 0 1 0 0 1 1 0 0 0 0\n",
            "  0 0 1 0 0 0 0 0 0 0 1 3 1 0]\n",
            " [0 1 1 1 0 1 1 2 1 0 1 1 0 1 1 1 0 0 0 0 0 1 1 0 0 0 1 1 1 0 0 0 0 0 2 0\n",
            "  1 0 1 0 1 0 1 1 1 0 0 4 0 0]\n",
            " [0 0 0 0 0 1 1 0 1 1 1 0 0 0 0 0 0 0 0 0 0 0 0 0 0 0 0 0 0 0 1 0 0 0 0 0\n",
            "  0 0 1 1 1 0 0 0 0 1 0 0 0 1]\n",
            " [0 0 0 0 1 1 1 0 2 1 1 0 1 0 0 0 1 1 1 1 1 0 0 1 1 1 0 1 0 1 2 0 1 1 0 1\n",
            "  0 1 1 1 1 1 0 0 0 1 0 1 0 1]]\n"
          ]
        }
      ],
      "source": [
        "#first_news เป็น array ของข่าว โดย row ที่ 1 = ข่าวที่ต้องการตรวจสอบจาก cofact, row ที่ 2 = ข้อความสรุปใน cofact, row ที่ 3 = หัวข้อข่าวที่เชื่อถือได้ , row ที่ 4 = เนื้อหาข่าว paragraph แรกของข่าวที่เชื่อถือได้\n",
        "first_news = c_feat[:,:].todense()\n",
        "print(first_news) "
      ]
    },
    {
      "cell_type": "code",
      "execution_count": 397,
      "metadata": {
        "colab": {
          "base_uri": "https://localhost:8080/"
        },
        "id": "5fg_PK95fOUV",
        "outputId": "46b3793e-439d-4bd5-cc00-131e136e6701"
      },
      "outputs": [
        {
          "data": {
            "text/plain": [
              "50"
            ]
          },
          "execution_count": 397,
          "metadata": {},
          "output_type": "execute_result"
        }
      ],
      "source": [
        "first_news.shape[1]"
      ]
    },
    {
      "cell_type": "code",
      "execution_count": 398,
      "metadata": {
        "colab": {
          "base_uri": "https://localhost:8080/"
        },
        "id": "TeLv09TzfOUV",
        "outputId": "b23b109b-d465-49da-a245-f4d98486cb3a"
      },
      "outputs": [
        {
          "name": "stdout",
          "output_type": "stream",
          "text": [
            "This is sum (upperpart) : 18\n",
            "This is lowerpart : 31.080540535840104\n"
          ]
        },
        {
          "data": {
            "text/plain": [
              "0.5791405068790082"
            ]
          },
          "execution_count": 398,
          "metadata": {},
          "output_type": "execute_result"
        }
      ],
      "source": [
        "find_cosine_similarity(first_news, 0, 1) #เทียบ ข้อความที่ต้องการตรวจสอบบน cofact กับ ข้อความสรุปใน cofact"
      ]
    },
    {
      "cell_type": "code",
      "execution_count": 399,
      "metadata": {
        "colab": {
          "base_uri": "https://localhost:8080/"
        },
        "id": "CtnViF5UfOUV",
        "outputId": "b0ce7310-4ff8-41c4-b729-6cdbd6d6841b"
      },
      "outputs": [
        {
          "name": "stdout",
          "output_type": "stream",
          "text": [
            "This is sum (upperpart) : 7\n",
            "This is lowerpart : 15.198684153570662\n"
          ]
        },
        {
          "data": {
            "text/plain": [
              "0.46056618647183833"
            ]
          },
          "execution_count": 399,
          "metadata": {},
          "output_type": "execute_result"
        }
      ],
      "source": [
        "find_cosine_similarity(first_news, 0, 2)#เทียบ ข้อความที่ต้องการตรวจสอบบน cofact กับ หัวข้อข่าวที่เชื่อถือได้"
      ]
    },
    {
      "cell_type": "code",
      "execution_count": 400,
      "metadata": {
        "colab": {
          "base_uri": "https://localhost:8080/"
        },
        "id": "YJb6mjfZfOUV",
        "outputId": "4138e51d-ad5a-40e4-9b3e-653cfe5fc074"
      },
      "outputs": [
        {
          "name": "stdout",
          "output_type": "stream",
          "text": [
            "This is sum (upperpart) : 13\n",
            "This is lowerpart : 27.110883423451916\n"
          ]
        },
        {
          "data": {
            "text/plain": [
              "0.4795122238161564"
            ]
          },
          "execution_count": 400,
          "metadata": {},
          "output_type": "execute_result"
        }
      ],
      "source": [
        "find_cosine_similarity(first_news, 0, 3)#เทียบ ข้อความที่ต้องการตรวจสอบบน cofact กับ เนื้อหาข่าว paragraph แรกของข่าวที่เชื่อถือได้"
      ]
    },
    {
      "cell_type": "code",
      "execution_count": null,
      "metadata": {
        "id": "XYbvIJhPfxZI"
      },
      "outputs": [],
      "source": []
    },
    {
      "cell_type": "markdown",
      "metadata": {
        "id": "LW6Ft63wfxuX"
      },
      "source": [
        "# ข่าวที่ 34"
      ]
    },
    {
      "cell_type": "code",
      "execution_count": 401,
      "metadata": {
        "id": "9gS3rfH4fxuX"
      },
      "outputs": [],
      "source": [
        "clean_text = ['นักวิทย์พบโรคติดเชื้ออุบัติใหม่ซุ่มเงียบในญี่ปุ่น สามารถแพร่สู่มนุษย์','คณะนักวิทยาศาสตร์ญี่ปุ่น ค้นพบไวรัสตัวหนึ่งที่ไม่เป็นที่รู้จักมาก่อน ซึ่งมีความสามารถแพร่เชื้อสู่มนุษย์ และจากการศึกษายังชี้ว่า ไวรัสอุบัติใหม่ซึ่งเรียกชื่อกันว่า \"ไวรัสเยโซ (Yezo virus)\" ตัวนี้ มีความสัมพันธ์กับเชื้อโรคที่ก่อให้เกิดไข้เลือดออกไครเมียน-คองโก (Crimean-Congo hemorrhagic fever) และเชื้อโรคแกะไนโรบี (Nairobi sheep)','นักวิทย์พบโรคติดเชื้ออุบัติใหม่ซุ่มเงียบในญี่ปุ่น เกิดจากถูก‘เห็บ’กัดแล้วแพร่ไวรัสร้ายเข้าสู่มนุษย์','คณะนักวิทยาศาสตร์ญี่ปุ่น ค้นพบไวรัสตัวหนึ่งที่ไม่เป็นที่รู้จักมาก่อน ซึ่งมีความสามารถแพร่เชื้อสู่มนุษย์ และจากการศึกษายังชี้ว่า ไวรัสอุบัติใหม่ซึ่งเรียกชื่อกันว่า \"ไวรัสเยโซ (Yezo virus)\" ตัวนี้ มีความสัมพันธ์กับเชื้อโรคที่ก่อให้เกิดไข้เลือดออกไครเมียน-คองโก (Crimean-Congo hemorrhagic fever) และเชื้อโรคแกะไนโรบี (Nairobi sheep)']"
      ]
    },
    {
      "cell_type": "markdown",
      "metadata": {
        "id": "Ah_YAZkQfxuY"
      },
      "source": [
        "**Step 2: Tokenize**"
      ]
    },
    {
      "cell_type": "code",
      "execution_count": 402,
      "metadata": {
        "colab": {
          "base_uri": "https://localhost:8080/"
        },
        "id": "jAtUqnotfxuY",
        "outputId": "552aef76-21da-4bda-d1d1-ca7e9b45212f"
      },
      "outputs": [
        {
          "name": "stdout",
          "output_type": "stream",
          "text": [
            "tokenized text:\n",
            " ['วิทย์', 'โรค', 'ติด', 'เชื้อ', 'อุบัติ', 'ซุ่ม', 'เงียบ', 'ญี่ปุ่น', 'แพร่', 'มนุษย์']\n",
            "tokenized text:\n",
            " ['คณะ', 'วิทยาศาสตร์', 'ญี่ปุ่น', 'ค้น', 'ไวรัส', 'ตัว', 'รู้จัก', 'แพร่', 'เชื้อ', 'มนุษย์', 'ศึกษา', 'ชี้', 'ไวรัส', 'อุบัติ', 'ชื่อ', 'ไว', 'รัส', 'เย', 'โซ', 'Yezo', 'virus', 'ตัว', 'สัมพันธ์', 'เชื้อ', 'โรค', 'ก่อ', 'ไข้', 'เลือด', 'ไค', 'ร', 'เมีย', 'น', 'คองโก', 'Crimean', 'Congo', 'hemorrhagic', 'fever', 'เชื้อ', 'โรค', 'แกะ', 'ไนโรบี', 'Nairobi', 'sheep']\n",
            "tokenized text:\n",
            " ['วิทย์', 'โรค', 'ติด', 'เชื้อ', 'อุบัติ', 'ซุ่ม', 'เงียบ', 'ญี่ปุ่น', 'เห็บ', 'กัด', 'แพร่', 'ไวรัส', 'ร้าย', 'มนุษย์']\n",
            "tokenized text:\n",
            " ['คณะ', 'วิทยาศาสตร์', 'ญี่ปุ่น', 'ค้น', 'ไวรัส', 'ตัว', 'รู้จัก', 'แพร่', 'เชื้อ', 'มนุษย์', 'ศึกษา', 'ชี้', 'ไวรัส', 'อุบัติ', 'ชื่อ', 'ไว', 'รัส', 'เย', 'โซ', 'Yezo', 'virus', 'ตัว', 'สัมพันธ์', 'เชื้อ', 'โรค', 'ก่อ', 'ไข้', 'เลือด', 'ไค', 'ร', 'เมีย', 'น', 'คองโก', 'Crimean', 'Congo', 'hemorrhagic', 'fever', 'เชื้อ', 'โรค', 'แกะ', 'ไนโรบี', 'Nairobi', 'sheep']\n"
          ]
        }
      ],
      "source": [
        "print('tokenized text:\\n',split_word(clean_text[0])) #ข้อความที่ต้องการตรวจสอบบน cofact\n",
        "print('tokenized text:\\n',split_word(clean_text[1])) #ข้อความสรุปใน cofact\n",
        "print('tokenized text:\\n',split_word(clean_text[2])) #หัวข่าวอ้างอิง\n",
        "print('tokenized text:\\n',split_word(clean_text[3])) #เนื้อหาข่าวอ้างอิง paragraph แรก"
      ]
    },
    {
      "cell_type": "code",
      "execution_count": 403,
      "metadata": {
        "id": "agEpzof5fxuY"
      },
      "outputs": [],
      "source": [
        "tokens_list = [split_word(txt) for txt in clean_text]"
      ]
    },
    {
      "cell_type": "code",
      "execution_count": 404,
      "metadata": {
        "colab": {
          "base_uri": "https://localhost:8080/"
        },
        "id": "2sdXrlz1fxuY",
        "outputId": "482e5ba3-cbc8-4803-e46e-27ac7f879df5"
      },
      "outputs": [
        {
          "data": {
            "text/plain": [
              "[['วิทย์',\n",
              "  'โรค',\n",
              "  'ติด',\n",
              "  'เชื้อ',\n",
              "  'อุบัติ',\n",
              "  'ซุ่ม',\n",
              "  'เงียบ',\n",
              "  'ญี่ปุ่น',\n",
              "  'แพร่',\n",
              "  'มนุษย์'],\n",
              " ['คณะ',\n",
              "  'วิทยาศาสตร์',\n",
              "  'ญี่ปุ่น',\n",
              "  'ค้น',\n",
              "  'ไวรัส',\n",
              "  'ตัว',\n",
              "  'รู้จัก',\n",
              "  'แพร่',\n",
              "  'เชื้อ',\n",
              "  'มนุษย์',\n",
              "  'ศึกษา',\n",
              "  'ชี้',\n",
              "  'ไวรัส',\n",
              "  'อุบัติ',\n",
              "  'ชื่อ',\n",
              "  'ไว',\n",
              "  'รัส',\n",
              "  'เย',\n",
              "  'โซ',\n",
              "  'Yezo',\n",
              "  'virus',\n",
              "  'ตัว',\n",
              "  'สัมพันธ์',\n",
              "  'เชื้อ',\n",
              "  'โรค',\n",
              "  'ก่อ',\n",
              "  'ไข้',\n",
              "  'เลือด',\n",
              "  'ไค',\n",
              "  'ร',\n",
              "  'เมีย',\n",
              "  'น',\n",
              "  'คองโก',\n",
              "  'Crimean',\n",
              "  'Congo',\n",
              "  'hemorrhagic',\n",
              "  'fever',\n",
              "  'เชื้อ',\n",
              "  'โรค',\n",
              "  'แกะ',\n",
              "  'ไนโรบี',\n",
              "  'Nairobi',\n",
              "  'sheep'],\n",
              " ['วิทย์',\n",
              "  'โรค',\n",
              "  'ติด',\n",
              "  'เชื้อ',\n",
              "  'อุบัติ',\n",
              "  'ซุ่ม',\n",
              "  'เงียบ',\n",
              "  'ญี่ปุ่น',\n",
              "  'เห็บ',\n",
              "  'กัด',\n",
              "  'แพร่',\n",
              "  'ไวรัส',\n",
              "  'ร้าย',\n",
              "  'มนุษย์'],\n",
              " ['คณะ',\n",
              "  'วิทยาศาสตร์',\n",
              "  'ญี่ปุ่น',\n",
              "  'ค้น',\n",
              "  'ไวรัส',\n",
              "  'ตัว',\n",
              "  'รู้จัก',\n",
              "  'แพร่',\n",
              "  'เชื้อ',\n",
              "  'มนุษย์',\n",
              "  'ศึกษา',\n",
              "  'ชี้',\n",
              "  'ไวรัส',\n",
              "  'อุบัติ',\n",
              "  'ชื่อ',\n",
              "  'ไว',\n",
              "  'รัส',\n",
              "  'เย',\n",
              "  'โซ',\n",
              "  'Yezo',\n",
              "  'virus',\n",
              "  'ตัว',\n",
              "  'สัมพันธ์',\n",
              "  'เชื้อ',\n",
              "  'โรค',\n",
              "  'ก่อ',\n",
              "  'ไข้',\n",
              "  'เลือด',\n",
              "  'ไค',\n",
              "  'ร',\n",
              "  'เมีย',\n",
              "  'น',\n",
              "  'คองโก',\n",
              "  'Crimean',\n",
              "  'Congo',\n",
              "  'hemorrhagic',\n",
              "  'fever',\n",
              "  'เชื้อ',\n",
              "  'โรค',\n",
              "  'แกะ',\n",
              "  'ไนโรบี',\n",
              "  'Nairobi',\n",
              "  'sheep']]"
            ]
          },
          "execution_count": 404,
          "metadata": {},
          "output_type": "execute_result"
        }
      ],
      "source": [
        "tokens_list"
      ]
    },
    {
      "cell_type": "markdown",
      "metadata": {
        "id": "QT71A8DgfxuZ"
      },
      "source": [
        "**Step 3 + 4a: Bag of words + count word**"
      ]
    },
    {
      "cell_type": "code",
      "execution_count": 405,
      "metadata": {
        "id": "0kkU5Zu4fxuZ"
      },
      "outputs": [],
      "source": [
        "from sklearn.feature_extraction.text import CountVectorizer\n",
        "tokens_list_j = [','.join(tkn) for tkn in tokens_list]\n",
        "cvec = CountVectorizer(analyzer=lambda x:x.split(','))\n",
        "c_feat = cvec.fit_transform(tokens_list_j)"
      ]
    },
    {
      "cell_type": "code",
      "execution_count": 406,
      "metadata": {
        "colab": {
          "base_uri": "https://localhost:8080/"
        },
        "id": "HsCFhKjhfxuZ",
        "outputId": "a80c1e63-b61b-4245-8be4-f8b14f69f31a"
      },
      "outputs": [
        {
          "data": {
            "text/plain": [
              "{'วิทย์': 26,\n",
              " 'โรค': 39,\n",
              " 'ติด': 18,\n",
              " 'เชื้อ': 31,\n",
              " 'อุบัติ': 29,\n",
              " 'ซุ่ม': 15,\n",
              " 'เงียบ': 30,\n",
              " 'ญี่ปุ่น': 16,\n",
              " 'แพร่': 37,\n",
              " 'มนุษย์': 20,\n",
              " 'คณะ': 10,\n",
              " 'วิทยาศาสตร์': 25,\n",
              " 'ค้น': 12,\n",
              " 'ไวรัส': 44,\n",
              " 'ตัว': 17,\n",
              " 'รู้จัก': 23,\n",
              " 'ศึกษา': 27,\n",
              " 'ชี้': 13,\n",
              " 'ชื่อ': 14,\n",
              " 'ไว': 43,\n",
              " 'รัส': 22,\n",
              " 'เย': 33,\n",
              " 'โซ': 38,\n",
              " 'Yezo': 3,\n",
              " 'virus': 7,\n",
              " 'สัมพันธ์': 28,\n",
              " 'ก่อ': 9,\n",
              " 'ไข้': 40,\n",
              " 'เลือด': 34,\n",
              " 'ไค': 41,\n",
              " 'ร': 21,\n",
              " 'เมีย': 32,\n",
              " 'น': 19,\n",
              " 'คองโก': 11,\n",
              " 'Crimean': 1,\n",
              " 'Congo': 0,\n",
              " 'hemorrhagic': 5,\n",
              " 'fever': 4,\n",
              " 'แกะ': 36,\n",
              " 'ไนโรบี': 42,\n",
              " 'Nairobi': 2,\n",
              " 'sheep': 6,\n",
              " 'เห็บ': 35,\n",
              " 'กัด': 8,\n",
              " 'ร้าย': 24}"
            ]
          },
          "execution_count": 406,
          "metadata": {},
          "output_type": "execute_result"
        }
      ],
      "source": [
        "cvec.vocabulary_"
      ]
    },
    {
      "cell_type": "code",
      "execution_count": 407,
      "metadata": {
        "colab": {
          "base_uri": "https://localhost:8080/"
        },
        "id": "Rd4-GWHVfxuZ",
        "outputId": "53209fd9-1a54-48a3-e517-d027f63ca526"
      },
      "outputs": [
        {
          "data": {
            "text/plain": [
              "matrix([[0, 0, 0, 0, 0, 0, 0, 0, 0, 0, 0, 0, 0, 0, 0, 1, 1, 0, 1, 0, 1,\n",
              "         0, 0, 0, 0, 0, 1, 0, 0, 1, 1, 1, 0, 0, 0, 0, 0, 1, 0, 1, 0, 0,\n",
              "         0, 0, 0],\n",
              "        [1, 1, 1, 1, 1, 1, 1, 1, 0, 1, 1, 1, 1, 1, 1, 0, 1, 2, 0, 1, 1,\n",
              "         1, 1, 1, 0, 1, 0, 1, 1, 1, 0, 3, 1, 1, 1, 0, 1, 1, 1, 2, 1, 1,\n",
              "         1, 1, 2],\n",
              "        [0, 0, 0, 0, 0, 0, 0, 0, 1, 0, 0, 0, 0, 0, 0, 1, 1, 0, 1, 0, 1,\n",
              "         0, 0, 0, 1, 0, 1, 0, 0, 1, 1, 1, 0, 0, 0, 1, 0, 1, 0, 1, 0, 0,\n",
              "         0, 0, 1],\n",
              "        [1, 1, 1, 1, 1, 1, 1, 1, 0, 1, 1, 1, 1, 1, 1, 0, 1, 2, 0, 1, 1,\n",
              "         1, 1, 1, 0, 1, 0, 1, 1, 1, 0, 3, 1, 1, 1, 0, 1, 1, 1, 2, 1, 1,\n",
              "         1, 1, 2]], dtype=int64)"
            ]
          },
          "execution_count": 407,
          "metadata": {},
          "output_type": "execute_result"
        }
      ],
      "source": [
        "c_feat[:,:].todense()"
      ]
    },
    {
      "cell_type": "code",
      "execution_count": 408,
      "metadata": {
        "colab": {
          "base_uri": "https://localhost:8080/"
        },
        "id": "BxvmPfD_fxuZ",
        "outputId": "d2084481-403c-4b6a-8475-1cc65123d8e4"
      },
      "outputs": [
        {
          "name": "stdout",
          "output_type": "stream",
          "text": [
            "[[0 0 0 0 0 0 0 0 0 0 0 0 0 0 0 1 1 0 1 0 1 0 0 0 0 0 1 0 0 1 1 1 0 0 0 0\n",
            "  0 1 0 1 0 0 0 0 0]\n",
            " [1 1 1 1 1 1 1 1 0 1 1 1 1 1 1 0 1 2 0 1 1 1 1 1 0 1 0 1 1 1 0 3 1 1 1 0\n",
            "  1 1 1 2 1 1 1 1 2]\n",
            " [0 0 0 0 0 0 0 0 1 0 0 0 0 0 0 1 1 0 1 0 1 0 0 0 1 0 1 0 0 1 1 1 0 0 0 1\n",
            "  0 1 0 1 0 0 0 0 1]\n",
            " [1 1 1 1 1 1 1 1 0 1 1 1 1 1 1 0 1 2 0 1 1 1 1 1 0 1 0 1 1 1 0 3 1 1 1 0\n",
            "  1 1 1 2 1 1 1 1 2]]\n"
          ]
        }
      ],
      "source": [
        "#first_news เป็น array ของข่าว โดย row ที่ 1 = ข่าวที่ต้องการตรวจสอบจาก cofact, row ที่ 2 = ข้อความสรุปใน cofact, row ที่ 3 = หัวข้อข่าวที่เชื่อถือได้ , row ที่ 4 = เนื้อหาข่าว paragraph แรกของข่าวที่เชื่อถือได้\n",
        "first_news = c_feat[:,:].todense()\n",
        "print(first_news) "
      ]
    },
    {
      "cell_type": "code",
      "execution_count": 409,
      "metadata": {
        "colab": {
          "base_uri": "https://localhost:8080/"
        },
        "id": "oWOfnoq_fxua",
        "outputId": "427a63d1-822a-4719-fd83-fd511af0ec1c"
      },
      "outputs": [
        {
          "data": {
            "text/plain": [
              "45"
            ]
          },
          "execution_count": 409,
          "metadata": {},
          "output_type": "execute_result"
        }
      ],
      "source": [
        "first_news.shape[1]"
      ]
    },
    {
      "cell_type": "code",
      "execution_count": 410,
      "metadata": {
        "colab": {
          "base_uri": "https://localhost:8080/"
        },
        "id": "4aTA7Q5Nfxua",
        "outputId": "5b18c2d1-54f2-48d8-aef9-53843647da90"
      },
      "outputs": [
        {
          "name": "stdout",
          "output_type": "stream",
          "text": [
            "This is sum (upperpart) : 9\n",
            "This is lowerpart : 23.45207879911715\n"
          ]
        },
        {
          "data": {
            "text/plain": [
              "0.38376128944009874"
            ]
          },
          "execution_count": 410,
          "metadata": {},
          "output_type": "execute_result"
        }
      ],
      "source": [
        "find_cosine_similarity(first_news, 0, 1) #เทียบ ข้อความที่ต้องการตรวจสอบบน cofact กับ ข้อความสรุปใน cofact"
      ]
    },
    {
      "cell_type": "code",
      "execution_count": 411,
      "metadata": {
        "colab": {
          "base_uri": "https://localhost:8080/"
        },
        "id": "yPjoi--2fxua",
        "outputId": "0382b6e7-0918-438d-b10b-e4731f89a81a"
      },
      "outputs": [
        {
          "name": "stdout",
          "output_type": "stream",
          "text": [
            "This is sum (upperpart) : 10\n",
            "This is lowerpart : 11.832159566199232\n"
          ]
        },
        {
          "data": {
            "text/plain": [
              "0.8451542547285166"
            ]
          },
          "execution_count": 411,
          "metadata": {},
          "output_type": "execute_result"
        }
      ],
      "source": [
        "find_cosine_similarity(first_news, 0, 2)#เทียบ ข้อความที่ต้องการตรวจสอบบน cofact กับ หัวข้อข่าวที่เชื่อถือได้"
      ]
    },
    {
      "cell_type": "code",
      "execution_count": 412,
      "metadata": {
        "colab": {
          "base_uri": "https://localhost:8080/"
        },
        "id": "iYu7NvJvfxua",
        "outputId": "a0cac9c4-b159-4c6d-ee35-2ea9ed620697"
      },
      "outputs": [
        {
          "name": "stdout",
          "output_type": "stream",
          "text": [
            "This is sum (upperpart) : 9\n",
            "This is lowerpart : 23.45207879911715\n"
          ]
        },
        {
          "data": {
            "text/plain": [
              "0.38376128944009874"
            ]
          },
          "execution_count": 412,
          "metadata": {},
          "output_type": "execute_result"
        }
      ],
      "source": [
        "find_cosine_similarity(first_news, 0, 3)#เทียบ ข้อความที่ต้องการตรวจสอบบน cofact กับ เนื้อหาข่าว paragraph แรกของข่าวที่เชื่อถือได้"
      ]
    },
    {
      "cell_type": "markdown",
      "metadata": {
        "id": "LW6Ft63wfxuX"
      },
      "source": [
        "# ข่าวที่ 35"
      ]
    },
    {
      "cell_type": "code",
      "execution_count": 413,
      "metadata": {
        "id": "9gS3rfH4fxuX"
      },
      "outputs": [],
      "source": [
        "clean_text = ['Noneทางรัฐมีการเรียกเงินคืนจากโครงการต่างๆ เช่นโครงการคนละครึ่ง โครงการเราชนะ ซึ่งโดนทั้งร้านค้าและลูกค้าที่แสกน','','\"วัคซีนพาสปอร์ต\" บัตรผ่านเดินทางในต่างประเทศ เงื่อนไข ขั้นตอนการขอไม่ยุ่งยาก','']"
      ]
    },
    {
      "cell_type": "markdown",
      "metadata": {
        "id": "Ah_YAZkQfxuY"
      },
      "source": [
        "**Step 2: Tokenize**"
      ]
    },
    {
      "cell_type": "code",
      "execution_count": 414,
      "metadata": {
        "colab": {
          "base_uri": "https://localhost:8080/"
        },
        "id": "jAtUqnotfxuY",
        "outputId": "552aef76-21da-4bda-d1d1-ca7e9b45212f"
      },
      "outputs": [
        {
          "name": "stdout",
          "output_type": "stream",
          "text": [
            "tokenized text:\n",
            " ['None', 'รัฐ', 'เงิน', 'คืน', 'โครงการ', 'โครงการ', 'คนละ', 'ครึ่ง', 'โครงการ', 'ชนะ', 'โดน', 'ร้าน', 'ค้า', 'ลูกค้า', 'แส', 'กน']\n",
            "tokenized text:\n",
            " []\n",
            "tokenized text:\n",
            " ['วัคซีน', 'พาส', 'ปอร์ต', 'บัตร', 'เดิน', 'ทางใน', 'ประเทศ', 'เงื่อนไข', 'ตอน', 'ยุ่ง']\n",
            "tokenized text:\n",
            " []\n"
          ]
        }
      ],
      "source": [
        "print('tokenized text:\\n',split_word(clean_text[0])) #ข้อความที่ต้องการตรวจสอบบน cofact\n",
        "print('tokenized text:\\n',split_word(clean_text[1])) #ข้อความสรุปใน cofact\n",
        "print('tokenized text:\\n',split_word(clean_text[2])) #หัวข่าวอ้างอิง\n",
        "print('tokenized text:\\n',split_word(clean_text[3])) #เนื้อหาข่าวอ้างอิง paragraph แรก"
      ]
    },
    {
      "cell_type": "code",
      "execution_count": 415,
      "metadata": {
        "id": "agEpzof5fxuY"
      },
      "outputs": [],
      "source": [
        "tokens_list = [split_word(txt) for txt in clean_text]"
      ]
    },
    {
      "cell_type": "code",
      "execution_count": 416,
      "metadata": {
        "colab": {
          "base_uri": "https://localhost:8080/"
        },
        "id": "2sdXrlz1fxuY",
        "outputId": "482e5ba3-cbc8-4803-e46e-27ac7f879df5"
      },
      "outputs": [
        {
          "data": {
            "text/plain": [
              "[['None',\n",
              "  'รัฐ',\n",
              "  'เงิน',\n",
              "  'คืน',\n",
              "  'โครงการ',\n",
              "  'โครงการ',\n",
              "  'คนละ',\n",
              "  'ครึ่ง',\n",
              "  'โครงการ',\n",
              "  'ชนะ',\n",
              "  'โดน',\n",
              "  'ร้าน',\n",
              "  'ค้า',\n",
              "  'ลูกค้า',\n",
              "  'แส',\n",
              "  'กน'],\n",
              " [],\n",
              " ['วัคซีน',\n",
              "  'พาส',\n",
              "  'ปอร์ต',\n",
              "  'บัตร',\n",
              "  'เดิน',\n",
              "  'ทางใน',\n",
              "  'ประเทศ',\n",
              "  'เงื่อนไข',\n",
              "  'ตอน',\n",
              "  'ยุ่ง'],\n",
              " []]"
            ]
          },
          "execution_count": 416,
          "metadata": {},
          "output_type": "execute_result"
        }
      ],
      "source": [
        "tokens_list"
      ]
    },
    {
      "cell_type": "markdown",
      "metadata": {
        "id": "QT71A8DgfxuZ"
      },
      "source": [
        "**Step 3 + 4a: Bag of words + count word**"
      ]
    },
    {
      "cell_type": "code",
      "execution_count": 417,
      "metadata": {
        "id": "0kkU5Zu4fxuZ"
      },
      "outputs": [],
      "source": [
        "from sklearn.feature_extraction.text import CountVectorizer\n",
        "tokens_list_j = [','.join(tkn) for tkn in tokens_list]\n",
        "cvec = CountVectorizer(analyzer=lambda x:x.split(','))\n",
        "c_feat = cvec.fit_transform(tokens_list_j)"
      ]
    },
    {
      "cell_type": "code",
      "execution_count": 418,
      "metadata": {
        "colab": {
          "base_uri": "https://localhost:8080/"
        },
        "id": "HsCFhKjhfxuZ",
        "outputId": "a80c1e63-b61b-4245-8be4-f8b14f69f31a"
      },
      "outputs": [
        {
          "data": {
            "text/plain": [
              "{'None': 1,\n",
              " 'รัฐ': 15,\n",
              " 'เงิน': 19,\n",
              " 'คืน': 5,\n",
              " 'โครงการ': 23,\n",
              " 'คนละ': 3,\n",
              " 'ครึ่ง': 4,\n",
              " 'ชนะ': 7,\n",
              " 'โดน': 24,\n",
              " 'ร้าน': 16,\n",
              " 'ค้า': 6,\n",
              " 'ลูกค้า': 17,\n",
              " 'แส': 22,\n",
              " 'กน': 2,\n",
              " '': 0,\n",
              " 'วัคซีน': 18,\n",
              " 'พาส': 13,\n",
              " 'ปอร์ต': 12,\n",
              " 'บัตร': 10,\n",
              " 'เดิน': 21,\n",
              " 'ทางใน': 9,\n",
              " 'ประเทศ': 11,\n",
              " 'เงื่อนไข': 20,\n",
              " 'ตอน': 8,\n",
              " 'ยุ่ง': 14}"
            ]
          },
          "execution_count": 418,
          "metadata": {},
          "output_type": "execute_result"
        }
      ],
      "source": [
        "cvec.vocabulary_"
      ]
    },
    {
      "cell_type": "code",
      "execution_count": 419,
      "metadata": {
        "colab": {
          "base_uri": "https://localhost:8080/"
        },
        "id": "Rd4-GWHVfxuZ",
        "outputId": "53209fd9-1a54-48a3-e517-d027f63ca526"
      },
      "outputs": [
        {
          "data": {
            "text/plain": [
              "matrix([[0, 1, 1, 1, 1, 1, 1, 1, 0, 0, 0, 0, 0, 0, 0, 1, 1, 1, 0, 1, 0,\n",
              "         0, 1, 3, 1],\n",
              "        [1, 0, 0, 0, 0, 0, 0, 0, 0, 0, 0, 0, 0, 0, 0, 0, 0, 0, 0, 0, 0,\n",
              "         0, 0, 0, 0],\n",
              "        [0, 0, 0, 0, 0, 0, 0, 0, 1, 1, 1, 1, 1, 1, 1, 0, 0, 0, 1, 0, 1,\n",
              "         1, 0, 0, 0],\n",
              "        [1, 0, 0, 0, 0, 0, 0, 0, 0, 0, 0, 0, 0, 0, 0, 0, 0, 0, 0, 0, 0,\n",
              "         0, 0, 0, 0]], dtype=int64)"
            ]
          },
          "execution_count": 419,
          "metadata": {},
          "output_type": "execute_result"
        }
      ],
      "source": [
        "c_feat[:,:].todense()"
      ]
    },
    {
      "cell_type": "code",
      "execution_count": 420,
      "metadata": {
        "colab": {
          "base_uri": "https://localhost:8080/"
        },
        "id": "BxvmPfD_fxuZ",
        "outputId": "d2084481-403c-4b6a-8475-1cc65123d8e4"
      },
      "outputs": [
        {
          "name": "stdout",
          "output_type": "stream",
          "text": [
            "[[0 1 1 1 1 1 1 1 0 0 0 0 0 0 0 1 1 1 0 1 0 0 1 3 1]\n",
            " [1 0 0 0 0 0 0 0 0 0 0 0 0 0 0 0 0 0 0 0 0 0 0 0 0]\n",
            " [0 0 0 0 0 0 0 0 1 1 1 1 1 1 1 0 0 0 1 0 1 1 0 0 0]\n",
            " [1 0 0 0 0 0 0 0 0 0 0 0 0 0 0 0 0 0 0 0 0 0 0 0 0]]\n"
          ]
        }
      ],
      "source": [
        "#first_news เป็น array ของข่าว โดย row ที่ 1 = ข่าวที่ต้องการตรวจสอบจาก cofact, row ที่ 2 = ข้อความสรุปใน cofact, row ที่ 3 = หัวข้อข่าวที่เชื่อถือได้ , row ที่ 4 = เนื้อหาข่าว paragraph แรกของข่าวที่เชื่อถือได้\n",
        "first_news = c_feat[:,:].todense()\n",
        "print(first_news) "
      ]
    },
    {
      "cell_type": "code",
      "execution_count": 421,
      "metadata": {
        "colab": {
          "base_uri": "https://localhost:8080/"
        },
        "id": "oWOfnoq_fxua",
        "outputId": "427a63d1-822a-4719-fd83-fd511af0ec1c"
      },
      "outputs": [
        {
          "data": {
            "text/plain": [
              "25"
            ]
          },
          "execution_count": 421,
          "metadata": {},
          "output_type": "execute_result"
        }
      ],
      "source": [
        "first_news.shape[1]"
      ]
    },
    {
      "cell_type": "code",
      "execution_count": 422,
      "metadata": {
        "colab": {
          "base_uri": "https://localhost:8080/"
        },
        "id": "4aTA7Q5Nfxua",
        "outputId": "5b18c2d1-54f2-48d8-aef9-53843647da90"
      },
      "outputs": [
        {
          "name": "stdout",
          "output_type": "stream",
          "text": [
            "This is sum (upperpart) : 0\n",
            "This is lowerpart : 4.69041575982343\n"
          ]
        },
        {
          "data": {
            "text/plain": [
              "0.0"
            ]
          },
          "execution_count": 422,
          "metadata": {},
          "output_type": "execute_result"
        }
      ],
      "source": [
        "find_cosine_similarity(first_news, 0, 1) #เทียบ ข้อความที่ต้องการตรวจสอบบน cofact กับ ข้อความสรุปใน cofact"
      ]
    },
    {
      "cell_type": "code",
      "execution_count": 423,
      "metadata": {
        "colab": {
          "base_uri": "https://localhost:8080/"
        },
        "id": "yPjoi--2fxua",
        "outputId": "0382b6e7-0918-438d-b10b-e4731f89a81a"
      },
      "outputs": [
        {
          "name": "stdout",
          "output_type": "stream",
          "text": [
            "This is sum (upperpart) : 0\n",
            "This is lowerpart : 14.832396974191328\n"
          ]
        },
        {
          "data": {
            "text/plain": [
              "0.0"
            ]
          },
          "execution_count": 423,
          "metadata": {},
          "output_type": "execute_result"
        }
      ],
      "source": [
        "find_cosine_similarity(first_news, 0, 2)#เทียบ ข้อความที่ต้องการตรวจสอบบน cofact กับ หัวข้อข่าวที่เชื่อถือได้"
      ]
    },
    {
      "cell_type": "code",
      "execution_count": 424,
      "metadata": {
        "colab": {
          "base_uri": "https://localhost:8080/"
        },
        "id": "iYu7NvJvfxua",
        "outputId": "a0cac9c4-b159-4c6d-ee35-2ea9ed620697"
      },
      "outputs": [
        {
          "name": "stdout",
          "output_type": "stream",
          "text": [
            "This is sum (upperpart) : 0\n",
            "This is lowerpart : 4.69041575982343\n"
          ]
        },
        {
          "data": {
            "text/plain": [
              "0.0"
            ]
          },
          "execution_count": 424,
          "metadata": {},
          "output_type": "execute_result"
        }
      ],
      "source": [
        "find_cosine_similarity(first_news, 0, 3)#เทียบ ข้อความที่ต้องการตรวจสอบบน cofact กับ เนื้อหาข่าว paragraph แรกของข่าวที่เชื่อถือได้"
      ]
    },
    {
      "cell_type": "markdown",
      "metadata": {
        "id": "2HHRC1WF34Zb"
      },
      "source": [
        "------------------------------------   Develop Part --------------------------------------------"
      ]
    },
    {
      "cell_type": "markdown",
      "metadata": {
        "id": "nmOB-4XYp5FM"
      },
      "source": [
        "**Step 3 + 4b: Bag of words + tf-idf**"
      ]
    },
    {
      "cell_type": "code",
      "execution_count": 425,
      "metadata": {
        "id": "3BGXh4AIiVIg"
      },
      "outputs": [],
      "source": [
        "from sklearn.feature_extraction.text import TfidfVectorizer\n",
        "tvec = TfidfVectorizer(analyzer=lambda x:x.split(','),)\n",
        "t_feat = tvec.fit_transform(tokens_list_j)"
      ]
    },
    {
      "cell_type": "code",
      "execution_count": 426,
      "metadata": {
        "colab": {
          "base_uri": "https://localhost:8080/"
        },
        "id": "FXpAGrHaqLAg",
        "outputId": "60c333a4-a14a-45b4-ae87-dfd565c7a33d"
      },
      "outputs": [
        {
          "data": {
            "text/plain": [
              "matrix([[0.        , 0.21320072, 0.21320072, 0.21320072, 0.21320072],\n",
              "        [1.        , 0.        , 0.        , 0.        , 0.        ],\n",
              "        [0.        , 0.        , 0.        , 0.        , 0.        ],\n",
              "        [1.        , 0.        , 0.        , 0.        , 0.        ]])"
            ]
          },
          "execution_count": 426,
          "metadata": {},
          "output_type": "execute_result"
        }
      ],
      "source": [
        "t_feat[:,:5].todense()"
      ]
    },
    {
      "cell_type": "code",
      "execution_count": 427,
      "metadata": {
        "colab": {
          "base_uri": "https://localhost:8080/"
        },
        "id": "94JnkQ1CqMnO",
        "outputId": "6872491a-1e00-4a21-982f-7d30934e0e5c"
      },
      "outputs": [
        {
          "name": "stdout",
          "output_type": "stream",
          "text": [
            "25 25\n"
          ]
        }
      ],
      "source": [
        "print(len(tvec.idf_),len(tvec.vocabulary_))"
      ]
    },
    {
      "cell_type": "code",
      "execution_count": 428,
      "metadata": {
        "colab": {
          "base_uri": "https://localhost:8080/"
        },
        "id": "xNr2NEFwpZ6r",
        "outputId": "5ee4894b-194f-41a8-ec59-d5696225e122"
      },
      "outputs": [
        {
          "data": {
            "text/plain": [
              "matrix([[0, 1, 1, 1, 1],\n",
              "        [1, 0, 0, 0, 0],\n",
              "        [0, 0, 0, 0, 0],\n",
              "        [1, 0, 0, 0, 0]], dtype=int64)"
            ]
          },
          "execution_count": 428,
          "metadata": {},
          "output_type": "execute_result"
        }
      ],
      "source": [
        "c_feat[:,:5].todense()"
      ]
    },
    {
      "cell_type": "code",
      "execution_count": null,
      "metadata": {
        "id": "nkMP7HMKtMM6"
      },
      "outputs": [],
      "source": []
    }
  ],
  "metadata": {
    "colab": {
      "collapsed_sections": [],
      "name": "[Without Root word] News Thai Text preprocessing (Matching each part - same news).ipynb",
      "provenance": []
    },
    "interpreter": {
      "hash": "11f1dc213e07634baa4c5c321dec03c05dafae643c50f20e6d1a492290c05dc2"
    },
    "kernelspec": {
      "display_name": "Python 3.9.6 64-bit",
      "name": "python3"
    },
    "language_info": {
      "codemirror_mode": {
        "name": "ipython",
        "version": 3
      },
      "file_extension": ".py",
      "mimetype": "text/x-python",
      "name": "python",
      "nbconvert_exporter": "python",
      "pygments_lexer": "ipython3",
      "version": "3.9.6"
    }
  },
  "nbformat": 4,
  "nbformat_minor": 2
}

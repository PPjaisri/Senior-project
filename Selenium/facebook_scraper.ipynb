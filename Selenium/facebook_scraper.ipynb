{
 "cells": [
  {
   "cell_type": "code",
   "execution_count": 142,
   "source": [
    "from selenium import webdriver\r\n",
    "from selenium.webdriver.common.keys import Keys\r\n",
    "from selenium.webdriver.support import expected_conditions as EC\r\n",
    "from selenium.webdriver.common.by import By\r\n",
    "from selenium.webdriver.support.wait import WebDriverWait\r\n",
    "from msedge.selenium_tools import EdgeOptions, Edge\r\n",
    "import time\r\n",
    "import json"
   ],
   "outputs": [],
   "metadata": {}
  },
  {
   "cell_type": "code",
   "execution_count": 143,
   "source": [
    "# Connect selenium bot to the browser\r\n",
    "edge_options = EdgeOptions()\r\n",
    "edge_options.use_chromium = True\r\n",
    "prefs = {\"profile.default_content_setting_values.notifications\": 2}\r\n",
    "edge_options.add_experimental_option(\"prefs\", prefs)\r\n",
    "\r\n",
    "# connect to facebook.com\r\n",
    "driver = Edge(\r\n",
    "    executable_path='C:\\\\Users\\\\PPjaisri\\\\msedgedriver.exe', options=edge_options)\r\n",
    "driver.get('http://www.facebook.com')\r\n",
    "\r\n",
    "anonymous = True\r\n"
   ],
   "outputs": [],
   "metadata": {}
  },
  {
   "cell_type": "code",
   "execution_count": 144,
   "source": [
    "# # Log on the facebook account\r\n",
    "email = WebDriverWait(driver, 10).until(\r\n",
    "    EC.element_to_be_clickable((By.CSS_SELECTOR, \"input[name=email]\")))\r\n",
    "password = WebDriverWait(driver, 10).until(\r\n",
    "    EC.element_to_be_clickable((By.CSS_SELECTOR, \"input[name=pass]\")))\r\n",
    "\r\n",
    "email.clear()\r\n",
    "password.clear()\r\n",
    "\r\n",
    "# This is prototype if use in extension\r\n",
    "# must request the user's account from\r\n",
    "# graphs APIs from facrbook app\r\n",
    "email.send_keys('ppjaisri@gmail.com')\r\n",
    "password.send_keys('@Pp045403')\r\n",
    "\r\n",
    "logIn = WebDriverWait(driver, 10).until(EC.element_to_be_clickable(\r\n",
    "    (By.CSS_SELECTOR, \"button[type='submit']\"))).click()\r\n",
    "\r\n",
    "anomyous = True\r\n"
   ],
   "outputs": [],
   "metadata": {}
  },
  {
   "cell_type": "code",
   "execution_count": 145,
   "source": [
    "time.sleep(5)\r\n",
    "urls = [\r\n",
    "    'https://www.facebook.com/sheapgamer/posts/986758145438845'\r\n",
    "]\r\n"
   ],
   "outputs": [],
   "metadata": {}
  },
  {
   "cell_type": "code",
   "execution_count": 146,
   "source": [
    "# Anonymous scraping\r\n",
    "\r\n",
    "time.sleep(5)\r\n",
    "\r\n",
    "def closePopUp():\r\n",
    "    driver.get(urls[0])\r\n",
    "\r\n",
    "    time.sleep(5)\r\n",
    "    # anchors = driver.find_elements_by_tag_name('a')\r\n",
    "    # link = [a.text for a in anchors if a.get_attribute(\r\n",
    "    #     'id') == 'expanding_cta_close_button']\r\n",
    "\r\n",
    "    notNow = WebDriverWait(driver, 10).until(EC.element_to_be_clickable(\r\n",
    "        (By.CSS_SELECTOR, \"a[id='expanding_cta_close_button']\"))).click()"
   ],
   "outputs": [],
   "metadata": {}
  },
  {
   "cell_type": "code",
   "execution_count": 147,
   "source": [
    "# fetchong the element and resource\r\n",
    "res = []\r\n",
    "name, paragraph, link = [], [], []\r\n",
    "\r\n",
    "for url in urls:\r\n",
    "    driver.get(url)\r\n",
    "    time.sleep(5)\r\n",
    "\r\n",
    "    # if anonymous:\r\n",
    "    #     closePopUp()\r\n",
    "\r\n",
    "    driver.execute_script(\r\n",
    "        \"window.scrollTo(0, document.body.scrollHeight);\")\r\n",
    "    time.sleep(5)\r\n",
    "\r\n",
    "    anchors = driver.find_elements_by_css_selector('a strong span')\r\n",
    "    name = [name.text for name in anchors if name.text != '']\r\n",
    "\r\n",
    "    div = driver.find_elements_by_tag_name('div')\r\n",
    "    paragraph = [p.text for p in div if p.get_attribute('dir') == 'auto']\r\n",
    "\r\n",
    "    img = driver.find_elements_by_tag_name('a')\r\n",
    "    link = [a.get_attribute('href') for a in img if a.get_attribute(\r\n",
    "        'rel') == 'nofollow']\r\n",
    "\r\n",
    "    if len(link) > 0:\r\n",
    "        news = {\r\n",
    "            'page': name[0],\r\n",
    "            'text': paragraph[0],\r\n",
    "            'news-link': link[0],\r\n",
    "            'face-link': url\r\n",
    "        }\r\n",
    "    else:\r\n",
    "        news = {\r\n",
    "            'page': name[0],\r\n",
    "            'text': paragraph[0],\r\n",
    "            'news-link': None,\r\n",
    "            'face-link': url\r\n",
    "        }\r\n",
    "\r\n",
    "    res.append(news)\r\n",
    "\r\n",
    "driver.close()\r\n"
   ],
   "outputs": [],
   "metadata": {}
  },
  {
   "cell_type": "code",
   "execution_count": 148,
   "source": [
    "# save file in JSON type\r\n",
    "with open('text.json', 'a', encoding='utf-8') as f:\r\n",
    "    f.write(json.dumps(res, ensure_ascii=False))\r\n"
   ],
   "outputs": [],
   "metadata": {}
  },
  {
   "cell_type": "code",
   "execution_count": null,
   "source": [],
   "outputs": [],
   "metadata": {}
  }
 ],
 "metadata": {
  "orig_nbformat": 4,
  "language_info": {
   "name": "python",
   "version": "3.9.4",
   "mimetype": "text/x-python",
   "codemirror_mode": {
    "name": "ipython",
    "version": 3
   },
   "pygments_lexer": "ipython3",
   "nbconvert_exporter": "python",
   "file_extension": ".py"
  },
  "kernelspec": {
   "name": "python3",
   "display_name": "Python 3.9.4 64-bit"
  },
  "interpreter": {
   "hash": "d63b75b76a8f963e126cbee72a4fb575a47615490329b5c89f3401cebb414e3f"
  }
 },
 "nbformat": 4,
 "nbformat_minor": 2
}